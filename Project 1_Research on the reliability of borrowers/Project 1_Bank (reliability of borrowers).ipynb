{
 "cells": [
  {
   "cell_type": "markdown",
   "metadata": {},
   "source": [
    "# Исследование надёжности заёмщиков\n",
    "\n",
    "Заказчик — кредитный отдел банка. Нужно разобраться, влияет ли семейное положение и количество детей клиента на факт погашения кредита в срок. Входные данные от банка — статистика о платёжеспособности клиентов.\n",
    "\n",
    "Результаты исследования будут учтены при построении модели **кредитного скоринга** — специальной системы, которая оценивает способность потенциального заёмщика вернуть кредит банку."
   ]
  },
  {
   "cell_type": "markdown",
   "metadata": {},
   "source": [
    "## Шаг 1. Откройте файл с данными и изучите общую информацию"
   ]
  },
  {
   "cell_type": "code",
   "execution_count": 3,
   "metadata": {},
   "outputs": [],
   "source": [
    "import pandas as pd\n",
    "data = pd.read_csv(\"/datasets/data.csv\")"
   ]
  },
  {
   "cell_type": "code",
   "execution_count": 4,
   "metadata": {},
   "outputs": [
    {
     "name": "stdout",
     "output_type": "stream",
     "text": [
      "   children  days_employed  dob_years education  education_id  \\\n",
      "0         1   -8437.673028         42    высшее             0   \n",
      "1         1   -4024.803754         36   среднее             1   \n",
      "2         0   -5623.422610         33   Среднее             1   \n",
      "3         3   -4124.747207         32   среднее             1   \n",
      "4         0  340266.072047         53   среднее             1   \n",
      "5         0    -926.185831         27    высшее             0   \n",
      "6         0   -2879.202052         43    высшее             0   \n",
      "7         0    -152.779569         50   СРЕДНЕЕ             1   \n",
      "8         2   -6929.865299         35    ВЫСШЕЕ             0   \n",
      "9         0   -2188.756445         41   среднее             1   \n",
      "\n",
      "      family_status  family_status_id gender income_type  debt   total_income  \\\n",
      "0   женат / замужем                 0      F   сотрудник     0  253875.639453   \n",
      "1   женат / замужем                 0      F   сотрудник     0  112080.014102   \n",
      "2   женат / замужем                 0      M   сотрудник     0  145885.952297   \n",
      "3   женат / замужем                 0      M   сотрудник     0  267628.550329   \n",
      "4  гражданский брак                 1      F   пенсионер     0  158616.077870   \n",
      "5  гражданский брак                 1      M   компаньон     0  255763.565419   \n",
      "6   женат / замужем                 0      F   компаньон     0  240525.971920   \n",
      "7   женат / замужем                 0      M   сотрудник     0  135823.934197   \n",
      "8  гражданский брак                 1      F   сотрудник     0   95856.832424   \n",
      "9   женат / замужем                 0      M   сотрудник     0  144425.938277   \n",
      "\n",
      "                      purpose  \n",
      "0               покупка жилья  \n",
      "1     приобретение автомобиля  \n",
      "2               покупка жилья  \n",
      "3  дополнительное образование  \n",
      "4             сыграть свадьбу  \n",
      "5               покупка жилья  \n",
      "6           операции с жильем  \n",
      "7                 образование  \n",
      "8       на проведение свадьбы  \n",
      "9     покупка жилья для семьи  \n",
      "<class 'pandas.core.frame.DataFrame'>\n",
      "RangeIndex: 21525 entries, 0 to 21524\n",
      "Data columns (total 12 columns):\n",
      "children            21525 non-null int64\n",
      "days_employed       19351 non-null float64\n",
      "dob_years           21525 non-null int64\n",
      "education           21525 non-null object\n",
      "education_id        21525 non-null int64\n",
      "family_status       21525 non-null object\n",
      "family_status_id    21525 non-null int64\n",
      "gender              21525 non-null object\n",
      "income_type         21525 non-null object\n",
      "debt                21525 non-null int64\n",
      "total_income        19351 non-null float64\n",
      "purpose             21525 non-null object\n",
      "dtypes: float64(2), int64(5), object(5)\n",
      "memory usage: 2.0+ MB\n",
      "           children  days_employed     dob_years  education_id  \\\n",
      "count  21525.000000   19351.000000  21525.000000  21525.000000   \n",
      "mean       0.538908   63046.497661     43.293380      0.817236   \n",
      "std        1.381587  140827.311974     12.574584      0.548138   \n",
      "min       -1.000000  -18388.949901      0.000000      0.000000   \n",
      "25%        0.000000   -2747.423625     33.000000      1.000000   \n",
      "50%        0.000000   -1203.369529     42.000000      1.000000   \n",
      "75%        1.000000    -291.095954     53.000000      1.000000   \n",
      "max       20.000000  401755.400475     75.000000      4.000000   \n",
      "\n",
      "       family_status_id          debt  total_income  \n",
      "count      21525.000000  21525.000000  1.935100e+04  \n",
      "mean           0.972544      0.080883  1.674223e+05  \n",
      "std            1.420324      0.272661  1.029716e+05  \n",
      "min            0.000000      0.000000  2.066726e+04  \n",
      "25%            0.000000      0.000000  1.030532e+05  \n",
      "50%            0.000000      0.000000  1.450179e+05  \n",
      "75%            1.000000      0.000000  2.034351e+05  \n",
      "max            4.000000      1.000000  2.265604e+06  \n",
      "           children  days_employed     dob_years  education_id  \\\n",
      "count  21525.000000   19351.000000  21525.000000  21525.000000   \n",
      "mean       0.538908   63046.497661     43.293380      0.817236   \n",
      "std        1.381587  140827.311974     12.574584      0.548138   \n",
      "min       -1.000000  -18388.949901      0.000000      0.000000   \n",
      "25%        0.000000   -2747.423625     33.000000      1.000000   \n",
      "50%        0.000000   -1203.369529     42.000000      1.000000   \n",
      "75%        1.000000    -291.095954     53.000000      1.000000   \n",
      "max       20.000000  401755.400475     75.000000      4.000000   \n",
      "\n",
      "       family_status_id          debt  total_income  \n",
      "count      21525.000000  21525.000000  1.935100e+04  \n",
      "mean           0.972544      0.080883  1.674223e+05  \n",
      "std            1.420324      0.272661  1.029716e+05  \n",
      "min            0.000000      0.000000  2.066726e+04  \n",
      "25%            0.000000      0.000000  1.030532e+05  \n",
      "50%            0.000000      0.000000  1.450179e+05  \n",
      "75%            1.000000      0.000000  2.034351e+05  \n",
      "max            4.000000      1.000000  2.265604e+06  \n",
      " 0     14149\n",
      " 1      4818\n",
      " 2      2055\n",
      " 3       330\n",
      " 20       76\n",
      "-1        47\n",
      " 4        41\n",
      " 5         9\n",
      "Name: children, dtype: int64\n",
      "-986.927316     1\n",
      "-7026.359174    1\n",
      "-4236.274243    1\n",
      "-6620.396473    1\n",
      "-1238.560080    1\n",
      "               ..\n",
      "-2849.351119    1\n",
      "-5619.328204    1\n",
      "-448.829898     1\n",
      "-1687.038672    1\n",
      "-582.538413     1\n",
      "Name: days_employed, Length: 19351, dtype: int64\n",
      "35    617\n",
      "40    609\n",
      "41    607\n",
      "34    603\n",
      "38    598\n",
      "42    597\n",
      "33    581\n",
      "39    573\n",
      "31    560\n",
      "36    555\n",
      "44    547\n",
      "29    545\n",
      "30    540\n",
      "48    538\n",
      "37    537\n",
      "50    514\n",
      "43    513\n",
      "32    510\n",
      "49    508\n",
      "28    503\n",
      "45    497\n",
      "27    493\n",
      "56    487\n",
      "52    484\n",
      "47    480\n",
      "54    479\n",
      "46    475\n",
      "58    461\n",
      "57    460\n",
      "53    459\n",
      "51    448\n",
      "59    444\n",
      "55    443\n",
      "26    408\n",
      "60    377\n",
      "25    357\n",
      "61    355\n",
      "62    352\n",
      "63    269\n",
      "64    265\n",
      "24    264\n",
      "23    254\n",
      "65    194\n",
      "66    183\n",
      "22    183\n",
      "67    167\n",
      "21    111\n",
      "0     101\n",
      "68     99\n",
      "69     85\n",
      "70     65\n",
      "71     58\n",
      "20     51\n",
      "72     33\n",
      "19     14\n",
      "73      8\n",
      "74      6\n",
      "75      1\n",
      "Name: dob_years, dtype: int64\n",
      "среднее                13750\n",
      "высшее                  4718\n",
      "СРЕДНЕЕ                  772\n",
      "Среднее                  711\n",
      "неоконченное высшее      668\n",
      "ВЫСШЕЕ                   274\n",
      "Высшее                   268\n",
      "начальное                250\n",
      "Неоконченное высшее       47\n",
      "НЕОКОНЧЕННОЕ ВЫСШЕЕ       29\n",
      "НАЧАЛЬНОЕ                 17\n",
      "Начальное                 15\n",
      "ученая степень             4\n",
      "УЧЕНАЯ СТЕПЕНЬ             1\n",
      "Ученая степень             1\n",
      "Name: education, dtype: int64\n",
      "1    15233\n",
      "0     5260\n",
      "2      744\n",
      "3      282\n",
      "4        6\n",
      "Name: education_id, dtype: int64\n",
      "женат / замужем          12380\n",
      "гражданский брак          4177\n",
      "Не женат / не замужем     2813\n",
      "в разводе                 1195\n",
      "вдовец / вдова             960\n",
      "Name: family_status, dtype: int64\n",
      "0    12380\n",
      "1     4177\n",
      "4     2813\n",
      "3     1195\n",
      "2      960\n",
      "Name: family_status_id, dtype: int64\n",
      "F      14236\n",
      "M       7288\n",
      "XNA        1\n",
      "Name: gender, dtype: int64\n",
      "сотрудник          11119\n",
      "компаньон           5085\n",
      "пенсионер           3856\n",
      "госслужащий         1459\n",
      "безработный            2\n",
      "предприниматель        2\n",
      "студент                1\n",
      "в декрете              1\n",
      "Name: income_type, dtype: int64\n",
      "0    19784\n",
      "1     1741\n",
      "Name: debt, dtype: int64\n",
      "112874.418757    1\n",
      "133912.272223    1\n",
      "182036.676828    1\n",
      "122421.963500    1\n",
      "198271.837248    1\n",
      "                ..\n",
      "133299.194693    1\n",
      "115080.782380    1\n",
      "84896.781597     1\n",
      "153838.839212    1\n",
      "150014.128510    1\n",
      "Name: total_income, Length: 19351, dtype: int64\n",
      "свадьба                                   797\n",
      "на проведение свадьбы                     777\n",
      "сыграть свадьбу                           774\n",
      "операции с недвижимостью                  676\n",
      "покупка коммерческой недвижимости         664\n",
      "операции с жильем                         653\n",
      "покупка жилья для сдачи                   653\n",
      "операции с коммерческой недвижимостью     651\n",
      "покупка жилья                             647\n",
      "жилье                                     647\n",
      "покупка жилья для семьи                   641\n",
      "строительство собственной недвижимости    635\n",
      "недвижимость                              634\n",
      "операции со своей недвижимостью           630\n",
      "строительство жилой недвижимости          626\n",
      "покупка недвижимости                      624\n",
      "покупка своего жилья                      620\n",
      "строительство недвижимости                620\n",
      "ремонт жилью                              612\n",
      "покупка жилой недвижимости                607\n",
      "на покупку своего автомобиля              505\n",
      "заняться высшим образованием              496\n",
      "автомобиль                                495\n",
      "сделка с подержанным автомобилем          489\n",
      "свой автомобиль                           480\n",
      "на покупку подержанного автомобиля        479\n",
      "автомобили                                478\n",
      "на покупку автомобиля                     472\n",
      "приобретение автомобиля                   462\n",
      "дополнительное образование                462\n",
      "сделка с автомобилем                      455\n",
      "высшее образование                        453\n",
      "получение дополнительного образования     447\n",
      "образование                               447\n",
      "получение образования                     443\n",
      "профильное образование                    436\n",
      "получение высшего образования             426\n",
      "заняться образованием                     412\n",
      "Name: purpose, dtype: int64\n"
     ]
    }
   ],
   "source": [
    "print(data.head(10))\n",
    "data.info()\n",
    "print(data.describe()) #\n",
    "#Рассмотрим уникальные значения данных для столбцов.\n",
    "#\n",
    "print(data.describe())\n",
    "#\n",
    "for row in data: \n",
    "    print(data[row].value_counts())"
   ]
  },
  {
   "cell_type": "markdown",
   "metadata": {
    "collapsed": true
   },
   "source": [
    "**Вывод**\n",
    "Каждая строка таблицы содержит информацию о заемщиках с определенным семейным положеним и количеством детей, которые пользователи взяли кредит под определенные цели. В таблице содержится информация о наличии просрочки.\n",
    "Проблемы, которые нужно решать: \n",
    "    #1 некачественные данные (отрицательные days_employed)\n",
    "    #2 проблема с регистрами: Education в разных регистрах,     \n",
    "    #3 разные значения Purpose предполагают одну и ту же цель кредита (необходима категоризация),    \n",
    "    #4 количество значений в столбцах различается. Это говорит о том, что в данных есть days_employed и total_income есть пропущенные значения  \n",
    "    #5 столбец \"children\" содержит ошибочные значения 20 и -1,    \n",
    "    #6 столбец \"gender\" содержит одно ошибочное значение XNA,   \n",
    "    #7 у 101 заемщика указан возраст 0.\n",
    "\n",
    "Для проверки рабочих гипотез особенно ценны столбцы debt и purpose."
   ]
  },
  {
   "cell_type": "markdown",
   "metadata": {},
   "source": []
  },
  {
   "cell_type": "markdown",
   "metadata": {},
   "source": [
    "## Шаг 2. Предобработка данных"
   ]
  },
  {
   "cell_type": "markdown",
   "metadata": {},
   "source": [
    "### Обработка пропусков"
   ]
  },
  {
   "cell_type": "code",
   "execution_count": 5,
   "metadata": {},
   "outputs": [
    {
     "name": "stdout",
     "output_type": "stream",
     "text": [
      "children               0\n",
      "days_employed       2174\n",
      "dob_years              0\n",
      "education              0\n",
      "education_id           0\n",
      "family_status          0\n",
      "family_status_id       0\n",
      "gender                 0\n",
      "income_type            0\n",
      "debt                   0\n",
      "total_income        2174\n",
      "purpose                0\n",
      "dtype: int64\n",
      "Число симметричных значений: 2174\n"
     ]
    }
   ],
   "source": [
    "#Таблица не требует переименования столбцов: названия интуитивно понятны, \n",
    "#в названиях столбцов нет пробелов, которые могут затруднять доступ к данным.\n",
    "#Проверим данные на наличие пропусков\n",
    "print(data.isnull().sum())\n",
    "#\n",
    "print('Число симметричных значений:',data.loc[(data['total_income'].isna())&(data['days_employed'].isna()),'children'].count())\n",
    "#\n"
   ]
  },
  {
   "cell_type": "markdown",
   "metadata": {},
   "source": [
    "**Вывод**"
   ]
  },
  {
   "cell_type": "markdown",
   "metadata": {},
   "source": [
    "days_employed и total_income содержат 2174 пропуска.\n",
    "Пустые значения свидетельствуют, что для некоторых заемщиков доступна не вся информация. \n",
    "Причины могут быть разные: скажем, не применимо к определенным категориям заемщиков или поле не было обязательным при заполнении анкеты. Возможны также проблемы с записью данных.\n",
    "\n",
    "#\n",
    "Пропуски в двух столбцах симметричны.\n",
    "#"
   ]
  },
  {
   "cell_type": "markdown",
   "metadata": {},
   "source": [
    "### Замена типа данных"
   ]
  },
  {
   "cell_type": "code",
   "execution_count": 6,
   "metadata": {},
   "outputs": [
    {
     "name": "stdout",
     "output_type": "stream",
     "text": [
      "Средняя зарплата: income_type\n",
      "безработный        131339.751676\n",
      "в декрете           53829.130729\n",
      "госслужащий        139034.452386\n",
      "компаньон          162401.351555\n",
      "пенсионер          110179.690761\n",
      "предприниматель    249581.572474\n",
      "сотрудник          133546.457238\n",
      "студент             98201.625314\n",
      "Name: total_income, dtype: float64\n",
      "Число пропущеннных значений total_income: 0\n",
      "Число пропущеннных значений days_employed: 0\n",
      "Минимальный стаж в днях - 24\n",
      "Максимальный стаж в днях - 401755\n",
      "Число детей заемщиков -  [1 0 3 2 4 5]\n",
      "Пол заемщиков ['F' 'M']\n",
      "Средний возраст заемщика mean -  43.498389581291136\n",
      "Средний возраст заемщика median -  43.0\n",
      "Возраст заемщиков:\n",
      " - минимальный - 19.0\n",
      " - максимальный - 75.0\n"
     ]
    }
   ],
   "source": [
    "#4 количество значений в столбцах total_income и days_employed различается. Это говорит о том,\n",
    "#что в данных есть days_employed и total_income есть пропущенные значения\n",
    "    #total_income\n",
    "data['total_income']  = pd.to_numeric(data['total_income'],errors='coerce')\n",
    "#\n",
    "data['total_income'] = data['total_income'].fillna(0)\n",
    "medians_income = data.groupby('income_type')['total_income'].median()\n",
    "print('Средняя зарплата:', medians_income)\n",
    "data.loc[(data['total_income']== 0) & (data['income_type'] == 'безработный'), 'total_income'] = medians_income[0]\n",
    "data.loc[(data['total_income']== 0) & (data['income_type'] == 'в декрете'), 'total_income'] = medians_income[1]\n",
    "data.loc[(data['total_income']== 0) & (data['income_type'] == 'госслужащий'), 'total_income'] = medians_income[2]\n",
    "data.loc[(data['total_income']== 0) & (data['income_type'] == 'компаньон'), 'total_income'] = medians_income[3]\n",
    "data.loc[(data['total_income']== 0) & (data['income_type'] == 'пенсионер'), 'total_income'] = medians_income[4]\n",
    "data.loc[(data['total_income']== 0) & (data['income_type'] == 'предприниматель'), 'total_income'] = medians_income[5]\n",
    "data.loc[(data['total_income']== 0) & (data['income_type'] == 'сотрудник'), 'total_income'] = medians_income[6]\n",
    "data.loc[(data['total_income']== 0) & (data['income_type'] == 'студент'), 'total_income'] = medians_income[7]\n",
    "#\n",
    "#data['total_income']  = data['total_income'].fillna(data.loc[(data['total_income'] > 0),'total_income'].median())\n",
    "data['total_income']  = data['total_income'].astype('int')\n",
    "print('Число пропущеннных значений total_income:',len(data[data['total_income'].isna()])) \n",
    "\n",
    "    #days_employed\n",
    "data['days_employed'] = pd.to_numeric(data['days_employed'],errors='coerce')\n",
    "#\n",
    "#берем медиану только по значениям от 0 до 15000 раб. дней\n",
    "data['days_employed'] = data['days_employed'].fillna(data.loc[(data['days_employed'] > 0),'days_employed'].median())\n",
    "data['days_employed'] = data['days_employed'].astype('int')\n",
    "#\n",
    "print('Число пропущеннных значений days_employed:',len(data[data['days_employed'].isna()])) \n",
    "\n",
    "#кроме того устраним выявленные проблемы*\n",
    "    #1 некачественные данные (отрицательные days_employed)\n",
    "data['days_employed'] = abs(data['days_employed'])\n",
    "print('Минимальный стаж в днях -', data['days_employed'].min())\n",
    "print('Максимальный стаж в днях -', data['days_employed'].max())\n",
    "    #5 столбец \"children\" содержит ошибочные значения 20 и -1,\n",
    "data['children'] = data['children'].replace(20, 2) #предполагаем, что ошибочно записали лишний 0\n",
    "data['children'] = data['children'].replace(-1, 1) #предполагаем, что ошибочно  указали минус\n",
    "print('Число детей заемщиков - ',data['children'].unique())   \n",
    "    #6 столбец \"gender\" содержит одно ошибочное значение XNA,\n",
    "    # Строка с пропущенным значением одна, удалим из статистики. \n",
    "data = data[data['gender'] != 'XNA']\n",
    "print('Пол заемщиков', data['gender'].unique())\n",
    "    #7 у 101 заемщика указан возраст 0.\n",
    "print('Средний возраст заемщика mean - ', data.loc[(data['dob_years'] > 0), 'dob_years'].mean())\n",
    "print('Средний возраст заемщика median - ', data.loc[(data['dob_years'] > 0), 'dob_years'].median())\n",
    "data.loc[(data['dob_years'] == 0),'dob_years'] = data.loc[(data['dob_years'] > 0), 'dob_years'].median()\n",
    "print('Возраст заемщиков:')\n",
    "print(' - минимальный -', data['dob_years'].min())\n",
    "print(' - максимальный -', data['dob_years'].max())"
   ]
  },
  {
   "cell_type": "markdown",
   "metadata": {},
   "source": [
    "**Вывод**"
   ]
  },
  {
   "cell_type": "markdown",
   "metadata": {},
   "source": [
    "Исключены дубликаты, скорректированы следующие ошибки в данных:\n",
    "    #4 количество значений в столбцах различается. Пропущенные значение days_employed и total_income заменены на средние (mean)\n",
    "    #1 Отрицательные days_employed заменены на положительные (по модулю)      \n",
    "    #5 В столбце \"children\" скорректированы ошибочные значения 20 и -1,    \n",
    "    #6 Удалены строка с ошибкой в столбце \"gender\" (содержало одно ошибочное значение XNA)   \n",
    "    #7 у 101 заемщика с возрастом 0 скорректированы значение (заменены на средние)\n",
    "    #\n",
    "     - Нулевая зарплата заменена на среднее для каждого income_type\n",
    "     - В столбце со стажем содержались некорректные значения(слишком большие, отрицательные). Об этом нужно сообщить разработчикам.\n",
    "    #"
   ]
  },
  {
   "cell_type": "markdown",
   "metadata": {},
   "source": [
    "### Обработка дубликатов"
   ]
  },
  {
   "cell_type": "code",
   "execution_count": 7,
   "metadata": {},
   "outputs": [
    {
     "name": "stdout",
     "output_type": "stream",
     "text": [
      "Уровни образования заемщиков -  ['высшее' 'среднее' 'неоконченное высшее' 'начальное' 'ученая степень']\n",
      "Число дубликатов - 0\n"
     ]
    }
   ],
   "source": [
    "#2 Устранение проблемы с регистрами: Education в разных регистрах\n",
    "data['education'] = data['education'].str.lower() \n",
    "print('Уровни образования заемщиков - ',data['education'].unique())\n",
    "\n",
    "#Удаление полных дубликатов\n",
    "#print(data.duplicated().sum())\n",
    "data = data.drop_duplicates().reset_index(drop=True)\n",
    "print('Число дубликатов -',data.duplicated().sum())\n",
    "\n",
    "#print(data.head(10))"
   ]
  },
  {
   "cell_type": "markdown",
   "metadata": {},
   "source": [
    "**Вывод**"
   ]
  },
  {
   "cell_type": "markdown",
   "metadata": {},
   "source": [
    "Дубликаты могли появиться вследствие сбоя в записи данных.\n",
    "Устранена проблем с регистрами Education. Все полные дубликаты данных были удалены с новой индексацией."
   ]
  },
  {
   "cell_type": "markdown",
   "metadata": {},
   "source": [
    "### Лемматизация"
   ]
  },
  {
   "cell_type": "code",
   "execution_count": 10,
   "metadata": {},
   "outputs": [
    {
     "name": "stdout",
     "output_type": "stream",
     "text": [
      "   children  days_employed  dob_years education  education_id  \\\n",
      "0         1           8437       42.0    высшее             0   \n",
      "1         1           4024       36.0   среднее             1   \n",
      "2         0           5623       33.0   среднее             1   \n",
      "\n",
      "     family_status  family_status_id gender income_type  debt  total_income  \\\n",
      "0  женат / замужем                 0      F   сотрудник     0        253875   \n",
      "1  женат / замужем                 0      F   сотрудник     0        112080   \n",
      "2  женат / замужем                 0      M   сотрудник     0        145885   \n",
      "\n",
      "                   purpose                 purpose_lemma  \n",
      "0            покупка жилья            покупка   жилье \\n  \n",
      "1  приобретение автомобиля  приобретение   автомобиль \\n  \n",
      "2            покупка жилья            покупка   жилье \\n  \n"
     ]
    }
   ],
   "source": [
    "from pymystem3 import Mystem\n",
    "from nltk.stem import SnowballStemmer \n",
    "from collections import Counter\n",
    "m = Mystem()\n",
    "\n",
    "#3 разные значения Purpose предполагают одну и ту же цель кредита (необходима лемматизация и категоризация)   \n",
    "def lemma_purpose(purpose):\n",
    "    lemma = ' '.join(m.lemmatize(purpose))\n",
    "    return lemma\n",
    "\n",
    "data['purpose_lemma'] = data['purpose'].apply(lemma_purpose)\n",
    "print(data.head(3))\n",
    "#print(data['purpose_lemma'].unique()) \n"
   ]
  },
  {
   "cell_type": "markdown",
   "metadata": {},
   "source": [
    "**Вывод**"
   ]
  },
  {
   "cell_type": "markdown",
   "metadata": {},
   "source": [
    "Проведена лемматизация поля Purpose, которая требуется для категоризации."
   ]
  },
  {
   "cell_type": "markdown",
   "metadata": {},
   "source": [
    "### Категоризация данных"
   ]
  },
  {
   "cell_type": "code",
   "execution_count": 7,
   "metadata": {},
   "outputs": [
    {
     "name": "stdout",
     "output_type": "stream",
     "text": [
      "0          жилье\n",
      "1     автомобиль\n",
      "2          жилье\n",
      "3    образование\n",
      "4        свадьба\n",
      "5          жилье\n",
      "6          жилье\n",
      "7    образование\n",
      "8        свадьба\n",
      "9          жилье\n",
      "Name: category, dtype: object\n",
      "   children  days_employed  dob_years education  education_id  \\\n",
      "0         1           8437       42.0    высшее             0   \n",
      "1         1           4024       36.0   среднее             1   \n",
      "2         0           5623       33.0   среднее             1   \n",
      "3         3           4124       32.0   среднее             1   \n",
      "4         0         340266       53.0   среднее             1   \n",
      "5         0            926       27.0    высшее             0   \n",
      "6         0           2879       43.0    высшее             0   \n",
      "7         0            152       50.0   среднее             1   \n",
      "8         2           6929       35.0    высшее             0   \n",
      "9         0           2188       41.0   среднее             1   \n",
      "\n",
      "      family_status  family_status_id gender income_type  debt  total_income  \\\n",
      "0   женат / замужем                 0      F   сотрудник     0        253875   \n",
      "1   женат / замужем                 0      F   сотрудник     0        112080   \n",
      "2   женат / замужем                 0      M   сотрудник     0        145885   \n",
      "3   женат / замужем                 0      M   сотрудник     0        267628   \n",
      "4  гражданский брак                 1      F   пенсионер     0        158616   \n",
      "5  гражданский брак                 1      M   компаньон     0        255763   \n",
      "6   женат / замужем                 0      F   компаньон     0        240525   \n",
      "7   женат / замужем                 0      M   сотрудник     0        135823   \n",
      "8  гражданский брак                 1      F   сотрудник     0         95856   \n",
      "9   женат / замужем                 0      M   сотрудник     0        144425   \n",
      "\n",
      "                      purpose                     purpose_lemma     category  \n",
      "0               покупка жилья                покупка   жилье \\n        жилье  \n",
      "1     приобретение автомобиля      приобретение   автомобиль \\n   автомобиль  \n",
      "2               покупка жилья                покупка   жилье \\n        жилье  \n",
      "3  дополнительное образование   дополнительный   образование \\n  образование  \n",
      "4             сыграть свадьбу              сыграть   свадьба \\n      свадьба  \n",
      "5               покупка жилья                покупка   жилье \\n        жилье  \n",
      "6           операции с жильем           операция   с   жилье \\n        жилье  \n",
      "7                 образование                    образование \\n  образование  \n",
      "8       на проведение свадьбы      на   проведение   свадьба \\n      свадьба  \n",
      "9     покупка жилья для семьи  покупка   жилье   для   семья \\n        жилье  \n"
     ]
    }
   ],
   "source": [
    "data['category'] = 'неизвестная категория'\n",
    "def purpose_cat(p_lemma):\n",
    "    if \"жилье\" in p_lemma:\n",
    "        return \"жилье\"\n",
    "    if 'автомобиль' in p_lemma:\n",
    "        return \"автомобиль\"\n",
    "    if \"свадьба\" in p_lemma:\n",
    "        return \"свадьба\"\n",
    "    if \"образование\" in p_lemma:\n",
    "        return \"образование\"\n",
    "    if \"недвижимость\" in p_lemma:\n",
    "        return \"недвижимость\"\n",
    "    if \"строительство\" in p_lemma:\n",
    "        return \"строительство\"\n",
    "\n",
    "data['category'] = data['purpose_lemma'].apply(purpose_cat)\n",
    "print(data['category'].head(10))\n",
    "print(data.head(10))\n",
    "#print(data.loc[data['category'] == 'неизвестная категория'])"
   ]
  },
  {
   "cell_type": "markdown",
   "metadata": {},
   "source": [
    "**Вывод**"
   ]
  },
  {
   "cell_type": "markdown",
   "metadata": {},
   "source": [
    "Данные разбиты по категориям по целям по результатам лемматизации.\n",
    "После группировки цели кредита разделены следующие группы:\n",
    "- жилье, \n",
    "- автомобиль, \n",
    "- свадьба, \n",
    "- образование, \n",
    "- недвижимость, \n",
    "- строительство."
   ]
  },
  {
   "cell_type": "markdown",
   "metadata": {},
   "source": [
    "## Шаг 3. Ответьте на вопросы"
   ]
  },
  {
   "cell_type": "markdown",
   "metadata": {},
   "source": [
    "- Есть ли зависимость между наличием детей и возвратом кредита в срок?"
   ]
  },
  {
   "cell_type": "code",
   "execution_count": 21,
   "metadata": {},
   "outputs": [
    {
     "name": "stdout",
     "output_type": "stream",
     "text": [
      "children        0       1       2      3     4    5\n",
      "debt                                               \n",
      "0         13027.0  4410.0  1926.0  303.0  37.0  9.0\n",
      "1          1063.0   445.0   202.0   27.0   4.0  NaN\n",
      "Нет детей - 7.54%\n",
      "Один ребенок - 9.17%\n",
      "Два ребенка - 9.49%\n",
      "Три ребенка - 8.18%\n",
      "Четыре ребенка - 9.76%\n"
     ]
    }
   ],
   "source": [
    "#index — столбец или столбцы, по которым группируют данные (название товара)\n",
    "#columns — столбец, по значениям которого происходит группировка (даты)\n",
    "#values — значения, по которым мы хотим увидеть сводную таблицу (количество проданного товара)\n",
    "#aggfunc — функция, применяемая к значениям\n",
    "data_pivot1 = data.pivot_table(index=['debt'], columns='children', values = 'total_income', aggfunc='count')\n",
    "print(data_pivot1)\n",
    "#ошибки в данных - количество детей = -1 и 20\n",
    "#\n",
    "ch0 = data_pivot1[0][1] / (data_pivot1[0][0]+data_pivot1[0][1])\n",
    "ch1 = data_pivot1[1][1] / (data_pivot1[1][0]+data_pivot1[1][1])\n",
    "ch2 = data_pivot1[2][1] / (data_pivot1[2][0]+data_pivot1[2][1])\n",
    "ch3 = data_pivot1[3][1] / (data_pivot1[3][0]+data_pivot1[3][1])\n",
    "ch4 = data_pivot1[4][1] / (data_pivot1[4][0]+data_pivot1[4][1])\n",
    "#\n",
    "print(\"Нет детей - {0:.2f}%\".format(ch0*100))\n",
    "print(\"Один ребенок - {0:.2f}%\".format(ch1*100))\n",
    "print(\"Два ребенка - {0:.2f}%\".format(ch2*100))\n",
    "print(\"Три ребенка - {0:.2f}%\".format(ch3*100))\n",
    "print(\"Четыре ребенка - {0:.2f}%\".format(ch4*100))\n",
    "\n",
    "#нет ребенка - 8% просрочки, есть ребенок - более 10% просрочки. Есть зависимость.\n"
   ]
  },
  {
   "cell_type": "markdown",
   "metadata": {},
   "source": [
    "**Вывод**\n",
    "Есть слабая зависимость просрочки от наличия детей: при отсутствии ребенка - \n",
    "\n",
    "7,5% просрочки, у взрослых с деньми более 9% просрочки.\n",
    "\n"
   ]
  },
  {
   "cell_type": "markdown",
   "metadata": {},
   "source": []
  },
  {
   "cell_type": "markdown",
   "metadata": {},
   "source": [
    "- Есть ли зависимость между семейным положением и возвратом кредита в срок?"
   ]
  },
  {
   "cell_type": "code",
   "execution_count": null,
   "metadata": {},
   "outputs": [],
   "source": [
    "#index — столбец или столбцы, по которым группируют данные (название товара)\n",
    "#columns — столбец, по значениям которого происходит группировка (даты)\n",
    "#values — значения, по которым мы хотим увидеть сводную таблицу (количество проданного товара)\n",
    "#aggfunc — функция, применяемая к значениям\n",
    "data_pivot2 = data.pivot_table(index=['debt'], columns='family_status', values = 'family_status_id', aggfunc='count')\n",
    "print(data_pivot2)\n",
    "\n",
    "\n",
    "fd0 = data_pivot2['Не женат / не замужем'][1] / (data_pivot2['Не женат / не замужем'][0]+data_pivot2['Не женат / не замужем'][1])\n",
    "fd1 = data_pivot2['в разводе'][1] / (data_pivot2['в разводе'][0] + data_pivot2['в разводе'][1])\n",
    "fd2 = data_pivot2['вдовец / вдова'][1] / (data_pivot2['вдовец / вдова'][0]+data_pivot2['вдовец / вдова'][1])\n",
    "fd3 = data_pivot2['гражданский брак'][1] / (data_pivot2['гражданский брак'][0]+data_pivot2['гражданский брак'][1])\n",
    "fd4 = data_pivot2['женат / замужем'][1] / (data_pivot2['женат / замужем'][0]+data_pivot2['женат / замужем'][1])\n",
    "\n",
    "#print(fd0, fd1,fd2, fd3, fd4)\n",
    "\n",
    "print(\"Не женат / не замужем - {0:.2f}%\".format(fd0*100))\n",
    "print(\"В разводе - {0:.2f}%\".format(fd1*100))\n",
    "print(\"Вдовец / вдова - {0:.2f}%\".format(fd2*100))\n",
    "print(\"Гражданский брак - {0:.2f}%\".format(fd3*100))\n",
    "print(\"Женат / замужем - {0:.2f}%\".format(fd4*100))\n",
    "\n",
    "#Не женатые/ Не замужние или люди в гражданском браке реже выплачивают кредит в срок (7-8% vs 10%)"
   ]
  },
  {
   "cell_type": "markdown",
   "metadata": {},
   "source": [
    "**Вывод**"
   ]
  },
  {
   "cell_type": "markdown",
   "metadata": {},
   "source": [
    "Не женатые/ Не замужние и люди в гражданском браке реже выплачивают кредит в срок \n",
    "\n",
    "(>9,7%)\n",
    "\n"
   ]
  },
  {
   "cell_type": "markdown",
   "metadata": {},
   "source": [
    "- Есть ли зависимость между уровнем дохода и возвратом кредита в срок?"
   ]
  },
  {
   "cell_type": "code",
   "execution_count": null,
   "metadata": {},
   "outputs": [],
   "source": [
    "#data['total_income'].quantile(.2, axis = 0)\n",
    "#Преобразуем данные столбца total_income в квантили с помощью quantile()\n",
    "total_income_quantile = data.total_income.quantile([.2, .4, .6, .8])\n",
    "print('Данные столбца total_income в квантили по квантилям:')\n",
    "print(total_income_quantile)\n",
    "\n",
    "#Используем округленные значения квантилей для группировки\n",
    "def income_group(row):\n",
    "    income = row['total_income']\n",
    "\n",
    "    if income <= 100000:\n",
    "        return 'Доход до 100'\n",
    "    \n",
    "    if income <= 130000 and income > 100000:\n",
    "        return 'Доход 100-130'\n",
    "    \n",
    "    if income <= 160000 and income > 130000:\n",
    "        return 'Доход 130-160'\n",
    "    \n",
    "    if income <= 215000 and income > 160000:\n",
    "        return 'Доход 160-215'\n",
    "    \n",
    "    if income > 215000:\n",
    "        return 'Доход больше 215'\n",
    "\n",
    "data['income_gr'] = data.apply(income_group, axis=1)\n",
    "\n",
    "print (data['income_gr'])\n",
    "\n",
    "data_pivot3 = data.pivot_table(index = 'debt', columns = 'income_gr', values = 'family_status_id', aggfunc = 'count')\n",
    "print(data_pivot3)\n",
    "#\n",
    "income0 = data_pivot3['Доход до 100'][1] / (data_pivot3['Доход до 100'][0]+data_pivot3['Доход до 100'][1])\n",
    "income1 = data_pivot3['Доход 100-130'][1] / (data_pivot3['Доход 100-130'][0]+data_pivot3['Доход 100-130'][1])\n",
    "income2 = data_pivot3['Доход 130-160'][1] / (data_pivot3['Доход 130-160'][0]+data_pivot3['Доход 130-160'][1])\n",
    "income3 = data_pivot3['Доход 160-215'][1] / (data_pivot3['Доход 160-215'][0]+data_pivot3['Доход 160-215'][1])\n",
    "income4 = data_pivot3['Доход больше 215'][1] / (data_pivot3['Доход больше 215'][0]+data_pivot3['Доход больше 215'][1])\n",
    "#\n",
    "#print(income0, income1,fd2, fd3, fd4)\n",
    "\n",
    "print(\"Доход менее 100 тыс. - {0:.2f}%\".format(income0*100))\n",
    "print(\"Доход от 100 до 130 тыс. - {0:.2f}%\".format(income1*100))\n",
    "print(\"Доход от 130 до 160 тыс. - {0:.2f}%\".format(income2*100))\n",
    "print(\"Доход от 160 до 215 тыс. - {0:.2f}%\".format(income3*100))\n",
    "print(\"Доход более 215 тыс. - {0:.2f}%\".format(income4*100))"
   ]
  },
  {
   "cell_type": "markdown",
   "metadata": {},
   "source": [
    "**Вывод**"
   ]
  },
  {
   "cell_type": "markdown",
   "metadata": {},
   "source": [
    "Люди с маленьким доходом (менее 100 тыс.)\n",
    "#\n",
    "и с очень высоким доходом (более 215 тыс.) наиболее вероятно погасят свой кредит в срок.\n",
    "#\n"
   ]
  },
  {
   "cell_type": "markdown",
   "metadata": {},
   "source": [
    "- Как разные цели кредита влияют на его возврат в срок?"
   ]
  },
  {
   "cell_type": "code",
   "execution_count": null,
   "metadata": {},
   "outputs": [],
   "source": [
    "print(data['category'])\n",
    "\n",
    "data_pivot4 = data.pivot_table(index = 'debt', columns = 'category', values = 'family_status_id', aggfunc = 'count')\n",
    "print(data_pivot4)\n",
    "\n",
    "#автомобиль  жилье  недвижимость  образование  свадьба\n",
    "#\n",
    "cd0 = data_pivot4['автомобиль'][1] / (data_pivot4['автомобиль'][0]+data_pivot4['автомобиль'][1])\n",
    "cd1 = data_pivot4['жилье'][1] / (data_pivot4['жилье'][0]+data_pivot4['жилье'][1])\n",
    "cd2 = data_pivot4['недвижимость'][1] / (data_pivot4['недвижимость'][0]+data_pivot4['недвижимость'][1])\n",
    "cd3 = data_pivot4['образование'][1] / (data_pivot4['образование'][0]+data_pivot4['образование'][1])\n",
    "cd4 = data_pivot4['свадьба'][1] / (data_pivot4['свадьба'][0]+data_pivot4['свадьба'][1])\n",
    "#\n",
    "#print(cd0, cd1, cd2, cd3, cd4)\n",
    "\n",
    "print(\"Автомобиль - {0:.2f}%\".format(cd0*100))\n",
    "print(\"Жилье - {0:.2f}%\".format(cd1*100))\n",
    "print(\"Недвижимость - {0:.2f}%\".format(cd2*100))\n",
    "print(\"Образование - {0:.2f}%\".format(cd3*100))\n",
    "print(\"Свадьба - {0:.2f}%\".format(cd4*100))\n",
    "\n",
    "#Больше всего просрочек у кредитов на образование и на автомобиль, меньше всего - на жилье"
   ]
  },
  {
   "cell_type": "markdown",
   "metadata": {},
   "source": [
    "**Вывод**\n",
    "Больше всего просрочек у кредитов на образование и на автомобиль, меньше всего у кредитов на жилье."
   ]
  },
  {
   "cell_type": "markdown",
   "metadata": {},
   "source": []
  },
  {
   "cell_type": "markdown",
   "metadata": {},
   "source": [
    "## Шаг 4. Общий вывод"
   ]
  },
  {
   "cell_type": "markdown",
   "metadata": {},
   "source": [
    "1 Файл подготовлен для анализа:\n",
    "- были скорректированы типы данных,\n",
    "- удалены дубли,\n",
    "- цели кредита разбиты на категории. \n",
    "\n",
    "2 Проведен анализ зависимости числа просрочек от различных характеристик заемщика. По итогам анализа были сделаны следующие выводы:\n",
    "- число просрочек чувствительно с семейному статусу. Не женатые/ Не замужние, люди в гражданском браке реже выплачивают кредит в срок,\n",
    "- люди с меньшим доходом наиболее вероятно погасят свой кредит в срок, \n",
    "- наибольшее число просрочек наблюдается у кредитов на образование и на автомобиль, меньше всего у кредитов на жилье."
   ]
  },
  {
   "cell_type": "markdown",
   "metadata": {},
   "source": [
    "## Чек-лист готовности проекта\n",
    "\n",
    "Поставьте 'x' в выполненных пунктах. Далее нажмите Shift+Enter."
   ]
  },
  {
   "cell_type": "markdown",
   "metadata": {},
   "source": [
    "- [x]  открыт файл;\n",
    "- [x]  файл изучен;\n",
    "- [x]  определены пропущенные значения;\n",
    "- [x]  заполнены пропущенные значения;\n",
    "- [x]  есть пояснение, какие пропущенные значения обнаружены;\n",
    "- [x]  описаны возможные причины появления пропусков в данных;\n",
    "- [x]  объяснено, по какому принципу заполнены пропуски;\n",
    "- [x]  заменен вещественный тип данных на целочисленный;\n",
    "- [ ]  есть пояснение, какой метод используется для изменения типа данных и почему;\n",
    "- [x]  удалены дубликаты;\n",
    "- [ ]  есть пояснение, какой метод используется для поиска и удаления дубликатов;\n",
    "- [x]  описаны возможные причины появления дубликатов в данных;\n",
    "- [x]  выделены леммы в значениях столбца с целями получения кредита;\n",
    "- [x]  описан процесс лемматизации;\n",
    "- [x]  данные категоризированы;\n",
    "- [x]  есть объяснение принципа категоризации данных;\n",
    "- [x]  есть ответ на вопрос: \"Есть ли зависимость между наличием детей и возвратом кредита в срок?\";\n",
    "- [x]  есть ответ на вопрос: \"Есть ли зависимость между семейным положением и возвратом кредита в срок?\";\n",
    "- [x]  есть ответ на вопрос: \"Есть ли зависимость между уровнем дохода и возвратом кредита в срок?\";\n",
    "- [x]  есть ответ на вопрос: \"Как разные цели кредита влияют на его возврат в срок?\";\n",
    "- [x]  в каждом этапе есть выводы;\n",
    "- [x]  есть общий вывод."
   ]
  }
 ],
 "metadata": {
  "ExecuteTimeLog": [
   {
    "duration": 12,
    "start_time": "2021-07-28T15:30:54.362Z"
   },
   {
    "duration": 374,
    "start_time": "2021-07-28T15:31:00.951Z"
   },
   {
    "duration": 113,
    "start_time": "2021-07-28T15:33:05.059Z"
   },
   {
    "duration": 1949,
    "start_time": "2021-07-28T15:33:17.311Z"
   },
   {
    "duration": 2067,
    "start_time": "2021-07-28T15:39:25.223Z"
   },
   {
    "duration": 2132,
    "start_time": "2021-07-28T15:39:36.498Z"
   },
   {
    "duration": 2692,
    "start_time": "2021-07-28T15:42:40.944Z"
   },
   {
    "duration": 280,
    "start_time": "2021-07-28T15:44:31.360Z"
   },
   {
    "duration": 277,
    "start_time": "2021-07-28T15:44:39.741Z"
   },
   {
    "duration": 300,
    "start_time": "2021-07-28T15:49:36.894Z"
   },
   {
    "duration": 320,
    "start_time": "2021-07-28T15:50:33.758Z"
   },
   {
    "duration": 70,
    "start_time": "2021-07-28T16:01:41.792Z"
   },
   {
    "duration": 67,
    "start_time": "2021-07-28T16:01:45.665Z"
   },
   {
    "duration": 8,
    "start_time": "2021-07-28T16:24:25.958Z"
   },
   {
    "duration": 26,
    "start_time": "2021-07-28T16:24:59.363Z"
   },
   {
    "duration": 18,
    "start_time": "2021-07-28T16:25:30.108Z"
   },
   {
    "duration": 16,
    "start_time": "2021-07-28T16:25:58.124Z"
   },
   {
    "duration": 16,
    "start_time": "2021-07-28T16:26:25.382Z"
   },
   {
    "duration": 17,
    "start_time": "2021-07-28T16:26:35.443Z"
   },
   {
    "duration": 15,
    "start_time": "2021-07-28T16:26:43.695Z"
   },
   {
    "duration": 16,
    "start_time": "2021-07-28T16:26:55.800Z"
   },
   {
    "duration": 17,
    "start_time": "2021-07-28T16:27:07.285Z"
   },
   {
    "duration": 18,
    "start_time": "2021-07-28T16:27:14.602Z"
   },
   {
    "duration": 21,
    "start_time": "2021-07-28T16:27:31.362Z"
   },
   {
    "duration": 9,
    "start_time": "2021-07-28T16:29:10.080Z"
   },
   {
    "duration": 341,
    "start_time": "2021-07-28T16:56:43.058Z"
   },
   {
    "duration": 322,
    "start_time": "2021-07-28T16:57:15.937Z"
   },
   {
    "duration": 312,
    "start_time": "2021-07-28T16:57:57.425Z"
   },
   {
    "duration": 6,
    "start_time": "2021-07-28T16:58:29.285Z"
   },
   {
    "duration": 308,
    "start_time": "2021-07-28T16:59:05.553Z"
   },
   {
    "duration": 478,
    "start_time": "2021-07-28T17:00:06.880Z"
   },
   {
    "duration": 7,
    "start_time": "2021-07-28T17:01:21.921Z"
   },
   {
    "duration": 12,
    "start_time": "2021-07-28T17:01:31.884Z"
   },
   {
    "duration": 18,
    "start_time": "2021-07-28T17:02:42.185Z"
   },
   {
    "duration": 27,
    "start_time": "2021-07-28T17:04:30.072Z"
   },
   {
    "duration": 301,
    "start_time": "2021-07-28T17:06:04.036Z"
   },
   {
    "duration": 281,
    "start_time": "2021-07-28T17:06:12.733Z"
   },
   {
    "duration": 11,
    "start_time": "2021-07-28T17:06:47.239Z"
   },
   {
    "duration": 13,
    "start_time": "2021-07-28T17:07:08.883Z"
   },
   {
    "duration": 19,
    "start_time": "2021-07-28T17:07:19.563Z"
   },
   {
    "duration": 19,
    "start_time": "2021-07-28T17:08:27.009Z"
   },
   {
    "duration": 40,
    "start_time": "2021-07-28T17:12:00.482Z"
   },
   {
    "duration": 48,
    "start_time": "2021-07-28T17:12:14.144Z"
   },
   {
    "duration": 337,
    "start_time": "2021-07-28T17:14:08.567Z"
   },
   {
    "duration": 313,
    "start_time": "2021-07-28T17:14:24.891Z"
   },
   {
    "duration": 60,
    "start_time": "2021-07-28T17:17:14.300Z"
   },
   {
    "duration": 55,
    "start_time": "2021-07-28T17:17:34.937Z"
   },
   {
    "duration": 56,
    "start_time": "2021-07-28T17:17:42.344Z"
   },
   {
    "duration": 67,
    "start_time": "2021-07-28T17:17:58.919Z"
   },
   {
    "duration": 29,
    "start_time": "2021-07-28T17:18:02.817Z"
   },
   {
    "duration": 14,
    "start_time": "2021-07-28T17:18:08.488Z"
   },
   {
    "duration": 17,
    "start_time": "2021-07-28T17:18:11.849Z"
   },
   {
    "duration": 34,
    "start_time": "2021-07-28T17:18:18.720Z"
   },
   {
    "duration": 53,
    "start_time": "2021-07-28T17:18:25.908Z"
   },
   {
    "duration": 70,
    "start_time": "2021-07-28T17:18:32.923Z"
   },
   {
    "duration": 297,
    "start_time": "2021-07-28T17:21:25.169Z"
   },
   {
    "duration": 3927,
    "start_time": "2021-07-28T17:43:58.627Z"
   },
   {
    "duration": 3875,
    "start_time": "2021-07-28T17:44:57.630Z"
   },
   {
    "duration": 411,
    "start_time": "2021-07-28T18:05:31.812Z"
   },
   {
    "duration": 303,
    "start_time": "2021-07-28T18:06:38.294Z"
   },
   {
    "duration": 352,
    "start_time": "2021-07-28T18:07:07.702Z"
   },
   {
    "duration": 3630,
    "start_time": "2021-07-28T18:27:31.821Z"
   },
   {
    "duration": 3730,
    "start_time": "2021-07-28T18:27:38.773Z"
   },
   {
    "duration": 5146,
    "start_time": "2021-07-28T18:28:59.029Z"
   },
   {
    "duration": 85,
    "start_time": "2021-07-28T18:29:20.892Z"
   },
   {
    "duration": 916,
    "start_time": "2021-07-28T18:29:36.034Z"
   },
   {
    "duration": 4436,
    "start_time": "2021-07-28T18:31:35.093Z"
   },
   {
    "duration": 4538,
    "start_time": "2021-07-28T18:32:09.433Z"
   },
   {
    "duration": 5288,
    "start_time": "2021-07-28T18:35:23.015Z"
   },
   {
    "duration": 720,
    "start_time": "2021-07-28T18:41:17.637Z"
   },
   {
    "duration": 5746,
    "start_time": "2021-07-28T18:41:27.390Z"
   },
   {
    "duration": 5764,
    "start_time": "2021-07-28T18:42:02.223Z"
   },
   {
    "duration": 5627,
    "start_time": "2021-07-28T18:44:49.040Z"
   },
   {
    "duration": 5841,
    "start_time": "2021-07-28T18:45:37.979Z"
   },
   {
    "duration": 5534,
    "start_time": "2021-07-28T18:46:27.780Z"
   },
   {
    "duration": 5530,
    "start_time": "2021-07-28T18:47:06.382Z"
   },
   {
    "duration": 100,
    "start_time": "2021-07-28T18:47:38.521Z"
   },
   {
    "duration": 8219,
    "start_time": "2021-07-28T18:47:49.832Z"
   },
   {
    "duration": 15676,
    "start_time": "2021-07-28T18:48:58.579Z"
   },
   {
    "duration": 7666,
    "start_time": "2021-07-28T18:49:35.398Z"
   },
   {
    "duration": 5669,
    "start_time": "2021-07-28T18:50:36.456Z"
   },
   {
    "duration": 41,
    "start_time": "2021-07-28T18:51:17.473Z"
   },
   {
    "duration": 25,
    "start_time": "2021-07-28T18:53:02.850Z"
   },
   {
    "duration": 17,
    "start_time": "2021-07-28T18:54:52.108Z"
   },
   {
    "duration": 16,
    "start_time": "2021-07-28T18:55:08.704Z"
   },
   {
    "duration": 13497,
    "start_time": "2021-07-28T18:55:37.662Z"
   },
   {
    "duration": 17,
    "start_time": "2021-07-28T18:55:56.868Z"
   },
   {
    "duration": 11,
    "start_time": "2021-07-28T18:56:07.776Z"
   },
   {
    "duration": 11,
    "start_time": "2021-07-28T18:56:24.841Z"
   },
   {
    "duration": 6743,
    "start_time": "2021-07-28T18:56:33.317Z"
   },
   {
    "duration": 6712,
    "start_time": "2021-07-28T18:56:45.470Z"
   },
   {
    "duration": 10706,
    "start_time": "2021-07-28T18:57:25.279Z"
   },
   {
    "duration": 12971,
    "start_time": "2021-07-28T18:57:43.497Z"
   },
   {
    "duration": 13214,
    "start_time": "2021-07-28T18:58:24.073Z"
   },
   {
    "duration": 13004,
    "start_time": "2021-07-28T18:58:45.748Z"
   },
   {
    "duration": 13174,
    "start_time": "2021-07-28T18:59:59.647Z"
   },
   {
    "duration": 6764,
    "start_time": "2021-07-28T19:04:10.828Z"
   },
   {
    "duration": 7114,
    "start_time": "2021-07-28T19:04:24.507Z"
   },
   {
    "duration": 305,
    "start_time": "2021-07-28T19:05:02.771Z"
   },
   {
    "duration": 6689,
    "start_time": "2021-07-28T19:05:23.066Z"
   },
   {
    "duration": 17,
    "start_time": "2021-07-28T19:06:00.596Z"
   },
   {
    "duration": 27,
    "start_time": "2021-07-28T19:07:33.270Z"
   },
   {
    "duration": 7205,
    "start_time": "2021-07-28T19:07:52.667Z"
   },
   {
    "duration": 18,
    "start_time": "2021-07-28T19:08:05.786Z"
   },
   {
    "duration": 33,
    "start_time": "2021-07-28T19:08:32.049Z"
   },
   {
    "duration": 98,
    "start_time": "2021-07-28T19:09:49.876Z"
   },
   {
    "duration": 46,
    "start_time": "2021-07-28T19:09:56.073Z"
   },
   {
    "duration": 40,
    "start_time": "2021-07-28T19:10:55.976Z"
   },
   {
    "duration": 5856,
    "start_time": "2021-07-28T19:11:35.903Z"
   },
   {
    "duration": 5699,
    "start_time": "2021-07-28T19:12:12.120Z"
   },
   {
    "duration": 2116,
    "start_time": "2021-07-28T19:13:00.782Z"
   },
   {
    "duration": 1975,
    "start_time": "2021-07-28T19:13:16.357Z"
   },
   {
    "duration": 1940,
    "start_time": "2021-07-28T19:13:40.881Z"
   },
   {
    "duration": 24,
    "start_time": "2021-07-28T19:13:49.240Z"
   },
   {
    "duration": 69,
    "start_time": "2021-07-28T19:13:56.626Z"
   },
   {
    "duration": 33,
    "start_time": "2021-07-28T19:14:00.120Z"
   },
   {
    "duration": 18,
    "start_time": "2021-07-28T19:14:05.615Z"
   },
   {
    "duration": 21,
    "start_time": "2021-07-28T19:14:09.560Z"
   },
   {
    "duration": 57,
    "start_time": "2021-07-28T19:14:13.316Z"
   },
   {
    "duration": 5059,
    "start_time": "2021-07-28T19:14:24.204Z"
   },
   {
    "duration": 7545,
    "start_time": "2021-07-28T19:14:29.266Z"
   },
   {
    "duration": 28,
    "start_time": "2021-07-28T19:14:48.572Z"
   },
   {
    "duration": 293,
    "start_time": "2021-07-28T19:16:38.933Z"
   },
   {
    "duration": 28,
    "start_time": "2021-07-28T19:21:04.314Z"
   },
   {
    "duration": 35,
    "start_time": "2021-07-28T19:21:35.848Z"
   },
   {
    "duration": 842,
    "start_time": "2021-07-29T09:22:12.902Z"
   },
   {
    "duration": 70,
    "start_time": "2021-07-29T09:50:51.694Z"
   },
   {
    "duration": 57,
    "start_time": "2021-07-29T10:42:11.915Z"
   },
   {
    "duration": 50,
    "start_time": "2021-07-29T10:48:00.388Z"
   },
   {
    "duration": 52,
    "start_time": "2021-07-29T10:48:26.020Z"
   },
   {
    "duration": 50,
    "start_time": "2021-07-29T10:49:35.037Z"
   },
   {
    "duration": 220,
    "start_time": "2021-07-29T10:53:28.544Z"
   },
   {
    "duration": 136,
    "start_time": "2021-07-29T10:53:47.018Z"
   },
   {
    "duration": 169,
    "start_time": "2021-07-29T10:54:00.825Z"
   },
   {
    "duration": 51,
    "start_time": "2021-07-29T10:54:08.716Z"
   },
   {
    "duration": 157,
    "start_time": "2021-07-29T10:54:38.205Z"
   },
   {
    "duration": 51,
    "start_time": "2021-07-29T10:54:48.339Z"
   },
   {
    "duration": 690,
    "start_time": "2021-07-29T10:55:40.566Z"
   },
   {
    "duration": 50,
    "start_time": "2021-07-29T10:55:59.113Z"
   },
   {
    "duration": 162,
    "start_time": "2021-07-29T10:56:05.429Z"
   },
   {
    "duration": 54,
    "start_time": "2021-07-29T10:56:12.392Z"
   },
   {
    "duration": 51,
    "start_time": "2021-07-29T10:56:21.712Z"
   },
   {
    "duration": 53,
    "start_time": "2021-07-29T10:56:50.659Z"
   },
   {
    "duration": 635,
    "start_time": "2021-07-29T10:57:28.875Z"
   },
   {
    "duration": 55,
    "start_time": "2021-07-29T10:57:52.054Z"
   },
   {
    "duration": 136,
    "start_time": "2021-07-29T10:59:09.763Z"
   },
   {
    "duration": 64,
    "start_time": "2021-07-29T10:59:31.016Z"
   },
   {
    "duration": 63,
    "start_time": "2021-07-29T11:00:00.307Z"
   },
   {
    "duration": 63,
    "start_time": "2021-07-29T11:00:02.968Z"
   },
   {
    "duration": 63,
    "start_time": "2021-07-29T11:00:09.432Z"
   },
   {
    "duration": 64,
    "start_time": "2021-07-29T11:01:19.998Z"
   },
   {
    "duration": 61,
    "start_time": "2021-07-29T11:01:25.181Z"
   },
   {
    "duration": 64,
    "start_time": "2021-07-29T11:01:26.851Z"
   },
   {
    "duration": 14,
    "start_time": "2021-07-29T11:01:31.470Z"
   },
   {
    "duration": 97,
    "start_time": "2021-07-29T11:01:34.619Z"
   },
   {
    "duration": 60,
    "start_time": "2021-07-29T11:06:04.630Z"
   },
   {
    "duration": 97,
    "start_time": "2021-07-29T11:07:29.320Z"
   },
   {
    "duration": 110,
    "start_time": "2021-07-29T11:08:33.614Z"
   },
   {
    "duration": 1982,
    "start_time": "2021-07-29T11:08:40.951Z"
   },
   {
    "duration": 66,
    "start_time": "2021-07-29T11:08:43.185Z"
   },
   {
    "duration": 13,
    "start_time": "2021-07-29T11:08:48.250Z"
   },
   {
    "duration": 81,
    "start_time": "2021-07-29T11:08:51.565Z"
   },
   {
    "duration": 58,
    "start_time": "2021-07-29T11:09:02.848Z"
   },
   {
    "duration": 48,
    "start_time": "2021-07-29T11:16:12.167Z"
   },
   {
    "duration": 64,
    "start_time": "2021-07-29T11:16:16.071Z"
   },
   {
    "duration": 66,
    "start_time": "2021-07-29T11:16:39.969Z"
   },
   {
    "duration": 10304,
    "start_time": "2021-07-29T11:20:02.393Z"
   },
   {
    "duration": 5539,
    "start_time": "2021-07-29T11:20:22.906Z"
   },
   {
    "duration": 27,
    "start_time": "2021-07-29T11:20:45.784Z"
   },
   {
    "duration": 40,
    "start_time": "2021-07-29T11:21:45.904Z"
   },
   {
    "duration": 865,
    "start_time": "2021-07-29T11:23:08.823Z"
   },
   {
    "duration": 30,
    "start_time": "2021-07-29T11:24:07.809Z"
   },
   {
    "duration": 44,
    "start_time": "2021-07-29T11:26:33.235Z"
   },
   {
    "duration": 834,
    "start_time": "2021-07-30T05:32:23.942Z"
   },
   {
    "duration": 77,
    "start_time": "2021-07-30T05:32:24.778Z"
   },
   {
    "duration": 20,
    "start_time": "2021-07-30T05:32:24.860Z"
   },
   {
    "duration": 78,
    "start_time": "2021-07-30T05:32:24.883Z"
   },
   {
    "duration": 65,
    "start_time": "2021-07-30T05:32:24.964Z"
   },
   {
    "duration": 5627,
    "start_time": "2021-07-30T05:32:25.031Z"
   },
   {
    "duration": 32,
    "start_time": "2021-07-30T05:32:30.661Z"
   },
   {
    "duration": 62,
    "start_time": "2021-07-30T05:32:30.697Z"
   },
   {
    "duration": 33,
    "start_time": "2021-07-30T05:32:30.762Z"
   },
   {
    "duration": 460,
    "start_time": "2021-07-30T05:32:30.797Z"
   },
   {
    "duration": 32,
    "start_time": "2021-07-30T05:32:31.259Z"
   },
   {
    "duration": 76,
    "start_time": "2021-07-30T10:07:18.024Z"
   },
   {
    "duration": 334,
    "start_time": "2021-07-30T10:19:09.084Z"
   },
   {
    "duration": 596,
    "start_time": "2021-07-30T10:19:17.709Z"
   },
   {
    "duration": 45,
    "start_time": "2021-07-30T10:19:23.288Z"
   },
   {
    "duration": 59,
    "start_time": "2021-07-30T10:19:25.223Z"
   },
   {
    "duration": 44,
    "start_time": "2021-07-30T10:20:24.928Z"
   },
   {
    "duration": 34,
    "start_time": "2021-07-30T10:20:37.643Z"
   },
   {
    "duration": 55,
    "start_time": "2021-07-30T10:21:13.956Z"
   },
   {
    "duration": 62,
    "start_time": "2021-07-30T10:31:17.356Z"
   },
   {
    "duration": 57,
    "start_time": "2021-07-30T10:31:43.142Z"
   },
   {
    "duration": 48,
    "start_time": "2021-07-30T10:32:21.335Z"
   },
   {
    "duration": 31,
    "start_time": "2021-07-30T10:32:37.180Z"
   },
   {
    "duration": 59,
    "start_time": "2021-07-30T10:32:58.893Z"
   },
   {
    "duration": 61,
    "start_time": "2021-07-30T10:33:48.550Z"
   },
   {
    "duration": 58,
    "start_time": "2021-07-30T10:35:08.038Z"
   },
   {
    "duration": 80,
    "start_time": "2021-07-30T10:39:11.540Z"
   },
   {
    "duration": 82,
    "start_time": "2021-07-30T10:39:29.811Z"
   },
   {
    "duration": 87,
    "start_time": "2021-07-30T10:40:11.516Z"
   },
   {
    "duration": 10,
    "start_time": "2021-07-30T10:40:52.460Z"
   },
   {
    "duration": 45,
    "start_time": "2021-07-30T10:41:05.323Z"
   },
   {
    "duration": 56,
    "start_time": "2021-07-30T10:41:10.162Z"
   },
   {
    "duration": 9,
    "start_time": "2021-07-30T10:41:17.693Z"
   },
   {
    "duration": 10,
    "start_time": "2021-07-30T10:41:27.791Z"
   },
   {
    "duration": 10,
    "start_time": "2021-07-30T10:41:34.078Z"
   },
   {
    "duration": 10,
    "start_time": "2021-07-30T10:41:50.277Z"
   },
   {
    "duration": 10,
    "start_time": "2021-07-30T10:41:54.932Z"
   },
   {
    "duration": 107,
    "start_time": "2021-07-30T10:42:07.824Z"
   },
   {
    "duration": 11,
    "start_time": "2021-07-30T10:42:13.335Z"
   },
   {
    "duration": 10,
    "start_time": "2021-07-30T10:42:31.611Z"
   },
   {
    "duration": 16,
    "start_time": "2021-07-30T10:43:45.318Z"
   },
   {
    "duration": 9,
    "start_time": "2021-07-30T10:45:10.833Z"
   },
   {
    "duration": 258,
    "start_time": "2021-07-30T10:45:46.598Z"
   },
   {
    "duration": 24,
    "start_time": "2021-07-30T10:46:29.597Z"
   },
   {
    "duration": 10,
    "start_time": "2021-07-30T10:47:07.954Z"
   },
   {
    "duration": 18,
    "start_time": "2021-07-30T10:55:31.796Z"
   },
   {
    "duration": 16,
    "start_time": "2021-07-30T10:55:55.493Z"
   },
   {
    "duration": 15,
    "start_time": "2021-07-30T10:56:30.995Z"
   },
   {
    "duration": 14,
    "start_time": "2021-07-30T10:56:59.259Z"
   },
   {
    "duration": 10,
    "start_time": "2021-07-30T10:57:32.744Z"
   },
   {
    "duration": 12,
    "start_time": "2021-07-30T10:59:56.041Z"
   },
   {
    "duration": 10,
    "start_time": "2021-07-30T11:00:38.576Z"
   },
   {
    "duration": 266,
    "start_time": "2021-07-30T11:01:43.357Z"
   },
   {
    "duration": 11,
    "start_time": "2021-07-30T11:03:32.016Z"
   },
   {
    "duration": 11,
    "start_time": "2021-07-30T11:04:03.021Z"
   },
   {
    "duration": 11,
    "start_time": "2021-07-30T11:05:00.919Z"
   },
   {
    "duration": 88,
    "start_time": "2021-07-30T11:10:19.886Z"
   },
   {
    "duration": 90,
    "start_time": "2021-07-30T11:10:43.253Z"
   },
   {
    "duration": 91,
    "start_time": "2021-07-30T11:11:10.449Z"
   },
   {
    "duration": 120,
    "start_time": "2021-07-30T11:11:40.568Z"
   },
   {
    "duration": 265,
    "start_time": "2021-07-30T11:12:03.513Z"
   },
   {
    "duration": 249,
    "start_time": "2021-07-30T11:13:13.873Z"
   },
   {
    "duration": 32,
    "start_time": "2021-07-30T11:13:32.780Z"
   },
   {
    "duration": 48,
    "start_time": "2021-07-30T11:13:46.154Z"
   },
   {
    "duration": 55,
    "start_time": "2021-07-30T11:13:48.202Z"
   },
   {
    "duration": 11,
    "start_time": "2021-07-30T11:13:55.075Z"
   },
   {
    "duration": 254,
    "start_time": "2021-07-30T11:17:06.266Z"
   },
   {
    "duration": 30,
    "start_time": "2021-07-30T11:17:28.642Z"
   },
   {
    "duration": 92,
    "start_time": "2021-07-30T11:19:36.516Z"
   },
   {
    "duration": 33,
    "start_time": "2021-07-30T11:20:00.896Z"
   },
   {
    "duration": 39,
    "start_time": "2021-07-30T11:20:13.042Z"
   },
   {
    "duration": 29,
    "start_time": "2021-07-30T11:20:29.675Z"
   },
   {
    "duration": 30,
    "start_time": "2021-07-30T11:20:44.658Z"
   },
   {
    "duration": 29,
    "start_time": "2021-07-30T11:21:20.033Z"
   },
   {
    "duration": 31,
    "start_time": "2021-07-30T11:21:54.467Z"
   },
   {
    "duration": 29,
    "start_time": "2021-07-30T11:23:33.281Z"
   },
   {
    "duration": 33,
    "start_time": "2021-07-30T11:27:08.162Z"
   },
   {
    "duration": 32,
    "start_time": "2021-07-30T11:29:38.866Z"
   },
   {
    "duration": 39,
    "start_time": "2021-07-30T11:36:16.610Z"
   },
   {
    "duration": 859,
    "start_time": "2021-07-30T17:23:10.545Z"
   },
   {
    "duration": 89,
    "start_time": "2021-07-30T17:23:15.108Z"
   },
   {
    "duration": 15,
    "start_time": "2021-07-30T17:23:24.409Z"
   },
   {
    "duration": 89,
    "start_time": "2021-07-30T17:23:31.597Z"
   },
   {
    "duration": 63,
    "start_time": "2021-07-30T17:23:39.996Z"
   },
   {
    "duration": 5046,
    "start_time": "2021-07-30T17:23:45.296Z"
   },
   {
    "duration": 27,
    "start_time": "2021-07-30T17:23:52.892Z"
   },
   {
    "duration": 37,
    "start_time": "2021-07-30T17:24:26.669Z"
   },
   {
    "duration": 31,
    "start_time": "2021-07-30T17:24:35.550Z"
   },
   {
    "duration": 436,
    "start_time": "2021-07-30T17:24:44.313Z"
   },
   {
    "duration": 427,
    "start_time": "2021-07-30T17:30:29.188Z"
   },
   {
    "duration": 456,
    "start_time": "2021-07-30T17:31:58.958Z"
   },
   {
    "duration": 421,
    "start_time": "2021-07-30T17:33:47.837Z"
   },
   {
    "duration": 127,
    "start_time": "2021-07-30T17:35:01.161Z"
   },
   {
    "duration": 425,
    "start_time": "2021-07-30T17:35:26.505Z"
   },
   {
    "duration": 431,
    "start_time": "2021-07-30T17:35:43.558Z"
   },
   {
    "duration": 31,
    "start_time": "2021-07-30T17:36:12.518Z"
   },
   {
    "duration": 93,
    "start_time": "2021-07-30T17:41:03.998Z"
   },
   {
    "duration": 112,
    "start_time": "2021-07-30T17:42:27.171Z"
   },
   {
    "duration": 65,
    "start_time": "2021-07-30T17:42:35.283Z"
   },
   {
    "duration": 95,
    "start_time": "2021-07-30T17:42:37.432Z"
   },
   {
    "duration": 101,
    "start_time": "2021-07-30T17:42:42.043Z"
   },
   {
    "duration": 16,
    "start_time": "2021-07-30T17:42:51.264Z"
   },
   {
    "duration": 499,
    "start_time": "2021-07-30T17:42:54.985Z"
   },
   {
    "duration": 94,
    "start_time": "2021-07-30T17:45:39.872Z"
   },
   {
    "duration": 66,
    "start_time": "2021-07-30T17:46:17.376Z"
   },
   {
    "duration": 128,
    "start_time": "2021-07-30T17:46:21.154Z"
   },
   {
    "duration": 635,
    "start_time": "2021-07-30T19:26:42.570Z"
   },
   {
    "duration": 84,
    "start_time": "2021-07-30T19:26:43.207Z"
   },
   {
    "duration": 11,
    "start_time": "2021-07-30T19:26:43.293Z"
   },
   {
    "duration": 55,
    "start_time": "2021-07-30T19:26:43.307Z"
   },
   {
    "duration": 64,
    "start_time": "2021-07-30T19:26:43.364Z"
   },
   {
    "duration": 4000,
    "start_time": "2021-07-30T19:26:43.430Z"
   },
   {
    "duration": 17,
    "start_time": "2021-07-30T19:26:47.433Z"
   },
   {
    "duration": 369,
    "start_time": "2021-07-30T19:26:47.453Z"
   },
   {
    "duration": -799,
    "start_time": "2021-07-30T19:26:48.623Z"
   },
   {
    "duration": -802,
    "start_time": "2021-07-30T19:26:48.628Z"
   },
   {
    "duration": -804,
    "start_time": "2021-07-30T19:26:48.631Z"
   },
   {
    "duration": 30,
    "start_time": "2021-07-30T19:27:03.469Z"
   },
   {
    "duration": 25,
    "start_time": "2021-07-30T19:27:20.113Z"
   },
   {
    "duration": 6365,
    "start_time": "2021-07-30T19:27:51.526Z"
   },
   {
    "duration": 240,
    "start_time": "2021-07-30T19:28:22.283Z"
   },
   {
    "duration": 579,
    "start_time": "2021-07-30T19:28:28.308Z"
   },
   {
    "duration": 19,
    "start_time": "2021-07-30T19:28:35.340Z"
   },
   {
    "duration": 37,
    "start_time": "2021-07-30T19:29:31.987Z"
   },
   {
    "duration": 34,
    "start_time": "2021-07-30T19:29:41.550Z"
   },
   {
    "duration": 28,
    "start_time": "2021-07-30T19:30:03.970Z"
   },
   {
    "duration": 53,
    "start_time": "2021-07-30T19:30:29.592Z"
   },
   {
    "duration": 280,
    "start_time": "2021-07-30T19:31:06.274Z"
   },
   {
    "duration": 269,
    "start_time": "2021-07-30T19:31:16.465Z"
   },
   {
    "duration": 19,
    "start_time": "2021-07-30T19:31:22.610Z"
   },
   {
    "duration": 1027,
    "start_time": "2021-09-08T17:34:36.751Z"
   },
   {
    "duration": 179,
    "start_time": "2021-09-08T17:34:43.655Z"
   },
   {
    "duration": 385,
    "start_time": "2021-09-08T17:34:46.130Z"
   },
   {
    "duration": 87,
    "start_time": "2021-09-08T17:34:46.758Z"
   },
   {
    "duration": 11,
    "start_time": "2021-09-08T17:34:49.562Z"
   },
   {
    "duration": 60,
    "start_time": "2021-09-08T17:34:51.890Z"
   },
   {
    "duration": 41,
    "start_time": "2021-09-08T17:34:57.721Z"
   },
   {
    "duration": 3367,
    "start_time": "2021-09-08T17:35:02.036Z"
   },
   {
    "duration": 3406,
    "start_time": "2021-09-08T17:35:28.854Z"
   },
   {
    "duration": 3289,
    "start_time": "2021-09-08T17:36:13.144Z"
   }
  ],
  "kernelspec": {
   "display_name": "Python 3",
   "language": "python",
   "name": "python3"
  },
  "language_info": {
   "codemirror_mode": {
    "name": "ipython",
    "version": 3
   },
   "file_extension": ".py",
   "mimetype": "text/x-python",
   "name": "python",
   "nbconvert_exporter": "python",
   "pygments_lexer": "ipython3",
   "version": "3.7.8"
  },
  "toc": {
   "base_numbering": 1,
   "nav_menu": {},
   "number_sections": true,
   "sideBar": true,
   "skip_h1_title": true,
   "title_cell": "Table of Contents",
   "title_sidebar": "Contents",
   "toc_cell": false,
   "toc_position": {
    "height": "calc(100% - 180px)",
    "left": "10px",
    "top": "150px",
    "width": "235.188px"
   },
   "toc_section_display": true,
   "toc_window_display": true
  },
  "widgets": {
   "application/vnd.jupyter.widget-state+json": {
    "state": {},
    "version_major": 2,
    "version_minor": 0
   }
  }
 },
 "nbformat": 4,
 "nbformat_minor": 2
}

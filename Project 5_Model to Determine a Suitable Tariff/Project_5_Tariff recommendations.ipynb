{
 "cells": [
  {
   "cell_type": "markdown",
   "metadata": {},
   "source": [
    "# Рекомендация тарифов"
   ]
  },
  {
   "cell_type": "markdown",
   "metadata": {},
   "source": [
    "В вашем распоряжении данные о поведении клиентов, которые уже перешли на эти тарифы (из проекта курса «Статистический анализ данных»). Нужно построить модель для задачи классификации, которая выберет подходящий тариф. Предобработка данных не понадобится — вы её уже сделали.\n",
    "\n",
    "Постройте модель с максимально большим значением *accuracy*. Чтобы сдать проект успешно, нужно довести долю правильных ответов по крайней мере до 0.75. Проверьте *accuracy* на тестовой выборке самостоятельно."
   ]
  },
  {
   "cell_type": "markdown",
   "metadata": {},
   "source": [
    "Шаги исследования:\n",
    "1. [Открытие данных](#start)\n",
    "2. [Разбить на выборки](#split)\n",
    "3. [Исследовать модели](#model)\n",
    "4. [Проверить модель на тестовой выборке](#check)\n",
    "5. [Проверить модель на адекватность](#bonus)\n",
    "6. [Общий вывод](#output)"
   ]
  },
  {
   "cell_type": "markdown",
   "metadata": {},
   "source": [
    "<a id=\"start\"></a>\n",
    "## Откройте и изучите файл"
   ]
  },
  {
   "cell_type": "code",
   "execution_count": 26,
   "metadata": {
    "scrolled": false
   },
   "outputs": [
    {
     "name": "stdout",
     "output_type": "stream",
     "text": [
      "--------------\n",
      "Users behavior\n",
      "--------------\n"
     ]
    },
    {
     "data": {
      "text/html": [
       "<div>\n",
       "<style scoped>\n",
       "    .dataframe tbody tr th:only-of-type {\n",
       "        vertical-align: middle;\n",
       "    }\n",
       "\n",
       "    .dataframe tbody tr th {\n",
       "        vertical-align: top;\n",
       "    }\n",
       "\n",
       "    .dataframe thead th {\n",
       "        text-align: right;\n",
       "    }\n",
       "</style>\n",
       "<table border=\"1\" class=\"dataframe\">\n",
       "  <thead>\n",
       "    <tr style=\"text-align: right;\">\n",
       "      <th></th>\n",
       "      <th>calls</th>\n",
       "      <th>minutes</th>\n",
       "      <th>messages</th>\n",
       "      <th>mb_used</th>\n",
       "      <th>is_ultra</th>\n",
       "    </tr>\n",
       "  </thead>\n",
       "  <tbody>\n",
       "    <tr>\n",
       "      <td>0</td>\n",
       "      <td>40.0</td>\n",
       "      <td>311.90</td>\n",
       "      <td>83.0</td>\n",
       "      <td>19915.42</td>\n",
       "      <td>0</td>\n",
       "    </tr>\n",
       "    <tr>\n",
       "      <td>1</td>\n",
       "      <td>85.0</td>\n",
       "      <td>516.75</td>\n",
       "      <td>56.0</td>\n",
       "      <td>22696.96</td>\n",
       "      <td>0</td>\n",
       "    </tr>\n",
       "    <tr>\n",
       "      <td>2</td>\n",
       "      <td>77.0</td>\n",
       "      <td>467.66</td>\n",
       "      <td>86.0</td>\n",
       "      <td>21060.45</td>\n",
       "      <td>0</td>\n",
       "    </tr>\n",
       "    <tr>\n",
       "      <td>3</td>\n",
       "      <td>106.0</td>\n",
       "      <td>745.53</td>\n",
       "      <td>81.0</td>\n",
       "      <td>8437.39</td>\n",
       "      <td>1</td>\n",
       "    </tr>\n",
       "    <tr>\n",
       "      <td>4</td>\n",
       "      <td>66.0</td>\n",
       "      <td>418.74</td>\n",
       "      <td>1.0</td>\n",
       "      <td>14502.75</td>\n",
       "      <td>0</td>\n",
       "    </tr>\n",
       "    <tr>\n",
       "      <td>5</td>\n",
       "      <td>58.0</td>\n",
       "      <td>344.56</td>\n",
       "      <td>21.0</td>\n",
       "      <td>15823.37</td>\n",
       "      <td>0</td>\n",
       "    </tr>\n",
       "    <tr>\n",
       "      <td>6</td>\n",
       "      <td>57.0</td>\n",
       "      <td>431.64</td>\n",
       "      <td>20.0</td>\n",
       "      <td>3738.90</td>\n",
       "      <td>1</td>\n",
       "    </tr>\n",
       "    <tr>\n",
       "      <td>7</td>\n",
       "      <td>15.0</td>\n",
       "      <td>132.40</td>\n",
       "      <td>6.0</td>\n",
       "      <td>21911.60</td>\n",
       "      <td>0</td>\n",
       "    </tr>\n",
       "    <tr>\n",
       "      <td>8</td>\n",
       "      <td>7.0</td>\n",
       "      <td>43.39</td>\n",
       "      <td>3.0</td>\n",
       "      <td>2538.67</td>\n",
       "      <td>1</td>\n",
       "    </tr>\n",
       "    <tr>\n",
       "      <td>9</td>\n",
       "      <td>90.0</td>\n",
       "      <td>665.41</td>\n",
       "      <td>38.0</td>\n",
       "      <td>17358.61</td>\n",
       "      <td>0</td>\n",
       "    </tr>\n",
       "    <tr>\n",
       "      <td>10</td>\n",
       "      <td>82.0</td>\n",
       "      <td>560.51</td>\n",
       "      <td>20.0</td>\n",
       "      <td>9619.53</td>\n",
       "      <td>1</td>\n",
       "    </tr>\n",
       "    <tr>\n",
       "      <td>11</td>\n",
       "      <td>45.0</td>\n",
       "      <td>344.32</td>\n",
       "      <td>13.0</td>\n",
       "      <td>19898.81</td>\n",
       "      <td>0</td>\n",
       "    </tr>\n",
       "    <tr>\n",
       "      <td>12</td>\n",
       "      <td>51.0</td>\n",
       "      <td>437.13</td>\n",
       "      <td>61.0</td>\n",
       "      <td>21523.58</td>\n",
       "      <td>0</td>\n",
       "    </tr>\n",
       "    <tr>\n",
       "      <td>13</td>\n",
       "      <td>56.0</td>\n",
       "      <td>433.07</td>\n",
       "      <td>16.0</td>\n",
       "      <td>16702.36</td>\n",
       "      <td>0</td>\n",
       "    </tr>\n",
       "    <tr>\n",
       "      <td>14</td>\n",
       "      <td>108.0</td>\n",
       "      <td>587.90</td>\n",
       "      <td>0.0</td>\n",
       "      <td>14406.50</td>\n",
       "      <td>1</td>\n",
       "    </tr>\n",
       "    <tr>\n",
       "      <td>15</td>\n",
       "      <td>6.0</td>\n",
       "      <td>22.13</td>\n",
       "      <td>0.0</td>\n",
       "      <td>2710.09</td>\n",
       "      <td>0</td>\n",
       "    </tr>\n",
       "    <tr>\n",
       "      <td>16</td>\n",
       "      <td>2.0</td>\n",
       "      <td>18.73</td>\n",
       "      <td>0.0</td>\n",
       "      <td>588.89</td>\n",
       "      <td>0</td>\n",
       "    </tr>\n",
       "    <tr>\n",
       "      <td>17</td>\n",
       "      <td>26.0</td>\n",
       "      <td>163.62</td>\n",
       "      <td>4.0</td>\n",
       "      <td>16870.34</td>\n",
       "      <td>0</td>\n",
       "    </tr>\n",
       "    <tr>\n",
       "      <td>18</td>\n",
       "      <td>79.0</td>\n",
       "      <td>532.62</td>\n",
       "      <td>90.0</td>\n",
       "      <td>19908.31</td>\n",
       "      <td>0</td>\n",
       "    </tr>\n",
       "    <tr>\n",
       "      <td>19</td>\n",
       "      <td>49.0</td>\n",
       "      <td>341.67</td>\n",
       "      <td>81.0</td>\n",
       "      <td>11770.28</td>\n",
       "      <td>1</td>\n",
       "    </tr>\n",
       "    <tr>\n",
       "      <td>20</td>\n",
       "      <td>93.0</td>\n",
       "      <td>691.37</td>\n",
       "      <td>31.0</td>\n",
       "      <td>25950.28</td>\n",
       "      <td>1</td>\n",
       "    </tr>\n",
       "    <tr>\n",
       "      <td>21</td>\n",
       "      <td>56.0</td>\n",
       "      <td>411.46</td>\n",
       "      <td>97.0</td>\n",
       "      <td>15393.91</td>\n",
       "      <td>0</td>\n",
       "    </tr>\n",
       "    <tr>\n",
       "      <td>22</td>\n",
       "      <td>48.0</td>\n",
       "      <td>351.60</td>\n",
       "      <td>66.0</td>\n",
       "      <td>16469.90</td>\n",
       "      <td>1</td>\n",
       "    </tr>\n",
       "    <tr>\n",
       "      <td>23</td>\n",
       "      <td>11.0</td>\n",
       "      <td>96.05</td>\n",
       "      <td>19.0</td>\n",
       "      <td>2305.74</td>\n",
       "      <td>0</td>\n",
       "    </tr>\n",
       "    <tr>\n",
       "      <td>24</td>\n",
       "      <td>56.0</td>\n",
       "      <td>360.30</td>\n",
       "      <td>30.0</td>\n",
       "      <td>13560.15</td>\n",
       "      <td>0</td>\n",
       "    </tr>\n",
       "    <tr>\n",
       "      <td>25</td>\n",
       "      <td>53.0</td>\n",
       "      <td>356.22</td>\n",
       "      <td>52.0</td>\n",
       "      <td>22471.77</td>\n",
       "      <td>0</td>\n",
       "    </tr>\n",
       "    <tr>\n",
       "      <td>26</td>\n",
       "      <td>81.0</td>\n",
       "      <td>624.71</td>\n",
       "      <td>38.0</td>\n",
       "      <td>8644.66</td>\n",
       "      <td>1</td>\n",
       "    </tr>\n",
       "    <tr>\n",
       "      <td>27</td>\n",
       "      <td>154.0</td>\n",
       "      <td>1078.64</td>\n",
       "      <td>48.0</td>\n",
       "      <td>29335.15</td>\n",
       "      <td>1</td>\n",
       "    </tr>\n",
       "    <tr>\n",
       "      <td>28</td>\n",
       "      <td>37.0</td>\n",
       "      <td>286.68</td>\n",
       "      <td>44.0</td>\n",
       "      <td>19542.45</td>\n",
       "      <td>0</td>\n",
       "    </tr>\n",
       "    <tr>\n",
       "      <td>29</td>\n",
       "      <td>50.0</td>\n",
       "      <td>358.01</td>\n",
       "      <td>44.0</td>\n",
       "      <td>9998.83</td>\n",
       "      <td>1</td>\n",
       "    </tr>\n",
       "    <tr>\n",
       "      <td>30</td>\n",
       "      <td>41.0</td>\n",
       "      <td>276.81</td>\n",
       "      <td>0.0</td>\n",
       "      <td>19815.62</td>\n",
       "      <td>0</td>\n",
       "    </tr>\n",
       "    <tr>\n",
       "      <td>31</td>\n",
       "      <td>10.0</td>\n",
       "      <td>77.09</td>\n",
       "      <td>31.0</td>\n",
       "      <td>643.15</td>\n",
       "      <td>0</td>\n",
       "    </tr>\n",
       "    <tr>\n",
       "      <td>32</td>\n",
       "      <td>71.0</td>\n",
       "      <td>530.13</td>\n",
       "      <td>27.0</td>\n",
       "      <td>20698.51</td>\n",
       "      <td>0</td>\n",
       "    </tr>\n",
       "    <tr>\n",
       "      <td>33</td>\n",
       "      <td>65.0</td>\n",
       "      <td>482.35</td>\n",
       "      <td>7.0</td>\n",
       "      <td>23064.58</td>\n",
       "      <td>1</td>\n",
       "    </tr>\n",
       "    <tr>\n",
       "      <td>34</td>\n",
       "      <td>110.0</td>\n",
       "      <td>776.85</td>\n",
       "      <td>9.0</td>\n",
       "      <td>20790.93</td>\n",
       "      <td>1</td>\n",
       "    </tr>\n",
       "    <tr>\n",
       "      <td>35</td>\n",
       "      <td>120.0</td>\n",
       "      <td>814.85</td>\n",
       "      <td>0.0</td>\n",
       "      <td>20427.00</td>\n",
       "      <td>1</td>\n",
       "    </tr>\n",
       "    <tr>\n",
       "      <td>36</td>\n",
       "      <td>76.0</td>\n",
       "      <td>543.18</td>\n",
       "      <td>43.0</td>\n",
       "      <td>31845.11</td>\n",
       "      <td>1</td>\n",
       "    </tr>\n",
       "    <tr>\n",
       "      <td>37</td>\n",
       "      <td>64.0</td>\n",
       "      <td>422.69</td>\n",
       "      <td>0.0</td>\n",
       "      <td>11460.29</td>\n",
       "      <td>0</td>\n",
       "    </tr>\n",
       "    <tr>\n",
       "      <td>38</td>\n",
       "      <td>23.0</td>\n",
       "      <td>146.18</td>\n",
       "      <td>33.0</td>\n",
       "      <td>9711.45</td>\n",
       "      <td>0</td>\n",
       "    </tr>\n",
       "    <tr>\n",
       "      <td>39</td>\n",
       "      <td>81.0</td>\n",
       "      <td>519.48</td>\n",
       "      <td>34.0</td>\n",
       "      <td>12750.82</td>\n",
       "      <td>0</td>\n",
       "    </tr>\n",
       "    <tr>\n",
       "      <td>40</td>\n",
       "      <td>34.0</td>\n",
       "      <td>183.28</td>\n",
       "      <td>0.0</td>\n",
       "      <td>18631.66</td>\n",
       "      <td>0</td>\n",
       "    </tr>\n",
       "    <tr>\n",
       "      <td>41</td>\n",
       "      <td>11.0</td>\n",
       "      <td>85.31</td>\n",
       "      <td>7.0</td>\n",
       "      <td>10764.82</td>\n",
       "      <td>1</td>\n",
       "    </tr>\n",
       "    <tr>\n",
       "      <td>42</td>\n",
       "      <td>48.0</td>\n",
       "      <td>392.04</td>\n",
       "      <td>0.0</td>\n",
       "      <td>19122.13</td>\n",
       "      <td>0</td>\n",
       "    </tr>\n",
       "    <tr>\n",
       "      <td>43</td>\n",
       "      <td>50.0</td>\n",
       "      <td>323.99</td>\n",
       "      <td>10.0</td>\n",
       "      <td>20922.05</td>\n",
       "      <td>1</td>\n",
       "    </tr>\n",
       "    <tr>\n",
       "      <td>44</td>\n",
       "      <td>98.0</td>\n",
       "      <td>665.56</td>\n",
       "      <td>106.0</td>\n",
       "      <td>19538.83</td>\n",
       "      <td>0</td>\n",
       "    </tr>\n",
       "    <tr>\n",
       "      <td>45</td>\n",
       "      <td>35.0</td>\n",
       "      <td>235.58</td>\n",
       "      <td>97.0</td>\n",
       "      <td>20710.71</td>\n",
       "      <td>0</td>\n",
       "    </tr>\n",
       "    <tr>\n",
       "      <td>46</td>\n",
       "      <td>76.0</td>\n",
       "      <td>535.91</td>\n",
       "      <td>65.0</td>\n",
       "      <td>11968.22</td>\n",
       "      <td>0</td>\n",
       "    </tr>\n",
       "    <tr>\n",
       "      <td>47</td>\n",
       "      <td>49.0</td>\n",
       "      <td>327.45</td>\n",
       "      <td>0.0</td>\n",
       "      <td>12049.91</td>\n",
       "      <td>1</td>\n",
       "    </tr>\n",
       "    <tr>\n",
       "      <td>48</td>\n",
       "      <td>5.0</td>\n",
       "      <td>49.95</td>\n",
       "      <td>17.0</td>\n",
       "      <td>3370.69</td>\n",
       "      <td>1</td>\n",
       "    </tr>\n",
       "    <tr>\n",
       "      <td>49</td>\n",
       "      <td>58.0</td>\n",
       "      <td>474.92</td>\n",
       "      <td>11.0</td>\n",
       "      <td>17858.59</td>\n",
       "      <td>0</td>\n",
       "    </tr>\n",
       "  </tbody>\n",
       "</table>\n",
       "</div>"
      ],
      "text/plain": [
       "    calls  minutes  messages   mb_used  is_ultra\n",
       "0    40.0   311.90      83.0  19915.42         0\n",
       "1    85.0   516.75      56.0  22696.96         0\n",
       "2    77.0   467.66      86.0  21060.45         0\n",
       "3   106.0   745.53      81.0   8437.39         1\n",
       "4    66.0   418.74       1.0  14502.75         0\n",
       "5    58.0   344.56      21.0  15823.37         0\n",
       "6    57.0   431.64      20.0   3738.90         1\n",
       "7    15.0   132.40       6.0  21911.60         0\n",
       "8     7.0    43.39       3.0   2538.67         1\n",
       "9    90.0   665.41      38.0  17358.61         0\n",
       "10   82.0   560.51      20.0   9619.53         1\n",
       "11   45.0   344.32      13.0  19898.81         0\n",
       "12   51.0   437.13      61.0  21523.58         0\n",
       "13   56.0   433.07      16.0  16702.36         0\n",
       "14  108.0   587.90       0.0  14406.50         1\n",
       "15    6.0    22.13       0.0   2710.09         0\n",
       "16    2.0    18.73       0.0    588.89         0\n",
       "17   26.0   163.62       4.0  16870.34         0\n",
       "18   79.0   532.62      90.0  19908.31         0\n",
       "19   49.0   341.67      81.0  11770.28         1\n",
       "20   93.0   691.37      31.0  25950.28         1\n",
       "21   56.0   411.46      97.0  15393.91         0\n",
       "22   48.0   351.60      66.0  16469.90         1\n",
       "23   11.0    96.05      19.0   2305.74         0\n",
       "24   56.0   360.30      30.0  13560.15         0\n",
       "25   53.0   356.22      52.0  22471.77         0\n",
       "26   81.0   624.71      38.0   8644.66         1\n",
       "27  154.0  1078.64      48.0  29335.15         1\n",
       "28   37.0   286.68      44.0  19542.45         0\n",
       "29   50.0   358.01      44.0   9998.83         1\n",
       "30   41.0   276.81       0.0  19815.62         0\n",
       "31   10.0    77.09      31.0    643.15         0\n",
       "32   71.0   530.13      27.0  20698.51         0\n",
       "33   65.0   482.35       7.0  23064.58         1\n",
       "34  110.0   776.85       9.0  20790.93         1\n",
       "35  120.0   814.85       0.0  20427.00         1\n",
       "36   76.0   543.18      43.0  31845.11         1\n",
       "37   64.0   422.69       0.0  11460.29         0\n",
       "38   23.0   146.18      33.0   9711.45         0\n",
       "39   81.0   519.48      34.0  12750.82         0\n",
       "40   34.0   183.28       0.0  18631.66         0\n",
       "41   11.0    85.31       7.0  10764.82         1\n",
       "42   48.0   392.04       0.0  19122.13         0\n",
       "43   50.0   323.99      10.0  20922.05         1\n",
       "44   98.0   665.56     106.0  19538.83         0\n",
       "45   35.0   235.58      97.0  20710.71         0\n",
       "46   76.0   535.91      65.0  11968.22         0\n",
       "47   49.0   327.45       0.0  12049.91         1\n",
       "48    5.0    49.95      17.0   3370.69         1\n",
       "49   58.0   474.92      11.0  17858.59         0"
      ]
     },
     "metadata": {},
     "output_type": "display_data"
    },
    {
     "data": {
      "text/html": [
       "<div>\n",
       "<style scoped>\n",
       "    .dataframe tbody tr th:only-of-type {\n",
       "        vertical-align: middle;\n",
       "    }\n",
       "\n",
       "    .dataframe tbody tr th {\n",
       "        vertical-align: top;\n",
       "    }\n",
       "\n",
       "    .dataframe thead th {\n",
       "        text-align: right;\n",
       "    }\n",
       "</style>\n",
       "<table border=\"1\" class=\"dataframe\">\n",
       "  <thead>\n",
       "    <tr style=\"text-align: right;\">\n",
       "      <th></th>\n",
       "      <th>calls</th>\n",
       "      <th>minutes</th>\n",
       "      <th>messages</th>\n",
       "      <th>mb_used</th>\n",
       "      <th>is_ultra</th>\n",
       "    </tr>\n",
       "  </thead>\n",
       "  <tbody>\n",
       "    <tr>\n",
       "      <td>count</td>\n",
       "      <td>3214.000000</td>\n",
       "      <td>3214.000000</td>\n",
       "      <td>3214.000000</td>\n",
       "      <td>3214.000000</td>\n",
       "      <td>3214.000000</td>\n",
       "    </tr>\n",
       "    <tr>\n",
       "      <td>mean</td>\n",
       "      <td>63.038892</td>\n",
       "      <td>438.208787</td>\n",
       "      <td>38.281269</td>\n",
       "      <td>17207.673836</td>\n",
       "      <td>0.306472</td>\n",
       "    </tr>\n",
       "    <tr>\n",
       "      <td>std</td>\n",
       "      <td>33.236368</td>\n",
       "      <td>234.569872</td>\n",
       "      <td>36.148326</td>\n",
       "      <td>7570.968246</td>\n",
       "      <td>0.461100</td>\n",
       "    </tr>\n",
       "    <tr>\n",
       "      <td>min</td>\n",
       "      <td>0.000000</td>\n",
       "      <td>0.000000</td>\n",
       "      <td>0.000000</td>\n",
       "      <td>0.000000</td>\n",
       "      <td>0.000000</td>\n",
       "    </tr>\n",
       "    <tr>\n",
       "      <td>25%</td>\n",
       "      <td>40.000000</td>\n",
       "      <td>274.575000</td>\n",
       "      <td>9.000000</td>\n",
       "      <td>12491.902500</td>\n",
       "      <td>0.000000</td>\n",
       "    </tr>\n",
       "    <tr>\n",
       "      <td>50%</td>\n",
       "      <td>62.000000</td>\n",
       "      <td>430.600000</td>\n",
       "      <td>30.000000</td>\n",
       "      <td>16943.235000</td>\n",
       "      <td>0.000000</td>\n",
       "    </tr>\n",
       "    <tr>\n",
       "      <td>75%</td>\n",
       "      <td>82.000000</td>\n",
       "      <td>571.927500</td>\n",
       "      <td>57.000000</td>\n",
       "      <td>21424.700000</td>\n",
       "      <td>1.000000</td>\n",
       "    </tr>\n",
       "    <tr>\n",
       "      <td>max</td>\n",
       "      <td>244.000000</td>\n",
       "      <td>1632.060000</td>\n",
       "      <td>224.000000</td>\n",
       "      <td>49745.730000</td>\n",
       "      <td>1.000000</td>\n",
       "    </tr>\n",
       "  </tbody>\n",
       "</table>\n",
       "</div>"
      ],
      "text/plain": [
       "             calls      minutes     messages       mb_used     is_ultra\n",
       "count  3214.000000  3214.000000  3214.000000   3214.000000  3214.000000\n",
       "mean     63.038892   438.208787    38.281269  17207.673836     0.306472\n",
       "std      33.236368   234.569872    36.148326   7570.968246     0.461100\n",
       "min       0.000000     0.000000     0.000000      0.000000     0.000000\n",
       "25%      40.000000   274.575000     9.000000  12491.902500     0.000000\n",
       "50%      62.000000   430.600000    30.000000  16943.235000     0.000000\n",
       "75%      82.000000   571.927500    57.000000  21424.700000     1.000000\n",
       "max     244.000000  1632.060000   224.000000  49745.730000     1.000000"
      ]
     },
     "metadata": {},
     "output_type": "display_data"
    },
    {
     "name": "stdout",
     "output_type": "stream",
     "text": [
      "<class 'pandas.core.frame.DataFrame'>\n",
      "RangeIndex: 3214 entries, 0 to 3213\n",
      "Data columns (total 5 columns):\n",
      "calls       3214 non-null float64\n",
      "minutes     3214 non-null float64\n",
      "messages    3214 non-null float64\n",
      "mb_used     3214 non-null float64\n",
      "is_ultra    3214 non-null int64\n",
      "dtypes: float64(4), int64(1)\n",
      "memory usage: 125.7 KB\n"
     ]
    }
   ],
   "source": [
    "import pandas as pd\n",
    "from sklearn.linear_model import LogisticRegression\n",
    "from sklearn.ensemble import RandomForestClassifier\n",
    "from sklearn.model_selection import train_test_split\n",
    "from sklearn.model_selection import GridSearchCV #NEW\n",
    "from sklearn.model_selection import RandomizedSearchCV #NEW\n",
    "from IPython.display import display\n",
    "\n",
    "users_behavior = pd.read_csv('/datasets/users_behavior.csv', sep=\",\")\n",
    "print('--------------')\n",
    "print('Users behavior')\n",
    "print('--------------')\n",
    "display(users_behavior.head(50))\n",
    "display(users_behavior.describe())\n",
    "users_behavior.info()"
   ]
  },
  {
   "cell_type": "markdown",
   "metadata": {},
   "source": [
    "<a id=\"split\"></a>\n",
    "## Разбейте данные на выборки"
   ]
  },
  {
   "cell_type": "code",
   "execution_count": 27,
   "metadata": {},
   "outputs": [
    {
     "name": "stdout",
     "output_type": "stream",
     "text": [
      "Размер обучающей выборки calls       1928\n",
      "minutes     1928\n",
      "messages    1928\n",
      "mb_used     1928\n",
      "dtype: int64\n",
      "Размер вылидационной выборки calls       643\n",
      "minutes     643\n",
      "messages    643\n",
      "mb_used     643\n",
      "dtype: int64\n",
      "Размер тестовой выборки calls       643\n",
      "minutes     643\n",
      "messages    643\n",
      "mb_used     643\n",
      "dtype: int64\n"
     ]
    }
   ],
   "source": [
    "features = users_behavior.drop(['is_ultra'], axis=1)\n",
    "target = users_behavior['is_ultra']\n",
    "#Выделим обучающую выборку\n",
    "features_train, features_valid, target_train, target_valid = train_test_split(\n",
    "    features, target, test_size=0.4, random_state=12345)\n",
    "#Выделим вылидационную и тестовую выборки\n",
    "features_valid, features_test, target_valid, target_test = train_test_split(\n",
    "    features_valid, target_valid, test_size=0.5, random_state=12345)\n",
    "print('Размер обучающей выборки',features_train.count()) #NEW\n",
    "print('Размер вылидационной выборки',features_valid.count()) #NEW\n",
    "print('Размер тестовой выборки',features_test.count()) #NEW"
   ]
  },
  {
   "cell_type": "markdown",
   "metadata": {},
   "source": [
    "<a id=\"model\"></a>\n",
    "## Исследуйте модели"
   ]
  },
  {
   "cell_type": "code",
   "execution_count": 31,
   "metadata": {},
   "outputs": [
    {
     "name": "stdout",
     "output_type": "stream",
     "text": [
      "LogisticRegression(C=1.0, class_weight=None, dual=False, fit_intercept=True,\n",
      "                   intercept_scaling=1, l1_ratio=None, max_iter=100,\n",
      "                   multi_class='warn', n_jobs=None, penalty='l2',\n",
      "                   random_state=12345, solver='warn', tol=0.0001, verbose=0,\n",
      "                   warm_start=False)\n",
      "Accuracy модели логистической регрессии на валидационной выборке: 0.7589424572317263\n"
     ]
    },
    {
     "name": "stderr",
     "output_type": "stream",
     "text": [
      "/opt/conda/lib/python3.7/site-packages/sklearn/linear_model/logistic.py:432: FutureWarning: Default solver will be changed to 'lbfgs' in 0.22. Specify a solver to silence this warning.\n",
      "  FutureWarning)\n"
     ]
    }
   ],
   "source": [
    "#Проверим модель логистической регрессии\n",
    "model_reg = LogisticRegression(random_state = 12345)#модель логистической регрессии\n",
    "print(model_reg)\n",
    "model_reg.fit(features_train, target_train) #модель на тренировочной выборке\n",
    "result_reg = model_reg.score(features_valid, target_valid) #метрика качества модели на валидационной выборке\n",
    "print(\"Accuracy модели логистической регрессии на валидационной выборке:\", result_reg)"
   ]
  },
  {
   "cell_type": "code",
   "execution_count": 29,
   "metadata": {
    "scrolled": true
   },
   "outputs": [
    {
     "name": "stdout",
     "output_type": "stream",
     "text": [
      "Accuracy наилучшей модели на валидационной выборке: 0.7589424572317263\n",
      "RandomForestClassifier(bootstrap=True, class_weight=None, criterion='gini',\n",
      "                       max_depth=None, max_features='auto', max_leaf_nodes=None,\n",
      "                       min_impurity_decrease=0.0, min_impurity_split=None,\n",
      "                       min_samples_leaf=1, min_samples_split=2,\n",
      "                       min_weight_fraction_leaf=0.0, n_estimators=1,\n",
      "                       n_jobs=None, oob_score=False, random_state=12345,\n",
      "                       verbose=0, warm_start=False)\n"
     ]
    }
   ],
   "source": [
    "#Выберем лучшую модель случайного леса\n",
    "best_model = None\n",
    "best_result = 0\n",
    "for est in range(1, 11):\n",
    "    model_tree = RandomForestClassifier(random_state=12345, n_estimators= est) #модель с заданным количеством деревьев\n",
    "    model_tree.fit(features_train, target_train) # модель на тренировочной выборке\n",
    "    result_tree = model_reg.score(features_valid, target_valid) # качество модели на валидационной выборке\n",
    "    if result_tree > best_result:\n",
    "        best_model = model_tree#наилучшая модель\n",
    "        best_result = result_tree#наилучшее значение метрики accuracy на валидационных данных\n",
    "\n",
    "print(\"Accuracy наилучшей модели на валидационной выборке:\", best_result)\n",
    "print(best_model)"
   ]
  },
  {
   "cell_type": "markdown",
   "metadata": {},
   "source": [
    "<div class=\"alert alert-block alert-info\">\n",
    "\n",
    "<b>Совет:</b> \n",
    "Можно также применить GridSearchCv и RandomizedSearchCV\n",
    "    \n",
    "Есть хороший пример: https://www.mygreatlearning.com/blog/gridsearchcv/\n",
    "</div>"
   ]
  },
  {
   "cell_type": "markdown",
   "metadata": {},
   "source": [
    "<a id=\"check\"></a>\n",
    "## Проверьте модель на тестовой выборке"
   ]
  },
  {
   "cell_type": "code",
   "execution_count": 30,
   "metadata": {},
   "outputs": [
    {
     "name": "stdout",
     "output_type": "stream",
     "text": [
      "Accuracy модели логистической регрессии на тестовой выборке: 0.7402799377916018\n",
      "Accuracy модели случайного леса на тестовой выборке: 0.7807153965785381\n"
     ]
    },
    {
     "data": {
      "text/html": [
       "<div>\n",
       "<style scoped>\n",
       "    .dataframe tbody tr th:only-of-type {\n",
       "        vertical-align: middle;\n",
       "    }\n",
       "\n",
       "    .dataframe tbody tr th {\n",
       "        vertical-align: top;\n",
       "    }\n",
       "\n",
       "    .dataframe thead th {\n",
       "        text-align: right;\n",
       "    }\n",
       "</style>\n",
       "<table border=\"1\" class=\"dataframe\">\n",
       "  <thead>\n",
       "    <tr style=\"text-align: right;\">\n",
       "      <th></th>\n",
       "      <th>calls</th>\n",
       "      <th>minutes</th>\n",
       "      <th>messages</th>\n",
       "      <th>mb_used</th>\n",
       "      <th>is_ultra</th>\n",
       "    </tr>\n",
       "  </thead>\n",
       "  <tbody>\n",
       "    <tr>\n",
       "      <td>160</td>\n",
       "      <td>61.0</td>\n",
       "      <td>495.11</td>\n",
       "      <td>8.0</td>\n",
       "      <td>10891.23</td>\n",
       "      <td>0</td>\n",
       "    </tr>\n",
       "    <tr>\n",
       "      <td>2498</td>\n",
       "      <td>80.0</td>\n",
       "      <td>555.04</td>\n",
       "      <td>28.0</td>\n",
       "      <td>28083.58</td>\n",
       "      <td>0</td>\n",
       "    </tr>\n",
       "    <tr>\n",
       "      <td>1748</td>\n",
       "      <td>87.0</td>\n",
       "      <td>697.23</td>\n",
       "      <td>0.0</td>\n",
       "      <td>8335.70</td>\n",
       "      <td>0</td>\n",
       "    </tr>\n",
       "    <tr>\n",
       "      <td>1816</td>\n",
       "      <td>41.0</td>\n",
       "      <td>275.80</td>\n",
       "      <td>9.0</td>\n",
       "      <td>10032.39</td>\n",
       "      <td>0</td>\n",
       "    </tr>\n",
       "    <tr>\n",
       "      <td>1077</td>\n",
       "      <td>60.0</td>\n",
       "      <td>428.49</td>\n",
       "      <td>20.0</td>\n",
       "      <td>29389.52</td>\n",
       "      <td>1</td>\n",
       "    </tr>\n",
       "  </tbody>\n",
       "</table>\n",
       "</div>"
      ],
      "text/plain": [
       "      calls  minutes  messages   mb_used  is_ultra\n",
       "160    61.0   495.11       8.0  10891.23         0\n",
       "2498   80.0   555.04      28.0  28083.58         0\n",
       "1748   87.0   697.23       0.0   8335.70         0\n",
       "1816   41.0   275.80       9.0  10032.39         0\n",
       "1077   60.0   428.49      20.0  29389.52         1"
      ]
     },
     "metadata": {},
     "output_type": "display_data"
    }
   ],
   "source": [
    "model_tree_test = RandomForestClassifier(random_state=12345, n_estimators= 10)# инициализирую модель RandomForestRegressor с параметрами random_state=12345, n_estimators=est и max_depth=depth\n",
    "model_tree_test.fit(features_train,target_train) \n",
    "#result = model.score(features_valid, target_valid)\n",
    "result_model_tree_test = model_tree_test.score(features_test, target_test)\n",
    "result_reg = model_reg.score(features_test, target_test)\n",
    "print(\"Accuracy модели логистической регрессии на тестовой выборке:\", result_reg)\n",
    "print(\"Accuracy модели случайного леса на тестовой выборке:\", result_model_tree_test)\n",
    "prediction = pd.merge(features_test, target_test, left_index=True, right_index=True)\n",
    "display(prediction.head(5))"
   ]
  },
  {
   "cell_type": "markdown",
   "metadata": {},
   "source": [
    "С учетом проверки на тестовой выборке следует выбрать модель случайного леса с n_estimators = 10"
   ]
  },
  {
   "cell_type": "markdown",
   "metadata": {},
   "source": [
    "<a id=\"bonus\"></a>\n",
    "## (бонус) Проверьте модели на адекватность"
   ]
  },
  {
   "cell_type": "code",
   "execution_count": 25,
   "metadata": {},
   "outputs": [
    {
     "name": "stdout",
     "output_type": "stream",
     "text": [
      "[1]\n",
      "Accuracy DummyClassifier на тестовой выборке: 0.7060653188180405\n"
     ]
    }
   ],
   "source": [
    "#Люди, которые часто разговоривают, шлют сообщения и используют интернет, выберут тариф \"Ультра\"\n",
    "#calls\tminutes\tmessages\tmb_used\n",
    "new_features = pd.DataFrame(\n",
    "    [[20000.0, 2000.0, 2000000.0, 20000.0]],\n",
    "    columns=features.columns)\n",
    "predictions = model_tree_test.predict(new_features)\n",
    "print(predictions)\n",
    "\n",
    "from sklearn.dummy import DummyClassifier\n",
    "dummy_clf = DummyClassifier(strategy=\"most_frequent\")\n",
    "dummy_clf.fit(features_train, target_train) # модель на тренировочной выборке\n",
    "dummy_clf.predict(features_valid)\n",
    "result_dummy = dummy_clf.score(features_valid, target_valid)\n",
    "print('Accuracy DummyClassifier на тестовой выборке:', result_dummy)"
   ]
  },
  {
   "cell_type": "markdown",
   "metadata": {},
   "source": [
    "<div class=\"alert alert-block alert-info\">\n",
    "\n",
    "<b>Вывод:</b> \n",
    "Полученная модель предсказывает лучше, чем DummyClassifier.\n",
    "</div>"
   ]
  },
  {
   "cell_type": "markdown",
   "metadata": {},
   "source": [
    "## Чек-лист готовности проекта"
   ]
  },
  {
   "cell_type": "markdown",
   "metadata": {},
   "source": [
    "Поставьте 'x' в выполненных пунктах. Далее нажмите Shift+Enter."
   ]
  },
  {
   "cell_type": "markdown",
   "metadata": {},
   "source": [
    "- [x] Jupyter Notebook открыт\n",
    "- [x] Весь код исполняется без ошибок\n",
    "- [x] Ячейки с кодом расположены в порядке исполнения\n",
    "- [x] Выполнено задание 1: данные загружены и изучены\n",
    "- [x] Выполнено задание 2: данные разбиты на три выборки\n",
    "- [x] Выполнено задание 3: проведено исследование моделей\n",
    "    - [x] Рассмотрено больше одной модели\n",
    "    - [x] Рассмотрено хотя бы 3 значения гипепараметров для какой-нибудь модели\n",
    "    - [x] Написаны выводы по результатам исследования\n",
    "- [x] Выполнено задание 3: Проведено тестирование\n",
    "- [x] Удалось достичь accuracy не меньше 0.75\n"
   ]
  }
 ],
 "metadata": {
  "ExecuteTimeLog": [
   {
    "duration": 1311,
    "start_time": "2021-09-13T20:02:45.131Z"
   },
   {
    "duration": 6,
    "start_time": "2021-09-13T20:05:09.150Z"
   },
   {
    "duration": 4,
    "start_time": "2021-09-13T20:05:16.776Z"
   },
   {
    "duration": 7,
    "start_time": "2021-09-13T20:05:57.493Z"
   },
   {
    "duration": 4972,
    "start_time": "2021-09-13T20:06:24.429Z"
   },
   {
    "duration": 5233,
    "start_time": "2021-09-13T20:12:07.141Z"
   },
   {
    "duration": 10163,
    "start_time": "2021-09-13T20:13:22.212Z"
   },
   {
    "duration": 19083,
    "start_time": "2021-09-13T20:13:48.777Z"
   },
   {
    "duration": 374,
    "start_time": "2021-09-13T20:15:30.874Z"
   },
   {
    "duration": 47,
    "start_time": "2021-09-13T20:16:14.870Z"
   },
   {
    "duration": 6,
    "start_time": "2021-09-13T20:16:20.681Z"
   },
   {
    "duration": 14,
    "start_time": "2021-09-13T20:16:23.839Z"
   },
   {
    "duration": 265,
    "start_time": "2021-09-13T20:18:20.546Z"
   },
   {
    "duration": 50,
    "start_time": "2021-09-13T20:18:55.039Z"
   },
   {
    "duration": 7,
    "start_time": "2021-09-13T20:18:57.174Z"
   },
   {
    "duration": 295,
    "start_time": "2021-09-13T20:18:58.707Z"
   },
   {
    "duration": 291,
    "start_time": "2021-09-13T20:19:35.229Z"
   },
   {
    "duration": 314,
    "start_time": "2021-09-13T20:20:43.021Z"
   },
   {
    "duration": 273,
    "start_time": "2021-09-13T20:20:54.749Z"
   },
   {
    "duration": 88,
    "start_time": "2021-09-13T20:26:54.731Z"
   },
   {
    "duration": 203,
    "start_time": "2021-09-13T20:27:09.089Z"
   },
   {
    "duration": 9,
    "start_time": "2021-09-13T20:39:22.104Z"
   },
   {
    "duration": 51,
    "start_time": "2021-09-13T20:41:55.769Z"
   },
   {
    "duration": 8,
    "start_time": "2021-09-13T20:42:00.230Z"
   },
   {
    "duration": 15,
    "start_time": "2021-09-13T20:42:02.940Z"
   },
   {
    "duration": 244,
    "start_time": "2021-09-13T20:42:14.872Z"
   },
   {
    "duration": 166,
    "start_time": "2021-09-13T20:43:37.816Z"
   },
   {
    "duration": 50,
    "start_time": "2021-09-13T20:45:23.923Z"
   },
   {
    "duration": 10,
    "start_time": "2021-09-13T20:45:25.733Z"
   },
   {
    "duration": 15,
    "start_time": "2021-09-13T20:45:27.248Z"
   },
   {
    "duration": 254,
    "start_time": "2021-09-13T20:45:28.112Z"
   },
   {
    "duration": 163,
    "start_time": "2021-09-13T20:45:31.891Z"
   },
   {
    "duration": 46,
    "start_time": "2021-09-13T20:46:02.715Z"
   },
   {
    "duration": 47,
    "start_time": "2021-09-13T20:46:38.532Z"
   },
   {
    "duration": 48,
    "start_time": "2021-09-13T20:46:43.639Z"
   },
   {
    "duration": 10,
    "start_time": "2021-09-13T20:50:26.787Z"
   },
   {
    "duration": 5,
    "start_time": "2021-09-13T20:50:33.852Z"
   },
   {
    "duration": 57,
    "start_time": "2021-09-13T20:54:02.821Z"
   },
   {
    "duration": 370,
    "start_time": "2021-09-13T20:59:40.959Z"
   },
   {
    "duration": 8,
    "start_time": "2021-09-13T21:00:33.009Z"
   },
   {
    "duration": 76,
    "start_time": "2021-09-13T21:01:01.966Z"
   },
   {
    "duration": 7,
    "start_time": "2021-09-13T21:01:04.125Z"
   },
   {
    "duration": 11,
    "start_time": "2021-09-13T21:04:48.104Z"
   },
   {
    "duration": 7,
    "start_time": "2021-09-13T21:04:58.424Z"
   },
   {
    "duration": 7,
    "start_time": "2021-09-13T21:05:27.558Z"
   },
   {
    "duration": 7,
    "start_time": "2021-09-13T21:05:34.441Z"
   },
   {
    "duration": 7,
    "start_time": "2021-09-13T21:07:24.719Z"
   },
   {
    "duration": 7,
    "start_time": "2021-09-13T21:07:53.569Z"
   },
   {
    "duration": 9,
    "start_time": "2021-09-13T21:08:08.793Z"
   },
   {
    "duration": 8,
    "start_time": "2021-09-13T21:08:18.253Z"
   },
   {
    "duration": 47,
    "start_time": "2021-09-13T21:08:27.032Z"
   },
   {
    "duration": 7,
    "start_time": "2021-09-13T21:08:30.037Z"
   },
   {
    "duration": 7,
    "start_time": "2021-09-13T21:08:39.136Z"
   },
   {
    "duration": 7,
    "start_time": "2021-09-13T21:08:44.497Z"
   },
   {
    "duration": 7,
    "start_time": "2021-09-13T21:08:50.071Z"
   },
   {
    "duration": 7,
    "start_time": "2021-09-13T21:08:57.325Z"
   },
   {
    "duration": 58,
    "start_time": "2021-09-13T21:09:01.065Z"
   },
   {
    "duration": 8,
    "start_time": "2021-09-13T21:09:02.572Z"
   },
   {
    "duration": 15,
    "start_time": "2021-09-13T21:09:04.004Z"
   },
   {
    "duration": 246,
    "start_time": "2021-09-13T21:09:04.835Z"
   },
   {
    "duration": 49,
    "start_time": "2021-09-13T21:09:07.886Z"
   },
   {
    "duration": 7,
    "start_time": "2021-09-13T21:09:14.924Z"
   },
   {
    "duration": 8,
    "start_time": "2021-09-13T21:09:20.326Z"
   },
   {
    "duration": 46,
    "start_time": "2021-09-13T21:09:56.143Z"
   },
   {
    "duration": 7,
    "start_time": "2021-09-13T21:10:03.239Z"
   },
   {
    "duration": 13,
    "start_time": "2021-09-13T21:10:30.415Z"
   },
   {
    "duration": 10,
    "start_time": "2021-09-13T21:10:36.687Z"
   },
   {
    "duration": 10,
    "start_time": "2021-09-13T21:10:42.071Z"
   },
   {
    "duration": 12,
    "start_time": "2021-09-13T21:10:47.174Z"
   },
   {
    "duration": 11,
    "start_time": "2021-09-13T21:10:52.229Z"
   },
   {
    "duration": 11,
    "start_time": "2021-09-13T21:11:00.573Z"
   },
   {
    "duration": 10,
    "start_time": "2021-09-13T21:11:12.232Z"
   },
   {
    "duration": 9,
    "start_time": "2021-09-13T21:11:23.662Z"
   },
   {
    "duration": 10,
    "start_time": "2021-09-13T21:11:28.281Z"
   },
   {
    "duration": 11,
    "start_time": "2021-09-13T21:11:42.698Z"
   },
   {
    "duration": 12,
    "start_time": "2021-09-13T21:11:48.032Z"
   },
   {
    "duration": 250,
    "start_time": "2021-09-13T21:12:20.999Z"
   },
   {
    "duration": 250,
    "start_time": "2021-09-13T21:13:12.670Z"
   },
   {
    "duration": 17,
    "start_time": "2021-09-13T21:13:34.595Z"
   },
   {
    "duration": 17,
    "start_time": "2021-09-13T21:13:40.544Z"
   },
   {
    "duration": 232,
    "start_time": "2021-09-13T21:14:05.827Z"
   },
   {
    "duration": 55,
    "start_time": "2021-09-13T21:14:30.703Z"
   },
   {
    "duration": 9,
    "start_time": "2021-09-13T21:14:32.557Z"
   },
   {
    "duration": 17,
    "start_time": "2021-09-13T21:14:34.528Z"
   },
   {
    "duration": 228,
    "start_time": "2021-09-13T21:14:38.421Z"
   },
   {
    "duration": 47,
    "start_time": "2021-09-13T21:14:44.705Z"
   },
   {
    "duration": 440,
    "start_time": "2021-09-13T21:17:07.419Z"
   },
   {
    "duration": 403,
    "start_time": "2021-09-13T21:17:27.405Z"
   },
   {
    "duration": 49,
    "start_time": "2021-09-13T21:17:48.014Z"
   },
   {
    "duration": 18,
    "start_time": "2021-09-13T21:18:42.056Z"
   },
   {
    "duration": 249,
    "start_time": "2021-09-13T21:18:43.280Z"
   },
   {
    "duration": 52,
    "start_time": "2021-09-13T21:18:46.493Z"
   },
   {
    "duration": 10,
    "start_time": "2021-09-13T21:20:10.789Z"
   },
   {
    "duration": 12,
    "start_time": "2021-09-13T21:20:20.001Z"
   },
   {
    "duration": 10,
    "start_time": "2021-09-13T21:20:25.732Z"
   },
   {
    "duration": 10,
    "start_time": "2021-09-13T21:20:33.621Z"
   },
   {
    "duration": 10,
    "start_time": "2021-09-13T21:21:54.860Z"
   },
   {
    "duration": 9,
    "start_time": "2021-09-13T21:22:19.782Z"
   },
   {
    "duration": 8,
    "start_time": "2021-09-13T21:22:34.560Z"
   },
   {
    "duration": 367,
    "start_time": "2021-09-14T09:49:35.905Z"
   },
   {
    "duration": 1463,
    "start_time": "2021-09-14T09:49:45.425Z"
   },
   {
    "duration": 409,
    "start_time": "2021-09-14T09:49:51.385Z"
   },
   {
    "duration": 81,
    "start_time": "2021-09-14T09:50:35.235Z"
   },
   {
    "duration": 324,
    "start_time": "2021-09-14T09:50:43.065Z"
   },
   {
    "duration": 79,
    "start_time": "2021-09-14T09:51:34.705Z"
   },
   {
    "duration": 24,
    "start_time": "2021-09-14T09:51:40.150Z"
   },
   {
    "duration": 97,
    "start_time": "2021-09-14T10:01:15.947Z"
   },
   {
    "duration": 78,
    "start_time": "2021-09-14T10:01:24.857Z"
   },
   {
    "duration": 19,
    "start_time": "2021-09-14T10:01:27.902Z"
   },
   {
    "duration": 334,
    "start_time": "2021-09-14T10:01:33.937Z"
   },
   {
    "duration": 27,
    "start_time": "2021-09-14T10:01:53.737Z"
   },
   {
    "duration": 343,
    "start_time": "2021-09-14T10:02:00.739Z"
   },
   {
    "duration": 324,
    "start_time": "2021-09-14T10:02:09.717Z"
   },
   {
    "duration": 67,
    "start_time": "2021-09-14T10:02:22.137Z"
   },
   {
    "duration": 67,
    "start_time": "2021-09-14T10:02:49.297Z"
   },
   {
    "duration": 71,
    "start_time": "2021-09-14T10:03:14.457Z"
   },
   {
    "duration": 382,
    "start_time": "2021-09-14T10:15:12.038Z"
   },
   {
    "duration": 71,
    "start_time": "2021-09-14T10:17:59.083Z"
   },
   {
    "duration": 77,
    "start_time": "2021-09-14T10:18:16.043Z"
   },
   {
    "duration": 9,
    "start_time": "2021-09-14T10:20:22.539Z"
   },
   {
    "duration": 13,
    "start_time": "2021-09-14T10:27:08.443Z"
   },
   {
    "duration": 13,
    "start_time": "2021-09-14T10:27:10.403Z"
   },
   {
    "duration": 15,
    "start_time": "2021-09-14T10:27:20.207Z"
   },
   {
    "duration": 15,
    "start_time": "2021-09-14T10:29:37.373Z"
   },
   {
    "duration": 80,
    "start_time": "2021-09-14T18:25:06.163Z"
   },
   {
    "duration": 18,
    "start_time": "2021-09-14T18:25:07.162Z"
   },
   {
    "duration": 26,
    "start_time": "2021-09-14T18:25:08.517Z"
   },
   {
    "duration": 321,
    "start_time": "2021-09-14T18:25:08.761Z"
   },
   {
    "duration": 80,
    "start_time": "2021-09-14T18:25:10.260Z"
   },
   {
    "duration": 27,
    "start_time": "2021-09-14T18:26:46.190Z"
   }
  ],
  "kernelspec": {
   "display_name": "Python 3",
   "language": "python",
   "name": "python3"
  },
  "language_info": {
   "codemirror_mode": {
    "name": "ipython",
    "version": 3
   },
   "file_extension": ".py",
   "mimetype": "text/x-python",
   "name": "python",
   "nbconvert_exporter": "python",
   "pygments_lexer": "ipython3",
   "version": "3.7.8"
  },
  "toc": {
   "base_numbering": 1,
   "nav_menu": {},
   "number_sections": true,
   "sideBar": true,
   "skip_h1_title": true,
   "title_cell": "Table of Contents",
   "title_sidebar": "Contents",
   "toc_cell": false,
   "toc_position": {},
   "toc_section_display": true,
   "toc_window_display": false
  }
 },
 "nbformat": 4,
 "nbformat_minor": 2
}

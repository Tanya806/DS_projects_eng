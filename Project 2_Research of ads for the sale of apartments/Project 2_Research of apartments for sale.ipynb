{
 "cells": [
  {
   "cell_type": "markdown",
   "metadata": {
    "toc": true
   },
   "source": [
    "<h1>Содержание<span class=\"tocSkip\"></span></h1>\n",
    "<div class=\"toc\"><ul class=\"toc-item\"><li><span><a href=\"#Изучение-данных-из-файла\" data-toc-modified-id=\"Изучение-данных-из-файла-1\"><span class=\"toc-item-num\">1&nbsp;&nbsp;</span>Изучение данных из файла</a></span><ul class=\"toc-item\"><li><span><a href=\"#Вывод\" data-toc-modified-id=\"Вывод-1.1\"><span class=\"toc-item-num\">1.1&nbsp;&nbsp;</span>Вывод</a></span></li></ul></li><li><span><a href=\"#Предобработка-данных\" data-toc-modified-id=\"Предобработка-данных-2\"><span class=\"toc-item-num\">2&nbsp;&nbsp;</span>Предобработка данных</a></span></li><li><span><a href=\"#Расчёты-и-добавление-результатов-в-таблицу\" data-toc-modified-id=\"Расчёты-и-добавление-результатов-в-таблицу-3\"><span class=\"toc-item-num\">3&nbsp;&nbsp;</span>Расчёты и добавление результатов в таблицу</a></span></li><li><span><a href=\"#Исследовательский-анализ-данных\" data-toc-modified-id=\"Исследовательский-анализ-данных-4\"><span class=\"toc-item-num\">4&nbsp;&nbsp;</span>Исследовательский анализ данных</a></span></li><li><span><a href=\"#Общий-вывод\" data-toc-modified-id=\"Общий-вывод-5\"><span class=\"toc-item-num\">5&nbsp;&nbsp;</span>Общий вывод</a></span></li><li><span><a href=\"#Чек-лист-готовности-проекта\" data-toc-modified-id=\"Чек-лист-готовности-проекта-6\"><span class=\"toc-item-num\">6&nbsp;&nbsp;</span>Чек-лист готовности проекта</a></span></li></ul></div>"
   ]
  },
  {
   "cell_type": "markdown",
   "metadata": {},
   "source": [
    "# Исследование объявлений о продаже квартир\n",
    "\n",
    "В вашем распоряжении данные сервиса Яндекс.Недвижимость — архив объявлений о продаже квартир в Санкт-Петербурге и соседних населённых пунктах за несколько лет. Нужно научиться определять рыночную стоимость объектов недвижимости. Ваша задача — установить параметры. Это позволит построить автоматизированную систему: она отследит аномалии и мошенническую деятельность. \n",
    "\n",
    "По каждой квартире на продажу доступны два вида данных. Первые вписаны пользователем, вторые получены автоматически на основе картографических данных. Например, расстояние до центра, аэропорта, ближайшего парка и водоёма. "
   ]
  },
  {
   "cell_type": "markdown",
   "metadata": {},
   "source": [
    "<div class=\"alert alert-success\">\n",
  
    "</div>"
   ]
  },
  {
   "cell_type": "markdown",
   "metadata": {},
   "source": [
    "## Изучение данных из файла"
   ]
  },
  {
   "cell_type": "code",
   "execution_count": 120,
   "metadata": {},
   "outputs": [
    {
     "data": {
      "text/html": [
       "<div>\n",
       "<style scoped>\n",
       "    .dataframe tbody tr th:only-of-type {\n",
       "        vertical-align: middle;\n",
       "    }\n",
       "\n",
       "    .dataframe tbody tr th {\n",
       "        vertical-align: top;\n",
       "    }\n",
       "\n",
       "    .dataframe thead th {\n",
       "        text-align: right;\n",
       "    }\n",
       "</style>\n",
       "<table border=\"1\" class=\"dataframe\">\n",
       "  <thead>\n",
       "    <tr style=\"text-align: right;\">\n",
       "      <th></th>\n",
       "      <th>total_images</th>\n",
       "      <th>last_price</th>\n",
       "      <th>total_area</th>\n",
       "      <th>first_day_exposition</th>\n",
       "      <th>rooms</th>\n",
       "      <th>ceiling_height</th>\n",
       "      <th>floors_total</th>\n",
       "      <th>living_area</th>\n",
       "      <th>floor</th>\n",
       "      <th>is_apartment</th>\n",
       "      <th>...</th>\n",
       "      <th>kitchen_area</th>\n",
       "      <th>balcony</th>\n",
       "      <th>locality_name</th>\n",
       "      <th>airports_nearest</th>\n",
       "      <th>cityCenters_nearest</th>\n",
       "      <th>parks_around3000</th>\n",
       "      <th>parks_nearest</th>\n",
       "      <th>ponds_around3000</th>\n",
       "      <th>ponds_nearest</th>\n",
       "      <th>days_exposition</th>\n",
       "    </tr>\n",
       "  </thead>\n",
       "  <tbody>\n",
       "    <tr>\n",
       "      <td>0</td>\n",
       "      <td>20</td>\n",
       "      <td>13000000.0</td>\n",
       "      <td>108.00</td>\n",
       "      <td>2019-03-07T00:00:00</td>\n",
       "      <td>3</td>\n",
       "      <td>2.70</td>\n",
       "      <td>16.0</td>\n",
       "      <td>51.00</td>\n",
       "      <td>8</td>\n",
       "      <td>NaN</td>\n",
       "      <td>...</td>\n",
       "      <td>25.00</td>\n",
       "      <td>NaN</td>\n",
       "      <td>Санкт-Петербург</td>\n",
       "      <td>18863.0</td>\n",
       "      <td>16028.0</td>\n",
       "      <td>1.0</td>\n",
       "      <td>482.0</td>\n",
       "      <td>2.0</td>\n",
       "      <td>755.0</td>\n",
       "      <td>NaN</td>\n",
       "    </tr>\n",
       "    <tr>\n",
       "      <td>1</td>\n",
       "      <td>7</td>\n",
       "      <td>3350000.0</td>\n",
       "      <td>40.40</td>\n",
       "      <td>2018-12-04T00:00:00</td>\n",
       "      <td>1</td>\n",
       "      <td>NaN</td>\n",
       "      <td>11.0</td>\n",
       "      <td>18.60</td>\n",
       "      <td>1</td>\n",
       "      <td>NaN</td>\n",
       "      <td>...</td>\n",
       "      <td>11.00</td>\n",
       "      <td>2.0</td>\n",
       "      <td>посёлок Шушары</td>\n",
       "      <td>12817.0</td>\n",
       "      <td>18603.0</td>\n",
       "      <td>0.0</td>\n",
       "      <td>NaN</td>\n",
       "      <td>0.0</td>\n",
       "      <td>NaN</td>\n",
       "      <td>81.0</td>\n",
       "    </tr>\n",
       "    <tr>\n",
       "      <td>2</td>\n",
       "      <td>10</td>\n",
       "      <td>5196000.0</td>\n",
       "      <td>56.00</td>\n",
       "      <td>2015-08-20T00:00:00</td>\n",
       "      <td>2</td>\n",
       "      <td>NaN</td>\n",
       "      <td>5.0</td>\n",
       "      <td>34.30</td>\n",
       "      <td>4</td>\n",
       "      <td>NaN</td>\n",
       "      <td>...</td>\n",
       "      <td>8.30</td>\n",
       "      <td>0.0</td>\n",
       "      <td>Санкт-Петербург</td>\n",
       "      <td>21741.0</td>\n",
       "      <td>13933.0</td>\n",
       "      <td>1.0</td>\n",
       "      <td>90.0</td>\n",
       "      <td>2.0</td>\n",
       "      <td>574.0</td>\n",
       "      <td>558.0</td>\n",
       "    </tr>\n",
       "    <tr>\n",
       "      <td>3</td>\n",
       "      <td>0</td>\n",
       "      <td>64900000.0</td>\n",
       "      <td>159.00</td>\n",
       "      <td>2015-07-24T00:00:00</td>\n",
       "      <td>3</td>\n",
       "      <td>NaN</td>\n",
       "      <td>14.0</td>\n",
       "      <td>NaN</td>\n",
       "      <td>9</td>\n",
       "      <td>NaN</td>\n",
       "      <td>...</td>\n",
       "      <td>NaN</td>\n",
       "      <td>0.0</td>\n",
       "      <td>Санкт-Петербург</td>\n",
       "      <td>28098.0</td>\n",
       "      <td>6800.0</td>\n",
       "      <td>2.0</td>\n",
       "      <td>84.0</td>\n",
       "      <td>3.0</td>\n",
       "      <td>234.0</td>\n",
       "      <td>424.0</td>\n",
       "    </tr>\n",
       "    <tr>\n",
       "      <td>4</td>\n",
       "      <td>2</td>\n",
       "      <td>10000000.0</td>\n",
       "      <td>100.00</td>\n",
       "      <td>2018-06-19T00:00:00</td>\n",
       "      <td>2</td>\n",
       "      <td>3.03</td>\n",
       "      <td>14.0</td>\n",
       "      <td>32.00</td>\n",
       "      <td>13</td>\n",
       "      <td>NaN</td>\n",
       "      <td>...</td>\n",
       "      <td>41.00</td>\n",
       "      <td>NaN</td>\n",
       "      <td>Санкт-Петербург</td>\n",
       "      <td>31856.0</td>\n",
       "      <td>8098.0</td>\n",
       "      <td>2.0</td>\n",
       "      <td>112.0</td>\n",
       "      <td>1.0</td>\n",
       "      <td>48.0</td>\n",
       "      <td>121.0</td>\n",
       "    </tr>\n",
       "    <tr>\n",
       "      <td>5</td>\n",
       "      <td>10</td>\n",
       "      <td>2890000.0</td>\n",
       "      <td>30.40</td>\n",
       "      <td>2018-09-10T00:00:00</td>\n",
       "      <td>1</td>\n",
       "      <td>NaN</td>\n",
       "      <td>12.0</td>\n",
       "      <td>14.40</td>\n",
       "      <td>5</td>\n",
       "      <td>NaN</td>\n",
       "      <td>...</td>\n",
       "      <td>9.10</td>\n",
       "      <td>NaN</td>\n",
       "      <td>городской посёлок Янино-1</td>\n",
       "      <td>NaN</td>\n",
       "      <td>NaN</td>\n",
       "      <td>NaN</td>\n",
       "      <td>NaN</td>\n",
       "      <td>NaN</td>\n",
       "      <td>NaN</td>\n",
       "      <td>55.0</td>\n",
       "    </tr>\n",
       "    <tr>\n",
       "      <td>6</td>\n",
       "      <td>6</td>\n",
       "      <td>3700000.0</td>\n",
       "      <td>37.30</td>\n",
       "      <td>2017-11-02T00:00:00</td>\n",
       "      <td>1</td>\n",
       "      <td>NaN</td>\n",
       "      <td>26.0</td>\n",
       "      <td>10.60</td>\n",
       "      <td>6</td>\n",
       "      <td>NaN</td>\n",
       "      <td>...</td>\n",
       "      <td>14.40</td>\n",
       "      <td>1.0</td>\n",
       "      <td>посёлок Парголово</td>\n",
       "      <td>52996.0</td>\n",
       "      <td>19143.0</td>\n",
       "      <td>0.0</td>\n",
       "      <td>NaN</td>\n",
       "      <td>0.0</td>\n",
       "      <td>NaN</td>\n",
       "      <td>155.0</td>\n",
       "    </tr>\n",
       "    <tr>\n",
       "      <td>7</td>\n",
       "      <td>5</td>\n",
       "      <td>7915000.0</td>\n",
       "      <td>71.60</td>\n",
       "      <td>2019-04-18T00:00:00</td>\n",
       "      <td>2</td>\n",
       "      <td>NaN</td>\n",
       "      <td>24.0</td>\n",
       "      <td>NaN</td>\n",
       "      <td>22</td>\n",
       "      <td>NaN</td>\n",
       "      <td>...</td>\n",
       "      <td>18.90</td>\n",
       "      <td>2.0</td>\n",
       "      <td>Санкт-Петербург</td>\n",
       "      <td>23982.0</td>\n",
       "      <td>11634.0</td>\n",
       "      <td>0.0</td>\n",
       "      <td>NaN</td>\n",
       "      <td>0.0</td>\n",
       "      <td>NaN</td>\n",
       "      <td>NaN</td>\n",
       "    </tr>\n",
       "    <tr>\n",
       "      <td>8</td>\n",
       "      <td>20</td>\n",
       "      <td>2900000.0</td>\n",
       "      <td>33.16</td>\n",
       "      <td>2018-05-23T00:00:00</td>\n",
       "      <td>1</td>\n",
       "      <td>NaN</td>\n",
       "      <td>27.0</td>\n",
       "      <td>15.43</td>\n",
       "      <td>26</td>\n",
       "      <td>NaN</td>\n",
       "      <td>...</td>\n",
       "      <td>8.81</td>\n",
       "      <td>NaN</td>\n",
       "      <td>посёлок Мурино</td>\n",
       "      <td>NaN</td>\n",
       "      <td>NaN</td>\n",
       "      <td>NaN</td>\n",
       "      <td>NaN</td>\n",
       "      <td>NaN</td>\n",
       "      <td>NaN</td>\n",
       "      <td>189.0</td>\n",
       "    </tr>\n",
       "    <tr>\n",
       "      <td>9</td>\n",
       "      <td>18</td>\n",
       "      <td>5400000.0</td>\n",
       "      <td>61.00</td>\n",
       "      <td>2017-02-26T00:00:00</td>\n",
       "      <td>3</td>\n",
       "      <td>2.50</td>\n",
       "      <td>9.0</td>\n",
       "      <td>43.60</td>\n",
       "      <td>7</td>\n",
       "      <td>NaN</td>\n",
       "      <td>...</td>\n",
       "      <td>6.50</td>\n",
       "      <td>2.0</td>\n",
       "      <td>Санкт-Петербург</td>\n",
       "      <td>50898.0</td>\n",
       "      <td>15008.0</td>\n",
       "      <td>0.0</td>\n",
       "      <td>NaN</td>\n",
       "      <td>0.0</td>\n",
       "      <td>NaN</td>\n",
       "      <td>289.0</td>\n",
       "    </tr>\n",
       "  </tbody>\n",
       "</table>\n",
       "<p>10 rows × 22 columns</p>\n",
       "</div>"
      ],
      "text/plain": [
       "   total_images  last_price  total_area first_day_exposition  rooms  \\\n",
       "0            20  13000000.0      108.00  2019-03-07T00:00:00      3   \n",
       "1             7   3350000.0       40.40  2018-12-04T00:00:00      1   \n",
       "2            10   5196000.0       56.00  2015-08-20T00:00:00      2   \n",
       "3             0  64900000.0      159.00  2015-07-24T00:00:00      3   \n",
       "4             2  10000000.0      100.00  2018-06-19T00:00:00      2   \n",
       "5            10   2890000.0       30.40  2018-09-10T00:00:00      1   \n",
       "6             6   3700000.0       37.30  2017-11-02T00:00:00      1   \n",
       "7             5   7915000.0       71.60  2019-04-18T00:00:00      2   \n",
       "8            20   2900000.0       33.16  2018-05-23T00:00:00      1   \n",
       "9            18   5400000.0       61.00  2017-02-26T00:00:00      3   \n",
       "\n",
       "   ceiling_height  floors_total  living_area  floor is_apartment  ...  \\\n",
       "0            2.70          16.0        51.00      8          NaN  ...   \n",
       "1             NaN          11.0        18.60      1          NaN  ...   \n",
       "2             NaN           5.0        34.30      4          NaN  ...   \n",
       "3             NaN          14.0          NaN      9          NaN  ...   \n",
       "4            3.03          14.0        32.00     13          NaN  ...   \n",
       "5             NaN          12.0        14.40      5          NaN  ...   \n",
       "6             NaN          26.0        10.60      6          NaN  ...   \n",
       "7             NaN          24.0          NaN     22          NaN  ...   \n",
       "8             NaN          27.0        15.43     26          NaN  ...   \n",
       "9            2.50           9.0        43.60      7          NaN  ...   \n",
       "\n",
       "   kitchen_area  balcony              locality_name  airports_nearest  \\\n",
       "0         25.00      NaN            Санкт-Петербург           18863.0   \n",
       "1         11.00      2.0             посёлок Шушары           12817.0   \n",
       "2          8.30      0.0            Санкт-Петербург           21741.0   \n",
       "3           NaN      0.0            Санкт-Петербург           28098.0   \n",
       "4         41.00      NaN            Санкт-Петербург           31856.0   \n",
       "5          9.10      NaN  городской посёлок Янино-1               NaN   \n",
       "6         14.40      1.0          посёлок Парголово           52996.0   \n",
       "7         18.90      2.0            Санкт-Петербург           23982.0   \n",
       "8          8.81      NaN             посёлок Мурино               NaN   \n",
       "9          6.50      2.0            Санкт-Петербург           50898.0   \n",
       "\n",
       "  cityCenters_nearest  parks_around3000  parks_nearest  ponds_around3000  \\\n",
       "0             16028.0               1.0          482.0               2.0   \n",
       "1             18603.0               0.0            NaN               0.0   \n",
       "2             13933.0               1.0           90.0               2.0   \n",
       "3              6800.0               2.0           84.0               3.0   \n",
       "4              8098.0               2.0          112.0               1.0   \n",
       "5                 NaN               NaN            NaN               NaN   \n",
       "6             19143.0               0.0            NaN               0.0   \n",
       "7             11634.0               0.0            NaN               0.0   \n",
       "8                 NaN               NaN            NaN               NaN   \n",
       "9             15008.0               0.0            NaN               0.0   \n",
       "\n",
       "   ponds_nearest  days_exposition  \n",
       "0          755.0              NaN  \n",
       "1            NaN             81.0  \n",
       "2          574.0            558.0  \n",
       "3          234.0            424.0  \n",
       "4           48.0            121.0  \n",
       "5            NaN             55.0  \n",
       "6            NaN            155.0  \n",
       "7            NaN              NaN  \n",
       "8            NaN            189.0  \n",
       "9            NaN            289.0  \n",
       "\n",
       "[10 rows x 22 columns]"
      ]
     },
     "metadata": {},
     "output_type": "display_data"
    },
    {
     "name": "stdout",
     "output_type": "stream",
     "text": [
      "<class 'pandas.core.frame.DataFrame'>\n",
      "RangeIndex: 23699 entries, 0 to 23698\n",
      "Data columns (total 22 columns):\n",
      "total_images            23699 non-null int64\n",
      "last_price              23699 non-null float64\n",
      "total_area              23699 non-null float64\n",
      "first_day_exposition    23699 non-null object\n",
      "rooms                   23699 non-null int64\n",
      "ceiling_height          14504 non-null float64\n",
      "floors_total            23613 non-null float64\n",
      "living_area             21796 non-null float64\n",
      "floor                   23699 non-null int64\n",
      "is_apartment            2775 non-null object\n",
      "studio                  23699 non-null bool\n",
      "open_plan               23699 non-null bool\n",
      "kitchen_area            21421 non-null float64\n",
      "balcony                 12180 non-null float64\n",
      "locality_name           23650 non-null object\n",
      "airports_nearest        18157 non-null float64\n",
      "cityCenters_nearest     18180 non-null float64\n",
      "parks_around3000        18181 non-null float64\n",
      "parks_nearest           8079 non-null float64\n",
      "ponds_around3000        18181 non-null float64\n",
      "ponds_nearest           9110 non-null float64\n",
      "days_exposition         20518 non-null float64\n",
      "dtypes: bool(2), float64(14), int64(3), object(3)\n",
      "memory usage: 3.7+ MB\n"
     ]
    },
    {
     "data": {
      "text/html": [
       "<div>\n",
       "<style scoped>\n",
       "    .dataframe tbody tr th:only-of-type {\n",
       "        vertical-align: middle;\n",
       "    }\n",
       "\n",
       "    .dataframe tbody tr th {\n",
       "        vertical-align: top;\n",
       "    }\n",
       "\n",
       "    .dataframe thead th {\n",
       "        text-align: right;\n",
       "    }\n",
       "</style>\n",
       "<table border=\"1\" class=\"dataframe\">\n",
       "  <thead>\n",
       "    <tr style=\"text-align: right;\">\n",
       "      <th></th>\n",
       "      <th>total_images</th>\n",
       "      <th>last_price</th>\n",
       "      <th>total_area</th>\n",
       "      <th>rooms</th>\n",
       "      <th>ceiling_height</th>\n",
       "      <th>floors_total</th>\n",
       "      <th>living_area</th>\n",
       "      <th>floor</th>\n",
       "      <th>kitchen_area</th>\n",
       "      <th>balcony</th>\n",
       "      <th>airports_nearest</th>\n",
       "      <th>cityCenters_nearest</th>\n",
       "      <th>parks_around3000</th>\n",
       "      <th>parks_nearest</th>\n",
       "      <th>ponds_around3000</th>\n",
       "      <th>ponds_nearest</th>\n",
       "      <th>days_exposition</th>\n",
       "    </tr>\n",
       "  </thead>\n",
       "  <tbody>\n",
       "    <tr>\n",
       "      <td>count</td>\n",
       "      <td>23699.000000</td>\n",
       "      <td>2.369900e+04</td>\n",
       "      <td>23699.000000</td>\n",
       "      <td>23699.000000</td>\n",
       "      <td>14504.000000</td>\n",
       "      <td>23613.000000</td>\n",
       "      <td>21796.000000</td>\n",
       "      <td>23699.000000</td>\n",
       "      <td>21421.000000</td>\n",
       "      <td>12180.000000</td>\n",
       "      <td>18157.000000</td>\n",
       "      <td>18180.000000</td>\n",
       "      <td>18181.000000</td>\n",
       "      <td>8079.000000</td>\n",
       "      <td>18181.000000</td>\n",
       "      <td>9110.000000</td>\n",
       "      <td>20518.000000</td>\n",
       "    </tr>\n",
       "    <tr>\n",
       "      <td>mean</td>\n",
       "      <td>9.858475</td>\n",
       "      <td>6.541549e+06</td>\n",
       "      <td>60.348651</td>\n",
       "      <td>2.070636</td>\n",
       "      <td>2.771499</td>\n",
       "      <td>10.673824</td>\n",
       "      <td>34.457852</td>\n",
       "      <td>5.892358</td>\n",
       "      <td>10.569807</td>\n",
       "      <td>1.150082</td>\n",
       "      <td>28793.672193</td>\n",
       "      <td>14191.277833</td>\n",
       "      <td>0.611408</td>\n",
       "      <td>490.804555</td>\n",
       "      <td>0.770255</td>\n",
       "      <td>517.980900</td>\n",
       "      <td>180.888634</td>\n",
       "    </tr>\n",
       "    <tr>\n",
       "      <td>std</td>\n",
       "      <td>5.682529</td>\n",
       "      <td>1.088701e+07</td>\n",
       "      <td>35.654083</td>\n",
       "      <td>1.078405</td>\n",
       "      <td>1.261056</td>\n",
       "      <td>6.597173</td>\n",
       "      <td>22.030445</td>\n",
       "      <td>4.885249</td>\n",
       "      <td>5.905438</td>\n",
       "      <td>1.071300</td>\n",
       "      <td>12630.880622</td>\n",
       "      <td>8608.386210</td>\n",
       "      <td>0.802074</td>\n",
       "      <td>342.317995</td>\n",
       "      <td>0.938346</td>\n",
       "      <td>277.720643</td>\n",
       "      <td>219.727988</td>\n",
       "    </tr>\n",
       "    <tr>\n",
       "      <td>min</td>\n",
       "      <td>0.000000</td>\n",
       "      <td>1.219000e+04</td>\n",
       "      <td>12.000000</td>\n",
       "      <td>0.000000</td>\n",
       "      <td>1.000000</td>\n",
       "      <td>1.000000</td>\n",
       "      <td>2.000000</td>\n",
       "      <td>1.000000</td>\n",
       "      <td>1.300000</td>\n",
       "      <td>0.000000</td>\n",
       "      <td>0.000000</td>\n",
       "      <td>181.000000</td>\n",
       "      <td>0.000000</td>\n",
       "      <td>1.000000</td>\n",
       "      <td>0.000000</td>\n",
       "      <td>13.000000</td>\n",
       "      <td>1.000000</td>\n",
       "    </tr>\n",
       "    <tr>\n",
       "      <td>25%</td>\n",
       "      <td>6.000000</td>\n",
       "      <td>3.400000e+06</td>\n",
       "      <td>40.000000</td>\n",
       "      <td>1.000000</td>\n",
       "      <td>2.520000</td>\n",
       "      <td>5.000000</td>\n",
       "      <td>18.600000</td>\n",
       "      <td>2.000000</td>\n",
       "      <td>7.000000</td>\n",
       "      <td>0.000000</td>\n",
       "      <td>18585.000000</td>\n",
       "      <td>9238.000000</td>\n",
       "      <td>0.000000</td>\n",
       "      <td>288.000000</td>\n",
       "      <td>0.000000</td>\n",
       "      <td>294.000000</td>\n",
       "      <td>45.000000</td>\n",
       "    </tr>\n",
       "    <tr>\n",
       "      <td>50%</td>\n",
       "      <td>9.000000</td>\n",
       "      <td>4.650000e+06</td>\n",
       "      <td>52.000000</td>\n",
       "      <td>2.000000</td>\n",
       "      <td>2.650000</td>\n",
       "      <td>9.000000</td>\n",
       "      <td>30.000000</td>\n",
       "      <td>4.000000</td>\n",
       "      <td>9.100000</td>\n",
       "      <td>1.000000</td>\n",
       "      <td>26726.000000</td>\n",
       "      <td>13098.500000</td>\n",
       "      <td>0.000000</td>\n",
       "      <td>455.000000</td>\n",
       "      <td>1.000000</td>\n",
       "      <td>502.000000</td>\n",
       "      <td>95.000000</td>\n",
       "    </tr>\n",
       "    <tr>\n",
       "      <td>75%</td>\n",
       "      <td>14.000000</td>\n",
       "      <td>6.800000e+06</td>\n",
       "      <td>69.900000</td>\n",
       "      <td>3.000000</td>\n",
       "      <td>2.800000</td>\n",
       "      <td>16.000000</td>\n",
       "      <td>42.300000</td>\n",
       "      <td>8.000000</td>\n",
       "      <td>12.000000</td>\n",
       "      <td>2.000000</td>\n",
       "      <td>37273.000000</td>\n",
       "      <td>16293.000000</td>\n",
       "      <td>1.000000</td>\n",
       "      <td>612.000000</td>\n",
       "      <td>1.000000</td>\n",
       "      <td>729.000000</td>\n",
       "      <td>232.000000</td>\n",
       "    </tr>\n",
       "    <tr>\n",
       "      <td>max</td>\n",
       "      <td>50.000000</td>\n",
       "      <td>7.630000e+08</td>\n",
       "      <td>900.000000</td>\n",
       "      <td>19.000000</td>\n",
       "      <td>100.000000</td>\n",
       "      <td>60.000000</td>\n",
       "      <td>409.700000</td>\n",
       "      <td>33.000000</td>\n",
       "      <td>112.000000</td>\n",
       "      <td>5.000000</td>\n",
       "      <td>84869.000000</td>\n",
       "      <td>65968.000000</td>\n",
       "      <td>3.000000</td>\n",
       "      <td>3190.000000</td>\n",
       "      <td>3.000000</td>\n",
       "      <td>1344.000000</td>\n",
       "      <td>1580.000000</td>\n",
       "    </tr>\n",
       "  </tbody>\n",
       "</table>\n",
       "</div>"
      ],
      "text/plain": [
       "       total_images    last_price    total_area         rooms  ceiling_height  \\\n",
       "count  23699.000000  2.369900e+04  23699.000000  23699.000000    14504.000000   \n",
       "mean       9.858475  6.541549e+06     60.348651      2.070636        2.771499   \n",
       "std        5.682529  1.088701e+07     35.654083      1.078405        1.261056   \n",
       "min        0.000000  1.219000e+04     12.000000      0.000000        1.000000   \n",
       "25%        6.000000  3.400000e+06     40.000000      1.000000        2.520000   \n",
       "50%        9.000000  4.650000e+06     52.000000      2.000000        2.650000   \n",
       "75%       14.000000  6.800000e+06     69.900000      3.000000        2.800000   \n",
       "max       50.000000  7.630000e+08    900.000000     19.000000      100.000000   \n",
       "\n",
       "       floors_total   living_area         floor  kitchen_area       balcony  \\\n",
       "count  23613.000000  21796.000000  23699.000000  21421.000000  12180.000000   \n",
       "mean      10.673824     34.457852      5.892358     10.569807      1.150082   \n",
       "std        6.597173     22.030445      4.885249      5.905438      1.071300   \n",
       "min        1.000000      2.000000      1.000000      1.300000      0.000000   \n",
       "25%        5.000000     18.600000      2.000000      7.000000      0.000000   \n",
       "50%        9.000000     30.000000      4.000000      9.100000      1.000000   \n",
       "75%       16.000000     42.300000      8.000000     12.000000      2.000000   \n",
       "max       60.000000    409.700000     33.000000    112.000000      5.000000   \n",
       "\n",
       "       airports_nearest  cityCenters_nearest  parks_around3000  parks_nearest  \\\n",
       "count      18157.000000         18180.000000      18181.000000    8079.000000   \n",
       "mean       28793.672193         14191.277833          0.611408     490.804555   \n",
       "std        12630.880622          8608.386210          0.802074     342.317995   \n",
       "min            0.000000           181.000000          0.000000       1.000000   \n",
       "25%        18585.000000          9238.000000          0.000000     288.000000   \n",
       "50%        26726.000000         13098.500000          0.000000     455.000000   \n",
       "75%        37273.000000         16293.000000          1.000000     612.000000   \n",
       "max        84869.000000         65968.000000          3.000000    3190.000000   \n",
       "\n",
       "       ponds_around3000  ponds_nearest  days_exposition  \n",
       "count      18181.000000    9110.000000     20518.000000  \n",
       "mean           0.770255     517.980900       180.888634  \n",
       "std            0.938346     277.720643       219.727988  \n",
       "min            0.000000      13.000000         1.000000  \n",
       "25%            0.000000     294.000000        45.000000  \n",
       "50%            1.000000     502.000000        95.000000  \n",
       "75%            1.000000     729.000000       232.000000  \n",
       "max            3.000000    1344.000000      1580.000000  "
      ]
     },
     "metadata": {},
     "output_type": "display_data"
    }
   ],
   "source": [
    "#23.08.2021 - добавила метод display\n",
    "import pandas as pd\n",
    "import matplotlib.pyplot as plt #NEW\n",
    "from IPython.display import display #NEW\n",
    "\n",
    "data = pd.read_csv(\"/datasets/real_estate_data.csv\", sep=\"\\t\")\n",
    "display(data.head(10)) #NEW\n",
    "data.info()\n",
    "#print(data.describe())\n",
    "display(data.describe()) #NEW"
   ]
  },
  {
   "cell_type": "markdown",
   "metadata": {},
   "source": [
    "### Вывод"
   ]
  },
  {
   "cell_type": "markdown",
   "metadata": {},
   "source": [
    "1) При выгрузке csv файла в Data Frame данные склеились в одну строку \"\\t\". Я разделила их, указав на сепаратор \"\\t\"\n",
    "\n",
    "2) В данных есть пропущенные значения в столбцах."
   ]
  },
  {
   "cell_type": "markdown",
   "metadata": {},
   "source": [
    "## Предобработка данных"
   ]
  },
  {
   "cell_type": "code",
   "execution_count": 121,
   "metadata": {},
   "outputs": [
    {
     "data": {
      "text/plain": [
       "total_images                0\n",
       "last_price                  0\n",
       "total_area                  0\n",
       "first_day_exposition        0\n",
       "rooms                       0\n",
       "ceiling_height           9195\n",
       "floors_total               86\n",
       "living_area              1903\n",
       "floor                       0\n",
       "is_apartment            20924\n",
       "studio                      0\n",
       "open_plan                   0\n",
       "kitchen_area             2278\n",
       "balcony                 11519\n",
       "locality_name              49\n",
       "airports_nearest         5542\n",
       "cityCenters_nearest      5519\n",
       "parks_around3000         5518\n",
       "parks_nearest           15620\n",
       "ponds_around3000         5518\n",
       "ponds_nearest           14589\n",
       "days_exposition          3181\n",
       "dtype: int64"
      ]
     },
     "metadata": {},
     "output_type": "display_data"
    },
    {
     "name": "stdout",
     "output_type": "stream",
     "text": [
      "Минимальная высота потолков - 1.0\n",
      "Максимальная высота потолков - 100.0\n",
      "Число симметричных значений living_area и kitchen_area: 1431\n",
      "9.1\n",
      "Empty DataFrame\n",
      "Columns: [total_images, last_price, total_area, first_day_exposition, rooms, ceiling_height, floors_total, living_area, floor, is_apartment, studio, open_plan, kitchen_area, balcony, locality_name, airports_nearest, cityCenters_nearest, parks_around3000, parks_nearest, ponds_around3000, ponds_nearest, days_exposition]\n",
      "Index: []\n",
      "\n",
      "[0 rows x 22 columns]\n",
      "Значения, принимаемые is_apartment\n",
      "[nan False True]\n",
      "Значения медианы airports_nearest 26757.0\n",
      "Значения медианы cityCenters_nearest 13096.5\n",
      "Число незаполненных одновременно parks_around3000 и parks_nearest 0\n",
      "Число незаполненных одновременно ponds_around3000 и ponds_nearest 0\n",
      "<class 'pandas.core.frame.DataFrame'>\n",
      "Int64Index: 23565 entries, 0 to 23698\n",
      "Data columns (total 22 columns):\n",
      "total_images            23565 non-null int64\n",
      "last_price              23565 non-null float64\n",
      "total_area              23565 non-null float64\n",
      "first_day_exposition    23565 non-null object\n",
      "rooms                   23565 non-null int64\n",
      "ceiling_height          23565 non-null float64\n",
      "floors_total            23565 non-null int64\n",
      "living_area             23565 non-null float64\n",
      "floor                   23565 non-null int64\n",
      "is_apartment            23565 non-null bool\n",
      "studio                  23565 non-null bool\n",
      "open_plan               23565 non-null bool\n",
      "kitchen_area            23565 non-null float64\n",
      "balcony                 23565 non-null float64\n",
      "locality_name           23565 non-null object\n",
      "airports_nearest        23565 non-null int64\n",
      "cityCenters_nearest     23565 non-null float64\n",
      "parks_around3000        23565 non-null int64\n",
      "parks_nearest           23565 non-null int64\n",
      "ponds_around3000        23565 non-null int64\n",
      "ponds_nearest           23565 non-null int64\n",
      "days_exposition         23565 non-null int64\n",
      "dtypes: bool(3), float64(7), int64(10), object(2)\n",
      "memory usage: 3.7+ MB\n"
     ]
    }
   ],
   "source": [
    "#1. определите и изучите пропущенные значения:\n",
    "#---для некоторых пропущенных значений можно предположить логичную замену. Например, если человек не указал число балконов — скорее всего, их нет. Такие пропуски правильно заменить на 0. Для других типов данных нет подходящего значения на замену. В этом случае правильно оставить эти значения пустыми. Отсутствие значения — тоже важный сигнал, который не нужно прятать;\n",
    "#---заполните пропуски, где это уместно. Опишите, почему вы решили заполнить пропуски именно в этих столбцах и как выбрали значения;\n",
    "#---укажите причины, которые могли привести к пропускам в данных.\n",
    "display(data.isnull().sum())\n",
    "\n",
    "#Пропуски:\n",
    "###########################\n",
    "#1) ceiling_height - 9195\n",
    "#Проверим возможные значения\n",
    "print('Минимальная высота потолков -', data['ceiling_height'].min())\n",
    "print('Максимальная высота потолков -', data['ceiling_height'].max())\n",
    "#Проблемы при сборе данных\n",
    "#Заполним пропущенные значения медианой\n",
    "data['ceiling_height'] = data['ceiling_height'].fillna(data['ceiling_height'].median())\n",
    "###########################\n",
    "#2) floors_total (86) -  немного, можем исключить\n",
    "#data.dropna(subset = ['floors_total'], inplace = True)\n",
    "data = data.dropna(subset = ['floors_total']) #NEW\n",
    "###########################\n",
    "#3) living_area (1903) -  немного + #5) kitchen_area (2231) - немного\n",
    "print('Число симметричных значений living_area и kitchen_area:',\n",
    "      data.loc[(data['living_area'].isna())\n",
    "               &(data['kitchen_area'].isna()),'total_area'].count())\n",
    "print(data['kitchen_area'].median())\n",
    "#Заполним пропущенные значения кухни нулями (возможно не была заполнена для студий)\n",
    "#data['kitchen_area'].fillna(0, inplace=True)\n",
    "data['kitchen_area'] = data['kitchen_area'].fillna(0) #NEW\n",
    "#Если кухня не заполнялась не для студий (площать > 40), то заполним медианой\n",
    "data.loc[(data['total_area'] > 40) \n",
    "         & (data['kitchen_area']==0), 'kitchen_area'] = data['kitchen_area'].median()\n",
    "#Заполняем living_area, зная total_area и kitchen_area\n",
    "data.loc[(data['living_area'].isna()), 'living_area'] = data['total_area']-data['kitchen_area']\n",
    "print(data.loc[(data['living_area'].isna())])\n",
    "###########################\n",
    "#4) is_apartment\n",
    "print('Значения, принимаемые is_apartment')\n",
    "print(data['is_apartment'].unique())\n",
    "# Предпологаю, что значения не заполнялись, когда False\n",
    "#data['is_apartment'].fillna(False, inplace = True)\n",
    "data['is_apartment'] = data['is_apartment'].fillna(False) #NEW\n",
    "###########################\n",
    "#6) balcony\n",
    "#Предполагаю, что не заполнены там, где нет балконов\n",
    "#data['balcony'].fillna(0, inplace = True)\n",
    "#NEW - заполнение нулем добавлено позже в цикле (над пунктом 14)\n",
    "###########################\n",
    "#7) locality_name - немного\n",
    "#data.dropna(subset = ['locality_name'], inplace = True)\n",
    "data = data.dropna(subset = ['locality_name']) #NEW\n",
    "###########################\n",
    "#8) airports_nearest \n",
    "#Проблемы при сборе данных\n",
    "print('Значения медианы airports_nearest', data['airports_nearest'].median())\n",
    "#Заполним пропущенные значения медианой\n",
    "#data['airports_nearest'].fillna(data['airports_nearest'].median(), inplace = True)\n",
    "data['airports_nearest'] = data['airports_nearest'].fillna(data['airports_nearest'].median()) #NEW\n",
    "###########################\n",
    "#9) cityCenters_nearest - 5519\n",
    "print('Значения медианы cityCenters_nearest', data['cityCenters_nearest'].median())\n",
    "#Заполним пропущенные значения медианой\n",
    "#data['cityCenters_nearest'].fillna(data['cityCenters_nearest'].median(), inplace = True)\n",
    "data['cityCenters_nearest'] = data['cityCenters_nearest'].fillna(data['cityCenters_nearest'].median()) #NEW\n",
    "###########################\n",
    "#10) parks_around3000 и #11) parks_nearest\n",
    "#Не заполнено, когда нет парков близко?\n",
    "print('Число незаполненных одновременно parks_around3000 и parks_nearest'\n",
    "      ,data.loc[(data['parks_around3000'].isna())\n",
    "                &(data['parks_nearest'].isna())\n",
    "                ,'parks_nearest'].count())\n",
    "#data['parks_around3000'].fillna(0, inplace = True)\n",
    "#data['parks_nearest'].fillna(0, inplace = True)\n",
    "###########################\n",
    "#12) ponds_around3000 и #13) ponds_nearest\n",
    "#Не заполнено, когда нет озер близко?\n",
    "print('Число незаполненных одновременно ponds_around3000 и ponds_nearest'\n",
    "      ,data.loc[(data['ponds_around3000'].isna())\n",
    "                &(data['ponds_nearest'].isna())\n",
    "                ,'ponds_nearest'].count())\n",
    "#data['ponds_around3000'].fillna(0, inplace = True)\n",
    "#data['ponds_nearest'].fillna(0, inplace = True)\n",
    "\n",
    "columns = ['balcony','parks_around3000', 'parks_nearest', 'ponds_around3000','ponds_nearest'] #NEW\n",
    "for i in columns: #NEW\n",
    "    data[i] = data[i].fillna(0) #NEW\n",
    "###########################\n",
    "#14) days_exposition - немного\n",
    "#Пропуски days_exposition вероятно появились при загрузке данных\n",
    "#data['days_exposition'].fillna(data['days_exposition'].median(), inplace = True)\n",
    "data['days_exposition'] = data['days_exposition'].fillna(data['days_exposition'].median()) #NEW\n",
    "#2. приведите данные к нужным типам:\n",
    "#---поясните, в каких столбцах нужно изменить тип данных и почему.\n",
    "#Заменим тип данных на целочисленный\n",
    "#data['...']  = data['...'].astype('int')\n",
    "data['days_exposition'] = data['days_exposition'].astype('int64')\n",
    "\n",
    "columns = ['airports_nearest'\n",
    "           , 'parks_nearest','parks_around3000'\n",
    "           ,'ponds_nearest', 'ponds_around3000'\n",
    "           ,'floor','floors_total'] \n",
    "\n",
    "for i in columns: \n",
    "    data[i] = data[i].astype('int') \n",
    "data.info() "
   ]
  },
  {
   "cell_type": "markdown",
   "metadata": {},
   "source": [
    "```python\n",
    "\n",
    "columns = [col1, col2, col3]\n",
    "\n",
    "for i in columns:\n",
    "    df[i] = df[i].fillna(0)\n",
    "\n",
    "```"
   ]
  },
  {
   "cell_type": "markdown",
   "metadata": {},
   "source": [
    "## Расчёты и добавление результатов в таблицу"
   ]
  },
  {
   "cell_type": "code",
   "execution_count": 122,
   "metadata": {},
   "outputs": [
    {
     "name": "stdout",
     "output_type": "stream",
     "text": [
      "Средняя цена кв. метра -  95000.0 руб.\n",
      "       date_hour   week_name    month_name  year_number\n",
      "0     2019-03-07  4 Thursday       3 March         2019\n",
      "1     2018-12-04   2 Tuesday  _12 December         2018\n",
      "2     2015-08-20  4 Thursday      8 August         2015\n",
      "3     2015-07-24    5 Friday        7 July         2015\n",
      "4     2018-06-19   2 Tuesday        6 June         2018\n",
      "...          ...         ...           ...          ...\n",
      "23694 2017-03-21   2 Tuesday       3 March         2017\n",
      "23695 2018-01-15    1 Monday     1 January         2018\n",
      "23696 2018-02-11    7 Sunday    2 February         2018\n",
      "23697 2017-03-28   2 Tuesday       3 March         2017\n",
      "23698 2017-07-21    5 Friday        7 July         2017\n",
      "\n",
      "[23565 rows x 4 columns]\n",
      "  floor_name  floor  floors_total\n",
      "0     другой      8            16\n",
      "1     первый      1            11\n",
      "2     другой      4             5\n",
      "Среднее соотношение жилой и общей площади - 58.06%\n",
      "Среднее соотношение кухни и общей площади - 16.67%\n"
     ]
    }
   ],
   "source": [
    "#1. цену квадратного метра;\n",
    "data['price_sqm']=data['last_price']/data['total_area']\n",
    "print('Средняя цена кв. метра - ',data['price_sqm'].median(), 'руб.')\n",
    "#2. день недели, месяц и год публикации объявления;\n",
    "import datetime\n",
    "data['first_day_exposition'] = (\n",
    "    pd.to_datetime(data['first_day_exposition'], format='%Y-%m-%dT%H:%M:%S')\n",
    ")\n",
    "data['date_hour'] = data['first_day_exposition'].dt.round('1H')\n",
    "#data['week_day'] = data['date_hour'].get_weekday()\n",
    "data['week_number'] = pd.DatetimeIndex(data['date_hour']).weekday\n",
    "data['month_number'] = pd.DatetimeIndex(data['date_hour']).month\n",
    "data['year_number'] = pd.DatetimeIndex(data['date_hour']).year\n",
    "\n",
    "def dayNameFromWeekday(weekday):\n",
    "    if weekday == 0:\n",
    "        return \"1 Monday\"\n",
    "    if weekday == 1:\n",
    "        return \"2 Tuesday\"\n",
    "    if weekday == 2:\n",
    "        return \"3 Wednesday\"\n",
    "    if weekday == 3:\n",
    "        return \"4 Thursday\"\n",
    "    if weekday == 4:\n",
    "        return \"5 Friday\"\n",
    "    if weekday == 5:\n",
    "        return \"6 Saturday\"\n",
    "    if weekday == 6:\n",
    "        return \"7 Sunday\"\n",
    "    \n",
    "def MonthNameFromNumber(month_number):\n",
    "    if month_number == 1:\n",
    "        return \"1 January\"\n",
    "    if month_number == 2:\n",
    "        return \"2 February\"\n",
    "    if month_number == 3:\n",
    "        return \"3 March\"\n",
    "    if month_number == 4:\n",
    "        return \"4 April\"\n",
    "    if month_number == 5:\n",
    "        return \"5 May\"\n",
    "    if month_number == 6:\n",
    "        return \"6 June\"\n",
    "    if month_number == 7:\n",
    "        return \"7 July\"\n",
    "    if month_number == 8:\n",
    "        return \"8 August\"\n",
    "    if month_number == 9:\n",
    "        return \"9 September\"\n",
    "    if month_number == 10:\n",
    "        return \"_10 October\"\n",
    "    if month_number == 11:\n",
    "        return \"_11 November\"\n",
    "    if month_number == 12:\n",
    "        return \"_12 December\"\n",
    "    \n",
    "data['week_name'] = data['week_number'].apply(dayNameFromWeekday)\n",
    "data['month_name'] = data['month_number'].apply(MonthNameFromNumber)\n",
    "print(data[['date_hour','week_name','month_name','year_number']])\n",
    "####################################  \n",
    "#3. этаж квартиры; варианты — первый, последний, другой;\n",
    "def FloorName(floor, lastfloor):   \n",
    "    if floor == 1:\n",
    "        return \"первый\"\n",
    "    elif floor == lastfloor:\n",
    "        return \"последний\"\n",
    "    else:\n",
    "        return \"другой\"\n",
    "#-------\n",
    "def FloorName_N(floor, lastfloor):   \n",
    "    if floor == 1:\n",
    "        return 1\n",
    "    elif floor == lastfloor:\n",
    "        return 2\n",
    "    else:\n",
    "        return 3\n",
    "data['floor_name']  = data.apply(lambda x: FloorName(x.floor, x.floors_total), axis=1)\n",
    "print(data[['floor_name','floor', 'floors_total']].head(3))\n",
    "data['floor_name_N'] = data.apply(lambda x: FloorName_N(x.floor, x.floors_total), axis=1)\n",
    "###################################\n",
    "#4. соотношение жилой и общей площади, а также отношение площади кухни к общей.\n",
    "data['living2total'] = data['living_area']/data['total_area']\n",
    "data['kitchen2total'] = data['kitchen_area']/data['total_area']\n",
    "print(\"Среднее соотношение жилой и общей площади - {0:.2f}%\".format(data['living2total'].median()*100))\n",
    "print(\"Среднее соотношение кухни и общей площади - {0:.2f}%\".format(data['kitchen2total'].median()*100))"
   ]
  },
  {
   "cell_type": "markdown",
   "metadata": {},
   "source": [
    "## Исследовательский анализ данных"
   ]
  },
  {
   "cell_type": "code",
   "execution_count": 123,
   "metadata": {},
   "outputs": [
    {
     "name": "stdout",
     "output_type": "stream",
     "text": [
      "Минимальная площадь - 12.0\n",
      "Максимальная площадь - 900.0\n"
     ]
    },
    {
     "data": {
      "image/png": "[encoded data removed]",
      "text/plain": [
       "<Figure size 432x288 with 1 Axes>"
      ]
     },
     "metadata": {
      "needs_background": "light"
     },
     "output_type": "display_data"
    }
   ],
   "source": [
    "#import matplotlib.pyplot as plt\n",
    "#1. Изучите следующие параметры: площадь, цена, число комнат, высота потолков.\n",
    "#2. Постройте гистограммы для каждого параметра.\n",
    "print('Минимальная площадь -', data['total_area'].min())\n",
    "print('Максимальная площадь -', data['total_area'].max())\n",
    "data['total_area'].hist(bins=30,range=(10,150), label= 'Площадь')\n",
    "plt.title('Гистограмма площади квартир') #NEW\n",
    "plt.show() #NEW\n",
    "#Больше всего продается квартир площадью 45-50 м.кв"
   ]
  },
  {
   "cell_type": "code",
   "execution_count": 124,
   "metadata": {},
   "outputs": [
    {
     "name": "stdout",
     "output_type": "stream",
     "text": [
      "Минимальная цена - 12190.0\n",
      "Максимальная цена - 763000000.0\n"
     ]
    },
    {
     "data": {
      "image/png": "[encoded data removed]",
      "text/plain": [
       "<Figure size 432x288 with 1 Axes>"
      ]
     },
     "metadata": {
      "needs_background": "light"
     },
     "output_type": "display_data"
    }
   ],
   "source": [
    "print('Минимальная цена -', data['last_price'].min())\n",
    "print('Максимальная цена -', data['last_price'].max())\n",
    "data['last_price'].hist(bins=20,range=(0,10000000), label = 'Цена')\n",
    "plt.title('Гистограмма цен квартир') #NEW\n",
    "plt.show() #NEW\n",
    "#Больше всего квартир стоимостью 3-5 млн руб."
   ]
  },
  {
   "cell_type": "code",
   "execution_count": 125,
   "metadata": {},
   "outputs": [
    {
     "name": "stdout",
     "output_type": "stream",
     "text": [
      "Минимальное число комнат - 0\n",
      "Максимальное число комнат - 19\n"
     ]
    },
    {
     "data": {
      "image/png": "[encoded data removed]",
      "text/plain": [
       "<Figure size 432x288 with 1 Axes>"
      ]
     },
     "metadata": {
      "needs_background": "light"
     },
     "output_type": "display_data"
    },
    {
     "data": {
      "text/html": [
       "<div>\n",
       "<style scoped>\n",
       "    .dataframe tbody tr th:only-of-type {\n",
       "        vertical-align: middle;\n",
       "    }\n",
       "\n",
       "    .dataframe tbody tr th {\n",
       "        vertical-align: top;\n",
       "    }\n",
       "\n",
       "    .dataframe thead th {\n",
       "        text-align: right;\n",
       "    }\n",
       "</style>\n",
       "<table border=\"1\" class=\"dataframe\">\n",
       "  <thead>\n",
       "    <tr style=\"text-align: right;\">\n",
       "      <th></th>\n",
       "      <th>rooms</th>\n",
       "      <th>total_area</th>\n",
       "    </tr>\n",
       "  </thead>\n",
       "  <tbody>\n",
       "    <tr>\n",
       "      <td>648</td>\n",
       "      <td>11</td>\n",
       "      <td>183.7</td>\n",
       "    </tr>\n",
       "    <tr>\n",
       "      <td>866</td>\n",
       "      <td>14</td>\n",
       "      <td>363.0</td>\n",
       "    </tr>\n",
       "    <tr>\n",
       "      <td>4149</td>\n",
       "      <td>10</td>\n",
       "      <td>272.6</td>\n",
       "    </tr>\n",
       "    <tr>\n",
       "      <td>5358</td>\n",
       "      <td>15</td>\n",
       "      <td>590.0</td>\n",
       "    </tr>\n",
       "    <tr>\n",
       "      <td>8822</td>\n",
       "      <td>9</td>\n",
       "      <td>398.0</td>\n",
       "    </tr>\n",
       "    <tr>\n",
       "      <td>8860</td>\n",
       "      <td>9</td>\n",
       "      <td>235.0</td>\n",
       "    </tr>\n",
       "    <tr>\n",
       "      <td>9550</td>\n",
       "      <td>9</td>\n",
       "      <td>313.0</td>\n",
       "    </tr>\n",
       "    <tr>\n",
       "      <td>9688</td>\n",
       "      <td>11</td>\n",
       "      <td>194.1</td>\n",
       "    </tr>\n",
       "    <tr>\n",
       "      <td>13019</td>\n",
       "      <td>9</td>\n",
       "      <td>249.9</td>\n",
       "    </tr>\n",
       "    <tr>\n",
       "      <td>13397</td>\n",
       "      <td>9</td>\n",
       "      <td>309.7</td>\n",
       "    </tr>\n",
       "    <tr>\n",
       "      <td>14498</td>\n",
       "      <td>19</td>\n",
       "      <td>374.6</td>\n",
       "    </tr>\n",
       "    <tr>\n",
       "      <td>15151</td>\n",
       "      <td>9</td>\n",
       "      <td>400.0</td>\n",
       "    </tr>\n",
       "    <tr>\n",
       "      <td>16915</td>\n",
       "      <td>9</td>\n",
       "      <td>292.2</td>\n",
       "    </tr>\n",
       "    <tr>\n",
       "      <td>18119</td>\n",
       "      <td>10</td>\n",
       "      <td>216.1</td>\n",
       "    </tr>\n",
       "    <tr>\n",
       "      <td>18848</td>\n",
       "      <td>16</td>\n",
       "      <td>270.0</td>\n",
       "    </tr>\n",
       "    <tr>\n",
       "      <td>18891</td>\n",
       "      <td>10</td>\n",
       "      <td>290.0</td>\n",
       "    </tr>\n",
       "    <tr>\n",
       "      <td>19540</td>\n",
       "      <td>12</td>\n",
       "      <td>900.0</td>\n",
       "    </tr>\n",
       "    <tr>\n",
       "      <td>20791</td>\n",
       "      <td>9</td>\n",
       "      <td>250.0</td>\n",
       "    </tr>\n",
       "    <tr>\n",
       "      <td>20829</td>\n",
       "      <td>14</td>\n",
       "      <td>245.4</td>\n",
       "    </tr>\n",
       "  </tbody>\n",
       "</table>\n",
       "</div>"
      ],
      "text/plain": [
       "       rooms  total_area\n",
       "648       11       183.7\n",
       "866       14       363.0\n",
       "4149      10       272.6\n",
       "5358      15       590.0\n",
       "8822       9       398.0\n",
       "8860       9       235.0\n",
       "9550       9       313.0\n",
       "9688      11       194.1\n",
       "13019      9       249.9\n",
       "13397      9       309.7\n",
       "14498     19       374.6\n",
       "15151      9       400.0\n",
       "16915      9       292.2\n",
       "18119     10       216.1\n",
       "18848     16       270.0\n",
       "18891     10       290.0\n",
       "19540     12       900.0\n",
       "20791      9       250.0\n",
       "20829     14       245.4"
      ]
     },
     "metadata": {},
     "output_type": "display_data"
    }
   ],
   "source": [
    "print('Минимальное число комнат -', data['rooms'].min())\n",
    "print('Максимальное число комнат -', data['rooms'].max())\n",
    "data['rooms'].hist(bins=11,range=(1,10), label = 'Число комнат')\n",
    "plt.title('Гистограмма числа комнат') #NEW\n",
    "plt.show() #NEW\n",
    "#Преобладают 1-е и 2-е квартиры\n",
    "#проверим, что квартиры с числом комнат более 8 имеют площадь больше 200 кв м\n",
    "display(data[['rooms','total_area']].loc[(data['rooms']> 8)]) #NEW - display вместо print"
   ]
  },
  {
   "cell_type": "code",
   "execution_count": 126,
   "metadata": {},
   "outputs": [
    {
     "name": "stdout",
     "output_type": "stream",
     "text": [
      "Минимальная высота потолков - 1.0\n",
      "Максимальная высота потолков - 100.0\n"
     ]
    },
    {
     "data": {
      "image/png": "[encoded data removed]",
      "text/plain": [
       "<Figure size 432x288 with 1 Axes>"
      ]
     },
     "metadata": {
      "needs_background": "light"
     },
     "output_type": "display_data"
    }
   ],
   "source": [
    "print('Минимальная высота потолков -', data['ceiling_height'].min())\n",
    "print('Максимальная высота потолков -', data['ceiling_height'].max())\n",
    "data['ceiling_height'].hist(bins=20,range=(2,4), label = 'Высота потолка')\n",
    "plt.title('Гистограмма высоты потолка') #NEW\n",
    "plt.show() #NEW\n",
    "#Больше всего продаж квартир с высотой потока 2.6 м"
   ]
  },
  {
   "cell_type": "code",
   "execution_count": 127,
   "metadata": {},
   "outputs": [
    {
     "data": {
      "image/png": "[encoded data removed]",
      "text/plain": [
       "<Figure size 720x504 with 1 Axes>"
      ]
     },
     "metadata": {
      "needs_background": "light"
     },
     "output_type": "display_data"
    },
    {
     "name": "stdout",
     "output_type": "stream",
     "text": [
      "Арифм. среднее продажи квартиры 169.2036919159771 дней\n",
      "Медиана продажи квартиры 95.0 дней\n"
     ]
    }
   ],
   "source": [
    "#3. Изучите время продажи квартиры. \n",
    "#4. Постройте гистограмму. \n",
    "plt.figure(figsize=(10,7))\n",
    "data['days_exposition'].hist(bins=30,range=(0,150))\n",
    "plt.title('Гистограмма времени продажи квартир')\n",
    "plt.show()\n",
    "data['days_exposition'].describe()\n",
    "print('Арифм. среднее продажи квартиры',data['days_exposition'].mean(),'дней')\n",
    "print('Медиана продажи квартиры',data['days_exposition'].median(),'дней')\n",
    "#5. Посчитайте среднее и медиану. \n",
    "#---Опишите, сколько обычно занимает продажа. \n",
    "#Продажа обычно в среднем занимает от 90 до 100 дней\n",
    "#---Когда можно считать, что продажи прошли очень быстро, а когда необычно долго?\n",
    "#Можем считать, что продажа прошла быстро, если квартира была продана в течение 45 дней\n",
    "#Можем считать, что продажа проходит долго, если квартира продается дольше 198 дней"
   ]
  },
  {
   "cell_type": "code",
   "execution_count": 108,
   "metadata": {},
   "outputs": [
    {
     "name": "stdout",
     "output_type": "stream",
     "text": [
      "Стоимость коррелирует с площадью с коэффициентом 0.7679420044602306\n",
      "Стоимость коррелирует с числом комнат с коэффициентом 0.47139581811766523\n",
      "Стоимость не коррелирует с этажом, коэффициент  корреляции -  0.041680821421710854\n",
      "Стоимость не коррелирует с удаленностью от центра, коэффициент  корреляции -  -0.26129275668885604\n",
      "Стоимость не коррелирует с этажом, коэффициент  корреляции -  0.07742248647467904\n"
     ]
    },
    {
     "data": {
      "text/plain": [
       "total_images           0.138055\n",
       "last_price             1.000000\n",
       "total_area             0.767942\n",
       "rooms                  0.471396\n",
       "ceiling_height         0.079244\n",
       "floors_total           0.016361\n",
       "living_area            0.667194\n",
       "floor                  0.041681\n",
       "is_apartment           0.025768\n",
       "studio                -0.040543\n",
       "open_plan             -0.012113\n",
       "kitchen_area           0.544861\n",
       "balcony                0.017108\n",
       "airports_nearest      -0.010256\n",
       "cityCenters_nearest   -0.261293\n",
       "parks_around3000       0.276961\n",
       "parks_nearest          0.188435\n",
       "ponds_around3000       0.274967\n",
       "ponds_nearest          0.129084\n",
       "days_exposition        0.055023\n",
       "price_sqm              0.702690\n",
       "week_number           -0.000462\n",
       "month_number           0.000943\n",
       "year_number           -0.018893\n",
       "floor_name_N           0.077422\n",
       "living2total           0.012779\n",
       "kitchen2total         -0.083173\n",
       "Name: last_price, dtype: float64"
      ]
     },
     "execution_count": 108,
     "metadata": {},
     "output_type": "execute_result"
    }
   ],
   "source": [
    "#6. Уберите редкие и выбивающиеся значения.\n",
    "data = data[data['days_exposition'] < 500]\n",
    "#Убираем квадтиры, продающиеся дольше 500 дней\n",
    "data = data[data['last_price'] < 100000000]\n",
    "#Убираем квартиры стоимостью более 100 млн руб\n",
    "data = data[data['total_area'] < 1000]\n",
    "#Убираем квартиры площадью более 1000 кв м\n",
    "#---Опишите, какие особенности обнаружили.\n",
    "#---Какие факторы больше всего влияют на стоимость квартиры? \n",
    "#7. Изучите, зависит ли цена от площади, числа комнат, удалённости от центра. \n",
    "print('Стоимость коррелирует с площадью с коэффициентом'\n",
    "      ,data['last_price'].corr(data['total_area']))\n",
    "print('Стоимость коррелирует с числом комнат с коэффициентом'\n",
    "      , data['last_price'].corr(data['rooms']))\n",
    "print('Стоимость не коррелирует с этажом, коэффициент  корреляции - '\n",
    "      ,data['last_price'].corr(data['floor']))\n",
    "print('Стоимость не коррелирует с удаленностью от центра, коэффициент  корреляции - '\n",
    "      ,data['last_price'].corr(data['cityCenters_nearest']))\n",
    "#8. Изучите зависимость цены от того, на каком этаже расположена квартира: первом, последнем или другом.\n",
    "print('Стоимость не коррелирует с этажом, коэффициент  корреляции - '\n",
    "      ,data['last_price'].corr(data['floor_name_N']))\n",
    "\n",
    "data.corr()['last_price']"
   ]
  },
  {
   "cell_type": "code",
   "execution_count": 109,
   "metadata": {},
   "outputs": [
    {
     "data": {
      "text/plain": [
       "total_images           0.138055\n",
       "last_price             1.000000\n",
       "total_area             0.767942\n",
       "rooms                  0.471396\n",
       "ceiling_height         0.079244\n",
       "floors_total           0.016361\n",
       "living_area            0.667194\n",
       "floor                  0.041681\n",
       "is_apartment           0.025768\n",
       "studio                -0.040543\n",
       "open_plan             -0.012113\n",
       "kitchen_area           0.544861\n",
       "balcony                0.017108\n",
       "airports_nearest      -0.010256\n",
       "cityCenters_nearest   -0.261293\n",
       "parks_around3000       0.276961\n",
       "parks_nearest          0.188435\n",
       "ponds_around3000       0.274967\n",
       "ponds_nearest          0.129084\n",
       "days_exposition        0.055023\n",
       "price_sqm              0.702690\n",
       "week_number           -0.000462\n",
       "month_number           0.000943\n",
       "year_number           -0.018893\n",
       "floor_name_N           0.077422\n",
       "living2total           0.012779\n",
       "kitchen2total         -0.083173\n",
       "Name: last_price, dtype: float64"
      ]
     },
     "execution_count": 109,
     "metadata": {},
     "output_type": "execute_result"
    }
   ],
   "source": [
    "#Корреляцию можно посчитать сразу для всех столбцов:\n",
    "data.corr()['last_price']"
   ]
  },
  {
   "cell_type": "code",
   "execution_count": 110,
   "metadata": {},
   "outputs": [
    {
     "data": {
      "image/png": "[encoded data removed]",
      "text/plain": [
       "<Figure size 432x288 with 1 Axes>"
      ]
     },
     "metadata": {
      "needs_background": "light"
     },
     "output_type": "display_data"
    }
   ],
   "source": [
    "data.groupby('floor_name')['last_price'].median().plot(x='floor_name',y='last_price',kind='bar')\n",
    "plt.title('Зависимость цены квартиры от этажа')       \n",
    "plt.show()\n",
    "#На первом этаже квартиры в среднем дешевле"
   ]
  },
  {
   "cell_type": "code",
   "execution_count": 111,
   "metadata": {},
   "outputs": [
    {
     "data": {
      "image/png": "[encoded data removed]",
      "text/plain": [
       "<Figure size 432x288 with 1 Axes>"
      ]
     },
     "metadata": {
      "needs_background": "light"
     },
     "output_type": "display_data"
    },
    {
     "data": {
      "image/png": "[encoded data removed]",
      "text/plain": [
       "<Figure size 432x288 with 1 Axes>"
      ]
     },
     "metadata": {
      "needs_background": "light"
     },
     "output_type": "display_data"
    },
    {
     "data": {
      "image/png": "[encoded data removed]",
      "text/plain": [
       "<Figure size 432x288 with 1 Axes>"
      ]
     },
     "metadata": {
      "needs_background": "light"
     },
     "output_type": "display_data"
    }
   ],
   "source": [
    "#Также изучите зависимость от даты размещения: дня недели, месяца, года\n",
    "#data.groupby('week_name')['last_price'].count().plot(x='week_name',y='last_price',kind='bar')\n",
    "#Применение for к гистограммам зависимости цены от дня недели, месяца, года\n",
    "\n",
    "columns = ['week_name'\n",
    "           , 'month_name'\n",
    "           , 'year_number'\n",
    "          ] \n",
    "\n",
    "for i in columns: \n",
    "    data.groupby(i)['last_price'].median().plot(x=i,y='last_price',kind='bar') \n",
    "    if i == 'week_name':\n",
    "        plt.title('Зависимость цены квартиры от дня недели публикации')\n",
    "    if i == 'month_name':\n",
    "        plt.title('Зависимость цены квартиры  от месяца публикации')\n",
    "    if i == 'year_number':\n",
    "        plt.title('Зависимость цены квартиры  от года публикации')       \n",
    "    plt.show() \n",
    "#В 2014 году было опубликовано больше дорогих квартир"
   ]
  },
  {
   "cell_type": "code",
   "execution_count": 112,
   "metadata": {},
   "outputs": [
    {
     "data": {
      "image/png": "[encoded data removed]",
      "text/plain": [
       "<Figure size 432x288 with 1 Axes>"
      ]
     },
     "metadata": {
      "needs_background": "light"
     },
     "output_type": "display_data"
    },
    {
     "data": {
      "image/png": "[encoded data removed]",
      "text/plain": [
       "<Figure size 432x288 with 1 Axes>"
      ]
     },
     "metadata": {
      "needs_background": "light"
     },
     "output_type": "display_data"
    },
    {
     "data": {
      "image/png": "[encoded data removed]",
      "text/plain": [
       "<Figure size 432x288 with 1 Axes>"
      ]
     },
     "metadata": {
      "needs_background": "light"
     },
     "output_type": "display_data"
    }
   ],
   "source": [
    "#Также изучите зависимость от даты размещения: дня недели, месяца, года\n",
    "#data.groupby('week_name')['last_price'].count().plot(x='week_name',y='last_price',kind='bar')\n",
    "#Применение for к гистограммам зависимости числа объявлений от дня недели, месяца, года\n",
    "columns = ['week_name'\n",
    "           , 'month_name'\n",
    "           , 'year_number'\n",
    "          ] \n",
    "\n",
    "for i in columns: \n",
    "    data.groupby(i)['last_price'].count().plot(x=i,y='last_price',kind='bar')\n",
    "    if i == 'week_name':\n",
    "        plt.title('Зависимость числа объявлений от дня недели публикации')\n",
    "    if i == 'month_name':\n",
    "        plt.title('Зависимость  числа объявлений от месяца публикации')\n",
    "    if i == 'year_number':\n",
    "        plt.title('Зависимость числа объявлений от года публикации')       \n",
    "    plt.show()\n",
    "#Чаще всего объявления публиковались во вторник, четверг и пятницу. В выходные меньше всего.\n",
    "#Меньше всего объявлений публикуется в декабре, январе, мае."
   ]
  },
  {
   "cell_type": "code",
   "execution_count": 113,
   "metadata": {},
   "outputs": [
    {
     "data": {
      "text/html": [
       "<div>\n",
       "<style scoped>\n",
       "    .dataframe tbody tr th:only-of-type {\n",
       "        vertical-align: middle;\n",
       "    }\n",
       "\n",
       "    .dataframe tbody tr th {\n",
       "        vertical-align: top;\n",
       "    }\n",
       "\n",
       "    .dataframe thead th {\n",
       "        text-align: right;\n",
       "    }\n",
       "</style>\n",
       "<table border=\"1\" class=\"dataframe\">\n",
       "  <thead>\n",
       "    <tr style=\"text-align: right;\">\n",
       "      <th></th>\n",
       "      <th>count</th>\n",
       "      <th>median</th>\n",
       "    </tr>\n",
       "    <tr>\n",
       "      <th>locality_name</th>\n",
       "      <th></th>\n",
       "      <th></th>\n",
       "    </tr>\n",
       "  </thead>\n",
       "  <tbody>\n",
       "    <tr>\n",
       "      <td>Санкт-Петербург</td>\n",
       "      <td>14407</td>\n",
       "      <td>104662.162162</td>\n",
       "    </tr>\n",
       "    <tr>\n",
       "      <td>посёлок Мурино</td>\n",
       "      <td>488</td>\n",
       "      <td>86250.377687</td>\n",
       "    </tr>\n",
       "    <tr>\n",
       "      <td>посёлок Шушары</td>\n",
       "      <td>416</td>\n",
       "      <td>76666.666667</td>\n",
       "    </tr>\n",
       "    <tr>\n",
       "      <td>Всеволожск</td>\n",
       "      <td>367</td>\n",
       "      <td>65648.854962</td>\n",
       "    </tr>\n",
       "    <tr>\n",
       "      <td>Пушкин</td>\n",
       "      <td>340</td>\n",
       "      <td>99993.589744</td>\n",
       "    </tr>\n",
       "    <tr>\n",
       "      <td>Колпино</td>\n",
       "      <td>323</td>\n",
       "      <td>74657.534247</td>\n",
       "    </tr>\n",
       "    <tr>\n",
       "      <td>посёлок Парголово</td>\n",
       "      <td>312</td>\n",
       "      <td>91387.362637</td>\n",
       "    </tr>\n",
       "    <tr>\n",
       "      <td>Гатчина</td>\n",
       "      <td>283</td>\n",
       "      <td>67695.961995</td>\n",
       "    </tr>\n",
       "    <tr>\n",
       "      <td>деревня Кудрово</td>\n",
       "      <td>266</td>\n",
       "      <td>92044.864227</td>\n",
       "    </tr>\n",
       "    <tr>\n",
       "      <td>Выборг</td>\n",
       "      <td>222</td>\n",
       "      <td>58001.422475</td>\n",
       "    </tr>\n",
       "  </tbody>\n",
       "</table>\n",
       "</div>"
      ],
      "text/plain": [
       "                   count         median\n",
       "locality_name                          \n",
       "Санкт-Петербург    14407  104662.162162\n",
       "посёлок Мурино       488   86250.377687\n",
       "посёлок Шушары       416   76666.666667\n",
       "Всеволожск           367   65648.854962\n",
       "Пушкин               340   99993.589744\n",
       "Колпино              323   74657.534247\n",
       "посёлок Парголово    312   91387.362637\n",
       "Гатчина              283   67695.961995\n",
       "деревня Кудрово      266   92044.864227\n",
       "Выборг               222   58001.422475"
      ]
     },
     "execution_count": 113,
     "metadata": {},
     "output_type": "execute_result"
    }
   ],
   "source": [
    "#9. Выберите 10 населённых пунктов с наибольшим числом объявлений.\n",
    "#10. Посчитайте среднюю цену квадратного метра в этих населённых пунктах. \n",
    "#Выделите среди них населённые пункты с самой высокой и низкой стоимостью жилья. \n",
    "#Эти данные можно найти по имени в столбце 'locality_name'.\n",
    "data_agg_loc = data.pivot_table(index='locality_name',values='price_sqm',aggfunc=('count','median'))\n",
    "data_agg_loc.sort_values(by='count',ascending=False).head(10)\n",
    "\n",
    "#В Санкт-Петербурге больше всего объявлений и самая большая стоимость 1 кв м\n",
    "#В Выборге меньше всего объявлений и самая низкая стоимость 1 кв м среди городо Топ-10 по числу объявлений"
   ]
  },
  {
   "cell_type": "code",
   "execution_count": 114,
   "metadata": {},
   "outputs": [
    {
     "name": "stdout",
     "output_type": "stream",
     "text": [
      "0    16028.0\n",
      "1    18603.0\n",
      "3     6800.0\n",
      "4     8098.0\n",
      "Name: cityCenters_nearest, dtype: float64\n"
     ]
    },
    {
     "data": {
      "text/plain": [
       "<matplotlib.axes._subplots.AxesSubplot at 0x7f7b21809750>"
      ]
     },
     "execution_count": 114,
     "metadata": {},
     "output_type": "execute_result"
    },
    {
     "data": {
      "image/png": "[encoded data removed]",
      "text/plain": [
       "<Figure size 432x288 with 1 Axes>"
      ]
     },
     "metadata": {
      "needs_background": "light"
     },
     "output_type": "display_data"
    }
   ],
   "source": [
    "#11. Изучите предложения квартир: \n",
    "#для каждой квартиры есть информация о расстоянии до центра. \n",
    "print(data['cityCenters_nearest'].head(4))\n",
    "#Выделите квартиры в Санкт-Петербурге ('locality_name'). \n",
    "#Ваша задача — выяснить, какая область входит в центр. \n",
    "#Создайте столбец с расстоянием до центра в километрах: округлите до целых значений.\n",
    "data['center_km'] = round(data['cityCenters_nearest'] / 1000, 0)\n",
    "spb_city = data.loc[(data['locality_name'] == 'Санкт-Петербург')]\n",
    "spb_city = spb_city.dropna(subset = ['cityCenters_nearest'], inplace = False) \n",
    "spb_city['center_km'] = round(spb_city['cityCenters_nearest'] / 1000, 0)\n",
    "#После этого посчитайте среднюю цену для каждого километра.\n",
    "spb_segment = spb_city.groupby(by = ['center_km'], as_index=False).mean()\n",
    "#spb_center_pivot = spb_city.pivot_table(index='center_km', values=['price_sqm', 'last_price'], aggfunc='median')\n",
    "\n",
    "#Постройте график: он должен показывать, как цена зависит от удалённости от центра. \n",
    "spb_segment.plot(x='center_km', y = 'last_price', kind = 'scatter',grid=True)\n",
    "#Определите границу, где график сильно меняется — это и будет центральная зона.\n",
    "# --  8  км - граница центральной зоны"
   ]
  },
  {
   "cell_type": "code",
   "execution_count": 115,
   "metadata": {},
   "outputs": [
    {
     "data": {
      "text/html": [
       "<div>\n",
       "<style scoped>\n",
       "    .dataframe tbody tr th:only-of-type {\n",
       "        vertical-align: middle;\n",
       "    }\n",
       "\n",
       "    .dataframe tbody tr th {\n",
       "        vertical-align: top;\n",
       "    }\n",
       "\n",
       "    .dataframe thead th {\n",
       "        text-align: right;\n",
       "    }\n",
       "</style>\n",
       "<table border=\"1\" class=\"dataframe\">\n",
       "  <thead>\n",
       "    <tr style=\"text-align: right;\">\n",
       "      <th></th>\n",
       "      <th>total_area</th>\n",
       "      <th>last_price</th>\n",
       "      <th>rooms</th>\n",
       "      <th>ceiling_height</th>\n",
       "    </tr>\n",
       "  </thead>\n",
       "  <tbody>\n",
       "    <tr>\n",
       "      <td>3</td>\n",
       "      <td>159.00</td>\n",
       "      <td>64900000.0</td>\n",
       "      <td>3</td>\n",
       "      <td>2.65</td>\n",
       "    </tr>\n",
       "    <tr>\n",
       "      <td>4</td>\n",
       "      <td>100.00</td>\n",
       "      <td>10000000.0</td>\n",
       "      <td>2</td>\n",
       "      <td>3.03</td>\n",
       "    </tr>\n",
       "    <tr>\n",
       "      <td>24</td>\n",
       "      <td>97.20</td>\n",
       "      <td>6500000.0</td>\n",
       "      <td>2</td>\n",
       "      <td>2.65</td>\n",
       "    </tr>\n",
       "    <tr>\n",
       "      <td>52</td>\n",
       "      <td>136.00</td>\n",
       "      <td>11795000.0</td>\n",
       "      <td>6</td>\n",
       "      <td>3.00</td>\n",
       "    </tr>\n",
       "    <tr>\n",
       "      <td>63</td>\n",
       "      <td>118.00</td>\n",
       "      <td>20000000.0</td>\n",
       "      <td>3</td>\n",
       "      <td>3.00</td>\n",
       "    </tr>\n",
       "    <tr>\n",
       "      <td>...</td>\n",
       "      <td>...</td>\n",
       "      <td>...</td>\n",
       "      <td>...</td>\n",
       "      <td>...</td>\n",
       "    </tr>\n",
       "    <tr>\n",
       "      <td>23644</td>\n",
       "      <td>62.50</td>\n",
       "      <td>4990000.0</td>\n",
       "      <td>2</td>\n",
       "      <td>2.70</td>\n",
       "    </tr>\n",
       "    <tr>\n",
       "      <td>23665</td>\n",
       "      <td>47.00</td>\n",
       "      <td>4250000.0</td>\n",
       "      <td>1</td>\n",
       "      <td>2.65</td>\n",
       "    </tr>\n",
       "    <tr>\n",
       "      <td>23681</td>\n",
       "      <td>43.00</td>\n",
       "      <td>5250000.0</td>\n",
       "      <td>2</td>\n",
       "      <td>2.50</td>\n",
       "    </tr>\n",
       "    <tr>\n",
       "      <td>23690</td>\n",
       "      <td>52.00</td>\n",
       "      <td>5500000.0</td>\n",
       "      <td>2</td>\n",
       "      <td>2.65</td>\n",
       "    </tr>\n",
       "    <tr>\n",
       "      <td>23694</td>\n",
       "      <td>133.81</td>\n",
       "      <td>9700000.0</td>\n",
       "      <td>3</td>\n",
       "      <td>3.70</td>\n",
       "    </tr>\n",
       "  </tbody>\n",
       "</table>\n",
       "<p>3575 rows × 4 columns</p>\n",
       "</div>"
      ],
      "text/plain": [
       "       total_area  last_price  rooms  ceiling_height\n",
       "3          159.00  64900000.0      3            2.65\n",
       "4          100.00  10000000.0      2            3.03\n",
       "24          97.20   6500000.0      2            2.65\n",
       "52         136.00  11795000.0      6            3.00\n",
       "63         118.00  20000000.0      3            3.00\n",
       "...           ...         ...    ...             ...\n",
       "23644       62.50   4990000.0      2            2.70\n",
       "23665       47.00   4250000.0      1            2.65\n",
       "23681       43.00   5250000.0      2            2.50\n",
       "23690       52.00   5500000.0      2            2.65\n",
       "23694      133.81   9700000.0      3            3.70\n",
       "\n",
       "[3575 rows x 4 columns]"
      ]
     },
     "metadata": {},
     "output_type": "display_data"
    },
    {
     "data": {
      "text/plain": [
       "<matplotlib.axes._subplots.AxesSubplot at 0x7f7b1505c910>"
      ]
     },
     "execution_count": 115,
     "metadata": {},
     "output_type": "execute_result"
    },
    {
     "data": {
      "image/png": "[encoded data removed]",
      "text/plain": [
       "<Figure size 432x288 with 1 Axes>"
      ]
     },
     "metadata": {
      "needs_background": "light"
     },
     "output_type": "display_data"
    }
   ],
   "source": [
    "#12. Выделите сегмент квартир в центре. \n",
    "spb_center = spb_city[spb_city['center_km'] <= 8]\n",
    "#13. Проанализируйте эту территорию и изучите следующие параметры: \n",
    "#площадь, цена, число комнат, высота потолков. - 'total_area','last_price','rooms','ceiling_height'\n",
    "display(spb_center[['total_area','last_price','rooms','ceiling_height']])\n",
    "#Также выделите факторы, которые влияют на стоимость квартиры\n",
    "#(число комнат, этаж, удалённость от центра, дата размещения объявления). \n",
    "#'rooms'\n",
    "spb_rooms = spb_center.groupby(by = ['rooms'], as_index=False).mean()\n",
    "spb_rooms.plot(x='rooms', y = 'last_price', kind = 'scatter',grid=True)\n",
    "#Цена зависит от числа комнат (скорее всего потому, что число комнат коррелирует с площадью)"
   ]
  },
  {
   "cell_type": "code",
   "execution_count": 116,
   "metadata": {},
   "outputs": [
    {
     "data": {
      "text/plain": [
       "<matplotlib.axes._subplots.AxesSubplot at 0x7f7b14f15fd0>"
      ]
     },
     "execution_count": 116,
     "metadata": {},
     "output_type": "execute_result"
    },
    {
     "data": {
      "image/png": "[encoded data removed]",
      "text/plain": [
       "<Figure size 432x288 with 1 Axes>"
      ]
     },
     "metadata": {
      "needs_background": "light"
     },
     "output_type": "display_data"
    }
   ],
   "source": [
    "#floor_name_N'\n",
    "spb_floor = spb_center.groupby(by = ['floor_name'], as_index=False).mean()\n",
    "spb_floor.plot(x='floor_name', y = 'last_price', kind = 'bar',grid=True)\n",
    "#На первом этаже в среднем квартиры дешевле"
   ]
  },
  {
   "cell_type": "code",
   "execution_count": 119,
   "metadata": {},
   "outputs": [
    {
     "name": "stdout",
     "output_type": "stream",
     "text": [
      "[2 3 4 5]\n"
     ]
    },
    {
     "data": {
      "text/plain": [
       "<matplotlib.axes._subplots.AxesSubplot at 0x7f7b15507110>"
      ]
     },
     "execution_count": 119,
     "metadata": {},
     "output_type": "execute_result"
    },
    {
     "data": {
      "image/png": "[encoded data removed]",
      "text/plain": [
       "<Figure size 432x288 with 1 Axes>"
      ]
     },
     "metadata": {
      "needs_background": "light"
     },
     "output_type": "display_data"
    }
   ],
   "source": [
    "#высота потолков 'ceiling_height'\n",
    "spb_center = spb_center.loc[(spb_center['ceiling_height']<20)] #NEW, исключила 5 строк, где высота потолка больше 20 метров\n",
    "spb_center['ceiling_new'] = spb_center['ceiling_height'].astype(int)\n",
    "print(spb_center['ceiling_new'].unique())\n",
    "spb_ceiling = spb_center.groupby(by = ['ceiling_new'], as_index=False).mean()\n",
    "spb_ceiling.plot(x='ceiling_new', y = 'last_price', kind = 'bar',grid=True)\n",
    "#plt.title('Зависимость цены квартиры в С-П от высоты потолка')       \n",
    "#    plt.show() #NEW\n",
    "#Чем выше потолок, тем дороже квартира"
   ]
  },
  {
   "cell_type": "markdown",
   "metadata": {},
   "source": [
    "## Общий вывод"
   ]
  },
  {
   "cell_type": "markdown",
   "metadata": {},
   "source": [
    "Мы определили, что \n",
    "\n",
    "1 стоимость объектов недвижимости зависит от следующих факторов:\n",
    "    общая площадь квартиры,\n",
    "    расстояние до центра города,\n",
    "    число комнат (вероятно потому, что чило комнат зависит от общей площади квартиры),\n",
    "    этаж квартиры.\n",
    "\n",
    "2 центр С-П находится в радиусе 8 км\n",
    "\n",
    "3 стоимость квартир в центре С-П также зависит от факторов:\n",
    "    площадь, число комнат,\n",
    "    высота потолков."
   ]
  },
  {
   "cell_type": "markdown",
   "metadata": {},
   "source": [
    "<div class=\"alert alert-success\">\n",
    "<b>Комментарий:</b>\n",
    "\n",
    "Для стилизации проекта можно использовать:\n",
    "https://sqlbak.com/blog/jupyter-notebook-markdown-cheatsheet\n",
    "    \n",
    "</div>"
   ]
  },
  {
   "cell_type": "markdown",
   "metadata": {},
   "source": [
    "## Чек-лист готовности проекта\n",
    "\n",
    "Поставьте 'x' в выполненных пунктах. Далее нажмите Shift+Enter."
   ]
  },
  {
   "cell_type": "markdown",
   "metadata": {},
   "source": [
    "- [x]  открыт файл\n",
    "- [x]  файлы изучены (выведены первые строки, метод info())\n",
    "- [x]  определены пропущенные значения\n",
    "- [x]  заполнены пропущенные значения\n",
    "- [x]  есть пояснение, какие пропущенные значения обнаружены\n",
    "- [x]  изменены типы данных\n",
    "- [ ]  есть пояснение, в каких столбцах изменены типы и почему\n",
    "- [x]  посчитано и добавлено в таблицу: цена квадратного метра\n",
    "- [x]  посчитано и добавлено в таблицу: день недели, месяц и год публикации объявления\n",
    "- [x]  посчитано и добавлено в таблицу: этаж квартиры; варианты — первый, последний, другой\n",
    "- [x]  посчитано и добавлено в таблицу: соотношение жилой и общей площади, а также отношение площади кухни к общей\n",
    "- [x]  изучены следующие параметры: площадь, цена, число комнат, высота потолков\n",
    "- [x]  построены гистограммы для каждого параметра\n",
    "- [x]  выполнено задание: \"Изучите время продажи квартиры. Постройте гистограмму. Посчитайте среднее и медиану. Опишите, сколько обычно занимает продажа. Когда можно считать, что продажи прошли очень быстро, а когда необычно долго?\"\n",
    "- [x]  выполнено задание: \"Уберите редкие и выбивающиеся значения. Опишите, какие особенности обнаружили.\"\n",
    "- [x]  выполнено задание: \"Какие факторы больше всего влияют на стоимость квартиры? Изучите, зависит ли цена от квадратного метра, числа комнат, этажа (первого или последнего), удалённости от центра. Также изучите зависимость от даты размещения: дня недели, месяца и года. \"Выберите 10 населённых пунктов с наибольшим числом объявлений. Посчитайте среднюю цену квадратного метра в этих населённых пунктах. Выделите населённые пункты с самой высокой и низкой стоимостью жилья. Эти данные можно найти по имени в столбце '*locality_name'*. \"\n",
    "- [x]  выполнено задание: \"Изучите предложения квартир: для каждой квартиры есть информация о расстоянии до центра. Выделите квартиры в Санкт-Петербурге (*'locality_name'*). Ваша задача — выяснить, какая область входит в центр. Создайте столбец с расстоянием до центра в километрах: округлите до целых значений. После этого посчитайте среднюю цену для каждого километра. Постройте график: он должен показывать, как цена зависит от удалённости от центра. Определите границу, где график сильно меняется — это и будет центральная зона. \"\n",
    "- [x]  выполнено задание: \"Выделите сегмент квартир в центре. Проанализируйте эту территорию и изучите следующие параметры: площадь, цена, число комнат, высота потолков. Также выделите факторы, которые влияют на стоимость квартиры (число комнат, этаж, удалённость от центра, дата размещения объявления). Сделайте выводы. Отличаются ли они от общих выводов по всему городу?\"\n",
    "- [x]  в каждом этапе есть выводы\n",
    "- [x]  есть общий вывод"
   ]
  }
 ],
 "metadata": {
  "ExecuteTimeLog": [
   {
    "duration": 881,
    "start_time": "2021-08-14T09:18:43.767Z"
   },
   {
    "duration": 73,
    "start_time": "2021-08-14T09:19:02.914Z"
   },
   {
    "duration": 74,
    "start_time": "2021-08-14T09:19:11.897Z"
   },
   {
    "duration": 132,
    "start_time": "2021-08-14T09:22:17.454Z"
   },
   {
    "duration": 73,
    "start_time": "2021-08-14T09:22:35.259Z"
   },
   {
    "duration": 125,
    "start_time": "2021-08-14T09:23:19.289Z"
   },
   {
    "duration": 71,
    "start_time": "2021-08-14T09:23:25.577Z"
   },
   {
    "duration": 73,
    "start_time": "2021-08-14T09:24:14.267Z"
   },
   {
    "duration": 75,
    "start_time": "2021-08-14T09:24:24.025Z"
   },
   {
    "duration": 99,
    "start_time": "2021-08-14T09:25:07.843Z"
   },
   {
    "duration": 259,
    "start_time": "2021-08-14T09:25:39.488Z"
   },
   {
    "duration": 283,
    "start_time": "2021-08-14T09:26:31.984Z"
   },
   {
    "duration": 189,
    "start_time": "2021-08-14T09:33:26.408Z"
   },
   {
    "duration": 12,
    "start_time": "2021-08-14T09:35:43.744Z"
   },
   {
    "duration": 38,
    "start_time": "2021-08-14T09:39:14.510Z"
   },
   {
    "duration": 14,
    "start_time": "2021-08-14T09:55:55.594Z"
   },
   {
    "duration": 24,
    "start_time": "2021-08-14T10:10:37.302Z"
   },
   {
    "duration": 22,
    "start_time": "2021-08-14T10:15:57.655Z"
   },
   {
    "duration": 23,
    "start_time": "2021-08-14T10:16:53.874Z"
   },
   {
    "duration": 26,
    "start_time": "2021-08-14T11:20:29.612Z"
   },
   {
    "duration": 85,
    "start_time": "2021-08-14T11:28:39.642Z"
   },
   {
    "duration": 49,
    "start_time": "2021-08-14T11:28:55.589Z"
   },
   {
    "duration": 30,
    "start_time": "2021-08-14T11:29:55.664Z"
   },
   {
    "duration": 27,
    "start_time": "2021-08-14T11:30:36.119Z"
   },
   {
    "duration": 177,
    "start_time": "2021-08-14T17:04:49.824Z"
   },
   {
    "duration": 124,
    "start_time": "2021-08-14T17:05:06.190Z"
   },
   {
    "duration": 25,
    "start_time": "2021-08-14T17:05:18.815Z"
   },
   {
    "duration": 436,
    "start_time": "2021-08-14T17:06:10.128Z"
   },
   {
    "duration": 422,
    "start_time": "2021-08-14T17:06:39.138Z"
   },
   {
    "duration": 8562,
    "start_time": "2021-08-14T17:15:06.434Z"
   },
   {
    "duration": 8866,
    "start_time": "2021-08-14T17:15:50.367Z"
   },
   {
    "duration": 8183,
    "start_time": "2021-08-14T17:16:16.590Z"
   },
   {
    "duration": 9191,
    "start_time": "2021-08-14T17:17:00.268Z"
   },
   {
    "duration": 27,
    "start_time": "2021-08-14T17:17:15.768Z"
   },
   {
    "duration": 33,
    "start_time": "2021-08-14T17:17:33.051Z"
   },
   {
    "duration": 33,
    "start_time": "2021-08-14T17:22:11.153Z"
   },
   {
    "duration": 3,
    "start_time": "2021-08-14T17:24:26.270Z"
   },
   {
    "duration": 33,
    "start_time": "2021-08-14T17:24:57.609Z"
   },
   {
    "duration": 33,
    "start_time": "2021-08-14T17:26:35.802Z"
   },
   {
    "duration": 62,
    "start_time": "2021-08-14T17:35:35.806Z"
   },
   {
    "duration": 66,
    "start_time": "2021-08-14T17:37:10.765Z"
   },
   {
    "duration": 52,
    "start_time": "2021-08-14T17:41:28.205Z"
   },
   {
    "duration": 415,
    "start_time": "2021-08-14T17:51:57.976Z"
   },
   {
    "duration": 975,
    "start_time": "2021-08-14T17:52:23.650Z"
   },
   {
    "duration": 444,
    "start_time": "2021-08-14T17:52:31.183Z"
   },
   {
    "duration": 54,
    "start_time": "2021-08-14T17:54:24.345Z"
   },
   {
    "duration": 51,
    "start_time": "2021-08-14T17:57:29.263Z"
   },
   {
    "duration": 55,
    "start_time": "2021-08-14T17:58:13.245Z"
   },
   {
    "duration": 56,
    "start_time": "2021-08-14T17:59:01.721Z"
   },
   {
    "duration": 144,
    "start_time": "2021-08-14T18:03:31.697Z"
   },
   {
    "duration": 57,
    "start_time": "2021-08-14T18:04:17.517Z"
   },
   {
    "duration": 57,
    "start_time": "2021-08-14T18:05:04.407Z"
   },
   {
    "duration": 93,
    "start_time": "2021-08-14T18:20:45.078Z"
   },
   {
    "duration": 130,
    "start_time": "2021-08-14T18:27:33.901Z"
   },
   {
    "duration": 135,
    "start_time": "2021-08-14T18:28:33.654Z"
   },
   {
    "duration": 85,
    "start_time": "2021-08-14T18:28:56.047Z"
   },
   {
    "duration": 67,
    "start_time": "2021-08-14T18:30:39.824Z"
   },
   {
    "duration": 198,
    "start_time": "2021-08-14T18:30:49.917Z"
   },
   {
    "duration": 82,
    "start_time": "2021-08-14T18:30:54.653Z"
   },
   {
    "duration": 68,
    "start_time": "2021-08-14T18:32:41.231Z"
   },
   {
    "duration": 65,
    "start_time": "2021-08-14T18:33:37.734Z"
   },
   {
    "duration": 73,
    "start_time": "2021-08-14T18:34:13.143Z"
   },
   {
    "duration": 73,
    "start_time": "2021-08-14T18:35:51.326Z"
   },
   {
    "duration": 67,
    "start_time": "2021-08-14T18:36:12.846Z"
   },
   {
    "duration": 143,
    "start_time": "2021-08-14T18:38:00.640Z"
   },
   {
    "duration": 72,
    "start_time": "2021-08-14T18:38:06.342Z"
   },
   {
    "duration": 77,
    "start_time": "2021-08-14T18:39:45.066Z"
   },
   {
    "duration": 424,
    "start_time": "2021-08-14T18:43:47.806Z"
   },
   {
    "duration": 192,
    "start_time": "2021-08-14T18:46:04.273Z"
   },
   {
    "duration": 194,
    "start_time": "2021-08-14T18:46:18.783Z"
   },
   {
    "duration": 442,
    "start_time": "2021-08-14T18:46:52.783Z"
   },
   {
    "duration": 86,
    "start_time": "2021-08-14T18:47:35.220Z"
   },
   {
    "duration": 8463,
    "start_time": "2021-08-14T18:50:15.099Z"
   },
   {
    "duration": 92,
    "start_time": "2021-08-14T18:50:50.084Z"
   },
   {
    "duration": 120,
    "start_time": "2021-08-14T18:51:48.006Z"
   },
   {
    "duration": 95,
    "start_time": "2021-08-14T18:52:05.745Z"
   },
   {
    "duration": 90,
    "start_time": "2021-08-14T18:52:55.472Z"
   },
   {
    "duration": 83,
    "start_time": "2021-08-14T18:54:18.742Z"
   },
   {
    "duration": 194,
    "start_time": "2021-08-14T18:54:34.036Z"
   },
   {
    "duration": 88,
    "start_time": "2021-08-14T18:54:38.277Z"
   },
   {
    "duration": 76,
    "start_time": "2021-08-14T18:54:45.676Z"
   },
   {
    "duration": 16,
    "start_time": "2021-08-14T19:02:56.161Z"
   },
   {
    "duration": 13,
    "start_time": "2021-08-14T19:03:17.162Z"
   },
   {
    "duration": 339,
    "start_time": "2021-08-14T19:07:06.399Z"
   },
   {
    "duration": 395,
    "start_time": "2021-08-14T19:07:20.697Z"
   },
   {
    "duration": 341,
    "start_time": "2021-08-14T19:09:41.822Z"
   },
   {
    "duration": 340,
    "start_time": "2021-08-14T19:10:18.405Z"
   },
   {
    "duration": 16,
    "start_time": "2021-08-14T19:14:11.359Z"
   },
   {
    "duration": 17,
    "start_time": "2021-08-14T19:14:24.299Z"
   },
   {
    "duration": 23,
    "start_time": "2021-08-14T19:15:10.977Z"
   },
   {
    "duration": 31,
    "start_time": "2021-08-14T19:18:09.156Z"
   },
   {
    "duration": 45,
    "start_time": "2021-08-14T19:28:37.236Z"
   },
   {
    "duration": 56,
    "start_time": "2021-08-14T19:28:54.437Z"
   },
   {
    "duration": 42,
    "start_time": "2021-08-14T19:32:11.459Z"
   },
   {
    "duration": 38,
    "start_time": "2021-08-14T19:32:41.457Z"
   },
   {
    "duration": 54,
    "start_time": "2021-08-14T19:35:42.233Z"
   },
   {
    "duration": 124,
    "start_time": "2021-08-14T19:38:04.060Z"
   },
   {
    "duration": 185,
    "start_time": "2021-08-14T19:38:23.195Z"
   },
   {
    "duration": 63,
    "start_time": "2021-08-14T19:39:39.292Z"
   },
   {
    "duration": 111,
    "start_time": "2021-08-14T19:39:53.552Z"
   },
   {
    "duration": 113,
    "start_time": "2021-08-14T19:40:06.388Z"
   },
   {
    "duration": 122,
    "start_time": "2021-08-14T19:40:20.276Z"
   },
   {
    "duration": 55,
    "start_time": "2021-08-14T19:40:33.294Z"
   },
   {
    "duration": 63,
    "start_time": "2021-08-14T19:43:08.234Z"
   },
   {
    "duration": 62,
    "start_time": "2021-08-14T19:43:44.354Z"
   },
   {
    "duration": 59,
    "start_time": "2021-08-14T19:46:46.504Z"
   },
   {
    "duration": 127,
    "start_time": "2021-08-14T19:53:17.441Z"
   },
   {
    "duration": 381,
    "start_time": "2021-08-14T19:53:34.613Z"
   },
   {
    "duration": 385,
    "start_time": "2021-08-14T19:59:28.627Z"
   },
   {
    "duration": 58,
    "start_time": "2021-08-14T19:59:41.301Z"
   },
   {
    "duration": 397,
    "start_time": "2021-08-14T20:07:10.180Z"
   },
   {
    "duration": 413,
    "start_time": "2021-08-14T20:07:40.023Z"
   },
   {
    "duration": 1310,
    "start_time": "2021-08-14T20:09:29.493Z"
   },
   {
    "duration": 1217,
    "start_time": "2021-08-14T20:10:02.411Z"
   },
   {
    "duration": 108,
    "start_time": "2021-08-14T20:10:44.906Z"
   },
   {
    "duration": 1324,
    "start_time": "2021-08-14T20:11:06.909Z"
   },
   {
    "duration": 83,
    "start_time": "2021-08-14T20:12:40.828Z"
   },
   {
    "duration": 1257,
    "start_time": "2021-08-14T20:12:47.428Z"
   },
   {
    "duration": 1285,
    "start_time": "2021-08-14T20:14:23.643Z"
   },
   {
    "duration": 1281,
    "start_time": "2021-08-14T20:17:43.532Z"
   },
   {
    "duration": 1609,
    "start_time": "2021-08-14T20:19:59.649Z"
   },
   {
    "duration": 1195,
    "start_time": "2021-08-14T20:20:56.630Z"
   },
   {
    "duration": 1353,
    "start_time": "2021-08-14T20:28:29.400Z"
   },
   {
    "duration": 357,
    "start_time": "2021-08-14T20:34:58.459Z"
   },
   {
    "duration": 312,
    "start_time": "2021-08-14T20:35:10.994Z"
   },
   {
    "duration": 344,
    "start_time": "2021-08-14T20:35:17.609Z"
   },
   {
    "duration": 592,
    "start_time": "2021-08-14T20:35:46.004Z"
   },
   {
    "duration": 521,
    "start_time": "2021-08-14T20:36:17.599Z"
   },
   {
    "duration": 357,
    "start_time": "2021-08-14T20:36:25.380Z"
   },
   {
    "duration": 518,
    "start_time": "2021-08-14T20:39:06.161Z"
   },
   {
    "duration": 464,
    "start_time": "2021-08-14T20:39:35.203Z"
   },
   {
    "duration": 313,
    "start_time": "2021-08-14T20:41:51.579Z"
   },
   {
    "duration": 272,
    "start_time": "2021-08-14T20:42:03.766Z"
   },
   {
    "duration": 313,
    "start_time": "2021-08-14T20:42:18.851Z"
   },
   {
    "duration": 527,
    "start_time": "2021-08-14T20:43:38.099Z"
   },
   {
    "duration": 119,
    "start_time": "2021-08-14T20:46:27.628Z"
   },
   {
    "duration": 362,
    "start_time": "2021-08-14T20:46:36.383Z"
   },
   {
    "duration": 356,
    "start_time": "2021-08-14T20:47:12.377Z"
   },
   {
    "duration": 392,
    "start_time": "2021-08-14T20:47:59.641Z"
   },
   {
    "duration": 463,
    "start_time": "2021-08-14T20:50:09.058Z"
   },
   {
    "duration": 400,
    "start_time": "2021-08-14T20:50:34.172Z"
   },
   {
    "duration": 375,
    "start_time": "2021-08-14T20:50:41.083Z"
   },
   {
    "duration": 1878,
    "start_time": "2021-08-14T20:51:14.594Z"
   },
   {
    "duration": 461,
    "start_time": "2021-08-14T20:52:04.905Z"
   },
   {
    "duration": 432,
    "start_time": "2021-08-14T20:52:15.729Z"
   },
   {
    "duration": 348,
    "start_time": "2021-08-14T20:53:37.694Z"
   },
   {
    "duration": 8,
    "start_time": "2021-08-14T20:55:02.659Z"
   },
   {
    "duration": 333,
    "start_time": "2021-08-14T20:55:08.842Z"
   },
   {
    "duration": 334,
    "start_time": "2021-08-14T20:55:12.578Z"
   },
   {
    "duration": 6,
    "start_time": "2021-08-14T20:55:18.979Z"
   },
   {
    "duration": 318,
    "start_time": "2021-08-14T20:55:24.751Z"
   },
   {
    "duration": 511,
    "start_time": "2021-08-14T20:55:31.272Z"
   },
   {
    "duration": 368,
    "start_time": "2021-08-14T20:55:36.650Z"
   },
   {
    "duration": 347,
    "start_time": "2021-08-14T20:55:49.825Z"
   },
   {
    "duration": 562,
    "start_time": "2021-08-14T20:56:03.232Z"
   },
   {
    "duration": 363,
    "start_time": "2021-08-14T20:56:18.302Z"
   },
   {
    "duration": 207,
    "start_time": "2021-08-14T20:58:49.508Z"
   },
   {
    "duration": 93,
    "start_time": "2021-08-14T21:02:01.684Z"
   },
   {
    "duration": 1340,
    "start_time": "2021-08-14T21:02:08.150Z"
   },
   {
    "duration": 365,
    "start_time": "2021-08-14T21:02:13.554Z"
   },
   {
    "duration": 374,
    "start_time": "2021-08-14T21:02:19.443Z"
   },
   {
    "duration": 188,
    "start_time": "2021-08-14T21:02:38.706Z"
   },
   {
    "duration": 105,
    "start_time": "2021-08-14T21:02:46.557Z"
   },
   {
    "duration": 104,
    "start_time": "2021-08-14T21:03:15.822Z"
   },
   {
    "duration": 282,
    "start_time": "2021-08-14T21:03:20.598Z"
   },
   {
    "duration": 127,
    "start_time": "2021-08-14T21:03:23.865Z"
   },
   {
    "duration": 2043,
    "start_time": "2021-08-14T21:03:27.771Z"
   },
   {
    "duration": 392,
    "start_time": "2021-08-14T21:03:35.750Z"
   },
   {
    "duration": 11,
    "start_time": "2021-08-14T21:10:21.450Z"
   },
   {
    "duration": 404,
    "start_time": "2021-08-14T21:29:32.013Z"
   },
   {
    "duration": 345,
    "start_time": "2021-08-14T21:30:07.834Z"
   },
   {
    "duration": 18,
    "start_time": "2021-08-14T21:30:17.191Z"
   },
   {
    "duration": 15,
    "start_time": "2021-08-14T21:31:49.820Z"
   },
   {
    "duration": 437,
    "start_time": "2021-08-14T21:35:12.648Z"
   },
   {
    "duration": 1001,
    "start_time": "2021-08-14T21:36:23.587Z"
   },
   {
    "duration": 111,
    "start_time": "2021-08-14T21:36:28.673Z"
   },
   {
    "duration": 1249,
    "start_time": "2021-08-14T21:36:30.582Z"
   },
   {
    "duration": 553,
    "start_time": "2021-08-14T21:36:31.833Z"
   },
   {
    "duration": 340,
    "start_time": "2021-08-14T21:36:32.389Z"
   },
   {
    "duration": 355,
    "start_time": "2021-08-14T21:36:32.731Z"
   },
   {
    "duration": 351,
    "start_time": "2021-08-14T21:36:33.088Z"
   },
   {
    "duration": 394,
    "start_time": "2021-08-14T21:36:33.442Z"
   },
   {
    "duration": 474,
    "start_time": "2021-08-14T21:36:33.839Z"
   },
   {
    "duration": 27,
    "start_time": "2021-08-14T21:37:24.005Z"
   },
   {
    "duration": 374,
    "start_time": "2021-08-14T21:50:40.681Z"
   },
   {
    "duration": 78,
    "start_time": "2021-08-14T22:00:26.807Z"
   },
   {
    "duration": 1098,
    "start_time": "2021-08-14T22:00:28.871Z"
   },
   {
    "duration": 353,
    "start_time": "2021-08-14T22:00:31.555Z"
   },
   {
    "duration": 329,
    "start_time": "2021-08-14T22:00:31.910Z"
   },
   {
    "duration": 297,
    "start_time": "2021-08-14T22:00:32.242Z"
   },
   {
    "duration": 342,
    "start_time": "2021-08-14T22:00:32.542Z"
   },
   {
    "duration": 366,
    "start_time": "2021-08-14T22:00:32.886Z"
   },
   {
    "duration": 1257,
    "start_time": "2021-08-14T22:00:35.067Z"
   },
   {
    "duration": 30,
    "start_time": "2021-08-14T22:01:37.223Z"
   },
   {
    "duration": 2356,
    "start_time": "2021-08-14T22:04:13.112Z"
   },
   {
    "duration": 344,
    "start_time": "2021-08-14T22:04:16.035Z"
   },
   {
    "duration": 325,
    "start_time": "2021-08-14T22:04:16.383Z"
   },
   {
    "duration": 388,
    "start_time": "2021-08-14T22:04:16.712Z"
   },
   {
    "duration": 336,
    "start_time": "2021-08-14T22:04:17.104Z"
   },
   {
    "duration": 361,
    "start_time": "2021-08-14T22:04:17.461Z"
   },
   {
    "duration": 34,
    "start_time": "2021-08-14T22:04:32.103Z"
   },
   {
    "duration": 136,
    "start_time": "2021-08-14T22:07:53.366Z"
   },
   {
    "duration": 119,
    "start_time": "2021-08-14T22:08:02.688Z"
   },
   {
    "duration": 229,
    "start_time": "2021-08-14T22:08:14.829Z"
   },
   {
    "duration": 263,
    "start_time": "2021-08-14T22:10:40.668Z"
   },
   {
    "duration": 284,
    "start_time": "2021-08-14T22:11:17.988Z"
   },
   {
    "duration": 252,
    "start_time": "2021-08-14T22:11:52.625Z"
   },
   {
    "duration": 2303,
    "start_time": "2021-08-14T22:17:47.311Z"
   },
   {
    "duration": 403,
    "start_time": "2021-08-14T22:17:59.527Z"
   },
   {
    "duration": 335,
    "start_time": "2021-08-14T22:18:05.932Z"
   },
   {
    "duration": 2430,
    "start_time": "2021-08-14T22:18:40.901Z"
   },
   {
    "duration": 325,
    "start_time": "2021-08-14T22:18:58.187Z"
   },
   {
    "duration": 321,
    "start_time": "2021-08-14T22:20:48.296Z"
   },
   {
    "duration": 34,
    "start_time": "2021-08-14T22:24:23.348Z"
   },
   {
    "duration": 230,
    "start_time": "2021-08-19T18:47:09.908Z"
   },
   {
    "duration": 177,
    "start_time": "2021-08-19T18:47:56.761Z"
   },
   {
    "duration": 713,
    "start_time": "2021-08-19T18:48:12.510Z"
   },
   {
    "duration": 64,
    "start_time": "2021-08-19T18:48:15.970Z"
   },
   {
    "duration": 1385,
    "start_time": "2021-08-19T18:48:17.033Z"
   },
   {
    "duration": 305,
    "start_time": "2021-08-19T18:48:18.420Z"
   },
   {
    "duration": 212,
    "start_time": "2021-08-19T18:48:18.727Z"
   },
   {
    "duration": 197,
    "start_time": "2021-08-19T18:48:18.941Z"
   },
   {
    "duration": 271,
    "start_time": "2021-08-19T18:48:19.140Z"
   },
   {
    "duration": 246,
    "start_time": "2021-08-19T18:48:19.413Z"
   },
   {
    "duration": 32,
    "start_time": "2021-08-19T18:48:19.661Z"
   },
   {
    "duration": 149,
    "start_time": "2021-08-19T18:48:19.795Z"
   },
   {
    "duration": 170,
    "start_time": "2021-08-19T18:48:20.898Z"
   },
   {
    "duration": 195,
    "start_time": "2021-08-19T18:48:23.268Z"
   },
   {
    "duration": 173,
    "start_time": "2021-08-19T18:48:24.631Z"
   },
   {
    "duration": 23,
    "start_time": "2021-08-19T18:48:26.669Z"
   },
   {
    "duration": 5,
    "start_time": "2021-08-19T18:48:28.457Z"
   },
   {
    "duration": 5,
    "start_time": "2021-08-19T18:48:38.826Z"
   },
   {
    "duration": 5,
    "start_time": "2021-08-19T18:48:43.857Z"
   },
   {
    "duration": 64,
    "start_time": "2021-08-19T18:50:30.515Z"
   },
   {
    "duration": 56,
    "start_time": "2021-08-19T18:50:37.338Z"
   },
   {
    "duration": 26,
    "start_time": "2021-08-19T18:50:50.610Z"
   },
   {
    "duration": 18,
    "start_time": "2021-08-19T18:51:02.534Z"
   },
   {
    "duration": 10,
    "start_time": "2021-08-19T18:53:56.881Z"
   },
   {
    "duration": 227,
    "start_time": "2021-08-19T18:58:25.314Z"
   },
   {
    "duration": 198,
    "start_time": "2021-08-19T18:59:07.301Z"
   },
   {
    "duration": 22,
    "start_time": "2021-08-19T18:59:43.932Z"
   },
   {
    "duration": 22,
    "start_time": "2021-08-19T18:59:54.755Z"
   },
   {
    "duration": 295,
    "start_time": "2021-08-19T19:06:08.236Z"
   },
   {
    "duration": 4964,
    "start_time": "2021-08-19T19:13:13.090Z"
   },
   {
    "duration": 4659,
    "start_time": "2021-08-19T19:13:28.362Z"
   },
   {
    "duration": 409,
    "start_time": "2021-08-19T19:14:53.979Z"
   },
   {
    "duration": 4492,
    "start_time": "2021-08-19T19:15:13.131Z"
   },
   {
    "duration": 166,
    "start_time": "2021-08-19T19:15:37.381Z"
   },
   {
    "duration": 201,
    "start_time": "2021-08-19T19:21:02.229Z"
   },
   {
    "duration": 243,
    "start_time": "2021-08-19T19:21:31.358Z"
   },
   {
    "duration": 365,
    "start_time": "2021-08-19T19:21:38.963Z"
   },
   {
    "duration": 18,
    "start_time": "2021-08-19T19:29:12.106Z"
   },
   {
    "duration": 4504,
    "start_time": "2021-08-19T19:30:03.290Z"
   },
   {
    "duration": 411,
    "start_time": "2021-08-19T19:30:20.574Z"
   },
   {
    "duration": 309,
    "start_time": "2021-08-19T19:30:41.921Z"
   },
   {
    "duration": 4966,
    "start_time": "2021-08-19T19:31:25.248Z"
   },
   {
    "duration": 562,
    "start_time": "2021-08-19T19:32:11.442Z"
   },
   {
    "duration": 482,
    "start_time": "2021-08-19T19:33:32.680Z"
   },
   {
    "duration": 480,
    "start_time": "2021-08-19T19:34:42.829Z"
   },
   {
    "duration": 569,
    "start_time": "2021-08-19T19:35:08.520Z"
   },
   {
    "duration": 582,
    "start_time": "2021-08-19T19:35:56.596Z"
   },
   {
    "duration": 544,
    "start_time": "2021-08-19T19:36:06.411Z"
   },
   {
    "duration": 543,
    "start_time": "2021-08-19T19:36:27.520Z"
   },
   {
    "duration": 604,
    "start_time": "2021-08-19T19:37:23.894Z"
   },
   {
    "duration": 544,
    "start_time": "2021-08-19T19:38:08.104Z"
   },
   {
    "duration": 557,
    "start_time": "2021-08-19T19:38:45.707Z"
   },
   {
    "duration": 552,
    "start_time": "2021-08-19T19:39:18.258Z"
   },
   {
    "duration": 4925,
    "start_time": "2021-08-19T19:39:47.643Z"
   },
   {
    "duration": 459,
    "start_time": "2021-08-19T19:41:09.052Z"
   },
   {
    "duration": 442,
    "start_time": "2021-08-19T19:42:59.363Z"
   },
   {
    "duration": 460,
    "start_time": "2021-08-19T19:43:08.737Z"
   },
   {
    "duration": 427,
    "start_time": "2021-08-19T19:43:22.582Z"
   },
   {
    "duration": 202,
    "start_time": "2021-08-19T19:56:50.567Z"
   },
   {
    "duration": 196,
    "start_time": "2021-08-19T19:57:03.037Z"
   },
   {
    "duration": 201,
    "start_time": "2021-08-19T19:58:21.539Z"
   },
   {
    "duration": 439,
    "start_time": "2021-08-19T19:59:28.672Z"
   },
   {
    "duration": 221,
    "start_time": "2021-08-19T20:14:14.218Z"
   },
   {
    "duration": 207,
    "start_time": "2021-08-19T20:39:05.915Z"
   },
   {
    "duration": 219,
    "start_time": "2021-08-19T20:39:31.061Z"
   },
   {
    "duration": 203,
    "start_time": "2021-08-19T20:40:27.085Z"
   },
   {
    "duration": 229,
    "start_time": "2021-08-19T20:40:40.953Z"
   },
   {
    "duration": 184,
    "start_time": "2021-08-19T20:45:36.778Z"
   },
   {
    "duration": 186,
    "start_time": "2021-08-19T20:49:26.643Z"
   },
   {
    "duration": 31,
    "start_time": "2021-08-19T20:50:11.263Z"
   },
   {
    "duration": 29,
    "start_time": "2021-08-19T20:50:35.044Z"
   },
   {
    "duration": 4482,
    "start_time": "2021-08-19T20:51:22.997Z"
   },
   {
    "duration": 314,
    "start_time": "2021-08-19T20:52:09.386Z"
   },
   {
    "duration": 324,
    "start_time": "2021-08-19T20:52:47.846Z"
   },
   {
    "duration": 305,
    "start_time": "2021-08-19T20:58:10.228Z"
   },
   {
    "duration": 347,
    "start_time": "2021-08-19T20:58:13.461Z"
   },
   {
    "duration": 4266,
    "start_time": "2021-08-19T20:58:17.626Z"
   },
   {
    "duration": 4358,
    "start_time": "2021-08-19T20:58:40.167Z"
   },
   {
    "duration": 5,
    "start_time": "2021-08-19T20:58:54.831Z"
   },
   {
    "duration": 20,
    "start_time": "2021-08-19T21:01:22.220Z"
   },
   {
    "duration": 12,
    "start_time": "2021-08-19T21:01:43.798Z"
   },
   {
    "duration": 300,
    "start_time": "2021-08-19T21:19:43.292Z"
   },
   {
    "duration": 306,
    "start_time": "2021-08-19T21:23:58.147Z"
   },
   {
    "duration": 184,
    "start_time": "2021-08-19T21:25:18.933Z"
   },
   {
    "duration": 289,
    "start_time": "2021-08-19T21:27:00.020Z"
   },
   {
    "duration": 295,
    "start_time": "2021-08-19T21:28:10.634Z"
   },
   {
    "duration": 4159,
    "start_time": "2021-08-19T21:30:32.674Z"
   },
   {
    "duration": 161,
    "start_time": "2021-08-19T21:30:42.172Z"
   },
   {
    "duration": 1640,
    "start_time": "2021-08-19T21:37:48.135Z"
   },
   {
    "duration": 1633,
    "start_time": "2021-08-19T21:38:56.238Z"
   },
   {
    "duration": 324,
    "start_time": "2021-08-19T21:39:55.481Z"
   },
   {
    "duration": 313,
    "start_time": "2021-08-19T21:41:33.741Z"
   },
   {
    "duration": 345,
    "start_time": "2021-08-19T21:44:52.640Z"
   },
   {
    "duration": 5,
    "start_time": "2021-08-19T21:47:01.419Z"
   },
   {
    "duration": 4,
    "start_time": "2021-08-19T21:47:51.799Z"
   },
   {
    "duration": 208,
    "start_time": "2021-08-22T12:02:32.404Z"
   },
   {
    "duration": 656,
    "start_time": "2021-08-22T12:02:49.745Z"
   },
   {
    "duration": 63,
    "start_time": "2021-08-22T12:02:54.314Z"
   },
   {
    "duration": 1417,
    "start_time": "2021-08-22T12:02:56.780Z"
   },
   {
    "duration": 306,
    "start_time": "2021-08-22T12:02:59.433Z"
   },
   {
    "duration": 206,
    "start_time": "2021-08-22T12:03:00.459Z"
   },
   {
    "duration": 199,
    "start_time": "2021-08-22T12:03:01.066Z"
   },
   {
    "duration": 264,
    "start_time": "2021-08-22T12:03:01.927Z"
   },
   {
    "duration": 234,
    "start_time": "2021-08-22T12:03:02.615Z"
   },
   {
    "duration": 30,
    "start_time": "2021-08-22T12:03:02.861Z"
   },
   {
    "duration": 150,
    "start_time": "2021-08-22T12:03:03.085Z"
   },
   {
    "duration": 178,
    "start_time": "2021-08-22T12:03:03.364Z"
   },
   {
    "duration": 200,
    "start_time": "2021-08-22T12:03:20.174Z"
   },
   {
    "duration": 173,
    "start_time": "2021-08-22T12:03:20.480Z"
   },
   {
    "duration": 22,
    "start_time": "2021-08-22T12:03:20.825Z"
   },
   {
    "duration": 320,
    "start_time": "2021-08-22T12:03:21.637Z"
   },
   {
    "duration": 490,
    "start_time": "2021-08-22T12:03:23.503Z"
   },
   {
    "duration": 184,
    "start_time": "2021-08-22T12:03:24.665Z"
   },
   {
    "duration": 320,
    "start_time": "2021-08-22T12:05:42.439Z"
   },
   {
    "duration": 294,
    "start_time": "2021-08-22T12:06:15.529Z"
   },
   {
    "duration": 375,
    "start_time": "2021-08-22T12:06:37.980Z"
   },
   {
    "duration": 59,
    "start_time": "2021-08-22T12:09:10.093Z"
   },
   {
    "duration": 367,
    "start_time": "2021-08-22T12:09:20.012Z"
   },
   {
    "duration": 366,
    "start_time": "2021-08-22T12:09:43.374Z"
   },
   {
    "duration": 203,
    "start_time": "2021-08-22T12:09:53.428Z"
   },
   {
    "duration": 194,
    "start_time": "2021-08-22T12:10:14.631Z"
   },
   {
    "duration": 183,
    "start_time": "2021-08-22T12:10:45.233Z"
   },
   {
    "duration": 69,
    "start_time": "2021-08-22T12:14:58.825Z"
   },
   {
    "duration": 37943,
    "start_time": "2021-08-22T12:15:10.430Z"
   },
   {
    "duration": 39110,
    "start_time": "2021-08-22T12:16:26.860Z"
   },
   {
    "duration": 38793,
    "start_time": "2021-08-22T12:18:58.467Z"
   },
   {
    "duration": 166,
    "start_time": "2021-08-22T12:22:19.010Z"
   },
   {
    "duration": 38015,
    "start_time": "2021-08-22T12:25:42.709Z"
   },
   {
    "duration": 1454,
    "start_time": "2021-08-22T12:27:19.665Z"
   },
   {
    "duration": 210,
    "start_time": "2021-08-22T12:29:07.006Z"
   },
   {
    "duration": 37594,
    "start_time": "2021-08-22T12:30:19.364Z"
   },
   {
    "duration": 37333,
    "start_time": "2021-08-22T12:31:18.224Z"
   },
   {
    "duration": 59,
    "start_time": "2021-08-22T12:33:10.060Z"
   },
   {
    "duration": 38381,
    "start_time": "2021-08-22T12:33:56.833Z"
   },
   {
    "duration": 21,
    "start_time": "2021-08-22T12:36:55.366Z"
   },
   {
    "duration": 10,
    "start_time": "2021-08-22T12:37:25.150Z"
   },
   {
    "duration": 7,
    "start_time": "2021-08-22T12:37:38.597Z"
   },
   {
    "duration": 5,
    "start_time": "2021-08-22T12:37:47.599Z"
   },
   {
    "duration": 6,
    "start_time": "2021-08-22T12:39:19.248Z"
   },
   {
    "duration": 6,
    "start_time": "2021-08-22T12:39:30.612Z"
   },
   {
    "duration": 5,
    "start_time": "2021-08-22T12:39:53.559Z"
   },
   {
    "duration": 5,
    "start_time": "2021-08-22T12:39:59.829Z"
   },
   {
    "duration": 65,
    "start_time": "2021-08-22T12:44:22.392Z"
   },
   {
    "duration": 5,
    "start_time": "2021-08-22T12:45:54.969Z"
   },
   {
    "duration": 7,
    "start_time": "2021-08-22T12:47:09.456Z"
   },
   {
    "duration": 148,
    "start_time": "2021-08-22T12:47:28.000Z"
   },
   {
    "duration": 60,
    "start_time": "2021-08-22T12:47:29.870Z"
   },
   {
    "duration": 1369,
    "start_time": "2021-08-22T12:47:30.347Z"
   },
   {
    "duration": 242,
    "start_time": "2021-08-22T12:47:31.718Z"
   },
   {
    "duration": 234,
    "start_time": "2021-08-22T12:47:31.963Z"
   },
   {
    "duration": 205,
    "start_time": "2021-08-22T12:47:32.199Z"
   },
   {
    "duration": 236,
    "start_time": "2021-08-22T12:47:32.405Z"
   },
   {
    "duration": 260,
    "start_time": "2021-08-22T12:47:32.643Z"
   },
   {
    "duration": 22,
    "start_time": "2021-08-22T12:47:32.905Z"
   },
   {
    "duration": 165,
    "start_time": "2021-08-22T12:47:32.930Z"
   },
   {
    "duration": 205,
    "start_time": "2021-08-22T12:47:33.097Z"
   },
   {
    "duration": 216,
    "start_time": "2021-08-22T12:47:33.304Z"
   },
   {
    "duration": 174,
    "start_time": "2021-08-22T12:47:33.521Z"
   },
   {
    "duration": 22,
    "start_time": "2021-08-22T12:47:33.696Z"
   },
   {
    "duration": 322,
    "start_time": "2021-08-22T12:47:33.720Z"
   },
   {
    "duration": 350,
    "start_time": "2021-08-22T12:47:34.044Z"
   },
   {
    "duration": 177,
    "start_time": "2021-08-22T12:47:34.396Z"
   },
   {
    "duration": 12,
    "start_time": "2021-08-22T12:47:34.574Z"
   },
   {
    "duration": 5,
    "start_time": "2021-08-22T12:47:53.376Z"
   },
   {
    "duration": 5,
    "start_time": "2021-08-22T12:48:02.912Z"
   },
   {
    "duration": 171,
    "start_time": "2021-08-22T12:56:55.561Z"
   },
   {
    "duration": 5,
    "start_time": "2021-08-22T12:56:59.686Z"
   },
   {
    "duration": 171,
    "start_time": "2021-08-22T12:57:31.371Z"
   },
   {
    "duration": 82,
    "start_time": "2021-08-22T12:57:33.278Z"
   },
   {
    "duration": 1506,
    "start_time": "2021-08-22T12:57:33.793Z"
   },
   {
    "duration": 229,
    "start_time": "2021-08-22T12:57:35.301Z"
   },
   {
    "duration": 213,
    "start_time": "2021-08-22T12:57:35.532Z"
   },
   {
    "duration": 224,
    "start_time": "2021-08-22T12:57:35.747Z"
   },
   {
    "duration": 242,
    "start_time": "2021-08-22T12:57:35.973Z"
   },
   {
    "duration": 239,
    "start_time": "2021-08-22T12:57:37.346Z"
   },
   {
    "duration": 21,
    "start_time": "2021-08-22T12:57:38.412Z"
   },
   {
    "duration": 146,
    "start_time": "2021-08-22T12:57:39.762Z"
   },
   {
    "duration": 173,
    "start_time": "2021-08-22T12:57:40.712Z"
   },
   {
    "duration": 196,
    "start_time": "2021-08-22T12:57:41.962Z"
   },
   {
    "duration": 156,
    "start_time": "2021-08-22T12:57:43.277Z"
   },
   {
    "duration": 21,
    "start_time": "2021-08-22T12:57:44.945Z"
   },
   {
    "duration": 335,
    "start_time": "2021-08-22T12:57:46.463Z"
   },
   {
    "duration": 318,
    "start_time": "2021-08-22T12:57:47.584Z"
   },
   {
    "duration": 166,
    "start_time": "2021-08-22T12:57:49.601Z"
   },
   {
    "duration": 5,
    "start_time": "2021-08-22T12:57:51.094Z"
   },
   {
    "duration": 6,
    "start_time": "2021-08-22T12:58:24.775Z"
   },
   {
    "duration": 1281,
    "start_time": "2021-08-22T13:02:11.486Z"
   },
   {
    "duration": 5,
    "start_time": "2021-08-22T13:02:45.111Z"
   },
   {
    "duration": 55,
    "start_time": "2021-08-22T13:05:06.841Z"
   },
   {
    "duration": 1267,
    "start_time": "2021-08-22T13:05:11.966Z"
   },
   {
    "duration": 220,
    "start_time": "2021-08-22T13:05:13.337Z"
   },
   {
    "duration": 195,
    "start_time": "2021-08-22T13:05:13.617Z"
   },
   {
    "duration": 187,
    "start_time": "2021-08-22T13:05:13.857Z"
   },
   {
    "duration": 213,
    "start_time": "2021-08-22T13:05:14.101Z"
   },
   {
    "duration": 239,
    "start_time": "2021-08-22T13:05:14.328Z"
   },
   {
    "duration": 23,
    "start_time": "2021-08-22T13:05:15.393Z"
   },
   {
    "duration": 139,
    "start_time": "2021-08-22T13:05:16.195Z"
   },
   {
    "duration": 180,
    "start_time": "2021-08-22T13:05:17.059Z"
   },
   {
    "duration": 200,
    "start_time": "2021-08-22T13:05:20.944Z"
   },
   {
    "duration": 166,
    "start_time": "2021-08-22T13:05:21.460Z"
   },
   {
    "duration": 24,
    "start_time": "2021-08-22T13:05:24.908Z"
   },
   {
    "duration": 335,
    "start_time": "2021-08-22T13:05:25.266Z"
   },
   {
    "duration": 314,
    "start_time": "2021-08-22T13:05:25.603Z"
   },
   {
    "duration": 164,
    "start_time": "2021-08-22T13:05:26.830Z"
   },
   {
    "duration": 6,
    "start_time": "2021-08-22T13:05:28.603Z"
   },
   {
    "duration": 10,
    "start_time": "2021-08-22T13:05:54.370Z"
   },
   {
    "duration": 8,
    "start_time": "2021-08-22T13:06:22.073Z"
   },
   {
    "duration": 185,
    "start_time": "2021-08-22T13:07:09.192Z"
   },
   {
    "duration": 6,
    "start_time": "2021-08-22T13:10:00.871Z"
   },
   {
    "duration": 6,
    "start_time": "2021-08-22T13:10:20.034Z"
   },
   {
    "duration": 8,
    "start_time": "2021-08-22T13:10:33.256Z"
   },
   {
    "duration": 6,
    "start_time": "2021-08-22T13:10:40.593Z"
   },
   {
    "duration": 7,
    "start_time": "2021-08-22T13:11:27.698Z"
   },
   {
    "duration": 12,
    "start_time": "2021-08-22T13:12:27.089Z"
   },
   {
    "duration": 269,
    "start_time": "2021-08-22T13:12:34.394Z"
   },
   {
    "duration": 154,
    "start_time": "2021-08-22T13:25:17.433Z"
   },
   {
    "duration": 150,
    "start_time": "2021-08-22T13:26:16.884Z"
   },
   {
    "duration": 728,
    "start_time": "2021-08-23T05:30:30.504Z"
   },
   {
    "duration": 58,
    "start_time": "2021-08-23T05:30:31.234Z"
   },
   {
    "duration": 1323,
    "start_time": "2021-08-23T05:30:31.294Z"
   },
   {
    "duration": 267,
    "start_time": "2021-08-23T05:30:32.619Z"
   },
   {
    "duration": 183,
    "start_time": "2021-08-23T05:30:32.888Z"
   },
   {
    "duration": 179,
    "start_time": "2021-08-23T05:30:33.073Z"
   },
   {
    "duration": 241,
    "start_time": "2021-08-23T05:30:33.254Z"
   },
   {
    "duration": 205,
    "start_time": "2021-08-23T05:30:33.497Z"
   },
   {
    "duration": 19,
    "start_time": "2021-08-23T05:30:33.704Z"
   },
   {
    "duration": 145,
    "start_time": "2021-08-23T05:30:33.724Z"
   },
   {
    "duration": 163,
    "start_time": "2021-08-23T05:30:33.870Z"
   },
   {
    "duration": 180,
    "start_time": "2021-08-23T05:30:34.034Z"
   },
   {
    "duration": 149,
    "start_time": "2021-08-23T05:30:34.216Z"
   },
   {
    "duration": 22,
    "start_time": "2021-08-23T05:30:34.366Z"
   },
   {
    "duration": 352,
    "start_time": "2021-08-23T05:30:34.389Z"
   },
   {
    "duration": 318,
    "start_time": "2021-08-23T05:30:34.742Z"
   },
   {
    "duration": 157,
    "start_time": "2021-08-23T05:30:35.061Z"
   },
   {
    "duration": 333,
    "start_time": "2021-08-23T05:30:35.220Z"
   },
   {
    "duration": 81,
    "start_time": "2021-08-23T05:34:30.578Z"
   },
   {
    "duration": 58,
    "start_time": "2021-08-23T05:34:40.957Z"
   },
   {
    "duration": 402,
    "start_time": "2021-08-23T09:17:35.272Z"
   },
   {
    "duration": 1178,
    "start_time": "2021-08-23T09:19:32.515Z"
   },
   {
    "duration": 219,
    "start_time": "2021-08-23T09:19:47.573Z"
   },
   {
    "duration": 238,
    "start_time": "2021-08-23T09:22:08.862Z"
   },
   {
    "duration": 108,
    "start_time": "2021-08-23T09:24:15.003Z"
   },
   {
    "duration": 102,
    "start_time": "2021-08-23T09:26:18.543Z"
   },
   {
    "duration": 136,
    "start_time": "2021-08-23T09:28:03.659Z"
   },
   {
    "duration": 182,
    "start_time": "2021-08-23T09:45:00.983Z"
   },
   {
    "duration": 128,
    "start_time": "2021-08-23T09:45:52.217Z"
   },
   {
    "duration": 231,
    "start_time": "2021-08-23T09:46:15.734Z"
   },
   {
    "duration": 3941,
    "start_time": "2021-08-23T09:46:21.871Z"
   },
   {
    "duration": 144,
    "start_time": "2021-08-23T09:47:07.767Z"
   },
   {
    "duration": 103,
    "start_time": "2021-08-23T09:48:15.195Z"
   },
   {
    "duration": 94,
    "start_time": "2021-08-23T09:48:39.432Z"
   },
   {
    "duration": 100,
    "start_time": "2021-08-23T09:51:45.486Z"
   },
   {
    "duration": 118,
    "start_time": "2021-08-23T09:57:55.718Z"
   },
   {
    "duration": 113,
    "start_time": "2021-08-23T09:59:01.140Z"
   },
   {
    "duration": 111,
    "start_time": "2021-08-23T10:09:40.752Z"
   },
   {
    "duration": 111,
    "start_time": "2021-08-23T10:12:32.963Z"
   },
   {
    "duration": 111,
    "start_time": "2021-08-23T10:13:19.420Z"
   },
   {
    "duration": 781,
    "start_time": "2021-08-23T10:17:22.518Z"
   },
   {
    "duration": 286,
    "start_time": "2021-08-23T10:17:50.218Z"
   },
   {
    "duration": 120,
    "start_time": "2021-08-23T10:17:55.281Z"
   },
   {
    "duration": 2481,
    "start_time": "2021-08-23T10:18:10.059Z"
   },
   {
    "duration": 385,
    "start_time": "2021-08-23T10:18:16.481Z"
   },
   {
    "duration": 326,
    "start_time": "2021-08-23T10:18:34.999Z"
   },
   {
    "duration": 322,
    "start_time": "2021-08-23T10:20:52.390Z"
   },
   {
    "duration": 351,
    "start_time": "2021-08-23T10:21:52.270Z"
   },
   {
    "duration": 366,
    "start_time": "2021-08-23T10:22:32.009Z"
   },
   {
    "duration": 363,
    "start_time": "2021-08-23T10:22:53.701Z"
   },
   {
    "duration": 379,
    "start_time": "2021-08-23T10:23:01.854Z"
   },
   {
    "duration": 572,
    "start_time": "2021-08-23T10:23:18.130Z"
   },
   {
    "duration": 810,
    "start_time": "2021-08-23T10:24:05.034Z"
   },
   {
    "duration": 583,
    "start_time": "2021-08-23T10:24:22.141Z"
   },
   {
    "duration": 527,
    "start_time": "2021-08-23T10:24:33.891Z"
   },
   {
    "duration": 115,
    "start_time": "2021-08-23T10:25:18.943Z"
   },
   {
    "duration": 228,
    "start_time": "2021-08-23T10:36:44.934Z"
   },
   {
    "duration": 352,
    "start_time": "2021-08-23T10:37:05.796Z"
   },
   {
    "duration": 1039,
    "start_time": "2021-08-23T10:37:44.619Z"
   },
   {
    "duration": 548,
    "start_time": "2021-08-23T10:40:44.643Z"
   },
   {
    "duration": 1066,
    "start_time": "2021-08-23T10:41:06.693Z"
   },
   {
    "duration": 1038,
    "start_time": "2021-08-23T10:41:20.263Z"
   },
   {
    "duration": 539,
    "start_time": "2021-08-23T10:41:33.549Z"
   },
   {
    "duration": 562,
    "start_time": "2021-08-23T10:42:49.181Z"
   },
   {
    "duration": 1062,
    "start_time": "2021-08-23T10:42:56.870Z"
   },
   {
    "duration": 1101,
    "start_time": "2021-08-23T10:43:32.343Z"
   },
   {
    "duration": 112,
    "start_time": "2021-08-23T10:43:57.232Z"
   },
   {
    "duration": 106,
    "start_time": "2021-08-23T10:45:38.427Z"
   },
   {
    "duration": 1081,
    "start_time": "2021-08-23T10:46:03.331Z"
   },
   {
    "duration": 1124,
    "start_time": "2021-08-23T10:47:13.080Z"
   },
   {
    "duration": 1058,
    "start_time": "2021-08-23T10:47:41.931Z"
   },
   {
    "duration": 1060,
    "start_time": "2021-08-23T10:48:31.751Z"
   },
   {
    "duration": 1117,
    "start_time": "2021-08-23T10:48:53.573Z"
   },
   {
    "duration": 227,
    "start_time": "2021-08-23T11:00:08.663Z"
   },
   {
    "duration": 226,
    "start_time": "2021-08-23T11:01:35.133Z"
   },
   {
    "duration": 838,
    "start_time": "2021-08-23T11:01:40.722Z"
   },
   {
    "duration": 842,
    "start_time": "2021-08-23T11:01:54.672Z"
   },
   {
    "duration": 941,
    "start_time": "2021-08-23T11:03:02.337Z"
   },
   {
    "duration": 856,
    "start_time": "2021-08-23T11:03:12.437Z"
   },
   {
    "duration": 905,
    "start_time": "2021-08-23T11:05:21.987Z"
   },
   {
    "duration": 839,
    "start_time": "2021-08-23T11:05:28.568Z"
   },
   {
    "duration": 317,
    "start_time": "2021-08-23T11:06:04.433Z"
   },
   {
    "duration": 345,
    "start_time": "2021-08-23T11:06:54.431Z"
   },
   {
    "duration": 33,
    "start_time": "2021-08-23T11:07:05.453Z"
   },
   {
    "duration": 643,
    "start_time": "2021-08-23T11:07:08.674Z"
   },
   {
    "duration": 415,
    "start_time": "2021-08-23T11:07:15.494Z"
   },
   {
    "duration": 279,
    "start_time": "2021-08-23T11:07:29.383Z"
   },
   {
    "duration": 3071,
    "start_time": "2021-08-23T11:07:33.240Z"
   },
   {
    "duration": 649,
    "start_time": "2021-08-23T11:08:16.169Z"
   },
   {
    "duration": 427,
    "start_time": "2021-08-23T11:09:18.615Z"
   },
   {
    "duration": 393,
    "start_time": "2021-08-23T11:10:22.036Z"
   },
   {
    "duration": 117,
    "start_time": "2021-08-23T11:13:04.013Z"
   },
   {
    "duration": 106,
    "start_time": "2021-08-23T11:13:18.613Z"
   },
   {
    "duration": 118,
    "start_time": "2021-08-23T11:13:31.523Z"
   },
   {
    "duration": 112,
    "start_time": "2021-08-23T11:14:29.573Z"
   },
   {
    "duration": 344,
    "start_time": "2021-08-23T11:14:41.513Z"
   },
   {
    "duration": 396,
    "start_time": "2021-08-23T11:15:02.823Z"
   },
   {
    "duration": 303,
    "start_time": "2021-08-23T11:16:24.751Z"
   },
   {
    "duration": 239,
    "start_time": "2021-08-23T11:16:44.481Z"
   },
   {
    "duration": 100,
    "start_time": "2021-08-23T11:16:46.561Z"
   },
   {
    "duration": 2446,
    "start_time": "2021-08-23T11:16:48.502Z"
   },
   {
    "duration": 372,
    "start_time": "2021-08-23T11:16:50.951Z"
   },
   {
    "duration": 345,
    "start_time": "2021-08-23T11:16:51.326Z"
   },
   {
    "duration": 356,
    "start_time": "2021-08-23T11:16:51.674Z"
   },
   {
    "duration": 388,
    "start_time": "2021-08-23T11:16:52.033Z"
   },
   {
    "duration": 483,
    "start_time": "2021-08-23T11:16:52.424Z"
   },
   {
    "duration": 28,
    "start_time": "2021-08-23T11:16:52.910Z"
   },
   {
    "duration": 97,
    "start_time": "2021-08-23T11:16:52.954Z"
   },
   {
    "duration": 231,
    "start_time": "2021-08-23T11:16:53.150Z"
   },
   {
    "duration": 930,
    "start_time": "2021-08-23T11:16:53.383Z"
   },
   {
    "duration": 986,
    "start_time": "2021-08-23T11:16:54.317Z"
   },
   {
    "duration": 33,
    "start_time": "2021-08-23T11:16:55.306Z"
   },
   {
    "duration": 451,
    "start_time": "2021-08-23T11:16:55.342Z"
   },
   {
    "duration": 427,
    "start_time": "2021-08-23T11:16:55.796Z"
   },
   {
    "duration": 276,
    "start_time": "2021-08-23T11:16:56.225Z"
   },
   {
    "duration": 19,
    "start_time": "2021-08-23T11:17:14.792Z"
   },
   {
    "duration": 290,
    "start_time": "2021-08-23T11:17:19.661Z"
   },
   {
    "duration": 258,
    "start_time": "2021-08-23T11:18:11.253Z"
   },
   {
    "duration": 229,
    "start_time": "2021-08-23T11:18:40.613Z"
   },
   {
    "duration": 100,
    "start_time": "2021-08-23T11:18:42.753Z"
   },
   {
    "duration": 2433,
    "start_time": "2021-08-23T11:18:45.312Z"
   },
   {
    "duration": 377,
    "start_time": "2021-08-23T11:18:47.748Z"
   },
   {
    "duration": 409,
    "start_time": "2021-08-23T11:18:48.453Z"
   },
   {
    "duration": 334,
    "start_time": "2021-08-23T11:18:50.151Z"
   },
   {
    "duration": 353,
    "start_time": "2021-08-23T11:18:54.653Z"
   },
   {
    "duration": 451,
    "start_time": "2021-08-23T11:18:55.661Z"
   },
   {
    "duration": 30,
    "start_time": "2021-08-23T11:19:00.355Z"
   },
   {
    "duration": 112,
    "start_time": "2021-08-23T11:19:48.121Z"
   },
   {
    "duration": 82,
    "start_time": "2021-08-23T11:19:50.228Z"
   },
   {
    "duration": 226,
    "start_time": "2021-08-23T11:19:51.123Z"
   },
   {
    "duration": 822,
    "start_time": "2021-08-23T11:19:51.791Z"
   },
   {
    "duration": 856,
    "start_time": "2021-08-23T11:19:52.617Z"
   },
   {
    "duration": 33,
    "start_time": "2021-08-23T11:19:55.483Z"
   },
   {
    "duration": 438,
    "start_time": "2021-08-23T11:19:56.258Z"
   },
   {
    "duration": 437,
    "start_time": "2021-08-23T11:19:58.892Z"
   },
   {
    "duration": 363,
    "start_time": "2021-08-23T11:20:06.452Z"
   },
   {
    "duration": 296,
    "start_time": "2021-08-23T11:20:09.612Z"
   },
   {
    "duration": 269,
    "start_time": "2021-08-23T11:20:31.440Z"
   },
   {
    "duration": 253,
    "start_time": "2021-08-23T11:22:02.414Z"
   },
   {
    "duration": 235,
    "start_time": "2021-08-23T11:22:50.883Z"
   },
   {
    "duration": 116,
    "start_time": "2021-08-23T11:22:53.770Z"
   },
   {
    "duration": 2527,
    "start_time": "2021-08-23T11:22:55.982Z"
   },
   {
    "duration": 396,
    "start_time": "2021-08-23T11:22:58.512Z"
   },
   {
    "duration": 342,
    "start_time": "2021-08-23T11:22:59.863Z"
   },
   {
    "duration": 334,
    "start_time": "2021-08-23T11:23:01.853Z"
   },
   {
    "duration": 369,
    "start_time": "2021-08-23T11:23:02.623Z"
   },
   {
    "duration": 470,
    "start_time": "2021-08-23T11:23:03.176Z"
   }
  ],
  "kernelspec": {
   "display_name": "Python 3",
   "language": "python",
   "name": "python3"
  },
  "language_info": {
   "codemirror_mode": {
    "name": "ipython",
    "version": 3
   },
   "file_extension": ".py",
   "mimetype": "text/x-python",
   "name": "python",
   "nbconvert_exporter": "python",
   "pygments_lexer": "ipython3",
   "version": "3.7.8"
  },
  "toc": {
   "base_numbering": 1,
   "nav_menu": {},
   "number_sections": true,
   "sideBar": true,
   "skip_h1_title": true,
   "title_cell": "Содержание",
   "title_sidebar": "Contents",
   "toc_cell": true,
   "toc_position": {},
   "toc_section_display": true,
   "toc_window_display": true
  }
 },
 "nbformat": 4,
 "nbformat_minor": 2
}

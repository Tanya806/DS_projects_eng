{
 "cells": [
  {
   "cell_type": "markdown",
   "metadata": {},
   "source": [
    "# Определение стоимости автомобилей"
   ]
  },
  {
   "cell_type": "markdown",
   "metadata": {},
   "source": [
    "Сервис по продаже автомобилей с пробегом «Не бит, не крашен» разрабатывает приложение для привлечения новых клиентов. В нём можно быстро узнать рыночную стоимость своего автомобиля. В вашем распоряжении исторические данные: технические характеристики, комплектации и цены автомобилей. Вам нужно построить модель для определения стоимости. \n",
    "\n",
    "Заказчику важны:\n",
    "\n",
    "- качество предсказания;\n",
    "- скорость предсказания;\n",
    "- время обучения."
   ]
  },
  {
   "cell_type": "markdown",
   "metadata": {},
   "source": [
    "## Подготовка данных"
   ]
  },
  {
   "cell_type": "markdown",
   "metadata": {},
   "source": [
    "### Загрузка и первичный анализ данных"
   ]
  },
  {
   "cell_type": "code",
   "execution_count": 119,
   "metadata": {},
   "outputs": [],
   "source": [
    "import pandas as pd\n",
    "import matplotlib.pyplot as plt\n",
    "import seaborn as sns\n",
    "import time\n",
    "\n",
    "from IPython.display import display\n",
    "import numpy as np\n",
    "\n",
    "from sklearn.model_selection import train_test_split\n",
    "from sklearn.preprocessing import OrdinalEncoder\n",
    "from sklearn.preprocessing import StandardScaler\n",
    "from sklearn.model_selection import GridSearchCV\n",
    "from sklearn.metrics import mean_squared_error\n",
    "\n",
    "from sklearn.linear_model import LinearRegression\n",
    "from sklearn.tree import DecisionTreeRegressor\n",
    "from sklearn.ensemble import RandomForestRegressor\n",
    "from sklearn.dummy import DummyRegressor\n",
    "\n",
    "from catboost import CatBoostRegressor\n",
    "from lightgbm import LGBMRegressor\n",
    "from xgboost import XGBRegressor\n",
    "\n",
    "from sklearn.dummy import DummyRegressor\n",
    "\n",
    "from sklearn.metrics import (make_scorer\\\n",
    "                             , mean_squared_error)"
   ]
  },
  {
   "cell_type": "code",
   "execution_count": 120,
   "metadata": {},
   "outputs": [
    {
     "data": {},
     "metadata": {},
     "output_type": "display_data"
    },
    {
     "data": {},
     "metadata": {},
     "output_type": "display_data"
    },
    {
     "data": {},
     "metadata": {},
     "output_type": "display_data"
    }
   ],
   "source": [
    "df_autos = pd.read_csv(\"/datasets/autos.csv\")\n",
    "display(df_autos.head(5))\n",
    "display(df_autos.describe())\n",
    "df_autos.info()\n",
    "display(df_autos.isnull().sum())\n",
    "\n",
    "# Общий процент пропусков в выборке\n",
    "gaps = df_autos.isnull().sum().sum()\n",
    "print('Пропуски в исходной выборке, всего: ', gaps)\n",
    "print()\n",
    "print(\"Процент пропусков в столбцах %:\") \n",
    "print(round(df_autos.isnull().sum() * 100 /(len(df_autos)), 2).sort_values(ascending=False, inplace=False).head(5))"
   ]
  },
  {
   "cell_type": "markdown",
   "metadata": {},
   "source": [
    "<div class=\"alert alert-block alert-info\">\n",
    "<b>Вывод</b>\n",
    "\n",
    "1. Фотографии автомобилей отсутствуют (NumberOfPictures = 0 для всех строк датасета)\n",
    "\n",
    "2. У части датасета есть пропущенные значения \n",
    "- была машина в ремонте или нет (NotRepaired, 20% датасета)\n",
    "- типа автомобильного кузова (VehicleType, 10,6% датасета)\n",
    "- тип топлива (FuelType, 9,3% датасета)\n",
    "- тип коробки передач (Gearbox, 5,6% датасета)\n",
    "- модель автомобиля (Model, 5,6% датасета)\n",
    "3. Встречается некорректно заполненные данные:\n",
    "- цена (Price,\tmin = 0)\n",
    "- год регистрации автомобиля (RegistrationYear, max = 9999, min =1000)\n",
    "- мощность (Power, max = 20000, min = 0)\n",
    "4. Все даты имеют тип \"Object\" (DateCrawled, DateCreated, LastSeen). Но эти не значимы для моделирования, их можно исключить.\n",
    "</div>"
   ]
  },
  {
   "cell_type": "code",
   "execution_count": 121,
   "metadata": {},
   "outputs": [],
   "source": [
    "#1. Поиск полных дубликатов\n",
    "print(\"Число полных дубликатов строк в таблице:\", df_autos.duplicated().sum())\n",
    "df_autos = df_autos.drop_duplicates().reset_index(drop=True)\n",
    "print(\"Число полных дубликатов строк в таблице после исключения:\", df_autos.duplicated().sum())"
   ]
  },
  {
   "cell_type": "code",
   "execution_count": 122,
   "metadata": {},
   "outputs": [],
   "source": [
    "#1. Проверим, есть ли проблемы с регистрами\n",
    "cat = ['VehicleType', 'Gearbox', 'Model','FuelType', 'Brand','NotRepaired']\n",
    "print('Значения, принимаемые категориальными признаками с пропусками (',', '.join(cat),'):')\n",
    "for i in cat:\n",
    "    print()\n",
    "    print(i)\n",
    "    print(df_autos[i].value_counts()) "
   ]
  },
  {
   "cell_type": "markdown",
   "metadata": {},
   "source": [
    "<div class=\"alert alert-block alert-info\">\n",
    "<b>Вывод</b>\n",
    "\n",
    "1. Полные дубликаты исключены\n",
    "2. Проблем с регистрами не выявлено\n",
    "</div>"
   ]
  },
  {
   "cell_type": "code",
   "execution_count": 123,
   "metadata": {},
   "outputs": [],
   "source": [
    "models = df_autos['Model'].value_counts().to_frame()\n",
    "df_models = pd.DataFrame(models)\n",
    "df_models = df_models.reset_index()\n",
    "df_models.columns = ['Model', 'ModelCount']\n",
    "print(df_models[df_models['ModelCount']>10000])\n",
    "print()"
   ]
  },
  {
   "cell_type": "markdown",
   "metadata": {},
   "source": [
    "<div class=\"alert alert-block alert-info\">\n",
    "<b>Вывод</b>\n",
    "\n",
    "Cуществуют довольно редкие модели автомобилей,   \n",
    "вторая из наиболее популярных имеет наименование \"other\", незаполненные столбцы сможем отнести к этой категории.\n",
    "\n",
    "Соответствие модели сериям не проверяю.\n",
    "</div>"
   ]
  },
  {
   "cell_type": "markdown",
   "metadata": {},
   "source": [
    "### Обработка данных"
   ]
  },
  {
   "cell_type": "code",
   "execution_count": 124,
   "metadata": {},
   "outputs": [],
   "source": [
    "#1. Исключим столбец NumberOfPictures (нет данных)\n",
    "df = df_autos.drop(['NumberOfPictures'], axis=1) \n",
    "\n",
    "#2. Исключим другие ненужные столбцы (даты, индекс)\n",
    "df = df.drop([\"DateCrawled\", \"DateCreated\", \"PostalCode\", \"LastSeen\", 'RegistrationMonth'], axis=1) "
   ]
  },
  {
   "cell_type": "code",
   "execution_count": 125,
   "metadata": {},
   "outputs": [
    {
     "data": {
      "image/png": "[encoded data removed]"
     },
     "metadata": {
      "needs_background": "light"
     },
     "output_type": "display_data"
    }
   ],
   "source": [
    "#3. Исключим/скорректируем нерелеавнтные строки\n",
    "###Price, min = 0 или меньше $100\n",
    "print('Цены не указана: ', df['Price'][df['Price']<100].count(), ' или ', round(df['Price'][df['Price']==0].count()/len(df) * 1000)/10, \"% датасета\")\n",
    "df['Price'][(df['Price']>0)&(df['Price']<10000)].hist(bins=20, alpha = 0.5, color = 'b').set_title('Распределение цен')\n",
    "plt.show()\n",
    "#Исключим такие данные\n",
    "df = df.query('Price >= 100')"
   ]
  },
  {
   "cell_type": "code",
   "execution_count": 126,
   "metadata": {},
   "outputs": [
    {
     "data": {
      "image/png": "[encoded data removed]"
     },
     "metadata": {
      "needs_background": "light"
     },
     "output_type": "display_data"
    }
   ],
   "source": [
    "###RegistrationYear, max = 9999\n",
    "print('Год регистрации не указан: ', df['RegistrationYear'][(df['RegistrationYear']>=2022)|(df['RegistrationYear']<1950)].count()\\\n",
    "      ,' или ', round(df['RegistrationYear'][(df['RegistrationYear']>=2022)|(df['RegistrationYear']<1950)].count()/len(df) * 1000)/10, \"% датасета\")\n",
    "#Исключим эти данные\n",
    "df = df[(df['RegistrationYear']<2022)&(df['RegistrationYear']>1950)]\n",
    "df['RegistrationYear'].hist(bins=20, alpha = 0.5, color = 'g')\n",
    "plt.show()"
   ]
  },
  {
   "cell_type": "code",
   "execution_count": 127,
   "metadata": {},
   "outputs": [
    {
     "data": {
      "image/png": "[encoded data removed]"
     },
     "metadata": {
      "needs_background": "light"
     },
     "output_type": "display_data"
    }
   ],
   "source": [
    "###Power, max = 20000, min = 0\n",
    "print('Мощность двигателя указана некорректно: ', df['Power'][(df['Power']>600)|(df['Power']<20)].count()\\\n",
    "      ,' или ', round(df['Power'][(df['Power']>600)|(df['Power']<20)].count()/len(df) * 1000)/10, '% датасета')\n",
    "df['Power'][(df['Power']<300)&(df['Power']>20)].hist(bins=30, alpha = 0.5, color = 'r')\n",
    "plt.show()\n",
    "###Допустим, что минимальная возможная можность - 20, максимальная - 600\n",
    "df = df[(df['Power']<= 600)&(df['Power']>=20)]"
   ]
  },
  {
   "cell_type": "code",
   "execution_count": 128,
   "metadata": {},
   "outputs": [
    {
     "data": {},
     "metadata": {},
     "output_type": "display_data"
    }
   ],
   "source": [
    "#4. Дозаполним пропущенные значения\n",
    "display(df.isnull().sum())"
   ]
  },
  {
   "cell_type": "code",
   "execution_count": 129,
   "metadata": {},
   "outputs": [],
   "source": [
    "#4.1 NotRepaired, 46113 (после изменений)\n",
    "print('-------------------------------')\n",
    "print('Число непустых значений NotRepaired: ')\n",
    "print(df['NotRepaired'].value_counts())\n",
    "#Считаем, что если не заполнена, то не ремонтировалась\n",
    "df['NotRepaired'] = df['NotRepaired'].fillna('no')\n",
    "print('Число непустых значений NotRepaired после изменения: ')\n",
    "print(df['NotRepaired'].value_counts())"
   ]
  },
  {
   "cell_type": "code",
   "execution_count": 130,
   "metadata": {},
   "outputs": [],
   "source": [
    "#4.2 FuelType, 19276\n",
    "print('-------------------------------')\n",
    "print('Число непустых значений FuelType: ')\n",
    "print(df['FuelType'].value_counts())\n",
    "#Заметим, что бензин назван по-разному - petrol и gasoline. Переименуем все в petrol\n",
    "#Незаполненные также заполним значением petrol\n",
    "df.loc[df['FuelType'] == 'gasoline','FuelType'] = 'petrol'\n",
    "\n",
    "df['FuelType'] = df['FuelType'].fillna('petrol')\n",
    "print('Число непустых значений FuelType после изменения: ')\n",
    "print(df['FuelType'].value_counts())"
   ]
  },
  {
   "cell_type": "code",
   "execution_count": 131,
   "metadata": {},
   "outputs": [],
   "source": [
    "#4.3 Model, 11981\n",
    "print('-------------------------------')\n",
    "print('Число непустых значений Model: ')\n",
    "print(df['Model'].value_counts().head())\n",
    "df['Model']= df['Model'].fillna('other')\n",
    "print('Число непустых значений Model после изменения: ')\n",
    "print(df['Model'].value_counts().head())"
   ]
  },
  {
   "cell_type": "code",
   "execution_count": 132,
   "metadata": {},
   "outputs": [],
   "source": [
    "#4.4 VehicleType, 20870\n",
    "print('-------------------------------')\n",
    "print('Число непустых значений VehicleType: ')\n",
    "print(df['VehicleType'].value_counts())"
   ]
  },
  {
   "cell_type": "code",
   "execution_count": 133,
   "metadata": {},
   "outputs": [],
   "source": [
    "# Найдем самые популярные типы кузова у конкретных марок и моделей автомобилей\n",
    "#df['VehicleType'] =  df['VehicleType'].fillna('Unknown')\n",
    "#vehicle_dict = df.groupby(['Brand','Model'])['VehicleType'].agg(lambda x: x.value_counts(sort=True, ascending=False).index[0])\n",
    "#vehicle_dict = vehicle_dict.reset_index()\n",
    "#print(vehicle_dict.head())\n",
    "#Заменим Unknown получившимися в справочнике значениями\n",
    "#df_n = df.merge(vehicle_dict, on=['Brand','Model'], how='left')\n",
    "#df_n.loc[(df_n['VehicleType_x'] == 'Unknown'),'VehicleType_x'] = df_n['VehicleType_y']\n",
    "#df_n = df_n.drop(['VehicleType_y'], axis=1)\n",
    "#df_n = df_n.rename(columns= {'VehicleType_x': 'VehicleType'})\n",
    "#print(df_n.head())\n",
    "\n",
    "print('Число непустых значений VehicleType после изменения: ')\n",
    "print(df_n['VehicleType'].value_counts().head())"
   ]
  },
  {
   "cell_type": "markdown",
   "metadata": {},
   "source": [
    "<div class=\"alert alert-block alert-info\">\n",
    "\n",
    "<b>Полезная ссылка: </b> https://stackoverflow.com/questions/59127458/pandas-fillna-using-groupby-and-mode\n",
    "</div>"
   ]
  },
  {
   "cell_type": "code",
   "execution_count": 134,
   "metadata": {},
   "outputs": [],
   "source": [
    "#4.5 Gearbox, 5819\n",
    "print('-------------------------------')\n",
    "print('Число непустых значений Gearbox: ')\n",
    "print(df_n['Gearbox'].value_counts())\n",
    "df_n =  df_n.dropna(subset=['Gearbox'])"
   ]
  },
  {
   "cell_type": "code",
   "execution_count": 135,
   "metadata": {},
   "outputs": [
    {
     "data": {},
     "metadata": {},
     "output_type": "display_data"
    }
   ],
   "source": [
    "display(df_n.isnull().sum())"
   ]
  },
  {
   "cell_type": "markdown",
   "metadata": {},
   "source": [
    "### Распределения признаков. Оценка значений и корреляций."
   ]
  },
  {
   "cell_type": "code",
   "execution_count": 136,
   "metadata": {},
   "outputs": [
    {
     "data": {
      "image/png": "[encoded data removed]"
     },
     "metadata": {
      "needs_background": "light"
     },
     "output_type": "display_data"
    }
   ],
   "source": [
    "df_n['Power'].hist(bins = 10, alpha = 0.5, color = 'b')\n",
    "plt.xlabel('Мощность (л. с.)')\n",
    "plt.ylabel('Частота')\n",
    "plt.title('Распределение мощности');\n",
    "plt.show()"
   ]
  },
  {
   "cell_type": "code",
   "execution_count": 137,
   "metadata": {},
   "outputs": [
    {
     "data": {
      "image/png": "[encoded data removed]"
     },
     "metadata": {
      "needs_background": "light"
     },
     "output_type": "display_data"
    }
   ],
   "source": [
    "df_n['Kilometer'].hist(bins = 20, alpha = 0.5, color = 'r')\n",
    "plt.xlabel('тыс. км')\n",
    "plt.ylabel('Частота')\n",
    "plt.title('Распределение километража');\n",
    "plt.show()\n",
    "\n",
    "print('Машин с пробегом от 140 тыс. км до 160 тыс. км: ', df_n['Kilometer'][(df_n['Kilometer']>= 140000)&(df_n['Kilometer']<=160000)].count()\\\n",
    "      ,' или ', round(df_n['Kilometer'][(df_n['Kilometer']>= 140000)&(df_n['Kilometer']<=160000)].count()/len(df_n) * 1000)/10, '% датасета')\n"
   ]
  },
  {
   "cell_type": "markdown",
   "metadata": {},
   "source": [
    "<div class=\"alert alert-block alert-info\">\n",
    "<b>Вывод</b>\n",
    "\n",
    "Более 60% машин имеет пробег от 140 тыс. км до 160 тыс. км\n",
    "Среднестатистический автомобиль проезжает около 15 тыс. км в год. Т.е. большинству автомобилей в дата сете около 10 лет.\n",
    "</div>"
   ]
  },
  {
   "cell_type": "code",
   "execution_count": 138,
   "metadata": {},
   "outputs": [
    {
     "data": {
      "image/png": "[encoded data removed]"
     },
     "metadata": {
      "needs_background": "light"
     },
     "output_type": "display_data"
    }
   ],
   "source": [
    "df_n['Price'].hist(bins = 30, alpha = 0.5, color = 'g')\n",
    "plt.xlabel('Цена, евро')\n",
    "plt.ylabel('Частота')\n",
    "plt.title('Распределение цен');\n",
    "plt.show()"
   ]
  },
  {
   "cell_type": "code",
   "execution_count": 139,
   "metadata": {},
   "outputs": [
    {
     "data": {
      "image/png": "[encoded data removed]"
     },
     "metadata": {
      "needs_background": "light"
     },
     "output_type": "display_data"
    }
   ],
   "source": [
    "sns.heatmap(df_n.corr())\n",
    "corr = df_n.corr()\n",
    "\n",
    "print('Корреляция между ценой и годом регистрации', corr['Price']['RegistrationYear'])\n",
    "print('Корреляция между ценой и мощностью', corr['Price']['Power'])\n",
    "print('Корреляция между ценой и мощностью', corr['Price']['Kilometer'])"
   ]
  },
  {
   "cell_type": "markdown",
   "metadata": {},
   "source": [
    "<div class=\"alert alert-block alert-info\">\n",
    "<b>Вывод</b>\n",
    "\n",
    "Цена сильно коррелируем с мощностью и годом регистрации автомобиля.\n",
    "Цена имеет отрицательную корреляцию с пробегом.\n",
    "</div>"
   ]
  },
  {
   "cell_type": "markdown",
   "metadata": {},
   "source": [
    "## Обучение моделей"
   ]
  },
  {
   "cell_type": "markdown",
   "metadata": {},
   "source": [
    "### Подготовка признаков"
   ]
  },
  {
   "cell_type": "markdown",
   "metadata": {},
   "source": [
    "Выделим и подготовим признаки для обучения моделей."
   ]
  },
  {
   "cell_type": "markdown",
   "metadata": {},
   "source": [
    "#### Разделение на целевой и признаки для обучения"
   ]
  },
  {
   "cell_type": "code",
   "execution_count": 142,
   "metadata": {},
   "outputs": [],
   "source": [
    "target=df_n['Price'] #Целевой признак\n",
    "\n",
    "features = df_n.drop('Price', axis=1)\n",
    "\n",
    "print('Проверим размеры выборок:')\n",
    "print('Target ', target.shape)"
   ]
  },
  {
   "cell_type": "markdown",
   "metadata": {},
   "source": [
    "#### Метод One-Hot Encoding"
   ]
  },
  {
   "cell_type": "code",
   "execution_count": 143,
   "metadata": {},
   "outputs": [
    {
     "data": {},
     "metadata": {},
     "output_type": "display_data"
    }
   ],
   "source": [
    "#2.1 Создадим признаки, созданные по методу прямого кодирования с защитой от дамми-ловушки.\n",
    "#(Преобразуем категориальные признаки в численные техникой прямого кодирования (OHE))\n",
    "features_ohe = pd.get_dummies(features, drop_first=True)\n",
    "\n",
    "display(features.head())\n",
    "features.info()"
   ]
  },
  {
   "cell_type": "markdown",
   "metadata": {},
   "source": [
    "<div class=\"alert alert-block alert-info\">\n",
    "<b>Вывод</b>\n",
    "\n",
    "Техника прямого кодирования (OHE) добавила сотни новых признаков, что может негативно сказаться на производительности.\n",
    "</div>"
   ]
  },
  {
   "cell_type": "markdown",
   "metadata": {},
   "source": [
    "#### Метод Ordinal Encoding c One-Hot Encoding признаками для категориальных признаков с малым числом категорий"
   ]
  },
  {
   "cell_type": "markdown",
   "metadata": {},
   "source": [
    "Преобразуем категориальные признаки в численные техникой порядкового кодирования - Ordinal Encoding"
   ]
  },
  {
   "cell_type": "code",
   "execution_count": 144,
   "metadata": {},
   "outputs": [
    {
     "data": {},
     "metadata": {},
     "output_type": "display_data"
    }
   ],
   "source": [
    "#(!)Часть признаков закодируем OHE (где небольшое число категорий)\n",
    "features_oe = pd.get_dummies(features, columns=['VehicleType', 'Gearbox', 'FuelType', 'NotRepaired'], drop_first=True)\n",
    "features_oe.head()\n",
    "# Преобразуем категориальные признаки в численные техникой порядкового кодирования - Ordinal Encoding\n",
    "encoder = OrdinalEncoder()                          # создаем объект структуры данных OrdinalEncoder\n",
    "encoder.fit(features_oe)                                   # получаем список категориальных признаков\n",
    "features_oe = pd.DataFrame(encoder.transform(features_oe),       # преобразуем данные, добавляем названия столбцов \n",
    "                         columns=features_oe.columns)\n",
    "\n",
    "print(features_oe.info())\n",
    "print(\"Размер данных после преобразования Ordinal Encoder:\", df_oe.shape)\n",
    "display(features_oe.head())"
   ]
  },
  {
   "cell_type": "code",
   "execution_count": 146,
   "metadata": {},
   "outputs": [
    {
     "data": {
      "image/png": "[encoded data removed]"
     },
     "metadata": {
      "needs_background": "light"
     },
     "output_type": "display_data"
    }
   ],
   "source": [
    "sns.heatmap(features_oe.corr())\n",
    "plt.show()\n",
    "corr = features_oe.corr()\n",
    "\n",
    "print('Корреляция между брендом и моделью', corr['Brand']['Model'])"
   ]
  },
  {
   "cell_type": "markdown",
   "metadata": {},
   "source": [
    "<div class=\"alert alert-block alert-info\">\n",
    "<b>Вывод</b>\n",
    "\n",
    "Есть корреляция между брендом и моделью.\n",
    "</div>"
   ]
  },
  {
   "cell_type": "markdown",
   "metadata": {},
   "source": [
    "#### Масштабирование количественных признаков"
   ]
  },
  {
   "cell_type": "code",
   "execution_count": 147,
   "metadata": {},
   "outputs": [],
   "source": [
    "numeric1 = ['RegistrationYear', 'Power', 'Kilometer']"
   ]
  },
  {
   "cell_type": "code",
   "execution_count": 148,
   "metadata": {},
   "outputs": [
    {
     "data": {},
     "metadata": {},
     "output_type": "display_data"
    },
    {
     "data": {},
     "metadata": {},
     "output_type": "display_data"
    },
    {
     "data": {},
     "metadata": {},
     "output_type": "display_data"
    },
    {
     "data": {},
     "metadata": {},
     "output_type": "display_data"
    }
   ],
   "source": [
    "# Игнорируем предупреждение при записи изменённых признаков в исходный датафрейм\n",
    "pd.options.mode.chained_assignment = None\n",
    "\n",
    "scaler = StandardScaler()\n",
    "scaler.fit(features_train[numeric1]) \n",
    "features[numeric1] = scaler.transform(features[numeric1])\n",
    "\n",
    "#1) OHE (305 признаков). Масштабируем только числовые переменные, категориальные не масштабируем\n",
    "scaler_ohe = StandardScaler()\n",
    "scaler_ohe.fit(features_ohe[numeric1]) #для числовых переменных (numeric)\n",
    "features_ohe[numeric1] = scaler_ohe.transform(features_ohe[numeric1])\n",
    "\n",
    "#2) OE+OHE (20 признаков). Масштабируем все признаки\n",
    "scaler_oe = StandardScaler()\n",
    "scaler_oe.fit(features_oe_train) #для всех\n",
    "features_oe = pd.DataFrame(scaler_oe.transform(features_oe), columns = features_oe.columns)\n",
    "\n",
    "#3) OE+OHE (305 признаков). Масштабируем все признаки (для LinearRegression)\n",
    "scaler_ohe_sc = StandardScaler()\n",
    "scaler_ohe_sc.fit(features_ohe) \n",
    "features_ohe_sc = pd.DataFrame(scaler_ohe_sc.transform(features_ohe), columns = features_ohe.columns)\n",
    "\n",
    "#scaler_ohe_sc.fit(features_ohe_test) \n",
    "#features_ohe_test_sc  = pd.DataFrame(scaler_ohe_sc.transform(features_ohe_test),  columns = features_ohe_train.columns)\n",
    "\n",
    "print('------------------')\n",
    "print('Features')\n",
    "display(features.head())\n",
    "features_train.info()\n",
    "\n",
    "print('------------------')\n",
    "print('Features_ohe')\n",
    "display(features_ohe.head())\n",
    "features_ohe_train.info()\n",
    "\n",
    "print('------------------')\n",
    "print('Features_oe_масшатибированный полностью (для линейной регрессии)')\n",
    "display(features_oe.head())\n",
    "features_oe.info()\n",
    "\n",
    "print('------------------')\n",
    "print('Features_ohe_sc_масшатибированный полностью (для linear)')\n",
    "display(features_ohe_sc.head())\n",
    "features_ohe_sc.info()"
   ]
  },
  {
   "cell_type": "markdown",
   "metadata": {},
   "source": [
    "#### Разделение на обучающую и тестовую выборки"
   ]
  },
  {
   "cell_type": "code",
   "execution_count": 154,
   "metadata": {},
   "outputs": [],
   "source": [
    "# Выделим 80% данных для обучаюшей выборки и 20% данных для проверки\n",
    "features_train, features_test, target_train, target_test = train_test_split(\n",
    "    features, target, test_size=0.2, random_state=12345)\n",
    "\n",
    "features_ohe_train, features_ohe_test, target_ohe_train, target_ohe_test = train_test_split(\n",
    "    features_ohe, target, test_size=0.2, random_state=12345)\n",
    "\n",
    "features_oe_train, features_oe_test, target_oe_train, target_oe_test = train_test_split(\n",
    "    features_oe, target, test_size=0.2, random_state=12345)\n",
    "\n",
    "features_ohe_train_sc, features_ohe_test_sc, target_ohe_train_sc, target_ohe_test_sc = train_test_split(\n",
    "    features_ohe_sc, target, test_size=0.2, random_state=12345)\n",
    "\n",
    "print('Target_train ', target_train.shape)\n",
    "print('Features_train ', features_train.shape)\n",
    "\n",
    "print('Target_test ', target_test.shape)\n",
    "print('Features_test ', features_test.shape)"
   ]
  },
  {
   "cell_type": "markdown",
   "metadata": {},
   "source": [
    "## Анализ моделей"
   ]
  },
  {
   "cell_type": "markdown",
   "metadata": {},
   "source": [
    "**Будем рассмотривать следующие модели:**\n",
    "1. Linear regression / Модель линейной регрессии\n",
    "2. Decision Tree regression / Модель дерева решений\n",
    "3. Random Forest regression / Модель случайного леса\n",
    "4. Categorical Boosting (CatBoost)\n",
    "5. Light Gradient Boosting Machine (LightGBM)\n",
    "6. XGBoost\n",
    "7. Dummy regression / Константная модель"
   ]
  },
  {
   "cell_type": "code",
   "execution_count": 150,
   "metadata": {},
   "outputs": [],
   "source": [
    "#расчет RMSE\n",
    "def rmse(validation, predictions):\n",
    "    return mean_squared_error(validation, predictions) ** 0.5"
   ]
  },
  {
   "cell_type": "markdown",
   "metadata": {},
   "source": [
    "### Linear regression / Модель линейной регрессии"
   ]
  },
  {
   "cell_type": "markdown",
   "metadata": {},
   "source": [
    "#### Для One-Hot Encoding признаков (305 признаков)"
   ]
  },
  {
   "cell_type": "code",
   "execution_count": 155,
   "metadata": {},
   "outputs": [],
   "source": [
    "#Ordinal Encoding+OHE c маштабированными признаками\n",
    "model_linear = LinearRegression()\n",
    "\n",
    "start = time.time()\n",
    "model_linear.fit(features_ohe_train_sc, target_ohe_train) #все признаки были масштабированы (числовые и категориальные)\n",
    "end = time.time()\n",
    "\n",
    "linear_fit = end - start\n",
    "print('Время обучение линейной регрессии в секундах: {:.2f}'.format(linear_fit))"
   ]
  },
  {
   "cell_type": "code",
   "execution_count": 156,
   "metadata": {},
   "outputs": [],
   "source": [
    "start = time.time()\n",
    "predicted_ohe_test_sc = model_linear.predict(features_ohe_test_sc)\n",
    "end = time.time()\n",
    "\n",
    "linear_prediction = end - start\n",
    "print('Время предсказания линейной регрессии в секундах: {:.2f}'.format(linear_prediction))"
   ]
  },
  {
   "cell_type": "code",
   "execution_count": 159,
   "metadata": {},
   "outputs": [],
   "source": [
    "rmse_linear = rmse(predicted_ohe_test_sc, target_ohe_test_sc)\n",
    "print('Среднеквадратическая ошибка (RMSE): {:.2f}'.format(rmse_linear))"
   ]
  },
  {
   "cell_type": "markdown",
   "metadata": {},
   "source": [
    "#### Для Ordinar encoding c One-Hot Encoding признаками (20 признаков)"
   ]
  },
  {
   "cell_type": "code",
   "execution_count": 162,
   "metadata": {},
   "outputs": [],
   "source": [
    "#Ordinal Encoding+OHE c маштабированными признаками\n",
    "model_linear = LinearRegression()\n",
    "\n",
    "start = time.time()\n",
    "model_linear.fit(features_oe_train, target_oe_train) #все признаки были масштабированы (числовые и категориальные)\n",
    "end = time.time()\n",
    "\n",
    "linear_fit_oe = end - start\n",
    "print('Время обучение линейной регрессии в секундах: {:.2f}'.format(linear_fit))"
   ]
  },
  {
   "cell_type": "code",
   "execution_count": 163,
   "metadata": {},
   "outputs": [],
   "source": [
    "start = time.time()\n",
    "predicted_oe_test = model_linear.predict(features_oe_test)\n",
    "end = time.time()\n",
    "\n",
    "linear_prediction_oe = end - start\n",
    "print('Время предсказания линейной регрессии в секундах: {:.2f}'.format(linear_prediction))"
   ]
  },
  {
   "cell_type": "code",
   "execution_count": 164,
   "metadata": {},
   "outputs": [],
   "source": [
    "rmse_linear_oe = rmse(predicted_oe_test, target_oe_test)\n",
    "print('Среднеквадратическая ошибка (RMSE): {:.2f}'.format(rmse_linear))"
   ]
  },
  {
   "cell_type": "code",
   "execution_count": 1,
   "metadata": {},
   "outputs": [],
   "source": [
    "#Можно еще добавить кросс-валидацию и посмотрать Feature importance"
   ]
  },
  {
   "cell_type": "markdown",
   "metadata": {},
   "source": [
    "<div class=\"alert alert-block alert-info\">\n",
    "<b>Вывод</b>\n",
    "\n",
    "Линейная регрессия работает одинаково как на моделе с 305 признаками (OHE), так и на моделе с 20 признаками (OE+OHE). \n",
    "Выигрыша по времени или точности нет.\n",
    "</div>"
   ]
  },
  {
   "cell_type": "markdown",
   "metadata": {},
   "source": [
    "### Decision Tree regression / Модель дерева решений"
   ]
  },
  {
   "cell_type": "markdown",
   "metadata": {},
   "source": [
    "#### Для One-Hot Encoding признаков (305 признаков)"
   ]
  },
  {
   "cell_type": "code",
   "execution_count": 173,
   "metadata": {},
   "outputs": [],
   "source": [
    "model_tree = DecisionTreeRegressor()\n",
    "\n",
    "# Подбираем гиперпараметры модели дерева решений\n",
    "tree_params = {'max_depth': range(7, 21, 6), 'max_features': range(10,30,6)\\\n",
    "               , 'min_samples_leaf' : [6, 10, 21],'random_state': [12345]}\n",
    "\n",
    "scorer = make_scorer(rmse, greater_is_better = False)\n",
    "\n",
    "# Тренируем перебором вариантов\n",
    "start = time.time()\n",
    "grid_search_tree = GridSearchCV(model_tree, param_grid=tree_params, scoring=scorer, cv=5)\n",
    "grid_search_tree.fit(features_ohe_train, target_ohe_train)\n",
    "end = time.time()\n",
    "\n",
    "tree_grid = end - start\n",
    "\n",
    "print('Время подбора параметров в секундах: {:.2f}'.format(tree_grid))\n",
    "print('Подобраны гиперпараметры модели дерева решений: ', grid_search_tree.best_params_)\n",
    "print('Лучший score (RMSE): {:.2f}'.format(abs(grid_search_tree.best_score_)))"
   ]
  },
  {
   "cell_type": "code",
   "execution_count": 174,
   "metadata": {},
   "outputs": [],
   "source": [
    "# Тестируем модель дерева решений с найденными оптимальными гиперпараметрами\n",
    "model_tree = DecisionTreeRegressor(max_depth = 19, max_features = 28, min_samples_leaf = 10, random_state = 12345)\n",
    "start = time.time()\n",
    "model_tree.fit(features_ohe_train, target_ohe_train)\n",
    "end = time.time()\n",
    "\n",
    "tree_fit = end - start\n",
    "print('Время обучение дерева решений с оптимальными параметрами в секундах: {:.2f}'.format(tree_fit))"
   ]
  },
  {
   "cell_type": "code",
   "execution_count": 175,
   "metadata": {},
   "outputs": [],
   "source": [
    "start = time.time()\n",
    "predicted_ohe_test = model_tree.predict(features_ohe_test)\n",
    "end = time.time()\n",
    "\n",
    "tree_prediction = end - start\n",
    "print('Время предсказания линейной регрессии в секундах: {:.2f}'.format(tree_prediction))"
   ]
  },
  {
   "cell_type": "code",
   "execution_count": 176,
   "metadata": {},
   "outputs": [],
   "source": [
    "rmse_tree = rmse(predicted_ohe_test, target_ohe_test)\n",
    "print('Среднеквадратическая ошибка (RMSE): {:.2f}'.format(rmse_tree))"
   ]
  },
  {
   "cell_type": "code",
   "execution_count": 177,
   "metadata": {},
   "outputs": [],
   "source": [
    "tree_features_importanse = pd.Series(model_tree.feature_importances_, index=features_ohe_train.columns)\n",
    "tree_features_importanse = tree_features_importanse / tree_features_importanse.sum()"
   ]
  },
  {
   "cell_type": "markdown",
   "metadata": {},
   "source": [
    "#### Для Ordinar encoding c One-Hot Encoding признаками (20 признаков)"
   ]
  },
  {
   "cell_type": "code",
   "execution_count": 178,
   "metadata": {},
   "outputs": [],
   "source": [
    "model_tree = DecisionTreeRegressor()\n",
    "\n",
    "# Подбираем гиперпараметры модели дерева решений\n",
    "tree_params = {'max_depth': range(7, 21, 6), 'max_features': range(10, 20, 6)\\\n",
    "               , 'min_samples_leaf' : [6, 10, 21],'random_state': [12345]}\n",
    "\n",
    "scorer = make_scorer(rmse, greater_is_better = False)\n",
    "\n",
    "# Тренируем перебором вариантов\n",
    "start = time.time()\n",
    "grid_search_tree_oe = GridSearchCV(model_tree, param_grid=tree_params, scoring=scorer, cv=5)\n",
    "grid_search_tree_oe.fit(features_oe_train, target_oe_train)\n",
    "end = time.time()\n",
    "\n",
    "tree_grid_oe = end - start\n",
    "\n",
    "print('Время подбора параметров в секундах: {:.2f}'.format(tree_grid_oe))\n",
    "print('Подобраны гиперпараметры модели дерева решений: ', grid_search_tree_oe.best_params_)\n",
    "print('Лучший score (RMSE): {:.2f}'.format(abs(grid_search_tree_oe.best_score_)))"
   ]
  },
  {
   "cell_type": "code",
   "execution_count": 179,
   "metadata": {},
   "outputs": [],
   "source": [
    "# Тестируем модель дерева решений с найденными оптимальными гиперпараметрами\n",
    "model_tree_oe = DecisionTreeRegressor(max_depth = 19, max_features = 16, min_samples_leaf = 6, random_state = 12345)\n",
    "start = time.time()\n",
    "model_tree_oe.fit(features_oe_train, target_oe_train)\n",
    "end = time.time()\n",
    "\n",
    "tree_fit_oe = end - start\n",
    "print('Время обучение дерева решений с оптимальными параметрами в секундах: {:.2f}'.format(tree_fit_oe))"
   ]
  },
  {
   "cell_type": "code",
   "execution_count": 180,
   "metadata": {},
   "outputs": [],
   "source": [
    "start = time.time()\n",
    "predicted_oe_test = model_tree_oe.predict(features_oe_test)\n",
    "end = time.time()\n",
    "\n",
    "tree_prediction_oe = end - start\n",
    "print('Время предсказания линейной регрессии в секундах: {:.2f}'.format(tree_prediction_oe))"
   ]
  },
  {
   "cell_type": "code",
   "execution_count": 181,
   "metadata": {},
   "outputs": [],
   "source": [
    "rmse_tree_oe = rmse(predicted_oe_test, target_oe_test)\n",
    "print('Среднеквадратическая ошибка (RMSE): {:.2f}'.format(rmse_tree_oe))"
   ]
  },
  {
   "cell_type": "code",
   "execution_count": 182,
   "metadata": {},
   "outputs": [],
   "source": [
    "tree_features_importanse_oe = pd.Series(model_tree_oe.feature_importances_, index=features_oe_train.columns)\n",
    "tree_features_importanse_oe = tree_features_importanse_oe / tree_features_importanse_oe.sum()"
   ]
  },
  {
   "cell_type": "markdown",
   "metadata": {},
   "source": [
    "### Random Forest regression / Модель случайного леса"
   ]
  },
  {
   "cell_type": "markdown",
   "metadata": {},
   "source": [
    "#### Для One-Hot Encoding признаков (305 признаков)"
   ]
  },
  {
   "cell_type": "code",
   "execution_count": 183,
   "metadata": {},
   "outputs": [],
   "source": [
    "model_forest = RandomForestRegressor()\n",
    "forest_params = {'max_depth': range(7, 21, 6), 'max_features': range(10,30,6)\\\n",
    "                 , 'n_estimators': range (14, 34, 10),'random_state': [12345]}\n",
    "\n",
    "# Тренируем модель перебором вариантов\n",
    "scorer = make_scorer(rmse, greater_is_better = False)\n",
    "grid_search_forest = GridSearchCV(model_forest, param_grid=forest_params, scoring = scorer, cv=5)\n",
    "# Подбираем гиперпараметры\n",
    "start = time.time()\n",
    "grid_search_forest.fit(features_ohe_train, target_ohe_train)\n",
    "end = time.time()\n",
    "\n",
    "forest_grid = end - start\n",
    "\n",
    "print('Время подбора параметров в секундах: {:.2f}'.format(forest_grid))\n",
    "print('Подобраны гиперпараметры модели дерева решений: ', grid_search_forest.best_params_)\n",
    "print('Лучший score (RMSE): {:.2f}'.format(abs(grid_search_forest.best_score_)))"
   ]
  },
  {
   "cell_type": "code",
   "execution_count": 184,
   "metadata": {},
   "outputs": [],
   "source": [
    "# Тестируем модель дерева решений с найденными оптимальными гиперпараметрами\n",
    "model_forest = RandomForestRegressor(max_depth = 19, max_features = 28, n_estimators = 24, random_state = 12345)\n",
    "start = time.time()\n",
    "model_forest.fit(features_ohe_train, target_ohe_train)\n",
    "end = time.time()\n",
    "\n",
    "forest_fit = end - start\n",
    "print('Время обучение дерева решений с оптимальными параметрами в секундах: {:.2f}'.format(forest_fit))"
   ]
  },
  {
   "cell_type": "code",
   "execution_count": 188,
   "metadata": {},
   "outputs": [],
   "source": [
    "start = time.time()\n",
    "predicted_ohe_test = model_forest.predict(features_ohe_test)\n",
    "end = time.time()\n",
    "\n",
    "forest_prediction = end - start\n",
    "print('Время предсказания дерева решений в секундах: {:.2f}'.format(forest_prediction))"
   ]
  },
  {
   "cell_type": "code",
   "execution_count": 189,
   "metadata": {},
   "outputs": [],
   "source": [
    "rmse_forest = rmse(predicted_ohe_test, target_ohe_test)\n",
    "print('Среднеквадратическая ошибка (RMSE): {:.2f}'.format(rmse_forest))"
   ]
  },
  {
   "cell_type": "code",
   "execution_count": 190,
   "metadata": {},
   "outputs": [],
   "source": [
    "forest_features_importanse = pd.Series(model_forest.feature_importances_, index = features_ohe_train.columns)\n",
    "forest_features_importanse = forest_features_importanse / forest_features_importanse.sum()"
   ]
  },
  {
   "cell_type": "markdown",
   "metadata": {},
   "source": [
    "#### Для Ordinal Encoding признаков c One-Hot Encoding признаками (20 признаков)"
   ]
  },
  {
   "cell_type": "code",
   "execution_count": 191,
   "metadata": {},
   "outputs": [],
   "source": [
    "model_forest = RandomForestRegressor()\n",
    "forest_params = {'max_depth': range(7, 21, 6), 'max_features': range(10, 20, 6)\\\n",
    "                 , 'n_estimators': range (14, 34, 10),'random_state': [12345]}\n",
    "\n",
    "# Тренируем модель перебором вариантов\n",
    "scorer = make_scorer(rmse, greater_is_better = False)\n",
    "grid_search_forest = GridSearchCV(model_forest, param_grid=forest_params, scoring = scorer, cv=5)\n",
    "# Подбираем гиперпараметры\n",
    "start = time.time()\n",
    "grid_search_forest.fit(features_oe_train, target_oe_train)\n",
    "end = time.time()\n",
    "\n",
    "forest_grid_oe = end - start\n",
    "\n",
    "print('Время подбора параметров в секундах: {:.2f}'.format(forest_grid_oe))\n",
    "print('Подобраны гиперпараметры модели дерева решений: ', grid_search_forest.best_params_)\n",
    "print('Лучший score (RMSE): {:.2f}'.format(abs(grid_search_forest.best_score_)))"
   ]
  },
  {
   "cell_type": "code",
   "execution_count": 192,
   "metadata": {},
   "outputs": [],
   "source": [
    "# Тестируем модель дерева решений с найденными оптимальными гиперпараметрами\n",
    "model_forest_oe = RandomForestRegressor(max_depth = 19, max_features = 10, n_estimators = 24, random_state = 12345)\n",
    "start = time.time()\n",
    "model_forest_oe.fit(features_oe_train, target_oe_train)\n",
    "end = time.time()\n",
    "\n",
    "forest_fit_oe = end - start\n",
    "print('Время обучение дерева решений с оптимальными параметрами в секундах: {:.2f}'.format(forest_fit_oe))"
   ]
  },
  {
   "cell_type": "code",
   "execution_count": 193,
   "metadata": {},
   "outputs": [],
   "source": [
    "start = time.time()\n",
    "predicted_oe_test = model_forest_oe.predict(features_oe_test)\n",
    "end = time.time()\n",
    "\n",
    "forest_prediction_oe = end - start\n",
    "print('Время предсказания дерева решений в секундах: {:.2f}'.format(forest_prediction_oe))"
   ]
  },
  {
   "cell_type": "code",
   "execution_count": 194,
   "metadata": {},
   "outputs": [],
   "source": [
    "rmse_forest_oe = rmse(predicted_oe_test, target_oe_test)\n",
    "print('Среднеквадратическая ошибка (RMSE): {:.2f}'.format(rmse_forest_oe))"
   ]
  },
  {
   "cell_type": "code",
   "execution_count": 195,
   "metadata": {},
   "outputs": [],
   "source": [
    "forest_features_importanse_oe = pd.Series(model_forest_oe.feature_importances_, index = features_oe_train.columns)\n",
    "forest_features_importanse_oe = forest_features_importanse_oe / forest_features_importanse_oe.sum()"
   ]
  },
  {
   "cell_type": "markdown",
   "metadata": {},
   "source": [
    "### Categorical Boosting (CatBoost)"
   ]
  },
  {
   "cell_type": "markdown",
   "metadata": {},
   "source": [
    "#### На исходных признаках"
   ]
  },
  {
   "cell_type": "code",
   "execution_count": 196,
   "metadata": {},
   "outputs": [],
   "source": [
    "cat_features = ['VehicleType', 'Gearbox', 'Model','FuelType', 'Brand', 'NotRepaired']\n",
    "\n",
    "model_cat = CatBoostRegressor()    \n",
    "\n",
    "# Подбираем гиперпараметры модели CatBoost\n",
    "cat_params = {'learning_rate': [0.2], 'depth': [6, 10], 'iterations' : [60]}\n",
    "\n",
    "# Тренируем модель перебором вариантов\n",
    "scorer = make_scorer(rmse, greater_is_better = False)\n",
    "    \n",
    "# Тренируем модель CatBoost перебором вариантов\n",
    "start = time.time()\n",
    "grid_search_cat = GridSearchCV(model_cat, param_grid=cat_params, scoring = scorer, cv=5)\n",
    "grid_search_cat.fit(features_train, target_train, cat_features=cat_features, verbose=50) \n",
    "end = time.time()\n",
    "\n",
    "cat_grid = end - start\n",
    "\n",
    "print('Время подбора параметров в секундах: {:.2f}'.format(cat_grid))\n",
    "print('Подобраны гиперпараметры модели Categorical Boosting: ', grid_search_cat.best_params_)\n",
    "print('Лучший score (RMSE): {:.2f}'.format(abs(grid_search_cat.best_score_)))"
   ]
  },
  {
   "cell_type": "code",
   "execution_count": 197,
   "metadata": {},
   "outputs": [],
   "source": [
    "# Тестируем модель дерева решений с найденными оптимальными гиперпараметрами\n",
    "cat_features = ['VehicleType', 'Gearbox', 'Model','FuelType', 'Brand', 'NotRepaired']\n",
    "model_cat = CatBoostRegressor(learning_rate=0.2, iterations=60, depth=10, random_seed=12345) \n",
    "start = time.time()\n",
    "model_cat.fit(features_train, target_train, cat_features=cat_features, verbose=50)\n",
    "end = time.time()\n",
    "\n",
    "cat_fit = end - start\n",
    "print('Время обучение Categorical Boosting с оптимальными параметрами в секундах: {:.2f}'.format(cat_fit))"
   ]
  },
  {
   "cell_type": "code",
   "execution_count": 198,
   "metadata": {},
   "outputs": [],
   "source": [
    "start = time.time()\n",
    "predicted_test = model_cat.predict(features_test)\n",
    "end = time.time()\n",
    "\n",
    "cat_prediction = end - start\n",
    "print('Время предсказания Categorical Boosting в секундах: {:.2f}'.format(cat_prediction))"
   ]
  },
  {
   "cell_type": "code",
   "execution_count": 199,
   "metadata": {},
   "outputs": [],
   "source": [
    "rmse_cat = rmse(predicted_test, target_test)\n",
    "print('Среднеквадратическая ошибка (RMSE): {:.2f}'.format(rmse_cat))"
   ]
  },
  {
   "cell_type": "code",
   "execution_count": 200,
   "metadata": {},
   "outputs": [],
   "source": [
    "cat_features_importanse = pd.Series(model_cat.feature_importances_, index = features_train.columns)\n",
    "cat_features_importanse = cat_features_importanse / cat_features_importanse.sum()"
   ]
  },
  {
   "cell_type": "markdown",
   "metadata": {},
   "source": [
    "### Light Gradient Boosting Machine "
   ]
  },
  {
   "cell_type": "code",
   "execution_count": 202,
   "metadata": {},
   "outputs": [],
   "source": [
    "model_lgbm = LGBMRegressor()\n",
    "\n",
    "lgbm_params = {'max_depth': [6,10], 'learning_rate': [0.02]\\\n",
    "               , 'num_leaves': [10, 20, 30]}\n",
    "\n",
    "# Тренируем модель перебором вариантов\n",
    "scorer = make_scorer(rmse, greater_is_better = False)\n",
    "    \n",
    "# Тренируем модель CatBoost перебором вариантов\n",
    "start = time.time()\n",
    "grid_search_lgbm = GridSearchCV(model_lgbm, param_grid = lgbm_params, scoring = scorer, cv=5)\n",
    "grid_search_lgbm.fit(features_oe_train, target_oe_train) \n",
    "end = time.time()\n",
    "\n",
    "lgbm_grid_oe = end - start\n",
    "\n",
    "print('Время подбора параметров в секундах: {:.2f}'.format(lgbm_grid_oe))\n",
    "print('Подобраны гиперпараметры модели дерева решений: ', grid_search_lgbm.best_params_)\n",
    "print('Лучший score (RMSE): {:.2f}'.format(abs(grid_search_lgbm.best_score_)))"
   ]
  },
  {
   "cell_type": "code",
   "execution_count": 203,
   "metadata": {},
   "outputs": [],
   "source": [
    "# Тестируем модель дерева решений с найденными оптимальными гиперпараметрами\n",
    "model_lgbm = LGBMRegressor(max_depth=10, learning_rate = 0.02, num_leaves = 30, random_seed=12345)\n",
    "start = time.time()\n",
    "model_lgbm.fit(features_oe_train, target_oe_train)\n",
    "end = time.time()\n",
    "\n",
    "lgbm_fit_oe = end - start\n",
    "print('Время обучение Light Gradient Boosting Machine с оптимальными параметрами в секундах: {:.2f}'.format(lgbm_fit_oe))"
   ]
  },
  {
   "cell_type": "code",
   "execution_count": 228,
   "metadata": {},
   "outputs": [],
   "source": [
    "start = time.time()\n",
    "predicted_test = model_lgbm.predict(features_oe_test)\n",
    "end = time.time()\n",
    "\n",
    "lgbm_prediction_oe = end - start\n",
    "print('Время предсказания Light Gradient Boosting Machine в секундах: {:.2f}'.format(lgbm_prediction))"
   ]
  },
  {
   "cell_type": "code",
   "execution_count": 229,
   "metadata": {},
   "outputs": [],
   "source": [
    "rmse_lgbm = rmse(predicted_oe_test, target_oe_test)\n",
    "print('Среднеквадратическая ошибка (RMSE): {:.2f}'.format(rmse_lgbm))"
   ]
  },
  {
   "cell_type": "code",
   "execution_count": 230,
   "metadata": {},
   "outputs": [],
   "source": [
    "lgbm_features_importanse = pd.Series(model_lgbm.feature_importances_, index = features_oe_train.columns)\n",
    "lgbm_features_importanse = lgbm_features_importanse / lgbm_features_importanse.sum()"
   ]
  },
  {
   "cell_type": "markdown",
   "metadata": {},
   "source": [
    "<div class=\"alert alert-block alert-info\">\n",
    "<b>Можно использовать: </b> У lightGBM тоже есть внутренний метод кодировки. Для этого достаточно изменить тип колонок с категориальными признаками на соответствующий: .astype('category').\n",
    "</div>"
   ]
  },
  {
   "cell_type": "markdown",
   "metadata": {},
   "source": [
    "### Dummy regression / Константная модель"
   ]
  },
  {
   "cell_type": "code",
   "execution_count": 231,
   "metadata": {},
   "outputs": [],
   "source": [
    "model_dummy = DummyRegressor(strategy = 'median')\n",
    "\n",
    "start = time.time()\n",
    "model_dummy.fit(features_ohe_train, target_ohe_train)\n",
    "end = time.time()\n",
    "\n",
    "dummy_fit = end - start\n",
    "print('Время обучение dummy модели в секундах: {:.2f}'.format(dummy_fit))"
   ]
  },
  {
   "cell_type": "code",
   "execution_count": 232,
   "metadata": {},
   "outputs": [],
   "source": [
    "start = time.time()\n",
    "predicted_ohe_test = model_dummy.predict(features_ohe_test)\n",
    "end = time.time()\n",
    "\n",
    "dummy_prediction = end - start\n",
    "print('Время предсказания dummy модели в секундах: {:.2f}'.format(dummy_prediction))"
   ]
  },
  {
   "cell_type": "code",
   "execution_count": 233,
   "metadata": {},
   "outputs": [],
   "source": [
    "rmse_dummy = rmse(predicted_ohe_test, target_ohe_test)\n",
    "print('Среднеквадратическая ошибка (RMSE): {:.2f}'.format(rmse_dummy))"
   ]
  },
  {
   "cell_type": "markdown",
   "metadata": {},
   "source": [
    "### Сравнение моделей"
   ]
  },
  {
   "cell_type": "code",
   "execution_count": 234,
   "metadata": {},
   "outputs": [
    {
     "data": {},
     "metadata": {},
     "output_type": "display_data"
    }
   ],
   "source": [
    "#Модели\n",
    "    #1 Linear regression / Модель линейной регрессии\n",
    "    #2.1 Decision Tree regression / Модель дерева решений, One-Hot Encoding\n",
    "    #2.2 Decision Tree regression / Модель дерева решений, Ordinal Encoding\n",
    "    #3 Random Forest regression / Модель случайного леса\n",
    "    #4 Categorical Boosting (CatBoost)\n",
    "    #5 Light Gradient Boosting Machine (LightGBM)\n",
    "    #6 Dummy regression / Константная модель\n",
    "#Время:\n",
    "#- поиск параметров\n",
    "    #1 -\n",
    "    #2.1 tree_grid\n",
    "    #2.2 tree_grid_oe\n",
    "#- время обучения\n",
    "    #1 linear_fit\n",
    "    #2.1 tree_fit\n",
    "    #2.2 tree_fit_oe\n",
    "#- время выполнения\n",
    "    #1 linear_prediction\n",
    "    #2.1 tree_prediction\n",
    "    #2.2 tree_prediction_oe\n",
    "#Общее время всекундах\n",
    "    #1 linear_\n",
    "    #2.1 tree_\n",
    "    #2.2 tree_oe_\n",
    "#RMSE тестовой выборки\n",
    "    #1 rmse_linear\n",
    "    #2.1 rmse_tree\n",
    "    #2.2 rmse_tree_oe\n",
    "    #3.1\n",
    "    #3.3\n",
    "index_res = ['1 Linear','2.1 Decision Tree, OHE', '2.2 Decision Tree, OE'\\\n",
    "             , '3.1 Random Forest OHE','3.2 Random Forest OE', '4 CatBoost'\\\n",
    "             , '5 LightGBM', '6 Dummy']\n",
    "\n",
    "column_res = { 'Время подбора параметров в секундах' : [0, tree_grid, tree_grid_oe\\\n",
    "                                                        , forest_grid, forest_grid_oe, cat_grid\\\n",
    "                                                        , lgbm_grid_oe, 0],\n",
    "              'Время обучения модели в секундах' : [linear_fit, tree_fit, tree_fit_oe\\\n",
    "                                                        , forest_fit, forest_fit_oe, cat_fit\\\n",
    "                                                        , lgbm_fit_oe, dummy_fit],\n",
    "              'Скорость предсказания в секундах' : [linear_prediction, tree_prediction, tree_prediction_oe\\\n",
    "                                                        , forest_prediction, forest_prediction_oe, cat_prediction\\\n",
    "                                                        , lgbm_prediction_oe, dummy_prediction],\n",
    "              'Среднеквадратическая ошибка (RMSE)' : [rmse_linear, rmse_tree, rmse_tree_oe\\\n",
    "                                                        , rmse_forest, rmse_forest_oe, rmse_cat\\\n",
    "                                                        , rmse_lgbm, rmse_dummy]}\n",
    "res = pd.DataFrame(data = column_res, index = index_res)\n",
    "\n",
    "display(res.loc[index_res])"
   ]
  },
  {
   "cell_type": "markdown",
   "metadata": {},
   "source": [
    "<div class=\"alert alert-block alert-info\">\n",
    "<b>Вывод</b>\n",
    "\n",
    "Получили результаты тестирования моделей:\n",
    "\n",
    "1. Лучшее качество дает модель: Random Forest, LightGBM с выбранными параметрами.\n",
    "2. Среднее качество при быстрой скорости обучения показывает модель Decision Tree на датафрейме с обработкой признаков Ordinal Encoding. \n",
    "</div>"
   ]
  },
  {
   "cell_type": "markdown",
   "metadata": {},
   "source": [
    "### Дополнительно. Визуализация важности признаков для разных моделей"
   ]
  },
  {
   "cell_type": "code",
   "execution_count": 248,
   "metadata": {},
   "outputs": [
    {
     "data": {
      "image/png": "[encoded data removed]"
     },
     "metadata": {
      "needs_background": "light"
     },
     "output_type": "display_data"
    },
    {
     "data": {},
     "metadata": {},
     "output_type": "display_data"
    }
   ],
   "source": [
    "# Визуализация важности признаков для разных моделей\n",
    "col = ['RegistrationYear', 'Power', 'Model', 'Kilometer', 'Brand']\n",
    "features_imp = pd.DataFrame({'Decision tree' : tree_features_importanse_oe\\\n",
    "                             ,'Random forest' : forest_features_importanse_oe\\\n",
    "                             ,'CatBoost' : cat_features_importanse\\\n",
    "                             ,'LightGBM' : lgbm_features_importanse \n",
    "                            }, \n",
    "                            index = col)\n",
    "fig, ax = plt.subplots(figsize=(8,5))\n",
    "ax = features_imp.plot.bar(ax=ax)\n",
    "ax.set_title(\"Важность признаков для разных моделей\")\n",
    "ax.set_xlabel('Признак')\n",
    "ax.set_ylabel('Важность, %')\n",
    "plt.show()\n",
    "\n",
    "display(features_imp)"
   ]
  },
  {
   "cell_type": "markdown",
   "metadata": {},
   "source": [
    "## Чек-лист проверки"
   ]
  },
  {
   "cell_type": "markdown",
   "metadata": {},
   "source": [
    "Поставьте 'x' в выполненных пунктах. Далее нажмите Shift+Enter."
   ]
  },
  {
   "cell_type": "markdown",
   "metadata": {},
   "source": [
    "- [x]  Jupyter Notebook открыт\n",
    "- [x]  Весь код выполняется без ошибок\n",
    "- [x]  Ячейки с кодом расположены в порядке исполнения\n",
    "- [x]  Выполнена загрузка и подготовка данных\n",
    "- [x]  Выполнено обучение моделей\n",
    "- [x]  Есть анализ скорости работы и качества моделей"
   ]
  }
 ],
 "metadata": {
  "ExecuteTimeLog": [
   {
    "duration": 1163,
    "start_time": "2022-01-15T18:37:58.016Z"
   },
   {
    "duration": 10443,
    "start_time": "2022-01-15T18:39:14.721Z"
   },
   {
    "duration": 1364,
    "start_time": "2022-01-15T18:41:19.743Z"
   },
   {
    "duration": 1002,
    "start_time": "2022-01-15T18:41:36.584Z"
   },
   {
    "duration": 89,
    "start_time": "2022-01-15T18:41:48.810Z"
   },
   {
    "duration": 956,
    "start_time": "2022-01-15T18:41:56.444Z"
   },
   {
    "duration": 405,
    "start_time": "2022-01-15T18:48:11.780Z"
   },
   {
    "duration": 3,
    "start_time": "2022-01-15T18:49:17.367Z"
   },
   {
    "duration": 282,
    "start_time": "2022-01-15T18:49:40.197Z"
   },
   {
    "duration": 308,
    "start_time": "2022-01-15T18:50:17.254Z"
   },
   {
    "duration": 355,
    "start_time": "2022-01-15T19:02:50.938Z"
   },
   {
    "duration": 264,
    "start_time": "2022-01-15T19:03:30.790Z"
   },
   {
    "duration": 4,
    "start_time": "2022-01-15T19:03:38.135Z"
   },
   {
    "duration": 837,
    "start_time": "2022-01-15T19:05:10.445Z"
   },
   {
    "duration": 100,
    "start_time": "2022-01-15T19:06:12.700Z"
   },
   {
    "duration": 681,
    "start_time": "2022-01-15T19:06:18.246Z"
   },
   {
    "duration": 836,
    "start_time": "2022-01-15T19:07:07.695Z"
   },
   {
    "duration": 774,
    "start_time": "2022-01-15T19:07:15.623Z"
   },
   {
    "duration": 289,
    "start_time": "2022-01-15T19:18:04.488Z"
   },
   {
    "duration": 308,
    "start_time": "2022-01-15T19:18:46.964Z"
   },
   {
    "duration": 306,
    "start_time": "2022-01-15T19:19:29.724Z"
   },
   {
    "duration": 383,
    "start_time": "2022-01-15T19:20:25.849Z"
   },
   {
    "duration": 370,
    "start_time": "2022-01-15T19:20:37.619Z"
   },
   {
    "duration": 205,
    "start_time": "2022-01-15T19:20:46.061Z"
   },
   {
    "duration": 281,
    "start_time": "2022-01-15T19:20:56.265Z"
   },
   {
    "duration": 1153,
    "start_time": "2022-01-15T19:21:22.145Z"
   },
   {
    "duration": 1201,
    "start_time": "2022-01-15T19:22:37.995Z"
   },
   {
    "duration": 1530,
    "start_time": "2022-01-15T19:26:08.123Z"
   },
   {
    "duration": 1334,
    "start_time": "2022-01-15T19:26:15.836Z"
   },
   {
    "duration": 591,
    "start_time": "2022-01-15T19:26:26.760Z"
   },
   {
    "duration": 161,
    "start_time": "2022-01-15T19:27:40.340Z"
   },
   {
    "duration": 172,
    "start_time": "2022-01-15T19:27:53.846Z"
   },
   {
    "duration": 167,
    "start_time": "2022-01-15T19:28:02.409Z"
   },
   {
    "duration": 161,
    "start_time": "2022-01-15T19:28:16.331Z"
   },
   {
    "duration": 497,
    "start_time": "2022-01-15T19:33:09.788Z"
   },
   {
    "duration": 94,
    "start_time": "2022-01-15T19:34:31.462Z"
   },
   {
    "duration": 1303,
    "start_time": "2022-01-15T19:35:18.321Z"
   },
   {
    "duration": 194,
    "start_time": "2022-01-15T19:35:32.459Z"
   },
   {
    "duration": 35,
    "start_time": "2022-01-15T19:35:59.940Z"
   },
   {
    "duration": 159,
    "start_time": "2022-01-15T19:36:35.414Z"
   },
   {
    "duration": 92,
    "start_time": "2022-01-15T19:37:00.899Z"
   },
   {
    "duration": 706,
    "start_time": "2022-01-15T19:37:18.372Z"
   },
   {
    "duration": 33,
    "start_time": "2022-01-15T19:37:28.248Z"
   },
   {
    "duration": 35,
    "start_time": "2022-01-15T19:42:57.434Z"
   },
   {
    "duration": 36,
    "start_time": "2022-01-15T19:43:09.066Z"
   },
   {
    "duration": 292,
    "start_time": "2022-01-15T19:44:02.244Z"
   },
   {
    "duration": 32,
    "start_time": "2022-01-15T19:44:10.293Z"
   },
   {
    "duration": 33,
    "start_time": "2022-01-15T19:44:16.696Z"
   },
   {
    "duration": 35,
    "start_time": "2022-01-15T19:44:23.779Z"
   },
   {
    "duration": 34,
    "start_time": "2022-01-15T19:45:03.145Z"
   },
   {
    "duration": 34,
    "start_time": "2022-01-15T19:45:17.461Z"
   },
   {
    "duration": 35,
    "start_time": "2022-01-15T19:46:24.652Z"
   },
   {
    "duration": 36,
    "start_time": "2022-01-15T19:46:30.738Z"
   },
   {
    "duration": 33,
    "start_time": "2022-01-15T19:46:43.519Z"
   },
   {
    "duration": 33,
    "start_time": "2022-01-15T19:46:52.515Z"
   },
   {
    "duration": 96,
    "start_time": "2022-01-15T19:55:54.698Z"
   },
   {
    "duration": 28,
    "start_time": "2022-01-15T19:56:12.953Z"
   },
   {
    "duration": 240,
    "start_time": "2022-01-15T19:59:00.232Z"
   },
   {
    "duration": 225,
    "start_time": "2022-01-15T19:59:21.381Z"
   },
   {
    "duration": 329,
    "start_time": "2022-01-15T19:59:34.055Z"
   },
   {
    "duration": 296,
    "start_time": "2022-01-15T20:00:05.174Z"
   },
   {
    "duration": 438,
    "start_time": "2022-01-15T20:01:24.363Z"
   },
   {
    "duration": 503,
    "start_time": "2022-01-15T20:01:38.575Z"
   },
   {
    "duration": 289,
    "start_time": "2022-01-15T20:01:53.185Z"
   },
   {
    "duration": 284,
    "start_time": "2022-01-15T20:02:11.705Z"
   },
   {
    "duration": 467,
    "start_time": "2022-01-15T20:03:23.732Z"
   },
   {
    "duration": 451,
    "start_time": "2022-01-15T20:03:44.731Z"
   },
   {
    "duration": 449,
    "start_time": "2022-01-15T20:04:02.926Z"
   },
   {
    "duration": 472,
    "start_time": "2022-01-15T20:04:33.991Z"
   },
   {
    "duration": 451,
    "start_time": "2022-01-15T20:04:47.441Z"
   },
   {
    "duration": 469,
    "start_time": "2022-01-15T20:04:57.046Z"
   },
   {
    "duration": 537,
    "start_time": "2022-01-15T20:05:18.103Z"
   },
   {
    "duration": 34,
    "start_time": "2022-01-15T20:05:50.679Z"
   },
   {
    "duration": 36,
    "start_time": "2022-01-15T20:06:01.231Z"
   },
   {
    "duration": 34,
    "start_time": "2022-01-15T20:06:32.542Z"
   },
   {
    "duration": 113,
    "start_time": "2022-01-15T20:07:15.082Z"
   },
   {
    "duration": 103,
    "start_time": "2022-01-15T20:07:21.489Z"
   },
   {
    "duration": 98,
    "start_time": "2022-01-15T20:07:30.306Z"
   },
   {
    "duration": 455,
    "start_time": "2022-01-15T20:07:56.819Z"
   },
   {
    "duration": 109,
    "start_time": "2022-01-15T20:08:24.047Z"
   },
   {
    "duration": 100,
    "start_time": "2022-01-15T20:08:31.661Z"
   },
   {
    "duration": 94,
    "start_time": "2022-01-15T20:08:49.205Z"
   },
   {
    "duration": 100,
    "start_time": "2022-01-15T20:09:05.039Z"
   },
   {
    "duration": 86,
    "start_time": "2022-01-15T20:09:16.244Z"
   },
   {
    "duration": 449,
    "start_time": "2022-01-15T20:09:25.537Z"
   },
   {
    "duration": 452,
    "start_time": "2022-01-15T20:09:39.137Z"
   },
   {
    "duration": 468,
    "start_time": "2022-01-15T20:09:52.098Z"
   },
   {
    "duration": 471,
    "start_time": "2022-01-15T20:10:04.742Z"
   },
   {
    "duration": 652,
    "start_time": "2022-01-15T20:10:47.702Z"
   },
   {
    "duration": 487,
    "start_time": "2022-01-15T20:12:18.573Z"
   },
   {
    "duration": 463,
    "start_time": "2022-01-15T20:12:45.296Z"
   },
   {
    "duration": 446,
    "start_time": "2022-01-15T20:14:07.649Z"
   },
   {
    "duration": 458,
    "start_time": "2022-01-15T20:14:28.785Z"
   },
   {
    "duration": 597,
    "start_time": "2022-01-15T20:15:02.410Z"
   },
   {
    "duration": 659,
    "start_time": "2022-01-15T20:15:14.226Z"
   },
   {
    "duration": 456,
    "start_time": "2022-01-15T20:16:06.958Z"
   },
   {
    "duration": 452,
    "start_time": "2022-01-15T20:17:22.153Z"
   },
   {
    "duration": 465,
    "start_time": "2022-01-15T20:17:33.862Z"
   },
   {
    "duration": 511,
    "start_time": "2022-01-15T20:18:21.623Z"
   },
   {
    "duration": 96,
    "start_time": "2022-01-15T20:22:28.626Z"
   },
   {
    "duration": 1852,
    "start_time": "2022-01-15T20:22:34.909Z"
   },
   {
    "duration": 464,
    "start_time": "2022-01-15T20:23:33.978Z"
   },
   {
    "duration": 474,
    "start_time": "2022-01-15T20:23:48.817Z"
   },
   {
    "duration": 7340,
    "start_time": "2022-01-15T20:26:28.287Z"
   },
   {
    "duration": 461,
    "start_time": "2022-01-15T20:26:56.557Z"
   },
   {
    "duration": 479,
    "start_time": "2022-01-15T20:27:08.344Z"
   },
   {
    "duration": 463,
    "start_time": "2022-01-15T20:27:19.481Z"
   },
   {
    "duration": 487,
    "start_time": "2022-01-15T20:27:32.982Z"
   },
   {
    "duration": 476,
    "start_time": "2022-01-15T20:27:41.718Z"
   },
   {
    "duration": 463,
    "start_time": "2022-01-15T20:28:17.819Z"
   },
   {
    "duration": 464,
    "start_time": "2022-01-15T20:31:32.094Z"
   },
   {
    "duration": 603,
    "start_time": "2022-01-15T20:32:10.815Z"
   },
   {
    "duration": 469,
    "start_time": "2022-01-15T20:33:40.072Z"
   },
   {
    "duration": 703,
    "start_time": "2022-01-15T20:36:13.663Z"
   },
   {
    "duration": 468,
    "start_time": "2022-01-15T20:40:53.485Z"
   },
   {
    "duration": 468,
    "start_time": "2022-01-15T20:41:16.980Z"
   },
   {
    "duration": 471,
    "start_time": "2022-01-15T20:41:46.429Z"
   },
   {
    "duration": 969,
    "start_time": "2022-01-15T20:42:06.808Z"
   },
   {
    "duration": 340,
    "start_time": "2022-01-15T20:42:08.504Z"
   },
   {
    "duration": 168,
    "start_time": "2022-01-15T20:42:09.194Z"
   },
   {
    "duration": 34,
    "start_time": "2022-01-15T20:42:10.262Z"
   },
   {
    "duration": 513,
    "start_time": "2022-01-15T20:42:13.603Z"
   },
   {
    "duration": 498,
    "start_time": "2022-01-15T20:43:39.913Z"
   },
   {
    "duration": 513,
    "start_time": "2022-01-15T20:44:16.421Z"
   },
   {
    "duration": 504,
    "start_time": "2022-01-15T20:44:24.491Z"
   },
   {
    "duration": 551,
    "start_time": "2022-01-15T20:44:34.130Z"
   },
   {
    "duration": 679,
    "start_time": "2022-01-15T20:44:49.788Z"
   },
   {
    "duration": 693,
    "start_time": "2022-01-15T20:45:44.987Z"
   },
   {
    "duration": 676,
    "start_time": "2022-01-15T20:46:07.312Z"
   },
   {
    "duration": 903,
    "start_time": "2022-01-15T20:47:10.497Z"
   },
   {
    "duration": 694,
    "start_time": "2022-01-15T20:47:20.586Z"
   },
   {
    "duration": 696,
    "start_time": "2022-01-15T20:47:51.593Z"
   },
   {
    "duration": 83,
    "start_time": "2022-01-15T20:48:48.085Z"
   },
   {
    "duration": 693,
    "start_time": "2022-01-15T20:49:31.141Z"
   },
   {
    "duration": 689,
    "start_time": "2022-01-15T20:51:30.908Z"
   },
   {
    "duration": 664,
    "start_time": "2022-01-15T20:52:05.824Z"
   },
   {
    "duration": 676,
    "start_time": "2022-01-15T20:52:23.317Z"
   },
   {
    "duration": 821,
    "start_time": "2022-01-15T20:57:22.122Z"
   },
   {
    "duration": 1213,
    "start_time": "2022-01-15T20:57:48.524Z"
   },
   {
    "duration": 881,
    "start_time": "2022-01-15T20:58:11.789Z"
   },
   {
    "duration": 860,
    "start_time": "2022-01-15T20:58:42.764Z"
   },
   {
    "duration": 841,
    "start_time": "2022-01-15T20:59:06.630Z"
   },
   {
    "duration": 840,
    "start_time": "2022-01-15T20:59:16.646Z"
   },
   {
    "duration": 862,
    "start_time": "2022-01-15T20:59:28.126Z"
   },
   {
    "duration": 875,
    "start_time": "2022-01-15T21:00:29.836Z"
   },
   {
    "duration": 973,
    "start_time": "2022-01-15T21:00:42.612Z"
   },
   {
    "duration": 932,
    "start_time": "2022-01-15T21:01:33.034Z"
   },
   {
    "duration": 614,
    "start_time": "2022-01-15T21:07:18.645Z"
   },
   {
    "duration": 314,
    "start_time": "2022-01-15T21:08:36.454Z"
   },
   {
    "duration": 50,
    "start_time": "2022-01-15T21:12:32.326Z"
   },
   {
    "duration": 564,
    "start_time": "2022-01-15T21:12:57.325Z"
   },
   {
    "duration": 1433,
    "start_time": "2022-01-15T21:15:45.402Z"
   },
   {
    "duration": 1218,
    "start_time": "2022-01-15T21:16:01.610Z"
   },
   {
    "duration": 101,
    "start_time": "2022-01-15T21:17:18.540Z"
   },
   {
    "duration": 1335,
    "start_time": "2022-01-15T21:17:50.899Z"
   },
   {
    "duration": 1162,
    "start_time": "2022-01-15T21:18:14.177Z"
   },
   {
    "duration": 131,
    "start_time": "2022-01-15T21:20:03.214Z"
   },
   {
    "duration": 411,
    "start_time": "2022-01-15T21:21:17.864Z"
   },
   {
    "duration": 3838,
    "start_time": "2022-01-15T21:21:25.625Z"
   },
   {
    "duration": 4038,
    "start_time": "2022-01-15T21:22:07.868Z"
   },
   {
    "duration": 3640,
    "start_time": "2022-01-15T21:22:34.648Z"
   },
   {
    "duration": 3566,
    "start_time": "2022-01-15T21:23:19.944Z"
   },
   {
    "duration": 1170,
    "start_time": "2022-01-15T21:23:33.528Z"
   },
   {
    "duration": 339,
    "start_time": "2022-01-15T21:23:35.088Z"
   },
   {
    "duration": 165,
    "start_time": "2022-01-15T21:23:36.377Z"
   },
   {
    "duration": 34,
    "start_time": "2022-01-15T21:23:44.043Z"
   },
   {
    "duration": 49,
    "start_time": "2022-01-15T21:23:51.003Z"
   },
   {
    "duration": 531,
    "start_time": "2022-01-15T21:23:58.901Z"
   },
   {
    "duration": 70,
    "start_time": "2022-01-15T21:24:05.965Z"
   },
   {
    "duration": 94,
    "start_time": "2022-01-15T21:24:16.759Z"
   },
   {
    "duration": 94,
    "start_time": "2022-01-15T21:24:31.573Z"
   },
   {
    "duration": 97,
    "start_time": "2022-01-15T21:24:41.923Z"
   },
   {
    "duration": 112,
    "start_time": "2022-01-15T21:24:55.120Z"
   },
   {
    "duration": 3513,
    "start_time": "2022-01-15T21:27:49.039Z"
   },
   {
    "duration": 1883,
    "start_time": "2022-01-15T21:28:36.249Z"
   },
   {
    "duration": 505,
    "start_time": "2022-01-15T21:28:38.135Z"
   },
   {
    "duration": 222,
    "start_time": "2022-01-15T21:28:38.643Z"
   },
   {
    "duration": 34,
    "start_time": "2022-01-15T21:28:38.866Z"
   },
   {
    "duration": 61,
    "start_time": "2022-01-15T21:28:38.902Z"
   },
   {
    "duration": 542,
    "start_time": "2022-01-15T21:28:39.006Z"
   },
   {
    "duration": 3875,
    "start_time": "2022-01-15T21:28:43.678Z"
   },
   {
    "duration": 4471,
    "start_time": "2022-01-15T21:29:18.951Z"
   },
   {
    "duration": 1184,
    "start_time": "2022-01-15T21:32:37.782Z"
   },
   {
    "duration": 545,
    "start_time": "2022-01-15T21:32:38.968Z"
   },
   {
    "duration": 162,
    "start_time": "2022-01-15T21:32:39.550Z"
   },
   {
    "duration": 33,
    "start_time": "2022-01-15T21:32:40.114Z"
   },
   {
    "duration": 49,
    "start_time": "2022-01-15T21:32:42.834Z"
   },
   {
    "duration": 541,
    "start_time": "2022-01-15T21:32:43.781Z"
   },
   {
    "duration": 126,
    "start_time": "2022-01-15T21:32:51.538Z"
   },
   {
    "duration": 150,
    "start_time": "2022-01-15T21:35:40.796Z"
   },
   {
    "duration": 99,
    "start_time": "2022-01-15T21:41:48.209Z"
   },
   {
    "duration": 171,
    "start_time": "2022-01-15T21:41:56.314Z"
   },
   {
    "duration": 190,
    "start_time": "2022-01-15T21:42:46.106Z"
   },
   {
    "duration": 207,
    "start_time": "2022-01-15T21:43:30.250Z"
   },
   {
    "duration": 1325,
    "start_time": "2022-01-15T21:43:45.646Z"
   },
   {
    "duration": 340,
    "start_time": "2022-01-15T21:43:46.972Z"
   },
   {
    "duration": 168,
    "start_time": "2022-01-15T21:43:47.314Z"
   },
   {
    "duration": 33,
    "start_time": "2022-01-15T21:43:47.483Z"
   },
   {
    "duration": 51,
    "start_time": "2022-01-15T21:43:47.746Z"
   },
   {
    "duration": 537,
    "start_time": "2022-01-15T21:43:48.415Z"
   },
   {
    "duration": 215,
    "start_time": "2022-01-15T21:43:49.765Z"
   },
   {
    "duration": 236,
    "start_time": "2022-01-15T21:45:34.252Z"
   },
   {
    "duration": 257,
    "start_time": "2022-01-15T21:47:24.631Z"
   },
   {
    "duration": 90,
    "start_time": "2022-01-15T21:50:35.848Z"
   },
   {
    "duration": 101,
    "start_time": "2022-01-15T21:50:46.622Z"
   },
   {
    "duration": 108,
    "start_time": "2022-01-15T21:51:16.714Z"
   },
   {
    "duration": 84,
    "start_time": "2022-01-15T21:51:25.434Z"
   },
   {
    "duration": 98,
    "start_time": "2022-01-15T21:56:26.386Z"
   },
   {
    "duration": 90,
    "start_time": "2022-01-15T21:56:34.856Z"
   },
   {
    "duration": 99,
    "start_time": "2022-01-15T21:57:49.107Z"
   },
   {
    "duration": 236,
    "start_time": "2022-01-15T21:57:55.838Z"
   },
   {
    "duration": 275,
    "start_time": "2022-01-15T21:58:12.685Z"
   },
   {
    "duration": 291,
    "start_time": "2022-01-15T21:58:28.253Z"
   },
   {
    "duration": 279,
    "start_time": "2022-01-15T21:58:49.348Z"
   },
   {
    "duration": 7,
    "start_time": "2022-01-15T22:00:46.825Z"
   },
   {
    "duration": 7,
    "start_time": "2022-01-15T22:08:37.148Z"
   },
   {
    "duration": 8,
    "start_time": "2022-01-15T22:08:48.636Z"
   },
   {
    "duration": 4,
    "start_time": "2022-01-15T22:09:00.806Z"
   },
   {
    "duration": 119,
    "start_time": "2022-01-15T22:10:06.258Z"
   },
   {
    "duration": 44,
    "start_time": "2022-01-15T22:11:47.156Z"
   },
   {
    "duration": 325,
    "start_time": "2022-01-15T22:11:56.439Z"
   },
   {
    "duration": 38,
    "start_time": "2022-01-15T22:12:04.409Z"
   },
   {
    "duration": 42,
    "start_time": "2022-01-15T22:12:17.051Z"
   },
   {
    "duration": 40,
    "start_time": "2022-01-15T22:12:26.452Z"
   },
   {
    "duration": 43,
    "start_time": "2022-01-15T22:12:51.611Z"
   },
   {
    "duration": 96,
    "start_time": "2022-01-15T22:13:24.500Z"
   },
   {
    "duration": 298,
    "start_time": "2022-01-15T22:14:01.522Z"
   },
   {
    "duration": 42,
    "start_time": "2022-01-15T22:14:44.472Z"
   },
   {
    "duration": 62,
    "start_time": "2022-01-15T22:15:14.833Z"
   },
   {
    "duration": 92,
    "start_time": "2022-01-15T22:16:49.639Z"
   },
   {
    "duration": 66,
    "start_time": "2022-01-15T22:17:00.004Z"
   },
   {
    "duration": 65,
    "start_time": "2022-01-15T22:17:13.074Z"
   },
   {
    "duration": 93,
    "start_time": "2022-01-15T22:22:01.263Z"
   },
   {
    "duration": 110,
    "start_time": "2022-01-15T22:22:27.352Z"
   },
   {
    "duration": 66,
    "start_time": "2022-01-15T22:22:45.757Z"
   },
   {
    "duration": 66,
    "start_time": "2022-01-15T22:23:08.874Z"
   },
   {
    "duration": 125,
    "start_time": "2022-01-15T22:26:02.309Z"
   },
   {
    "duration": 7033,
    "start_time": "2022-01-15T22:30:10.378Z"
   },
   {
    "duration": 508,
    "start_time": "2022-01-15T22:30:26.136Z"
   },
   {
    "duration": 536,
    "start_time": "2022-01-15T22:30:35.353Z"
   },
   {
    "duration": 257,
    "start_time": "2022-01-15T22:30:47.229Z"
   },
   {
    "duration": 53,
    "start_time": "2022-01-15T22:31:11.655Z"
   },
   {
    "duration": 68,
    "start_time": "2022-01-15T22:31:49.900Z"
   },
   {
    "duration": 336,
    "start_time": "2022-01-15T22:34:02.742Z"
   },
   {
    "duration": 67,
    "start_time": "2022-01-15T22:34:14.096Z"
   },
   {
    "duration": 72,
    "start_time": "2022-01-15T22:34:32.179Z"
   },
   {
    "duration": 408,
    "start_time": "2022-01-15T22:35:48.111Z"
   },
   {
    "duration": 68,
    "start_time": "2022-01-15T22:37:13.166Z"
   },
   {
    "duration": 71,
    "start_time": "2022-01-15T22:37:28.218Z"
   },
   {
    "duration": 235,
    "start_time": "2022-01-15T22:38:44.489Z"
   },
   {
    "duration": 233,
    "start_time": "2022-01-15T22:39:28.747Z"
   },
   {
    "duration": 345,
    "start_time": "2022-01-15T22:41:35.424Z"
   },
   {
    "duration": 73,
    "start_time": "2022-01-15T22:41:46.634Z"
   },
   {
    "duration": 72,
    "start_time": "2022-01-15T22:42:26.800Z"
   },
   {
    "duration": 72,
    "start_time": "2022-01-15T22:42:36.551Z"
   },
   {
    "duration": 338,
    "start_time": "2022-01-15T22:43:52.175Z"
   },
   {
    "duration": 73,
    "start_time": "2022-01-15T22:44:01.137Z"
   },
   {
    "duration": 257,
    "start_time": "2022-01-15T22:52:21.857Z"
   },
   {
    "duration": 269,
    "start_time": "2022-01-15T22:53:14.464Z"
   },
   {
    "duration": 2855,
    "start_time": "2022-01-15T22:55:09.143Z"
   },
   {
    "duration": 257,
    "start_time": "2022-01-15T22:55:28.814Z"
   },
   {
    "duration": 264,
    "start_time": "2022-01-15T22:56:35.738Z"
   },
   {
    "duration": 259,
    "start_time": "2022-01-15T22:56:53.270Z"
   },
   {
    "duration": 262,
    "start_time": "2022-01-15T22:56:59.153Z"
   },
   {
    "duration": 255,
    "start_time": "2022-01-15T22:57:05.274Z"
   },
   {
    "duration": 256,
    "start_time": "2022-01-15T22:57:57.727Z"
   },
   {
    "duration": 252,
    "start_time": "2022-01-15T22:58:02.596Z"
   },
   {
    "duration": 530,
    "start_time": "2022-01-15T23:00:50.491Z"
   },
   {
    "duration": 458,
    "start_time": "2022-01-15T23:01:15.557Z"
   },
   {
    "duration": 235,
    "start_time": "2022-01-15T23:09:06.320Z"
   },
   {
    "duration": 96,
    "start_time": "2022-01-15T23:16:18.725Z"
   },
   {
    "duration": 1510,
    "start_time": "2022-01-15T23:21:55.458Z"
   },
   {
    "duration": 7012,
    "start_time": "2022-01-15T23:26:48.483Z"
   },
   {
    "duration": 158,
    "start_time": "2022-01-15T23:27:25.995Z"
   },
   {
    "duration": 7355,
    "start_time": "2022-01-15T23:27:41.633Z"
   },
   {
    "duration": 567,
    "start_time": "2022-01-15T23:28:28.209Z"
   },
   {
    "duration": 310,
    "start_time": "2022-01-15T23:31:22.469Z"
   },
   {
    "duration": 315,
    "start_time": "2022-01-15T23:32:02.063Z"
   },
   {
    "duration": 99,
    "start_time": "2022-01-15T23:45:24.921Z"
   },
   {
    "duration": 537,
    "start_time": "2022-01-15T23:45:32.596Z"
   },
   {
    "duration": 6588,
    "start_time": "2022-01-15T23:47:09.638Z"
   },
   {
    "duration": 6732,
    "start_time": "2022-01-15T23:47:41.250Z"
   },
   {
    "duration": 6976,
    "start_time": "2022-01-15T23:48:24.657Z"
   },
   {
    "duration": -79,
    "start_time": "2022-01-15T23:48:31.714Z"
   },
   {
    "duration": -80,
    "start_time": "2022-01-15T23:48:31.716Z"
   },
   {
    "duration": -81,
    "start_time": "2022-01-15T23:48:31.718Z"
   },
   {
    "duration": 34,
    "start_time": "2022-01-15T23:48:31.874Z"
   },
   {
    "duration": 56,
    "start_time": "2022-01-15T23:48:33.418Z"
   },
   {
    "duration": 540,
    "start_time": "2022-01-15T23:48:33.923Z"
   },
   {
    "duration": 241,
    "start_time": "2022-01-15T23:48:34.493Z"
   },
   {
    "duration": 7121,
    "start_time": "2022-01-15T23:48:35.131Z"
   },
   {
    "duration": 8020,
    "start_time": "2022-01-15T23:49:07.684Z"
   },
   {
    "duration": 7295,
    "start_time": "2022-01-15T23:49:34.448Z"
   },
   {
    "duration": 442,
    "start_time": "2022-01-15T23:50:11.503Z"
   },
   {
    "duration": 836,
    "start_time": "2022-01-15T23:56:51.398Z"
   },
   {
    "duration": 803,
    "start_time": "2022-01-15T23:57:02.008Z"
   },
   {
    "duration": 731,
    "start_time": "2022-01-15T23:57:18.601Z"
   },
   {
    "duration": 6955,
    "start_time": "2022-01-15T23:59:35.510Z"
   },
   {
    "duration": 709,
    "start_time": "2022-01-16T00:00:28.209Z"
   },
   {
    "duration": 735,
    "start_time": "2022-01-16T00:00:42.569Z"
   },
   {
    "duration": 7316,
    "start_time": "2022-01-16T00:01:57.198Z"
   },
   {
    "duration": 6831,
    "start_time": "2022-01-16T00:02:13.461Z"
   },
   {
    "duration": 1197,
    "start_time": "2022-01-16T00:02:38.513Z"
   },
   {
    "duration": 332,
    "start_time": "2022-01-16T00:02:39.712Z"
   },
   {
    "duration": 171,
    "start_time": "2022-01-16T00:02:40.046Z"
   },
   {
    "duration": 33,
    "start_time": "2022-01-16T00:02:40.218Z"
   },
   {
    "duration": 49,
    "start_time": "2022-01-16T00:02:41.310Z"
   },
   {
    "duration": 537,
    "start_time": "2022-01-16T00:02:41.912Z"
   },
   {
    "duration": 239,
    "start_time": "2022-01-16T00:02:42.877Z"
   },
   {
    "duration": 584,
    "start_time": "2022-01-16T00:02:44.029Z"
   },
   {
    "duration": 580,
    "start_time": "2022-01-16T00:02:50.972Z"
   },
   {
    "duration": 4265,
    "start_time": "2022-01-16T00:12:16.501Z"
   },
   {
    "duration": 4237,
    "start_time": "2022-01-16T00:12:35.865Z"
   },
   {
    "duration": 4262,
    "start_time": "2022-01-16T00:13:57.172Z"
   },
   {
    "duration": 4333,
    "start_time": "2022-01-16T00:14:24.051Z"
   },
   {
    "duration": 4838,
    "start_time": "2022-01-16T00:15:12.846Z"
   },
   {
    "duration": 896,
    "start_time": "2022-01-16T00:18:06.862Z"
   },
   {
    "duration": 4747,
    "start_time": "2022-01-16T00:20:43.662Z"
   },
   {
    "duration": 12126,
    "start_time": "2022-01-16T00:21:43.668Z"
   },
   {
    "duration": 5406,
    "start_time": "2022-01-16T00:22:22.354Z"
   },
   {
    "duration": 4475,
    "start_time": "2022-01-16T00:22:58.129Z"
   },
   {
    "duration": 108,
    "start_time": "2022-01-16T00:23:28.844Z"
   },
   {
    "duration": 4572,
    "start_time": "2022-01-16T00:23:54.510Z"
   },
   {
    "duration": 4641,
    "start_time": "2022-01-16T00:25:32.174Z"
   },
   {
    "duration": 4484,
    "start_time": "2022-01-16T00:26:52.587Z"
   },
   {
    "duration": 4559,
    "start_time": "2022-01-16T00:27:40.910Z"
   },
   {
    "duration": 5025,
    "start_time": "2022-01-16T00:28:11.509Z"
   },
   {
    "duration": 12341,
    "start_time": "2022-01-16T00:29:18.715Z"
   },
   {
    "duration": 12621,
    "start_time": "2022-01-16T00:29:55.397Z"
   },
   {
    "duration": 4465,
    "start_time": "2022-01-16T00:30:50.231Z"
   },
   {
    "duration": 4494,
    "start_time": "2022-01-16T00:33:07.671Z"
   },
   {
    "duration": 4628,
    "start_time": "2022-01-16T00:34:26.943Z"
   },
   {
    "duration": 4523,
    "start_time": "2022-01-16T00:34:53.274Z"
   },
   {
    "duration": 4502,
    "start_time": "2022-01-16T00:39:03.459Z"
   },
   {
    "duration": 4488,
    "start_time": "2022-01-16T00:39:20.283Z"
   },
   {
    "duration": 331,
    "start_time": "2022-01-16T12:15:14.964Z"
   },
   {
    "duration": 2678,
    "start_time": "2022-01-16T12:15:31.361Z"
   },
   {
    "duration": 775,
    "start_time": "2022-01-16T12:15:38.214Z"
   },
   {
    "duration": 1037,
    "start_time": "2022-01-16T12:15:56.949Z"
   },
   {
    "duration": 1168,
    "start_time": "2022-01-16T12:16:04.736Z"
   },
   {
    "duration": 989,
    "start_time": "2022-01-16T12:16:06.248Z"
   },
   {
    "duration": 241,
    "start_time": "2022-01-16T12:17:11.765Z"
   },
   {
    "duration": 162,
    "start_time": "2022-01-16T12:17:28.655Z"
   },
   {
    "duration": 334,
    "start_time": "2022-01-16T12:17:44.486Z"
   },
   {
    "duration": 269,
    "start_time": "2022-01-16T12:17:50.655Z"
   },
   {
    "duration": 166,
    "start_time": "2022-01-16T12:17:59.185Z"
   },
   {
    "duration": 161,
    "start_time": "2022-01-16T12:21:26.357Z"
   },
   {
    "duration": 106,
    "start_time": "2022-01-16T12:21:55.246Z"
   },
   {
    "duration": 102,
    "start_time": "2022-01-16T12:22:00.379Z"
   },
   {
    "duration": 91,
    "start_time": "2022-01-16T12:22:05.189Z"
   },
   {
    "duration": 168,
    "start_time": "2022-01-16T12:22:11.704Z"
   },
   {
    "duration": 161,
    "start_time": "2022-01-16T12:22:23.180Z"
   },
   {
    "duration": 162,
    "start_time": "2022-01-16T12:22:40.876Z"
   },
   {
    "duration": 163,
    "start_time": "2022-01-16T12:23:08.438Z"
   },
   {
    "duration": 172,
    "start_time": "2022-01-16T12:23:46.221Z"
   },
   {
    "duration": 163,
    "start_time": "2022-01-16T12:23:58.064Z"
   },
   {
    "duration": 170,
    "start_time": "2022-01-16T12:24:03.717Z"
   },
   {
    "duration": 44,
    "start_time": "2022-01-16T12:25:41.883Z"
   },
   {
    "duration": 453,
    "start_time": "2022-01-16T12:28:45.298Z"
   },
   {
    "duration": 47,
    "start_time": "2022-01-16T12:29:00.947Z"
   },
   {
    "duration": 33,
    "start_time": "2022-01-16T12:29:12.600Z"
   },
   {
    "duration": 47,
    "start_time": "2022-01-16T12:29:16.239Z"
   },
   {
    "duration": 277,
    "start_time": "2022-01-16T12:29:18.857Z"
   },
   {
    "duration": 528,
    "start_time": "2022-01-16T12:29:28.213Z"
   },
   {
    "duration": 562,
    "start_time": "2022-01-16T12:30:01.699Z"
   },
   {
    "duration": 604,
    "start_time": "2022-01-16T12:30:26.738Z"
   },
   {
    "duration": 527,
    "start_time": "2022-01-16T12:31:27.294Z"
   },
   {
    "duration": 618,
    "start_time": "2022-01-16T12:31:43.772Z"
   },
   {
    "duration": 579,
    "start_time": "2022-01-16T12:31:51.000Z"
   },
   {
    "duration": 623,
    "start_time": "2022-01-16T12:32:52.302Z"
   },
   {
    "duration": 1164,
    "start_time": "2022-01-16T12:33:41.220Z"
   },
   {
    "duration": 1018,
    "start_time": "2022-01-16T12:33:42.869Z"
   },
   {
    "duration": 173,
    "start_time": "2022-01-16T12:33:43.889Z"
   },
   {
    "duration": 34,
    "start_time": "2022-01-16T12:33:45.048Z"
   },
   {
    "duration": 49,
    "start_time": "2022-01-16T12:33:47.577Z"
   },
   {
    "duration": 1003,
    "start_time": "2022-01-16T12:34:29.257Z"
   },
   {
    "duration": 174,
    "start_time": "2022-01-16T12:34:30.262Z"
   },
   {
    "duration": 33,
    "start_time": "2022-01-16T12:34:31.086Z"
   },
   {
    "duration": 50,
    "start_time": "2022-01-16T12:34:35.804Z"
   },
   {
    "duration": 203,
    "start_time": "2022-01-16T12:34:52.045Z"
   },
   {
    "duration": 203,
    "start_time": "2022-01-16T12:35:04.850Z"
   },
   {
    "duration": 219,
    "start_time": "2022-01-16T12:36:13.030Z"
   },
   {
    "duration": 106,
    "start_time": "2022-01-16T12:37:31.340Z"
   },
   {
    "duration": 193,
    "start_time": "2022-01-16T12:37:47.300Z"
   },
   {
    "duration": 261,
    "start_time": "2022-01-16T12:37:55.493Z"
   },
   {
    "duration": 1289,
    "start_time": "2022-01-16T12:38:02.038Z"
   },
   {
    "duration": 1182,
    "start_time": "2022-01-16T12:38:03.329Z"
   },
   {
    "duration": 172,
    "start_time": "2022-01-16T12:38:04.513Z"
   },
   {
    "duration": 34,
    "start_time": "2022-01-16T12:38:04.950Z"
   },
   {
    "duration": 49,
    "start_time": "2022-01-16T12:38:12.647Z"
   },
   {
    "duration": 196,
    "start_time": "2022-01-16T12:38:13.639Z"
   },
   {
    "duration": 195,
    "start_time": "2022-01-16T12:38:17.774Z"
   },
   {
    "duration": 1203,
    "start_time": "2022-01-16T12:38:33.210Z"
   },
   {
    "duration": 1106,
    "start_time": "2022-01-16T12:38:34.415Z"
   },
   {
    "duration": 175,
    "start_time": "2022-01-16T12:38:35.523Z"
   },
   {
    "duration": 34,
    "start_time": "2022-01-16T12:38:35.849Z"
   },
   {
    "duration": 49,
    "start_time": "2022-01-16T12:38:38.129Z"
   },
   {
    "duration": 198,
    "start_time": "2022-01-16T12:38:38.920Z"
   },
   {
    "duration": 194,
    "start_time": "2022-01-16T12:38:44.469Z"
   },
   {
    "duration": 1281,
    "start_time": "2022-01-16T12:39:54.739Z"
   },
   {
    "duration": 1037,
    "start_time": "2022-01-16T12:39:56.026Z"
   },
   {
    "duration": 175,
    "start_time": "2022-01-16T12:39:57.065Z"
   },
   {
    "duration": 34,
    "start_time": "2022-01-16T12:39:57.510Z"
   },
   {
    "duration": 51,
    "start_time": "2022-01-16T12:39:59.980Z"
   },
   {
    "duration": 198,
    "start_time": "2022-01-16T12:40:00.814Z"
   },
   {
    "duration": 193,
    "start_time": "2022-01-16T12:40:02.689Z"
   },
   {
    "duration": 1174,
    "start_time": "2022-01-16T12:40:48.946Z"
   },
   {
    "duration": 160,
    "start_time": "2022-01-16T12:41:19.317Z"
   },
   {
    "duration": 33,
    "start_time": "2022-01-16T12:41:20.758Z"
   },
   {
    "duration": 73,
    "start_time": "2022-01-16T12:41:24.097Z"
   },
   {
    "duration": 197,
    "start_time": "2022-01-16T12:41:25.195Z"
   },
   {
    "duration": 197,
    "start_time": "2022-01-16T12:41:31.600Z"
   },
   {
    "duration": 160,
    "start_time": "2022-01-16T12:43:21.476Z"
   },
   {
    "duration": 440,
    "start_time": "2022-01-16T12:43:39.928Z"
   },
   {
    "duration": 177,
    "start_time": "2022-01-16T12:43:45.187Z"
   },
   {
    "duration": 194,
    "start_time": "2022-01-16T12:43:57.535Z"
   },
   {
    "duration": 194,
    "start_time": "2022-01-16T12:44:11.026Z"
   },
   {
    "duration": 194,
    "start_time": "2022-01-16T12:44:17.888Z"
   },
   {
    "duration": 195,
    "start_time": "2022-01-16T12:44:31.050Z"
   },
   {
    "duration": 273,
    "start_time": "2022-01-16T12:44:39.621Z"
   },
   {
    "duration": 221,
    "start_time": "2022-01-16T12:45:08.072Z"
   },
   {
    "duration": 212,
    "start_time": "2022-01-16T12:45:19.420Z"
   },
   {
    "duration": 238,
    "start_time": "2022-01-16T12:46:18.602Z"
   },
   {
    "duration": 91,
    "start_time": "2022-01-16T12:47:09.178Z"
   },
   {
    "duration": 109,
    "start_time": "2022-01-16T12:47:29.695Z"
   },
   {
    "duration": 247,
    "start_time": "2022-01-16T12:47:51.592Z"
   },
   {
    "duration": 117,
    "start_time": "2022-01-16T12:48:05.196Z"
   },
   {
    "duration": 94,
    "start_time": "2022-01-16T12:48:43.502Z"
   },
   {
    "duration": 232,
    "start_time": "2022-01-16T12:48:57.447Z"
   },
   {
    "duration": 1208,
    "start_time": "2022-01-16T12:49:03.601Z"
   },
   {
    "duration": 1032,
    "start_time": "2022-01-16T12:49:04.811Z"
   },
   {
    "duration": 176,
    "start_time": "2022-01-16T12:49:05.845Z"
   },
   {
    "duration": 38,
    "start_time": "2022-01-16T12:49:06.023Z"
   },
   {
    "duration": 49,
    "start_time": "2022-01-16T12:49:07.385Z"
   },
   {
    "duration": 195,
    "start_time": "2022-01-16T12:49:07.696Z"
   },
   {
    "duration": 190,
    "start_time": "2022-01-16T12:49:08.352Z"
   },
   {
    "duration": 244,
    "start_time": "2022-01-16T12:49:13.946Z"
   },
   {
    "duration": 62,
    "start_time": "2022-01-16T12:49:56.513Z"
   },
   {
    "duration": 53,
    "start_time": "2022-01-16T12:50:26.202Z"
   },
   {
    "duration": 63,
    "start_time": "2022-01-16T12:51:08.911Z"
   },
   {
    "duration": 94,
    "start_time": "2022-01-16T12:51:35.637Z"
   },
   {
    "duration": 67,
    "start_time": "2022-01-16T12:54:02.117Z"
   },
   {
    "duration": 64,
    "start_time": "2022-01-16T12:54:28.022Z"
   },
   {
    "duration": 28,
    "start_time": "2022-01-16T12:55:04.099Z"
   },
   {
    "duration": 50,
    "start_time": "2022-01-16T12:58:15.377Z"
   },
   {
    "duration": 26,
    "start_time": "2022-01-16T12:58:34.849Z"
   },
   {
    "duration": 479,
    "start_time": "2022-01-16T12:59:36.852Z"
   },
   {
    "duration": 479,
    "start_time": "2022-01-16T13:00:39.687Z"
   },
   {
    "duration": 63,
    "start_time": "2022-01-16T13:02:10.841Z"
   },
   {
    "duration": 474,
    "start_time": "2022-01-16T13:02:45.161Z"
   },
   {
    "duration": 75,
    "start_time": "2022-01-16T13:05:29.327Z"
   },
   {
    "duration": 51,
    "start_time": "2022-01-16T13:05:37.696Z"
   },
   {
    "duration": 551,
    "start_time": "2022-01-16T13:19:16.931Z"
   },
   {
    "duration": 607,
    "start_time": "2022-01-16T13:19:44.735Z"
   },
   {
    "duration": 636,
    "start_time": "2022-01-16T13:21:12.278Z"
   },
   {
    "duration": 332,
    "start_time": "2022-01-16T13:30:00.758Z"
   },
   {
    "duration": 1277,
    "start_time": "2022-01-16T13:35:57.413Z"
   },
   {
    "duration": 1017,
    "start_time": "2022-01-16T13:36:05.610Z"
   },
   {
    "duration": 61,
    "start_time": "2022-01-16T13:37:18.352Z"
   },
   {
    "duration": 50,
    "start_time": "2022-01-16T13:37:24.496Z"
   },
   {
    "duration": 61,
    "start_time": "2022-01-16T13:37:27.238Z"
   },
   {
    "duration": 55,
    "start_time": "2022-01-16T13:39:11.015Z"
   },
   {
    "duration": 60,
    "start_time": "2022-01-16T13:39:13.491Z"
   },
   {
    "duration": 584,
    "start_time": "2022-01-16T13:39:24.908Z"
   },
   {
    "duration": 829,
    "start_time": "2022-01-16T13:39:31.481Z"
   },
   {
    "duration": 580,
    "start_time": "2022-01-16T13:39:41.629Z"
   },
   {
    "duration": 574,
    "start_time": "2022-01-16T13:41:38.490Z"
   },
   {
    "duration": 1284,
    "start_time": "2022-01-16T13:47:48.310Z"
   },
   {
    "duration": 1158,
    "start_time": "2022-01-16T13:51:28.722Z"
   },
   {
    "duration": 1024,
    "start_time": "2022-01-16T13:51:30.603Z"
   },
   {
    "duration": 172,
    "start_time": "2022-01-16T13:51:31.629Z"
   },
   {
    "duration": 33,
    "start_time": "2022-01-16T13:51:31.906Z"
   },
   {
    "duration": 49,
    "start_time": "2022-01-16T13:51:33.731Z"
   },
   {
    "duration": 201,
    "start_time": "2022-01-16T13:51:34.332Z"
   },
   {
    "duration": 190,
    "start_time": "2022-01-16T13:51:35.047Z"
   },
   {
    "duration": 241,
    "start_time": "2022-01-16T13:51:36.486Z"
   },
   {
    "duration": 59,
    "start_time": "2022-01-16T13:51:37.805Z"
   },
   {
    "duration": 63,
    "start_time": "2022-01-16T13:51:39.719Z"
   },
   {
    "duration": 85,
    "start_time": "2022-01-16T13:51:40.924Z"
   },
   {
    "duration": 77,
    "start_time": "2022-01-16T13:51:42.010Z"
   },
   {
    "duration": 26,
    "start_time": "2022-01-16T13:51:43.714Z"
   },
   {
    "duration": 459,
    "start_time": "2022-01-16T13:51:46.392Z"
   },
   {
    "duration": 58,
    "start_time": "2022-01-16T13:51:47.954Z"
   },
   {
    "duration": 60,
    "start_time": "2022-01-16T13:51:50.490Z"
   },
   {
    "duration": 590,
    "start_time": "2022-01-16T13:52:00.500Z"
   },
   {
    "duration": 535,
    "start_time": "2022-01-16T13:52:05.596Z"
   },
   {
    "duration": 310,
    "start_time": "2022-01-16T13:52:14.759Z"
   },
   {
    "duration": 96,
    "start_time": "2022-01-16T13:53:41.558Z"
   },
   {
    "duration": 437,
    "start_time": "2022-01-16T14:03:21.586Z"
   },
   {
    "duration": 123,
    "start_time": "2022-01-16T14:05:52.306Z"
   },
   {
    "duration": 424,
    "start_time": "2022-01-16T14:06:03.005Z"
   },
   {
    "duration": 1324,
    "start_time": "2022-01-16T14:06:46.699Z"
   },
   {
    "duration": 706,
    "start_time": "2022-01-16T14:06:57.881Z"
   },
   {
    "duration": 433,
    "start_time": "2022-01-16T14:08:02.693Z"
   },
   {
    "duration": 706,
    "start_time": "2022-01-16T14:08:18.851Z"
   },
   {
    "duration": 715,
    "start_time": "2022-01-16T14:08:28.340Z"
   },
   {
    "duration": 310,
    "start_time": "2022-01-16T14:19:58.152Z"
   },
   {
    "duration": 703,
    "start_time": "2022-01-16T14:20:02.745Z"
   },
   {
    "duration": 1810,
    "start_time": "2022-01-16T14:20:08.436Z"
   },
   {
    "duration": 303,
    "start_time": "2022-01-16T14:20:43.147Z"
   },
   {
    "duration": 810,
    "start_time": "2022-01-16T14:24:17.058Z"
   },
   {
    "duration": 743,
    "start_time": "2022-01-16T14:24:53.462Z"
   },
   {
    "duration": 717,
    "start_time": "2022-01-16T14:25:17.671Z"
   },
   {
    "duration": 716,
    "start_time": "2022-01-16T14:25:25.423Z"
   },
   {
    "duration": 297,
    "start_time": "2022-01-16T14:25:32.029Z"
   },
   {
    "duration": 286,
    "start_time": "2022-01-16T14:25:40.157Z"
   },
   {
    "duration": 296,
    "start_time": "2022-01-16T14:26:20.317Z"
   },
   {
    "duration": 312,
    "start_time": "2022-01-16T14:26:54.273Z"
   },
   {
    "duration": 16,
    "start_time": "2022-01-16T14:28:25.883Z"
   },
   {
    "duration": 15,
    "start_time": "2022-01-16T14:28:35.079Z"
   },
   {
    "duration": 14,
    "start_time": "2022-01-16T14:28:48.226Z"
   },
   {
    "duration": 337,
    "start_time": "2022-01-16T14:29:00.526Z"
   },
   {
    "duration": 276,
    "start_time": "2022-01-16T14:29:07.195Z"
   },
   {
    "duration": 758,
    "start_time": "2022-01-16T14:29:14.236Z"
   },
   {
    "duration": 306,
    "start_time": "2022-01-16T14:29:17.884Z"
   },
   {
    "duration": 605,
    "start_time": "2022-01-16T14:29:26.997Z"
   },
   {
    "duration": 537,
    "start_time": "2022-01-16T14:29:33.559Z"
   },
   {
    "duration": 701,
    "start_time": "2022-01-16T14:29:36.327Z"
   },
   {
    "duration": 298,
    "start_time": "2022-01-16T14:29:38.855Z"
   },
   {
    "duration": 295,
    "start_time": "2022-01-16T14:30:42.747Z"
   },
   {
    "duration": 42,
    "start_time": "2022-01-16T14:30:57.285Z"
   },
   {
    "duration": 292,
    "start_time": "2022-01-16T14:31:08.002Z"
   },
   {
    "duration": 281,
    "start_time": "2022-01-16T14:32:16.252Z"
   },
   {
    "duration": 1212,
    "start_time": "2022-01-16T15:01:32.810Z"
   },
   {
    "duration": 1100,
    "start_time": "2022-01-16T15:01:34.027Z"
   },
   {
    "duration": 172,
    "start_time": "2022-01-16T15:01:35.129Z"
   },
   {
    "duration": 38,
    "start_time": "2022-01-16T15:01:35.302Z"
   },
   {
    "duration": 50,
    "start_time": "2022-01-16T15:01:37.180Z"
   },
   {
    "duration": 265,
    "start_time": "2022-01-16T15:01:44.010Z"
   },
   {
    "duration": 186,
    "start_time": "2022-01-16T15:01:45.096Z"
   },
   {
    "duration": 239,
    "start_time": "2022-01-16T15:01:45.929Z"
   },
   {
    "duration": 65,
    "start_time": "2022-01-16T15:01:46.979Z"
   },
   {
    "duration": 64,
    "start_time": "2022-01-16T15:01:47.963Z"
   },
   {
    "duration": 89,
    "start_time": "2022-01-16T15:01:48.994Z"
   },
   {
    "duration": 64,
    "start_time": "2022-01-16T15:01:49.519Z"
   },
   {
    "duration": 28,
    "start_time": "2022-01-16T15:01:49.979Z"
   },
   {
    "duration": 458,
    "start_time": "2022-01-16T15:01:50.316Z"
   },
   {
    "duration": 57,
    "start_time": "2022-01-16T15:01:50.904Z"
   },
   {
    "duration": 59,
    "start_time": "2022-01-16T15:01:51.458Z"
   },
   {
    "duration": 607,
    "start_time": "2022-01-16T15:01:55.756Z"
   },
   {
    "duration": 637,
    "start_time": "2022-01-16T15:01:58.832Z"
   },
   {
    "duration": 696,
    "start_time": "2022-01-16T15:02:02.432Z"
   },
   {
    "duration": 38,
    "start_time": "2022-01-16T15:02:09.099Z"
   },
   {
    "duration": 659,
    "start_time": "2022-01-16T15:02:12.145Z"
   },
   {
    "duration": 285,
    "start_time": "2022-01-16T15:02:59.330Z"
   },
   {
    "duration": 307,
    "start_time": "2022-01-16T15:03:14.766Z"
   },
   {
    "duration": 295,
    "start_time": "2022-01-16T15:04:18.198Z"
   },
   {
    "duration": 314,
    "start_time": "2022-01-16T15:05:24.527Z"
   },
   {
    "duration": 2,
    "start_time": "2022-01-16T15:06:11.320Z"
   },
   {
    "duration": 315,
    "start_time": "2022-01-16T15:06:36.344Z"
   },
   {
    "duration": 398,
    "start_time": "2022-01-16T15:07:15.078Z"
   },
   {
    "duration": 441,
    "start_time": "2022-01-16T15:07:22.719Z"
   },
   {
    "duration": 880,
    "start_time": "2022-01-16T15:07:48.792Z"
   },
   {
    "duration": 2,
    "start_time": "2022-01-16T15:07:56.681Z"
   },
   {
    "duration": 94,
    "start_time": "2022-01-16T15:07:57.325Z"
   },
   {
    "duration": 211,
    "start_time": "2022-01-16T15:09:53.344Z"
   },
   {
    "duration": 266,
    "start_time": "2022-01-16T15:10:23.424Z"
   },
   {
    "duration": 248,
    "start_time": "2022-01-16T15:10:37.213Z"
   },
   {
    "duration": 210,
    "start_time": "2022-01-16T15:18:10.238Z"
   },
   {
    "duration": 230,
    "start_time": "2022-01-16T15:18:20.209Z"
   },
   {
    "duration": 173,
    "start_time": "2022-01-16T15:19:01.087Z"
   },
   {
    "duration": 166,
    "start_time": "2022-01-16T15:19:11.958Z"
   },
   {
    "duration": 168,
    "start_time": "2022-01-16T15:19:16.394Z"
   },
   {
    "duration": 198,
    "start_time": "2022-01-16T15:20:10.683Z"
   },
   {
    "duration": 185,
    "start_time": "2022-01-16T15:20:16.118Z"
   },
   {
    "duration": 189,
    "start_time": "2022-01-16T15:20:51.071Z"
   },
   {
    "duration": 205,
    "start_time": "2022-01-16T15:21:00.161Z"
   },
   {
    "duration": 92,
    "start_time": "2022-01-16T15:24:09.794Z"
   },
   {
    "duration": 215,
    "start_time": "2022-01-16T15:25:52.002Z"
   },
   {
    "duration": 196,
    "start_time": "2022-01-16T15:30:34.608Z"
   },
   {
    "duration": 211,
    "start_time": "2022-01-16T15:30:43.562Z"
   },
   {
    "duration": 276,
    "start_time": "2022-01-16T15:32:16.627Z"
   },
   {
    "duration": 11378,
    "start_time": "2022-01-16T15:32:26.897Z"
   },
   {
    "duration": 254,
    "start_time": "2022-01-16T15:34:44.137Z"
   },
   {
    "duration": 443,
    "start_time": "2022-01-16T15:38:21.824Z"
   },
   {
    "duration": 761,
    "start_time": "2022-01-16T15:41:34.350Z"
   },
   {
    "duration": 3,
    "start_time": "2022-01-16T15:41:36.070Z"
   },
   {
    "duration": 268,
    "start_time": "2022-01-16T15:41:36.785Z"
   },
   {
    "duration": 683,
    "start_time": "2022-01-16T15:42:12.182Z"
   },
   {
    "duration": 4042,
    "start_time": "2022-01-16T15:42:22.660Z"
   },
   {
    "duration": 4537,
    "start_time": "2022-01-16T15:42:42.566Z"
   },
   {
    "duration": 4164,
    "start_time": "2022-01-16T15:42:48.037Z"
   },
   {
    "duration": 675,
    "start_time": "2022-01-16T15:44:01.087Z"
   },
   {
    "duration": 703,
    "start_time": "2022-01-16T15:45:22.704Z"
   },
   {
    "duration": 569,
    "start_time": "2022-01-16T15:47:21.252Z"
   },
   {
    "duration": 308,
    "start_time": "2022-01-16T20:53:35.852Z"
   },
   {
    "duration": 2351,
    "start_time": "2022-01-16T20:53:48.332Z"
   },
   {
    "duration": 1150,
    "start_time": "2022-01-16T20:53:50.685Z"
   },
   {
    "duration": 169,
    "start_time": "2022-01-16T20:53:51.837Z"
   },
   {
    "duration": 37,
    "start_time": "2022-01-16T20:53:52.008Z"
   },
   {
    "duration": 58,
    "start_time": "2022-01-16T20:53:52.779Z"
   },
   {
    "duration": 204,
    "start_time": "2022-01-16T20:53:53.377Z"
   },
   {
    "duration": 191,
    "start_time": "2022-01-16T20:53:53.849Z"
   },
   {
    "duration": 265,
    "start_time": "2022-01-16T20:53:54.283Z"
   },
   {
    "duration": 62,
    "start_time": "2022-01-16T20:53:54.687Z"
   },
   {
    "duration": 63,
    "start_time": "2022-01-16T20:53:55.121Z"
   },
   {
    "duration": 85,
    "start_time": "2022-01-16T20:53:55.743Z"
   },
   {
    "duration": 65,
    "start_time": "2022-01-16T20:53:56.371Z"
   },
   {
    "duration": 28,
    "start_time": "2022-01-16T20:53:57.041Z"
   },
   {
    "duration": 502,
    "start_time": "2022-01-16T20:53:58.126Z"
   },
   {
    "duration": 59,
    "start_time": "2022-01-16T20:53:59.425Z"
   },
   {
    "duration": 59,
    "start_time": "2022-01-16T20:54:00.242Z"
   },
   {
    "duration": 161,
    "start_time": "2022-01-16T20:54:01.799Z"
   },
   {
    "duration": 206,
    "start_time": "2022-01-16T20:54:02.695Z"
   },
   {
    "duration": 295,
    "start_time": "2022-01-16T20:54:04.102Z"
   },
   {
    "duration": 294,
    "start_time": "2022-01-16T20:54:04.910Z"
   },
   {
    "duration": 569,
    "start_time": "2022-01-16T20:54:09.416Z"
   },
   {
    "duration": 627,
    "start_time": "2022-01-16T20:54:13.079Z"
   },
   {
    "duration": 637,
    "start_time": "2022-01-16T20:54:13.982Z"
   },
   {
    "duration": 773,
    "start_time": "2022-01-16T20:54:17.058Z"
   },
   {
    "duration": 3,
    "start_time": "2022-01-16T20:54:19.338Z"
   },
   {
    "duration": 548,
    "start_time": "2022-01-16T20:54:20.445Z"
   },
   {
    "duration": 530,
    "start_time": "2022-01-16T20:59:24.625Z"
   },
   {
    "duration": 280,
    "start_time": "2022-01-16T21:01:25.157Z"
   },
   {
    "duration": 272,
    "start_time": "2022-01-16T21:02:31.037Z"
   },
   {
    "duration": 265,
    "start_time": "2022-01-16T21:02:45.115Z"
   },
   {
    "duration": 504,
    "start_time": "2022-01-16T21:03:04.547Z"
   },
   {
    "duration": 521,
    "start_time": "2022-01-16T21:03:30.521Z"
   },
   {
    "duration": 825,
    "start_time": "2022-01-16T21:03:44.132Z"
   },
   {
    "duration": 2,
    "start_time": "2022-01-16T21:03:49.086Z"
   },
   {
    "duration": 506,
    "start_time": "2022-01-16T21:03:49.800Z"
   },
   {
    "duration": 256,
    "start_time": "2022-01-16T21:04:37.463Z"
   },
   {
    "duration": 2225,
    "start_time": "2022-01-16T21:05:03.787Z"
   },
   {
    "duration": 522,
    "start_time": "2022-01-16T21:05:12.728Z"
   },
   {
    "duration": 254,
    "start_time": "2022-01-16T21:06:05.852Z"
   },
   {
    "duration": 280,
    "start_time": "2022-01-16T21:06:21.274Z"
   },
   {
    "duration": 543,
    "start_time": "2022-01-16T21:06:46.462Z"
   },
   {
    "duration": 283,
    "start_time": "2022-01-16T21:06:57.744Z"
   },
   {
    "duration": 296,
    "start_time": "2022-01-16T21:07:21.903Z"
   },
   {
    "duration": 1207,
    "start_time": "2022-01-16T21:09:01.428Z"
   },
   {
    "duration": 1192,
    "start_time": "2022-01-16T21:11:59.513Z"
   },
   {
    "duration": 4,
    "start_time": "2022-01-16T21:12:09.267Z"
   },
   {
    "duration": 1177,
    "start_time": "2022-01-16T21:12:16.082Z"
   },
   {
    "duration": 1031,
    "start_time": "2022-01-16T21:12:17.911Z"
   },
   {
    "duration": 178,
    "start_time": "2022-01-16T21:12:18.944Z"
   },
   {
    "duration": 34,
    "start_time": "2022-01-16T21:12:19.127Z"
   },
   {
    "duration": 48,
    "start_time": "2022-01-16T21:12:20.010Z"
   },
   {
    "duration": 203,
    "start_time": "2022-01-16T21:12:20.271Z"
   },
   {
    "duration": 206,
    "start_time": "2022-01-16T21:12:20.521Z"
   },
   {
    "duration": 248,
    "start_time": "2022-01-16T21:12:20.762Z"
   },
   {
    "duration": 66,
    "start_time": "2022-01-16T21:12:21.015Z"
   },
   {
    "duration": 63,
    "start_time": "2022-01-16T21:12:21.262Z"
   },
   {
    "duration": 85,
    "start_time": "2022-01-16T21:12:21.527Z"
   },
   {
    "duration": 68,
    "start_time": "2022-01-16T21:12:21.751Z"
   },
   {
    "duration": 29,
    "start_time": "2022-01-16T21:12:21.973Z"
   },
   {
    "duration": 472,
    "start_time": "2022-01-16T21:12:22.262Z"
   },
   {
    "duration": 57,
    "start_time": "2022-01-16T21:12:22.736Z"
   },
   {
    "duration": 79,
    "start_time": "2022-01-16T21:12:22.795Z"
   },
   {
    "duration": 163,
    "start_time": "2022-01-16T21:12:23.310Z"
   },
   {
    "duration": 322,
    "start_time": "2022-01-16T21:12:23.859Z"
   },
   {
    "duration": 210,
    "start_time": "2022-01-16T21:12:25.049Z"
   },
   {
    "duration": 274,
    "start_time": "2022-01-16T21:12:25.625Z"
   },
   {
    "duration": 636,
    "start_time": "2022-01-16T21:12:32.506Z"
   },
   {
    "duration": 525,
    "start_time": "2022-01-16T21:12:35.815Z"
   },
   {
    "duration": 600,
    "start_time": "2022-01-16T21:12:36.712Z"
   },
   {
    "duration": 783,
    "start_time": "2022-01-16T21:12:42.068Z"
   },
   {
    "duration": 3,
    "start_time": "2022-01-16T21:12:43.972Z"
   },
   {
    "duration": 259,
    "start_time": "2022-01-16T21:12:44.674Z"
   },
   {
    "duration": 2,
    "start_time": "2022-01-16T21:14:27.193Z"
   },
   {
    "duration": 19524,
    "start_time": "2022-01-16T21:21:29.373Z"
   },
   {
    "duration": 4,
    "start_time": "2022-01-16T21:22:22.449Z"
   },
   {
    "duration": 18884,
    "start_time": "2022-01-16T21:24:11.549Z"
   },
   {
    "duration": 18444,
    "start_time": "2022-01-16T21:24:56.292Z"
   },
   {
    "duration": 18735,
    "start_time": "2022-01-16T21:27:21.897Z"
   },
   {
    "duration": 19185,
    "start_time": "2022-01-16T21:30:46.845Z"
   },
   {
    "duration": 156,
    "start_time": "2022-01-16T21:31:53.145Z"
   },
   {
    "duration": 18899,
    "start_time": "2022-01-16T21:31:59.934Z"
   },
   {
    "duration": 269,
    "start_time": "2022-01-16T21:34:47.593Z"
   },
   {
    "duration": 476,
    "start_time": "2022-01-16T21:36:16.626Z"
   },
   {
    "duration": 18388,
    "start_time": "2022-01-16T21:36:26.149Z"
   },
   {
    "duration": 18811,
    "start_time": "2022-01-16T21:36:55.522Z"
   },
   {
    "duration": 263,
    "start_time": "2022-01-16T21:37:33.783Z"
   },
   {
    "duration": 128,
    "start_time": "2022-01-16T21:38:25.106Z"
   },
   {
    "duration": 19300,
    "start_time": "2022-01-16T21:38:31.629Z"
   },
   {
    "duration": 159,
    "start_time": "2022-01-16T21:39:01.169Z"
   },
   {
    "duration": 99,
    "start_time": "2022-01-16T21:39:14.833Z"
   },
   {
    "duration": 18884,
    "start_time": "2022-01-16T21:39:31.152Z"
   },
   {
    "duration": 193,
    "start_time": "2022-01-16T21:39:57.534Z"
   },
   {
    "duration": 4,
    "start_time": "2022-01-16T21:44:37.901Z"
   },
   {
    "duration": 4,
    "start_time": "2022-01-16T21:52:26.545Z"
   },
   {
    "duration": 18171,
    "start_time": "2022-01-16T21:54:48.160Z"
   },
   {
    "duration": 118,
    "start_time": "2022-01-16T21:55:14.414Z"
   },
   {
    "duration": 281,
    "start_time": "2022-01-16T21:55:37.243Z"
   },
   {
    "duration": 102,
    "start_time": "2022-01-16T21:56:03.631Z"
   },
   {
    "duration": 300,
    "start_time": "2022-01-16T21:56:45.547Z"
   },
   {
    "duration": 6,
    "start_time": "2022-01-16T21:57:02.768Z"
   },
   {
    "duration": 297,
    "start_time": "2022-01-16T21:57:09.095Z"
   },
   {
    "duration": 287,
    "start_time": "2022-01-16T21:57:28.198Z"
   },
   {
    "duration": 6,
    "start_time": "2022-01-16T21:57:33.259Z"
   },
   {
    "duration": 4,
    "start_time": "2022-01-16T21:59:18.242Z"
   },
   {
    "duration": 4,
    "start_time": "2022-01-16T21:59:33.626Z"
   },
   {
    "duration": 4,
    "start_time": "2022-01-16T21:59:51.487Z"
   },
   {
    "duration": 3,
    "start_time": "2022-01-16T22:01:39.191Z"
   },
   {
    "duration": 5,
    "start_time": "2022-01-16T22:02:06.492Z"
   },
   {
    "duration": 133358,
    "start_time": "2022-01-16T22:12:45.956Z"
   },
   {
    "duration": 136156,
    "start_time": "2022-01-16T22:17:07.544Z"
   },
   {
    "duration": 134416,
    "start_time": "2022-01-16T22:24:12.589Z"
   },
   {
    "duration": 133326,
    "start_time": "2022-01-16T22:28:57.326Z"
   },
   {
    "duration": 428,
    "start_time": "2022-01-16T22:31:34.844Z"
   },
   {
    "duration": 82,
    "start_time": "2022-01-16T22:31:38.976Z"
   },
   {
    "duration": 4,
    "start_time": "2022-01-16T22:31:42.083Z"
   },
   {
    "duration": 1174,
    "start_time": "2022-01-16T22:35:26.394Z"
   },
   {
    "duration": 171858,
    "start_time": "2022-01-16T22:36:23.156Z"
   },
   {
    "duration": 878,
    "start_time": "2022-01-16T22:46:10.571Z"
   },
   {
    "duration": 4,
    "start_time": "2022-01-16T22:46:15.179Z"
   },
   {
    "duration": 10180,
    "start_time": "2022-01-16T22:48:42.124Z"
   },
   {
    "duration": 10233,
    "start_time": "2022-01-16T22:51:28.022Z"
   },
   {
    "duration": 102,
    "start_time": "2022-01-16T22:55:24.992Z"
   },
   {
    "duration": 10245,
    "start_time": "2022-01-16T22:55:51.829Z"
   },
   {
    "duration": 9,
    "start_time": "2022-01-16T22:56:27.097Z"
   },
   {
    "duration": 172772,
    "start_time": "2022-01-16T22:57:18.819Z"
   },
   {
    "duration": 10582,
    "start_time": "2022-01-16T23:01:46.742Z"
   },
   {
    "duration": 10252,
    "start_time": "2022-01-16T23:03:09.532Z"
   },
   {
    "duration": 175742,
    "start_time": "2022-01-16T23:03:45.559Z"
   },
   {
    "duration": 288,
    "start_time": "2022-01-16T23:08:38.005Z"
   },
   {
    "duration": 10298,
    "start_time": "2022-01-16T23:10:37.009Z"
   },
   {
    "duration": 344,
    "start_time": "2022-01-16T23:12:33.282Z"
   },
   {
    "duration": 10576,
    "start_time": "2022-01-16T23:13:01.182Z"
   },
   {
    "duration": 1089,
    "start_time": "2022-01-17T08:39:09.544Z"
   },
   {
    "duration": 1348,
    "start_time": "2022-01-17T08:39:10.637Z"
   },
   {
    "duration": 1272,
    "start_time": "2022-01-17T08:39:14.722Z"
   },
   {
    "duration": 186,
    "start_time": "2022-01-17T08:39:15.995Z"
   },
   {
    "duration": 37,
    "start_time": "2022-01-17T08:39:16.415Z"
   },
   {
    "duration": 68,
    "start_time": "2022-01-17T08:39:18.208Z"
   },
   {
    "duration": 237,
    "start_time": "2022-01-17T08:39:18.838Z"
   },
   {
    "duration": 240,
    "start_time": "2022-01-17T08:39:19.939Z"
   },
   {
    "duration": 225,
    "start_time": "2022-01-17T08:39:37.409Z"
   },
   {
    "duration": 225,
    "start_time": "2022-01-17T08:39:56.557Z"
   },
   {
    "duration": 298,
    "start_time": "2022-01-17T08:40:03.677Z"
   },
   {
    "duration": 241,
    "start_time": "2022-01-17T08:40:34.640Z"
   },
   {
    "duration": 272,
    "start_time": "2022-01-17T08:41:30.300Z"
   },
   {
    "duration": 251,
    "start_time": "2022-01-17T08:41:36.244Z"
   },
   {
    "duration": 66,
    "start_time": "2022-01-17T08:42:06.348Z"
   },
   {
    "duration": 91,
    "start_time": "2022-01-17T08:42:07.337Z"
   },
   {
    "duration": 102,
    "start_time": "2022-01-17T08:42:09.489Z"
   },
   {
    "duration": 71,
    "start_time": "2022-01-17T08:42:10.522Z"
   },
   {
    "duration": 29,
    "start_time": "2022-01-17T08:42:11.469Z"
   },
   {
    "duration": 524,
    "start_time": "2022-01-17T08:42:12.628Z"
   },
   {
    "duration": 64,
    "start_time": "2022-01-17T08:42:13.509Z"
   },
   {
    "duration": 67,
    "start_time": "2022-01-17T08:42:15.164Z"
   },
   {
    "duration": 194,
    "start_time": "2022-01-17T08:42:18.156Z"
   },
   {
    "duration": 239,
    "start_time": "2022-01-17T08:42:23.424Z"
   },
   {
    "duration": 246,
    "start_time": "2022-01-17T08:42:30.183Z"
   },
   {
    "duration": 304,
    "start_time": "2022-01-17T08:42:35.068Z"
   },
   {
    "duration": 668,
    "start_time": "2022-01-17T09:22:27.629Z"
   },
   {
    "duration": 587,
    "start_time": "2022-01-17T09:22:31.991Z"
   },
   {
    "duration": 648,
    "start_time": "2022-01-17T09:22:58.766Z"
   },
   {
    "duration": 862,
    "start_time": "2022-01-17T09:23:03.607Z"
   },
   {
    "duration": 2,
    "start_time": "2022-01-17T09:23:06.880Z"
   },
   {
    "duration": 288,
    "start_time": "2022-01-17T09:23:12.445Z"
   },
   {
    "duration": 298,
    "start_time": "2022-01-17T09:24:00.272Z"
   },
   {
    "duration": 293,
    "start_time": "2022-01-17T09:24:16.852Z"
   },
   {
    "duration": 4,
    "start_time": "2022-01-17T09:24:22.715Z"
   },
   {
    "duration": 3,
    "start_time": "2022-01-17T09:24:23.883Z"
   },
   {
    "duration": 21508,
    "start_time": "2022-01-17T09:24:27.284Z"
   },
   {
    "duration": 143,
    "start_time": "2022-01-17T09:24:53.654Z"
   },
   {
    "duration": 5,
    "start_time": "2022-01-17T09:24:55.825Z"
   },
   {
    "duration": 155955,
    "start_time": "2022-01-17T09:25:11.539Z"
   },
   {
    "duration": 489,
    "start_time": "2022-01-17T09:29:30.647Z"
   },
   {
    "duration": 107,
    "start_time": "2022-01-17T09:29:33.976Z"
   },
   {
    "duration": 5,
    "start_time": "2022-01-17T09:29:39.974Z"
   },
   {
    "duration": 8151,
    "start_time": "2022-01-17T09:29:51.427Z"
   },
   {
    "duration": 300,
    "start_time": "2022-01-17T09:30:12.945Z"
   },
   {
    "duration": 223,
    "start_time": "2022-01-17T09:30:16.183Z"
   },
   {
    "duration": 135,
    "start_time": "2022-01-17T09:31:19.602Z"
   },
   {
    "duration": 7,
    "start_time": "2022-01-17T09:31:48.800Z"
   },
   {
    "duration": 8,
    "start_time": "2022-01-17T09:31:53.639Z"
   },
   {
    "duration": 5,
    "start_time": "2022-01-17T09:31:54.199Z"
   },
   {
    "duration": 15826,
    "start_time": "2022-01-17T09:32:22.261Z"
   },
   {
    "duration": 16144,
    "start_time": "2022-01-17T09:32:41.517Z"
   },
   {
    "duration": 426,
    "start_time": "2022-01-17T09:33:13.908Z"
   },
   {
    "duration": 8,
    "start_time": "2022-01-17T09:33:18.682Z"
   },
   {
    "duration": 5,
    "start_time": "2022-01-17T09:33:19.816Z"
   },
   {
    "duration": 8032,
    "start_time": "2022-01-17T09:33:35.710Z"
   },
   {
    "duration": 2608,
    "start_time": "2022-01-17T09:33:51.626Z"
   },
   {
    "duration": 152,
    "start_time": "2022-01-17T09:34:06.116Z"
   },
   {
    "duration": 6,
    "start_time": "2022-01-17T09:34:08.088Z"
   },
   {
    "duration": 5,
    "start_time": "2022-01-17T09:34:08.822Z"
   },
   {
    "duration": 5059,
    "start_time": "2022-01-17T09:34:16.840Z"
   },
   {
    "duration": 157,
    "start_time": "2022-01-17T09:34:21.901Z"
   },
   {
    "duration": 237,
    "start_time": "2022-01-17T09:34:30.225Z"
   },
   {
    "duration": 6,
    "start_time": "2022-01-17T09:34:32.041Z"
   },
   {
    "duration": 5,
    "start_time": "2022-01-17T09:34:33.042Z"
   },
   {
    "duration": 843,
    "start_time": "2022-01-17T09:35:52.048Z"
   },
   {
    "duration": 223,
    "start_time": "2022-01-17T09:35:56.660Z"
   },
   {
    "duration": 33256,
    "start_time": "2022-01-17T09:36:20.853Z"
   },
   {
    "duration": 441,
    "start_time": "2022-01-17T09:37:01.727Z"
   },
   {
    "duration": 8,
    "start_time": "2022-01-17T09:37:03.399Z"
   },
   {
    "duration": 4,
    "start_time": "2022-01-17T09:37:04.633Z"
   },
   {
    "duration": 5010,
    "start_time": "2022-01-17T09:37:10.854Z"
   },
   {
    "duration": 232,
    "start_time": "2022-01-17T09:37:34.293Z"
   },
   {
    "duration": 7,
    "start_time": "2022-01-17T09:37:35.578Z"
   },
   {
    "duration": 5,
    "start_time": "2022-01-17T09:37:36.419Z"
   },
   {
    "duration": 194075,
    "start_time": "2022-01-17T09:38:22.365Z"
   },
   {
    "duration": 197060,
    "start_time": "2022-01-17T09:41:52.230Z"
   },
   {
    "duration": 1034,
    "start_time": "2022-01-17T09:45:09.292Z"
   },
   {
    "duration": 5,
    "start_time": "2022-01-17T09:45:10.328Z"
   },
   {
    "duration": 1009,
    "start_time": "2022-01-17T09:46:27.068Z"
   },
   {
    "duration": 5,
    "start_time": "2022-01-17T09:46:34.662Z"
   },
   {
    "duration": 123503,
    "start_time": "2022-01-17T09:47:09.456Z"
   },
   {
    "duration": 2929,
    "start_time": "2022-01-17T09:49:37.372Z"
   },
   {
    "duration": 4,
    "start_time": "2022-01-17T09:49:43.497Z"
   },
   {
    "duration": 933768,
    "start_time": "2022-01-17T09:51:37.741Z"
   },
   {
    "duration": 20126,
    "start_time": "2022-01-17T10:07:28.046Z"
   },
   {
    "duration": 391198,
    "start_time": "2022-01-17T10:07:54.298Z"
   },
   {
    "duration": 298,
    "start_time": "2022-01-17T19:38:03.121Z"
   },
   {
    "duration": 1088,
    "start_time": "2022-01-17T19:38:09.060Z"
   },
   {
    "duration": 1284,
    "start_time": "2022-01-17T19:38:10.149Z"
   },
   {
    "duration": 1135,
    "start_time": "2022-01-17T19:38:16.354Z"
   },
   {
    "duration": 166,
    "start_time": "2022-01-17T19:38:24.099Z"
   },
   {
    "duration": 34,
    "start_time": "2022-01-17T19:39:01.122Z"
   },
   {
    "duration": 52,
    "start_time": "2022-01-17T19:39:20.955Z"
   },
   {
    "duration": 209,
    "start_time": "2022-01-17T19:39:23.676Z"
   },
   {
    "duration": 211,
    "start_time": "2022-01-17T19:39:25.310Z"
   },
   {
    "duration": 223,
    "start_time": "2022-01-17T19:39:26.976Z"
   },
   {
    "duration": 60,
    "start_time": "2022-01-17T19:39:28.020Z"
   },
   {
    "duration": 65,
    "start_time": "2022-01-17T19:39:31.089Z"
   },
   {
    "duration": 83,
    "start_time": "2022-01-17T19:39:32.746Z"
   },
   {
    "duration": 64,
    "start_time": "2022-01-17T19:39:33.919Z"
   },
   {
    "duration": 26,
    "start_time": "2022-01-17T19:39:35.107Z"
   },
   {
    "duration": 496,
    "start_time": "2022-01-17T19:39:36.585Z"
   },
   {
    "duration": 62,
    "start_time": "2022-01-17T19:39:40.803Z"
   },
   {
    "duration": 94,
    "start_time": "2022-01-17T19:39:43.174Z"
   },
   {
    "duration": 173,
    "start_time": "2022-01-17T19:39:46.195Z"
   },
   {
    "duration": 278,
    "start_time": "2022-01-17T19:39:47.952Z"
   },
   {
    "duration": 219,
    "start_time": "2022-01-17T19:39:52.018Z"
   },
   {
    "duration": 254,
    "start_time": "2022-01-17T19:39:53.043Z"
   },
   {
    "duration": 587,
    "start_time": "2022-01-17T19:40:02.725Z"
   },
   {
    "duration": 641,
    "start_time": "2022-01-17T19:40:44.603Z"
   },
   {
    "duration": 677,
    "start_time": "2022-01-17T19:41:22.479Z"
   },
   {
    "duration": 3204,
    "start_time": "2022-01-17T19:41:34.011Z"
   },
   {
    "duration": 822,
    "start_time": "2022-01-17T19:42:45.496Z"
   },
   {
    "duration": 2,
    "start_time": "2022-01-17T19:47:16.029Z"
   },
   {
    "duration": 503,
    "start_time": "2022-01-17T19:47:16.691Z"
   },
   {
    "duration": 330,
    "start_time": "2022-01-17T19:48:56.551Z"
   },
   {
    "duration": 511,
    "start_time": "2022-01-17T19:49:56.665Z"
   },
   {
    "duration": 562,
    "start_time": "2022-01-17T19:51:11.920Z"
   },
   {
    "duration": 546,
    "start_time": "2022-01-17T19:51:39.155Z"
   },
   {
    "duration": 533,
    "start_time": "2022-01-17T19:52:16.004Z"
   },
   {
    "duration": 643,
    "start_time": "2022-01-17T19:52:40.517Z"
   },
   {
    "duration": 518,
    "start_time": "2022-01-17T19:52:54.263Z"
   },
   {
    "duration": 514,
    "start_time": "2022-01-17T19:54:25.092Z"
   },
   {
    "duration": 534,
    "start_time": "2022-01-17T19:55:38.881Z"
   },
   {
    "duration": 608,
    "start_time": "2022-01-17T19:55:48.040Z"
   },
   {
    "duration": 320,
    "start_time": "2022-01-17T19:56:45.342Z"
   },
   {
    "duration": 402,
    "start_time": "2022-01-17T19:56:58.477Z"
   },
   {
    "duration": 341,
    "start_time": "2022-01-17T19:59:06.203Z"
   },
   {
    "duration": 345,
    "start_time": "2022-01-17T20:01:08.241Z"
   },
   {
    "duration": 363,
    "start_time": "2022-01-17T20:02:12.669Z"
   },
   {
    "duration": 364,
    "start_time": "2022-01-17T20:02:46.726Z"
   },
   {
    "duration": 690,
    "start_time": "2022-01-17T20:04:16.389Z"
   },
   {
    "duration": 687,
    "start_time": "2022-01-17T20:05:08.740Z"
   },
   {
    "duration": 616,
    "start_time": "2022-01-17T20:06:38.874Z"
   },
   {
    "duration": 800,
    "start_time": "2022-01-17T20:07:03.517Z"
   },
   {
    "duration": 428,
    "start_time": "2022-01-17T20:07:15.987Z"
   },
   {
    "duration": 277,
    "start_time": "2022-01-17T20:09:57.556Z"
   },
   {
    "duration": 554,
    "start_time": "2022-01-17T20:09:59.545Z"
   },
   {
    "duration": 14,
    "start_time": "2022-01-17T20:10:13.127Z"
   },
   {
    "duration": 396,
    "start_time": "2022-01-17T20:10:16.465Z"
   },
   {
    "duration": 3,
    "start_time": "2022-01-17T20:10:36.640Z"
   },
   {
    "duration": 305,
    "start_time": "2022-01-17T20:10:40.723Z"
   },
   {
    "duration": 9,
    "start_time": "2022-01-17T20:10:41.688Z"
   },
   {
    "duration": 1560,
    "start_time": "2022-01-17T20:10:43.447Z"
   },
   {
    "duration": 5,
    "start_time": "2022-01-17T20:10:56.045Z"
   },
   {
    "duration": 2360,
    "start_time": "2022-01-17T20:13:52.408Z"
   },
   {
    "duration": 2610,
    "start_time": "2022-01-17T20:14:22.053Z"
   },
   {
    "duration": 2517,
    "start_time": "2022-01-17T20:15:01.720Z"
   },
   {
    "duration": 569,
    "start_time": "2022-01-17T20:15:54.879Z"
   },
   {
    "duration": 1146,
    "start_time": "2022-01-17T20:16:16.540Z"
   },
   {
    "duration": 1226,
    "start_time": "2022-01-17T20:16:17.688Z"
   },
   {
    "duration": 1187,
    "start_time": "2022-01-17T20:16:18.916Z"
   },
   {
    "duration": 168,
    "start_time": "2022-01-17T20:16:20.105Z"
   },
   {
    "duration": 33,
    "start_time": "2022-01-17T20:16:20.275Z"
   },
   {
    "duration": 47,
    "start_time": "2022-01-17T20:16:26.524Z"
   },
   {
    "duration": 205,
    "start_time": "2022-01-17T20:16:27.199Z"
   },
   {
    "duration": 215,
    "start_time": "2022-01-17T20:16:27.517Z"
   },
   {
    "duration": 218,
    "start_time": "2022-01-17T20:16:27.856Z"
   },
   {
    "duration": 61,
    "start_time": "2022-01-17T20:16:28.308Z"
   },
   {
    "duration": 62,
    "start_time": "2022-01-17T20:16:28.863Z"
   },
   {
    "duration": 83,
    "start_time": "2022-01-17T20:16:29.423Z"
   },
   {
    "duration": 66,
    "start_time": "2022-01-17T20:16:30.028Z"
   },
   {
    "duration": 27,
    "start_time": "2022-01-17T20:16:30.654Z"
   },
   {
    "duration": 500,
    "start_time": "2022-01-17T20:16:31.370Z"
   },
   {
    "duration": 59,
    "start_time": "2022-01-17T20:16:32.378Z"
   },
   {
    "duration": 59,
    "start_time": "2022-01-17T20:16:33.378Z"
   },
   {
    "duration": 171,
    "start_time": "2022-01-17T20:16:34.916Z"
   },
   {
    "duration": 268,
    "start_time": "2022-01-17T20:16:35.372Z"
   },
   {
    "duration": 212,
    "start_time": "2022-01-17T20:16:36.398Z"
   },
   {
    "duration": 268,
    "start_time": "2022-01-17T20:16:36.815Z"
   },
   {
    "duration": 596,
    "start_time": "2022-01-17T20:16:40.089Z"
   },
   {
    "duration": 702,
    "start_time": "2022-01-17T20:16:42.571Z"
   },
   {
    "duration": 3288,
    "start_time": "2022-01-17T20:16:44.550Z"
   },
   {
    "duration": 868,
    "start_time": "2022-01-17T20:16:47.840Z"
   },
   {
    "duration": 3,
    "start_time": "2022-01-17T20:17:17.948Z"
   },
   {
    "duration": 2362,
    "start_time": "2022-01-17T20:17:22.393Z"
   },
   {
    "duration": 375,
    "start_time": "2022-01-17T20:19:01.178Z"
   },
   {
    "duration": 3,
    "start_time": "2022-01-17T20:19:22.149Z"
   },
   {
    "duration": 289,
    "start_time": "2022-01-17T20:19:40.678Z"
   },
   {
    "duration": 19211,
    "start_time": "2022-01-17T20:20:38.520Z"
   },
   {
    "duration": 279,
    "start_time": "2022-01-17T20:20:57.734Z"
   },
   {
    "duration": 89,
    "start_time": "2022-01-17T20:20:57.926Z"
   },
   {
    "duration": 4025,
    "start_time": "2022-01-17T20:28:55.268Z"
   },
   {
    "duration": 4070,
    "start_time": "2022-01-17T20:29:46.162Z"
   },
   {
    "duration": 2,
    "start_time": "2022-01-17T20:30:12.714Z"
   },
   {
    "duration": 2,
    "start_time": "2022-01-17T20:30:13.256Z"
   },
   {
    "duration": 18616,
    "start_time": "2022-01-17T20:30:18.912Z"
   },
   {
    "duration": 100,
    "start_time": "2022-01-17T20:30:37.531Z"
   },
   {
    "duration": 304,
    "start_time": "2022-01-17T20:30:37.633Z"
   },
   {
    "duration": 26,
    "start_time": "2022-01-17T20:31:26.451Z"
   },
   {
    "duration": 268,
    "start_time": "2022-01-17T20:31:29.364Z"
   },
   {
    "duration": 5,
    "start_time": "2022-01-17T20:31:56.801Z"
   },
   {
    "duration": 2,
    "start_time": "2022-01-17T20:33:19.028Z"
   },
   {
    "duration": 3986,
    "start_time": "2022-01-17T20:36:09.376Z"
   },
   {
    "duration": 4028,
    "start_time": "2022-01-17T20:36:36.799Z"
   },
   {
    "duration": 2,
    "start_time": "2022-01-17T20:36:46.974Z"
   },
   {
    "duration": 3,
    "start_time": "2022-01-17T20:36:47.519Z"
   },
   {
    "duration": 18316,
    "start_time": "2022-01-17T20:36:50.420Z"
   },
   {
    "duration": 101,
    "start_time": "2022-01-17T20:37:08.828Z"
   },
   {
    "duration": 96,
    "start_time": "2022-01-17T20:37:08.933Z"
   },
   {
    "duration": 305,
    "start_time": "2022-01-17T20:37:09.031Z"
   },
   {
    "duration": 348,
    "start_time": "2022-01-17T20:42:30.731Z"
   },
   {
    "duration": 64,
    "start_time": "2022-01-17T20:42:51.862Z"
   },
   {
    "duration": 5,
    "start_time": "2022-01-17T20:43:07.103Z"
   },
   {
    "duration": 102,
    "start_time": "2022-01-17T20:44:43.354Z"
   },
   {
    "duration": 574644,
    "start_time": "2022-01-17T20:53:48.162Z"
   },
   {
    "duration": 279659,
    "start_time": "2022-01-17T21:04:08.903Z"
   },
   {
    "duration": 1299,
    "start_time": "2022-01-17T21:16:35.768Z"
   },
   {
    "duration": 95,
    "start_time": "2022-01-17T21:16:41.771Z"
   },
   {
    "duration": 4,
    "start_time": "2022-01-17T21:16:45.120Z"
   },
   {
    "duration": 50167,
    "start_time": "2022-01-17T21:16:56.715Z"
   },
   {
    "duration": 753,
    "start_time": "2022-01-17T21:23:06.347Z"
   },
   {
    "duration": 18,
    "start_time": "2022-01-17T21:23:10.448Z"
   },
   {
    "duration": 4,
    "start_time": "2022-01-17T21:23:13.483Z"
   },
   {
    "duration": 1022118,
    "start_time": "2022-01-17T21:24:01.896Z"
   },
   {
    "duration": 274,
    "start_time": "2022-01-17T21:42:27.304Z"
   },
   {
    "duration": 18074,
    "start_time": "2022-01-17T21:42:33.957Z"
   },
   {
    "duration": 97,
    "start_time": "2022-01-17T21:42:52.033Z"
   },
   {
    "duration": 95,
    "start_time": "2022-01-17T21:42:52.132Z"
   },
   {
    "duration": 275,
    "start_time": "2022-01-17T21:42:52.229Z"
   },
   {
    "duration": -8,
    "start_time": "2022-01-17T21:42:52.514Z"
   },
   {
    "duration": -10,
    "start_time": "2022-01-17T21:42:52.517Z"
   },
   {
    "duration": -10,
    "start_time": "2022-01-17T21:42:52.519Z"
   },
   {
    "duration": -19,
    "start_time": "2022-01-17T21:42:52.529Z"
   },
   {
    "duration": 274,
    "start_time": "2022-01-17T21:42:55.155Z"
   },
   {
    "duration": 295,
    "start_time": "2022-01-17T21:43:13.755Z"
   },
   {
    "duration": 1299,
    "start_time": "2022-01-17T21:43:20.558Z"
   },
   {
    "duration": 97,
    "start_time": "2022-01-17T21:43:22.757Z"
   },
   {
    "duration": 5,
    "start_time": "2022-01-17T21:43:23.657Z"
   },
   {
    "duration": 3,
    "start_time": "2022-01-17T21:43:24.778Z"
   },
   {
    "duration": 771,
    "start_time": "2022-01-17T21:43:31.546Z"
   },
   {
    "duration": 21,
    "start_time": "2022-01-17T21:43:32.318Z"
   },
   {
    "duration": 4,
    "start_time": "2022-01-17T21:43:33.367Z"
   },
   {
    "duration": 3,
    "start_time": "2022-01-17T21:43:35.127Z"
   },
   {
    "duration": 18248,
    "start_time": "2022-01-17T21:44:00.349Z"
   },
   {
    "duration": 369,
    "start_time": "2022-01-17T21:44:18.599Z"
   },
   {
    "duration": 3,
    "start_time": "2022-01-17T21:44:18.970Z"
   },
   {
    "duration": 12,
    "start_time": "2022-01-17T21:44:18.975Z"
   },
   {
    "duration": 343151,
    "start_time": "2022-01-17T21:45:00.110Z"
   },
   {
    "duration": 8452,
    "start_time": "2022-01-17T21:51:32.513Z"
   },
   {
    "duration": 332,
    "start_time": "2022-01-17T21:51:47.855Z"
   },
   {
    "duration": 5,
    "start_time": "2022-01-17T21:51:50.490Z"
   },
   {
    "duration": 289,
    "start_time": "2022-01-17T21:51:52.309Z"
   },
   {
    "duration": 299,
    "start_time": "2022-01-17T21:52:17.356Z"
   },
   {
    "duration": 29,
    "start_time": "2022-01-17T21:52:44.225Z"
   },
   {
    "duration": 110,
    "start_time": "2022-01-17T21:52:48.687Z"
   },
   {
    "duration": 289,
    "start_time": "2022-01-17T21:53:03.415Z"
   },
   {
    "duration": 1078050,
    "start_time": "2022-01-17T21:53:41.630Z"
   },
   {
    "duration": 8421,
    "start_time": "2022-01-17T22:12:01.930Z"
   },
   {
    "duration": 146983,
    "start_time": "2022-01-17T22:12:40.999Z"
   },
   {
    "duration": 261,
    "start_time": "2022-01-17T22:15:44.278Z"
   },
   {
    "duration": 4,
    "start_time": "2022-01-17T22:15:45.984Z"
   },
   {
    "duration": 302,
    "start_time": "2022-01-17T22:16:02.762Z"
   },
   {
    "duration": 4,
    "start_time": "2022-01-17T22:16:26.962Z"
   },
   {
    "duration": 281,
    "start_time": "2022-01-17T22:19:12.902Z"
   },
   {
    "duration": 9,
    "start_time": "2022-01-17T22:20:59.052Z"
   },
   {
    "duration": 27,
    "start_time": "2022-01-17T22:21:46.617Z"
   },
   {
    "duration": 22,
    "start_time": "2022-01-17T22:21:59.302Z"
   },
   {
    "duration": 291,
    "start_time": "2022-01-17T22:23:03.978Z"
   },
   {
    "duration": 12,
    "start_time": "2022-01-17T22:23:13.433Z"
   },
   {
    "duration": 7593,
    "start_time": "2022-01-17T22:26:34.053Z"
   },
   {
    "duration": 72383,
    "start_time": "2022-01-17T22:29:42.483Z"
   },
   {
    "duration": 165,
    "start_time": "2022-01-17T22:30:54.868Z"
   },
   {
    "duration": 4,
    "start_time": "2022-01-17T22:30:55.035Z"
   },
   {
    "duration": 421,
    "start_time": "2022-01-17T22:30:55.040Z"
   },
   {
    "duration": 99,
    "start_time": "2022-01-17T22:31:02.742Z"
   },
   {
    "duration": 4,
    "start_time": "2022-01-17T22:31:03.766Z"
   },
   {
    "duration": 13878,
    "start_time": "2022-01-17T22:31:19.706Z"
   },
   {
    "duration": 145,
    "start_time": "2022-01-17T22:31:33.586Z"
   },
   {
    "duration": 4,
    "start_time": "2022-01-17T22:31:33.733Z"
   },
   {
    "duration": 4,
    "start_time": "2022-01-17T22:31:33.738Z"
   },
   {
    "duration": 19452,
    "start_time": "2022-01-17T22:31:49.947Z"
   },
   {
    "duration": 166519,
    "start_time": "2022-01-17T22:32:48.193Z"
   },
   {
    "duration": 19568,
    "start_time": "2022-01-17T22:36:18.838Z"
   },
   {
    "duration": 129,
    "start_time": "2022-01-17T22:36:38.407Z"
   },
   {
    "duration": 4,
    "start_time": "2022-01-17T22:36:38.537Z"
   },
   {
    "duration": 4,
    "start_time": "2022-01-17T22:36:38.543Z"
   },
   {
    "duration": 12427,
    "start_time": "2022-01-17T22:37:14.410Z"
   },
   {
    "duration": 116,
    "start_time": "2022-01-17T22:37:26.839Z"
   },
   {
    "duration": 4,
    "start_time": "2022-01-17T22:37:26.957Z"
   },
   {
    "duration": 4,
    "start_time": "2022-01-17T22:37:26.963Z"
   },
   {
    "duration": 19803,
    "start_time": "2022-01-17T22:37:34.813Z"
   },
   {
    "duration": 123,
    "start_time": "2022-01-17T22:37:54.619Z"
   },
   {
    "duration": 4,
    "start_time": "2022-01-17T22:37:54.744Z"
   },
   {
    "duration": 6,
    "start_time": "2022-01-17T22:37:54.750Z"
   },
   {
    "duration": 17,
    "start_time": "2022-01-17T22:42:48.738Z"
   },
   {
    "duration": 91,
    "start_time": "2022-01-17T22:43:01.468Z"
   },
   {
    "duration": 7060,
    "start_time": "2022-01-17T22:46:46.894Z"
   },
   {
    "duration": 7,
    "start_time": "2022-01-17T22:47:11.874Z"
   },
   {
    "duration": 233,
    "start_time": "2022-01-17T22:49:31.115Z"
   },
   {
    "duration": 198,
    "start_time": "2022-01-17T22:49:50.619Z"
   },
   {
    "duration": 223,
    "start_time": "2022-01-17T22:49:58.661Z"
   },
   {
    "duration": 52,
    "start_time": "2022-01-17T22:50:05.434Z"
   },
   {
    "duration": 10,
    "start_time": "2022-01-17T22:51:07.960Z"
   },
   {
    "duration": 6,
    "start_time": "2022-01-17T22:51:23.039Z"
   },
   {
    "duration": 319,
    "start_time": "2022-01-17T22:53:47.395Z"
   },
   {
    "duration": 304,
    "start_time": "2022-01-17T22:54:13.092Z"
   },
   {
    "duration": 1143,
    "start_time": "2022-01-18T08:44:11.817Z"
   },
   {
    "duration": 1340,
    "start_time": "2022-01-18T08:44:12.961Z"
   },
   {
    "duration": 1423,
    "start_time": "2022-01-18T08:44:18.030Z"
   },
   {
    "duration": 181,
    "start_time": "2022-01-18T08:44:20.069Z"
   },
   {
    "duration": 40,
    "start_time": "2022-01-18T08:44:28.869Z"
   },
   {
    "duration": 60,
    "start_time": "2022-01-18T08:44:38.161Z"
   },
   {
    "duration": 219,
    "start_time": "2022-01-18T08:44:39.241Z"
   },
   {
    "duration": 224,
    "start_time": "2022-01-18T08:44:44.474Z"
   },
   {
    "duration": 286,
    "start_time": "2022-01-18T08:44:54.235Z"
   },
   {
    "duration": 250,
    "start_time": "2022-01-18T08:47:02.092Z"
   },
   {
    "duration": 283,
    "start_time": "2022-01-18T08:47:12.275Z"
   },
   {
    "duration": 291,
    "start_time": "2022-01-18T08:47:32.078Z"
   },
   {
    "duration": 226,
    "start_time": "2022-01-18T08:49:05.504Z"
   },
   {
    "duration": 49,
    "start_time": "2022-01-18T08:50:01.238Z"
   },
   {
    "duration": 74,
    "start_time": "2022-01-18T08:50:05.333Z"
   },
   {
    "duration": 57,
    "start_time": "2022-01-18T09:03:58.961Z"
   },
   {
    "duration": 69,
    "start_time": "2022-01-18T09:04:07.258Z"
   },
   {
    "duration": 55,
    "start_time": "2022-01-18T09:04:17.197Z"
   },
   {
    "duration": 23,
    "start_time": "2022-01-18T09:04:29.896Z"
   },
   {
    "duration": 495,
    "start_time": "2022-01-18T09:04:33.318Z"
   },
   {
    "duration": 51,
    "start_time": "2022-01-18T09:04:38.210Z"
   },
   {
    "duration": 49,
    "start_time": "2022-01-18T09:04:39.145Z"
   },
   {
    "duration": 186,
    "start_time": "2022-01-18T09:04:43.923Z"
   },
   {
    "duration": 222,
    "start_time": "2022-01-18T09:04:45.697Z"
   },
   {
    "duration": 221,
    "start_time": "2022-01-18T09:04:52.739Z"
   },
   {
    "duration": 296,
    "start_time": "2022-01-18T09:04:55.707Z"
   },
   {
    "duration": 641,
    "start_time": "2022-01-18T09:07:44.130Z"
   },
   {
    "duration": 3279,
    "start_time": "2022-01-18T09:07:53.854Z"
   },
   {
    "duration": 8770,
    "start_time": "2022-01-18T09:08:14.475Z"
   },
   {
    "duration": 2811,
    "start_time": "2022-01-18T09:08:28.907Z"
   },
   {
    "duration": 5594,
    "start_time": "2022-01-18T09:09:18.899Z"
   },
   {
    "duration": 412,
    "start_time": "2022-01-18T09:10:16.331Z"
   },
   {
    "duration": 459,
    "start_time": "2022-01-18T09:10:37.800Z"
   },
   {
    "duration": 466,
    "start_time": "2022-01-18T09:11:03.054Z"
   },
   {
    "duration": 516,
    "start_time": "2022-01-18T09:11:18.991Z"
   },
   {
    "duration": 2779,
    "start_time": "2022-01-18T09:11:48.897Z"
   },
   {
    "duration": 548,
    "start_time": "2022-01-18T09:12:29.803Z"
   },
   {
    "duration": 602,
    "start_time": "2022-01-18T09:12:54.186Z"
   },
   {
    "duration": 3,
    "start_time": "2022-01-18T09:13:48.120Z"
   },
   {
    "duration": 101,
    "start_time": "2022-01-18T09:20:03.388Z"
   },
   {
    "duration": 66,
    "start_time": "2022-01-18T09:22:00.432Z"
   },
   {
    "duration": 441,
    "start_time": "2022-01-18T09:22:03.841Z"
   },
   {
    "duration": 61,
    "start_time": "2022-01-18T09:22:09.026Z"
   },
   {
    "duration": 445,
    "start_time": "2022-01-18T09:22:33.948Z"
   },
   {
    "duration": 422,
    "start_time": "2022-01-18T09:22:43.179Z"
   },
   {
    "duration": 480,
    "start_time": "2022-01-18T09:23:37.389Z"
   },
   {
    "duration": 756,
    "start_time": "2022-01-18T09:29:42.636Z"
   },
   {
    "duration": 759,
    "start_time": "2022-01-18T09:30:17.802Z"
   },
   {
    "duration": 7544,
    "start_time": "2022-01-18T09:31:00.035Z"
   },
   {
    "duration": 1821,
    "start_time": "2022-01-18T09:31:31.556Z"
   },
   {
    "duration": 2202,
    "start_time": "2022-01-18T09:32:59.366Z"
   },
   {
    "duration": 1995,
    "start_time": "2022-01-18T09:33:30.135Z"
   },
   {
    "duration": 3,
    "start_time": "2022-01-18T09:33:53.929Z"
   },
   {
    "duration": 3206,
    "start_time": "2022-01-18T09:34:27.907Z"
   },
   {
    "duration": 2652,
    "start_time": "2022-01-18T09:36:30.937Z"
   },
   {
    "duration": 2592,
    "start_time": "2022-01-18T09:38:33.957Z"
   },
   {
    "duration": 3494,
    "start_time": "2022-01-18T09:38:55.268Z"
   },
   {
    "duration": 2287,
    "start_time": "2022-01-18T09:39:33.013Z"
   },
   {
    "duration": 2268,
    "start_time": "2022-01-18T09:39:42.105Z"
   },
   {
    "duration": 4,
    "start_time": "2022-01-18T09:47:14.009Z"
   },
   {
    "duration": 1304,
    "start_time": "2022-01-18T09:47:14.745Z"
   },
   {
    "duration": 1218,
    "start_time": "2022-01-18T09:47:16.111Z"
   },
   {
    "duration": 189,
    "start_time": "2022-01-18T09:47:17.331Z"
   },
   {
    "duration": 39,
    "start_time": "2022-01-18T09:47:19.357Z"
   },
   {
    "duration": 59,
    "start_time": "2022-01-18T09:47:23.070Z"
   },
   {
    "duration": 437,
    "start_time": "2022-01-18T09:47:25.007Z"
   },
   {
    "duration": 381,
    "start_time": "2022-01-18T09:47:26.661Z"
   },
   {
    "duration": 368,
    "start_time": "2022-01-18T09:47:28.487Z"
   },
   {
    "duration": 100,
    "start_time": "2022-01-18T09:47:30.486Z"
   },
   {
    "duration": 71,
    "start_time": "2022-01-18T09:47:36.014Z"
   },
   {
    "duration": 92,
    "start_time": "2022-01-18T09:47:37.072Z"
   },
   {
    "duration": 68,
    "start_time": "2022-01-18T09:47:38.446Z"
   },
   {
    "duration": 33,
    "start_time": "2022-01-18T09:47:39.772Z"
   },
   {
    "duration": 505,
    "start_time": "2022-01-18T09:47:41.172Z"
   },
   {
    "duration": 59,
    "start_time": "2022-01-18T09:47:42.929Z"
   },
   {
    "duration": 61,
    "start_time": "2022-01-18T09:47:43.897Z"
   },
   {
    "duration": 186,
    "start_time": "2022-01-18T09:47:45.817Z"
   },
   {
    "duration": 222,
    "start_time": "2022-01-18T09:47:49.186Z"
   },
   {
    "duration": 220,
    "start_time": "2022-01-18T09:47:54.005Z"
   },
   {
    "duration": 302,
    "start_time": "2022-01-18T09:47:55.317Z"
   },
   {
    "duration": 81,
    "start_time": "2022-01-18T09:48:06.141Z"
   },
   {
    "duration": 670,
    "start_time": "2022-01-18T09:48:14.304Z"
   },
   {
    "duration": 4,
    "start_time": "2022-01-18T09:52:38.086Z"
   },
   {
    "duration": 1271,
    "start_time": "2022-01-18T09:52:38.637Z"
   },
   {
    "duration": 1306,
    "start_time": "2022-01-18T09:52:40.149Z"
   },
   {
    "duration": 192,
    "start_time": "2022-01-18T09:52:41.456Z"
   },
   {
    "duration": 36,
    "start_time": "2022-01-18T09:52:42.635Z"
   },
   {
    "duration": 58,
    "start_time": "2022-01-18T09:52:44.969Z"
   },
   {
    "duration": 223,
    "start_time": "2022-01-18T09:52:45.800Z"
   },
   {
    "duration": 282,
    "start_time": "2022-01-18T09:52:46.944Z"
   },
   {
    "duration": 283,
    "start_time": "2022-01-18T09:52:47.908Z"
   },
   {
    "duration": 64,
    "start_time": "2022-01-18T09:52:48.912Z"
   },
   {
    "duration": 66,
    "start_time": "2022-01-18T09:52:50.818Z"
   },
   {
    "duration": 92,
    "start_time": "2022-01-18T09:52:56.216Z"
   },
   {
    "duration": 69,
    "start_time": "2022-01-18T09:52:57.133Z"
   },
   {
    "duration": 28,
    "start_time": "2022-01-18T09:52:57.955Z"
   },
   {
    "duration": 504,
    "start_time": "2022-01-18T09:52:58.894Z"
   },
   {
    "duration": 63,
    "start_time": "2022-01-18T09:53:00.084Z"
   },
   {
    "duration": 63,
    "start_time": "2022-01-18T09:53:01.118Z"
   },
   {
    "duration": 193,
    "start_time": "2022-01-18T09:53:02.883Z"
   },
   {
    "duration": 378,
    "start_time": "2022-01-18T09:53:04.479Z"
   },
   {
    "duration": 232,
    "start_time": "2022-01-18T09:53:07.646Z"
   },
   {
    "duration": 304,
    "start_time": "2022-01-18T09:53:12.977Z"
   },
   {
    "duration": 84,
    "start_time": "2022-01-18T09:53:17.728Z"
   },
   {
    "duration": 703,
    "start_time": "2022-01-18T09:53:23.926Z"
   },
   {
    "duration": 1000,
    "start_time": "2022-01-18T09:53:28.688Z"
   },
   {
    "duration": 2951,
    "start_time": "2022-01-18T09:53:43.210Z"
   },
   {
    "duration": 3,
    "start_time": "2022-01-18T09:56:00.320Z"
   },
   {
    "duration": 4039,
    "start_time": "2022-01-18T09:56:08.176Z"
   },
   {
    "duration": 2,
    "start_time": "2022-01-18T09:57:04.480Z"
   },
   {
    "duration": 3,
    "start_time": "2022-01-18T09:57:29.725Z"
   },
   {
    "duration": 242,
    "start_time": "2022-01-18T09:57:57.005Z"
   },
   {
    "duration": 25110,
    "start_time": "2022-01-18T10:00:58.430Z"
   },
   {
    "duration": 431,
    "start_time": "2022-01-18T10:01:43.302Z"
   },
   {
    "duration": 364,
    "start_time": "2022-01-18T10:03:40.788Z"
   },
   {
    "duration": 2887,
    "start_time": "2022-01-18T10:07:51.752Z"
   },
   {
    "duration": 2725,
    "start_time": "2022-01-18T10:09:21.106Z"
   },
   {
    "duration": 2545,
    "start_time": "2022-01-18T10:09:58.051Z"
   },
   {
    "duration": 5,
    "start_time": "2022-01-18T10:10:29.163Z"
   },
   {
    "duration": 1410,
    "start_time": "2022-01-18T10:10:29.875Z"
   },
   {
    "duration": 1279,
    "start_time": "2022-01-18T10:10:31.478Z"
   },
   {
    "duration": 209,
    "start_time": "2022-01-18T10:10:32.759Z"
   },
   {
    "duration": 36,
    "start_time": "2022-01-18T10:10:35.373Z"
   },
   {
    "duration": 58,
    "start_time": "2022-01-18T10:10:37.357Z"
   },
   {
    "duration": 212,
    "start_time": "2022-01-18T10:10:38.271Z"
   },
   {
    "duration": 236,
    "start_time": "2022-01-18T10:10:41.427Z"
   },
   {
    "duration": 232,
    "start_time": "2022-01-18T10:10:53.249Z"
   },
   {
    "duration": 66,
    "start_time": "2022-01-18T10:10:56.295Z"
   },
   {
    "duration": 71,
    "start_time": "2022-01-18T10:10:58.179Z"
   },
   {
    "duration": 101,
    "start_time": "2022-01-18T10:10:59.122Z"
   },
   {
    "duration": 120,
    "start_time": "2022-01-18T10:10:59.923Z"
   },
   {
    "duration": 31,
    "start_time": "2022-01-18T10:11:00.815Z"
   },
   {
    "duration": 838,
    "start_time": "2022-01-18T10:11:02.496Z"
   },
   {
    "duration": 91,
    "start_time": "2022-01-18T10:11:04.380Z"
   },
   {
    "duration": 133,
    "start_time": "2022-01-18T10:11:05.530Z"
   },
   {
    "duration": 199,
    "start_time": "2022-01-18T10:11:07.745Z"
   },
   {
    "duration": 229,
    "start_time": "2022-01-18T10:11:09.071Z"
   },
   {
    "duration": 365,
    "start_time": "2022-01-18T10:11:12.248Z"
   },
   {
    "duration": 321,
    "start_time": "2022-01-18T10:11:14.624Z"
   },
   {
    "duration": 90,
    "start_time": "2022-01-18T10:11:25.576Z"
   },
   {
    "duration": 721,
    "start_time": "2022-01-18T10:11:42.272Z"
   },
   {
    "duration": 18,
    "start_time": "2022-01-18T10:19:58.075Z"
   },
   {
    "duration": 809,
    "start_time": "2022-01-18T10:20:01.759Z"
   },
   {
    "duration": 680,
    "start_time": "2022-01-18T10:20:06.754Z"
   },
   {
    "duration": 2856,
    "start_time": "2022-01-18T10:20:11.242Z"
   },
   {
    "duration": 3995,
    "start_time": "2022-01-18T10:20:29.486Z"
   },
   {
    "duration": 2,
    "start_time": "2022-01-18T10:20:49.258Z"
   },
   {
    "duration": 4324,
    "start_time": "2022-01-18T10:20:53.466Z"
   },
   {
    "duration": 703,
    "start_time": "2022-01-18T10:24:07.223Z"
   },
   {
    "duration": 3,
    "start_time": "2022-01-18T10:25:01.353Z"
   },
   {
    "duration": 22554,
    "start_time": "2022-01-18T10:25:08.991Z"
   },
   {
    "duration": 366,
    "start_time": "2022-01-18T10:25:38.138Z"
   },
   {
    "duration": 1534,
    "start_time": "2022-01-18T10:26:46.941Z"
   },
   {
    "duration": 1461,
    "start_time": "2022-01-18T10:29:09.236Z"
   },
   {
    "duration": 20950,
    "start_time": "2022-01-18T10:29:28.491Z"
   },
   {
    "duration": 23,
    "start_time": "2022-01-18T10:29:55.804Z"
   },
   {
    "duration": 5,
    "start_time": "2022-01-18T10:30:02.871Z"
   },
   {
    "duration": 229,
    "start_time": "2022-01-18T10:30:11.928Z"
   },
   {
    "duration": 5,
    "start_time": "2022-01-18T10:30:37.536Z"
   },
   {
    "duration": 196,
    "start_time": "2022-01-18T10:30:51.658Z"
   },
   {
    "duration": 2,
    "start_time": "2022-01-18T10:34:47.956Z"
   },
   {
    "duration": 323,
    "start_time": "2022-01-18T10:35:00.521Z"
   },
   {
    "duration": 71,
    "start_time": "2022-01-18T10:35:02.171Z"
   },
   {
    "duration": 5,
    "start_time": "2022-01-18T10:35:03.463Z"
   },
   {
    "duration": 196267,
    "start_time": "2022-01-18T10:35:28.357Z"
   },
   {
    "duration": 138869,
    "start_time": "2022-01-18T10:39:15.642Z"
   },
   {
    "duration": 1488,
    "start_time": "2022-01-18T10:42:09.998Z"
   },
   {
    "duration": 116,
    "start_time": "2022-01-18T10:42:11.488Z"
   },
   {
    "duration": 5,
    "start_time": "2022-01-18T10:42:14.528Z"
   },
   {
    "duration": 1450,
    "start_time": "2022-01-18T10:42:22.465Z"
   },
   {
    "duration": 104,
    "start_time": "2022-01-18T10:42:25.908Z"
   },
   {
    "duration": 4,
    "start_time": "2022-01-18T10:42:26.860Z"
   },
   {
    "duration": 204393,
    "start_time": "2022-01-18T10:43:01.294Z"
   },
   {
    "duration": 1502,
    "start_time": "2022-01-18T10:46:38.293Z"
   },
   {
    "duration": 108,
    "start_time": "2022-01-18T10:46:39.797Z"
   },
   {
    "duration": 4,
    "start_time": "2022-01-18T10:46:39.926Z"
   },
   {
    "duration": 4,
    "start_time": "2022-01-18T10:46:45.642Z"
   },
   {
    "duration": 36857,
    "start_time": "2022-01-18T10:47:10.501Z"
   },
   {
    "duration": 837,
    "start_time": "2022-01-18T10:48:01.355Z"
   },
   {
    "duration": 20,
    "start_time": "2022-01-18T10:48:03.556Z"
   },
   {
    "duration": 5,
    "start_time": "2022-01-18T10:48:05.708Z"
   },
   {
    "duration": 4,
    "start_time": "2022-01-18T10:48:07.114Z"
   },
   {
    "duration": 838992,
    "start_time": "2022-01-18T10:48:22.161Z"
   },
   {
    "duration": 20882,
    "start_time": "2022-01-18T12:13:27.768Z"
   },
   {
    "duration": 230,
    "start_time": "2022-01-18T12:14:04.207Z"
   },
   {
    "duration": 210,
    "start_time": "2022-01-18T12:14:33.044Z"
   },
   {
    "duration": 225,
    "start_time": "2022-01-18T12:22:20.413Z"
   },
   {
    "duration": 468,
    "start_time": "2022-01-18T12:22:38.462Z"
   },
   {
    "duration": 5,
    "start_time": "2022-01-18T12:22:40.488Z"
   },
   {
    "duration": 12,
    "start_time": "2022-01-18T12:22:45.373Z"
   },
   {
    "duration": 344331,
    "start_time": "2022-01-18T12:23:08.763Z"
   },
   {
    "duration": 9289,
    "start_time": "2022-01-18T12:30:57.387Z"
   },
   {
    "duration": 369,
    "start_time": "2022-01-18T12:31:10.985Z"
   },
   {
    "duration": 4,
    "start_time": "2022-01-18T12:31:12.770Z"
   },
   {
    "duration": 27,
    "start_time": "2022-01-18T12:31:15.498Z"
   },
   {
    "duration": 170496,
    "start_time": "2022-01-18T12:33:42.456Z"
   },
   {
    "duration": 20686,
    "start_time": "2022-01-18T12:38:35.929Z"
   },
   {
    "duration": 131,
    "start_time": "2022-01-18T12:39:02.835Z"
   },
   {
    "duration": 4,
    "start_time": "2022-01-18T12:39:06.081Z"
   },
   {
    "duration": 4,
    "start_time": "2022-01-18T12:39:22.710Z"
   },
   {
    "duration": 176691,
    "start_time": "2022-01-18T12:40:06.333Z"
   },
   {
    "duration": 311432,
    "start_time": "2022-01-18T12:46:29.318Z"
   },
   {
    "duration": 9971,
    "start_time": "2022-01-18T12:52:30.081Z"
   },
   {
    "duration": 335,
    "start_time": "2022-01-18T12:53:11.515Z"
   },
   {
    "duration": 4,
    "start_time": "2022-01-18T12:53:12.917Z"
   },
   {
    "duration": 193,
    "start_time": "2022-01-18T12:53:20.360Z"
   },
   {
    "duration": 4,
    "start_time": "2022-01-18T12:53:37.834Z"
   },
   {
    "duration": 7,
    "start_time": "2022-01-18T12:53:41.557Z"
   },
   {
    "duration": 4,
    "start_time": "2022-01-18T12:53:42.929Z"
   },
   {
    "duration": 5,
    "start_time": "2022-01-18T12:53:44.204Z"
   },
   {
    "duration": 198,
    "start_time": "2022-01-18T12:53:57.052Z"
   },
   {
    "duration": 201,
    "start_time": "2022-01-18T12:55:13.044Z"
   },
   {
    "duration": 15,
    "start_time": "2022-01-18T12:55:36.392Z"
   },
   {
    "duration": 13,
    "start_time": "2022-01-18T12:56:03.782Z"
   },
   {
    "duration": 12,
    "start_time": "2022-01-18T12:56:58.152Z"
   },
   {
    "duration": 191,
    "start_time": "2022-01-18T12:58:08.647Z"
   },
   {
    "duration": 10,
    "start_time": "2022-01-18T12:58:23.295Z"
   },
   {
    "duration": 129,
    "start_time": "2022-01-18T13:03:31.644Z"
   },
   {
    "duration": 72,
    "start_time": "2022-01-18T13:04:02.462Z"
   },
   {
    "duration": 276,
    "start_time": "2022-01-18T13:04:21.644Z"
   },
   {
    "duration": 221,
    "start_time": "2022-01-18T13:05:31.418Z"
   },
   {
    "duration": 199,
    "start_time": "2022-01-18T13:05:53.566Z"
   },
   {
    "duration": 196,
    "start_time": "2022-01-18T13:06:49.171Z"
   },
   {
    "duration": 12,
    "start_time": "2022-01-18T13:07:12.885Z"
   },
   {
    "duration": 13,
    "start_time": "2022-01-18T13:07:42.100Z"
   },
   {
    "duration": 17,
    "start_time": "2022-01-18T13:08:10.013Z"
   },
   {
    "duration": 8,
    "start_time": "2022-01-18T13:09:29.874Z"
   },
   {
    "duration": 365,
    "start_time": "2022-01-18T13:14:25.381Z"
   },
   {
    "duration": 5,
    "start_time": "2022-01-18T13:14:27.216Z"
   },
   {
    "duration": 4,
    "start_time": "2022-01-18T13:14:34.055Z"
   },
   {
    "duration": 8,
    "start_time": "2022-01-18T13:14:35.120Z"
   },
   {
    "duration": 5,
    "start_time": "2022-01-18T13:14:35.293Z"
   },
   {
    "duration": 4,
    "start_time": "2022-01-18T13:14:35.856Z"
   },
   {
    "duration": 13,
    "start_time": "2022-01-18T13:14:37.081Z"
   },
   {
    "duration": 19,
    "start_time": "2022-01-18T13:14:45.173Z"
   },
   {
    "duration": 359,
    "start_time": "2022-01-18T13:15:28.793Z"
   },
   {
    "duration": 436,
    "start_time": "2022-01-18T13:18:16.127Z"
   },
   {
    "duration": 664,
    "start_time": "2022-01-18T13:20:03.742Z"
   },
   {
    "duration": 392,
    "start_time": "2022-01-18T13:20:31.666Z"
   },
   {
    "duration": 730,
    "start_time": "2022-01-18T13:21:56.325Z"
   },
   {
    "duration": 700,
    "start_time": "2022-01-18T13:22:22.050Z"
   },
   {
    "duration": 224,
    "start_time": "2022-01-18T13:23:12.369Z"
   },
   {
    "duration": 23,
    "start_time": "2022-01-18T13:29:38.137Z"
   },
   {
    "duration": 232,
    "start_time": "2022-01-18T13:29:47.010Z"
   },
   {
    "duration": 250,
    "start_time": "2022-01-18T13:30:03.337Z"
   },
   {
    "duration": 233,
    "start_time": "2022-01-18T13:30:12.129Z"
   },
   {
    "duration": 467,
    "start_time": "2022-01-18T13:40:41.328Z"
   },
   {
    "duration": 208,
    "start_time": "2022-01-18T13:41:14.369Z"
   },
   {
    "duration": 4,
    "start_time": "2022-01-19T09:52:12.381Z"
   }
  ],
  "kernelspec": {
   "display_name": "Python 3",
   "language": "python",
   "name": "python3"
  },
  "language_info": {
   "codemirror_mode": {
    "name": "ipython",
    "version": 3
   },
   "file_extension": ".py",
   "mimetype": "text/x-python",
   "name": "python",
   "nbconvert_exporter": "python",
   "pygments_lexer": "ipython3",
   "version": "3.7.8"
  },
  "toc": {
   "base_numbering": 1,
   "nav_menu": {},
   "number_sections": true,
   "sideBar": true,
   "skip_h1_title": true,
   "title_cell": "Table of Contents",
   "title_sidebar": "Contents",
   "toc_cell": false,
   "toc_position": {},
   "toc_section_display": true,
   "toc_window_display": false
  }
 },
 "nbformat": 4,
 "nbformat_minor": 2
}

{
 "cells": [
  {
   "cell_type": "markdown",
   "metadata": {},
   "source": [
    "Шаги исследования:\n",
    "1. [Открытие данных](#start)\n",
    "2. [Предобработка данных](#preprocessing)\n",
    "3. [Подготовка данных о пользователе](#user)\n",
    "4. [Анализ данных пользователя](#analisys)\n",
    "5. [Проверка гипотез](#hypothesis)\n",
    "6. [Общий вывод](#output)"
   ]
  },
  {
   "cell_type": "markdown",
   "metadata": {},
   "source": [
    "<div style=\"border:solid blue 2px; padding: 20px\"> \n",
    "<a id=\"start\">Шаг 1. Открываем файл с данными и изучаем общую информациюх</a>\n",
    "</div>"
   ]
  },
  {
   "cell_type": "code",
   "execution_count": 1,
   "metadata": {},
   "outputs": [
    {
     "name": "stdout",
     "output_type": "stream",
     "text": [
      "1. Calls\n"
     ]
    },
    {
     "data": {
      "text/html": [
       "<div>\n",
       "<style scoped>\n",
       "    .dataframe tbody tr th:only-of-type {\n",
       "        vertical-align: middle;\n",
       "    }\n",
       "\n",
       "    .dataframe tbody tr th {\n",
       "        vertical-align: top;\n",
       "    }\n",
       "\n",
       "    .dataframe thead th {\n",
       "        text-align: right;\n",
       "    }\n",
       "</style>\n",
       "<table border=\"1\" class=\"dataframe\">\n",
       "  <thead>\n",
       "    <tr style=\"text-align: right;\">\n",
       "      <th></th>\n",
       "      <th>id</th>\n",
       "      <th>call_date</th>\n",
       "      <th>duration</th>\n",
       "      <th>user_id</th>\n",
       "    </tr>\n",
       "  </thead>\n",
       "  <tbody>\n",
       "    <tr>\n",
       "      <td>0</td>\n",
       "      <td>1000_0</td>\n",
       "      <td>2018-07-25</td>\n",
       "      <td>0.00</td>\n",
       "      <td>1000</td>\n",
       "    </tr>\n",
       "    <tr>\n",
       "      <td>1</td>\n",
       "      <td>1000_1</td>\n",
       "      <td>2018-08-17</td>\n",
       "      <td>0.00</td>\n",
       "      <td>1000</td>\n",
       "    </tr>\n",
       "    <tr>\n",
       "      <td>2</td>\n",
       "      <td>1000_2</td>\n",
       "      <td>2018-06-11</td>\n",
       "      <td>2.85</td>\n",
       "      <td>1000</td>\n",
       "    </tr>\n",
       "    <tr>\n",
       "      <td>3</td>\n",
       "      <td>1000_3</td>\n",
       "      <td>2018-09-21</td>\n",
       "      <td>13.80</td>\n",
       "      <td>1000</td>\n",
       "    </tr>\n",
       "    <tr>\n",
       "      <td>4</td>\n",
       "      <td>1000_4</td>\n",
       "      <td>2018-12-15</td>\n",
       "      <td>5.18</td>\n",
       "      <td>1000</td>\n",
       "    </tr>\n",
       "  </tbody>\n",
       "</table>\n",
       "</div>"
      ],
      "text/plain": [
       "       id   call_date  duration  user_id\n",
       "0  1000_0  2018-07-25      0.00     1000\n",
       "1  1000_1  2018-08-17      0.00     1000\n",
       "2  1000_2  2018-06-11      2.85     1000\n",
       "3  1000_3  2018-09-21     13.80     1000\n",
       "4  1000_4  2018-12-15      5.18     1000"
      ]
     },
     "metadata": {},
     "output_type": "display_data"
    },
    {
     "data": {
      "text/html": [
       "<div>\n",
       "<style scoped>\n",
       "    .dataframe tbody tr th:only-of-type {\n",
       "        vertical-align: middle;\n",
       "    }\n",
       "\n",
       "    .dataframe tbody tr th {\n",
       "        vertical-align: top;\n",
       "    }\n",
       "\n",
       "    .dataframe thead th {\n",
       "        text-align: right;\n",
       "    }\n",
       "</style>\n",
       "<table border=\"1\" class=\"dataframe\">\n",
       "  <thead>\n",
       "    <tr style=\"text-align: right;\">\n",
       "      <th></th>\n",
       "      <th>duration</th>\n",
       "      <th>user_id</th>\n",
       "    </tr>\n",
       "  </thead>\n",
       "  <tbody>\n",
       "    <tr>\n",
       "      <td>count</td>\n",
       "      <td>202607.000000</td>\n",
       "      <td>202607.000000</td>\n",
       "    </tr>\n",
       "    <tr>\n",
       "      <td>mean</td>\n",
       "      <td>6.755887</td>\n",
       "      <td>1253.940619</td>\n",
       "    </tr>\n",
       "    <tr>\n",
       "      <td>std</td>\n",
       "      <td>5.843365</td>\n",
       "      <td>144.722751</td>\n",
       "    </tr>\n",
       "    <tr>\n",
       "      <td>min</td>\n",
       "      <td>0.000000</td>\n",
       "      <td>1000.000000</td>\n",
       "    </tr>\n",
       "    <tr>\n",
       "      <td>25%</td>\n",
       "      <td>1.300000</td>\n",
       "      <td>1126.000000</td>\n",
       "    </tr>\n",
       "    <tr>\n",
       "      <td>50%</td>\n",
       "      <td>6.000000</td>\n",
       "      <td>1260.000000</td>\n",
       "    </tr>\n",
       "    <tr>\n",
       "      <td>75%</td>\n",
       "      <td>10.700000</td>\n",
       "      <td>1379.000000</td>\n",
       "    </tr>\n",
       "    <tr>\n",
       "      <td>max</td>\n",
       "      <td>38.000000</td>\n",
       "      <td>1499.000000</td>\n",
       "    </tr>\n",
       "  </tbody>\n",
       "</table>\n",
       "</div>"
      ],
      "text/plain": [
       "            duration        user_id\n",
       "count  202607.000000  202607.000000\n",
       "mean        6.755887    1253.940619\n",
       "std         5.843365     144.722751\n",
       "min         0.000000    1000.000000\n",
       "25%         1.300000    1126.000000\n",
       "50%         6.000000    1260.000000\n",
       "75%        10.700000    1379.000000\n",
       "max        38.000000    1499.000000"
      ]
     },
     "metadata": {},
     "output_type": "display_data"
    },
    {
     "name": "stdout",
     "output_type": "stream",
     "text": [
      "<class 'pandas.core.frame.DataFrame'>\n",
      "RangeIndex: 202607 entries, 0 to 202606\n",
      "Data columns (total 4 columns):\n",
      "id           202607 non-null object\n",
      "call_date    202607 non-null object\n",
      "duration     202607 non-null float64\n",
      "user_id      202607 non-null int64\n",
      "dtypes: float64(1), int64(1), object(2)\n",
      "memory usage: 6.2+ MB\n",
      "2. Internet\n"
     ]
    },
    {
     "data": {
      "text/html": [
       "<div>\n",
       "<style scoped>\n",
       "    .dataframe tbody tr th:only-of-type {\n",
       "        vertical-align: middle;\n",
       "    }\n",
       "\n",
       "    .dataframe tbody tr th {\n",
       "        vertical-align: top;\n",
       "    }\n",
       "\n",
       "    .dataframe thead th {\n",
       "        text-align: right;\n",
       "    }\n",
       "</style>\n",
       "<table border=\"1\" class=\"dataframe\">\n",
       "  <thead>\n",
       "    <tr style=\"text-align: right;\">\n",
       "      <th></th>\n",
       "      <th>Unnamed: 0</th>\n",
       "      <th>id</th>\n",
       "      <th>mb_used</th>\n",
       "      <th>session_date</th>\n",
       "      <th>user_id</th>\n",
       "    </tr>\n",
       "  </thead>\n",
       "  <tbody>\n",
       "    <tr>\n",
       "      <td>0</td>\n",
       "      <td>0</td>\n",
       "      <td>1000_0</td>\n",
       "      <td>112.95</td>\n",
       "      <td>2018-11-25</td>\n",
       "      <td>1000</td>\n",
       "    </tr>\n",
       "    <tr>\n",
       "      <td>1</td>\n",
       "      <td>1</td>\n",
       "      <td>1000_1</td>\n",
       "      <td>1052.81</td>\n",
       "      <td>2018-09-07</td>\n",
       "      <td>1000</td>\n",
       "    </tr>\n",
       "    <tr>\n",
       "      <td>2</td>\n",
       "      <td>2</td>\n",
       "      <td>1000_2</td>\n",
       "      <td>1197.26</td>\n",
       "      <td>2018-06-25</td>\n",
       "      <td>1000</td>\n",
       "    </tr>\n",
       "    <tr>\n",
       "      <td>3</td>\n",
       "      <td>3</td>\n",
       "      <td>1000_3</td>\n",
       "      <td>550.27</td>\n",
       "      <td>2018-08-22</td>\n",
       "      <td>1000</td>\n",
       "    </tr>\n",
       "    <tr>\n",
       "      <td>4</td>\n",
       "      <td>4</td>\n",
       "      <td>1000_4</td>\n",
       "      <td>302.56</td>\n",
       "      <td>2018-09-24</td>\n",
       "      <td>1000</td>\n",
       "    </tr>\n",
       "  </tbody>\n",
       "</table>\n",
       "</div>"
      ],
      "text/plain": [
       "   Unnamed: 0      id  mb_used session_date  user_id\n",
       "0           0  1000_0   112.95   2018-11-25     1000\n",
       "1           1  1000_1  1052.81   2018-09-07     1000\n",
       "2           2  1000_2  1197.26   2018-06-25     1000\n",
       "3           3  1000_3   550.27   2018-08-22     1000\n",
       "4           4  1000_4   302.56   2018-09-24     1000"
      ]
     },
     "metadata": {},
     "output_type": "display_data"
    },
    {
     "data": {
      "text/html": [
       "<div>\n",
       "<style scoped>\n",
       "    .dataframe tbody tr th:only-of-type {\n",
       "        vertical-align: middle;\n",
       "    }\n",
       "\n",
       "    .dataframe tbody tr th {\n",
       "        vertical-align: top;\n",
       "    }\n",
       "\n",
       "    .dataframe thead th {\n",
       "        text-align: right;\n",
       "    }\n",
       "</style>\n",
       "<table border=\"1\" class=\"dataframe\">\n",
       "  <thead>\n",
       "    <tr style=\"text-align: right;\">\n",
       "      <th></th>\n",
       "      <th>Unnamed: 0</th>\n",
       "      <th>mb_used</th>\n",
       "      <th>user_id</th>\n",
       "    </tr>\n",
       "  </thead>\n",
       "  <tbody>\n",
       "    <tr>\n",
       "      <td>count</td>\n",
       "      <td>149396.000000</td>\n",
       "      <td>149396.000000</td>\n",
       "      <td>149396.000000</td>\n",
       "    </tr>\n",
       "    <tr>\n",
       "      <td>mean</td>\n",
       "      <td>74697.500000</td>\n",
       "      <td>370.192426</td>\n",
       "      <td>1252.099842</td>\n",
       "    </tr>\n",
       "    <tr>\n",
       "      <td>std</td>\n",
       "      <td>43127.054745</td>\n",
       "      <td>278.300951</td>\n",
       "      <td>144.050823</td>\n",
       "    </tr>\n",
       "    <tr>\n",
       "      <td>min</td>\n",
       "      <td>0.000000</td>\n",
       "      <td>0.000000</td>\n",
       "      <td>1000.000000</td>\n",
       "    </tr>\n",
       "    <tr>\n",
       "      <td>25%</td>\n",
       "      <td>37348.750000</td>\n",
       "      <td>138.187500</td>\n",
       "      <td>1130.000000</td>\n",
       "    </tr>\n",
       "    <tr>\n",
       "      <td>50%</td>\n",
       "      <td>74697.500000</td>\n",
       "      <td>348.015000</td>\n",
       "      <td>1251.000000</td>\n",
       "    </tr>\n",
       "    <tr>\n",
       "      <td>75%</td>\n",
       "      <td>112046.250000</td>\n",
       "      <td>559.552500</td>\n",
       "      <td>1380.000000</td>\n",
       "    </tr>\n",
       "    <tr>\n",
       "      <td>max</td>\n",
       "      <td>149395.000000</td>\n",
       "      <td>1724.830000</td>\n",
       "      <td>1499.000000</td>\n",
       "    </tr>\n",
       "  </tbody>\n",
       "</table>\n",
       "</div>"
      ],
      "text/plain": [
       "          Unnamed: 0        mb_used        user_id\n",
       "count  149396.000000  149396.000000  149396.000000\n",
       "mean    74697.500000     370.192426    1252.099842\n",
       "std     43127.054745     278.300951     144.050823\n",
       "min         0.000000       0.000000    1000.000000\n",
       "25%     37348.750000     138.187500    1130.000000\n",
       "50%     74697.500000     348.015000    1251.000000\n",
       "75%    112046.250000     559.552500    1380.000000\n",
       "max    149395.000000    1724.830000    1499.000000"
      ]
     },
     "metadata": {},
     "output_type": "display_data"
    },
    {
     "name": "stdout",
     "output_type": "stream",
     "text": [
      "<class 'pandas.core.frame.DataFrame'>\n",
      "RangeIndex: 149396 entries, 0 to 149395\n",
      "Data columns (total 5 columns):\n",
      "Unnamed: 0      149396 non-null int64\n",
      "id              149396 non-null object\n",
      "mb_used         149396 non-null float64\n",
      "session_date    149396 non-null object\n",
      "user_id         149396 non-null int64\n",
      "dtypes: float64(1), int64(2), object(2)\n",
      "memory usage: 5.7+ MB\n",
      "3. Messages\n"
     ]
    },
    {
     "data": {
      "text/html": [
       "<div>\n",
       "<style scoped>\n",
       "    .dataframe tbody tr th:only-of-type {\n",
       "        vertical-align: middle;\n",
       "    }\n",
       "\n",
       "    .dataframe tbody tr th {\n",
       "        vertical-align: top;\n",
       "    }\n",
       "\n",
       "    .dataframe thead th {\n",
       "        text-align: right;\n",
       "    }\n",
       "</style>\n",
       "<table border=\"1\" class=\"dataframe\">\n",
       "  <thead>\n",
       "    <tr style=\"text-align: right;\">\n",
       "      <th></th>\n",
       "      <th>id</th>\n",
       "      <th>message_date</th>\n",
       "      <th>user_id</th>\n",
       "    </tr>\n",
       "  </thead>\n",
       "  <tbody>\n",
       "    <tr>\n",
       "      <td>0</td>\n",
       "      <td>1000_0</td>\n",
       "      <td>2018-06-27</td>\n",
       "      <td>1000</td>\n",
       "    </tr>\n",
       "    <tr>\n",
       "      <td>1</td>\n",
       "      <td>1000_1</td>\n",
       "      <td>2018-10-08</td>\n",
       "      <td>1000</td>\n",
       "    </tr>\n",
       "    <tr>\n",
       "      <td>2</td>\n",
       "      <td>1000_2</td>\n",
       "      <td>2018-08-04</td>\n",
       "      <td>1000</td>\n",
       "    </tr>\n",
       "    <tr>\n",
       "      <td>3</td>\n",
       "      <td>1000_3</td>\n",
       "      <td>2018-06-16</td>\n",
       "      <td>1000</td>\n",
       "    </tr>\n",
       "    <tr>\n",
       "      <td>4</td>\n",
       "      <td>1000_4</td>\n",
       "      <td>2018-12-05</td>\n",
       "      <td>1000</td>\n",
       "    </tr>\n",
       "  </tbody>\n",
       "</table>\n",
       "</div>"
      ],
      "text/plain": [
       "       id message_date  user_id\n",
       "0  1000_0   2018-06-27     1000\n",
       "1  1000_1   2018-10-08     1000\n",
       "2  1000_2   2018-08-04     1000\n",
       "3  1000_3   2018-06-16     1000\n",
       "4  1000_4   2018-12-05     1000"
      ]
     },
     "metadata": {},
     "output_type": "display_data"
    },
    {
     "data": {
      "text/html": [
       "<div>\n",
       "<style scoped>\n",
       "    .dataframe tbody tr th:only-of-type {\n",
       "        vertical-align: middle;\n",
       "    }\n",
       "\n",
       "    .dataframe tbody tr th {\n",
       "        vertical-align: top;\n",
       "    }\n",
       "\n",
       "    .dataframe thead th {\n",
       "        text-align: right;\n",
       "    }\n",
       "</style>\n",
       "<table border=\"1\" class=\"dataframe\">\n",
       "  <thead>\n",
       "    <tr style=\"text-align: right;\">\n",
       "      <th></th>\n",
       "      <th>user_id</th>\n",
       "    </tr>\n",
       "  </thead>\n",
       "  <tbody>\n",
       "    <tr>\n",
       "      <td>count</td>\n",
       "      <td>123036.000000</td>\n",
       "    </tr>\n",
       "    <tr>\n",
       "      <td>mean</td>\n",
       "      <td>1256.989410</td>\n",
       "    </tr>\n",
       "    <tr>\n",
       "      <td>std</td>\n",
       "      <td>143.523967</td>\n",
       "    </tr>\n",
       "    <tr>\n",
       "      <td>min</td>\n",
       "      <td>1000.000000</td>\n",
       "    </tr>\n",
       "    <tr>\n",
       "      <td>25%</td>\n",
       "      <td>1134.000000</td>\n",
       "    </tr>\n",
       "    <tr>\n",
       "      <td>50%</td>\n",
       "      <td>1271.000000</td>\n",
       "    </tr>\n",
       "    <tr>\n",
       "      <td>75%</td>\n",
       "      <td>1381.000000</td>\n",
       "    </tr>\n",
       "    <tr>\n",
       "      <td>max</td>\n",
       "      <td>1499.000000</td>\n",
       "    </tr>\n",
       "  </tbody>\n",
       "</table>\n",
       "</div>"
      ],
      "text/plain": [
       "             user_id\n",
       "count  123036.000000\n",
       "mean     1256.989410\n",
       "std       143.523967\n",
       "min      1000.000000\n",
       "25%      1134.000000\n",
       "50%      1271.000000\n",
       "75%      1381.000000\n",
       "max      1499.000000"
      ]
     },
     "metadata": {},
     "output_type": "display_data"
    },
    {
     "name": "stdout",
     "output_type": "stream",
     "text": [
      "<class 'pandas.core.frame.DataFrame'>\n",
      "RangeIndex: 123036 entries, 0 to 123035\n",
      "Data columns (total 3 columns):\n",
      "id              123036 non-null object\n",
      "message_date    123036 non-null object\n",
      "user_id         123036 non-null int64\n",
      "dtypes: int64(1), object(2)\n",
      "memory usage: 2.8+ MB\n",
      "4. Tariffs\n"
     ]
    },
    {
     "data": {
      "text/html": [
       "<div>\n",
       "<style scoped>\n",
       "    .dataframe tbody tr th:only-of-type {\n",
       "        vertical-align: middle;\n",
       "    }\n",
       "\n",
       "    .dataframe tbody tr th {\n",
       "        vertical-align: top;\n",
       "    }\n",
       "\n",
       "    .dataframe thead th {\n",
       "        text-align: right;\n",
       "    }\n",
       "</style>\n",
       "<table border=\"1\" class=\"dataframe\">\n",
       "  <thead>\n",
       "    <tr style=\"text-align: right;\">\n",
       "      <th></th>\n",
       "      <th>messages_included</th>\n",
       "      <th>mb_per_month_included</th>\n",
       "      <th>minutes_included</th>\n",
       "      <th>rub_monthly_fee</th>\n",
       "      <th>rub_per_gb</th>\n",
       "      <th>rub_per_message</th>\n",
       "      <th>rub_per_minute</th>\n",
       "      <th>tariff_name</th>\n",
       "    </tr>\n",
       "  </thead>\n",
       "  <tbody>\n",
       "    <tr>\n",
       "      <td>0</td>\n",
       "      <td>50</td>\n",
       "      <td>15360</td>\n",
       "      <td>500</td>\n",
       "      <td>550</td>\n",
       "      <td>200</td>\n",
       "      <td>3</td>\n",
       "      <td>3</td>\n",
       "      <td>smart</td>\n",
       "    </tr>\n",
       "    <tr>\n",
       "      <td>1</td>\n",
       "      <td>1000</td>\n",
       "      <td>30720</td>\n",
       "      <td>3000</td>\n",
       "      <td>1950</td>\n",
       "      <td>150</td>\n",
       "      <td>1</td>\n",
       "      <td>1</td>\n",
       "      <td>ultra</td>\n",
       "    </tr>\n",
       "  </tbody>\n",
       "</table>\n",
       "</div>"
      ],
      "text/plain": [
       "   messages_included  mb_per_month_included  minutes_included  \\\n",
       "0                 50                  15360               500   \n",
       "1               1000                  30720              3000   \n",
       "\n",
       "   rub_monthly_fee  rub_per_gb  rub_per_message  rub_per_minute tariff_name  \n",
       "0              550         200                3               3       smart  \n",
       "1             1950         150                1               1       ultra  "
      ]
     },
     "metadata": {},
     "output_type": "display_data"
    },
    {
     "data": {
      "text/html": [
       "<div>\n",
       "<style scoped>\n",
       "    .dataframe tbody tr th:only-of-type {\n",
       "        vertical-align: middle;\n",
       "    }\n",
       "\n",
       "    .dataframe tbody tr th {\n",
       "        vertical-align: top;\n",
       "    }\n",
       "\n",
       "    .dataframe thead th {\n",
       "        text-align: right;\n",
       "    }\n",
       "</style>\n",
       "<table border=\"1\" class=\"dataframe\">\n",
       "  <thead>\n",
       "    <tr style=\"text-align: right;\">\n",
       "      <th></th>\n",
       "      <th>messages_included</th>\n",
       "      <th>mb_per_month_included</th>\n",
       "      <th>minutes_included</th>\n",
       "      <th>rub_monthly_fee</th>\n",
       "      <th>rub_per_gb</th>\n",
       "      <th>rub_per_message</th>\n",
       "      <th>rub_per_minute</th>\n",
       "    </tr>\n",
       "  </thead>\n",
       "  <tbody>\n",
       "    <tr>\n",
       "      <td>count</td>\n",
       "      <td>2.000000</td>\n",
       "      <td>2.000000</td>\n",
       "      <td>2.000000</td>\n",
       "      <td>2.000000</td>\n",
       "      <td>2.000000</td>\n",
       "      <td>2.000000</td>\n",
       "      <td>2.000000</td>\n",
       "    </tr>\n",
       "    <tr>\n",
       "      <td>mean</td>\n",
       "      <td>525.000000</td>\n",
       "      <td>23040.000000</td>\n",
       "      <td>1750.000000</td>\n",
       "      <td>1250.000000</td>\n",
       "      <td>175.000000</td>\n",
       "      <td>2.000000</td>\n",
       "      <td>2.000000</td>\n",
       "    </tr>\n",
       "    <tr>\n",
       "      <td>std</td>\n",
       "      <td>671.751442</td>\n",
       "      <td>10861.160159</td>\n",
       "      <td>1767.766953</td>\n",
       "      <td>989.949494</td>\n",
       "      <td>35.355339</td>\n",
       "      <td>1.414214</td>\n",
       "      <td>1.414214</td>\n",
       "    </tr>\n",
       "    <tr>\n",
       "      <td>min</td>\n",
       "      <td>50.000000</td>\n",
       "      <td>15360.000000</td>\n",
       "      <td>500.000000</td>\n",
       "      <td>550.000000</td>\n",
       "      <td>150.000000</td>\n",
       "      <td>1.000000</td>\n",
       "      <td>1.000000</td>\n",
       "    </tr>\n",
       "    <tr>\n",
       "      <td>25%</td>\n",
       "      <td>287.500000</td>\n",
       "      <td>19200.000000</td>\n",
       "      <td>1125.000000</td>\n",
       "      <td>900.000000</td>\n",
       "      <td>162.500000</td>\n",
       "      <td>1.500000</td>\n",
       "      <td>1.500000</td>\n",
       "    </tr>\n",
       "    <tr>\n",
       "      <td>50%</td>\n",
       "      <td>525.000000</td>\n",
       "      <td>23040.000000</td>\n",
       "      <td>1750.000000</td>\n",
       "      <td>1250.000000</td>\n",
       "      <td>175.000000</td>\n",
       "      <td>2.000000</td>\n",
       "      <td>2.000000</td>\n",
       "    </tr>\n",
       "    <tr>\n",
       "      <td>75%</td>\n",
       "      <td>762.500000</td>\n",
       "      <td>26880.000000</td>\n",
       "      <td>2375.000000</td>\n",
       "      <td>1600.000000</td>\n",
       "      <td>187.500000</td>\n",
       "      <td>2.500000</td>\n",
       "      <td>2.500000</td>\n",
       "    </tr>\n",
       "    <tr>\n",
       "      <td>max</td>\n",
       "      <td>1000.000000</td>\n",
       "      <td>30720.000000</td>\n",
       "      <td>3000.000000</td>\n",
       "      <td>1950.000000</td>\n",
       "      <td>200.000000</td>\n",
       "      <td>3.000000</td>\n",
       "      <td>3.000000</td>\n",
       "    </tr>\n",
       "  </tbody>\n",
       "</table>\n",
       "</div>"
      ],
      "text/plain": [
       "       messages_included  mb_per_month_included  minutes_included  \\\n",
       "count           2.000000               2.000000          2.000000   \n",
       "mean          525.000000           23040.000000       1750.000000   \n",
       "std           671.751442           10861.160159       1767.766953   \n",
       "min            50.000000           15360.000000        500.000000   \n",
       "25%           287.500000           19200.000000       1125.000000   \n",
       "50%           525.000000           23040.000000       1750.000000   \n",
       "75%           762.500000           26880.000000       2375.000000   \n",
       "max          1000.000000           30720.000000       3000.000000   \n",
       "\n",
       "       rub_monthly_fee  rub_per_gb  rub_per_message  rub_per_minute  \n",
       "count         2.000000    2.000000         2.000000        2.000000  \n",
       "mean       1250.000000  175.000000         2.000000        2.000000  \n",
       "std         989.949494   35.355339         1.414214        1.414214  \n",
       "min         550.000000  150.000000         1.000000        1.000000  \n",
       "25%         900.000000  162.500000         1.500000        1.500000  \n",
       "50%        1250.000000  175.000000         2.000000        2.000000  \n",
       "75%        1600.000000  187.500000         2.500000        2.500000  \n",
       "max        1950.000000  200.000000         3.000000        3.000000  "
      ]
     },
     "metadata": {},
     "output_type": "display_data"
    },
    {
     "name": "stdout",
     "output_type": "stream",
     "text": [
      "<class 'pandas.core.frame.DataFrame'>\n",
      "RangeIndex: 2 entries, 0 to 1\n",
      "Data columns (total 8 columns):\n",
      "messages_included        2 non-null int64\n",
      "mb_per_month_included    2 non-null int64\n",
      "minutes_included         2 non-null int64\n",
      "rub_monthly_fee          2 non-null int64\n",
      "rub_per_gb               2 non-null int64\n",
      "rub_per_message          2 non-null int64\n",
      "rub_per_minute           2 non-null int64\n",
      "tariff_name              2 non-null object\n",
      "dtypes: int64(7), object(1)\n",
      "memory usage: 256.0+ bytes\n",
      "5. Users\n"
     ]
    },
    {
     "data": {
      "text/html": [
       "<div>\n",
       "<style scoped>\n",
       "    .dataframe tbody tr th:only-of-type {\n",
       "        vertical-align: middle;\n",
       "    }\n",
       "\n",
       "    .dataframe tbody tr th {\n",
       "        vertical-align: top;\n",
       "    }\n",
       "\n",
       "    .dataframe thead th {\n",
       "        text-align: right;\n",
       "    }\n",
       "</style>\n",
       "<table border=\"1\" class=\"dataframe\">\n",
       "  <thead>\n",
       "    <tr style=\"text-align: right;\">\n",
       "      <th></th>\n",
       "      <th>user_id</th>\n",
       "      <th>age</th>\n",
       "      <th>churn_date</th>\n",
       "      <th>city</th>\n",
       "      <th>first_name</th>\n",
       "      <th>last_name</th>\n",
       "      <th>reg_date</th>\n",
       "      <th>tariff</th>\n",
       "    </tr>\n",
       "  </thead>\n",
       "  <tbody>\n",
       "    <tr>\n",
       "      <td>0</td>\n",
       "      <td>1000</td>\n",
       "      <td>52</td>\n",
       "      <td>NaN</td>\n",
       "      <td>Краснодар</td>\n",
       "      <td>Рафаил</td>\n",
       "      <td>Верещагин</td>\n",
       "      <td>2018-05-25</td>\n",
       "      <td>ultra</td>\n",
       "    </tr>\n",
       "    <tr>\n",
       "      <td>1</td>\n",
       "      <td>1001</td>\n",
       "      <td>41</td>\n",
       "      <td>NaN</td>\n",
       "      <td>Москва</td>\n",
       "      <td>Иван</td>\n",
       "      <td>Ежов</td>\n",
       "      <td>2018-11-01</td>\n",
       "      <td>smart</td>\n",
       "    </tr>\n",
       "    <tr>\n",
       "      <td>2</td>\n",
       "      <td>1002</td>\n",
       "      <td>59</td>\n",
       "      <td>NaN</td>\n",
       "      <td>Стерлитамак</td>\n",
       "      <td>Евгений</td>\n",
       "      <td>Абрамович</td>\n",
       "      <td>2018-06-17</td>\n",
       "      <td>smart</td>\n",
       "    </tr>\n",
       "    <tr>\n",
       "      <td>3</td>\n",
       "      <td>1003</td>\n",
       "      <td>23</td>\n",
       "      <td>NaN</td>\n",
       "      <td>Москва</td>\n",
       "      <td>Белла</td>\n",
       "      <td>Белякова</td>\n",
       "      <td>2018-08-17</td>\n",
       "      <td>ultra</td>\n",
       "    </tr>\n",
       "    <tr>\n",
       "      <td>4</td>\n",
       "      <td>1004</td>\n",
       "      <td>68</td>\n",
       "      <td>NaN</td>\n",
       "      <td>Новокузнецк</td>\n",
       "      <td>Татьяна</td>\n",
       "      <td>Авдеенко</td>\n",
       "      <td>2018-05-14</td>\n",
       "      <td>ultra</td>\n",
       "    </tr>\n",
       "  </tbody>\n",
       "</table>\n",
       "</div>"
      ],
      "text/plain": [
       "   user_id  age churn_date         city first_name  last_name    reg_date  \\\n",
       "0     1000   52        NaN    Краснодар     Рафаил  Верещагин  2018-05-25   \n",
       "1     1001   41        NaN       Москва       Иван       Ежов  2018-11-01   \n",
       "2     1002   59        NaN  Стерлитамак    Евгений  Абрамович  2018-06-17   \n",
       "3     1003   23        NaN       Москва      Белла   Белякова  2018-08-17   \n",
       "4     1004   68        NaN  Новокузнецк    Татьяна   Авдеенко  2018-05-14   \n",
       "\n",
       "  tariff  \n",
       "0  ultra  \n",
       "1  smart  \n",
       "2  smart  \n",
       "3  ultra  \n",
       "4  ultra  "
      ]
     },
     "metadata": {},
     "output_type": "display_data"
    },
    {
     "data": {
      "text/html": [
       "<div>\n",
       "<style scoped>\n",
       "    .dataframe tbody tr th:only-of-type {\n",
       "        vertical-align: middle;\n",
       "    }\n",
       "\n",
       "    .dataframe tbody tr th {\n",
       "        vertical-align: top;\n",
       "    }\n",
       "\n",
       "    .dataframe thead th {\n",
       "        text-align: right;\n",
       "    }\n",
       "</style>\n",
       "<table border=\"1\" class=\"dataframe\">\n",
       "  <thead>\n",
       "    <tr style=\"text-align: right;\">\n",
       "      <th></th>\n",
       "      <th>user_id</th>\n",
       "      <th>age</th>\n",
       "    </tr>\n",
       "  </thead>\n",
       "  <tbody>\n",
       "    <tr>\n",
       "      <td>count</td>\n",
       "      <td>500.000000</td>\n",
       "      <td>500.00000</td>\n",
       "    </tr>\n",
       "    <tr>\n",
       "      <td>mean</td>\n",
       "      <td>1249.500000</td>\n",
       "      <td>46.58800</td>\n",
       "    </tr>\n",
       "    <tr>\n",
       "      <td>std</td>\n",
       "      <td>144.481833</td>\n",
       "      <td>16.66763</td>\n",
       "    </tr>\n",
       "    <tr>\n",
       "      <td>min</td>\n",
       "      <td>1000.000000</td>\n",
       "      <td>18.00000</td>\n",
       "    </tr>\n",
       "    <tr>\n",
       "      <td>25%</td>\n",
       "      <td>1124.750000</td>\n",
       "      <td>32.00000</td>\n",
       "    </tr>\n",
       "    <tr>\n",
       "      <td>50%</td>\n",
       "      <td>1249.500000</td>\n",
       "      <td>46.00000</td>\n",
       "    </tr>\n",
       "    <tr>\n",
       "      <td>75%</td>\n",
       "      <td>1374.250000</td>\n",
       "      <td>62.00000</td>\n",
       "    </tr>\n",
       "    <tr>\n",
       "      <td>max</td>\n",
       "      <td>1499.000000</td>\n",
       "      <td>75.00000</td>\n",
       "    </tr>\n",
       "  </tbody>\n",
       "</table>\n",
       "</div>"
      ],
      "text/plain": [
       "           user_id        age\n",
       "count   500.000000  500.00000\n",
       "mean   1249.500000   46.58800\n",
       "std     144.481833   16.66763\n",
       "min    1000.000000   18.00000\n",
       "25%    1124.750000   32.00000\n",
       "50%    1249.500000   46.00000\n",
       "75%    1374.250000   62.00000\n",
       "max    1499.000000   75.00000"
      ]
     },
     "metadata": {},
     "output_type": "display_data"
    },
    {
     "name": "stdout",
     "output_type": "stream",
     "text": [
      "<class 'pandas.core.frame.DataFrame'>\n",
      "RangeIndex: 500 entries, 0 to 499\n",
      "Data columns (total 8 columns):\n",
      "user_id       500 non-null int64\n",
      "age           500 non-null int64\n",
      "churn_date    38 non-null object\n",
      "city          500 non-null object\n",
      "first_name    500 non-null object\n",
      "last_name     500 non-null object\n",
      "reg_date      500 non-null object\n",
      "tariff        500 non-null object\n",
      "dtypes: int64(2), object(6)\n",
      "memory usage: 31.4+ KB\n"
     ]
    }
   ],
   "source": [
    "#Шаг 1. Открываемфайл с данными и изучим общую информацию\n",
    "import math\n",
    "import pandas as pd\n",
    "import matplotlib.pyplot as plt\n",
    "from IPython.display import display\n",
    "import numpy as np\n",
    "import scipy.stats as st\n",
    "\n",
    "d_calls    = pd.read_csv(\"/datasets/calls.csv\", sep=\",\")\n",
    "d_internet = pd.read_csv(\"/datasets/internet.csv\", sep=\",\")\n",
    "d_messages = pd.read_csv(\"/datasets/messages.csv\", sep=\",\")\n",
    "d_tariffs  = pd.read_csv(\"/datasets/tariffs.csv\", sep=\",\")\n",
    "d_users    = pd.read_csv(\"/datasets/users.csv\", sep=\",\")\n",
    "#1. Calls\n",
    "print('1. Calls')\n",
    "display(d_calls.head(5))\n",
    "display(d_calls.describe())\n",
    "d_calls.info()\n",
    "#2. Internet\n",
    "print('2. Internet')\n",
    "display(d_internet.head(5))\n",
    "display(d_internet.describe())\n",
    "d_internet.info()\n",
    "#3. Messages\n",
    "print('3. Messages')\n",
    "display(d_messages.head(5))\n",
    "display(d_messages.describe())\n",
    "d_messages.info()\n",
    "#4. Tariffs\n",
    "print('4. Tariffs')\n",
    "display(d_tariffs.head(5))\n",
    "display(d_tariffs.describe())\n",
    "d_tariffs.info()\n",
    "#5. Users\n",
    "print('5. Users')\n",
    "display(d_users.head(5))\n",
    "display(d_users.describe())\n",
    "d_users.info()"
   ]
  },
  {
   "cell_type": "markdown",
   "metadata": {},
   "source": [
    "<div class=\"alert alert-info\">\n",
    "<b>Вывод: </b> \n",
    "    \n",
    "Можем \n",
    "    \n",
    "1. уточнить форматы дат в таблицах\n",
    "\n",
    "2. округлить мегабайты трафика интернет\n",
    "</div>"
   ]
  },
  {
   "cell_type": "markdown",
   "metadata": {},
   "source": [
    "<div style=\"border:solid blue 2px; padding: 20px\"> \n",
    "<a id=\"preprocessing\">\n",
    "    Шаг 2. Предобработка данных\n",
    "</a>\n",
    "        \n",
    "    Приводим данные к нужным типам;\n",
    "    Исправляем ошибки в данных.\n",
    "</div>"
   ]
  },
  {
   "cell_type": "code",
   "execution_count": 2,
   "metadata": {},
   "outputs": [
    {
     "name": "stdout",
     "output_type": "stream",
     "text": [
      "1. Calls\n"
     ]
    },
    {
     "data": {
      "text/html": [
       "<div>\n",
       "<style scoped>\n",
       "    .dataframe tbody tr th:only-of-type {\n",
       "        vertical-align: middle;\n",
       "    }\n",
       "\n",
       "    .dataframe tbody tr th {\n",
       "        vertical-align: top;\n",
       "    }\n",
       "\n",
       "    .dataframe thead th {\n",
       "        text-align: right;\n",
       "    }\n",
       "</style>\n",
       "<table border=\"1\" class=\"dataframe\">\n",
       "  <thead>\n",
       "    <tr style=\"text-align: right;\">\n",
       "      <th></th>\n",
       "      <th>id</th>\n",
       "      <th>call_date</th>\n",
       "      <th>duration</th>\n",
       "      <th>user_id</th>\n",
       "      <th>month</th>\n",
       "    </tr>\n",
       "  </thead>\n",
       "  <tbody>\n",
       "    <tr>\n",
       "      <td>0</td>\n",
       "      <td>1000_0</td>\n",
       "      <td>2018-07-25</td>\n",
       "      <td>0</td>\n",
       "      <td>1000</td>\n",
       "      <td>7</td>\n",
       "    </tr>\n",
       "    <tr>\n",
       "      <td>1</td>\n",
       "      <td>1000_1</td>\n",
       "      <td>2018-08-17</td>\n",
       "      <td>0</td>\n",
       "      <td>1000</td>\n",
       "      <td>8</td>\n",
       "    </tr>\n",
       "    <tr>\n",
       "      <td>2</td>\n",
       "      <td>1000_2</td>\n",
       "      <td>2018-06-11</td>\n",
       "      <td>3</td>\n",
       "      <td>1000</td>\n",
       "      <td>6</td>\n",
       "    </tr>\n",
       "    <tr>\n",
       "      <td>3</td>\n",
       "      <td>1000_3</td>\n",
       "      <td>2018-09-21</td>\n",
       "      <td>14</td>\n",
       "      <td>1000</td>\n",
       "      <td>9</td>\n",
       "    </tr>\n",
       "    <tr>\n",
       "      <td>4</td>\n",
       "      <td>1000_4</td>\n",
       "      <td>2018-12-15</td>\n",
       "      <td>6</td>\n",
       "      <td>1000</td>\n",
       "      <td>12</td>\n",
       "    </tr>\n",
       "  </tbody>\n",
       "</table>\n",
       "</div>"
      ],
      "text/plain": [
       "       id  call_date  duration  user_id  month\n",
       "0  1000_0 2018-07-25         0     1000      7\n",
       "1  1000_1 2018-08-17         0     1000      8\n",
       "2  1000_2 2018-06-11         3     1000      6\n",
       "3  1000_3 2018-09-21        14     1000      9\n",
       "4  1000_4 2018-12-15         6     1000     12"
      ]
     },
     "metadata": {},
     "output_type": "display_data"
    },
    {
     "name": "stdout",
     "output_type": "stream",
     "text": [
      "<class 'pandas.core.frame.DataFrame'>\n",
      "RangeIndex: 202607 entries, 0 to 202606\n",
      "Data columns (total 5 columns):\n",
      "id           202607 non-null object\n",
      "call_date    202607 non-null datetime64[ns]\n",
      "duration     202607 non-null int64\n",
      "user_id      202607 non-null int64\n",
      "month        202607 non-null int64\n",
      "dtypes: datetime64[ns](1), int64(3), object(1)\n",
      "memory usage: 7.7+ MB\n",
      "2. Internet\n"
     ]
    },
    {
     "data": {
      "text/html": [
       "<div>\n",
       "<style scoped>\n",
       "    .dataframe tbody tr th:only-of-type {\n",
       "        vertical-align: middle;\n",
       "    }\n",
       "\n",
       "    .dataframe tbody tr th {\n",
       "        vertical-align: top;\n",
       "    }\n",
       "\n",
       "    .dataframe thead th {\n",
       "        text-align: right;\n",
       "    }\n",
       "</style>\n",
       "<table border=\"1\" class=\"dataframe\">\n",
       "  <thead>\n",
       "    <tr style=\"text-align: right;\">\n",
       "      <th></th>\n",
       "      <th>Unnamed: 0</th>\n",
       "      <th>id</th>\n",
       "      <th>mb_used</th>\n",
       "      <th>session_date</th>\n",
       "      <th>user_id</th>\n",
       "      <th>month</th>\n",
       "    </tr>\n",
       "  </thead>\n",
       "  <tbody>\n",
       "    <tr>\n",
       "      <td>0</td>\n",
       "      <td>0</td>\n",
       "      <td>1000_0</td>\n",
       "      <td>113</td>\n",
       "      <td>2018-11-25</td>\n",
       "      <td>1000</td>\n",
       "      <td>11</td>\n",
       "    </tr>\n",
       "    <tr>\n",
       "      <td>1</td>\n",
       "      <td>1</td>\n",
       "      <td>1000_1</td>\n",
       "      <td>1053</td>\n",
       "      <td>2018-09-07</td>\n",
       "      <td>1000</td>\n",
       "      <td>9</td>\n",
       "    </tr>\n",
       "    <tr>\n",
       "      <td>2</td>\n",
       "      <td>2</td>\n",
       "      <td>1000_2</td>\n",
       "      <td>1198</td>\n",
       "      <td>2018-06-25</td>\n",
       "      <td>1000</td>\n",
       "      <td>6</td>\n",
       "    </tr>\n",
       "    <tr>\n",
       "      <td>3</td>\n",
       "      <td>3</td>\n",
       "      <td>1000_3</td>\n",
       "      <td>551</td>\n",
       "      <td>2018-08-22</td>\n",
       "      <td>1000</td>\n",
       "      <td>8</td>\n",
       "    </tr>\n",
       "    <tr>\n",
       "      <td>4</td>\n",
       "      <td>4</td>\n",
       "      <td>1000_4</td>\n",
       "      <td>303</td>\n",
       "      <td>2018-09-24</td>\n",
       "      <td>1000</td>\n",
       "      <td>9</td>\n",
       "    </tr>\n",
       "  </tbody>\n",
       "</table>\n",
       "</div>"
      ],
      "text/plain": [
       "   Unnamed: 0      id  mb_used session_date  user_id  month\n",
       "0           0  1000_0      113   2018-11-25     1000     11\n",
       "1           1  1000_1     1053   2018-09-07     1000      9\n",
       "2           2  1000_2     1198   2018-06-25     1000      6\n",
       "3           3  1000_3      551   2018-08-22     1000      8\n",
       "4           4  1000_4      303   2018-09-24     1000      9"
      ]
     },
     "metadata": {},
     "output_type": "display_data"
    },
    {
     "name": "stdout",
     "output_type": "stream",
     "text": [
      "<class 'pandas.core.frame.DataFrame'>\n",
      "RangeIndex: 149396 entries, 0 to 149395\n",
      "Data columns (total 6 columns):\n",
      "Unnamed: 0      149396 non-null int64\n",
      "id              149396 non-null object\n",
      "mb_used         149396 non-null int64\n",
      "session_date    149396 non-null datetime64[ns]\n",
      "user_id         149396 non-null int64\n",
      "month           149396 non-null int64\n",
      "dtypes: datetime64[ns](1), int64(4), object(1)\n",
      "memory usage: 6.8+ MB\n",
      "3. Messages\n"
     ]
    },
    {
     "data": {
      "text/html": [
       "<div>\n",
       "<style scoped>\n",
       "    .dataframe tbody tr th:only-of-type {\n",
       "        vertical-align: middle;\n",
       "    }\n",
       "\n",
       "    .dataframe tbody tr th {\n",
       "        vertical-align: top;\n",
       "    }\n",
       "\n",
       "    .dataframe thead th {\n",
       "        text-align: right;\n",
       "    }\n",
       "</style>\n",
       "<table border=\"1\" class=\"dataframe\">\n",
       "  <thead>\n",
       "    <tr style=\"text-align: right;\">\n",
       "      <th></th>\n",
       "      <th>id</th>\n",
       "      <th>message_date</th>\n",
       "      <th>user_id</th>\n",
       "      <th>month</th>\n",
       "    </tr>\n",
       "  </thead>\n",
       "  <tbody>\n",
       "    <tr>\n",
       "      <td>0</td>\n",
       "      <td>1000_0</td>\n",
       "      <td>2018-06-27</td>\n",
       "      <td>1000</td>\n",
       "      <td>6</td>\n",
       "    </tr>\n",
       "    <tr>\n",
       "      <td>1</td>\n",
       "      <td>1000_1</td>\n",
       "      <td>2018-10-08</td>\n",
       "      <td>1000</td>\n",
       "      <td>10</td>\n",
       "    </tr>\n",
       "    <tr>\n",
       "      <td>2</td>\n",
       "      <td>1000_2</td>\n",
       "      <td>2018-08-04</td>\n",
       "      <td>1000</td>\n",
       "      <td>8</td>\n",
       "    </tr>\n",
       "    <tr>\n",
       "      <td>3</td>\n",
       "      <td>1000_3</td>\n",
       "      <td>2018-06-16</td>\n",
       "      <td>1000</td>\n",
       "      <td>6</td>\n",
       "    </tr>\n",
       "    <tr>\n",
       "      <td>4</td>\n",
       "      <td>1000_4</td>\n",
       "      <td>2018-12-05</td>\n",
       "      <td>1000</td>\n",
       "      <td>12</td>\n",
       "    </tr>\n",
       "  </tbody>\n",
       "</table>\n",
       "</div>"
      ],
      "text/plain": [
       "       id message_date  user_id  month\n",
       "0  1000_0   2018-06-27     1000      6\n",
       "1  1000_1   2018-10-08     1000     10\n",
       "2  1000_2   2018-08-04     1000      8\n",
       "3  1000_3   2018-06-16     1000      6\n",
       "4  1000_4   2018-12-05     1000     12"
      ]
     },
     "metadata": {},
     "output_type": "display_data"
    },
    {
     "name": "stdout",
     "output_type": "stream",
     "text": [
      "<class 'pandas.core.frame.DataFrame'>\n",
      "RangeIndex: 123036 entries, 0 to 123035\n",
      "Data columns (total 4 columns):\n",
      "id              123036 non-null object\n",
      "message_date    123036 non-null datetime64[ns]\n",
      "user_id         123036 non-null int64\n",
      "month           123036 non-null int64\n",
      "dtypes: datetime64[ns](1), int64(2), object(1)\n",
      "memory usage: 3.8+ MB\n",
      "4. Tariffs\n"
     ]
    },
    {
     "data": {
      "text/html": [
       "<div>\n",
       "<style scoped>\n",
       "    .dataframe tbody tr th:only-of-type {\n",
       "        vertical-align: middle;\n",
       "    }\n",
       "\n",
       "    .dataframe tbody tr th {\n",
       "        vertical-align: top;\n",
       "    }\n",
       "\n",
       "    .dataframe thead th {\n",
       "        text-align: right;\n",
       "    }\n",
       "</style>\n",
       "<table border=\"1\" class=\"dataframe\">\n",
       "  <thead>\n",
       "    <tr style=\"text-align: right;\">\n",
       "      <th></th>\n",
       "      <th>messages_included</th>\n",
       "      <th>mb_per_month_included</th>\n",
       "      <th>minutes_included</th>\n",
       "      <th>rub_monthly_fee</th>\n",
       "      <th>rub_per_gb</th>\n",
       "      <th>rub_per_message</th>\n",
       "      <th>rub_per_minute</th>\n",
       "      <th>tariff_name</th>\n",
       "    </tr>\n",
       "  </thead>\n",
       "  <tbody>\n",
       "    <tr>\n",
       "      <td>0</td>\n",
       "      <td>50</td>\n",
       "      <td>15360</td>\n",
       "      <td>500</td>\n",
       "      <td>550</td>\n",
       "      <td>200</td>\n",
       "      <td>3</td>\n",
       "      <td>3</td>\n",
       "      <td>smart</td>\n",
       "    </tr>\n",
       "    <tr>\n",
       "      <td>1</td>\n",
       "      <td>1000</td>\n",
       "      <td>30720</td>\n",
       "      <td>3000</td>\n",
       "      <td>1950</td>\n",
       "      <td>150</td>\n",
       "      <td>1</td>\n",
       "      <td>1</td>\n",
       "      <td>ultra</td>\n",
       "    </tr>\n",
       "  </tbody>\n",
       "</table>\n",
       "</div>"
      ],
      "text/plain": [
       "   messages_included  mb_per_month_included  minutes_included  \\\n",
       "0                 50                  15360               500   \n",
       "1               1000                  30720              3000   \n",
       "\n",
       "   rub_monthly_fee  rub_per_gb  rub_per_message  rub_per_minute tariff_name  \n",
       "0              550         200                3               3       smart  \n",
       "1             1950         150                1               1       ultra  "
      ]
     },
     "metadata": {},
     "output_type": "display_data"
    },
    {
     "name": "stdout",
     "output_type": "stream",
     "text": [
      "<class 'pandas.core.frame.DataFrame'>\n",
      "RangeIndex: 2 entries, 0 to 1\n",
      "Data columns (total 8 columns):\n",
      "messages_included        2 non-null int64\n",
      "mb_per_month_included    2 non-null int64\n",
      "minutes_included         2 non-null int64\n",
      "rub_monthly_fee          2 non-null int64\n",
      "rub_per_gb               2 non-null int64\n",
      "rub_per_message          2 non-null int64\n",
      "rub_per_minute           2 non-null int64\n",
      "tariff_name              2 non-null object\n",
      "dtypes: int64(7), object(1)\n",
      "memory usage: 256.0+ bytes\n",
      "5. Users\n"
     ]
    },
    {
     "data": {
      "text/html": [
       "<div>\n",
       "<style scoped>\n",
       "    .dataframe tbody tr th:only-of-type {\n",
       "        vertical-align: middle;\n",
       "    }\n",
       "\n",
       "    .dataframe tbody tr th {\n",
       "        vertical-align: top;\n",
       "    }\n",
       "\n",
       "    .dataframe thead th {\n",
       "        text-align: right;\n",
       "    }\n",
       "</style>\n",
       "<table border=\"1\" class=\"dataframe\">\n",
       "  <thead>\n",
       "    <tr style=\"text-align: right;\">\n",
       "      <th></th>\n",
       "      <th>user_id</th>\n",
       "      <th>age</th>\n",
       "      <th>churn_date</th>\n",
       "      <th>city</th>\n",
       "      <th>first_name</th>\n",
       "      <th>last_name</th>\n",
       "      <th>reg_date</th>\n",
       "      <th>tariff</th>\n",
       "      <th>reg_month</th>\n",
       "      <th>churn_month</th>\n",
       "    </tr>\n",
       "  </thead>\n",
       "  <tbody>\n",
       "    <tr>\n",
       "      <td>0</td>\n",
       "      <td>1000</td>\n",
       "      <td>52</td>\n",
       "      <td>NaT</td>\n",
       "      <td>Краснодар</td>\n",
       "      <td>Рафаил</td>\n",
       "      <td>Верещагин</td>\n",
       "      <td>2018-05-25</td>\n",
       "      <td>ultra</td>\n",
       "      <td>5</td>\n",
       "      <td>NaN</td>\n",
       "    </tr>\n",
       "    <tr>\n",
       "      <td>1</td>\n",
       "      <td>1001</td>\n",
       "      <td>41</td>\n",
       "      <td>NaT</td>\n",
       "      <td>Москва</td>\n",
       "      <td>Иван</td>\n",
       "      <td>Ежов</td>\n",
       "      <td>2018-11-01</td>\n",
       "      <td>smart</td>\n",
       "      <td>11</td>\n",
       "      <td>NaN</td>\n",
       "    </tr>\n",
       "    <tr>\n",
       "      <td>2</td>\n",
       "      <td>1002</td>\n",
       "      <td>59</td>\n",
       "      <td>NaT</td>\n",
       "      <td>Стерлитамак</td>\n",
       "      <td>Евгений</td>\n",
       "      <td>Абрамович</td>\n",
       "      <td>2018-06-17</td>\n",
       "      <td>smart</td>\n",
       "      <td>6</td>\n",
       "      <td>NaN</td>\n",
       "    </tr>\n",
       "    <tr>\n",
       "      <td>3</td>\n",
       "      <td>1003</td>\n",
       "      <td>23</td>\n",
       "      <td>NaT</td>\n",
       "      <td>Москва</td>\n",
       "      <td>Белла</td>\n",
       "      <td>Белякова</td>\n",
       "      <td>2018-08-17</td>\n",
       "      <td>ultra</td>\n",
       "      <td>8</td>\n",
       "      <td>NaN</td>\n",
       "    </tr>\n",
       "    <tr>\n",
       "      <td>4</td>\n",
       "      <td>1004</td>\n",
       "      <td>68</td>\n",
       "      <td>NaT</td>\n",
       "      <td>Новокузнецк</td>\n",
       "      <td>Татьяна</td>\n",
       "      <td>Авдеенко</td>\n",
       "      <td>2018-05-14</td>\n",
       "      <td>ultra</td>\n",
       "      <td>5</td>\n",
       "      <td>NaN</td>\n",
       "    </tr>\n",
       "  </tbody>\n",
       "</table>\n",
       "</div>"
      ],
      "text/plain": [
       "   user_id  age churn_date         city first_name  last_name   reg_date  \\\n",
       "0     1000   52        NaT    Краснодар     Рафаил  Верещагин 2018-05-25   \n",
       "1     1001   41        NaT       Москва       Иван       Ежов 2018-11-01   \n",
       "2     1002   59        NaT  Стерлитамак    Евгений  Абрамович 2018-06-17   \n",
       "3     1003   23        NaT       Москва      Белла   Белякова 2018-08-17   \n",
       "4     1004   68        NaT  Новокузнецк    Татьяна   Авдеенко 2018-05-14   \n",
       "\n",
       "  tariff  reg_month  churn_month  \n",
       "0  ultra          5          NaN  \n",
       "1  smart         11          NaN  \n",
       "2  smart          6          NaN  \n",
       "3  ultra          8          NaN  \n",
       "4  ultra          5          NaN  "
      ]
     },
     "metadata": {},
     "output_type": "display_data"
    },
    {
     "name": "stdout",
     "output_type": "stream",
     "text": [
      "<class 'pandas.core.frame.DataFrame'>\n",
      "RangeIndex: 500 entries, 0 to 499\n",
      "Data columns (total 10 columns):\n",
      "user_id        500 non-null int64\n",
      "age            500 non-null int64\n",
      "churn_date     38 non-null datetime64[ns]\n",
      "city           500 non-null object\n",
      "first_name     500 non-null object\n",
      "last_name      500 non-null object\n",
      "reg_date       500 non-null datetime64[ns]\n",
      "tariff         500 non-null object\n",
      "reg_month      500 non-null int64\n",
      "churn_month    38 non-null float64\n",
      "dtypes: datetime64[ns](2), float64(1), int64(3), object(4)\n",
      "memory usage: 39.2+ KB\n"
     ]
    }
   ],
   "source": [
    "#Шаг 2. Предобработка данных\n",
    "#1). Преобразование дат, добавление месяца\n",
    "###приводим в формат datetime\n",
    "d_calls['call_date']       = pd.to_datetime(d_calls['call_date']\n",
    "                                            , format='%Y-%m-%d')\n",
    "d_internet['session_date'] = pd.to_datetime(d_internet['session_date']\n",
    "                                            , format='%Y-%m-%d')\n",
    "d_messages['message_date'] = pd.to_datetime(d_messages['message_date']\n",
    "                                            , format='%Y-%m-%d')\n",
    "d_users['reg_date']        = pd.to_datetime(d_users['reg_date']\n",
    "                                            , format='%Y-%m-%d')\n",
    "d_users['churn_date']      = pd.to_datetime(d_users['churn_date']\n",
    "                                            , format='%Y-%m-%d')\n",
    "###добавляем месяц\n",
    "d_calls['month'] = pd.to_datetime(d_calls['call_date']).dt.month\n",
    "###или вот так  d_calls['month_number'] = pd.DatetimeIndex(d_calls['call_date']).month\n",
    "d_internet['month'] = pd.to_datetime(d_internet['session_date']).dt.month\n",
    "d_messages['month'] = pd.to_datetime(d_messages['message_date']).dt.month\n",
    "d_users['reg_month']    = pd.to_datetime(d_users['reg_date']).dt.month\n",
    "d_users['churn_month']    = pd.to_datetime(d_users['churn_date']).dt.month\n",
    "#2). Округляем мегабайты трафика интернет\n",
    "#d_calls['duration'] = math.ceil(d_calls['duration']).astype('int')\n",
    "def ceil_value(value):\n",
    "    return math.ceil(value)\n",
    "d_calls['duration'] = d_calls['duration'].apply(ceil_value).astype('int')\n",
    "d_internet['mb_used'] = d_internet['mb_used'].apply(ceil_value).astype('int')\n",
    "#1. Calls\n",
    "print('1. Calls')\n",
    "display(d_calls.head(5))\n",
    "d_calls.info()\n",
    "#2. Internet\n",
    "print('2. Internet')\n",
    "display(d_internet.head(5))\n",
    "d_internet.info()\n",
    "#3. Messages\n",
    "print('3. Messages')\n",
    "display(d_messages.head(5))\n",
    "d_messages.info()\n",
    "#4. Tariffs\n",
    "print('4. Tariffs')\n",
    "display(d_tariffs.head(5))\n",
    "d_tariffs.info()\n",
    "#5. Users\n",
    "print('5. Users')\n",
    "display(d_users.head(5))\n",
    "d_users.info()"
   ]
  },
  {
   "cell_type": "markdown",
   "metadata": {},
   "source": [
    "<div style=\"border:solid blue 2px; padding: 20px\"> \n",
    "<a id=\"user\">\n",
    "    Шаг 3. Подготовка данных о пользователе\n",
    "</a>\n",
    "</div>"
   ]
  },
  {
   "cell_type": "code",
   "execution_count": 21,
   "metadata": {},
   "outputs": [
    {
     "data": {
      "text/html": [
       "<div>\n",
       "<style scoped>\n",
       "    .dataframe tbody tr th:only-of-type {\n",
       "        vertical-align: middle;\n",
       "    }\n",
       "\n",
       "    .dataframe tbody tr th {\n",
       "        vertical-align: top;\n",
       "    }\n",
       "\n",
       "    .dataframe thead th {\n",
       "        text-align: right;\n",
       "    }\n",
       "</style>\n",
       "<table border=\"1\" class=\"dataframe\">\n",
       "  <thead>\n",
       "    <tr style=\"text-align: right;\">\n",
       "      <th></th>\n",
       "      <th></th>\n",
       "      <th>calls_duration</th>\n",
       "      <th>calls_amount</th>\n",
       "    </tr>\n",
       "    <tr>\n",
       "      <th>user_id</th>\n",
       "      <th>month</th>\n",
       "      <th></th>\n",
       "      <th></th>\n",
       "    </tr>\n",
       "  </thead>\n",
       "  <tbody>\n",
       "    <tr>\n",
       "      <td rowspan=\"5\" valign=\"top\">1000</td>\n",
       "      <td>5</td>\n",
       "      <td>159</td>\n",
       "      <td>22</td>\n",
       "    </tr>\n",
       "    <tr>\n",
       "      <td>6</td>\n",
       "      <td>172</td>\n",
       "      <td>43</td>\n",
       "    </tr>\n",
       "    <tr>\n",
       "      <td>7</td>\n",
       "      <td>340</td>\n",
       "      <td>47</td>\n",
       "    </tr>\n",
       "    <tr>\n",
       "      <td>8</td>\n",
       "      <td>408</td>\n",
       "      <td>52</td>\n",
       "    </tr>\n",
       "    <tr>\n",
       "      <td>9</td>\n",
       "      <td>466</td>\n",
       "      <td>58</td>\n",
       "    </tr>\n",
       "  </tbody>\n",
       "</table>\n",
       "</div>"
      ],
      "text/plain": [
       "               calls_duration  calls_amount\n",
       "user_id month                              \n",
       "1000    5                 159            22\n",
       "        6                 172            43\n",
       "        7                 340            47\n",
       "        8                 408            52\n",
       "        9                 466            58"
      ]
     },
     "metadata": {},
     "output_type": "display_data"
    },
    {
     "data": {
      "text/html": [
       "<div>\n",
       "<style scoped>\n",
       "    .dataframe tbody tr th:only-of-type {\n",
       "        vertical-align: middle;\n",
       "    }\n",
       "\n",
       "    .dataframe tbody tr th {\n",
       "        vertical-align: top;\n",
       "    }\n",
       "\n",
       "    .dataframe thead th {\n",
       "        text-align: right;\n",
       "    }\n",
       "</style>\n",
       "<table border=\"1\" class=\"dataframe\">\n",
       "  <thead>\n",
       "    <tr style=\"text-align: right;\">\n",
       "      <th></th>\n",
       "      <th>user_id</th>\n",
       "      <th>month</th>\n",
       "      <th>calls_duration</th>\n",
       "      <th>calls_amount</th>\n",
       "    </tr>\n",
       "  </thead>\n",
       "  <tbody>\n",
       "    <tr>\n",
       "      <td>0</td>\n",
       "      <td>1000</td>\n",
       "      <td>5</td>\n",
       "      <td>159</td>\n",
       "      <td>22</td>\n",
       "    </tr>\n",
       "    <tr>\n",
       "      <td>1</td>\n",
       "      <td>1000</td>\n",
       "      <td>6</td>\n",
       "      <td>172</td>\n",
       "      <td>43</td>\n",
       "    </tr>\n",
       "    <tr>\n",
       "      <td>2</td>\n",
       "      <td>1000</td>\n",
       "      <td>7</td>\n",
       "      <td>340</td>\n",
       "      <td>47</td>\n",
       "    </tr>\n",
       "    <tr>\n",
       "      <td>3</td>\n",
       "      <td>1000</td>\n",
       "      <td>8</td>\n",
       "      <td>408</td>\n",
       "      <td>52</td>\n",
       "    </tr>\n",
       "    <tr>\n",
       "      <td>4</td>\n",
       "      <td>1000</td>\n",
       "      <td>9</td>\n",
       "      <td>466</td>\n",
       "      <td>58</td>\n",
       "    </tr>\n",
       "  </tbody>\n",
       "</table>\n",
       "</div>"
      ],
      "text/plain": [
       "   user_id  month  calls_duration  calls_amount\n",
       "0     1000      5             159            22\n",
       "1     1000      6             172            43\n",
       "2     1000      7             340            47\n",
       "3     1000      8             408            52\n",
       "4     1000      9             466            58"
      ]
     },
     "metadata": {},
     "output_type": "display_data"
    },
    {
     "name": "stdout",
     "output_type": "stream",
     "text": [
      "<class 'pandas.core.frame.DataFrame'>\n",
      "Int64Index: 3174 entries, 0 to 3173\n",
      "Data columns (total 5 columns):\n",
      "user_id           3174 non-null int64\n",
      "month             3174 non-null int64\n",
      "calls_duration    3174 non-null int64\n",
      "calls_amount      3174 non-null int64\n",
      "messages          2678 non-null float64\n",
      "dtypes: float64(1), int64(4)\n",
      "memory usage: 148.8 KB\n",
      "<class 'pandas.core.frame.DataFrame'>\n",
      "Int64Index: 3174 entries, 0 to 3173\n",
      "Data columns (total 15 columns):\n",
      "user_id           3174 non-null int64\n",
      "month             3174 non-null int64\n",
      "calls_duration    3174 non-null int64\n",
      "calls_amount      3174 non-null int64\n",
      "messages          2678 non-null float64\n",
      "mb_used           3163 non-null float64\n",
      "age               3174 non-null int64\n",
      "churn_date        187 non-null datetime64[ns]\n",
      "city              3174 non-null object\n",
      "first_name        3174 non-null object\n",
      "last_name         3174 non-null object\n",
      "reg_date          3174 non-null datetime64[ns]\n",
      "tariff            3174 non-null object\n",
      "reg_month         3174 non-null int64\n",
      "churn_month       187 non-null float64\n",
      "dtypes: datetime64[ns](2), float64(3), int64(6), object(4)\n",
      "memory usage: 396.8+ KB\n"
     ]
    },
    {
     "data": {
      "text/html": [
       "<div>\n",
       "<style scoped>\n",
       "    .dataframe tbody tr th:only-of-type {\n",
       "        vertical-align: middle;\n",
       "    }\n",
       "\n",
       "    .dataframe tbody tr th {\n",
       "        vertical-align: top;\n",
       "    }\n",
       "\n",
       "    .dataframe thead th {\n",
       "        text-align: right;\n",
       "    }\n",
       "</style>\n",
       "<table border=\"1\" class=\"dataframe\">\n",
       "  <thead>\n",
       "    <tr style=\"text-align: right;\">\n",
       "      <th></th>\n",
       "      <th>user_id</th>\n",
       "      <th>month</th>\n",
       "      <th>calls_duration</th>\n",
       "      <th>calls_amount</th>\n",
       "      <th>messages</th>\n",
       "      <th>mb_used</th>\n",
       "      <th>age</th>\n",
       "      <th>churn_date</th>\n",
       "      <th>city</th>\n",
       "      <th>first_name</th>\n",
       "      <th>...</th>\n",
       "      <th>reg_month</th>\n",
       "      <th>churn_month</th>\n",
       "      <th>messages_included</th>\n",
       "      <th>mb_per_month_included</th>\n",
       "      <th>minutes_included</th>\n",
       "      <th>rub_monthly_fee</th>\n",
       "      <th>rub_per_gb</th>\n",
       "      <th>rub_per_message</th>\n",
       "      <th>rub_per_minute</th>\n",
       "      <th>tariff_name</th>\n",
       "    </tr>\n",
       "  </thead>\n",
       "  <tbody>\n",
       "    <tr>\n",
       "      <td>0</td>\n",
       "      <td>1000</td>\n",
       "      <td>5</td>\n",
       "      <td>159</td>\n",
       "      <td>22</td>\n",
       "      <td>22.0</td>\n",
       "      <td>2256.0</td>\n",
       "      <td>52</td>\n",
       "      <td>NaT</td>\n",
       "      <td>Краснодар</td>\n",
       "      <td>Рафаил</td>\n",
       "      <td>...</td>\n",
       "      <td>5</td>\n",
       "      <td>NaN</td>\n",
       "      <td>1000</td>\n",
       "      <td>30720</td>\n",
       "      <td>3000</td>\n",
       "      <td>1950</td>\n",
       "      <td>150</td>\n",
       "      <td>1</td>\n",
       "      <td>1</td>\n",
       "      <td>ultra</td>\n",
       "    </tr>\n",
       "    <tr>\n",
       "      <td>1</td>\n",
       "      <td>1000</td>\n",
       "      <td>6</td>\n",
       "      <td>172</td>\n",
       "      <td>43</td>\n",
       "      <td>60.0</td>\n",
       "      <td>23257.0</td>\n",
       "      <td>52</td>\n",
       "      <td>NaT</td>\n",
       "      <td>Краснодар</td>\n",
       "      <td>Рафаил</td>\n",
       "      <td>...</td>\n",
       "      <td>5</td>\n",
       "      <td>NaN</td>\n",
       "      <td>1000</td>\n",
       "      <td>30720</td>\n",
       "      <td>3000</td>\n",
       "      <td>1950</td>\n",
       "      <td>150</td>\n",
       "      <td>1</td>\n",
       "      <td>1</td>\n",
       "      <td>ultra</td>\n",
       "    </tr>\n",
       "    <tr>\n",
       "      <td>2</td>\n",
       "      <td>1000</td>\n",
       "      <td>7</td>\n",
       "      <td>340</td>\n",
       "      <td>47</td>\n",
       "      <td>75.0</td>\n",
       "      <td>14016.0</td>\n",
       "      <td>52</td>\n",
       "      <td>NaT</td>\n",
       "      <td>Краснодар</td>\n",
       "      <td>Рафаил</td>\n",
       "      <td>...</td>\n",
       "      <td>5</td>\n",
       "      <td>NaN</td>\n",
       "      <td>1000</td>\n",
       "      <td>30720</td>\n",
       "      <td>3000</td>\n",
       "      <td>1950</td>\n",
       "      <td>150</td>\n",
       "      <td>1</td>\n",
       "      <td>1</td>\n",
       "      <td>ultra</td>\n",
       "    </tr>\n",
       "    <tr>\n",
       "      <td>3</td>\n",
       "      <td>1000</td>\n",
       "      <td>8</td>\n",
       "      <td>408</td>\n",
       "      <td>52</td>\n",
       "      <td>81.0</td>\n",
       "      <td>14070.0</td>\n",
       "      <td>52</td>\n",
       "      <td>NaT</td>\n",
       "      <td>Краснодар</td>\n",
       "      <td>Рафаил</td>\n",
       "      <td>...</td>\n",
       "      <td>5</td>\n",
       "      <td>NaN</td>\n",
       "      <td>1000</td>\n",
       "      <td>30720</td>\n",
       "      <td>3000</td>\n",
       "      <td>1950</td>\n",
       "      <td>150</td>\n",
       "      <td>1</td>\n",
       "      <td>1</td>\n",
       "      <td>ultra</td>\n",
       "    </tr>\n",
       "    <tr>\n",
       "      <td>4</td>\n",
       "      <td>1000</td>\n",
       "      <td>9</td>\n",
       "      <td>466</td>\n",
       "      <td>58</td>\n",
       "      <td>57.0</td>\n",
       "      <td>14581.0</td>\n",
       "      <td>52</td>\n",
       "      <td>NaT</td>\n",
       "      <td>Краснодар</td>\n",
       "      <td>Рафаил</td>\n",
       "      <td>...</td>\n",
       "      <td>5</td>\n",
       "      <td>NaN</td>\n",
       "      <td>1000</td>\n",
       "      <td>30720</td>\n",
       "      <td>3000</td>\n",
       "      <td>1950</td>\n",
       "      <td>150</td>\n",
       "      <td>1</td>\n",
       "      <td>1</td>\n",
       "      <td>ultra</td>\n",
       "    </tr>\n",
       "  </tbody>\n",
       "</table>\n",
       "<p>5 rows × 23 columns</p>\n",
       "</div>"
      ],
      "text/plain": [
       "   user_id  month  calls_duration  calls_amount  messages  mb_used  age  \\\n",
       "0     1000      5             159            22      22.0   2256.0   52   \n",
       "1     1000      6             172            43      60.0  23257.0   52   \n",
       "2     1000      7             340            47      75.0  14016.0   52   \n",
       "3     1000      8             408            52      81.0  14070.0   52   \n",
       "4     1000      9             466            58      57.0  14581.0   52   \n",
       "\n",
       "  churn_date       city first_name  ... reg_month churn_month  \\\n",
       "0        NaT  Краснодар     Рафаил  ...         5         NaN   \n",
       "1        NaT  Краснодар     Рафаил  ...         5         NaN   \n",
       "2        NaT  Краснодар     Рафаил  ...         5         NaN   \n",
       "3        NaT  Краснодар     Рафаил  ...         5         NaN   \n",
       "4        NaT  Краснодар     Рафаил  ...         5         NaN   \n",
       "\n",
       "  messages_included  mb_per_month_included  minutes_included  rub_monthly_fee  \\\n",
       "0              1000                  30720              3000             1950   \n",
       "1              1000                  30720              3000             1950   \n",
       "2              1000                  30720              3000             1950   \n",
       "3              1000                  30720              3000             1950   \n",
       "4              1000                  30720              3000             1950   \n",
       "\n",
       "   rub_per_gb  rub_per_message  rub_per_minute  tariff_name  \n",
       "0         150                1               1        ultra  \n",
       "1         150                1               1        ultra  \n",
       "2         150                1               1        ultra  \n",
       "3         150                1               1        ultra  \n",
       "4         150                1               1        ultra  \n",
       "\n",
       "[5 rows x 23 columns]"
      ]
     },
     "metadata": {},
     "output_type": "display_data"
    },
    {
     "data": {
      "text/plain": [
       "'all_by_month'"
      ]
     },
     "metadata": {},
     "output_type": "display_data"
    },
    {
     "data": {
      "text/plain": [
       "user_id                  3174\n",
       "month                    3174\n",
       "calls_duration           3174\n",
       "calls_amount             3174\n",
       "messages                 2678\n",
       "mb_used                  3163\n",
       "age                      3174\n",
       "churn_date                187\n",
       "city                     3174\n",
       "first_name               3174\n",
       "last_name                3174\n",
       "reg_date                 3174\n",
       "tariff                   3174\n",
       "reg_month                3174\n",
       "churn_month               187\n",
       "messages_included        3174\n",
       "mb_per_month_included    3174\n",
       "minutes_included         3174\n",
       "rub_monthly_fee          3174\n",
       "rub_per_gb               3174\n",
       "rub_per_message          3174\n",
       "rub_per_minute           3174\n",
       "tariff_name              3174\n",
       "dtype: int64"
      ]
     },
     "metadata": {},
     "output_type": "display_data"
    },
    {
     "data": {
      "text/plain": [
       "'internet_by_month'"
      ]
     },
     "metadata": {},
     "output_type": "display_data"
    },
    {
     "data": {
      "text/plain": [
       "user_id    3203\n",
       "month      3203\n",
       "mb_used    3203\n",
       "dtype: int64"
      ]
     },
     "metadata": {},
     "output_type": "display_data"
    },
    {
     "data": {
      "text/plain": [
       "'messages_by_month'"
      ]
     },
     "metadata": {},
     "output_type": "display_data"
    },
    {
     "data": {
      "text/plain": [
       "user_id     2717\n",
       "month       2717\n",
       "messages    2717\n",
       "dtype: int64"
      ]
     },
     "metadata": {},
     "output_type": "display_data"
    }
   ],
   "source": [
    "#Посчитайте для каждого пользователя:\n",
    "#1. количество сделанных звонков и израсходованных минут разговора по месяцам;\n",
    "calls_by_month = d_calls.pivot_table(index=['user_id', 'month']\n",
    "                                     , values='duration'\n",
    "                                     , aggfunc=['sum', 'count']\n",
    "                                    )\n",
    "calls_by_month.sort_values(by=['user_id'], ascending=False).reset_index()\n",
    "calls_by_month.columns = ['calls_duration', 'calls_amount']\n",
    "display(calls_by_month.head(5))\n",
    "###Заменить сводную табицу на обычную\n",
    "calls_by_month = calls_by_month.reset_index()\n",
    "display(calls_by_month.head(5))\n",
    "#calls_by_month.columns = calls_by_month.columns.droplevel(0)\n",
    "#сalls_by_month = calls_by_month.reset_index().rename_axis(None, axis=1)\n",
    "#2. количество отправленных сообщений по месяцам;\n",
    "messages_by_month = d_messages.pivot_table(index=['user_id', 'month']\n",
    "                                           , values='id'\n",
    "                                           , aggfunc=['count']\n",
    "                                          )\n",
    "messages_by_month.sort_values(by=['user_id'], ascending=False).reset_index()\n",
    "messages_by_month.columns = ['messages']\n",
    "messages_by_month['messages'] = messages_by_month['messages'].astype('int')\n",
    "messages_by_month = messages_by_month.reset_index()\n",
    "#3. объем израсходованного интернет-трафика по месяцам;\n",
    "internet_by_month = d_internet.pivot_table(index=['user_id', 'month']\n",
    "                                           , values='mb_used'\n",
    "                                           , aggfunc=['sum']\n",
    "                                          )\n",
    "internet_by_month.sort_values(by=['user_id'], ascending=False).reset_index()\n",
    "internet_by_month.columns = ['mb_used']\n",
    "internet_by_month = internet_by_month.reset_index()\n",
    "#4. помесячную выручку с каждого пользователя\n",
    "#--smart-----------------------------------\n",
    "#--messages_included = 50,--mb_per_month_included = 15360--minutes_included = 500\n",
    "#--rub_monthly_fee = 550,--rub_per_gb = 200,--rub_per_message =3,--rub_per_minute = 3\n",
    "#for row in all_by_month\n",
    "\n",
    "all_by_month = calls_by_month.merge(messages_by_month, on=['user_id', 'month'], how='left')\n",
    "all_by_month.info()\n",
    "all_by_month = all_by_month.merge(internet_by_month, on=['user_id', 'month'], how='left')\n",
    "all_by_month = all_by_month.merge(d_users, on=['user_id'], how='left')\n",
    "all_by_month.info()\n",
    "all_by_month = all_by_month.merge(d_tariffs, left_on=['tariff'], right_on=['tariff_name'], how='left')\n",
    "display(all_by_month.head(5))\n",
    "display('all_by_month',all_by_month.count())\n",
    "display('internet_by_month',internet_by_month.count())\n",
    "display('messages_by_month',messages_by_month.count())"
   ]
  },
  {
   "cell_type": "markdown",
   "metadata": {},
   "source": [
    "<div style=\"border:solid blue 2px; padding: 20px\"> \n",
    "<a id=\"analisys\">\n",
    "    Шаг 4. Анализ данных пользователя\n",
    "</a>\n",
    "</div>"
   ]
  },
  {
   "cell_type": "code",
   "execution_count": 4,
   "metadata": {},
   "outputs": [
    {
     "data": {
      "text/html": [
       "<div>\n",
       "<style scoped>\n",
       "    .dataframe tbody tr th:only-of-type {\n",
       "        vertical-align: middle;\n",
       "    }\n",
       "\n",
       "    .dataframe tbody tr th {\n",
       "        vertical-align: top;\n",
       "    }\n",
       "\n",
       "    .dataframe thead th {\n",
       "        text-align: right;\n",
       "    }\n",
       "</style>\n",
       "<table border=\"1\" class=\"dataframe\">\n",
       "  <thead>\n",
       "    <tr style=\"text-align: right;\">\n",
       "      <th></th>\n",
       "      <th>user_id</th>\n",
       "      <th>month</th>\n",
       "      <th>calls_duration</th>\n",
       "      <th>calls_amount</th>\n",
       "      <th>messages</th>\n",
       "      <th>mb_used</th>\n",
       "      <th>age</th>\n",
       "      <th>churn_date</th>\n",
       "      <th>city</th>\n",
       "      <th>first_name</th>\n",
       "      <th>...</th>\n",
       "      <th>churn_month</th>\n",
       "      <th>messages_included</th>\n",
       "      <th>mb_per_month_included</th>\n",
       "      <th>minutes_included</th>\n",
       "      <th>rub_monthly_fee</th>\n",
       "      <th>rub_per_gb</th>\n",
       "      <th>rub_per_message</th>\n",
       "      <th>rub_per_minute</th>\n",
       "      <th>tariff_name</th>\n",
       "      <th>total_revenue</th>\n",
       "    </tr>\n",
       "  </thead>\n",
       "  <tbody>\n",
       "    <tr>\n",
       "      <td>0</td>\n",
       "      <td>1000</td>\n",
       "      <td>5</td>\n",
       "      <td>159</td>\n",
       "      <td>22</td>\n",
       "      <td>22.0</td>\n",
       "      <td>2256.0</td>\n",
       "      <td>52</td>\n",
       "      <td>NaT</td>\n",
       "      <td>Краснодар</td>\n",
       "      <td>Рафаил</td>\n",
       "      <td>...</td>\n",
       "      <td>NaN</td>\n",
       "      <td>1000</td>\n",
       "      <td>30720</td>\n",
       "      <td>3000</td>\n",
       "      <td>1950</td>\n",
       "      <td>150</td>\n",
       "      <td>1</td>\n",
       "      <td>1</td>\n",
       "      <td>ultra</td>\n",
       "      <td>1950.0</td>\n",
       "    </tr>\n",
       "    <tr>\n",
       "      <td>1</td>\n",
       "      <td>1000</td>\n",
       "      <td>6</td>\n",
       "      <td>172</td>\n",
       "      <td>43</td>\n",
       "      <td>60.0</td>\n",
       "      <td>23257.0</td>\n",
       "      <td>52</td>\n",
       "      <td>NaT</td>\n",
       "      <td>Краснодар</td>\n",
       "      <td>Рафаил</td>\n",
       "      <td>...</td>\n",
       "      <td>NaN</td>\n",
       "      <td>1000</td>\n",
       "      <td>30720</td>\n",
       "      <td>3000</td>\n",
       "      <td>1950</td>\n",
       "      <td>150</td>\n",
       "      <td>1</td>\n",
       "      <td>1</td>\n",
       "      <td>ultra</td>\n",
       "      <td>1950.0</td>\n",
       "    </tr>\n",
       "    <tr>\n",
       "      <td>2</td>\n",
       "      <td>1000</td>\n",
       "      <td>7</td>\n",
       "      <td>340</td>\n",
       "      <td>47</td>\n",
       "      <td>75.0</td>\n",
       "      <td>14016.0</td>\n",
       "      <td>52</td>\n",
       "      <td>NaT</td>\n",
       "      <td>Краснодар</td>\n",
       "      <td>Рафаил</td>\n",
       "      <td>...</td>\n",
       "      <td>NaN</td>\n",
       "      <td>1000</td>\n",
       "      <td>30720</td>\n",
       "      <td>3000</td>\n",
       "      <td>1950</td>\n",
       "      <td>150</td>\n",
       "      <td>1</td>\n",
       "      <td>1</td>\n",
       "      <td>ultra</td>\n",
       "      <td>1950.0</td>\n",
       "    </tr>\n",
       "    <tr>\n",
       "      <td>3</td>\n",
       "      <td>1000</td>\n",
       "      <td>8</td>\n",
       "      <td>408</td>\n",
       "      <td>52</td>\n",
       "      <td>81.0</td>\n",
       "      <td>14070.0</td>\n",
       "      <td>52</td>\n",
       "      <td>NaT</td>\n",
       "      <td>Краснодар</td>\n",
       "      <td>Рафаил</td>\n",
       "      <td>...</td>\n",
       "      <td>NaN</td>\n",
       "      <td>1000</td>\n",
       "      <td>30720</td>\n",
       "      <td>3000</td>\n",
       "      <td>1950</td>\n",
       "      <td>150</td>\n",
       "      <td>1</td>\n",
       "      <td>1</td>\n",
       "      <td>ultra</td>\n",
       "      <td>1950.0</td>\n",
       "    </tr>\n",
       "    <tr>\n",
       "      <td>4</td>\n",
       "      <td>1000</td>\n",
       "      <td>9</td>\n",
       "      <td>466</td>\n",
       "      <td>58</td>\n",
       "      <td>57.0</td>\n",
       "      <td>14581.0</td>\n",
       "      <td>52</td>\n",
       "      <td>NaT</td>\n",
       "      <td>Краснодар</td>\n",
       "      <td>Рафаил</td>\n",
       "      <td>...</td>\n",
       "      <td>NaN</td>\n",
       "      <td>1000</td>\n",
       "      <td>30720</td>\n",
       "      <td>3000</td>\n",
       "      <td>1950</td>\n",
       "      <td>150</td>\n",
       "      <td>1</td>\n",
       "      <td>1</td>\n",
       "      <td>ultra</td>\n",
       "      <td>1950.0</td>\n",
       "    </tr>\n",
       "    <tr>\n",
       "      <td>5</td>\n",
       "      <td>1000</td>\n",
       "      <td>10</td>\n",
       "      <td>350</td>\n",
       "      <td>57</td>\n",
       "      <td>73.0</td>\n",
       "      <td>14717.0</td>\n",
       "      <td>52</td>\n",
       "      <td>NaT</td>\n",
       "      <td>Краснодар</td>\n",
       "      <td>Рафаил</td>\n",
       "      <td>...</td>\n",
       "      <td>NaN</td>\n",
       "      <td>1000</td>\n",
       "      <td>30720</td>\n",
       "      <td>3000</td>\n",
       "      <td>1950</td>\n",
       "      <td>150</td>\n",
       "      <td>1</td>\n",
       "      <td>1</td>\n",
       "      <td>ultra</td>\n",
       "      <td>1950.0</td>\n",
       "    </tr>\n",
       "    <tr>\n",
       "      <td>6</td>\n",
       "      <td>1000</td>\n",
       "      <td>11</td>\n",
       "      <td>338</td>\n",
       "      <td>43</td>\n",
       "      <td>58.0</td>\n",
       "      <td>14768.0</td>\n",
       "      <td>52</td>\n",
       "      <td>NaT</td>\n",
       "      <td>Краснодар</td>\n",
       "      <td>Рафаил</td>\n",
       "      <td>...</td>\n",
       "      <td>NaN</td>\n",
       "      <td>1000</td>\n",
       "      <td>30720</td>\n",
       "      <td>3000</td>\n",
       "      <td>1950</td>\n",
       "      <td>150</td>\n",
       "      <td>1</td>\n",
       "      <td>1</td>\n",
       "      <td>ultra</td>\n",
       "      <td>1950.0</td>\n",
       "    </tr>\n",
       "    <tr>\n",
       "      <td>7</td>\n",
       "      <td>1000</td>\n",
       "      <td>12</td>\n",
       "      <td>333</td>\n",
       "      <td>46</td>\n",
       "      <td>70.0</td>\n",
       "      <td>9827.0</td>\n",
       "      <td>52</td>\n",
       "      <td>NaT</td>\n",
       "      <td>Краснодар</td>\n",
       "      <td>Рафаил</td>\n",
       "      <td>...</td>\n",
       "      <td>NaN</td>\n",
       "      <td>1000</td>\n",
       "      <td>30720</td>\n",
       "      <td>3000</td>\n",
       "      <td>1950</td>\n",
       "      <td>150</td>\n",
       "      <td>1</td>\n",
       "      <td>1</td>\n",
       "      <td>ultra</td>\n",
       "      <td>1950.0</td>\n",
       "    </tr>\n",
       "    <tr>\n",
       "      <td>8</td>\n",
       "      <td>1001</td>\n",
       "      <td>11</td>\n",
       "      <td>430</td>\n",
       "      <td>59</td>\n",
       "      <td>NaN</td>\n",
       "      <td>18452.0</td>\n",
       "      <td>41</td>\n",
       "      <td>NaT</td>\n",
       "      <td>Москва</td>\n",
       "      <td>Иван</td>\n",
       "      <td>...</td>\n",
       "      <td>NaN</td>\n",
       "      <td>50</td>\n",
       "      <td>15360</td>\n",
       "      <td>500</td>\n",
       "      <td>550</td>\n",
       "      <td>200</td>\n",
       "      <td>3</td>\n",
       "      <td>3</td>\n",
       "      <td>smart</td>\n",
       "      <td>1350.0</td>\n",
       "    </tr>\n",
       "    <tr>\n",
       "      <td>9</td>\n",
       "      <td>1001</td>\n",
       "      <td>12</td>\n",
       "      <td>414</td>\n",
       "      <td>63</td>\n",
       "      <td>NaN</td>\n",
       "      <td>14053.0</td>\n",
       "      <td>41</td>\n",
       "      <td>NaT</td>\n",
       "      <td>Москва</td>\n",
       "      <td>Иван</td>\n",
       "      <td>...</td>\n",
       "      <td>NaN</td>\n",
       "      <td>50</td>\n",
       "      <td>15360</td>\n",
       "      <td>500</td>\n",
       "      <td>550</td>\n",
       "      <td>200</td>\n",
       "      <td>3</td>\n",
       "      <td>3</td>\n",
       "      <td>smart</td>\n",
       "      <td>550.0</td>\n",
       "    </tr>\n",
       "    <tr>\n",
       "      <td>10</td>\n",
       "      <td>1002</td>\n",
       "      <td>6</td>\n",
       "      <td>117</td>\n",
       "      <td>15</td>\n",
       "      <td>4.0</td>\n",
       "      <td>10871.0</td>\n",
       "      <td>59</td>\n",
       "      <td>NaT</td>\n",
       "      <td>Стерлитамак</td>\n",
       "      <td>Евгений</td>\n",
       "      <td>...</td>\n",
       "      <td>NaN</td>\n",
       "      <td>50</td>\n",
       "      <td>15360</td>\n",
       "      <td>500</td>\n",
       "      <td>550</td>\n",
       "      <td>200</td>\n",
       "      <td>3</td>\n",
       "      <td>3</td>\n",
       "      <td>smart</td>\n",
       "      <td>550.0</td>\n",
       "    </tr>\n",
       "    <tr>\n",
       "      <td>11</td>\n",
       "      <td>1002</td>\n",
       "      <td>7</td>\n",
       "      <td>214</td>\n",
       "      <td>26</td>\n",
       "      <td>11.0</td>\n",
       "      <td>17601.0</td>\n",
       "      <td>59</td>\n",
       "      <td>NaT</td>\n",
       "      <td>Стерлитамак</td>\n",
       "      <td>Евгений</td>\n",
       "      <td>...</td>\n",
       "      <td>NaN</td>\n",
       "      <td>50</td>\n",
       "      <td>15360</td>\n",
       "      <td>500</td>\n",
       "      <td>550</td>\n",
       "      <td>200</td>\n",
       "      <td>3</td>\n",
       "      <td>3</td>\n",
       "      <td>smart</td>\n",
       "      <td>1150.0</td>\n",
       "    </tr>\n",
       "    <tr>\n",
       "      <td>12</td>\n",
       "      <td>1002</td>\n",
       "      <td>8</td>\n",
       "      <td>289</td>\n",
       "      <td>42</td>\n",
       "      <td>13.0</td>\n",
       "      <td>20347.0</td>\n",
       "      <td>59</td>\n",
       "      <td>NaT</td>\n",
       "      <td>Стерлитамак</td>\n",
       "      <td>Евгений</td>\n",
       "      <td>...</td>\n",
       "      <td>NaN</td>\n",
       "      <td>50</td>\n",
       "      <td>15360</td>\n",
       "      <td>500</td>\n",
       "      <td>550</td>\n",
       "      <td>200</td>\n",
       "      <td>3</td>\n",
       "      <td>3</td>\n",
       "      <td>smart</td>\n",
       "      <td>1550.0</td>\n",
       "    </tr>\n",
       "    <tr>\n",
       "      <td>13</td>\n",
       "      <td>1002</td>\n",
       "      <td>9</td>\n",
       "      <td>206</td>\n",
       "      <td>36</td>\n",
       "      <td>4.0</td>\n",
       "      <td>16712.0</td>\n",
       "      <td>59</td>\n",
       "      <td>NaT</td>\n",
       "      <td>Стерлитамак</td>\n",
       "      <td>Евгений</td>\n",
       "      <td>...</td>\n",
       "      <td>NaN</td>\n",
       "      <td>50</td>\n",
       "      <td>15360</td>\n",
       "      <td>500</td>\n",
       "      <td>550</td>\n",
       "      <td>200</td>\n",
       "      <td>3</td>\n",
       "      <td>3</td>\n",
       "      <td>smart</td>\n",
       "      <td>950.0</td>\n",
       "    </tr>\n",
       "    <tr>\n",
       "      <td>14</td>\n",
       "      <td>1002</td>\n",
       "      <td>10</td>\n",
       "      <td>212</td>\n",
       "      <td>33</td>\n",
       "      <td>10.0</td>\n",
       "      <td>13905.0</td>\n",
       "      <td>59</td>\n",
       "      <td>NaT</td>\n",
       "      <td>Стерлитамак</td>\n",
       "      <td>Евгений</td>\n",
       "      <td>...</td>\n",
       "      <td>NaN</td>\n",
       "      <td>50</td>\n",
       "      <td>15360</td>\n",
       "      <td>500</td>\n",
       "      <td>550</td>\n",
       "      <td>200</td>\n",
       "      <td>3</td>\n",
       "      <td>3</td>\n",
       "      <td>smart</td>\n",
       "      <td>550.0</td>\n",
       "    </tr>\n",
       "    <tr>\n",
       "      <td>15</td>\n",
       "      <td>1002</td>\n",
       "      <td>11</td>\n",
       "      <td>243</td>\n",
       "      <td>32</td>\n",
       "      <td>16.0</td>\n",
       "      <td>18610.0</td>\n",
       "      <td>59</td>\n",
       "      <td>NaT</td>\n",
       "      <td>Стерлитамак</td>\n",
       "      <td>Евгений</td>\n",
       "      <td>...</td>\n",
       "      <td>NaN</td>\n",
       "      <td>50</td>\n",
       "      <td>15360</td>\n",
       "      <td>500</td>\n",
       "      <td>550</td>\n",
       "      <td>200</td>\n",
       "      <td>3</td>\n",
       "      <td>3</td>\n",
       "      <td>smart</td>\n",
       "      <td>1350.0</td>\n",
       "    </tr>\n",
       "    <tr>\n",
       "      <td>16</td>\n",
       "      <td>1002</td>\n",
       "      <td>12</td>\n",
       "      <td>236</td>\n",
       "      <td>33</td>\n",
       "      <td>12.0</td>\n",
       "      <td>18137.0</td>\n",
       "      <td>59</td>\n",
       "      <td>NaT</td>\n",
       "      <td>Стерлитамак</td>\n",
       "      <td>Евгений</td>\n",
       "      <td>...</td>\n",
       "      <td>NaN</td>\n",
       "      <td>50</td>\n",
       "      <td>15360</td>\n",
       "      <td>500</td>\n",
       "      <td>550</td>\n",
       "      <td>200</td>\n",
       "      <td>3</td>\n",
       "      <td>3</td>\n",
       "      <td>smart</td>\n",
       "      <td>1150.0</td>\n",
       "    </tr>\n",
       "    <tr>\n",
       "      <td>17</td>\n",
       "      <td>1003</td>\n",
       "      <td>8</td>\n",
       "      <td>380</td>\n",
       "      <td>55</td>\n",
       "      <td>37.0</td>\n",
       "      <td>8571.0</td>\n",
       "      <td>23</td>\n",
       "      <td>NaT</td>\n",
       "      <td>Москва</td>\n",
       "      <td>Белла</td>\n",
       "      <td>...</td>\n",
       "      <td>NaN</td>\n",
       "      <td>1000</td>\n",
       "      <td>30720</td>\n",
       "      <td>3000</td>\n",
       "      <td>1950</td>\n",
       "      <td>150</td>\n",
       "      <td>1</td>\n",
       "      <td>1</td>\n",
       "      <td>ultra</td>\n",
       "      <td>1950.0</td>\n",
       "    </tr>\n",
       "    <tr>\n",
       "      <td>18</td>\n",
       "      <td>1003</td>\n",
       "      <td>9</td>\n",
       "      <td>961</td>\n",
       "      <td>134</td>\n",
       "      <td>91.0</td>\n",
       "      <td>12479.0</td>\n",
       "      <td>23</td>\n",
       "      <td>NaT</td>\n",
       "      <td>Москва</td>\n",
       "      <td>Белла</td>\n",
       "      <td>...</td>\n",
       "      <td>NaN</td>\n",
       "      <td>1000</td>\n",
       "      <td>30720</td>\n",
       "      <td>3000</td>\n",
       "      <td>1950</td>\n",
       "      <td>150</td>\n",
       "      <td>1</td>\n",
       "      <td>1</td>\n",
       "      <td>ultra</td>\n",
       "      <td>1950.0</td>\n",
       "    </tr>\n",
       "    <tr>\n",
       "      <td>19</td>\n",
       "      <td>1003</td>\n",
       "      <td>10</td>\n",
       "      <td>855</td>\n",
       "      <td>108</td>\n",
       "      <td>83.0</td>\n",
       "      <td>14779.0</td>\n",
       "      <td>23</td>\n",
       "      <td>NaT</td>\n",
       "      <td>Москва</td>\n",
       "      <td>Белла</td>\n",
       "      <td>...</td>\n",
       "      <td>NaN</td>\n",
       "      <td>1000</td>\n",
       "      <td>30720</td>\n",
       "      <td>3000</td>\n",
       "      <td>1950</td>\n",
       "      <td>150</td>\n",
       "      <td>1</td>\n",
       "      <td>1</td>\n",
       "      <td>ultra</td>\n",
       "      <td>1950.0</td>\n",
       "    </tr>\n",
       "  </tbody>\n",
       "</table>\n",
       "<p>20 rows × 24 columns</p>\n",
       "</div>"
      ],
      "text/plain": [
       "    user_id  month  calls_duration  calls_amount  messages  mb_used  age  \\\n",
       "0      1000      5             159            22      22.0   2256.0   52   \n",
       "1      1000      6             172            43      60.0  23257.0   52   \n",
       "2      1000      7             340            47      75.0  14016.0   52   \n",
       "3      1000      8             408            52      81.0  14070.0   52   \n",
       "4      1000      9             466            58      57.0  14581.0   52   \n",
       "5      1000     10             350            57      73.0  14717.0   52   \n",
       "6      1000     11             338            43      58.0  14768.0   52   \n",
       "7      1000     12             333            46      70.0   9827.0   52   \n",
       "8      1001     11             430            59       NaN  18452.0   41   \n",
       "9      1001     12             414            63       NaN  14053.0   41   \n",
       "10     1002      6             117            15       4.0  10871.0   59   \n",
       "11     1002      7             214            26      11.0  17601.0   59   \n",
       "12     1002      8             289            42      13.0  20347.0   59   \n",
       "13     1002      9             206            36       4.0  16712.0   59   \n",
       "14     1002     10             212            33      10.0  13905.0   59   \n",
       "15     1002     11             243            32      16.0  18610.0   59   \n",
       "16     1002     12             236            33      12.0  18137.0   59   \n",
       "17     1003      8             380            55      37.0   8571.0   23   \n",
       "18     1003      9             961           134      91.0  12479.0   23   \n",
       "19     1003     10             855           108      83.0  14779.0   23   \n",
       "\n",
       "   churn_date         city first_name  ... churn_month messages_included  \\\n",
       "0         NaT    Краснодар     Рафаил  ...         NaN              1000   \n",
       "1         NaT    Краснодар     Рафаил  ...         NaN              1000   \n",
       "2         NaT    Краснодар     Рафаил  ...         NaN              1000   \n",
       "3         NaT    Краснодар     Рафаил  ...         NaN              1000   \n",
       "4         NaT    Краснодар     Рафаил  ...         NaN              1000   \n",
       "5         NaT    Краснодар     Рафаил  ...         NaN              1000   \n",
       "6         NaT    Краснодар     Рафаил  ...         NaN              1000   \n",
       "7         NaT    Краснодар     Рафаил  ...         NaN              1000   \n",
       "8         NaT       Москва       Иван  ...         NaN                50   \n",
       "9         NaT       Москва       Иван  ...         NaN                50   \n",
       "10        NaT  Стерлитамак    Евгений  ...         NaN                50   \n",
       "11        NaT  Стерлитамак    Евгений  ...         NaN                50   \n",
       "12        NaT  Стерлитамак    Евгений  ...         NaN                50   \n",
       "13        NaT  Стерлитамак    Евгений  ...         NaN                50   \n",
       "14        NaT  Стерлитамак    Евгений  ...         NaN                50   \n",
       "15        NaT  Стерлитамак    Евгений  ...         NaN                50   \n",
       "16        NaT  Стерлитамак    Евгений  ...         NaN                50   \n",
       "17        NaT       Москва      Белла  ...         NaN              1000   \n",
       "18        NaT       Москва      Белла  ...         NaN              1000   \n",
       "19        NaT       Москва      Белла  ...         NaN              1000   \n",
       "\n",
       "   mb_per_month_included  minutes_included  rub_monthly_fee  rub_per_gb  \\\n",
       "0                  30720              3000             1950         150   \n",
       "1                  30720              3000             1950         150   \n",
       "2                  30720              3000             1950         150   \n",
       "3                  30720              3000             1950         150   \n",
       "4                  30720              3000             1950         150   \n",
       "5                  30720              3000             1950         150   \n",
       "6                  30720              3000             1950         150   \n",
       "7                  30720              3000             1950         150   \n",
       "8                  15360               500              550         200   \n",
       "9                  15360               500              550         200   \n",
       "10                 15360               500              550         200   \n",
       "11                 15360               500              550         200   \n",
       "12                 15360               500              550         200   \n",
       "13                 15360               500              550         200   \n",
       "14                 15360               500              550         200   \n",
       "15                 15360               500              550         200   \n",
       "16                 15360               500              550         200   \n",
       "17                 30720              3000             1950         150   \n",
       "18                 30720              3000             1950         150   \n",
       "19                 30720              3000             1950         150   \n",
       "\n",
       "    rub_per_message  rub_per_minute  tariff_name  total_revenue  \n",
       "0                 1               1        ultra         1950.0  \n",
       "1                 1               1        ultra         1950.0  \n",
       "2                 1               1        ultra         1950.0  \n",
       "3                 1               1        ultra         1950.0  \n",
       "4                 1               1        ultra         1950.0  \n",
       "5                 1               1        ultra         1950.0  \n",
       "6                 1               1        ultra         1950.0  \n",
       "7                 1               1        ultra         1950.0  \n",
       "8                 3               3        smart         1350.0  \n",
       "9                 3               3        smart          550.0  \n",
       "10                3               3        smart          550.0  \n",
       "11                3               3        smart         1150.0  \n",
       "12                3               3        smart         1550.0  \n",
       "13                3               3        smart          950.0  \n",
       "14                3               3        smart          550.0  \n",
       "15                3               3        smart         1350.0  \n",
       "16                3               3        smart         1150.0  \n",
       "17                1               1        ultra         1950.0  \n",
       "18                1               1        ultra         1950.0  \n",
       "19                1               1        ultra         1950.0  \n",
       "\n",
       "[20 rows x 24 columns]"
      ]
     },
     "metadata": {},
     "output_type": "display_data"
    },
    {
     "name": "stdout",
     "output_type": "stream",
     "text": [
      "<class 'pandas.core.frame.DataFrame'>\n",
      "Int64Index: 3174 entries, 0 to 3173\n",
      "Data columns (total 24 columns):\n",
      "user_id                  3174 non-null int64\n",
      "month                    3174 non-null int64\n",
      "calls_duration           3174 non-null int64\n",
      "calls_amount             3174 non-null int64\n",
      "messages                 2678 non-null float64\n",
      "mb_used                  3163 non-null float64\n",
      "age                      3174 non-null int64\n",
      "churn_date               187 non-null datetime64[ns]\n",
      "city                     3174 non-null object\n",
      "first_name               3174 non-null object\n",
      "last_name                3174 non-null object\n",
      "reg_date                 3174 non-null datetime64[ns]\n",
      "tariff                   3174 non-null object\n",
      "reg_month                3174 non-null int64\n",
      "churn_month              187 non-null float64\n",
      "messages_included        3174 non-null int64\n",
      "mb_per_month_included    3174 non-null int64\n",
      "minutes_included         3174 non-null int64\n",
      "rub_monthly_fee          3174 non-null int64\n",
      "rub_per_gb               3174 non-null int64\n",
      "rub_per_message          3174 non-null int64\n",
      "rub_per_minute           3174 non-null int64\n",
      "tariff_name              3174 non-null object\n",
      "total_revenue            3174 non-null float64\n",
      "dtypes: datetime64[ns](2), float64(4), int64(13), object(5)\n",
      "memory usage: 619.9+ KB\n"
     ]
    }
   ],
   "source": [
    "#Посчитаем выручку от сообщений/интернета/звонков\n",
    "###вычтем бесплатный лимит из суммарного количества звонков, сообщений и интернет-трафика; \n",
    "###остаток умножьте на значение из тарифного плана; \n",
    "###прибавьте абонентскую плату, соответствующую тарифному плану.\n",
    "\n",
    "def users_by_month(row):   \n",
    "    if row['messages'] > row['messages_included']:\n",
    "        revenue_message = (row['messages']-row['messages_included'])*row['rub_per_message']\n",
    "    else:\n",
    "        revenue_message = 0\n",
    "    if row['mb_used'] > row['mb_per_month_included']:\n",
    "        revenue_internet = math.ceil((row['mb_used']-row['mb_per_month_included'])/1024)*row['rub_per_gb']\n",
    "    else:\n",
    "        revenue_internet = 0\n",
    "    if row['calls_duration'] > row['minutes_included']:\n",
    "        revenue_calls = (row['calls_duration']-row['minutes_included'])*row['rub_per_minute']\n",
    "    else:\n",
    "        revenue_calls = 0\n",
    "    total_revenue = revenue_message + revenue_internet + revenue_calls + row['rub_monthly_fee']\n",
    "    return total_revenue\n",
    "\n",
    "all_by_month['total_revenue'] = all_by_month.apply(users_by_month, axis=1)\n",
    "display(all_by_month.head(20))\n",
    "all_by_month.info()"
   ]
  },
  {
   "cell_type": "code",
   "execution_count": 5,
   "metadata": {},
   "outputs": [
    {
     "data": {
      "text/html": [
       "<div>\n",
       "<style scoped>\n",
       "    .dataframe tbody tr th:only-of-type {\n",
       "        vertical-align: middle;\n",
       "    }\n",
       "\n",
       "    .dataframe tbody tr th {\n",
       "        vertical-align: top;\n",
       "    }\n",
       "\n",
       "    .dataframe thead th {\n",
       "        text-align: right;\n",
       "    }\n",
       "</style>\n",
       "<table border=\"1\" class=\"dataframe\">\n",
       "  <thead>\n",
       "    <tr style=\"text-align: right;\">\n",
       "      <th></th>\n",
       "      <th>user_id</th>\n",
       "      <th>month</th>\n",
       "      <th>calls_duration</th>\n",
       "      <th>calls_amount</th>\n",
       "      <th>messages</th>\n",
       "      <th>mb_used</th>\n",
       "      <th>age</th>\n",
       "      <th>churn_date</th>\n",
       "      <th>city</th>\n",
       "      <th>first_name</th>\n",
       "      <th>...</th>\n",
       "      <th>minutes_included</th>\n",
       "      <th>rub_monthly_fee</th>\n",
       "      <th>rub_per_gb</th>\n",
       "      <th>rub_per_message</th>\n",
       "      <th>rub_per_minute</th>\n",
       "      <th>tariff_name</th>\n",
       "      <th>total_revenue</th>\n",
       "      <th>over_limit_messages</th>\n",
       "      <th>over_limit_internet</th>\n",
       "      <th>over_limit_calls</th>\n",
       "    </tr>\n",
       "  </thead>\n",
       "  <tbody>\n",
       "    <tr>\n",
       "      <td>0</td>\n",
       "      <td>1000</td>\n",
       "      <td>5</td>\n",
       "      <td>159</td>\n",
       "      <td>22</td>\n",
       "      <td>22.0</td>\n",
       "      <td>2256.0</td>\n",
       "      <td>52</td>\n",
       "      <td>NaT</td>\n",
       "      <td>Краснодар</td>\n",
       "      <td>Рафаил</td>\n",
       "      <td>...</td>\n",
       "      <td>3000</td>\n",
       "      <td>1950</td>\n",
       "      <td>150</td>\n",
       "      <td>1</td>\n",
       "      <td>1</td>\n",
       "      <td>ultra</td>\n",
       "      <td>1950.0</td>\n",
       "      <td>0.0</td>\n",
       "      <td>0.0</td>\n",
       "      <td>0</td>\n",
       "    </tr>\n",
       "    <tr>\n",
       "      <td>1</td>\n",
       "      <td>1000</td>\n",
       "      <td>6</td>\n",
       "      <td>172</td>\n",
       "      <td>43</td>\n",
       "      <td>60.0</td>\n",
       "      <td>23257.0</td>\n",
       "      <td>52</td>\n",
       "      <td>NaT</td>\n",
       "      <td>Краснодар</td>\n",
       "      <td>Рафаил</td>\n",
       "      <td>...</td>\n",
       "      <td>3000</td>\n",
       "      <td>1950</td>\n",
       "      <td>150</td>\n",
       "      <td>1</td>\n",
       "      <td>1</td>\n",
       "      <td>ultra</td>\n",
       "      <td>1950.0</td>\n",
       "      <td>0.0</td>\n",
       "      <td>0.0</td>\n",
       "      <td>0</td>\n",
       "    </tr>\n",
       "    <tr>\n",
       "      <td>2</td>\n",
       "      <td>1000</td>\n",
       "      <td>7</td>\n",
       "      <td>340</td>\n",
       "      <td>47</td>\n",
       "      <td>75.0</td>\n",
       "      <td>14016.0</td>\n",
       "      <td>52</td>\n",
       "      <td>NaT</td>\n",
       "      <td>Краснодар</td>\n",
       "      <td>Рафаил</td>\n",
       "      <td>...</td>\n",
       "      <td>3000</td>\n",
       "      <td>1950</td>\n",
       "      <td>150</td>\n",
       "      <td>1</td>\n",
       "      <td>1</td>\n",
       "      <td>ultra</td>\n",
       "      <td>1950.0</td>\n",
       "      <td>0.0</td>\n",
       "      <td>0.0</td>\n",
       "      <td>0</td>\n",
       "    </tr>\n",
       "    <tr>\n",
       "      <td>3</td>\n",
       "      <td>1000</td>\n",
       "      <td>8</td>\n",
       "      <td>408</td>\n",
       "      <td>52</td>\n",
       "      <td>81.0</td>\n",
       "      <td>14070.0</td>\n",
       "      <td>52</td>\n",
       "      <td>NaT</td>\n",
       "      <td>Краснодар</td>\n",
       "      <td>Рафаил</td>\n",
       "      <td>...</td>\n",
       "      <td>3000</td>\n",
       "      <td>1950</td>\n",
       "      <td>150</td>\n",
       "      <td>1</td>\n",
       "      <td>1</td>\n",
       "      <td>ultra</td>\n",
       "      <td>1950.0</td>\n",
       "      <td>0.0</td>\n",
       "      <td>0.0</td>\n",
       "      <td>0</td>\n",
       "    </tr>\n",
       "    <tr>\n",
       "      <td>4</td>\n",
       "      <td>1000</td>\n",
       "      <td>9</td>\n",
       "      <td>466</td>\n",
       "      <td>58</td>\n",
       "      <td>57.0</td>\n",
       "      <td>14581.0</td>\n",
       "      <td>52</td>\n",
       "      <td>NaT</td>\n",
       "      <td>Краснодар</td>\n",
       "      <td>Рафаил</td>\n",
       "      <td>...</td>\n",
       "      <td>3000</td>\n",
       "      <td>1950</td>\n",
       "      <td>150</td>\n",
       "      <td>1</td>\n",
       "      <td>1</td>\n",
       "      <td>ultra</td>\n",
       "      <td>1950.0</td>\n",
       "      <td>0.0</td>\n",
       "      <td>0.0</td>\n",
       "      <td>0</td>\n",
       "    </tr>\n",
       "    <tr>\n",
       "      <td>5</td>\n",
       "      <td>1000</td>\n",
       "      <td>10</td>\n",
       "      <td>350</td>\n",
       "      <td>57</td>\n",
       "      <td>73.0</td>\n",
       "      <td>14717.0</td>\n",
       "      <td>52</td>\n",
       "      <td>NaT</td>\n",
       "      <td>Краснодар</td>\n",
       "      <td>Рафаил</td>\n",
       "      <td>...</td>\n",
       "      <td>3000</td>\n",
       "      <td>1950</td>\n",
       "      <td>150</td>\n",
       "      <td>1</td>\n",
       "      <td>1</td>\n",
       "      <td>ultra</td>\n",
       "      <td>1950.0</td>\n",
       "      <td>0.0</td>\n",
       "      <td>0.0</td>\n",
       "      <td>0</td>\n",
       "    </tr>\n",
       "    <tr>\n",
       "      <td>6</td>\n",
       "      <td>1000</td>\n",
       "      <td>11</td>\n",
       "      <td>338</td>\n",
       "      <td>43</td>\n",
       "      <td>58.0</td>\n",
       "      <td>14768.0</td>\n",
       "      <td>52</td>\n",
       "      <td>NaT</td>\n",
       "      <td>Краснодар</td>\n",
       "      <td>Рафаил</td>\n",
       "      <td>...</td>\n",
       "      <td>3000</td>\n",
       "      <td>1950</td>\n",
       "      <td>150</td>\n",
       "      <td>1</td>\n",
       "      <td>1</td>\n",
       "      <td>ultra</td>\n",
       "      <td>1950.0</td>\n",
       "      <td>0.0</td>\n",
       "      <td>0.0</td>\n",
       "      <td>0</td>\n",
       "    </tr>\n",
       "    <tr>\n",
       "      <td>7</td>\n",
       "      <td>1000</td>\n",
       "      <td>12</td>\n",
       "      <td>333</td>\n",
       "      <td>46</td>\n",
       "      <td>70.0</td>\n",
       "      <td>9827.0</td>\n",
       "      <td>52</td>\n",
       "      <td>NaT</td>\n",
       "      <td>Краснодар</td>\n",
       "      <td>Рафаил</td>\n",
       "      <td>...</td>\n",
       "      <td>3000</td>\n",
       "      <td>1950</td>\n",
       "      <td>150</td>\n",
       "      <td>1</td>\n",
       "      <td>1</td>\n",
       "      <td>ultra</td>\n",
       "      <td>1950.0</td>\n",
       "      <td>0.0</td>\n",
       "      <td>0.0</td>\n",
       "      <td>0</td>\n",
       "    </tr>\n",
       "    <tr>\n",
       "      <td>8</td>\n",
       "      <td>1001</td>\n",
       "      <td>11</td>\n",
       "      <td>430</td>\n",
       "      <td>59</td>\n",
       "      <td>NaN</td>\n",
       "      <td>18452.0</td>\n",
       "      <td>41</td>\n",
       "      <td>NaT</td>\n",
       "      <td>Москва</td>\n",
       "      <td>Иван</td>\n",
       "      <td>...</td>\n",
       "      <td>500</td>\n",
       "      <td>550</td>\n",
       "      <td>200</td>\n",
       "      <td>3</td>\n",
       "      <td>3</td>\n",
       "      <td>smart</td>\n",
       "      <td>1350.0</td>\n",
       "      <td>0.0</td>\n",
       "      <td>3092.0</td>\n",
       "      <td>0</td>\n",
       "    </tr>\n",
       "    <tr>\n",
       "      <td>9</td>\n",
       "      <td>1001</td>\n",
       "      <td>12</td>\n",
       "      <td>414</td>\n",
       "      <td>63</td>\n",
       "      <td>NaN</td>\n",
       "      <td>14053.0</td>\n",
       "      <td>41</td>\n",
       "      <td>NaT</td>\n",
       "      <td>Москва</td>\n",
       "      <td>Иван</td>\n",
       "      <td>...</td>\n",
       "      <td>500</td>\n",
       "      <td>550</td>\n",
       "      <td>200</td>\n",
       "      <td>3</td>\n",
       "      <td>3</td>\n",
       "      <td>smart</td>\n",
       "      <td>550.0</td>\n",
       "      <td>0.0</td>\n",
       "      <td>0.0</td>\n",
       "      <td>0</td>\n",
       "    </tr>\n",
       "    <tr>\n",
       "      <td>10</td>\n",
       "      <td>1002</td>\n",
       "      <td>6</td>\n",
       "      <td>117</td>\n",
       "      <td>15</td>\n",
       "      <td>4.0</td>\n",
       "      <td>10871.0</td>\n",
       "      <td>59</td>\n",
       "      <td>NaT</td>\n",
       "      <td>Стерлитамак</td>\n",
       "      <td>Евгений</td>\n",
       "      <td>...</td>\n",
       "      <td>500</td>\n",
       "      <td>550</td>\n",
       "      <td>200</td>\n",
       "      <td>3</td>\n",
       "      <td>3</td>\n",
       "      <td>smart</td>\n",
       "      <td>550.0</td>\n",
       "      <td>0.0</td>\n",
       "      <td>0.0</td>\n",
       "      <td>0</td>\n",
       "    </tr>\n",
       "    <tr>\n",
       "      <td>11</td>\n",
       "      <td>1002</td>\n",
       "      <td>7</td>\n",
       "      <td>214</td>\n",
       "      <td>26</td>\n",
       "      <td>11.0</td>\n",
       "      <td>17601.0</td>\n",
       "      <td>59</td>\n",
       "      <td>NaT</td>\n",
       "      <td>Стерлитамак</td>\n",
       "      <td>Евгений</td>\n",
       "      <td>...</td>\n",
       "      <td>500</td>\n",
       "      <td>550</td>\n",
       "      <td>200</td>\n",
       "      <td>3</td>\n",
       "      <td>3</td>\n",
       "      <td>smart</td>\n",
       "      <td>1150.0</td>\n",
       "      <td>0.0</td>\n",
       "      <td>2241.0</td>\n",
       "      <td>0</td>\n",
       "    </tr>\n",
       "    <tr>\n",
       "      <td>12</td>\n",
       "      <td>1002</td>\n",
       "      <td>8</td>\n",
       "      <td>289</td>\n",
       "      <td>42</td>\n",
       "      <td>13.0</td>\n",
       "      <td>20347.0</td>\n",
       "      <td>59</td>\n",
       "      <td>NaT</td>\n",
       "      <td>Стерлитамак</td>\n",
       "      <td>Евгений</td>\n",
       "      <td>...</td>\n",
       "      <td>500</td>\n",
       "      <td>550</td>\n",
       "      <td>200</td>\n",
       "      <td>3</td>\n",
       "      <td>3</td>\n",
       "      <td>smart</td>\n",
       "      <td>1550.0</td>\n",
       "      <td>0.0</td>\n",
       "      <td>4987.0</td>\n",
       "      <td>0</td>\n",
       "    </tr>\n",
       "    <tr>\n",
       "      <td>13</td>\n",
       "      <td>1002</td>\n",
       "      <td>9</td>\n",
       "      <td>206</td>\n",
       "      <td>36</td>\n",
       "      <td>4.0</td>\n",
       "      <td>16712.0</td>\n",
       "      <td>59</td>\n",
       "      <td>NaT</td>\n",
       "      <td>Стерлитамак</td>\n",
       "      <td>Евгений</td>\n",
       "      <td>...</td>\n",
       "      <td>500</td>\n",
       "      <td>550</td>\n",
       "      <td>200</td>\n",
       "      <td>3</td>\n",
       "      <td>3</td>\n",
       "      <td>smart</td>\n",
       "      <td>950.0</td>\n",
       "      <td>0.0</td>\n",
       "      <td>1352.0</td>\n",
       "      <td>0</td>\n",
       "    </tr>\n",
       "    <tr>\n",
       "      <td>14</td>\n",
       "      <td>1002</td>\n",
       "      <td>10</td>\n",
       "      <td>212</td>\n",
       "      <td>33</td>\n",
       "      <td>10.0</td>\n",
       "      <td>13905.0</td>\n",
       "      <td>59</td>\n",
       "      <td>NaT</td>\n",
       "      <td>Стерлитамак</td>\n",
       "      <td>Евгений</td>\n",
       "      <td>...</td>\n",
       "      <td>500</td>\n",
       "      <td>550</td>\n",
       "      <td>200</td>\n",
       "      <td>3</td>\n",
       "      <td>3</td>\n",
       "      <td>smart</td>\n",
       "      <td>550.0</td>\n",
       "      <td>0.0</td>\n",
       "      <td>0.0</td>\n",
       "      <td>0</td>\n",
       "    </tr>\n",
       "    <tr>\n",
       "      <td>15</td>\n",
       "      <td>1002</td>\n",
       "      <td>11</td>\n",
       "      <td>243</td>\n",
       "      <td>32</td>\n",
       "      <td>16.0</td>\n",
       "      <td>18610.0</td>\n",
       "      <td>59</td>\n",
       "      <td>NaT</td>\n",
       "      <td>Стерлитамак</td>\n",
       "      <td>Евгений</td>\n",
       "      <td>...</td>\n",
       "      <td>500</td>\n",
       "      <td>550</td>\n",
       "      <td>200</td>\n",
       "      <td>3</td>\n",
       "      <td>3</td>\n",
       "      <td>smart</td>\n",
       "      <td>1350.0</td>\n",
       "      <td>0.0</td>\n",
       "      <td>3250.0</td>\n",
       "      <td>0</td>\n",
       "    </tr>\n",
       "    <tr>\n",
       "      <td>16</td>\n",
       "      <td>1002</td>\n",
       "      <td>12</td>\n",
       "      <td>236</td>\n",
       "      <td>33</td>\n",
       "      <td>12.0</td>\n",
       "      <td>18137.0</td>\n",
       "      <td>59</td>\n",
       "      <td>NaT</td>\n",
       "      <td>Стерлитамак</td>\n",
       "      <td>Евгений</td>\n",
       "      <td>...</td>\n",
       "      <td>500</td>\n",
       "      <td>550</td>\n",
       "      <td>200</td>\n",
       "      <td>3</td>\n",
       "      <td>3</td>\n",
       "      <td>smart</td>\n",
       "      <td>1150.0</td>\n",
       "      <td>0.0</td>\n",
       "      <td>2777.0</td>\n",
       "      <td>0</td>\n",
       "    </tr>\n",
       "    <tr>\n",
       "      <td>17</td>\n",
       "      <td>1003</td>\n",
       "      <td>8</td>\n",
       "      <td>380</td>\n",
       "      <td>55</td>\n",
       "      <td>37.0</td>\n",
       "      <td>8571.0</td>\n",
       "      <td>23</td>\n",
       "      <td>NaT</td>\n",
       "      <td>Москва</td>\n",
       "      <td>Белла</td>\n",
       "      <td>...</td>\n",
       "      <td>3000</td>\n",
       "      <td>1950</td>\n",
       "      <td>150</td>\n",
       "      <td>1</td>\n",
       "      <td>1</td>\n",
       "      <td>ultra</td>\n",
       "      <td>1950.0</td>\n",
       "      <td>0.0</td>\n",
       "      <td>0.0</td>\n",
       "      <td>0</td>\n",
       "    </tr>\n",
       "    <tr>\n",
       "      <td>18</td>\n",
       "      <td>1003</td>\n",
       "      <td>9</td>\n",
       "      <td>961</td>\n",
       "      <td>134</td>\n",
       "      <td>91.0</td>\n",
       "      <td>12479.0</td>\n",
       "      <td>23</td>\n",
       "      <td>NaT</td>\n",
       "      <td>Москва</td>\n",
       "      <td>Белла</td>\n",
       "      <td>...</td>\n",
       "      <td>3000</td>\n",
       "      <td>1950</td>\n",
       "      <td>150</td>\n",
       "      <td>1</td>\n",
       "      <td>1</td>\n",
       "      <td>ultra</td>\n",
       "      <td>1950.0</td>\n",
       "      <td>0.0</td>\n",
       "      <td>0.0</td>\n",
       "      <td>0</td>\n",
       "    </tr>\n",
       "    <tr>\n",
       "      <td>19</td>\n",
       "      <td>1003</td>\n",
       "      <td>10</td>\n",
       "      <td>855</td>\n",
       "      <td>108</td>\n",
       "      <td>83.0</td>\n",
       "      <td>14779.0</td>\n",
       "      <td>23</td>\n",
       "      <td>NaT</td>\n",
       "      <td>Москва</td>\n",
       "      <td>Белла</td>\n",
       "      <td>...</td>\n",
       "      <td>3000</td>\n",
       "      <td>1950</td>\n",
       "      <td>150</td>\n",
       "      <td>1</td>\n",
       "      <td>1</td>\n",
       "      <td>ultra</td>\n",
       "      <td>1950.0</td>\n",
       "      <td>0.0</td>\n",
       "      <td>0.0</td>\n",
       "      <td>0</td>\n",
       "    </tr>\n",
       "  </tbody>\n",
       "</table>\n",
       "<p>20 rows × 27 columns</p>\n",
       "</div>"
      ],
      "text/plain": [
       "    user_id  month  calls_duration  calls_amount  messages  mb_used  age  \\\n",
       "0      1000      5             159            22      22.0   2256.0   52   \n",
       "1      1000      6             172            43      60.0  23257.0   52   \n",
       "2      1000      7             340            47      75.0  14016.0   52   \n",
       "3      1000      8             408            52      81.0  14070.0   52   \n",
       "4      1000      9             466            58      57.0  14581.0   52   \n",
       "5      1000     10             350            57      73.0  14717.0   52   \n",
       "6      1000     11             338            43      58.0  14768.0   52   \n",
       "7      1000     12             333            46      70.0   9827.0   52   \n",
       "8      1001     11             430            59       NaN  18452.0   41   \n",
       "9      1001     12             414            63       NaN  14053.0   41   \n",
       "10     1002      6             117            15       4.0  10871.0   59   \n",
       "11     1002      7             214            26      11.0  17601.0   59   \n",
       "12     1002      8             289            42      13.0  20347.0   59   \n",
       "13     1002      9             206            36       4.0  16712.0   59   \n",
       "14     1002     10             212            33      10.0  13905.0   59   \n",
       "15     1002     11             243            32      16.0  18610.0   59   \n",
       "16     1002     12             236            33      12.0  18137.0   59   \n",
       "17     1003      8             380            55      37.0   8571.0   23   \n",
       "18     1003      9             961           134      91.0  12479.0   23   \n",
       "19     1003     10             855           108      83.0  14779.0   23   \n",
       "\n",
       "   churn_date         city first_name  ... minutes_included rub_monthly_fee  \\\n",
       "0         NaT    Краснодар     Рафаил  ...             3000            1950   \n",
       "1         NaT    Краснодар     Рафаил  ...             3000            1950   \n",
       "2         NaT    Краснодар     Рафаил  ...             3000            1950   \n",
       "3         NaT    Краснодар     Рафаил  ...             3000            1950   \n",
       "4         NaT    Краснодар     Рафаил  ...             3000            1950   \n",
       "5         NaT    Краснодар     Рафаил  ...             3000            1950   \n",
       "6         NaT    Краснодар     Рафаил  ...             3000            1950   \n",
       "7         NaT    Краснодар     Рафаил  ...             3000            1950   \n",
       "8         NaT       Москва       Иван  ...              500             550   \n",
       "9         NaT       Москва       Иван  ...              500             550   \n",
       "10        NaT  Стерлитамак    Евгений  ...              500             550   \n",
       "11        NaT  Стерлитамак    Евгений  ...              500             550   \n",
       "12        NaT  Стерлитамак    Евгений  ...              500             550   \n",
       "13        NaT  Стерлитамак    Евгений  ...              500             550   \n",
       "14        NaT  Стерлитамак    Евгений  ...              500             550   \n",
       "15        NaT  Стерлитамак    Евгений  ...              500             550   \n",
       "16        NaT  Стерлитамак    Евгений  ...              500             550   \n",
       "17        NaT       Москва      Белла  ...             3000            1950   \n",
       "18        NaT       Москва      Белла  ...             3000            1950   \n",
       "19        NaT       Москва      Белла  ...             3000            1950   \n",
       "\n",
       "   rub_per_gb  rub_per_message  rub_per_minute  tariff_name  total_revenue  \\\n",
       "0         150                1               1        ultra         1950.0   \n",
       "1         150                1               1        ultra         1950.0   \n",
       "2         150                1               1        ultra         1950.0   \n",
       "3         150                1               1        ultra         1950.0   \n",
       "4         150                1               1        ultra         1950.0   \n",
       "5         150                1               1        ultra         1950.0   \n",
       "6         150                1               1        ultra         1950.0   \n",
       "7         150                1               1        ultra         1950.0   \n",
       "8         200                3               3        smart         1350.0   \n",
       "9         200                3               3        smart          550.0   \n",
       "10        200                3               3        smart          550.0   \n",
       "11        200                3               3        smart         1150.0   \n",
       "12        200                3               3        smart         1550.0   \n",
       "13        200                3               3        smart          950.0   \n",
       "14        200                3               3        smart          550.0   \n",
       "15        200                3               3        smart         1350.0   \n",
       "16        200                3               3        smart         1150.0   \n",
       "17        150                1               1        ultra         1950.0   \n",
       "18        150                1               1        ultra         1950.0   \n",
       "19        150                1               1        ultra         1950.0   \n",
       "\n",
       "    over_limit_messages  over_limit_internet  over_limit_calls  \n",
       "0                   0.0                  0.0                 0  \n",
       "1                   0.0                  0.0                 0  \n",
       "2                   0.0                  0.0                 0  \n",
       "3                   0.0                  0.0                 0  \n",
       "4                   0.0                  0.0                 0  \n",
       "5                   0.0                  0.0                 0  \n",
       "6                   0.0                  0.0                 0  \n",
       "7                   0.0                  0.0                 0  \n",
       "8                   0.0               3092.0                 0  \n",
       "9                   0.0                  0.0                 0  \n",
       "10                  0.0                  0.0                 0  \n",
       "11                  0.0               2241.0                 0  \n",
       "12                  0.0               4987.0                 0  \n",
       "13                  0.0               1352.0                 0  \n",
       "14                  0.0                  0.0                 0  \n",
       "15                  0.0               3250.0                 0  \n",
       "16                  0.0               2777.0                 0  \n",
       "17                  0.0                  0.0                 0  \n",
       "18                  0.0                  0.0                 0  \n",
       "19                  0.0                  0.0                 0  \n",
       "\n",
       "[20 rows x 27 columns]"
      ]
     },
     "metadata": {},
     "output_type": "display_data"
    }
   ],
   "source": [
    "#Шаг 3. Проанализируем данные #Опишем поведение клиентов оператора, исходя из выборки. \n",
    "#Сколько минут разговора, сколько сообщений и какой объём интернет-трафика \n",
    "#требуется пользователям каждого тарифа в месяц? \n",
    "#Добавим информацию о сообщениях, интернете и звонках, используемых сверх лимита\n",
    "def over_limit(row, column1, column2):   \n",
    "    if row[column1] > row[column2]:\n",
    "        over_limit_ = row[column1]-row[column2]\n",
    "    else:\n",
    "        over_limit_ = 0\n",
    "    return over_limit_\n",
    "all_by_month['over_limit_messages'] = all_by_month.apply(over_limit\n",
    "                                                         , axis=1\n",
    "                                                         , column1 = 'messages'\n",
    "                                                         , column2 ='messages_included')\n",
    "all_by_month['over_limit_internet'] = all_by_month.apply(over_limit\n",
    "                                                         , axis=1\n",
    "                                                         , column1 = 'mb_used'\n",
    "                                                         , column2 ='mb_per_month_included')\n",
    "all_by_month['over_limit_calls'] = all_by_month.apply(over_limit\n",
    "                                                         , axis=1\n",
    "                                                         , column1 = 'calls_duration'\n",
    "                                                         , column2 ='minutes_included')\n",
    "display(all_by_month.head(20))"
   ]
  },
  {
   "cell_type": "code",
   "execution_count": 6,
   "metadata": {},
   "outputs": [
    {
     "name": "stdout",
     "output_type": "stream",
     "text": [
      "-----------------------\n",
      "По тарифу SMART, в среднем за месяц:\n",
      "-----------------------\n",
      "Минут разговора: 419\n",
      "Сообщений: 39\n",
      "Мегабайт интернета: 16237\n",
      "\n",
      "Стандартное отклонение минут разговора: 189\n",
      "Стандартное отклонение сообщений: 663\n",
      "Стандартное отклонение мегабайт интернета: 5875\n",
      "\n",
      "Дисперсия минут разговора: 35844\n",
      "Дисперсия сообщений: 439387\n",
      "Дисперсия мегабайт интернета: 34510889\n",
      "\n",
      "Среднее превышение лимита разговора: 42\n",
      "Среднее превышение лимита сообщений: 6\n",
      "Среднее превышение лимита интернета (в мб): 2773\n",
      "\n"
     ]
    }
   ],
   "source": [
    "#Посчитаем среднее количество, дисперсию и стандартное отклонение. \n",
    "smart = all_by_month.query('tariff == \"smart\"')\n",
    "print('-----------------------')\n",
    "print('По тарифу SMART, в среднем за месяц:')\n",
    "print('-----------------------')\n",
    "print('Минут разговора:', round(smart['calls_duration'].describe()['mean']))\n",
    "print('Сообщений:', round(smart['messages'].describe()['mean']))\n",
    "print('Мегабайт интернета:', round(smart['mb_used'].describe()['mean']))\n",
    "print('')\n",
    "print('Стандартное отклонение минут разговора:', round(smart['calls_duration'].describe()['std']))\n",
    "print('Стандартное отклонение сообщений:', round(smart['messages'].describe().describe()['std']))\n",
    "print('Стандартное отклонение мегабайт интернета:', round(smart['mb_used'].describe()['std']))\n",
    "print('')\n",
    "print('Дисперсия минут разговора:', round(smart['calls_duration'].describe()['std']** 2))\n",
    "print('Дисперсия сообщений:', round(smart['messages'].describe().describe()['std']** 2))\n",
    "print('Дисперсия мегабайт интернета:', round(smart['mb_used'].describe()['std']**2))\n",
    "print('')\n",
    "print('Среднее превышение лимита разговора:', round(smart['over_limit_calls'].describe()['mean']))\n",
    "print('Среднее превышение лимита сообщений:', round(smart['over_limit_messages'].describe()['mean']))\n",
    "print('Среднее превышение лимита интернета (в мб):', round(smart['over_limit_internet'].describe()['mean']))\n",
    "print('')"
   ]
  },
  {
   "cell_type": "code",
   "execution_count": 7,
   "metadata": {},
   "outputs": [
    {
     "name": "stdout",
     "output_type": "stream",
     "text": [
      "-----------------------\n",
      "По тарифу ULTRA, в среднем за месяц:\n",
      "-----------------------\n",
      "Минут разговора: 545\n",
      "Сообщений: 61\n",
      "Мегабайт интернета: 19688\n",
      "\n",
      "Стандартное отклонение минут разговора: 307\n",
      "Стандартное отклонение сообщений: 254\n",
      "Стандартное отклонение мегабайт интернета: 9988\n",
      "\n",
      "Дисперсия минут разговора: 94203\n",
      "Дисперсия сообщений: 64264\n",
      "Дисперсия мегабайт интернета: 99750820\n",
      "\n",
      "Среднее превышение лимита разговора: 0\n",
      "Среднее превышение лимита сообщений: 0\n",
      "Среднее превышение лимита интернета (в мб): 761\n",
      "\n"
     ]
    }
   ],
   "source": [
    "ultra = all_by_month.query('tariff == \"ultra\"')\n",
    "print('-----------------------')\n",
    "print('По тарифу ULTRA, в среднем за месяц:')\n",
    "print('-----------------------')\n",
    "print('Минут разговора:', round(ultra['calls_duration'].describe()['mean']))\n",
    "print('Сообщений:', round(ultra['messages'].describe()['mean']))\n",
    "print('Мегабайт интернета:', round(ultra['mb_used'].describe()['mean']))\n",
    "print('')\n",
    "print('Стандартное отклонение минут разговора:', round(ultra['calls_duration'].describe()['std']))\n",
    "print('Стандартное отклонение сообщений:', round(ultra['messages'].describe().describe()['std']))\n",
    "print('Стандартное отклонение мегабайт интернета:', round(ultra['mb_used'].describe()['std']))\n",
    "print('')\n",
    "print('Дисперсия минут разговора:', round(ultra['calls_duration'].describe()['std']** 2))\n",
    "print('Дисперсия сообщений:', round(ultra['messages'].describe().describe()['std']** 2))\n",
    "print('Дисперсия мегабайт интернета:', round(ultra['mb_used'].describe()['std']**2))\n",
    "print('')\n",
    "print('Среднее превышение лимита разговора:', round(ultra['over_limit_calls'].describe()['mean']))\n",
    "print('Среднее превышение лимита сообщений:', round(ultra['over_limit_messages'].describe()['mean']))\n",
    "print('Среднее превышение лимита интернета (в мб):', round(ultra['over_limit_internet'].describe()['mean']))\n",
    "print('')\n",
    "\n",
    "#В тарифе ULTRA люди не превышают лимит разговора и сообщений, \n",
    "#превышение лимита интернета в среднем ниже, чем в SMART."
   ]
  },
  {
   "cell_type": "markdown",
   "metadata": {},
   "source": [
    "<div style=\"border:solid blue 2px; padding: 20px\"> \n",
    "Вывод:\n",
    "    \n",
    "В тарифе ULTRA люди не превышают лимит разговора и сообщений, превышение лимита интернета в среднем ниже, чем в SMART.\n",
    "</div>   "
   ]
  },
  {
   "cell_type": "code",
   "execution_count": 12,
   "metadata": {},
   "outputs": [
    {
     "name": "stdout",
     "output_type": "stream",
     "text": [
      "-----------\n",
      "Тариф SMART\n",
      "-----------\n"
     ]
    },
    {
     "data": {
      "image/png": "[encoded data removed]",
      "text/plain": [
       "<Figure size 432x288 with 1 Axes>"
      ]
     },
     "metadata": {
      "needs_background": "light"
     },
     "output_type": "display_data"
    },
    {
     "name": "stdout",
     "output_type": "stream",
     "text": [
      "-----------\n",
      "Тариф ULTRA\n",
      "-----------\n"
     ]
    },
    {
     "data": {
      "image/png": "[encoded data removed]",
      "text/plain": [
       "<Figure size 432x288 with 1 Axes>"
      ]
     },
     "metadata": {
      "needs_background": "light"
     },
     "output_type": "display_data"
    }
   ],
   "source": [
    "#Посмотим на распределение числа пользователей по тарифам.\n",
    "print('-----------')\n",
    "print('Тариф SMART')\n",
    "print('-----------')\n",
    "smart.groupby('month')['user_id'].count().plot(x='month',y='user_id',kind='bar') \n",
    "plt.title('Распределение числа пользователей тарифом по месяцам')\n",
    "plt.show()\n",
    "    \n",
    "print('-----------')\n",
    "print('Тариф ULTRA')\n",
    "print('-----------')\n",
    "ultra.groupby('month')['user_id'].count().plot(x='month',y='user_id',kind='bar') \n",
    "plt.title('Распределение числа пользователей тарифом по месяцам')\n",
    "plt.show()\n",
    "\n",
    "#число пользователей по тарифам к концу года возрастает"
   ]
  },
  {
   "cell_type": "markdown",
   "metadata": {},
   "source": [
    "<div style=\"border:solid blue 2px; padding: 20px\"> \n",
    "Вывод:\n",
    "    \n",
    "Число пользователей по тарифам к концу года возрастает\n",
    "</div>"
   ]
  },
  {
   "cell_type": "code",
   "execution_count": 13,
   "metadata": {},
   "outputs": [
    {
     "name": "stdout",
     "output_type": "stream",
     "text": [
      "-----------\n",
      "Тариф SMART\n",
      "-----------\n"
     ]
    },
    {
     "data": {
      "image/png": "[encoded data removed]",
      "text/plain": [
       "<Figure size 432x288 with 1 Axes>"
      ]
     },
     "metadata": {
      "needs_background": "light"
     },
     "output_type": "display_data"
    },
    {
     "data": {
      "image/png": "[encoded data removed]",
      "text/plain": [
       "<Figure size 432x288 with 1 Axes>"
      ]
     },
     "metadata": {
      "needs_background": "light"
     },
     "output_type": "display_data"
    },
    {
     "data": {
      "image/png": "[encoded data removed]",
      "text/plain": [
       "<Figure size 432x288 with 1 Axes>"
      ]
     },
     "metadata": {
      "needs_background": "light"
     },
     "output_type": "display_data"
    },
    {
     "data": {
      "image/png": "[encoded data removed]",
      "text/plain": [
       "<Figure size 432x288 with 1 Axes>"
      ]
     },
     "metadata": {
      "needs_background": "light"
     },
     "output_type": "display_data"
    },
    {
     "data": {
      "image/png": "[encoded data removed]",
      "text/plain": [
       "<Figure size 432x288 with 1 Axes>"
      ]
     },
     "metadata": {
      "needs_background": "light"
     },
     "output_type": "display_data"
    },
    {
     "name": "stdout",
     "output_type": "stream",
     "text": [
      "-----------\n",
      "Тариф ULTRA\n",
      "-----------\n"
     ]
    },
    {
     "data": {
      "image/png": "[encoded data removed]",
      "text/plain": [
       "<Figure size 432x288 with 1 Axes>"
      ]
     },
     "metadata": {
      "needs_background": "light"
     },
     "output_type": "display_data"
    },
    {
     "data": {
      "image/png": "[encoded data removed]",
      "text/plain": [
       "<Figure size 432x288 with 1 Axes>"
      ]
     },
     "metadata": {
      "needs_background": "light"
     },
     "output_type": "display_data"
    },
    {
     "data": {
      "image/png": "[encoded data removed]",
      "text/plain": [
       "<Figure size 432x288 with 1 Axes>"
      ]
     },
     "metadata": {
      "needs_background": "light"
     },
     "output_type": "display_data"
    },
    {
     "data": {
      "image/png": "[encoded data removed]",
      "text/plain": [
       "<Figure size 432x288 with 1 Axes>"
      ]
     },
     "metadata": {
      "needs_background": "light"
     },
     "output_type": "display_data"
    },
    {
     "data": {
      "image/png": "[encoded data removed]",
      "text/plain": [
       "<Figure size 432x288 with 1 Axes>"
      ]
     },
     "metadata": {
      "needs_background": "light"
     },
     "output_type": "display_data"
    }
   ],
   "source": [
    "#Постройте гистограммы. Опишем распределения.\n",
    "\n",
    "columns = ['calls_duration'\n",
    "           , 'messages'\n",
    "           , 'mb_used'\n",
    "           ,'over_limit_internet'\n",
    "           ,'total_revenue'\n",
    "          ]\n",
    "print('-----------')\n",
    "print('Тариф SMART')\n",
    "print('-----------')\n",
    "#smart.groupby('month')['calls_duration'].mean().plot(x='month',y='calls_duration',kind='bar')\n",
    "for i in columns:\n",
    "    smart.groupby('month')[i].mean().plot(x='month',y=i,kind='bar') \n",
    "    if i == 'calls_duration':\n",
    "        plt.title('Распределение средней длительности звонков по месяцам')\n",
    "    if i == 'messages':\n",
    "        plt.title('Распределение среднего числа сообщений по месяцам')\n",
    "    if i == 'mb_used':\n",
    "        plt.title('Распределение среднего использования интернета в мб по месяцам') \n",
    "    if i == 'over_limit_internet':\n",
    "        plt.title('Распределение интернета сверх лимита в мб в среднем по месяцам') \n",
    "    if i == 'total_revenue':\n",
    "        plt.title('Распределение доходности в среднем на одного пользователя') \n",
    "    plt.show()\n",
    "    \n",
    "print('-----------')\n",
    "print('Тариф ULTRA')\n",
    "print('-----------')\n",
    "#smart.groupby('month')['calls_duration'].mean().plot(x='month',y='calls_duration',kind='bar')\n",
    "for i in columns:\n",
    "    ultra.groupby('month')[i].mean().plot(x='month',y=i,kind='bar') \n",
    "    if i == 'calls_duration':\n",
    "        plt.title('Распределение средней длительности звонков по месяцам')\n",
    "    if i == 'messages':\n",
    "        plt.title('Распределение среднего числа сообщений по месяцам')\n",
    "    if i == 'mb_used':\n",
    "        plt.title('Распределение среднего использования интернета в мб по месяцам')      \n",
    "    if i == 'over_limit_internet':\n",
    "        plt.title('Распределение интернета сверх лимита в мб в среднем по месяцам') \n",
    "    if i == 'total_revenue':\n",
    "        plt.title('Распределение доходности в среднем на одного пользователя') \n",
    "    plt.show()\n",
    "#Клиенты наименее активно пользуются тарифом \"SMART\" в январе,\n",
    "#а тарифом \"ULTRA\" в феврале.\n",
    "#К декабрю активность использования обох тарифов возрастает.\n",
    "#Средняя доходность по тарифу \"SMART\" возрастает к концу года,\n",
    "#в то время как по тарифу \"ULTRA\" в среднем на пользователя в течение года не меняется."
   ]
  },
  {
   "cell_type": "markdown",
   "metadata": {},
   "source": [
    "<div style=\"border:solid blue 2px; padding: 20px\"> \n",
    "Вывод:\n",
    "    \n",
    "Клиенты наименее активно пользуются тарифом \"SMART\" в январе, а тарифом \"ULTRA\" в феврале.\n",
    "К декабрю активность использования обох тарифов возрастает.\n",
    "Средняя доходность по тарифу \"SMART\" возрастает к концу года, в то время как по тарифу \"ULTRA\" в среднем на пользователя в течение года не меняется.\n",
    "</div>"
   ]
  },
  {
   "cell_type": "code",
   "execution_count": 19,
   "metadata": {},
   "outputs": [
    {
     "name": "stdout",
     "output_type": "stream",
     "text": [
      "-----------\n",
      "Тариф SMART\n",
      "-----------\n",
      "user_id                  2223\n",
      "month                    2223\n",
      "calls_duration           2223\n",
      "calls_amount             2223\n",
      "messages                 1916\n",
      "mb_used                  2222\n",
      "age                      2223\n",
      "churn_date                111\n",
      "city                     2223\n",
      "first_name               2223\n",
      "last_name                2223\n",
      "reg_date                 2223\n",
      "tariff                   2223\n",
      "reg_month                2223\n",
      "churn_month               111\n",
      "messages_included        2223\n",
      "mb_per_month_included    2223\n",
      "minutes_included         2223\n",
      "rub_monthly_fee          2223\n",
      "rub_per_gb               2223\n",
      "rub_per_message          2223\n",
      "rub_per_minute           2223\n",
      "tariff_name              2223\n",
      "total_revenue            2223\n",
      "over_limit_messages      2223\n",
      "over_limit_internet      2223\n",
      "over_limit_calls         2223\n",
      "dtype: int64\n",
      "Минимальная доходность - 550\n",
      "Максимальная доходность - 28551\n"
     ]
    },
    {
     "data": {
      "image/png": "[encoded data removed]",
      "text/plain": [
       "<Figure size 432x288 with 1 Axes>"
      ]
     },
     "metadata": {
      "needs_background": "light"
     },
     "output_type": "display_data"
    },
    {
     "name": "stdout",
     "output_type": "stream",
     "text": [
      "-----------\n",
      "Тариф ULTRA\n",
      "-----------\n",
      "Минимальная доходность - 1950\n",
      "Максимальная доходность - 32400\n"
     ]
    },
    {
     "data": {
      "image/png": "[encoded data removed]",
      "text/plain": [
       "<Figure size 432x288 with 1 Axes>"
      ]
     },
     "metadata": {
      "needs_background": "light"
     },
     "output_type": "display_data"
    }
   ],
   "source": [
    "#Посмотрим на распределение среднего дохода на одного пользователя по тарифам\n",
    "print('-----------')\n",
    "print('Тариф SMART')\n",
    "print('-----------')\n",
    "smart_user = smart.groupby('user_id')['total_revenue'].sum()\n",
    "smart_user = smart_user.reset_index()\n",
    "print('Минимальная доходность -', round(smart_user['total_revenue'].min()))\n",
    "print('Максимальная доходность -', round(smart_user['total_revenue'].max()))\n",
    "smart_user['total_revenue'].hist(bins=20,range=(550,28000), label = 'Доходность пользователя SMART')\n",
    "plt.title('Гистограмма доходности пользователя тарифа SMART')\n",
    "plt.show()\n",
    "print('-----------')\n",
    "print('Тариф ULTRA')\n",
    "print('-----------')\n",
    "ultra_user = ultra.groupby('user_id')['total_revenue'].sum()\n",
    "ultra_user = ultra_user.reset_index()\n",
    "print('Минимальная доходность -', round(ultra_user['total_revenue'].min()))\n",
    "print('Максимальная доходность -', round(ultra_user['total_revenue'].max()))\n",
    "ultra_user['total_revenue'].hist(bins=20,range=(550,28000), label = 'Доходность пользователя ULTRA')\n",
    "plt.title('Гистограмма доходности пользователя тарифа ULTRA')\n",
    "plt.show()"
   ]
  },
  {
   "cell_type": "markdown",
   "metadata": {},
   "source": [
    "<div style=\"border:solid blue 2px; padding: 20px\"> \n",
    "<a id = \"hypothesis\">\n",
    "    Шаг 5: Проверка гипотез.\n",
    "</a>\n",
    "</div>"
   ]
  },
  {
   "cell_type": "code",
   "execution_count": 15,
   "metadata": {},
   "outputs": [
    {
     "name": "stdout",
     "output_type": "stream",
     "text": [
      "p-значение: 2.9438131414485496e-15\n"
     ]
    }
   ],
   "source": [
    "#1) Проверим гипотезу \"Распределения обучающей и тестовой выборки равны\"\n",
    "\n",
    "#Пороговое значение alpha - 0.05\n",
    "alpha = 0.05 #если p-value окажется меньше него - отвергнем гипотезу\n",
    "#Нулевая гипотеза - средняя выручка пользователей тарифов «Ультра» и «Смарт» равны. \n",
    "#Альтернативной гипотезой - cредняя выручка пользователей тарифов «Ультра» и «Смарт» различается.\n",
    "#Использую метод scipy.stats.ttest_ind (array1, array2, equal_var = False)\n",
    "tariff_results = st.ttest_ind(smart_user['total_revenue'], ultra_user['total_revenue'],equal_var = False)\n",
    "print('p-значение:', tariff_results.pvalue)\n",
    "\n",
    "#p-значение очень мало, таким образом средняя выручка пользователей тарифов «Ультра» и «Смарт» различается"
   ]
  },
  {
   "cell_type": "markdown",
   "metadata": {},
   "source": [
    "<div style=\"border:solid blue 2px; padding: 20px\"> \n",
    "Вывод:\n",
    "    \n",
    "p-значение очень мало, таким образом средняя выручка пользователей тарифов «Ультра» и «Смарт» различается\n",
    "</div>    "
   ]
  },
  {
   "cell_type": "code",
   "execution_count": 16,
   "metadata": {},
   "outputs": [
    {
     "name": "stdout",
     "output_type": "stream",
     "text": [
      "p-значение: 0.6036045963856267\n"
     ]
    }
   ],
   "source": [
    "#2) Проверим гипотезу \"Cредняя выручка пользователи из Москвы отличается \n",
    "#от выручки пользователей из других регионов.\"\n",
    "moscow = all_by_month.query('city == \"Москва\"')\n",
    "region = all_by_month.query('city != \"Москва\"')\n",
    "moscow_user = moscow.groupby('user_id')['total_revenue'].sum()\n",
    "moscow_user = moscow_user.reset_index()\n",
    "region_user = region.groupby('user_id')['total_revenue'].sum()\n",
    "region_user = region_user.reset_index()\n",
    "\n",
    "moscow_results = st.ttest_ind(moscow_user['total_revenue'], region_user['total_revenue'],equal_var = False)\n",
    "print('p-значение:', moscow_results.pvalue)\n",
    "#p-значение велико, таким образом средняя выручка пользователи из Москвы не отличается от выручки пользователей из других регионов.\n",
    "#Можно также проверять нормальность распределения,например, тестом Шапиро-Уилка https://www.machinelearningmastery.ru/a-gentle-introduction-to-normality-tests-in-python/"
   ]
  },
  {
   "cell_type": "markdown",
   "metadata": {},
   "source": [
    "<div style=\"border:solid blue 2px; padding: 20px\"> \n",
    "Вывод:\n",
    "    \n",
    "p-значение велико, таким образом средняя выручка пользователи из Москвы не отличается от выручки пользователей из других регионов.\n",
    "</div>"
   ]
  },
  {
   "cell_type": "markdown",
   "metadata": {},
   "source": [
    "<div class=\"alert alert-info\">\n",
    "<a id = \"output\">\n",
    "<b>Общий вывод: </b> \n",
    "</a>\n",
    "    \n",
    "1. Cредняя выручка от пользователей тарифов «Ультра» выше выручки от пользователей тарифа «Смарт».\n",
    "\n",
    "2. Пользователи тарифа «Ультра» не превышают лимит разговора и сообщений в отличие от пользователей тарифа «Смарт». Превышение лимита интернета у пользователей тарифа «Ультра» также в среднем ниже, чем у пользователей тарифа «Смарт».\n",
    "\n",
    "3. Средняя доходность на пользователя тарифа «Ультра» расномерно распределена в течение года,\n",
    "    в то время как средняя доходность на пользователя тарифа «Смарт» значительно ниже в начале года и возрастает к декабрю.\n",
    "    \n",
    "4. Cредняя выручка пользователи из Москвы не отличается от выручки пользователей из других регионов.\n",
    "</div>"
   ]
  }
 ],
 "metadata": {
  "ExecuteTimeLog": [
   {
    "duration": 2251,
    "start_time": "2021-08-30T21:01:29.624Z"
   },
   {
    "duration": 916,
    "start_time": "2021-08-30T21:01:55.996Z"
   },
   {
    "duration": 854,
    "start_time": "2021-08-30T21:02:29.837Z"
   },
   {
    "duration": 558,
    "start_time": "2021-08-30T21:09:51.049Z"
   },
   {
    "duration": 8554,
    "start_time": "2021-08-30T21:10:09.681Z"
   },
   {
    "duration": 8590,
    "start_time": "2021-08-30T21:10:54.535Z"
   },
   {
    "duration": 8119,
    "start_time": "2021-08-30T21:11:34.139Z"
   },
   {
    "duration": 112,
    "start_time": "2021-08-30T21:11:50.433Z"
   },
   {
    "duration": 9109,
    "start_time": "2021-08-30T21:12:04.689Z"
   },
   {
    "duration": 5958,
    "start_time": "2021-08-30T21:12:41.977Z"
   },
   {
    "duration": 346,
    "start_time": "2021-08-30T21:13:12.339Z"
   },
   {
    "duration": 342,
    "start_time": "2021-08-30T21:13:21.648Z"
   },
   {
    "duration": 316,
    "start_time": "2021-08-30T21:13:43.961Z"
   },
   {
    "duration": 350,
    "start_time": "2021-08-30T21:21:22.621Z"
   },
   {
    "duration": 342,
    "start_time": "2021-08-30T21:21:39.903Z"
   },
   {
    "duration": 349,
    "start_time": "2021-08-30T21:22:32.091Z"
   },
   {
    "duration": 14,
    "start_time": "2021-08-30T21:23:46.213Z"
   },
   {
    "duration": 352,
    "start_time": "2021-08-30T21:23:53.977Z"
   },
   {
    "duration": 6,
    "start_time": "2021-08-30T21:24:09.152Z"
   },
   {
    "duration": 9,
    "start_time": "2021-08-30T21:24:27.133Z"
   },
   {
    "duration": 364,
    "start_time": "2021-08-30T21:26:08.466Z"
   },
   {
    "duration": 432,
    "start_time": "2021-08-30T21:37:10.889Z"
   },
   {
    "duration": 367,
    "start_time": "2021-08-30T21:37:47.939Z"
   },
   {
    "duration": 142,
    "start_time": "2021-08-30T21:38:06.569Z"
   },
   {
    "duration": 374,
    "start_time": "2021-08-30T21:38:23.991Z"
   },
   {
    "duration": 366,
    "start_time": "2021-08-30T21:38:40.559Z"
   },
   {
    "duration": 125,
    "start_time": "2021-08-30T21:39:07.785Z"
   },
   {
    "duration": 478,
    "start_time": "2021-08-30T21:43:33.974Z"
   },
   {
    "duration": 291,
    "start_time": "2021-08-30T21:44:14.680Z"
   },
   {
    "duration": 169,
    "start_time": "2021-08-30T21:50:04.912Z"
   },
   {
    "duration": 241,
    "start_time": "2021-08-30T21:50:58.444Z"
   },
   {
    "duration": 1322,
    "start_time": "2021-08-30T22:01:33.499Z"
   },
   {
    "duration": 793,
    "start_time": "2021-08-30T22:04:02.296Z"
   },
   {
    "duration": 321,
    "start_time": "2021-08-30T22:08:01.284Z"
   },
   {
    "duration": 440,
    "start_time": "2021-08-30T22:13:09.430Z"
   },
   {
    "duration": 427,
    "start_time": "2021-08-30T22:13:33.371Z"
   },
   {
    "duration": 423,
    "start_time": "2021-08-30T22:16:31.081Z"
   },
   {
    "duration": 439,
    "start_time": "2021-08-30T22:16:47.377Z"
   },
   {
    "duration": 229,
    "start_time": "2021-08-30T22:16:59.355Z"
   },
   {
    "duration": 220,
    "start_time": "2021-08-30T22:17:06.886Z"
   },
   {
    "duration": 568,
    "start_time": "2021-08-30T22:24:35.443Z"
   },
   {
    "duration": 319,
    "start_time": "2021-08-30T22:24:55.211Z"
   },
   {
    "duration": 327,
    "start_time": "2021-08-31T08:50:01.747Z"
   },
   {
    "duration": 1780,
    "start_time": "2021-08-31T08:50:19.141Z"
   },
   {
    "duration": 751,
    "start_time": "2021-08-31T08:50:28.987Z"
   },
   {
    "duration": 7117,
    "start_time": "2021-08-31T08:52:14.929Z"
   },
   {
    "duration": 7109,
    "start_time": "2021-08-31T08:53:07.991Z"
   },
   {
    "duration": 261,
    "start_time": "2021-08-31T08:53:58.330Z"
   },
   {
    "duration": 7313,
    "start_time": "2021-08-31T08:54:28.939Z"
   },
   {
    "duration": 9749,
    "start_time": "2021-08-31T08:55:22.910Z"
   },
   {
    "duration": 517,
    "start_time": "2021-08-31T08:57:40.978Z"
   },
   {
    "duration": 255,
    "start_time": "2021-08-31T08:57:55.705Z"
   },
   {
    "duration": 258,
    "start_time": "2021-08-31T08:58:45.303Z"
   },
   {
    "duration": 282,
    "start_time": "2021-08-31T09:04:16.921Z"
   },
   {
    "duration": 280,
    "start_time": "2021-08-31T09:05:20.184Z"
   },
   {
    "duration": 305,
    "start_time": "2021-08-31T10:08:17.833Z"
   },
   {
    "duration": 792,
    "start_time": "2021-08-31T10:17:37.531Z"
   },
   {
    "duration": 566,
    "start_time": "2021-08-31T10:19:10.962Z"
   },
   {
    "duration": 733,
    "start_time": "2021-08-31T10:20:48.690Z"
   },
   {
    "duration": 325,
    "start_time": "2021-08-31T10:21:19.288Z"
   },
   {
    "duration": 111,
    "start_time": "2021-08-31T10:58:27.945Z"
   },
   {
    "duration": 93,
    "start_time": "2021-08-31T10:58:58.119Z"
   },
   {
    "duration": 102,
    "start_time": "2021-08-31T10:59:44.447Z"
   },
   {
    "duration": 97,
    "start_time": "2021-08-31T11:00:02.809Z"
   },
   {
    "duration": 403,
    "start_time": "2021-08-31T11:00:10.186Z"
   },
   {
    "duration": 385,
    "start_time": "2021-08-31T11:00:36.770Z"
   },
   {
    "duration": 369,
    "start_time": "2021-08-31T11:00:55.918Z"
   },
   {
    "duration": 433,
    "start_time": "2021-08-31T11:01:33.931Z"
   },
   {
    "duration": 690,
    "start_time": "2021-08-31T11:02:07.520Z"
   },
   {
    "duration": 989,
    "start_time": "2021-08-31T11:02:14.800Z"
   },
   {
    "duration": 421,
    "start_time": "2021-08-31T11:05:33.312Z"
   },
   {
    "duration": 761,
    "start_time": "2021-08-31T11:07:02.241Z"
   },
   {
    "duration": 714,
    "start_time": "2021-08-31T11:09:46.599Z"
   },
   {
    "duration": 757,
    "start_time": "2021-08-31T11:12:08.686Z"
   },
   {
    "duration": 107,
    "start_time": "2021-08-31T11:14:44.982Z"
   },
   {
    "duration": 107,
    "start_time": "2021-08-31T11:14:56.622Z"
   },
   {
    "duration": 98,
    "start_time": "2021-08-31T11:15:19.272Z"
   },
   {
    "duration": 727,
    "start_time": "2021-08-31T11:15:56.469Z"
   },
   {
    "duration": 8651,
    "start_time": "2021-08-31T11:17:42.555Z"
   },
   {
    "duration": 439,
    "start_time": "2021-08-31T11:18:16.791Z"
   },
   {
    "duration": 447,
    "start_time": "2021-08-31T11:18:36.624Z"
   },
   {
    "duration": 439,
    "start_time": "2021-08-31T11:19:13.908Z"
   },
   {
    "duration": 944,
    "start_time": "2021-08-31T11:22:13.154Z"
   },
   {
    "duration": 7292,
    "start_time": "2021-08-31T11:29:23.995Z"
   },
   {
    "duration": 556,
    "start_time": "2021-08-31T11:33:31.606Z"
   },
   {
    "duration": 574,
    "start_time": "2021-08-31T11:34:28.022Z"
   },
   {
    "duration": 454,
    "start_time": "2021-08-31T11:35:11.869Z"
   },
   {
    "duration": 584,
    "start_time": "2021-08-31T11:35:47.093Z"
   },
   {
    "duration": 906,
    "start_time": "2021-08-31T11:53:50.134Z"
   },
   {
    "duration": 969,
    "start_time": "2021-08-31T11:55:38.538Z"
   },
   {
    "duration": 675,
    "start_time": "2021-08-31T11:56:15.438Z"
   },
   {
    "duration": 702,
    "start_time": "2021-08-31T11:57:03.783Z"
   },
   {
    "duration": 713,
    "start_time": "2021-08-31T11:58:24.052Z"
   },
   {
    "duration": 286,
    "start_time": "2021-08-31T15:17:51.103Z"
   },
   {
    "duration": 1624,
    "start_time": "2021-08-31T15:18:02.840Z"
   },
   {
    "duration": 867,
    "start_time": "2021-08-31T15:18:07.317Z"
   },
   {
    "duration": 1160,
    "start_time": "2021-08-31T15:19:57.705Z"
   },
   {
    "duration": 21,
    "start_time": "2021-08-31T15:24:48.387Z"
   },
   {
    "duration": 9,
    "start_time": "2021-08-31T15:24:54.082Z"
   },
   {
    "duration": 666,
    "start_time": "2021-08-31T15:26:29.727Z"
   },
   {
    "duration": 683,
    "start_time": "2021-08-31T15:26:42.835Z"
   },
   {
    "duration": 278,
    "start_time": "2021-08-31T15:26:54.269Z"
   },
   {
    "duration": 7,
    "start_time": "2021-08-31T15:28:46.048Z"
   },
   {
    "duration": 6374,
    "start_time": "2021-08-31T15:28:48.362Z"
   },
   {
    "duration": 11,
    "start_time": "2021-08-31T15:34:27.116Z"
   },
   {
    "duration": 79,
    "start_time": "2021-08-31T15:34:42.722Z"
   },
   {
    "duration": 11,
    "start_time": "2021-08-31T15:34:53.743Z"
   },
   {
    "duration": 18,
    "start_time": "2021-08-31T15:35:37.370Z"
   },
   {
    "duration": 152,
    "start_time": "2021-08-31T15:41:22.278Z"
   },
   {
    "duration": 72,
    "start_time": "2021-08-31T15:41:58.110Z"
   },
   {
    "duration": 85,
    "start_time": "2021-08-31T15:43:12.583Z"
   },
   {
    "duration": 60,
    "start_time": "2021-08-31T15:43:25.444Z"
   },
   {
    "duration": 45,
    "start_time": "2021-08-31T15:44:41.192Z"
   },
   {
    "duration": 259,
    "start_time": "2021-08-31T15:56:40.530Z"
   },
   {
    "duration": 84,
    "start_time": "2021-08-31T15:58:19.067Z"
   },
   {
    "duration": 248,
    "start_time": "2021-08-31T15:58:29.838Z"
   },
   {
    "duration": 6643,
    "start_time": "2021-08-31T16:02:31.679Z"
   },
   {
    "duration": 8771,
    "start_time": "2021-08-31T16:02:56.983Z"
   },
   {
    "duration": 625,
    "start_time": "2021-08-31T16:04:48.475Z"
   },
   {
    "duration": 582,
    "start_time": "2021-08-31T16:05:41.962Z"
   },
   {
    "duration": 747,
    "start_time": "2021-08-31T16:05:48.906Z"
   },
   {
    "duration": 598,
    "start_time": "2021-08-31T16:06:54.201Z"
   },
   {
    "duration": 249,
    "start_time": "2021-08-31T16:06:57.759Z"
   },
   {
    "duration": 622,
    "start_time": "2021-08-31T16:09:15.971Z"
   },
   {
    "duration": 242,
    "start_time": "2021-08-31T16:12:51.330Z"
   },
   {
    "duration": 625,
    "start_time": "2021-08-31T16:13:00.688Z"
   },
   {
    "duration": 226,
    "start_time": "2021-08-31T16:14:06.423Z"
   },
   {
    "duration": 249,
    "start_time": "2021-08-31T16:14:30.710Z"
   },
   {
    "duration": 275,
    "start_time": "2021-08-31T16:15:23.797Z"
   },
   {
    "duration": 531,
    "start_time": "2021-08-31T16:15:55.185Z"
   },
   {
    "duration": 340,
    "start_time": "2021-08-31T16:16:01.757Z"
   },
   {
    "duration": 551,
    "start_time": "2021-08-31T16:16:12.316Z"
   },
   {
    "duration": 379,
    "start_time": "2021-08-31T16:16:14.362Z"
   },
   {
    "duration": 296,
    "start_time": "2021-08-31T16:16:17.288Z"
   },
   {
    "duration": 124,
    "start_time": "2021-08-31T16:16:42.468Z"
   },
   {
    "duration": 308,
    "start_time": "2021-08-31T16:20:53.185Z"
   },
   {
    "duration": 293,
    "start_time": "2021-08-31T16:24:25.147Z"
   },
   {
    "duration": 135,
    "start_time": "2021-08-31T16:27:12.264Z"
   },
   {
    "duration": 122,
    "start_time": "2021-08-31T16:27:35.923Z"
   },
   {
    "duration": 396,
    "start_time": "2021-08-31T19:21:34.860Z"
   },
   {
    "duration": 2366,
    "start_time": "2021-08-31T19:21:51.688Z"
   },
   {
    "duration": 622,
    "start_time": "2021-08-31T19:21:54.272Z"
   },
   {
    "duration": 462,
    "start_time": "2021-08-31T19:21:56.258Z"
   },
   {
    "duration": 413,
    "start_time": "2021-08-31T19:22:45.807Z"
   },
   {
    "duration": 236,
    "start_time": "2021-08-31T19:23:10.427Z"
   },
   {
    "duration": 231,
    "start_time": "2021-08-31T19:23:51.848Z"
   },
   {
    "duration": 901,
    "start_time": "2021-08-31T19:23:59.930Z"
   },
   {
    "duration": 669,
    "start_time": "2021-08-31T19:24:01.804Z"
   },
   {
    "duration": 210,
    "start_time": "2021-08-31T19:24:03.152Z"
   },
   {
    "duration": 216,
    "start_time": "2021-08-31T19:25:32.128Z"
   },
   {
    "duration": 207,
    "start_time": "2021-08-31T19:25:46.636Z"
   },
   {
    "duration": 441,
    "start_time": "2021-08-31T19:25:56.891Z"
   },
   {
    "duration": 842,
    "start_time": "2021-08-31T19:26:12.907Z"
   },
   {
    "duration": 597,
    "start_time": "2021-08-31T19:26:14.332Z"
   },
   {
    "duration": 212,
    "start_time": "2021-08-31T19:26:15.177Z"
   },
   {
    "duration": 431,
    "start_time": "2021-08-31T19:26:17.076Z"
   },
   {
    "duration": 447,
    "start_time": "2021-08-31T19:27:11.216Z"
   },
   {
    "duration": 524,
    "start_time": "2021-08-31T19:27:19.228Z"
   },
   {
    "duration": 494,
    "start_time": "2021-08-31T19:28:00.296Z"
   },
   {
    "duration": 460,
    "start_time": "2021-08-31T19:28:12.721Z"
   },
   {
    "duration": 80,
    "start_time": "2021-08-31T19:28:27.105Z"
   },
   {
    "duration": 72,
    "start_time": "2021-08-31T19:28:35.917Z"
   },
   {
    "duration": 303,
    "start_time": "2021-08-31T19:29:34.760Z"
   },
   {
    "duration": 439,
    "start_time": "2021-08-31T19:30:03.705Z"
   },
   {
    "duration": 1016,
    "start_time": "2021-08-31T19:30:15.211Z"
   },
   {
    "duration": 970,
    "start_time": "2021-08-31T19:31:34.424Z"
   },
   {
    "duration": 1453,
    "start_time": "2021-08-31T19:32:32.119Z"
   },
   {
    "duration": 2276,
    "start_time": "2021-08-31T19:32:57.605Z"
   },
   {
    "duration": 3356,
    "start_time": "2021-08-31T19:38:55.408Z"
   },
   {
    "duration": 688,
    "start_time": "2021-08-31T19:43:30.469Z"
   },
   {
    "duration": 692,
    "start_time": "2021-08-31T19:44:44.310Z"
   },
   {
    "duration": 7,
    "start_time": "2021-08-31T19:54:03.757Z"
   },
   {
    "duration": 121,
    "start_time": "2021-08-31T19:55:10.502Z"
   },
   {
    "duration": 11,
    "start_time": "2021-08-31T19:55:32.333Z"
   },
   {
    "duration": 387,
    "start_time": "2021-08-31T19:55:56.342Z"
   },
   {
    "duration": 387,
    "start_time": "2021-08-31T19:56:19.566Z"
   },
   {
    "duration": 638,
    "start_time": "2021-08-31T19:56:46.572Z"
   },
   {
    "duration": 343,
    "start_time": "2021-08-31T19:57:01.084Z"
   },
   {
    "duration": 759,
    "start_time": "2021-08-31T19:57:44.076Z"
   },
   {
    "duration": 656,
    "start_time": "2021-08-31T20:11:00.593Z"
   },
   {
    "duration": 649,
    "start_time": "2021-08-31T20:11:20.502Z"
   },
   {
    "duration": 4267,
    "start_time": "2021-08-31T20:13:00.958Z"
   },
   {
    "duration": 343,
    "start_time": "2021-08-31T20:13:40.997Z"
   },
   {
    "duration": 345,
    "start_time": "2021-08-31T20:15:03.523Z"
   },
   {
    "duration": 691,
    "start_time": "2021-08-31T20:15:55.912Z"
   },
   {
    "duration": 693,
    "start_time": "2021-08-31T20:16:13.681Z"
   },
   {
    "duration": 785,
    "start_time": "2021-08-31T20:18:25.337Z"
   },
   {
    "duration": 834,
    "start_time": "2021-08-31T20:19:01.128Z"
   },
   {
    "duration": 6,
    "start_time": "2021-08-31T20:20:25.162Z"
   },
   {
    "duration": 6,
    "start_time": "2021-08-31T20:20:32.980Z"
   },
   {
    "duration": 7,
    "start_time": "2021-08-31T20:21:06.141Z"
   },
   {
    "duration": 6,
    "start_time": "2021-08-31T20:21:19.097Z"
   },
   {
    "duration": 7,
    "start_time": "2021-08-31T20:21:31.049Z"
   },
   {
    "duration": 120,
    "start_time": "2021-08-31T20:27:13.187Z"
   },
   {
    "duration": 12,
    "start_time": "2021-08-31T20:27:22.373Z"
   },
   {
    "duration": 10,
    "start_time": "2021-08-31T20:28:06.217Z"
   },
   {
    "duration": 6,
    "start_time": "2021-08-31T20:28:30.857Z"
   },
   {
    "duration": 25,
    "start_time": "2021-08-31T20:30:33.098Z"
   },
   {
    "duration": 21,
    "start_time": "2021-08-31T20:32:24.437Z"
   },
   {
    "duration": 841,
    "start_time": "2021-08-31T20:47:17.043Z"
   },
   {
    "duration": 586,
    "start_time": "2021-08-31T20:47:19.066Z"
   },
   {
    "duration": 204,
    "start_time": "2021-08-31T20:47:20.468Z"
   },
   {
    "duration": 450,
    "start_time": "2021-08-31T20:47:21.499Z"
   },
   {
    "duration": 476,
    "start_time": "2021-08-31T20:47:22.697Z"
   },
   {
    "duration": 68,
    "start_time": "2021-08-31T20:47:24.233Z"
   },
   {
    "duration": 74,
    "start_time": "2021-08-31T20:47:25.884Z"
   },
   {
    "duration": 637,
    "start_time": "2021-08-31T20:47:29.069Z"
   },
   {
    "duration": 3283,
    "start_time": "2021-08-31T20:47:33.051Z"
   },
   {
    "duration": 720,
    "start_time": "2021-08-31T20:47:37.090Z"
   },
   {
    "duration": 12,
    "start_time": "2021-08-31T20:47:38.520Z"
   },
   {
    "duration": 23,
    "start_time": "2021-08-31T20:47:40.564Z"
   },
   {
    "duration": 146,
    "start_time": "2021-08-31T20:53:28.483Z"
   },
   {
    "duration": 1559,
    "start_time": "2021-08-31T20:54:40.142Z"
   },
   {
    "duration": 578,
    "start_time": "2021-08-31T21:04:53.193Z"
   },
   {
    "duration": 560,
    "start_time": "2021-08-31T21:05:09.112Z"
   },
   {
    "duration": 413,
    "start_time": "2021-08-31T21:05:41.082Z"
   },
   {
    "duration": 649,
    "start_time": "2021-08-31T21:06:33.737Z"
   },
   {
    "duration": 416,
    "start_time": "2021-08-31T21:08:35.646Z"
   },
   {
    "duration": 469,
    "start_time": "2021-08-31T21:09:09.805Z"
   },
   {
    "duration": 429,
    "start_time": "2021-08-31T21:09:30.872Z"
   },
   {
    "duration": 861,
    "start_time": "2021-08-31T21:10:15.868Z"
   },
   {
    "duration": 557,
    "start_time": "2021-08-31T21:10:17.594Z"
   },
   {
    "duration": 208,
    "start_time": "2021-08-31T21:10:18.293Z"
   },
   {
    "duration": 434,
    "start_time": "2021-08-31T21:10:18.882Z"
   },
   {
    "duration": 466,
    "start_time": "2021-08-31T21:10:19.442Z"
   },
   {
    "duration": 73,
    "start_time": "2021-08-31T21:10:20.085Z"
   },
   {
    "duration": 73,
    "start_time": "2021-08-31T21:10:20.613Z"
   },
   {
    "duration": 649,
    "start_time": "2021-08-31T21:10:22.713Z"
   },
   {
    "duration": 3416,
    "start_time": "2021-08-31T21:10:25.804Z"
   },
   {
    "duration": 736,
    "start_time": "2021-08-31T21:10:30.320Z"
   },
   {
    "duration": 7,
    "start_time": "2021-08-31T21:10:35.262Z"
   },
   {
    "duration": 23,
    "start_time": "2021-08-31T21:10:41.548Z"
   },
   {
    "duration": 108,
    "start_time": "2021-09-11T16:00:28.686Z"
   },
   {
    "duration": 91,
    "start_time": "2021-09-11T16:01:40.107Z"
   },
   {
    "duration": 144,
    "start_time": "2021-09-11T16:11:09.316Z"
   },
   {
    "duration": 1743,
    "start_time": "2021-09-12T13:19:20.777Z"
   },
   {
    "duration": 424,
    "start_time": "2021-09-12T13:19:22.522Z"
   },
   {
    "duration": 150,
    "start_time": "2021-09-12T13:19:23.516Z"
   },
   {
    "duration": 258,
    "start_time": "2021-09-12T13:19:24.648Z"
   },
   {
    "duration": 284,
    "start_time": "2021-09-12T13:19:25.654Z"
   },
   {
    "duration": 54,
    "start_time": "2021-09-12T13:19:27.412Z"
   },
   {
    "duration": 47,
    "start_time": "2021-09-12T13:19:28.453Z"
   },
   {
    "duration": 358,
    "start_time": "2021-09-12T13:19:30.998Z"
   },
   {
    "duration": 444,
    "start_time": "2021-09-12T13:20:56.839Z"
   },
   {
    "duration": 2252,
    "start_time": "2021-09-12T13:21:02.202Z"
   },
   {
    "duration": 472,
    "start_time": "2021-09-12T13:21:42.408Z"
   },
   {
    "duration": 423,
    "start_time": "2021-09-12T13:24:10.588Z"
   },
   {
    "duration": 2089,
    "start_time": "2021-09-12T13:24:11.749Z"
   },
   {
    "duration": 476,
    "start_time": "2021-09-12T13:24:13.840Z"
   },
   {
    "duration": 4,
    "start_time": "2021-09-12T13:24:14.318Z"
   },
   {
    "duration": 17,
    "start_time": "2021-09-12T13:24:15.654Z"
   },
   {
    "duration": 547,
    "start_time": "2021-09-12T13:24:33.354Z"
   },
   {
    "duration": 461,
    "start_time": "2021-09-12T13:30:25.400Z"
   },
   {
    "duration": 451,
    "start_time": "2021-09-12T13:31:01.560Z"
   },
   {
    "duration": 185,
    "start_time": "2021-09-12T13:41:06.817Z"
   },
   {
    "duration": 183,
    "start_time": "2021-09-12T13:42:34.119Z"
   }
  ],
  "kernelspec": {
   "display_name": "Python 3",
   "language": "python",
   "name": "python3"
  },
  "language_info": {
   "codemirror_mode": {
    "name": "ipython",
    "version": 3
   },
   "file_extension": ".py",
   "mimetype": "text/x-python",
   "name": "python",
   "nbconvert_exporter": "python",
   "pygments_lexer": "ipython3",
   "version": "3.7.8"
  },
  "toc": {
   "base_numbering": 1,
   "nav_menu": {},
   "number_sections": true,
   "sideBar": true,
   "skip_h1_title": true,
   "title_cell": "Table of Contents",
   "title_sidebar": "Contents",
   "toc_cell": false,
   "toc_position": {},
   "toc_section_display": true,
   "toc_window_display": false
  }
 },
 "nbformat": 4,
 "nbformat_minor": 2
}

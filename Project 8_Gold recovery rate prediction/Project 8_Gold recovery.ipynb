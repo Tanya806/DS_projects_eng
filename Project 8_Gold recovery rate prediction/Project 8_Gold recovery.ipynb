{
 "cells": [
  {
   "cell_type": "markdown",
   "metadata": {
    "toc": true
   },
   "source": [
    "<h1>Содержание<span class=\"tocSkip\"></span></h1>\n",
    "<div class=\"toc\"><ul class=\"toc-item\"><li><span><a href=\"#Подготовка-данных\" data-toc-modified-id=\"Подготовка-данных-1\"><span class=\"toc-item-num\">1&nbsp;&nbsp;</span>Подготовка данных</a></span><ul class=\"toc-item\"><li><span><a href=\"#Загрузим-и-исследуем-первичные-данных\" data-toc-modified-id=\"Загрузим-и-исследуем-первичные-данных-1.1\"><span class=\"toc-item-num\">1.1&nbsp;&nbsp;</span>Загрузим и исследуем первичные данных</a></span></li><li><span><a href=\"#Устраненим-пропуски\" data-toc-modified-id=\"Устраненим-пропуски-1.2\"><span class=\"toc-item-num\">1.2&nbsp;&nbsp;</span>Устраненим пропуски</a></span></li><li><span><a href=\"#Проверим-наличие-дубликатов\" data-toc-modified-id=\"Проверим-наличие-дубликатов-1.3\"><span class=\"toc-item-num\">1.3&nbsp;&nbsp;</span>Проверим наличие дубликатов</a></span></li><li><span><a href=\"#Преобразуем-типы-данных\" data-toc-modified-id=\"Преобразуем-типы-данных-1.4\"><span class=\"toc-item-num\">1.4&nbsp;&nbsp;</span>Преобразуем типы данных</a></span></li><li><span><a href=\"#Проверим,-каких-признаков-нет-в-тестовой-выборке\" data-toc-modified-id=\"Проверим,-каких-признаков-нет-в-тестовой-выборке-1.5\"><span class=\"toc-item-num\">1.5&nbsp;&nbsp;</span>Проверим, каких признаков нет в тестовой выборке</a></span></li><li><span><a href=\"#Проверим,-что-эффективность-обогащения-рассчитана-правильно\" data-toc-modified-id=\"Проверим,-что-эффективность-обогащения-рассчитана-правильно-1.6\"><span class=\"toc-item-num\">1.6&nbsp;&nbsp;</span>Проверим, что эффективность обогащения рассчитана правильно</a></span></li></ul></li><li><span><a href=\"#Анализ-данных\" data-toc-modified-id=\"Анализ-данных-2\"><span class=\"toc-item-num\">2&nbsp;&nbsp;</span>Анализ данных</a></span><ul class=\"toc-item\"><li><span><a href=\"#Посмотрим,-как-меняется-концентрация-металлов-(Au,-Ag,-Pb)-на-различных-этапах-очистки\" data-toc-modified-id=\"Посмотрим,-как-меняется-концентрация-металлов-(Au,-Ag,-Pb)-на-различных-этапах-очистки-2.1\"><span class=\"toc-item-num\">2.1&nbsp;&nbsp;</span>Посмотрим, как меняется концентрация металлов (Au, Ag, Pb) на различных этапах очистки</a></span></li><li><span><a href=\"#Сравним-распределения-размеров-гранул-сырья-на-обучающей-и-тестовой-выборках.\" data-toc-modified-id=\"Сравним-распределения-размеров-гранул-сырья-на-обучающей-и-тестовой-выборках.-2.2\"><span class=\"toc-item-num\">2.2&nbsp;&nbsp;</span>Сравним распределения размеров гранул сырья на обучающей и тестовой выборках.</a></span></li><li><span><a href=\"#Исследуем-суммарную-концентрацию-всех-веществ-на-разных-стадиях:-в-сырье,-в-черновом-и-финальном-концентратах.\" data-toc-modified-id=\"Исследуем-суммарную-концентрацию-всех-веществ-на-разных-стадиях:-в-сырье,-в-черновом-и-финальном-концентратах.-2.3\"><span class=\"toc-item-num\">2.3&nbsp;&nbsp;</span>Исследуем суммарную концентрацию всех веществ на разных стадиях: в сырье, в черновом и финальном концентратах.</a></span></li></ul></li><li><span><a href=\"#Модель\" data-toc-modified-id=\"Модель-3\"><span class=\"toc-item-num\">3&nbsp;&nbsp;</span>Модель</a></span><ul class=\"toc-item\"><li><span><a href=\"#Напишем-функцию-для-вычисления-итоговой-sMAPE.\" data-toc-modified-id=\"Напишем-функцию-для-вычисления-итоговой-sMAPE.-3.1\"><span class=\"toc-item-num\">3.1&nbsp;&nbsp;</span>Напишем функцию для вычисления итоговой sMAPE.</a></span></li><li><span><a href=\"#Обучим-разные-модели-и-оценим-их-качество-кросс-валидацией.-Выберем-лучшую-модель-и-проверим-её-на-тестовой-выборке.\" data-toc-modified-id=\"Обучим-разные-модели-и-оценим-их-качество-кросс-валидацией.-Выберем-лучшую-модель-и-проверим-её-на-тестовой-выборке.-3.2\"><span class=\"toc-item-num\">3.2&nbsp;&nbsp;</span>Обучим разные модели и оценим их качество кросс-валидацией. Выберем лучшую модель и проверим её на тестовой выборке.</a></span><ul class=\"toc-item\"><li><span><a href=\"#Подготовим-данные\" data-toc-modified-id=\"Подготовим-данные-3.2.1\"><span class=\"toc-item-num\">3.2.1&nbsp;&nbsp;</span>Подготовим данные</a></span></li><li><span><a href=\"#Удалим-среднее-и-масштабируем-дисперсию\" data-toc-modified-id=\"Удалим-среднее-и-масштабируем-дисперсию-3.2.2\"><span class=\"toc-item-num\">3.2.2&nbsp;&nbsp;</span>Удалим среднее и масштабируем дисперсию</a></span></li><li><span><a href=\"#Обучим-модель-линейной-регресии\" data-toc-modified-id=\"Обучим-модель-линейной-регресии-3.2.3\"><span class=\"toc-item-num\">3.2.3&nbsp;&nbsp;</span>Обучим модель линейной регресии</a></span></li><li><span><a href=\"#Обучим-модель-дерева-решений\" data-toc-modified-id=\"Обучим-модель-дерева-решений-3.2.4\"><span class=\"toc-item-num\">3.2.4&nbsp;&nbsp;</span>Обучим модель дерева решений</a></span></li><li><span><a href=\"#Обучим-модель-случайного-леса¶\" data-toc-modified-id=\"Обучим-модель-случайного-леса¶-3.2.5\"><span class=\"toc-item-num\">3.2.5&nbsp;&nbsp;</span>Обучим модель случайного леса¶</a></span></li><li><span><a href=\"#&quot;Обучим&quot;-константную-модель-(dummy)\" data-toc-modified-id=\"&quot;Обучим&quot;-константную-модель-(dummy)-3.2.6\"><span class=\"toc-item-num\">3.2.6&nbsp;&nbsp;</span>\"Обучим\" константную модель (dummy)</a></span></li><li><span><a href=\"#Сравним-итоговые-SMAPE-всех-моделей\" data-toc-modified-id=\"Сравним-итоговые-SMAPE-всех-моделей-3.2.7\"><span class=\"toc-item-num\">3.2.7&nbsp;&nbsp;</span>Сравним итоговые SMAPE всех моделей</a></span></li></ul></li></ul></li><li><span><a href=\"#Чек-лист-готовности-проекта\" data-toc-modified-id=\"Чек-лист-готовности-проекта-4\"><span class=\"toc-item-num\">4&nbsp;&nbsp;</span>Чек-лист готовности проекта</a></span></li></ul></div>"
   ]
  },
  {
   "cell_type": "markdown",
   "metadata": {},
   "source": [
    "# Восстановление золота из руды"
   ]
  },
  {
   "cell_type": "markdown",
   "metadata": {},
   "source": [
    "Подготовьте прототип модели машинного обучения для «Цифры». Компания разрабатывает решения для эффективной работы промышленных предприятий.\n",
    "\n",
    "Модель должна предсказать коэффициент восстановления золота из золотосодержащей руды. Используйте данные с параметрами добычи и очистки. \n",
    "\n",
    "Модель поможет оптимизировать производство, чтобы не запускать предприятие с убыточными характеристиками.\n",
    "\n",
    "Вам нужно:\n",
    "\n",
    "1. Подготовить данные;\n",
    "2. Провести исследовательский анализ данных;\n",
    "3. Построить и обучить модель.\n",
    "\n",
    "Чтобы выполнить проект, обращайтесь к библиотекам *pandas*, *matplotlib* и *sklearn.* Вам поможет их документация."
   ]
  },
  {
   "cell_type": "markdown",
   "metadata": {},
   "source": [
    "## Подготовка данных"
   ]
  },
  {
   "cell_type": "code",
   "execution_count": 29,
   "metadata": {},
   "outputs": [],
   "source": [
    "import numpy as np\n",
    "import pandas as pd\n",
    "import matplotlib.pyplot as plt\n",
    "import scipy.stats as st\n",
    "\n",
    "from sklearn.model_selection import cross_val_score\n",
    "from sklearn.metrics import mean_absolute_error\n",
    "from sklearn.linear_model import LinearRegression\n",
    "from sklearn.tree import DecisionTreeRegressor\n",
    "from sklearn.ensemble import RandomForestRegressor\n",
    "from sklearn.model_selection import GridSearchCV\n",
    "from sklearn.metrics import make_scorer\n",
    "\n",
    "from sklearn.dummy import DummyRegressor\n",
    "\n",
    "#from sklearn.model_selection import train_test_split\n",
    "from sklearn.preprocessing import StandardScaler\n",
    "from sklearn.utils import shuffle\n",
    "\n",
    "from tqdm import tqdm"
   ]
  },
  {
   "cell_type": "markdown",
   "metadata": {},
   "source": [
    "### Загрузим и исследуем первичные данных"
   ]
  },
  {
   "cell_type": "code",
   "execution_count": 2,
   "metadata": {},
   "outputs": [
    {
     "data": {
      "text/html": [
       "<div>\n",
       "<style scoped>\n",
       "    .dataframe tbody tr th:only-of-type {\n",
       "        vertical-align: middle;\n",
       "    }\n",
       "\n",
       "    .dataframe tbody tr th {\n",
       "        vertical-align: top;\n",
       "    }\n",
       "\n",
       "    .dataframe thead th {\n",
       "        text-align: right;\n",
       "    }\n",
       "</style>\n",
       "<table border=\"1\" class=\"dataframe\">\n",
       "  <thead>\n",
       "    <tr style=\"text-align: right;\">\n",
       "      <th></th>\n",
       "      <th>date</th>\n",
       "      <th>final.output.concentrate_ag</th>\n",
       "      <th>final.output.concentrate_pb</th>\n",
       "      <th>final.output.concentrate_sol</th>\n",
       "      <th>final.output.concentrate_au</th>\n",
       "      <th>final.output.recovery</th>\n",
       "      <th>final.output.tail_ag</th>\n",
       "      <th>final.output.tail_pb</th>\n",
       "      <th>final.output.tail_sol</th>\n",
       "      <th>final.output.tail_au</th>\n",
       "      <th>...</th>\n",
       "      <th>secondary_cleaner.state.floatbank4_a_air</th>\n",
       "      <th>secondary_cleaner.state.floatbank4_a_level</th>\n",
       "      <th>secondary_cleaner.state.floatbank4_b_air</th>\n",
       "      <th>secondary_cleaner.state.floatbank4_b_level</th>\n",
       "      <th>secondary_cleaner.state.floatbank5_a_air</th>\n",
       "      <th>secondary_cleaner.state.floatbank5_a_level</th>\n",
       "      <th>secondary_cleaner.state.floatbank5_b_air</th>\n",
       "      <th>secondary_cleaner.state.floatbank5_b_level</th>\n",
       "      <th>secondary_cleaner.state.floatbank6_a_air</th>\n",
       "      <th>secondary_cleaner.state.floatbank6_a_level</th>\n",
       "    </tr>\n",
       "  </thead>\n",
       "  <tbody>\n",
       "    <tr>\n",
       "      <td>0</td>\n",
       "      <td>2016-01-15 00:00:00</td>\n",
       "      <td>6.055403</td>\n",
       "      <td>9.889648</td>\n",
       "      <td>5.507324</td>\n",
       "      <td>42.192020</td>\n",
       "      <td>70.541216</td>\n",
       "      <td>10.411962</td>\n",
       "      <td>0.895447</td>\n",
       "      <td>16.904297</td>\n",
       "      <td>2.143149</td>\n",
       "      <td>...</td>\n",
       "      <td>14.016835</td>\n",
       "      <td>-502.488007</td>\n",
       "      <td>12.099931</td>\n",
       "      <td>-504.715942</td>\n",
       "      <td>9.925633</td>\n",
       "      <td>-498.310211</td>\n",
       "      <td>8.079666</td>\n",
       "      <td>-500.470978</td>\n",
       "      <td>14.151341</td>\n",
       "      <td>-605.841980</td>\n",
       "    </tr>\n",
       "    <tr>\n",
       "      <td>1</td>\n",
       "      <td>2016-01-15 01:00:00</td>\n",
       "      <td>6.029369</td>\n",
       "      <td>9.968944</td>\n",
       "      <td>5.257781</td>\n",
       "      <td>42.701629</td>\n",
       "      <td>69.266198</td>\n",
       "      <td>10.462676</td>\n",
       "      <td>0.927452</td>\n",
       "      <td>16.634514</td>\n",
       "      <td>2.224930</td>\n",
       "      <td>...</td>\n",
       "      <td>13.992281</td>\n",
       "      <td>-505.503262</td>\n",
       "      <td>11.950531</td>\n",
       "      <td>-501.331529</td>\n",
       "      <td>10.039245</td>\n",
       "      <td>-500.169983</td>\n",
       "      <td>7.984757</td>\n",
       "      <td>-500.582168</td>\n",
       "      <td>13.998353</td>\n",
       "      <td>-599.787184</td>\n",
       "    </tr>\n",
       "    <tr>\n",
       "      <td>2</td>\n",
       "      <td>2016-01-15 02:00:00</td>\n",
       "      <td>6.055926</td>\n",
       "      <td>10.213995</td>\n",
       "      <td>5.383759</td>\n",
       "      <td>42.657501</td>\n",
       "      <td>68.116445</td>\n",
       "      <td>10.507046</td>\n",
       "      <td>0.953716</td>\n",
       "      <td>16.208849</td>\n",
       "      <td>2.257889</td>\n",
       "      <td>...</td>\n",
       "      <td>14.015015</td>\n",
       "      <td>-502.520901</td>\n",
       "      <td>11.912783</td>\n",
       "      <td>-501.133383</td>\n",
       "      <td>10.070913</td>\n",
       "      <td>-500.129135</td>\n",
       "      <td>8.013877</td>\n",
       "      <td>-500.517572</td>\n",
       "      <td>14.028663</td>\n",
       "      <td>-601.427363</td>\n",
       "    </tr>\n",
       "    <tr>\n",
       "      <td>3</td>\n",
       "      <td>2016-01-15 03:00:00</td>\n",
       "      <td>6.047977</td>\n",
       "      <td>9.977019</td>\n",
       "      <td>4.858634</td>\n",
       "      <td>42.689819</td>\n",
       "      <td>68.347543</td>\n",
       "      <td>10.422762</td>\n",
       "      <td>0.883763</td>\n",
       "      <td>16.532835</td>\n",
       "      <td>2.146849</td>\n",
       "      <td>...</td>\n",
       "      <td>14.036510</td>\n",
       "      <td>-500.857308</td>\n",
       "      <td>11.999550</td>\n",
       "      <td>-501.193686</td>\n",
       "      <td>9.970366</td>\n",
       "      <td>-499.201640</td>\n",
       "      <td>7.977324</td>\n",
       "      <td>-500.255908</td>\n",
       "      <td>14.005551</td>\n",
       "      <td>-599.996129</td>\n",
       "    </tr>\n",
       "    <tr>\n",
       "      <td>4</td>\n",
       "      <td>2016-01-15 04:00:00</td>\n",
       "      <td>6.148599</td>\n",
       "      <td>10.142511</td>\n",
       "      <td>4.939416</td>\n",
       "      <td>42.774141</td>\n",
       "      <td>66.927016</td>\n",
       "      <td>10.360302</td>\n",
       "      <td>0.792826</td>\n",
       "      <td>16.525686</td>\n",
       "      <td>2.055292</td>\n",
       "      <td>...</td>\n",
       "      <td>14.027298</td>\n",
       "      <td>-499.838632</td>\n",
       "      <td>11.953070</td>\n",
       "      <td>-501.053894</td>\n",
       "      <td>9.925709</td>\n",
       "      <td>-501.686727</td>\n",
       "      <td>7.894242</td>\n",
       "      <td>-500.356035</td>\n",
       "      <td>13.996647</td>\n",
       "      <td>-601.496691</td>\n",
       "    </tr>\n",
       "  </tbody>\n",
       "</table>\n",
       "<p>5 rows × 87 columns</p>\n",
       "</div>"
      ],
      "text/plain": [
       "                  date  final.output.concentrate_ag  \\\n",
       "0  2016-01-15 00:00:00                     6.055403   \n",
       "1  2016-01-15 01:00:00                     6.029369   \n",
       "2  2016-01-15 02:00:00                     6.055926   \n",
       "3  2016-01-15 03:00:00                     6.047977   \n",
       "4  2016-01-15 04:00:00                     6.148599   \n",
       "\n",
       "   final.output.concentrate_pb  final.output.concentrate_sol  \\\n",
       "0                     9.889648                      5.507324   \n",
       "1                     9.968944                      5.257781   \n",
       "2                    10.213995                      5.383759   \n",
       "3                     9.977019                      4.858634   \n",
       "4                    10.142511                      4.939416   \n",
       "\n",
       "   final.output.concentrate_au  final.output.recovery  final.output.tail_ag  \\\n",
       "0                    42.192020              70.541216             10.411962   \n",
       "1                    42.701629              69.266198             10.462676   \n",
       "2                    42.657501              68.116445             10.507046   \n",
       "3                    42.689819              68.347543             10.422762   \n",
       "4                    42.774141              66.927016             10.360302   \n",
       "\n",
       "   final.output.tail_pb  final.output.tail_sol  final.output.tail_au  ...  \\\n",
       "0              0.895447              16.904297              2.143149  ...   \n",
       "1              0.927452              16.634514              2.224930  ...   \n",
       "2              0.953716              16.208849              2.257889  ...   \n",
       "3              0.883763              16.532835              2.146849  ...   \n",
       "4              0.792826              16.525686              2.055292  ...   \n",
       "\n",
       "   secondary_cleaner.state.floatbank4_a_air  \\\n",
       "0                                 14.016835   \n",
       "1                                 13.992281   \n",
       "2                                 14.015015   \n",
       "3                                 14.036510   \n",
       "4                                 14.027298   \n",
       "\n",
       "   secondary_cleaner.state.floatbank4_a_level  \\\n",
       "0                                 -502.488007   \n",
       "1                                 -505.503262   \n",
       "2                                 -502.520901   \n",
       "3                                 -500.857308   \n",
       "4                                 -499.838632   \n",
       "\n",
       "   secondary_cleaner.state.floatbank4_b_air  \\\n",
       "0                                 12.099931   \n",
       "1                                 11.950531   \n",
       "2                                 11.912783   \n",
       "3                                 11.999550   \n",
       "4                                 11.953070   \n",
       "\n",
       "   secondary_cleaner.state.floatbank4_b_level  \\\n",
       "0                                 -504.715942   \n",
       "1                                 -501.331529   \n",
       "2                                 -501.133383   \n",
       "3                                 -501.193686   \n",
       "4                                 -501.053894   \n",
       "\n",
       "   secondary_cleaner.state.floatbank5_a_air  \\\n",
       "0                                  9.925633   \n",
       "1                                 10.039245   \n",
       "2                                 10.070913   \n",
       "3                                  9.970366   \n",
       "4                                  9.925709   \n",
       "\n",
       "   secondary_cleaner.state.floatbank5_a_level  \\\n",
       "0                                 -498.310211   \n",
       "1                                 -500.169983   \n",
       "2                                 -500.129135   \n",
       "3                                 -499.201640   \n",
       "4                                 -501.686727   \n",
       "\n",
       "   secondary_cleaner.state.floatbank5_b_air  \\\n",
       "0                                  8.079666   \n",
       "1                                  7.984757   \n",
       "2                                  8.013877   \n",
       "3                                  7.977324   \n",
       "4                                  7.894242   \n",
       "\n",
       "   secondary_cleaner.state.floatbank5_b_level  \\\n",
       "0                                 -500.470978   \n",
       "1                                 -500.582168   \n",
       "2                                 -500.517572   \n",
       "3                                 -500.255908   \n",
       "4                                 -500.356035   \n",
       "\n",
       "   secondary_cleaner.state.floatbank6_a_air  \\\n",
       "0                                 14.151341   \n",
       "1                                 13.998353   \n",
       "2                                 14.028663   \n",
       "3                                 14.005551   \n",
       "4                                 13.996647   \n",
       "\n",
       "   secondary_cleaner.state.floatbank6_a_level  \n",
       "0                                 -605.841980  \n",
       "1                                 -599.787184  \n",
       "2                                 -601.427363  \n",
       "3                                 -599.996129  \n",
       "4                                 -601.496691  \n",
       "\n",
       "[5 rows x 87 columns]"
      ]
     },
     "metadata": {},
     "output_type": "display_data"
    },
    {
     "data": {
      "text/html": [
       "<div>\n",
       "<style scoped>\n",
       "    .dataframe tbody tr th:only-of-type {\n",
       "        vertical-align: middle;\n",
       "    }\n",
       "\n",
       "    .dataframe tbody tr th {\n",
       "        vertical-align: top;\n",
       "    }\n",
       "\n",
       "    .dataframe thead th {\n",
       "        text-align: right;\n",
       "    }\n",
       "</style>\n",
       "<table border=\"1\" class=\"dataframe\">\n",
       "  <thead>\n",
       "    <tr style=\"text-align: right;\">\n",
       "      <th></th>\n",
       "      <th>date</th>\n",
       "      <th>primary_cleaner.input.sulfate</th>\n",
       "      <th>primary_cleaner.input.depressant</th>\n",
       "      <th>primary_cleaner.input.feed_size</th>\n",
       "      <th>primary_cleaner.input.xanthate</th>\n",
       "      <th>primary_cleaner.state.floatbank8_a_air</th>\n",
       "      <th>primary_cleaner.state.floatbank8_a_level</th>\n",
       "      <th>primary_cleaner.state.floatbank8_b_air</th>\n",
       "      <th>primary_cleaner.state.floatbank8_b_level</th>\n",
       "      <th>primary_cleaner.state.floatbank8_c_air</th>\n",
       "      <th>...</th>\n",
       "      <th>secondary_cleaner.state.floatbank4_a_air</th>\n",
       "      <th>secondary_cleaner.state.floatbank4_a_level</th>\n",
       "      <th>secondary_cleaner.state.floatbank4_b_air</th>\n",
       "      <th>secondary_cleaner.state.floatbank4_b_level</th>\n",
       "      <th>secondary_cleaner.state.floatbank5_a_air</th>\n",
       "      <th>secondary_cleaner.state.floatbank5_a_level</th>\n",
       "      <th>secondary_cleaner.state.floatbank5_b_air</th>\n",
       "      <th>secondary_cleaner.state.floatbank5_b_level</th>\n",
       "      <th>secondary_cleaner.state.floatbank6_a_air</th>\n",
       "      <th>secondary_cleaner.state.floatbank6_a_level</th>\n",
       "    </tr>\n",
       "  </thead>\n",
       "  <tbody>\n",
       "    <tr>\n",
       "      <td>0</td>\n",
       "      <td>2016-09-01 00:59:59</td>\n",
       "      <td>210.800909</td>\n",
       "      <td>14.993118</td>\n",
       "      <td>8.080000</td>\n",
       "      <td>1.005021</td>\n",
       "      <td>1398.981301</td>\n",
       "      <td>-500.225577</td>\n",
       "      <td>1399.144926</td>\n",
       "      <td>-499.919735</td>\n",
       "      <td>1400.102998</td>\n",
       "      <td>...</td>\n",
       "      <td>12.023554</td>\n",
       "      <td>-497.795834</td>\n",
       "      <td>8.016656</td>\n",
       "      <td>-501.289139</td>\n",
       "      <td>7.946562</td>\n",
       "      <td>-432.317850</td>\n",
       "      <td>4.872511</td>\n",
       "      <td>-500.037437</td>\n",
       "      <td>26.705889</td>\n",
       "      <td>-499.709414</td>\n",
       "    </tr>\n",
       "    <tr>\n",
       "      <td>1</td>\n",
       "      <td>2016-09-01 01:59:59</td>\n",
       "      <td>215.392455</td>\n",
       "      <td>14.987471</td>\n",
       "      <td>8.080000</td>\n",
       "      <td>0.990469</td>\n",
       "      <td>1398.777912</td>\n",
       "      <td>-500.057435</td>\n",
       "      <td>1398.055362</td>\n",
       "      <td>-499.778182</td>\n",
       "      <td>1396.151033</td>\n",
       "      <td>...</td>\n",
       "      <td>12.058140</td>\n",
       "      <td>-498.695773</td>\n",
       "      <td>8.130979</td>\n",
       "      <td>-499.634209</td>\n",
       "      <td>7.958270</td>\n",
       "      <td>-525.839648</td>\n",
       "      <td>4.878850</td>\n",
       "      <td>-500.162375</td>\n",
       "      <td>25.019940</td>\n",
       "      <td>-499.819438</td>\n",
       "    </tr>\n",
       "    <tr>\n",
       "      <td>2</td>\n",
       "      <td>2016-09-01 02:59:59</td>\n",
       "      <td>215.259946</td>\n",
       "      <td>12.884934</td>\n",
       "      <td>7.786667</td>\n",
       "      <td>0.996043</td>\n",
       "      <td>1398.493666</td>\n",
       "      <td>-500.868360</td>\n",
       "      <td>1398.860436</td>\n",
       "      <td>-499.764529</td>\n",
       "      <td>1398.075709</td>\n",
       "      <td>...</td>\n",
       "      <td>11.962366</td>\n",
       "      <td>-498.767484</td>\n",
       "      <td>8.096893</td>\n",
       "      <td>-500.827423</td>\n",
       "      <td>8.071056</td>\n",
       "      <td>-500.801673</td>\n",
       "      <td>4.905125</td>\n",
       "      <td>-499.828510</td>\n",
       "      <td>24.994862</td>\n",
       "      <td>-500.622559</td>\n",
       "    </tr>\n",
       "    <tr>\n",
       "      <td>3</td>\n",
       "      <td>2016-09-01 03:59:59</td>\n",
       "      <td>215.336236</td>\n",
       "      <td>12.006805</td>\n",
       "      <td>7.640000</td>\n",
       "      <td>0.863514</td>\n",
       "      <td>1399.618111</td>\n",
       "      <td>-498.863574</td>\n",
       "      <td>1397.440120</td>\n",
       "      <td>-499.211024</td>\n",
       "      <td>1400.129303</td>\n",
       "      <td>...</td>\n",
       "      <td>12.033091</td>\n",
       "      <td>-498.350935</td>\n",
       "      <td>8.074946</td>\n",
       "      <td>-499.474407</td>\n",
       "      <td>7.897085</td>\n",
       "      <td>-500.868509</td>\n",
       "      <td>4.931400</td>\n",
       "      <td>-499.963623</td>\n",
       "      <td>24.948919</td>\n",
       "      <td>-498.709987</td>\n",
       "    </tr>\n",
       "    <tr>\n",
       "      <td>4</td>\n",
       "      <td>2016-09-01 04:59:59</td>\n",
       "      <td>199.099327</td>\n",
       "      <td>10.682530</td>\n",
       "      <td>7.530000</td>\n",
       "      <td>0.805575</td>\n",
       "      <td>1401.268123</td>\n",
       "      <td>-500.808305</td>\n",
       "      <td>1398.128818</td>\n",
       "      <td>-499.504543</td>\n",
       "      <td>1402.172226</td>\n",
       "      <td>...</td>\n",
       "      <td>12.025367</td>\n",
       "      <td>-500.786497</td>\n",
       "      <td>8.054678</td>\n",
       "      <td>-500.397500</td>\n",
       "      <td>8.107890</td>\n",
       "      <td>-509.526725</td>\n",
       "      <td>4.957674</td>\n",
       "      <td>-500.360026</td>\n",
       "      <td>25.003331</td>\n",
       "      <td>-500.856333</td>\n",
       "    </tr>\n",
       "  </tbody>\n",
       "</table>\n",
       "<p>5 rows × 53 columns</p>\n",
       "</div>"
      ],
      "text/plain": [
       "                  date  primary_cleaner.input.sulfate  \\\n",
       "0  2016-09-01 00:59:59                     210.800909   \n",
       "1  2016-09-01 01:59:59                     215.392455   \n",
       "2  2016-09-01 02:59:59                     215.259946   \n",
       "3  2016-09-01 03:59:59                     215.336236   \n",
       "4  2016-09-01 04:59:59                     199.099327   \n",
       "\n",
       "   primary_cleaner.input.depressant  primary_cleaner.input.feed_size  \\\n",
       "0                         14.993118                         8.080000   \n",
       "1                         14.987471                         8.080000   \n",
       "2                         12.884934                         7.786667   \n",
       "3                         12.006805                         7.640000   \n",
       "4                         10.682530                         7.530000   \n",
       "\n",
       "   primary_cleaner.input.xanthate  primary_cleaner.state.floatbank8_a_air  \\\n",
       "0                        1.005021                             1398.981301   \n",
       "1                        0.990469                             1398.777912   \n",
       "2                        0.996043                             1398.493666   \n",
       "3                        0.863514                             1399.618111   \n",
       "4                        0.805575                             1401.268123   \n",
       "\n",
       "   primary_cleaner.state.floatbank8_a_level  \\\n",
       "0                               -500.225577   \n",
       "1                               -500.057435   \n",
       "2                               -500.868360   \n",
       "3                               -498.863574   \n",
       "4                               -500.808305   \n",
       "\n",
       "   primary_cleaner.state.floatbank8_b_air  \\\n",
       "0                             1399.144926   \n",
       "1                             1398.055362   \n",
       "2                             1398.860436   \n",
       "3                             1397.440120   \n",
       "4                             1398.128818   \n",
       "\n",
       "   primary_cleaner.state.floatbank8_b_level  \\\n",
       "0                               -499.919735   \n",
       "1                               -499.778182   \n",
       "2                               -499.764529   \n",
       "3                               -499.211024   \n",
       "4                               -499.504543   \n",
       "\n",
       "   primary_cleaner.state.floatbank8_c_air  ...  \\\n",
       "0                             1400.102998  ...   \n",
       "1                             1396.151033  ...   \n",
       "2                             1398.075709  ...   \n",
       "3                             1400.129303  ...   \n",
       "4                             1402.172226  ...   \n",
       "\n",
       "   secondary_cleaner.state.floatbank4_a_air  \\\n",
       "0                                 12.023554   \n",
       "1                                 12.058140   \n",
       "2                                 11.962366   \n",
       "3                                 12.033091   \n",
       "4                                 12.025367   \n",
       "\n",
       "   secondary_cleaner.state.floatbank4_a_level  \\\n",
       "0                                 -497.795834   \n",
       "1                                 -498.695773   \n",
       "2                                 -498.767484   \n",
       "3                                 -498.350935   \n",
       "4                                 -500.786497   \n",
       "\n",
       "   secondary_cleaner.state.floatbank4_b_air  \\\n",
       "0                                  8.016656   \n",
       "1                                  8.130979   \n",
       "2                                  8.096893   \n",
       "3                                  8.074946   \n",
       "4                                  8.054678   \n",
       "\n",
       "   secondary_cleaner.state.floatbank4_b_level  \\\n",
       "0                                 -501.289139   \n",
       "1                                 -499.634209   \n",
       "2                                 -500.827423   \n",
       "3                                 -499.474407   \n",
       "4                                 -500.397500   \n",
       "\n",
       "   secondary_cleaner.state.floatbank5_a_air  \\\n",
       "0                                  7.946562   \n",
       "1                                  7.958270   \n",
       "2                                  8.071056   \n",
       "3                                  7.897085   \n",
       "4                                  8.107890   \n",
       "\n",
       "   secondary_cleaner.state.floatbank5_a_level  \\\n",
       "0                                 -432.317850   \n",
       "1                                 -525.839648   \n",
       "2                                 -500.801673   \n",
       "3                                 -500.868509   \n",
       "4                                 -509.526725   \n",
       "\n",
       "   secondary_cleaner.state.floatbank5_b_air  \\\n",
       "0                                  4.872511   \n",
       "1                                  4.878850   \n",
       "2                                  4.905125   \n",
       "3                                  4.931400   \n",
       "4                                  4.957674   \n",
       "\n",
       "   secondary_cleaner.state.floatbank5_b_level  \\\n",
       "0                                 -500.037437   \n",
       "1                                 -500.162375   \n",
       "2                                 -499.828510   \n",
       "3                                 -499.963623   \n",
       "4                                 -500.360026   \n",
       "\n",
       "   secondary_cleaner.state.floatbank6_a_air  \\\n",
       "0                                 26.705889   \n",
       "1                                 25.019940   \n",
       "2                                 24.994862   \n",
       "3                                 24.948919   \n",
       "4                                 25.003331   \n",
       "\n",
       "   secondary_cleaner.state.floatbank6_a_level  \n",
       "0                                 -499.709414  \n",
       "1                                 -499.819438  \n",
       "2                                 -500.622559  \n",
       "3                                 -498.709987  \n",
       "4                                 -500.856333  \n",
       "\n",
       "[5 rows x 53 columns]"
      ]
     },
     "metadata": {},
     "output_type": "display_data"
    },
    {
     "data": {
      "text/html": [
       "<div>\n",
       "<style scoped>\n",
       "    .dataframe tbody tr th:only-of-type {\n",
       "        vertical-align: middle;\n",
       "    }\n",
       "\n",
       "    .dataframe tbody tr th {\n",
       "        vertical-align: top;\n",
       "    }\n",
       "\n",
       "    .dataframe thead th {\n",
       "        text-align: right;\n",
       "    }\n",
       "</style>\n",
       "<table border=\"1\" class=\"dataframe\">\n",
       "  <thead>\n",
       "    <tr style=\"text-align: right;\">\n",
       "      <th></th>\n",
       "      <th>date</th>\n",
       "      <th>final.output.concentrate_ag</th>\n",
       "      <th>final.output.concentrate_pb</th>\n",
       "      <th>final.output.concentrate_sol</th>\n",
       "      <th>final.output.concentrate_au</th>\n",
       "      <th>final.output.recovery</th>\n",
       "      <th>final.output.tail_ag</th>\n",
       "      <th>final.output.tail_pb</th>\n",
       "      <th>final.output.tail_sol</th>\n",
       "      <th>final.output.tail_au</th>\n",
       "      <th>...</th>\n",
       "      <th>secondary_cleaner.state.floatbank4_a_air</th>\n",
       "      <th>secondary_cleaner.state.floatbank4_a_level</th>\n",
       "      <th>secondary_cleaner.state.floatbank4_b_air</th>\n",
       "      <th>secondary_cleaner.state.floatbank4_b_level</th>\n",
       "      <th>secondary_cleaner.state.floatbank5_a_air</th>\n",
       "      <th>secondary_cleaner.state.floatbank5_a_level</th>\n",
       "      <th>secondary_cleaner.state.floatbank5_b_air</th>\n",
       "      <th>secondary_cleaner.state.floatbank5_b_level</th>\n",
       "      <th>secondary_cleaner.state.floatbank6_a_air</th>\n",
       "      <th>secondary_cleaner.state.floatbank6_a_level</th>\n",
       "    </tr>\n",
       "  </thead>\n",
       "  <tbody>\n",
       "    <tr>\n",
       "      <td>0</td>\n",
       "      <td>2016-01-15 00:00:00</td>\n",
       "      <td>6.055403</td>\n",
       "      <td>9.889648</td>\n",
       "      <td>5.507324</td>\n",
       "      <td>42.192020</td>\n",
       "      <td>70.541216</td>\n",
       "      <td>10.411962</td>\n",
       "      <td>0.895447</td>\n",
       "      <td>16.904297</td>\n",
       "      <td>2.143149</td>\n",
       "      <td>...</td>\n",
       "      <td>14.016835</td>\n",
       "      <td>-502.488007</td>\n",
       "      <td>12.099931</td>\n",
       "      <td>-504.715942</td>\n",
       "      <td>9.925633</td>\n",
       "      <td>-498.310211</td>\n",
       "      <td>8.079666</td>\n",
       "      <td>-500.470978</td>\n",
       "      <td>14.151341</td>\n",
       "      <td>-605.841980</td>\n",
       "    </tr>\n",
       "    <tr>\n",
       "      <td>1</td>\n",
       "      <td>2016-01-15 01:00:00</td>\n",
       "      <td>6.029369</td>\n",
       "      <td>9.968944</td>\n",
       "      <td>5.257781</td>\n",
       "      <td>42.701629</td>\n",
       "      <td>69.266198</td>\n",
       "      <td>10.462676</td>\n",
       "      <td>0.927452</td>\n",
       "      <td>16.634514</td>\n",
       "      <td>2.224930</td>\n",
       "      <td>...</td>\n",
       "      <td>13.992281</td>\n",
       "      <td>-505.503262</td>\n",
       "      <td>11.950531</td>\n",
       "      <td>-501.331529</td>\n",
       "      <td>10.039245</td>\n",
       "      <td>-500.169983</td>\n",
       "      <td>7.984757</td>\n",
       "      <td>-500.582168</td>\n",
       "      <td>13.998353</td>\n",
       "      <td>-599.787184</td>\n",
       "    </tr>\n",
       "    <tr>\n",
       "      <td>2</td>\n",
       "      <td>2016-01-15 02:00:00</td>\n",
       "      <td>6.055926</td>\n",
       "      <td>10.213995</td>\n",
       "      <td>5.383759</td>\n",
       "      <td>42.657501</td>\n",
       "      <td>68.116445</td>\n",
       "      <td>10.507046</td>\n",
       "      <td>0.953716</td>\n",
       "      <td>16.208849</td>\n",
       "      <td>2.257889</td>\n",
       "      <td>...</td>\n",
       "      <td>14.015015</td>\n",
       "      <td>-502.520901</td>\n",
       "      <td>11.912783</td>\n",
       "      <td>-501.133383</td>\n",
       "      <td>10.070913</td>\n",
       "      <td>-500.129135</td>\n",
       "      <td>8.013877</td>\n",
       "      <td>-500.517572</td>\n",
       "      <td>14.028663</td>\n",
       "      <td>-601.427363</td>\n",
       "    </tr>\n",
       "    <tr>\n",
       "      <td>3</td>\n",
       "      <td>2016-01-15 03:00:00</td>\n",
       "      <td>6.047977</td>\n",
       "      <td>9.977019</td>\n",
       "      <td>4.858634</td>\n",
       "      <td>42.689819</td>\n",
       "      <td>68.347543</td>\n",
       "      <td>10.422762</td>\n",
       "      <td>0.883763</td>\n",
       "      <td>16.532835</td>\n",
       "      <td>2.146849</td>\n",
       "      <td>...</td>\n",
       "      <td>14.036510</td>\n",
       "      <td>-500.857308</td>\n",
       "      <td>11.999550</td>\n",
       "      <td>-501.193686</td>\n",
       "      <td>9.970366</td>\n",
       "      <td>-499.201640</td>\n",
       "      <td>7.977324</td>\n",
       "      <td>-500.255908</td>\n",
       "      <td>14.005551</td>\n",
       "      <td>-599.996129</td>\n",
       "    </tr>\n",
       "    <tr>\n",
       "      <td>4</td>\n",
       "      <td>2016-01-15 04:00:00</td>\n",
       "      <td>6.148599</td>\n",
       "      <td>10.142511</td>\n",
       "      <td>4.939416</td>\n",
       "      <td>42.774141</td>\n",
       "      <td>66.927016</td>\n",
       "      <td>10.360302</td>\n",
       "      <td>0.792826</td>\n",
       "      <td>16.525686</td>\n",
       "      <td>2.055292</td>\n",
       "      <td>...</td>\n",
       "      <td>14.027298</td>\n",
       "      <td>-499.838632</td>\n",
       "      <td>11.953070</td>\n",
       "      <td>-501.053894</td>\n",
       "      <td>9.925709</td>\n",
       "      <td>-501.686727</td>\n",
       "      <td>7.894242</td>\n",
       "      <td>-500.356035</td>\n",
       "      <td>13.996647</td>\n",
       "      <td>-601.496691</td>\n",
       "    </tr>\n",
       "  </tbody>\n",
       "</table>\n",
       "<p>5 rows × 87 columns</p>\n",
       "</div>"
      ],
      "text/plain": [
       "                  date  final.output.concentrate_ag  \\\n",
       "0  2016-01-15 00:00:00                     6.055403   \n",
       "1  2016-01-15 01:00:00                     6.029369   \n",
       "2  2016-01-15 02:00:00                     6.055926   \n",
       "3  2016-01-15 03:00:00                     6.047977   \n",
       "4  2016-01-15 04:00:00                     6.148599   \n",
       "\n",
       "   final.output.concentrate_pb  final.output.concentrate_sol  \\\n",
       "0                     9.889648                      5.507324   \n",
       "1                     9.968944                      5.257781   \n",
       "2                    10.213995                      5.383759   \n",
       "3                     9.977019                      4.858634   \n",
       "4                    10.142511                      4.939416   \n",
       "\n",
       "   final.output.concentrate_au  final.output.recovery  final.output.tail_ag  \\\n",
       "0                    42.192020              70.541216             10.411962   \n",
       "1                    42.701629              69.266198             10.462676   \n",
       "2                    42.657501              68.116445             10.507046   \n",
       "3                    42.689819              68.347543             10.422762   \n",
       "4                    42.774141              66.927016             10.360302   \n",
       "\n",
       "   final.output.tail_pb  final.output.tail_sol  final.output.tail_au  ...  \\\n",
       "0              0.895447              16.904297              2.143149  ...   \n",
       "1              0.927452              16.634514              2.224930  ...   \n",
       "2              0.953716              16.208849              2.257889  ...   \n",
       "3              0.883763              16.532835              2.146849  ...   \n",
       "4              0.792826              16.525686              2.055292  ...   \n",
       "\n",
       "   secondary_cleaner.state.floatbank4_a_air  \\\n",
       "0                                 14.016835   \n",
       "1                                 13.992281   \n",
       "2                                 14.015015   \n",
       "3                                 14.036510   \n",
       "4                                 14.027298   \n",
       "\n",
       "   secondary_cleaner.state.floatbank4_a_level  \\\n",
       "0                                 -502.488007   \n",
       "1                                 -505.503262   \n",
       "2                                 -502.520901   \n",
       "3                                 -500.857308   \n",
       "4                                 -499.838632   \n",
       "\n",
       "   secondary_cleaner.state.floatbank4_b_air  \\\n",
       "0                                 12.099931   \n",
       "1                                 11.950531   \n",
       "2                                 11.912783   \n",
       "3                                 11.999550   \n",
       "4                                 11.953070   \n",
       "\n",
       "   secondary_cleaner.state.floatbank4_b_level  \\\n",
       "0                                 -504.715942   \n",
       "1                                 -501.331529   \n",
       "2                                 -501.133383   \n",
       "3                                 -501.193686   \n",
       "4                                 -501.053894   \n",
       "\n",
       "   secondary_cleaner.state.floatbank5_a_air  \\\n",
       "0                                  9.925633   \n",
       "1                                 10.039245   \n",
       "2                                 10.070913   \n",
       "3                                  9.970366   \n",
       "4                                  9.925709   \n",
       "\n",
       "   secondary_cleaner.state.floatbank5_a_level  \\\n",
       "0                                 -498.310211   \n",
       "1                                 -500.169983   \n",
       "2                                 -500.129135   \n",
       "3                                 -499.201640   \n",
       "4                                 -501.686727   \n",
       "\n",
       "   secondary_cleaner.state.floatbank5_b_air  \\\n",
       "0                                  8.079666   \n",
       "1                                  7.984757   \n",
       "2                                  8.013877   \n",
       "3                                  7.977324   \n",
       "4                                  7.894242   \n",
       "\n",
       "   secondary_cleaner.state.floatbank5_b_level  \\\n",
       "0                                 -500.470978   \n",
       "1                                 -500.582168   \n",
       "2                                 -500.517572   \n",
       "3                                 -500.255908   \n",
       "4                                 -500.356035   \n",
       "\n",
       "   secondary_cleaner.state.floatbank6_a_air  \\\n",
       "0                                 14.151341   \n",
       "1                                 13.998353   \n",
       "2                                 14.028663   \n",
       "3                                 14.005551   \n",
       "4                                 13.996647   \n",
       "\n",
       "   secondary_cleaner.state.floatbank6_a_level  \n",
       "0                                 -605.841980  \n",
       "1                                 -599.787184  \n",
       "2                                 -601.427363  \n",
       "3                                 -599.996129  \n",
       "4                                 -601.496691  \n",
       "\n",
       "[5 rows x 87 columns]"
      ]
     },
     "metadata": {},
     "output_type": "display_data"
    },
    {
     "data": {
      "text/html": [
       "<div>\n",
       "<style scoped>\n",
       "    .dataframe tbody tr th:only-of-type {\n",
       "        vertical-align: middle;\n",
       "    }\n",
       "\n",
       "    .dataframe tbody tr th {\n",
       "        vertical-align: top;\n",
       "    }\n",
       "\n",
       "    .dataframe thead th {\n",
       "        text-align: right;\n",
       "    }\n",
       "</style>\n",
       "<table border=\"1\" class=\"dataframe\">\n",
       "  <thead>\n",
       "    <tr style=\"text-align: right;\">\n",
       "      <th></th>\n",
       "      <th>final.output.concentrate_ag</th>\n",
       "      <th>final.output.concentrate_pb</th>\n",
       "      <th>final.output.concentrate_sol</th>\n",
       "      <th>final.output.concentrate_au</th>\n",
       "      <th>final.output.recovery</th>\n",
       "      <th>final.output.tail_ag</th>\n",
       "      <th>final.output.tail_pb</th>\n",
       "      <th>final.output.tail_sol</th>\n",
       "      <th>final.output.tail_au</th>\n",
       "      <th>primary_cleaner.input.sulfate</th>\n",
       "      <th>...</th>\n",
       "      <th>secondary_cleaner.state.floatbank4_a_air</th>\n",
       "      <th>secondary_cleaner.state.floatbank4_a_level</th>\n",
       "      <th>secondary_cleaner.state.floatbank4_b_air</th>\n",
       "      <th>secondary_cleaner.state.floatbank4_b_level</th>\n",
       "      <th>secondary_cleaner.state.floatbank5_a_air</th>\n",
       "      <th>secondary_cleaner.state.floatbank5_a_level</th>\n",
       "      <th>secondary_cleaner.state.floatbank5_b_air</th>\n",
       "      <th>secondary_cleaner.state.floatbank5_b_level</th>\n",
       "      <th>secondary_cleaner.state.floatbank6_a_air</th>\n",
       "      <th>secondary_cleaner.state.floatbank6_a_level</th>\n",
       "    </tr>\n",
       "  </thead>\n",
       "  <tbody>\n",
       "    <tr>\n",
       "      <td>count</td>\n",
       "      <td>14148.000000</td>\n",
       "      <td>14148.000000</td>\n",
       "      <td>13938.000000</td>\n",
       "      <td>14149.000000</td>\n",
       "      <td>14149.000000</td>\n",
       "      <td>14149.000000</td>\n",
       "      <td>14049.000000</td>\n",
       "      <td>14144.000000</td>\n",
       "      <td>14149.000000</td>\n",
       "      <td>14129.000000</td>\n",
       "      <td>...</td>\n",
       "      <td>14143.000000</td>\n",
       "      <td>14148.000000</td>\n",
       "      <td>14148.000000</td>\n",
       "      <td>14148.000000</td>\n",
       "      <td>14148.000000</td>\n",
       "      <td>14148.000000</td>\n",
       "      <td>14148.000000</td>\n",
       "      <td>14148.000000</td>\n",
       "      <td>14147.000000</td>\n",
       "      <td>14148.000000</td>\n",
       "    </tr>\n",
       "    <tr>\n",
       "      <td>mean</td>\n",
       "      <td>5.142034</td>\n",
       "      <td>10.132960</td>\n",
       "      <td>9.202849</td>\n",
       "      <td>44.003792</td>\n",
       "      <td>66.518832</td>\n",
       "      <td>9.607035</td>\n",
       "      <td>2.597298</td>\n",
       "      <td>10.512122</td>\n",
       "      <td>2.918421</td>\n",
       "      <td>133.320659</td>\n",
       "      <td>...</td>\n",
       "      <td>19.985454</td>\n",
       "      <td>-478.696836</td>\n",
       "      <td>15.487065</td>\n",
       "      <td>-460.229416</td>\n",
       "      <td>16.775136</td>\n",
       "      <td>-483.956022</td>\n",
       "      <td>13.064590</td>\n",
       "      <td>-483.966564</td>\n",
       "      <td>19.577539</td>\n",
       "      <td>-506.798480</td>\n",
       "    </tr>\n",
       "    <tr>\n",
       "      <td>std</td>\n",
       "      <td>1.369586</td>\n",
       "      <td>1.654930</td>\n",
       "      <td>2.790516</td>\n",
       "      <td>4.905261</td>\n",
       "      <td>10.295402</td>\n",
       "      <td>2.319069</td>\n",
       "      <td>0.971843</td>\n",
       "      <td>3.003617</td>\n",
       "      <td>0.903712</td>\n",
       "      <td>39.431659</td>\n",
       "      <td>...</td>\n",
       "      <td>5.657723</td>\n",
       "      <td>50.736021</td>\n",
       "      <td>5.255655</td>\n",
       "      <td>58.843586</td>\n",
       "      <td>5.831906</td>\n",
       "      <td>37.892788</td>\n",
       "      <td>5.765617</td>\n",
       "      <td>39.207913</td>\n",
       "      <td>5.764417</td>\n",
       "      <td>37.079249</td>\n",
       "    </tr>\n",
       "    <tr>\n",
       "      <td>min</td>\n",
       "      <td>0.000000</td>\n",
       "      <td>0.000000</td>\n",
       "      <td>0.000000</td>\n",
       "      <td>0.000000</td>\n",
       "      <td>0.000000</td>\n",
       "      <td>0.000000</td>\n",
       "      <td>0.000000</td>\n",
       "      <td>0.000000</td>\n",
       "      <td>0.000000</td>\n",
       "      <td>0.003112</td>\n",
       "      <td>...</td>\n",
       "      <td>0.000000</td>\n",
       "      <td>-799.709069</td>\n",
       "      <td>0.000000</td>\n",
       "      <td>-799.889113</td>\n",
       "      <td>-0.372054</td>\n",
       "      <td>-797.142475</td>\n",
       "      <td>0.646208</td>\n",
       "      <td>-800.006180</td>\n",
       "      <td>0.195324</td>\n",
       "      <td>-809.398668</td>\n",
       "    </tr>\n",
       "    <tr>\n",
       "      <td>25%</td>\n",
       "      <td>4.211620</td>\n",
       "      <td>9.297355</td>\n",
       "      <td>7.484645</td>\n",
       "      <td>43.276111</td>\n",
       "      <td>62.545817</td>\n",
       "      <td>7.997429</td>\n",
       "      <td>1.905973</td>\n",
       "      <td>8.811324</td>\n",
       "      <td>2.368607</td>\n",
       "      <td>107.006651</td>\n",
       "      <td>...</td>\n",
       "      <td>14.990775</td>\n",
       "      <td>-500.628656</td>\n",
       "      <td>11.894558</td>\n",
       "      <td>-500.149000</td>\n",
       "      <td>11.083980</td>\n",
       "      <td>-500.363177</td>\n",
       "      <td>8.994405</td>\n",
       "      <td>-500.105994</td>\n",
       "      <td>14.989304</td>\n",
       "      <td>-500.745104</td>\n",
       "    </tr>\n",
       "    <tr>\n",
       "      <td>50%</td>\n",
       "      <td>4.994652</td>\n",
       "      <td>10.297144</td>\n",
       "      <td>8.845462</td>\n",
       "      <td>44.872436</td>\n",
       "      <td>67.432775</td>\n",
       "      <td>9.480270</td>\n",
       "      <td>2.592022</td>\n",
       "      <td>10.514621</td>\n",
       "      <td>2.851025</td>\n",
       "      <td>133.018328</td>\n",
       "      <td>...</td>\n",
       "      <td>20.001789</td>\n",
       "      <td>-499.681450</td>\n",
       "      <td>14.975536</td>\n",
       "      <td>-499.388738</td>\n",
       "      <td>17.932223</td>\n",
       "      <td>-499.702452</td>\n",
       "      <td>11.997547</td>\n",
       "      <td>-499.914556</td>\n",
       "      <td>19.984175</td>\n",
       "      <td>-500.061431</td>\n",
       "    </tr>\n",
       "    <tr>\n",
       "      <td>75%</td>\n",
       "      <td>5.859540</td>\n",
       "      <td>11.170603</td>\n",
       "      <td>10.487508</td>\n",
       "      <td>46.166425</td>\n",
       "      <td>72.346428</td>\n",
       "      <td>11.003707</td>\n",
       "      <td>3.241723</td>\n",
       "      <td>11.933009</td>\n",
       "      <td>3.434764</td>\n",
       "      <td>159.825396</td>\n",
       "      <td>...</td>\n",
       "      <td>24.990826</td>\n",
       "      <td>-477.472413</td>\n",
       "      <td>20.059375</td>\n",
       "      <td>-400.039008</td>\n",
       "      <td>21.346550</td>\n",
       "      <td>-487.712108</td>\n",
       "      <td>17.982903</td>\n",
       "      <td>-453.186936</td>\n",
       "      <td>24.991623</td>\n",
       "      <td>-499.536466</td>\n",
       "    </tr>\n",
       "    <tr>\n",
       "      <td>max</td>\n",
       "      <td>16.001945</td>\n",
       "      <td>17.031899</td>\n",
       "      <td>18.124851</td>\n",
       "      <td>52.756638</td>\n",
       "      <td>100.000000</td>\n",
       "      <td>19.552149</td>\n",
       "      <td>5.639565</td>\n",
       "      <td>22.317730</td>\n",
       "      <td>8.197408</td>\n",
       "      <td>250.127834</td>\n",
       "      <td>...</td>\n",
       "      <td>30.115735</td>\n",
       "      <td>-245.239184</td>\n",
       "      <td>24.007913</td>\n",
       "      <td>-145.071088</td>\n",
       "      <td>43.709931</td>\n",
       "      <td>-275.073125</td>\n",
       "      <td>27.926001</td>\n",
       "      <td>-157.396071</td>\n",
       "      <td>32.188906</td>\n",
       "      <td>-104.427459</td>\n",
       "    </tr>\n",
       "  </tbody>\n",
       "</table>\n",
       "<p>8 rows × 86 columns</p>\n",
       "</div>"
      ],
      "text/plain": [
       "       final.output.concentrate_ag  final.output.concentrate_pb  \\\n",
       "count                 14148.000000                 14148.000000   \n",
       "mean                      5.142034                    10.132960   \n",
       "std                       1.369586                     1.654930   \n",
       "min                       0.000000                     0.000000   \n",
       "25%                       4.211620                     9.297355   \n",
       "50%                       4.994652                    10.297144   \n",
       "75%                       5.859540                    11.170603   \n",
       "max                      16.001945                    17.031899   \n",
       "\n",
       "       final.output.concentrate_sol  final.output.concentrate_au  \\\n",
       "count                  13938.000000                 14149.000000   \n",
       "mean                       9.202849                    44.003792   \n",
       "std                        2.790516                     4.905261   \n",
       "min                        0.000000                     0.000000   \n",
       "25%                        7.484645                    43.276111   \n",
       "50%                        8.845462                    44.872436   \n",
       "75%                       10.487508                    46.166425   \n",
       "max                       18.124851                    52.756638   \n",
       "\n",
       "       final.output.recovery  final.output.tail_ag  final.output.tail_pb  \\\n",
       "count           14149.000000          14149.000000          14049.000000   \n",
       "mean               66.518832              9.607035              2.597298   \n",
       "std                10.295402              2.319069              0.971843   \n",
       "min                 0.000000              0.000000              0.000000   \n",
       "25%                62.545817              7.997429              1.905973   \n",
       "50%                67.432775              9.480270              2.592022   \n",
       "75%                72.346428             11.003707              3.241723   \n",
       "max               100.000000             19.552149              5.639565   \n",
       "\n",
       "       final.output.tail_sol  final.output.tail_au  \\\n",
       "count           14144.000000          14149.000000   \n",
       "mean               10.512122              2.918421   \n",
       "std                 3.003617              0.903712   \n",
       "min                 0.000000              0.000000   \n",
       "25%                 8.811324              2.368607   \n",
       "50%                10.514621              2.851025   \n",
       "75%                11.933009              3.434764   \n",
       "max                22.317730              8.197408   \n",
       "\n",
       "       primary_cleaner.input.sulfate  ...  \\\n",
       "count                   14129.000000  ...   \n",
       "mean                      133.320659  ...   \n",
       "std                        39.431659  ...   \n",
       "min                         0.003112  ...   \n",
       "25%                       107.006651  ...   \n",
       "50%                       133.018328  ...   \n",
       "75%                       159.825396  ...   \n",
       "max                       250.127834  ...   \n",
       "\n",
       "       secondary_cleaner.state.floatbank4_a_air  \\\n",
       "count                              14143.000000   \n",
       "mean                                  19.985454   \n",
       "std                                    5.657723   \n",
       "min                                    0.000000   \n",
       "25%                                   14.990775   \n",
       "50%                                   20.001789   \n",
       "75%                                   24.990826   \n",
       "max                                   30.115735   \n",
       "\n",
       "       secondary_cleaner.state.floatbank4_a_level  \\\n",
       "count                                14148.000000   \n",
       "mean                                  -478.696836   \n",
       "std                                     50.736021   \n",
       "min                                   -799.709069   \n",
       "25%                                   -500.628656   \n",
       "50%                                   -499.681450   \n",
       "75%                                   -477.472413   \n",
       "max                                   -245.239184   \n",
       "\n",
       "       secondary_cleaner.state.floatbank4_b_air  \\\n",
       "count                              14148.000000   \n",
       "mean                                  15.487065   \n",
       "std                                    5.255655   \n",
       "min                                    0.000000   \n",
       "25%                                   11.894558   \n",
       "50%                                   14.975536   \n",
       "75%                                   20.059375   \n",
       "max                                   24.007913   \n",
       "\n",
       "       secondary_cleaner.state.floatbank4_b_level  \\\n",
       "count                                14148.000000   \n",
       "mean                                  -460.229416   \n",
       "std                                     58.843586   \n",
       "min                                   -799.889113   \n",
       "25%                                   -500.149000   \n",
       "50%                                   -499.388738   \n",
       "75%                                   -400.039008   \n",
       "max                                   -145.071088   \n",
       "\n",
       "       secondary_cleaner.state.floatbank5_a_air  \\\n",
       "count                              14148.000000   \n",
       "mean                                  16.775136   \n",
       "std                                    5.831906   \n",
       "min                                   -0.372054   \n",
       "25%                                   11.083980   \n",
       "50%                                   17.932223   \n",
       "75%                                   21.346550   \n",
       "max                                   43.709931   \n",
       "\n",
       "       secondary_cleaner.state.floatbank5_a_level  \\\n",
       "count                                14148.000000   \n",
       "mean                                  -483.956022   \n",
       "std                                     37.892788   \n",
       "min                                   -797.142475   \n",
       "25%                                   -500.363177   \n",
       "50%                                   -499.702452   \n",
       "75%                                   -487.712108   \n",
       "max                                   -275.073125   \n",
       "\n",
       "       secondary_cleaner.state.floatbank5_b_air  \\\n",
       "count                              14148.000000   \n",
       "mean                                  13.064590   \n",
       "std                                    5.765617   \n",
       "min                                    0.646208   \n",
       "25%                                    8.994405   \n",
       "50%                                   11.997547   \n",
       "75%                                   17.982903   \n",
       "max                                   27.926001   \n",
       "\n",
       "       secondary_cleaner.state.floatbank5_b_level  \\\n",
       "count                                14148.000000   \n",
       "mean                                  -483.966564   \n",
       "std                                     39.207913   \n",
       "min                                   -800.006180   \n",
       "25%                                   -500.105994   \n",
       "50%                                   -499.914556   \n",
       "75%                                   -453.186936   \n",
       "max                                   -157.396071   \n",
       "\n",
       "       secondary_cleaner.state.floatbank6_a_air  \\\n",
       "count                              14147.000000   \n",
       "mean                                  19.577539   \n",
       "std                                    5.764417   \n",
       "min                                    0.195324   \n",
       "25%                                   14.989304   \n",
       "50%                                   19.984175   \n",
       "75%                                   24.991623   \n",
       "max                                   32.188906   \n",
       "\n",
       "       secondary_cleaner.state.floatbank6_a_level  \n",
       "count                                14148.000000  \n",
       "mean                                  -506.798480  \n",
       "std                                     37.079249  \n",
       "min                                   -809.398668  \n",
       "25%                                   -500.745104  \n",
       "50%                                   -500.061431  \n",
       "75%                                   -499.536466  \n",
       "max                                   -104.427459  \n",
       "\n",
       "[8 rows x 86 columns]"
      ]
     },
     "metadata": {},
     "output_type": "display_data"
    },
    {
     "data": {
      "text/html": [
       "<div>\n",
       "<style scoped>\n",
       "    .dataframe tbody tr th:only-of-type {\n",
       "        vertical-align: middle;\n",
       "    }\n",
       "\n",
       "    .dataframe tbody tr th {\n",
       "        vertical-align: top;\n",
       "    }\n",
       "\n",
       "    .dataframe thead th {\n",
       "        text-align: right;\n",
       "    }\n",
       "</style>\n",
       "<table border=\"1\" class=\"dataframe\">\n",
       "  <thead>\n",
       "    <tr style=\"text-align: right;\">\n",
       "      <th></th>\n",
       "      <th>primary_cleaner.input.sulfate</th>\n",
       "      <th>primary_cleaner.input.depressant</th>\n",
       "      <th>primary_cleaner.input.feed_size</th>\n",
       "      <th>primary_cleaner.input.xanthate</th>\n",
       "      <th>primary_cleaner.state.floatbank8_a_air</th>\n",
       "      <th>primary_cleaner.state.floatbank8_a_level</th>\n",
       "      <th>primary_cleaner.state.floatbank8_b_air</th>\n",
       "      <th>primary_cleaner.state.floatbank8_b_level</th>\n",
       "      <th>primary_cleaner.state.floatbank8_c_air</th>\n",
       "      <th>primary_cleaner.state.floatbank8_c_level</th>\n",
       "      <th>...</th>\n",
       "      <th>secondary_cleaner.state.floatbank4_a_air</th>\n",
       "      <th>secondary_cleaner.state.floatbank4_a_level</th>\n",
       "      <th>secondary_cleaner.state.floatbank4_b_air</th>\n",
       "      <th>secondary_cleaner.state.floatbank4_b_level</th>\n",
       "      <th>secondary_cleaner.state.floatbank5_a_air</th>\n",
       "      <th>secondary_cleaner.state.floatbank5_a_level</th>\n",
       "      <th>secondary_cleaner.state.floatbank5_b_air</th>\n",
       "      <th>secondary_cleaner.state.floatbank5_b_level</th>\n",
       "      <th>secondary_cleaner.state.floatbank6_a_air</th>\n",
       "      <th>secondary_cleaner.state.floatbank6_a_level</th>\n",
       "    </tr>\n",
       "  </thead>\n",
       "  <tbody>\n",
       "    <tr>\n",
       "      <td>count</td>\n",
       "      <td>5286.000000</td>\n",
       "      <td>5285.000000</td>\n",
       "      <td>5290.000000</td>\n",
       "      <td>5286.000000</td>\n",
       "      <td>5.290000e+03</td>\n",
       "      <td>5290.000000</td>\n",
       "      <td>5.290000e+03</td>\n",
       "      <td>5290.000000</td>\n",
       "      <td>5.290000e+03</td>\n",
       "      <td>5290.000000</td>\n",
       "      <td>...</td>\n",
       "      <td>5.290000e+03</td>\n",
       "      <td>5290.000000</td>\n",
       "      <td>5.290000e+03</td>\n",
       "      <td>5290.000000</td>\n",
       "      <td>5290.000000</td>\n",
       "      <td>5290.000000</td>\n",
       "      <td>5290.000000</td>\n",
       "      <td>5290.000000</td>\n",
       "      <td>5290.000000</td>\n",
       "      <td>5290.000000</td>\n",
       "    </tr>\n",
       "    <tr>\n",
       "      <td>mean</td>\n",
       "      <td>174.839652</td>\n",
       "      <td>8.683596</td>\n",
       "      <td>7.266339</td>\n",
       "      <td>1.383803</td>\n",
       "      <td>1.539494e+03</td>\n",
       "      <td>-497.665883</td>\n",
       "      <td>1.545174e+03</td>\n",
       "      <td>-500.273098</td>\n",
       "      <td>1.527272e+03</td>\n",
       "      <td>-498.330680</td>\n",
       "      <td>...</td>\n",
       "      <td>1.632007e+01</td>\n",
       "      <td>-505.144570</td>\n",
       "      <td>1.373544e+01</td>\n",
       "      <td>-463.349858</td>\n",
       "      <td>12.804186</td>\n",
       "      <td>-501.329122</td>\n",
       "      <td>9.881145</td>\n",
       "      <td>-495.663398</td>\n",
       "      <td>17.304935</td>\n",
       "      <td>-501.793193</td>\n",
       "    </tr>\n",
       "    <tr>\n",
       "      <td>std</td>\n",
       "      <td>43.027080</td>\n",
       "      <td>3.072050</td>\n",
       "      <td>0.610219</td>\n",
       "      <td>0.643474</td>\n",
       "      <td>1.167979e+02</td>\n",
       "      <td>19.952431</td>\n",
       "      <td>1.222246e+02</td>\n",
       "      <td>32.968307</td>\n",
       "      <td>1.225380e+02</td>\n",
       "      <td>21.964876</td>\n",
       "      <td>...</td>\n",
       "      <td>3.493583e+00</td>\n",
       "      <td>31.427337</td>\n",
       "      <td>3.430484e+00</td>\n",
       "      <td>86.189107</td>\n",
       "      <td>3.026591</td>\n",
       "      <td>17.951495</td>\n",
       "      <td>2.868205</td>\n",
       "      <td>34.535007</td>\n",
       "      <td>4.536544</td>\n",
       "      <td>39.044215</td>\n",
       "    </tr>\n",
       "    <tr>\n",
       "      <td>min</td>\n",
       "      <td>2.566156</td>\n",
       "      <td>0.003839</td>\n",
       "      <td>5.650000</td>\n",
       "      <td>0.004984</td>\n",
       "      <td>5.445860e-32</td>\n",
       "      <td>-795.316337</td>\n",
       "      <td>6.647490e-32</td>\n",
       "      <td>-799.997015</td>\n",
       "      <td>4.033736e-32</td>\n",
       "      <td>-799.960571</td>\n",
       "      <td>...</td>\n",
       "      <td>1.079872e-16</td>\n",
       "      <td>-799.798523</td>\n",
       "      <td>2.489718e-17</td>\n",
       "      <td>-800.836914</td>\n",
       "      <td>0.069227</td>\n",
       "      <td>-797.323986</td>\n",
       "      <td>0.528083</td>\n",
       "      <td>-800.220337</td>\n",
       "      <td>-0.079426</td>\n",
       "      <td>-809.741464</td>\n",
       "    </tr>\n",
       "    <tr>\n",
       "      <td>25%</td>\n",
       "      <td>147.121401</td>\n",
       "      <td>6.489555</td>\n",
       "      <td>6.890000</td>\n",
       "      <td>0.907623</td>\n",
       "      <td>1.498936e+03</td>\n",
       "      <td>-500.357298</td>\n",
       "      <td>1.498971e+03</td>\n",
       "      <td>-500.703002</td>\n",
       "      <td>1.473230e+03</td>\n",
       "      <td>-501.018117</td>\n",
       "      <td>...</td>\n",
       "      <td>1.403618e+01</td>\n",
       "      <td>-500.868258</td>\n",
       "      <td>1.202862e+01</td>\n",
       "      <td>-500.323028</td>\n",
       "      <td>10.914838</td>\n",
       "      <td>-500.726841</td>\n",
       "      <td>8.036719</td>\n",
       "      <td>-500.194668</td>\n",
       "      <td>13.997317</td>\n",
       "      <td>-500.690984</td>\n",
       "    </tr>\n",
       "    <tr>\n",
       "      <td>50%</td>\n",
       "      <td>177.828489</td>\n",
       "      <td>8.052207</td>\n",
       "      <td>7.250000</td>\n",
       "      <td>1.197610</td>\n",
       "      <td>1.585129e+03</td>\n",
       "      <td>-499.969164</td>\n",
       "      <td>1.595622e+03</td>\n",
       "      <td>-500.028514</td>\n",
       "      <td>1.549595e+03</td>\n",
       "      <td>-500.017711</td>\n",
       "      <td>...</td>\n",
       "      <td>1.700847e+01</td>\n",
       "      <td>-500.115727</td>\n",
       "      <td>1.496486e+01</td>\n",
       "      <td>-499.576513</td>\n",
       "      <td>12.954182</td>\n",
       "      <td>-499.990332</td>\n",
       "      <td>10.004301</td>\n",
       "      <td>-499.990535</td>\n",
       "      <td>16.014935</td>\n",
       "      <td>-500.007126</td>\n",
       "    </tr>\n",
       "    <tr>\n",
       "      <td>75%</td>\n",
       "      <td>208.125438</td>\n",
       "      <td>10.027764</td>\n",
       "      <td>7.600000</td>\n",
       "      <td>1.797819</td>\n",
       "      <td>1.602077e+03</td>\n",
       "      <td>-499.568951</td>\n",
       "      <td>1.602324e+03</td>\n",
       "      <td>-499.293257</td>\n",
       "      <td>1.601144e+03</td>\n",
       "      <td>-498.994130</td>\n",
       "      <td>...</td>\n",
       "      <td>1.803862e+01</td>\n",
       "      <td>-499.404224</td>\n",
       "      <td>1.596213e+01</td>\n",
       "      <td>-400.933805</td>\n",
       "      <td>15.097528</td>\n",
       "      <td>-499.283191</td>\n",
       "      <td>11.997467</td>\n",
       "      <td>-499.719913</td>\n",
       "      <td>21.020013</td>\n",
       "      <td>-499.373018</td>\n",
       "    </tr>\n",
       "    <tr>\n",
       "      <td>max</td>\n",
       "      <td>265.983123</td>\n",
       "      <td>40.000000</td>\n",
       "      <td>15.500000</td>\n",
       "      <td>4.102454</td>\n",
       "      <td>2.103104e+03</td>\n",
       "      <td>-57.195404</td>\n",
       "      <td>1.813084e+03</td>\n",
       "      <td>-142.527229</td>\n",
       "      <td>1.715054e+03</td>\n",
       "      <td>-150.937035</td>\n",
       "      <td>...</td>\n",
       "      <td>3.005180e+01</td>\n",
       "      <td>-401.565212</td>\n",
       "      <td>3.126971e+01</td>\n",
       "      <td>-6.506986</td>\n",
       "      <td>25.258848</td>\n",
       "      <td>-244.483566</td>\n",
       "      <td>14.086866</td>\n",
       "      <td>-137.740004</td>\n",
       "      <td>26.705889</td>\n",
       "      <td>-123.307487</td>\n",
       "    </tr>\n",
       "  </tbody>\n",
       "</table>\n",
       "<p>8 rows × 52 columns</p>\n",
       "</div>"
      ],
      "text/plain": [
       "       primary_cleaner.input.sulfate  primary_cleaner.input.depressant  \\\n",
       "count                    5286.000000                       5285.000000   \n",
       "mean                      174.839652                          8.683596   \n",
       "std                        43.027080                          3.072050   \n",
       "min                         2.566156                          0.003839   \n",
       "25%                       147.121401                          6.489555   \n",
       "50%                       177.828489                          8.052207   \n",
       "75%                       208.125438                         10.027764   \n",
       "max                       265.983123                         40.000000   \n",
       "\n",
       "       primary_cleaner.input.feed_size  primary_cleaner.input.xanthate  \\\n",
       "count                      5290.000000                     5286.000000   \n",
       "mean                          7.266339                        1.383803   \n",
       "std                           0.610219                        0.643474   \n",
       "min                           5.650000                        0.004984   \n",
       "25%                           6.890000                        0.907623   \n",
       "50%                           7.250000                        1.197610   \n",
       "75%                           7.600000                        1.797819   \n",
       "max                          15.500000                        4.102454   \n",
       "\n",
       "       primary_cleaner.state.floatbank8_a_air  \\\n",
       "count                            5.290000e+03   \n",
       "mean                             1.539494e+03   \n",
       "std                              1.167979e+02   \n",
       "min                              5.445860e-32   \n",
       "25%                              1.498936e+03   \n",
       "50%                              1.585129e+03   \n",
       "75%                              1.602077e+03   \n",
       "max                              2.103104e+03   \n",
       "\n",
       "       primary_cleaner.state.floatbank8_a_level  \\\n",
       "count                               5290.000000   \n",
       "mean                                -497.665883   \n",
       "std                                   19.952431   \n",
       "min                                 -795.316337   \n",
       "25%                                 -500.357298   \n",
       "50%                                 -499.969164   \n",
       "75%                                 -499.568951   \n",
       "max                                  -57.195404   \n",
       "\n",
       "       primary_cleaner.state.floatbank8_b_air  \\\n",
       "count                            5.290000e+03   \n",
       "mean                             1.545174e+03   \n",
       "std                              1.222246e+02   \n",
       "min                              6.647490e-32   \n",
       "25%                              1.498971e+03   \n",
       "50%                              1.595622e+03   \n",
       "75%                              1.602324e+03   \n",
       "max                              1.813084e+03   \n",
       "\n",
       "       primary_cleaner.state.floatbank8_b_level  \\\n",
       "count                               5290.000000   \n",
       "mean                                -500.273098   \n",
       "std                                   32.968307   \n",
       "min                                 -799.997015   \n",
       "25%                                 -500.703002   \n",
       "50%                                 -500.028514   \n",
       "75%                                 -499.293257   \n",
       "max                                 -142.527229   \n",
       "\n",
       "       primary_cleaner.state.floatbank8_c_air  \\\n",
       "count                            5.290000e+03   \n",
       "mean                             1.527272e+03   \n",
       "std                              1.225380e+02   \n",
       "min                              4.033736e-32   \n",
       "25%                              1.473230e+03   \n",
       "50%                              1.549595e+03   \n",
       "75%                              1.601144e+03   \n",
       "max                              1.715054e+03   \n",
       "\n",
       "       primary_cleaner.state.floatbank8_c_level  ...  \\\n",
       "count                               5290.000000  ...   \n",
       "mean                                -498.330680  ...   \n",
       "std                                   21.964876  ...   \n",
       "min                                 -799.960571  ...   \n",
       "25%                                 -501.018117  ...   \n",
       "50%                                 -500.017711  ...   \n",
       "75%                                 -498.994130  ...   \n",
       "max                                 -150.937035  ...   \n",
       "\n",
       "       secondary_cleaner.state.floatbank4_a_air  \\\n",
       "count                              5.290000e+03   \n",
       "mean                               1.632007e+01   \n",
       "std                                3.493583e+00   \n",
       "min                                1.079872e-16   \n",
       "25%                                1.403618e+01   \n",
       "50%                                1.700847e+01   \n",
       "75%                                1.803862e+01   \n",
       "max                                3.005180e+01   \n",
       "\n",
       "       secondary_cleaner.state.floatbank4_a_level  \\\n",
       "count                                 5290.000000   \n",
       "mean                                  -505.144570   \n",
       "std                                     31.427337   \n",
       "min                                   -799.798523   \n",
       "25%                                   -500.868258   \n",
       "50%                                   -500.115727   \n",
       "75%                                   -499.404224   \n",
       "max                                   -401.565212   \n",
       "\n",
       "       secondary_cleaner.state.floatbank4_b_air  \\\n",
       "count                              5.290000e+03   \n",
       "mean                               1.373544e+01   \n",
       "std                                3.430484e+00   \n",
       "min                                2.489718e-17   \n",
       "25%                                1.202862e+01   \n",
       "50%                                1.496486e+01   \n",
       "75%                                1.596213e+01   \n",
       "max                                3.126971e+01   \n",
       "\n",
       "       secondary_cleaner.state.floatbank4_b_level  \\\n",
       "count                                 5290.000000   \n",
       "mean                                  -463.349858   \n",
       "std                                     86.189107   \n",
       "min                                   -800.836914   \n",
       "25%                                   -500.323028   \n",
       "50%                                   -499.576513   \n",
       "75%                                   -400.933805   \n",
       "max                                     -6.506986   \n",
       "\n",
       "       secondary_cleaner.state.floatbank5_a_air  \\\n",
       "count                               5290.000000   \n",
       "mean                                  12.804186   \n",
       "std                                    3.026591   \n",
       "min                                    0.069227   \n",
       "25%                                   10.914838   \n",
       "50%                                   12.954182   \n",
       "75%                                   15.097528   \n",
       "max                                   25.258848   \n",
       "\n",
       "       secondary_cleaner.state.floatbank5_a_level  \\\n",
       "count                                 5290.000000   \n",
       "mean                                  -501.329122   \n",
       "std                                     17.951495   \n",
       "min                                   -797.323986   \n",
       "25%                                   -500.726841   \n",
       "50%                                   -499.990332   \n",
       "75%                                   -499.283191   \n",
       "max                                   -244.483566   \n",
       "\n",
       "       secondary_cleaner.state.floatbank5_b_air  \\\n",
       "count                               5290.000000   \n",
       "mean                                   9.881145   \n",
       "std                                    2.868205   \n",
       "min                                    0.528083   \n",
       "25%                                    8.036719   \n",
       "50%                                   10.004301   \n",
       "75%                                   11.997467   \n",
       "max                                   14.086866   \n",
       "\n",
       "       secondary_cleaner.state.floatbank5_b_level  \\\n",
       "count                                 5290.000000   \n",
       "mean                                  -495.663398   \n",
       "std                                     34.535007   \n",
       "min                                   -800.220337   \n",
       "25%                                   -500.194668   \n",
       "50%                                   -499.990535   \n",
       "75%                                   -499.719913   \n",
       "max                                   -137.740004   \n",
       "\n",
       "       secondary_cleaner.state.floatbank6_a_air  \\\n",
       "count                               5290.000000   \n",
       "mean                                  17.304935   \n",
       "std                                    4.536544   \n",
       "min                                   -0.079426   \n",
       "25%                                   13.997317   \n",
       "50%                                   16.014935   \n",
       "75%                                   21.020013   \n",
       "max                                   26.705889   \n",
       "\n",
       "       secondary_cleaner.state.floatbank6_a_level  \n",
       "count                                 5290.000000  \n",
       "mean                                  -501.793193  \n",
       "std                                     39.044215  \n",
       "min                                   -809.741464  \n",
       "25%                                   -500.690984  \n",
       "50%                                   -500.007126  \n",
       "75%                                   -499.373018  \n",
       "max                                   -123.307487  \n",
       "\n",
       "[8 rows x 52 columns]"
      ]
     },
     "metadata": {},
     "output_type": "display_data"
    },
    {
     "data": {
      "text/html": [
       "<div>\n",
       "<style scoped>\n",
       "    .dataframe tbody tr th:only-of-type {\n",
       "        vertical-align: middle;\n",
       "    }\n",
       "\n",
       "    .dataframe tbody tr th {\n",
       "        vertical-align: top;\n",
       "    }\n",
       "\n",
       "    .dataframe thead th {\n",
       "        text-align: right;\n",
       "    }\n",
       "</style>\n",
       "<table border=\"1\" class=\"dataframe\">\n",
       "  <thead>\n",
       "    <tr style=\"text-align: right;\">\n",
       "      <th></th>\n",
       "      <th>final.output.concentrate_ag</th>\n",
       "      <th>final.output.concentrate_pb</th>\n",
       "      <th>final.output.concentrate_sol</th>\n",
       "      <th>final.output.concentrate_au</th>\n",
       "      <th>final.output.recovery</th>\n",
       "      <th>final.output.tail_ag</th>\n",
       "      <th>final.output.tail_pb</th>\n",
       "      <th>final.output.tail_sol</th>\n",
       "      <th>final.output.tail_au</th>\n",
       "      <th>primary_cleaner.input.sulfate</th>\n",
       "      <th>...</th>\n",
       "      <th>secondary_cleaner.state.floatbank4_a_air</th>\n",
       "      <th>secondary_cleaner.state.floatbank4_a_level</th>\n",
       "      <th>secondary_cleaner.state.floatbank4_b_air</th>\n",
       "      <th>secondary_cleaner.state.floatbank4_b_level</th>\n",
       "      <th>secondary_cleaner.state.floatbank5_a_air</th>\n",
       "      <th>secondary_cleaner.state.floatbank5_a_level</th>\n",
       "      <th>secondary_cleaner.state.floatbank5_b_air</th>\n",
       "      <th>secondary_cleaner.state.floatbank5_b_level</th>\n",
       "      <th>secondary_cleaner.state.floatbank6_a_air</th>\n",
       "      <th>secondary_cleaner.state.floatbank6_a_level</th>\n",
       "    </tr>\n",
       "  </thead>\n",
       "  <tbody>\n",
       "    <tr>\n",
       "      <td>count</td>\n",
       "      <td>19438.000000</td>\n",
       "      <td>19438.000000</td>\n",
       "      <td>19228.000000</td>\n",
       "      <td>19439.000000</td>\n",
       "      <td>19439.000000</td>\n",
       "      <td>19438.000000</td>\n",
       "      <td>19338.000000</td>\n",
       "      <td>19433.000000</td>\n",
       "      <td>19439.000000</td>\n",
       "      <td>19415.000000</td>\n",
       "      <td>...</td>\n",
       "      <td>19433.000000</td>\n",
       "      <td>19438.000000</td>\n",
       "      <td>19438.000000</td>\n",
       "      <td>19438.000000</td>\n",
       "      <td>19438.000000</td>\n",
       "      <td>19438.000000</td>\n",
       "      <td>19438.000000</td>\n",
       "      <td>19438.000000</td>\n",
       "      <td>19437.000000</td>\n",
       "      <td>19438.000000</td>\n",
       "    </tr>\n",
       "    <tr>\n",
       "      <td>mean</td>\n",
       "      <td>5.168470</td>\n",
       "      <td>9.978895</td>\n",
       "      <td>9.501224</td>\n",
       "      <td>44.076513</td>\n",
       "      <td>67.050208</td>\n",
       "      <td>9.688589</td>\n",
       "      <td>2.705795</td>\n",
       "      <td>10.583728</td>\n",
       "      <td>3.042467</td>\n",
       "      <td>144.624774</td>\n",
       "      <td>...</td>\n",
       "      <td>18.987674</td>\n",
       "      <td>-485.894516</td>\n",
       "      <td>15.010366</td>\n",
       "      <td>-461.078636</td>\n",
       "      <td>15.694452</td>\n",
       "      <td>-488.684065</td>\n",
       "      <td>12.198224</td>\n",
       "      <td>-487.149827</td>\n",
       "      <td>18.959024</td>\n",
       "      <td>-505.436305</td>\n",
       "    </tr>\n",
       "    <tr>\n",
       "      <td>std</td>\n",
       "      <td>1.372348</td>\n",
       "      <td>1.669240</td>\n",
       "      <td>2.787537</td>\n",
       "      <td>5.129784</td>\n",
       "      <td>10.125840</td>\n",
       "      <td>2.328642</td>\n",
       "      <td>0.949077</td>\n",
       "      <td>2.868782</td>\n",
       "      <td>0.922808</td>\n",
       "      <td>44.464071</td>\n",
       "      <td>...</td>\n",
       "      <td>5.411058</td>\n",
       "      <td>47.758570</td>\n",
       "      <td>4.890228</td>\n",
       "      <td>67.405524</td>\n",
       "      <td>5.510974</td>\n",
       "      <td>34.533396</td>\n",
       "      <td>5.333024</td>\n",
       "      <td>38.347312</td>\n",
       "      <td>5.550498</td>\n",
       "      <td>37.689057</td>\n",
       "    </tr>\n",
       "    <tr>\n",
       "      <td>min</td>\n",
       "      <td>0.000000</td>\n",
       "      <td>0.000000</td>\n",
       "      <td>0.000000</td>\n",
       "      <td>0.000000</td>\n",
       "      <td>0.000000</td>\n",
       "      <td>0.000000</td>\n",
       "      <td>0.000000</td>\n",
       "      <td>0.000000</td>\n",
       "      <td>0.000000</td>\n",
       "      <td>0.003112</td>\n",
       "      <td>...</td>\n",
       "      <td>0.000000</td>\n",
       "      <td>-799.798523</td>\n",
       "      <td>0.000000</td>\n",
       "      <td>-800.836914</td>\n",
       "      <td>-0.372054</td>\n",
       "      <td>-797.323986</td>\n",
       "      <td>0.528083</td>\n",
       "      <td>-800.220337</td>\n",
       "      <td>-0.079426</td>\n",
       "      <td>-809.741464</td>\n",
       "    </tr>\n",
       "    <tr>\n",
       "      <td>25%</td>\n",
       "      <td>4.251240</td>\n",
       "      <td>9.137262</td>\n",
       "      <td>7.722820</td>\n",
       "      <td>43.402215</td>\n",
       "      <td>63.299712</td>\n",
       "      <td>8.062878</td>\n",
       "      <td>2.040119</td>\n",
       "      <td>8.938947</td>\n",
       "      <td>2.461138</td>\n",
       "      <td>114.107029</td>\n",
       "      <td>...</td>\n",
       "      <td>14.975734</td>\n",
       "      <td>-500.704892</td>\n",
       "      <td>11.940294</td>\n",
       "      <td>-500.187742</td>\n",
       "      <td>10.988606</td>\n",
       "      <td>-500.458467</td>\n",
       "      <td>8.971105</td>\n",
       "      <td>-500.129462</td>\n",
       "      <td>14.983037</td>\n",
       "      <td>-500.728067</td>\n",
       "    </tr>\n",
       "    <tr>\n",
       "      <td>50%</td>\n",
       "      <td>5.066094</td>\n",
       "      <td>10.102433</td>\n",
       "      <td>9.218961</td>\n",
       "      <td>45.011244</td>\n",
       "      <td>68.172738</td>\n",
       "      <td>9.743623</td>\n",
       "      <td>2.748730</td>\n",
       "      <td>10.622456</td>\n",
       "      <td>2.984909</td>\n",
       "      <td>143.232103</td>\n",
       "      <td>...</td>\n",
       "      <td>18.017481</td>\n",
       "      <td>-499.837793</td>\n",
       "      <td>14.971014</td>\n",
       "      <td>-499.459786</td>\n",
       "      <td>15.000036</td>\n",
       "      <td>-499.802605</td>\n",
       "      <td>11.019433</td>\n",
       "      <td>-499.935317</td>\n",
       "      <td>19.960541</td>\n",
       "      <td>-500.048400</td>\n",
       "    </tr>\n",
       "    <tr>\n",
       "      <td>75%</td>\n",
       "      <td>5.895527</td>\n",
       "      <td>11.035769</td>\n",
       "      <td>10.947813</td>\n",
       "      <td>46.275313</td>\n",
       "      <td>72.686642</td>\n",
       "      <td>11.134294</td>\n",
       "      <td>3.333216</td>\n",
       "      <td>12.104271</td>\n",
       "      <td>3.571351</td>\n",
       "      <td>175.075656</td>\n",
       "      <td>...</td>\n",
       "      <td>23.012470</td>\n",
       "      <td>-498.249730</td>\n",
       "      <td>19.034162</td>\n",
       "      <td>-400.118106</td>\n",
       "      <td>18.026190</td>\n",
       "      <td>-498.384187</td>\n",
       "      <td>14.019088</td>\n",
       "      <td>-499.436708</td>\n",
       "      <td>24.003170</td>\n",
       "      <td>-499.495378</td>\n",
       "    </tr>\n",
       "    <tr>\n",
       "      <td>max</td>\n",
       "      <td>16.001945</td>\n",
       "      <td>17.031899</td>\n",
       "      <td>19.615720</td>\n",
       "      <td>52.756638</td>\n",
       "      <td>100.000000</td>\n",
       "      <td>19.552149</td>\n",
       "      <td>5.804178</td>\n",
       "      <td>22.317730</td>\n",
       "      <td>8.245022</td>\n",
       "      <td>265.983123</td>\n",
       "      <td>...</td>\n",
       "      <td>30.115735</td>\n",
       "      <td>-245.239184</td>\n",
       "      <td>31.269706</td>\n",
       "      <td>-6.506986</td>\n",
       "      <td>43.709931</td>\n",
       "      <td>-244.483566</td>\n",
       "      <td>27.926001</td>\n",
       "      <td>-137.740004</td>\n",
       "      <td>32.188906</td>\n",
       "      <td>-104.427459</td>\n",
       "    </tr>\n",
       "  </tbody>\n",
       "</table>\n",
       "<p>8 rows × 86 columns</p>\n",
       "</div>"
      ],
      "text/plain": [
       "       final.output.concentrate_ag  final.output.concentrate_pb  \\\n",
       "count                 19438.000000                 19438.000000   \n",
       "mean                      5.168470                     9.978895   \n",
       "std                       1.372348                     1.669240   \n",
       "min                       0.000000                     0.000000   \n",
       "25%                       4.251240                     9.137262   \n",
       "50%                       5.066094                    10.102433   \n",
       "75%                       5.895527                    11.035769   \n",
       "max                      16.001945                    17.031899   \n",
       "\n",
       "       final.output.concentrate_sol  final.output.concentrate_au  \\\n",
       "count                  19228.000000                 19439.000000   \n",
       "mean                       9.501224                    44.076513   \n",
       "std                        2.787537                     5.129784   \n",
       "min                        0.000000                     0.000000   \n",
       "25%                        7.722820                    43.402215   \n",
       "50%                        9.218961                    45.011244   \n",
       "75%                       10.947813                    46.275313   \n",
       "max                       19.615720                    52.756638   \n",
       "\n",
       "       final.output.recovery  final.output.tail_ag  final.output.tail_pb  \\\n",
       "count           19439.000000          19438.000000          19338.000000   \n",
       "mean               67.050208              9.688589              2.705795   \n",
       "std                10.125840              2.328642              0.949077   \n",
       "min                 0.000000              0.000000              0.000000   \n",
       "25%                63.299712              8.062878              2.040119   \n",
       "50%                68.172738              9.743623              2.748730   \n",
       "75%                72.686642             11.134294              3.333216   \n",
       "max               100.000000             19.552149              5.804178   \n",
       "\n",
       "       final.output.tail_sol  final.output.tail_au  \\\n",
       "count           19433.000000          19439.000000   \n",
       "mean               10.583728              3.042467   \n",
       "std                 2.868782              0.922808   \n",
       "min                 0.000000              0.000000   \n",
       "25%                 8.938947              2.461138   \n",
       "50%                10.622456              2.984909   \n",
       "75%                12.104271              3.571351   \n",
       "max                22.317730              8.245022   \n",
       "\n",
       "       primary_cleaner.input.sulfate  ...  \\\n",
       "count                   19415.000000  ...   \n",
       "mean                      144.624774  ...   \n",
       "std                        44.464071  ...   \n",
       "min                         0.003112  ...   \n",
       "25%                       114.107029  ...   \n",
       "50%                       143.232103  ...   \n",
       "75%                       175.075656  ...   \n",
       "max                       265.983123  ...   \n",
       "\n",
       "       secondary_cleaner.state.floatbank4_a_air  \\\n",
       "count                              19433.000000   \n",
       "mean                                  18.987674   \n",
       "std                                    5.411058   \n",
       "min                                    0.000000   \n",
       "25%                                   14.975734   \n",
       "50%                                   18.017481   \n",
       "75%                                   23.012470   \n",
       "max                                   30.115735   \n",
       "\n",
       "       secondary_cleaner.state.floatbank4_a_level  \\\n",
       "count                                19438.000000   \n",
       "mean                                  -485.894516   \n",
       "std                                     47.758570   \n",
       "min                                   -799.798523   \n",
       "25%                                   -500.704892   \n",
       "50%                                   -499.837793   \n",
       "75%                                   -498.249730   \n",
       "max                                   -245.239184   \n",
       "\n",
       "       secondary_cleaner.state.floatbank4_b_air  \\\n",
       "count                              19438.000000   \n",
       "mean                                  15.010366   \n",
       "std                                    4.890228   \n",
       "min                                    0.000000   \n",
       "25%                                   11.940294   \n",
       "50%                                   14.971014   \n",
       "75%                                   19.034162   \n",
       "max                                   31.269706   \n",
       "\n",
       "       secondary_cleaner.state.floatbank4_b_level  \\\n",
       "count                                19438.000000   \n",
       "mean                                  -461.078636   \n",
       "std                                     67.405524   \n",
       "min                                   -800.836914   \n",
       "25%                                   -500.187742   \n",
       "50%                                   -499.459786   \n",
       "75%                                   -400.118106   \n",
       "max                                     -6.506986   \n",
       "\n",
       "       secondary_cleaner.state.floatbank5_a_air  \\\n",
       "count                              19438.000000   \n",
       "mean                                  15.694452   \n",
       "std                                    5.510974   \n",
       "min                                   -0.372054   \n",
       "25%                                   10.988606   \n",
       "50%                                   15.000036   \n",
       "75%                                   18.026190   \n",
       "max                                   43.709931   \n",
       "\n",
       "       secondary_cleaner.state.floatbank5_a_level  \\\n",
       "count                                19438.000000   \n",
       "mean                                  -488.684065   \n",
       "std                                     34.533396   \n",
       "min                                   -797.323986   \n",
       "25%                                   -500.458467   \n",
       "50%                                   -499.802605   \n",
       "75%                                   -498.384187   \n",
       "max                                   -244.483566   \n",
       "\n",
       "       secondary_cleaner.state.floatbank5_b_air  \\\n",
       "count                              19438.000000   \n",
       "mean                                  12.198224   \n",
       "std                                    5.333024   \n",
       "min                                    0.528083   \n",
       "25%                                    8.971105   \n",
       "50%                                   11.019433   \n",
       "75%                                   14.019088   \n",
       "max                                   27.926001   \n",
       "\n",
       "       secondary_cleaner.state.floatbank5_b_level  \\\n",
       "count                                19438.000000   \n",
       "mean                                  -487.149827   \n",
       "std                                     38.347312   \n",
       "min                                   -800.220337   \n",
       "25%                                   -500.129462   \n",
       "50%                                   -499.935317   \n",
       "75%                                   -499.436708   \n",
       "max                                   -137.740004   \n",
       "\n",
       "       secondary_cleaner.state.floatbank6_a_air  \\\n",
       "count                              19437.000000   \n",
       "mean                                  18.959024   \n",
       "std                                    5.550498   \n",
       "min                                   -0.079426   \n",
       "25%                                   14.983037   \n",
       "50%                                   19.960541   \n",
       "75%                                   24.003170   \n",
       "max                                   32.188906   \n",
       "\n",
       "       secondary_cleaner.state.floatbank6_a_level  \n",
       "count                                19438.000000  \n",
       "mean                                  -505.436305  \n",
       "std                                     37.689057  \n",
       "min                                   -809.741464  \n",
       "25%                                   -500.728067  \n",
       "50%                                   -500.048400  \n",
       "75%                                   -499.495378  \n",
       "max                                   -104.427459  \n",
       "\n",
       "[8 rows x 86 columns]"
      ]
     },
     "metadata": {},
     "output_type": "display_data"
    },
    {
     "name": "stdout",
     "output_type": "stream",
     "text": [
      "<class 'pandas.core.frame.DataFrame'>\n",
      "RangeIndex: 14149 entries, 0 to 14148\n",
      "Data columns (total 87 columns):\n",
      "date                                                  14149 non-null object\n",
      "final.output.concentrate_ag                           14148 non-null float64\n",
      "final.output.concentrate_pb                           14148 non-null float64\n",
      "final.output.concentrate_sol                          13938 non-null float64\n",
      "final.output.concentrate_au                           14149 non-null float64\n",
      "final.output.recovery                                 14149 non-null float64\n",
      "final.output.tail_ag                                  14149 non-null float64\n",
      "final.output.tail_pb                                  14049 non-null float64\n",
      "final.output.tail_sol                                 14144 non-null float64\n",
      "final.output.tail_au                                  14149 non-null float64\n",
      "primary_cleaner.input.sulfate                         14129 non-null float64\n",
      "primary_cleaner.input.depressant                      14117 non-null float64\n",
      "primary_cleaner.input.feed_size                       14149 non-null float64\n",
      "primary_cleaner.input.xanthate                        14049 non-null float64\n",
      "primary_cleaner.output.concentrate_ag                 14149 non-null float64\n",
      "primary_cleaner.output.concentrate_pb                 14063 non-null float64\n",
      "primary_cleaner.output.concentrate_sol                13863 non-null float64\n",
      "primary_cleaner.output.concentrate_au                 14149 non-null float64\n",
      "primary_cleaner.output.tail_ag                        14148 non-null float64\n",
      "primary_cleaner.output.tail_pb                        14134 non-null float64\n",
      "primary_cleaner.output.tail_sol                       14103 non-null float64\n",
      "primary_cleaner.output.tail_au                        14149 non-null float64\n",
      "primary_cleaner.state.floatbank8_a_air                14145 non-null float64\n",
      "primary_cleaner.state.floatbank8_a_level              14148 non-null float64\n",
      "primary_cleaner.state.floatbank8_b_air                14145 non-null float64\n",
      "primary_cleaner.state.floatbank8_b_level              14148 non-null float64\n",
      "primary_cleaner.state.floatbank8_c_air                14147 non-null float64\n",
      "primary_cleaner.state.floatbank8_c_level              14148 non-null float64\n",
      "primary_cleaner.state.floatbank8_d_air                14146 non-null float64\n",
      "primary_cleaner.state.floatbank8_d_level              14148 non-null float64\n",
      "rougher.calculation.sulfate_to_au_concentrate         14148 non-null float64\n",
      "rougher.calculation.floatbank10_sulfate_to_au_feed    14148 non-null float64\n",
      "rougher.calculation.floatbank11_sulfate_to_au_feed    14148 non-null float64\n",
      "rougher.calculation.au_pb_ratio                       14149 non-null float64\n",
      "rougher.input.feed_ag                                 14149 non-null float64\n",
      "rougher.input.feed_pb                                 14049 non-null float64\n",
      "rougher.input.feed_rate                               14141 non-null float64\n",
      "rougher.input.feed_size                               14005 non-null float64\n",
      "rougher.input.feed_sol                                14071 non-null float64\n",
      "rougher.input.feed_au                                 14149 non-null float64\n",
      "rougher.input.floatbank10_sulfate                     14120 non-null float64\n",
      "rougher.input.floatbank10_xanthate                    14141 non-null float64\n",
      "rougher.input.floatbank11_sulfate                     14113 non-null float64\n",
      "rougher.input.floatbank11_xanthate                    13721 non-null float64\n",
      "rougher.output.concentrate_ag                         14149 non-null float64\n",
      "rougher.output.concentrate_pb                         14149 non-null float64\n",
      "rougher.output.concentrate_sol                        14127 non-null float64\n",
      "rougher.output.concentrate_au                         14149 non-null float64\n",
      "rougher.output.recovery                               14149 non-null float64\n",
      "rougher.output.tail_ag                                14148 non-null float64\n",
      "rougher.output.tail_pb                                14149 non-null float64\n",
      "rougher.output.tail_sol                               14149 non-null float64\n",
      "rougher.output.tail_au                                14149 non-null float64\n",
      "rougher.state.floatbank10_a_air                       14148 non-null float64\n",
      "rougher.state.floatbank10_a_level                     14148 non-null float64\n",
      "rougher.state.floatbank10_b_air                       14148 non-null float64\n",
      "rougher.state.floatbank10_b_level                     14148 non-null float64\n",
      "rougher.state.floatbank10_c_air                       14148 non-null float64\n",
      "rougher.state.floatbank10_c_level                     14148 non-null float64\n",
      "rougher.state.floatbank10_d_air                       14149 non-null float64\n",
      "rougher.state.floatbank10_d_level                     14149 non-null float64\n",
      "rougher.state.floatbank10_e_air                       13713 non-null float64\n",
      "rougher.state.floatbank10_e_level                     14149 non-null float64\n",
      "rougher.state.floatbank10_f_air                       14149 non-null float64\n",
      "rougher.state.floatbank10_f_level                     14149 non-null float64\n",
      "secondary_cleaner.output.tail_ag                      14147 non-null float64\n",
      "secondary_cleaner.output.tail_pb                      14139 non-null float64\n",
      "secondary_cleaner.output.tail_sol                     12544 non-null float64\n",
      "secondary_cleaner.output.tail_au                      14149 non-null float64\n",
      "secondary_cleaner.state.floatbank2_a_air              13932 non-null float64\n",
      "secondary_cleaner.state.floatbank2_a_level            14148 non-null float64\n",
      "secondary_cleaner.state.floatbank2_b_air              14128 non-null float64\n",
      "secondary_cleaner.state.floatbank2_b_level            14148 non-null float64\n",
      "secondary_cleaner.state.floatbank3_a_air              14145 non-null float64\n",
      "secondary_cleaner.state.floatbank3_a_level            14148 non-null float64\n",
      "secondary_cleaner.state.floatbank3_b_air              14148 non-null float64\n",
      "secondary_cleaner.state.floatbank3_b_level            14148 non-null float64\n",
      "secondary_cleaner.state.floatbank4_a_air              14143 non-null float64\n",
      "secondary_cleaner.state.floatbank4_a_level            14148 non-null float64\n",
      "secondary_cleaner.state.floatbank4_b_air              14148 non-null float64\n",
      "secondary_cleaner.state.floatbank4_b_level            14148 non-null float64\n",
      "secondary_cleaner.state.floatbank5_a_air              14148 non-null float64\n",
      "secondary_cleaner.state.floatbank5_a_level            14148 non-null float64\n",
      "secondary_cleaner.state.floatbank5_b_air              14148 non-null float64\n",
      "secondary_cleaner.state.floatbank5_b_level            14148 non-null float64\n",
      "secondary_cleaner.state.floatbank6_a_air              14147 non-null float64\n",
      "secondary_cleaner.state.floatbank6_a_level            14148 non-null float64\n",
      "dtypes: float64(86), object(1)\n",
      "memory usage: 9.4+ MB\n",
      "<class 'pandas.core.frame.DataFrame'>\n",
      "RangeIndex: 5290 entries, 0 to 5289\n",
      "Data columns (total 53 columns):\n",
      "date                                          5290 non-null object\n",
      "primary_cleaner.input.sulfate                 5286 non-null float64\n",
      "primary_cleaner.input.depressant              5285 non-null float64\n",
      "primary_cleaner.input.feed_size               5290 non-null float64\n",
      "primary_cleaner.input.xanthate                5286 non-null float64\n",
      "primary_cleaner.state.floatbank8_a_air        5290 non-null float64\n",
      "primary_cleaner.state.floatbank8_a_level      5290 non-null float64\n",
      "primary_cleaner.state.floatbank8_b_air        5290 non-null float64\n",
      "primary_cleaner.state.floatbank8_b_level      5290 non-null float64\n",
      "primary_cleaner.state.floatbank8_c_air        5290 non-null float64\n",
      "primary_cleaner.state.floatbank8_c_level      5290 non-null float64\n",
      "primary_cleaner.state.floatbank8_d_air        5290 non-null float64\n",
      "primary_cleaner.state.floatbank8_d_level      5290 non-null float64\n",
      "rougher.input.feed_ag                         5290 non-null float64\n",
      "rougher.input.feed_pb                         5290 non-null float64\n",
      "rougher.input.feed_rate                       5287 non-null float64\n",
      "rougher.input.feed_size                       5289 non-null float64\n",
      "rougher.input.feed_sol                        5269 non-null float64\n",
      "rougher.input.feed_au                         5290 non-null float64\n",
      "rougher.input.floatbank10_sulfate             5285 non-null float64\n",
      "rougher.input.floatbank10_xanthate            5290 non-null float64\n",
      "rougher.input.floatbank11_sulfate             5282 non-null float64\n",
      "rougher.input.floatbank11_xanthate            5265 non-null float64\n",
      "rougher.state.floatbank10_a_air               5290 non-null float64\n",
      "rougher.state.floatbank10_a_level             5290 non-null float64\n",
      "rougher.state.floatbank10_b_air               5290 non-null float64\n",
      "rougher.state.floatbank10_b_level             5290 non-null float64\n",
      "rougher.state.floatbank10_c_air               5290 non-null float64\n",
      "rougher.state.floatbank10_c_level             5290 non-null float64\n",
      "rougher.state.floatbank10_d_air               5290 non-null float64\n",
      "rougher.state.floatbank10_d_level             5290 non-null float64\n",
      "rougher.state.floatbank10_e_air               5290 non-null float64\n",
      "rougher.state.floatbank10_e_level             5290 non-null float64\n",
      "rougher.state.floatbank10_f_air               5290 non-null float64\n",
      "rougher.state.floatbank10_f_level             5290 non-null float64\n",
      "secondary_cleaner.state.floatbank2_a_air      5287 non-null float64\n",
      "secondary_cleaner.state.floatbank2_a_level    5290 non-null float64\n",
      "secondary_cleaner.state.floatbank2_b_air      5288 non-null float64\n",
      "secondary_cleaner.state.floatbank2_b_level    5290 non-null float64\n",
      "secondary_cleaner.state.floatbank3_a_air      5281 non-null float64\n",
      "secondary_cleaner.state.floatbank3_a_level    5290 non-null float64\n",
      "secondary_cleaner.state.floatbank3_b_air      5290 non-null float64\n",
      "secondary_cleaner.state.floatbank3_b_level    5290 non-null float64\n",
      "secondary_cleaner.state.floatbank4_a_air      5290 non-null float64\n",
      "secondary_cleaner.state.floatbank4_a_level    5290 non-null float64\n",
      "secondary_cleaner.state.floatbank4_b_air      5290 non-null float64\n",
      "secondary_cleaner.state.floatbank4_b_level    5290 non-null float64\n",
      "secondary_cleaner.state.floatbank5_a_air      5290 non-null float64\n",
      "secondary_cleaner.state.floatbank5_a_level    5290 non-null float64\n",
      "secondary_cleaner.state.floatbank5_b_air      5290 non-null float64\n",
      "secondary_cleaner.state.floatbank5_b_level    5290 non-null float64\n",
      "secondary_cleaner.state.floatbank6_a_air      5290 non-null float64\n",
      "secondary_cleaner.state.floatbank6_a_level    5290 non-null float64\n",
      "dtypes: float64(52), object(1)\n",
      "memory usage: 2.1+ MB\n",
      "<class 'pandas.core.frame.DataFrame'>\n",
      "RangeIndex: 19439 entries, 0 to 19438\n",
      "Data columns (total 87 columns):\n",
      "date                                                  19439 non-null object\n",
      "final.output.concentrate_ag                           19438 non-null float64\n",
      "final.output.concentrate_pb                           19438 non-null float64\n",
      "final.output.concentrate_sol                          19228 non-null float64\n",
      "final.output.concentrate_au                           19439 non-null float64\n",
      "final.output.recovery                                 19439 non-null float64\n",
      "final.output.tail_ag                                  19438 non-null float64\n",
      "final.output.tail_pb                                  19338 non-null float64\n",
      "final.output.tail_sol                                 19433 non-null float64\n",
      "final.output.tail_au                                  19439 non-null float64\n",
      "primary_cleaner.input.sulfate                         19415 non-null float64\n",
      "primary_cleaner.input.depressant                      19402 non-null float64\n",
      "primary_cleaner.input.feed_size                       19439 non-null float64\n",
      "primary_cleaner.input.xanthate                        19335 non-null float64\n",
      "primary_cleaner.output.concentrate_ag                 19439 non-null float64\n",
      "primary_cleaner.output.concentrate_pb                 19323 non-null float64\n",
      "primary_cleaner.output.concentrate_sol                19069 non-null float64\n",
      "primary_cleaner.output.concentrate_au                 19439 non-null float64\n",
      "primary_cleaner.output.tail_ag                        19435 non-null float64\n",
      "primary_cleaner.output.tail_pb                        19418 non-null float64\n",
      "primary_cleaner.output.tail_sol                       19377 non-null float64\n",
      "primary_cleaner.output.tail_au                        19439 non-null float64\n",
      "primary_cleaner.state.floatbank8_a_air                19435 non-null float64\n",
      "primary_cleaner.state.floatbank8_a_level              19438 non-null float64\n",
      "primary_cleaner.state.floatbank8_b_air                19435 non-null float64\n",
      "primary_cleaner.state.floatbank8_b_level              19438 non-null float64\n",
      "primary_cleaner.state.floatbank8_c_air                19437 non-null float64\n",
      "primary_cleaner.state.floatbank8_c_level              19438 non-null float64\n",
      "primary_cleaner.state.floatbank8_d_air                19436 non-null float64\n",
      "primary_cleaner.state.floatbank8_d_level              19438 non-null float64\n",
      "rougher.calculation.sulfate_to_au_concentrate         19437 non-null float64\n",
      "rougher.calculation.floatbank10_sulfate_to_au_feed    19437 non-null float64\n",
      "rougher.calculation.floatbank11_sulfate_to_au_feed    19437 non-null float64\n",
      "rougher.calculation.au_pb_ratio                       19439 non-null float64\n",
      "rougher.input.feed_ag                                 19439 non-null float64\n",
      "rougher.input.feed_pb                                 19339 non-null float64\n",
      "rougher.input.feed_rate                               19428 non-null float64\n",
      "rougher.input.feed_size                               19294 non-null float64\n",
      "rougher.input.feed_sol                                19340 non-null float64\n",
      "rougher.input.feed_au                                 19439 non-null float64\n",
      "rougher.input.floatbank10_sulfate                     19405 non-null float64\n",
      "rougher.input.floatbank10_xanthate                    19431 non-null float64\n",
      "rougher.input.floatbank11_sulfate                     19395 non-null float64\n",
      "rougher.input.floatbank11_xanthate                    18986 non-null float64\n",
      "rougher.output.concentrate_ag                         19439 non-null float64\n",
      "rougher.output.concentrate_pb                         19439 non-null float64\n",
      "rougher.output.concentrate_sol                        19416 non-null float64\n",
      "rougher.output.concentrate_au                         19439 non-null float64\n",
      "rougher.output.recovery                               19439 non-null float64\n",
      "rougher.output.tail_ag                                19438 non-null float64\n",
      "rougher.output.tail_pb                                19439 non-null float64\n",
      "rougher.output.tail_sol                               19439 non-null float64\n",
      "rougher.output.tail_au                                19439 non-null float64\n",
      "rougher.state.floatbank10_a_air                       19438 non-null float64\n",
      "rougher.state.floatbank10_a_level                     19438 non-null float64\n",
      "rougher.state.floatbank10_b_air                       19438 non-null float64\n",
      "rougher.state.floatbank10_b_level                     19438 non-null float64\n",
      "rougher.state.floatbank10_c_air                       19438 non-null float64\n",
      "rougher.state.floatbank10_c_level                     19438 non-null float64\n",
      "rougher.state.floatbank10_d_air                       19439 non-null float64\n",
      "rougher.state.floatbank10_d_level                     19439 non-null float64\n",
      "rougher.state.floatbank10_e_air                       19003 non-null float64\n",
      "rougher.state.floatbank10_e_level                     19439 non-null float64\n",
      "rougher.state.floatbank10_f_air                       19439 non-null float64\n",
      "rougher.state.floatbank10_f_level                     19439 non-null float64\n",
      "secondary_cleaner.output.tail_ag                      19437 non-null float64\n",
      "secondary_cleaner.output.tail_pb                      19427 non-null float64\n",
      "secondary_cleaner.output.tail_sol                     17691 non-null float64\n",
      "secondary_cleaner.output.tail_au                      19439 non-null float64\n",
      "secondary_cleaner.state.floatbank2_a_air              19219 non-null float64\n",
      "secondary_cleaner.state.floatbank2_a_level            19438 non-null float64\n",
      "secondary_cleaner.state.floatbank2_b_air              19416 non-null float64\n",
      "secondary_cleaner.state.floatbank2_b_level            19438 non-null float64\n",
      "secondary_cleaner.state.floatbank3_a_air              19426 non-null float64\n",
      "secondary_cleaner.state.floatbank3_a_level            19438 non-null float64\n",
      "secondary_cleaner.state.floatbank3_b_air              19438 non-null float64\n",
      "secondary_cleaner.state.floatbank3_b_level            19438 non-null float64\n",
      "secondary_cleaner.state.floatbank4_a_air              19433 non-null float64\n",
      "secondary_cleaner.state.floatbank4_a_level            19438 non-null float64\n",
      "secondary_cleaner.state.floatbank4_b_air              19438 non-null float64\n",
      "secondary_cleaner.state.floatbank4_b_level            19438 non-null float64\n",
      "secondary_cleaner.state.floatbank5_a_air              19438 non-null float64\n",
      "secondary_cleaner.state.floatbank5_a_level            19438 non-null float64\n",
      "secondary_cleaner.state.floatbank5_b_air              19438 non-null float64\n",
      "secondary_cleaner.state.floatbank5_b_level            19438 non-null float64\n",
      "secondary_cleaner.state.floatbank6_a_air              19437 non-null float64\n",
      "secondary_cleaner.state.floatbank6_a_level            19438 non-null float64\n",
      "dtypes: float64(86), object(1)\n",
      "memory usage: 12.9+ MB\n"
     ]
    }
   ],
   "source": [
    "data_train = pd.read_csv('/datasets/gold_recovery_train_new.csv') #обучающая выборка\n",
    "data_test  = pd.read_csv('/datasets/gold_recovery_test_new.csv')  #тестовая выборка\n",
    "data_full  = pd.read_csv('/datasets/gold_recovery_full_new.csv')  #исходные данные\n",
    "\n",
    "display(data_train.head(5))\n",
    "display(data_test.head(5))\n",
    "display(data_full.head(5))\n",
    "\n",
    "display(data_train.describe())\n",
    "display(data_test.describe())\n",
    "display(data_full.describe())\n",
    "\n",
    "data_train.info()\n",
    "data_test.info()\n",
    "data_full.info()"
   ]
  },
  {
   "cell_type": "markdown",
   "metadata": {},
   "source": [
    "<div class=\"alert alert-block alert-warning\">\n",
    "<b>Вывод:</b> \n",
    "\n",
    "1. В данных есть пропуски\n",
    "    \n",
    "2. Дата сохранена в формате object\n",
    "\n",
    "3. В тестовой выборке меньше признаков, чем в обучающей и исходной (53 vs 87)\n",
    "</div>"
   ]
  },
  {
   "cell_type": "markdown",
   "metadata": {},
   "source": [
    "### Устраненим пропуски"
   ]
  },
  {
   "cell_type": "code",
   "execution_count": 3,
   "metadata": {},
   "outputs": [
    {
     "name": "stdout",
     "output_type": "stream",
     "text": [
      "-----------------------------\n",
      "1. Пропуски в обучающей выборке:\n",
      "-----------------------------\n"
     ]
    },
    {
     "data": {
      "text/html": [
       "<div>\n",
       "<style scoped>\n",
       "    .dataframe tbody tr th:only-of-type {\n",
       "        vertical-align: middle;\n",
       "    }\n",
       "\n",
       "    .dataframe tbody tr th {\n",
       "        vertical-align: top;\n",
       "    }\n",
       "\n",
       "    .dataframe thead th {\n",
       "        text-align: right;\n",
       "    }\n",
       "</style>\n",
       "<table border=\"1\" class=\"dataframe\">\n",
       "  <thead>\n",
       "    <tr style=\"text-align: right;\">\n",
       "      <th></th>\n",
       "      <th>date</th>\n",
       "      <th>final.output.concentrate_ag</th>\n",
       "      <th>final.output.concentrate_pb</th>\n",
       "      <th>final.output.concentrate_sol</th>\n",
       "      <th>final.output.concentrate_au</th>\n",
       "      <th>final.output.recovery</th>\n",
       "      <th>final.output.tail_ag</th>\n",
       "      <th>final.output.tail_pb</th>\n",
       "      <th>final.output.tail_sol</th>\n",
       "      <th>final.output.tail_au</th>\n",
       "      <th>...</th>\n",
       "      <th>secondary_cleaner.state.floatbank4_a_air</th>\n",
       "      <th>secondary_cleaner.state.floatbank4_a_level</th>\n",
       "      <th>secondary_cleaner.state.floatbank4_b_air</th>\n",
       "      <th>secondary_cleaner.state.floatbank4_b_level</th>\n",
       "      <th>secondary_cleaner.state.floatbank5_a_air</th>\n",
       "      <th>secondary_cleaner.state.floatbank5_a_level</th>\n",
       "      <th>secondary_cleaner.state.floatbank5_b_air</th>\n",
       "      <th>secondary_cleaner.state.floatbank5_b_level</th>\n",
       "      <th>secondary_cleaner.state.floatbank6_a_air</th>\n",
       "      <th>secondary_cleaner.state.floatbank6_a_level</th>\n",
       "    </tr>\n",
       "  </thead>\n",
       "  <tbody>\n",
       "    <tr>\n",
       "      <td>0</td>\n",
       "      <td>False</td>\n",
       "      <td>False</td>\n",
       "      <td>False</td>\n",
       "      <td>False</td>\n",
       "      <td>False</td>\n",
       "      <td>False</td>\n",
       "      <td>False</td>\n",
       "      <td>False</td>\n",
       "      <td>False</td>\n",
       "      <td>False</td>\n",
       "      <td>...</td>\n",
       "      <td>False</td>\n",
       "      <td>False</td>\n",
       "      <td>False</td>\n",
       "      <td>False</td>\n",
       "      <td>False</td>\n",
       "      <td>False</td>\n",
       "      <td>False</td>\n",
       "      <td>False</td>\n",
       "      <td>False</td>\n",
       "      <td>False</td>\n",
       "    </tr>\n",
       "    <tr>\n",
       "      <td>1</td>\n",
       "      <td>False</td>\n",
       "      <td>False</td>\n",
       "      <td>False</td>\n",
       "      <td>False</td>\n",
       "      <td>False</td>\n",
       "      <td>False</td>\n",
       "      <td>False</td>\n",
       "      <td>False</td>\n",
       "      <td>False</td>\n",
       "      <td>False</td>\n",
       "      <td>...</td>\n",
       "      <td>False</td>\n",
       "      <td>False</td>\n",
       "      <td>False</td>\n",
       "      <td>False</td>\n",
       "      <td>False</td>\n",
       "      <td>False</td>\n",
       "      <td>False</td>\n",
       "      <td>False</td>\n",
       "      <td>False</td>\n",
       "      <td>False</td>\n",
       "    </tr>\n",
       "    <tr>\n",
       "      <td>2</td>\n",
       "      <td>False</td>\n",
       "      <td>False</td>\n",
       "      <td>False</td>\n",
       "      <td>False</td>\n",
       "      <td>False</td>\n",
       "      <td>False</td>\n",
       "      <td>False</td>\n",
       "      <td>False</td>\n",
       "      <td>False</td>\n",
       "      <td>False</td>\n",
       "      <td>...</td>\n",
       "      <td>False</td>\n",
       "      <td>False</td>\n",
       "      <td>False</td>\n",
       "      <td>False</td>\n",
       "      <td>False</td>\n",
       "      <td>False</td>\n",
       "      <td>False</td>\n",
       "      <td>False</td>\n",
       "      <td>False</td>\n",
       "      <td>False</td>\n",
       "    </tr>\n",
       "    <tr>\n",
       "      <td>3</td>\n",
       "      <td>False</td>\n",
       "      <td>False</td>\n",
       "      <td>False</td>\n",
       "      <td>False</td>\n",
       "      <td>False</td>\n",
       "      <td>False</td>\n",
       "      <td>False</td>\n",
       "      <td>False</td>\n",
       "      <td>False</td>\n",
       "      <td>False</td>\n",
       "      <td>...</td>\n",
       "      <td>False</td>\n",
       "      <td>False</td>\n",
       "      <td>False</td>\n",
       "      <td>False</td>\n",
       "      <td>False</td>\n",
       "      <td>False</td>\n",
       "      <td>False</td>\n",
       "      <td>False</td>\n",
       "      <td>False</td>\n",
       "      <td>False</td>\n",
       "    </tr>\n",
       "    <tr>\n",
       "      <td>4</td>\n",
       "      <td>False</td>\n",
       "      <td>False</td>\n",
       "      <td>False</td>\n",
       "      <td>False</td>\n",
       "      <td>False</td>\n",
       "      <td>False</td>\n",
       "      <td>False</td>\n",
       "      <td>False</td>\n",
       "      <td>False</td>\n",
       "      <td>False</td>\n",
       "      <td>...</td>\n",
       "      <td>False</td>\n",
       "      <td>False</td>\n",
       "      <td>False</td>\n",
       "      <td>False</td>\n",
       "      <td>False</td>\n",
       "      <td>False</td>\n",
       "      <td>False</td>\n",
       "      <td>False</td>\n",
       "      <td>False</td>\n",
       "      <td>False</td>\n",
       "    </tr>\n",
       "  </tbody>\n",
       "</table>\n",
       "<p>5 rows × 87 columns</p>\n",
       "</div>"
      ],
      "text/plain": [
       "    date  final.output.concentrate_ag  final.output.concentrate_pb  \\\n",
       "0  False                        False                        False   \n",
       "1  False                        False                        False   \n",
       "2  False                        False                        False   \n",
       "3  False                        False                        False   \n",
       "4  False                        False                        False   \n",
       "\n",
       "   final.output.concentrate_sol  final.output.concentrate_au  \\\n",
       "0                         False                        False   \n",
       "1                         False                        False   \n",
       "2                         False                        False   \n",
       "3                         False                        False   \n",
       "4                         False                        False   \n",
       "\n",
       "   final.output.recovery  final.output.tail_ag  final.output.tail_pb  \\\n",
       "0                  False                 False                 False   \n",
       "1                  False                 False                 False   \n",
       "2                  False                 False                 False   \n",
       "3                  False                 False                 False   \n",
       "4                  False                 False                 False   \n",
       "\n",
       "   final.output.tail_sol  final.output.tail_au  ...  \\\n",
       "0                  False                 False  ...   \n",
       "1                  False                 False  ...   \n",
       "2                  False                 False  ...   \n",
       "3                  False                 False  ...   \n",
       "4                  False                 False  ...   \n",
       "\n",
       "   secondary_cleaner.state.floatbank4_a_air  \\\n",
       "0                                     False   \n",
       "1                                     False   \n",
       "2                                     False   \n",
       "3                                     False   \n",
       "4                                     False   \n",
       "\n",
       "   secondary_cleaner.state.floatbank4_a_level  \\\n",
       "0                                       False   \n",
       "1                                       False   \n",
       "2                                       False   \n",
       "3                                       False   \n",
       "4                                       False   \n",
       "\n",
       "   secondary_cleaner.state.floatbank4_b_air  \\\n",
       "0                                     False   \n",
       "1                                     False   \n",
       "2                                     False   \n",
       "3                                     False   \n",
       "4                                     False   \n",
       "\n",
       "   secondary_cleaner.state.floatbank4_b_level  \\\n",
       "0                                       False   \n",
       "1                                       False   \n",
       "2                                       False   \n",
       "3                                       False   \n",
       "4                                       False   \n",
       "\n",
       "   secondary_cleaner.state.floatbank5_a_air  \\\n",
       "0                                     False   \n",
       "1                                     False   \n",
       "2                                     False   \n",
       "3                                     False   \n",
       "4                                     False   \n",
       "\n",
       "   secondary_cleaner.state.floatbank5_a_level  \\\n",
       "0                                       False   \n",
       "1                                       False   \n",
       "2                                       False   \n",
       "3                                       False   \n",
       "4                                       False   \n",
       "\n",
       "   secondary_cleaner.state.floatbank5_b_air  \\\n",
       "0                                     False   \n",
       "1                                     False   \n",
       "2                                     False   \n",
       "3                                     False   \n",
       "4                                     False   \n",
       "\n",
       "   secondary_cleaner.state.floatbank5_b_level  \\\n",
       "0                                       False   \n",
       "1                                       False   \n",
       "2                                       False   \n",
       "3                                       False   \n",
       "4                                       False   \n",
       "\n",
       "   secondary_cleaner.state.floatbank6_a_air  \\\n",
       "0                                     False   \n",
       "1                                     False   \n",
       "2                                     False   \n",
       "3                                     False   \n",
       "4                                     False   \n",
       "\n",
       "   secondary_cleaner.state.floatbank6_a_level  \n",
       "0                                       False  \n",
       "1                                       False  \n",
       "2                                       False  \n",
       "3                                       False  \n",
       "4                                       False  \n",
       "\n",
       "[5 rows x 87 columns]"
      ]
     },
     "metadata": {},
     "output_type": "display_data"
    },
    {
     "data": {
      "text/plain": [
       "secondary_cleaner.output.tail_sol           1605\n",
       "rougher.state.floatbank10_e_air              436\n",
       "rougher.input.floatbank11_xanthate           428\n",
       "primary_cleaner.output.concentrate_sol       286\n",
       "secondary_cleaner.state.floatbank2_a_air     217\n",
       "dtype: int64"
      ]
     },
     "metadata": {},
     "output_type": "display_data"
    },
    {
     "name": "stdout",
     "output_type": "stream",
     "text": [
      "---------------------------\n",
      "2. Пропуски в тестовой выборке:\n",
      "---------------------------\n"
     ]
    },
    {
     "data": {
      "text/html": [
       "<div>\n",
       "<style scoped>\n",
       "    .dataframe tbody tr th:only-of-type {\n",
       "        vertical-align: middle;\n",
       "    }\n",
       "\n",
       "    .dataframe tbody tr th {\n",
       "        vertical-align: top;\n",
       "    }\n",
       "\n",
       "    .dataframe thead th {\n",
       "        text-align: right;\n",
       "    }\n",
       "</style>\n",
       "<table border=\"1\" class=\"dataframe\">\n",
       "  <thead>\n",
       "    <tr style=\"text-align: right;\">\n",
       "      <th></th>\n",
       "      <th>date</th>\n",
       "      <th>primary_cleaner.input.sulfate</th>\n",
       "      <th>primary_cleaner.input.depressant</th>\n",
       "      <th>primary_cleaner.input.feed_size</th>\n",
       "      <th>primary_cleaner.input.xanthate</th>\n",
       "      <th>primary_cleaner.state.floatbank8_a_air</th>\n",
       "      <th>primary_cleaner.state.floatbank8_a_level</th>\n",
       "      <th>primary_cleaner.state.floatbank8_b_air</th>\n",
       "      <th>primary_cleaner.state.floatbank8_b_level</th>\n",
       "      <th>primary_cleaner.state.floatbank8_c_air</th>\n",
       "      <th>...</th>\n",
       "      <th>secondary_cleaner.state.floatbank4_a_air</th>\n",
       "      <th>secondary_cleaner.state.floatbank4_a_level</th>\n",
       "      <th>secondary_cleaner.state.floatbank4_b_air</th>\n",
       "      <th>secondary_cleaner.state.floatbank4_b_level</th>\n",
       "      <th>secondary_cleaner.state.floatbank5_a_air</th>\n",
       "      <th>secondary_cleaner.state.floatbank5_a_level</th>\n",
       "      <th>secondary_cleaner.state.floatbank5_b_air</th>\n",
       "      <th>secondary_cleaner.state.floatbank5_b_level</th>\n",
       "      <th>secondary_cleaner.state.floatbank6_a_air</th>\n",
       "      <th>secondary_cleaner.state.floatbank6_a_level</th>\n",
       "    </tr>\n",
       "  </thead>\n",
       "  <tbody>\n",
       "    <tr>\n",
       "      <td>0</td>\n",
       "      <td>False</td>\n",
       "      <td>False</td>\n",
       "      <td>False</td>\n",
       "      <td>False</td>\n",
       "      <td>False</td>\n",
       "      <td>False</td>\n",
       "      <td>False</td>\n",
       "      <td>False</td>\n",
       "      <td>False</td>\n",
       "      <td>False</td>\n",
       "      <td>...</td>\n",
       "      <td>False</td>\n",
       "      <td>False</td>\n",
       "      <td>False</td>\n",
       "      <td>False</td>\n",
       "      <td>False</td>\n",
       "      <td>False</td>\n",
       "      <td>False</td>\n",
       "      <td>False</td>\n",
       "      <td>False</td>\n",
       "      <td>False</td>\n",
       "    </tr>\n",
       "    <tr>\n",
       "      <td>1</td>\n",
       "      <td>False</td>\n",
       "      <td>False</td>\n",
       "      <td>False</td>\n",
       "      <td>False</td>\n",
       "      <td>False</td>\n",
       "      <td>False</td>\n",
       "      <td>False</td>\n",
       "      <td>False</td>\n",
       "      <td>False</td>\n",
       "      <td>False</td>\n",
       "      <td>...</td>\n",
       "      <td>False</td>\n",
       "      <td>False</td>\n",
       "      <td>False</td>\n",
       "      <td>False</td>\n",
       "      <td>False</td>\n",
       "      <td>False</td>\n",
       "      <td>False</td>\n",
       "      <td>False</td>\n",
       "      <td>False</td>\n",
       "      <td>False</td>\n",
       "    </tr>\n",
       "    <tr>\n",
       "      <td>2</td>\n",
       "      <td>False</td>\n",
       "      <td>False</td>\n",
       "      <td>False</td>\n",
       "      <td>False</td>\n",
       "      <td>False</td>\n",
       "      <td>False</td>\n",
       "      <td>False</td>\n",
       "      <td>False</td>\n",
       "      <td>False</td>\n",
       "      <td>False</td>\n",
       "      <td>...</td>\n",
       "      <td>False</td>\n",
       "      <td>False</td>\n",
       "      <td>False</td>\n",
       "      <td>False</td>\n",
       "      <td>False</td>\n",
       "      <td>False</td>\n",
       "      <td>False</td>\n",
       "      <td>False</td>\n",
       "      <td>False</td>\n",
       "      <td>False</td>\n",
       "    </tr>\n",
       "    <tr>\n",
       "      <td>3</td>\n",
       "      <td>False</td>\n",
       "      <td>False</td>\n",
       "      <td>False</td>\n",
       "      <td>False</td>\n",
       "      <td>False</td>\n",
       "      <td>False</td>\n",
       "      <td>False</td>\n",
       "      <td>False</td>\n",
       "      <td>False</td>\n",
       "      <td>False</td>\n",
       "      <td>...</td>\n",
       "      <td>False</td>\n",
       "      <td>False</td>\n",
       "      <td>False</td>\n",
       "      <td>False</td>\n",
       "      <td>False</td>\n",
       "      <td>False</td>\n",
       "      <td>False</td>\n",
       "      <td>False</td>\n",
       "      <td>False</td>\n",
       "      <td>False</td>\n",
       "    </tr>\n",
       "    <tr>\n",
       "      <td>4</td>\n",
       "      <td>False</td>\n",
       "      <td>False</td>\n",
       "      <td>False</td>\n",
       "      <td>False</td>\n",
       "      <td>False</td>\n",
       "      <td>False</td>\n",
       "      <td>False</td>\n",
       "      <td>False</td>\n",
       "      <td>False</td>\n",
       "      <td>False</td>\n",
       "      <td>...</td>\n",
       "      <td>False</td>\n",
       "      <td>False</td>\n",
       "      <td>False</td>\n",
       "      <td>False</td>\n",
       "      <td>False</td>\n",
       "      <td>False</td>\n",
       "      <td>False</td>\n",
       "      <td>False</td>\n",
       "      <td>False</td>\n",
       "      <td>False</td>\n",
       "    </tr>\n",
       "  </tbody>\n",
       "</table>\n",
       "<p>5 rows × 53 columns</p>\n",
       "</div>"
      ],
      "text/plain": [
       "    date  primary_cleaner.input.sulfate  primary_cleaner.input.depressant  \\\n",
       "0  False                          False                             False   \n",
       "1  False                          False                             False   \n",
       "2  False                          False                             False   \n",
       "3  False                          False                             False   \n",
       "4  False                          False                             False   \n",
       "\n",
       "   primary_cleaner.input.feed_size  primary_cleaner.input.xanthate  \\\n",
       "0                            False                           False   \n",
       "1                            False                           False   \n",
       "2                            False                           False   \n",
       "3                            False                           False   \n",
       "4                            False                           False   \n",
       "\n",
       "   primary_cleaner.state.floatbank8_a_air  \\\n",
       "0                                   False   \n",
       "1                                   False   \n",
       "2                                   False   \n",
       "3                                   False   \n",
       "4                                   False   \n",
       "\n",
       "   primary_cleaner.state.floatbank8_a_level  \\\n",
       "0                                     False   \n",
       "1                                     False   \n",
       "2                                     False   \n",
       "3                                     False   \n",
       "4                                     False   \n",
       "\n",
       "   primary_cleaner.state.floatbank8_b_air  \\\n",
       "0                                   False   \n",
       "1                                   False   \n",
       "2                                   False   \n",
       "3                                   False   \n",
       "4                                   False   \n",
       "\n",
       "   primary_cleaner.state.floatbank8_b_level  \\\n",
       "0                                     False   \n",
       "1                                     False   \n",
       "2                                     False   \n",
       "3                                     False   \n",
       "4                                     False   \n",
       "\n",
       "   primary_cleaner.state.floatbank8_c_air  ...  \\\n",
       "0                                   False  ...   \n",
       "1                                   False  ...   \n",
       "2                                   False  ...   \n",
       "3                                   False  ...   \n",
       "4                                   False  ...   \n",
       "\n",
       "   secondary_cleaner.state.floatbank4_a_air  \\\n",
       "0                                     False   \n",
       "1                                     False   \n",
       "2                                     False   \n",
       "3                                     False   \n",
       "4                                     False   \n",
       "\n",
       "   secondary_cleaner.state.floatbank4_a_level  \\\n",
       "0                                       False   \n",
       "1                                       False   \n",
       "2                                       False   \n",
       "3                                       False   \n",
       "4                                       False   \n",
       "\n",
       "   secondary_cleaner.state.floatbank4_b_air  \\\n",
       "0                                     False   \n",
       "1                                     False   \n",
       "2                                     False   \n",
       "3                                     False   \n",
       "4                                     False   \n",
       "\n",
       "   secondary_cleaner.state.floatbank4_b_level  \\\n",
       "0                                       False   \n",
       "1                                       False   \n",
       "2                                       False   \n",
       "3                                       False   \n",
       "4                                       False   \n",
       "\n",
       "   secondary_cleaner.state.floatbank5_a_air  \\\n",
       "0                                     False   \n",
       "1                                     False   \n",
       "2                                     False   \n",
       "3                                     False   \n",
       "4                                     False   \n",
       "\n",
       "   secondary_cleaner.state.floatbank5_a_level  \\\n",
       "0                                       False   \n",
       "1                                       False   \n",
       "2                                       False   \n",
       "3                                       False   \n",
       "4                                       False   \n",
       "\n",
       "   secondary_cleaner.state.floatbank5_b_air  \\\n",
       "0                                     False   \n",
       "1                                     False   \n",
       "2                                     False   \n",
       "3                                     False   \n",
       "4                                     False   \n",
       "\n",
       "   secondary_cleaner.state.floatbank5_b_level  \\\n",
       "0                                       False   \n",
       "1                                       False   \n",
       "2                                       False   \n",
       "3                                       False   \n",
       "4                                       False   \n",
       "\n",
       "   secondary_cleaner.state.floatbank6_a_air  \\\n",
       "0                                     False   \n",
       "1                                     False   \n",
       "2                                     False   \n",
       "3                                     False   \n",
       "4                                     False   \n",
       "\n",
       "   secondary_cleaner.state.floatbank6_a_level  \n",
       "0                                       False  \n",
       "1                                       False  \n",
       "2                                       False  \n",
       "3                                       False  \n",
       "4                                       False  \n",
       "\n",
       "[5 rows x 53 columns]"
      ]
     },
     "metadata": {},
     "output_type": "display_data"
    },
    {
     "data": {
      "text/plain": [
       "rougher.input.floatbank11_xanthate          25\n",
       "rougher.input.feed_sol                      21\n",
       "secondary_cleaner.state.floatbank3_a_air     9\n",
       "rougher.input.floatbank11_sulfate            8\n",
       "primary_cleaner.input.depressant             5\n",
       "dtype: int64"
      ]
     },
     "metadata": {},
     "output_type": "display_data"
    },
    {
     "name": "stdout",
     "output_type": "stream",
     "text": [
      "---------------------------\n",
      "3. Пропуски в исходной выборке:\n",
      "---------------------------\n"
     ]
    },
    {
     "data": {
      "text/html": [
       "<div>\n",
       "<style scoped>\n",
       "    .dataframe tbody tr th:only-of-type {\n",
       "        vertical-align: middle;\n",
       "    }\n",
       "\n",
       "    .dataframe tbody tr th {\n",
       "        vertical-align: top;\n",
       "    }\n",
       "\n",
       "    .dataframe thead th {\n",
       "        text-align: right;\n",
       "    }\n",
       "</style>\n",
       "<table border=\"1\" class=\"dataframe\">\n",
       "  <thead>\n",
       "    <tr style=\"text-align: right;\">\n",
       "      <th></th>\n",
       "      <th>date</th>\n",
       "      <th>final.output.concentrate_ag</th>\n",
       "      <th>final.output.concentrate_pb</th>\n",
       "      <th>final.output.concentrate_sol</th>\n",
       "      <th>final.output.concentrate_au</th>\n",
       "      <th>final.output.recovery</th>\n",
       "      <th>final.output.tail_ag</th>\n",
       "      <th>final.output.tail_pb</th>\n",
       "      <th>final.output.tail_sol</th>\n",
       "      <th>final.output.tail_au</th>\n",
       "      <th>...</th>\n",
       "      <th>secondary_cleaner.state.floatbank4_a_air</th>\n",
       "      <th>secondary_cleaner.state.floatbank4_a_level</th>\n",
       "      <th>secondary_cleaner.state.floatbank4_b_air</th>\n",
       "      <th>secondary_cleaner.state.floatbank4_b_level</th>\n",
       "      <th>secondary_cleaner.state.floatbank5_a_air</th>\n",
       "      <th>secondary_cleaner.state.floatbank5_a_level</th>\n",
       "      <th>secondary_cleaner.state.floatbank5_b_air</th>\n",
       "      <th>secondary_cleaner.state.floatbank5_b_level</th>\n",
       "      <th>secondary_cleaner.state.floatbank6_a_air</th>\n",
       "      <th>secondary_cleaner.state.floatbank6_a_level</th>\n",
       "    </tr>\n",
       "  </thead>\n",
       "  <tbody>\n",
       "    <tr>\n",
       "      <td>0</td>\n",
       "      <td>False</td>\n",
       "      <td>False</td>\n",
       "      <td>False</td>\n",
       "      <td>False</td>\n",
       "      <td>False</td>\n",
       "      <td>False</td>\n",
       "      <td>False</td>\n",
       "      <td>False</td>\n",
       "      <td>False</td>\n",
       "      <td>False</td>\n",
       "      <td>...</td>\n",
       "      <td>False</td>\n",
       "      <td>False</td>\n",
       "      <td>False</td>\n",
       "      <td>False</td>\n",
       "      <td>False</td>\n",
       "      <td>False</td>\n",
       "      <td>False</td>\n",
       "      <td>False</td>\n",
       "      <td>False</td>\n",
       "      <td>False</td>\n",
       "    </tr>\n",
       "    <tr>\n",
       "      <td>1</td>\n",
       "      <td>False</td>\n",
       "      <td>False</td>\n",
       "      <td>False</td>\n",
       "      <td>False</td>\n",
       "      <td>False</td>\n",
       "      <td>False</td>\n",
       "      <td>False</td>\n",
       "      <td>False</td>\n",
       "      <td>False</td>\n",
       "      <td>False</td>\n",
       "      <td>...</td>\n",
       "      <td>False</td>\n",
       "      <td>False</td>\n",
       "      <td>False</td>\n",
       "      <td>False</td>\n",
       "      <td>False</td>\n",
       "      <td>False</td>\n",
       "      <td>False</td>\n",
       "      <td>False</td>\n",
       "      <td>False</td>\n",
       "      <td>False</td>\n",
       "    </tr>\n",
       "    <tr>\n",
       "      <td>2</td>\n",
       "      <td>False</td>\n",
       "      <td>False</td>\n",
       "      <td>False</td>\n",
       "      <td>False</td>\n",
       "      <td>False</td>\n",
       "      <td>False</td>\n",
       "      <td>False</td>\n",
       "      <td>False</td>\n",
       "      <td>False</td>\n",
       "      <td>False</td>\n",
       "      <td>...</td>\n",
       "      <td>False</td>\n",
       "      <td>False</td>\n",
       "      <td>False</td>\n",
       "      <td>False</td>\n",
       "      <td>False</td>\n",
       "      <td>False</td>\n",
       "      <td>False</td>\n",
       "      <td>False</td>\n",
       "      <td>False</td>\n",
       "      <td>False</td>\n",
       "    </tr>\n",
       "    <tr>\n",
       "      <td>3</td>\n",
       "      <td>False</td>\n",
       "      <td>False</td>\n",
       "      <td>False</td>\n",
       "      <td>False</td>\n",
       "      <td>False</td>\n",
       "      <td>False</td>\n",
       "      <td>False</td>\n",
       "      <td>False</td>\n",
       "      <td>False</td>\n",
       "      <td>False</td>\n",
       "      <td>...</td>\n",
       "      <td>False</td>\n",
       "      <td>False</td>\n",
       "      <td>False</td>\n",
       "      <td>False</td>\n",
       "      <td>False</td>\n",
       "      <td>False</td>\n",
       "      <td>False</td>\n",
       "      <td>False</td>\n",
       "      <td>False</td>\n",
       "      <td>False</td>\n",
       "    </tr>\n",
       "    <tr>\n",
       "      <td>4</td>\n",
       "      <td>False</td>\n",
       "      <td>False</td>\n",
       "      <td>False</td>\n",
       "      <td>False</td>\n",
       "      <td>False</td>\n",
       "      <td>False</td>\n",
       "      <td>False</td>\n",
       "      <td>False</td>\n",
       "      <td>False</td>\n",
       "      <td>False</td>\n",
       "      <td>...</td>\n",
       "      <td>False</td>\n",
       "      <td>False</td>\n",
       "      <td>False</td>\n",
       "      <td>False</td>\n",
       "      <td>False</td>\n",
       "      <td>False</td>\n",
       "      <td>False</td>\n",
       "      <td>False</td>\n",
       "      <td>False</td>\n",
       "      <td>False</td>\n",
       "    </tr>\n",
       "  </tbody>\n",
       "</table>\n",
       "<p>5 rows × 87 columns</p>\n",
       "</div>"
      ],
      "text/plain": [
       "    date  final.output.concentrate_ag  final.output.concentrate_pb  \\\n",
       "0  False                        False                        False   \n",
       "1  False                        False                        False   \n",
       "2  False                        False                        False   \n",
       "3  False                        False                        False   \n",
       "4  False                        False                        False   \n",
       "\n",
       "   final.output.concentrate_sol  final.output.concentrate_au  \\\n",
       "0                         False                        False   \n",
       "1                         False                        False   \n",
       "2                         False                        False   \n",
       "3                         False                        False   \n",
       "4                         False                        False   \n",
       "\n",
       "   final.output.recovery  final.output.tail_ag  final.output.tail_pb  \\\n",
       "0                  False                 False                 False   \n",
       "1                  False                 False                 False   \n",
       "2                  False                 False                 False   \n",
       "3                  False                 False                 False   \n",
       "4                  False                 False                 False   \n",
       "\n",
       "   final.output.tail_sol  final.output.tail_au  ...  \\\n",
       "0                  False                 False  ...   \n",
       "1                  False                 False  ...   \n",
       "2                  False                 False  ...   \n",
       "3                  False                 False  ...   \n",
       "4                  False                 False  ...   \n",
       "\n",
       "   secondary_cleaner.state.floatbank4_a_air  \\\n",
       "0                                     False   \n",
       "1                                     False   \n",
       "2                                     False   \n",
       "3                                     False   \n",
       "4                                     False   \n",
       "\n",
       "   secondary_cleaner.state.floatbank4_a_level  \\\n",
       "0                                       False   \n",
       "1                                       False   \n",
       "2                                       False   \n",
       "3                                       False   \n",
       "4                                       False   \n",
       "\n",
       "   secondary_cleaner.state.floatbank4_b_air  \\\n",
       "0                                     False   \n",
       "1                                     False   \n",
       "2                                     False   \n",
       "3                                     False   \n",
       "4                                     False   \n",
       "\n",
       "   secondary_cleaner.state.floatbank4_b_level  \\\n",
       "0                                       False   \n",
       "1                                       False   \n",
       "2                                       False   \n",
       "3                                       False   \n",
       "4                                       False   \n",
       "\n",
       "   secondary_cleaner.state.floatbank5_a_air  \\\n",
       "0                                     False   \n",
       "1                                     False   \n",
       "2                                     False   \n",
       "3                                     False   \n",
       "4                                     False   \n",
       "\n",
       "   secondary_cleaner.state.floatbank5_a_level  \\\n",
       "0                                       False   \n",
       "1                                       False   \n",
       "2                                       False   \n",
       "3                                       False   \n",
       "4                                       False   \n",
       "\n",
       "   secondary_cleaner.state.floatbank5_b_air  \\\n",
       "0                                     False   \n",
       "1                                     False   \n",
       "2                                     False   \n",
       "3                                     False   \n",
       "4                                     False   \n",
       "\n",
       "   secondary_cleaner.state.floatbank5_b_level  \\\n",
       "0                                       False   \n",
       "1                                       False   \n",
       "2                                       False   \n",
       "3                                       False   \n",
       "4                                       False   \n",
       "\n",
       "   secondary_cleaner.state.floatbank6_a_air  \\\n",
       "0                                     False   \n",
       "1                                     False   \n",
       "2                                     False   \n",
       "3                                     False   \n",
       "4                                     False   \n",
       "\n",
       "   secondary_cleaner.state.floatbank6_a_level  \n",
       "0                                       False  \n",
       "1                                       False  \n",
       "2                                       False  \n",
       "3                                       False  \n",
       "4                                       False  \n",
       "\n",
       "[5 rows x 87 columns]"
      ]
     },
     "metadata": {},
     "output_type": "display_data"
    },
    {
     "data": {
      "text/plain": [
       "secondary_cleaner.output.tail_sol           1748\n",
       "rougher.input.floatbank11_xanthate           453\n",
       "rougher.state.floatbank10_e_air              436\n",
       "primary_cleaner.output.concentrate_sol       370\n",
       "secondary_cleaner.state.floatbank2_a_air     220\n",
       "dtype: int64"
      ]
     },
     "metadata": {},
     "output_type": "display_data"
    }
   ],
   "source": [
    "#1 Посчитаем число пропущенных значений в каждом файле\n",
    "print('-----------------------------')\n",
    "print('1. Пропуски в обучающей выборке:')\n",
    "print('-----------------------------')\n",
    "display(data_train.isnull().head(5))\n",
    "display(data_train.isnull().sum().sort_values(ascending=False, inplace=False).head(5))\n",
    "\n",
    "print('---------------------------')\n",
    "print('2. Пропуски в тестовой выборке:')\n",
    "print('---------------------------')\n",
    "display(data_test.isnull().head(5))\n",
    "display(data_test.isnull().sum().sort_values(ascending=False, inplace=False).head(5))\n",
    "\n",
    "print('---------------------------')\n",
    "print('3. Пропуски в исходной выборке:')\n",
    "print('---------------------------')\n",
    "display(data_full.isnull().head(5))\n",
    "display(data_full.isnull().sum().sort_values(ascending=False, inplace=False).head(5))"
   ]
  },
  {
   "cell_type": "markdown",
   "metadata": {},
   "source": [
    "<div class=\"alert alert-block alert-warning\">\n",
    "<b>Вывод:</b> \n",
    "\n",
    "1. В тестовой выборке почти нет пропусков\n",
    "2. Больше всего пропусков в параметре secondary_cleaner.output.tail_sol в обучающей (1605) и исходной (1748) выборки\n",
    "</div>"
   ]
  },
  {
   "cell_type": "code",
   "execution_count": 4,
   "metadata": {},
   "outputs": [],
   "source": [
    "#\"Данные индексируются датой и временем получения информации (признак date). Соседние по времени параметры часто похожи.\"\n",
    "#2 Дозаполним соседними значениями\n",
    "\n",
    "data_train = data_train.fillna(method=\"ffill\")         # Обучающая выборка\n",
    "data_test  = data_test.fillna(method=\"ffill\")          # Тестовая выборка\n",
    "data_full  = data_full.fillna(method=\"ffill\")          # Исходные данные\n"
   ]
  },
  {
   "cell_type": "code",
   "execution_count": 5,
   "metadata": {},
   "outputs": [
    {
     "name": "stdout",
     "output_type": "stream",
     "text": [
      "-----------------------------\n",
      "1. Пропуски в обучающей выборке после преобразования:\n",
      "-----------------------------\n"
     ]
    },
    {
     "data": {
      "text/plain": [
       "secondary_cleaner.state.floatbank6_a_level            0\n",
       "rougher.calculation.floatbank10_sulfate_to_au_feed    0\n",
       "dtype: int64"
      ]
     },
     "metadata": {},
     "output_type": "display_data"
    },
    {
     "name": "stdout",
     "output_type": "stream",
     "text": [
      "---------------------------\n",
      "2. Пропуски в тестовой выборке после преобразования:\n",
      "---------------------------\n"
     ]
    },
    {
     "data": {
      "text/plain": [
       "secondary_cleaner.state.floatbank6_a_level    0\n",
       "rougher.state.floatbank10_b_air               0\n",
       "dtype: int64"
      ]
     },
     "metadata": {},
     "output_type": "display_data"
    },
    {
     "name": "stdout",
     "output_type": "stream",
     "text": [
      "---------------------------\n",
      "3. Пропуски в исходной выборке после преобразования:\n",
      "---------------------------\n"
     ]
    },
    {
     "data": {
      "text/plain": [
       "secondary_cleaner.state.floatbank6_a_level            0\n",
       "rougher.calculation.floatbank10_sulfate_to_au_feed    0\n",
       "dtype: int64"
      ]
     },
     "metadata": {},
     "output_type": "display_data"
    }
   ],
   "source": [
    "print('-----------------------------')\n",
    "print('1. Пропуски в обучающей выборке после преобразования:')\n",
    "print('-----------------------------')\n",
    "display(data_train.isnull().sum().sort_values(ascending=False, inplace=False).head(2))\n",
    "\n",
    "print('---------------------------')\n",
    "print('2. Пропуски в тестовой выборке после преобразования:')\n",
    "print('---------------------------')\n",
    "display(data_test.isnull().sum().sort_values(ascending=False, inplace=False).head(2))\n",
    "\n",
    "print('---------------------------')\n",
    "print('3. Пропуски в исходной выборке после преобразования:')\n",
    "print('---------------------------')\n",
    "display(data_full.isnull().sum().sort_values(ascending=False, inplace=False).head(2))"
   ]
  },
  {
   "cell_type": "markdown",
   "metadata": {},
   "source": [
    "<div class=\"alert alert-block alert-warning\">\n",
    "<b>Вывод:</b> \n",
    "все пропуски дозаполнены\n",
    "</div>"
   ]
  },
  {
   "cell_type": "markdown",
   "metadata": {},
   "source": [
    "### Проверим наличие дубликатов"
   ]
  },
  {
   "cell_type": "code",
   "execution_count": 6,
   "metadata": {},
   "outputs": [
    {
     "name": "stdout",
     "output_type": "stream",
     "text": [
      "Число полных дубликатов строк в обучающей выборке: 0\n",
      "Число полных дубликатов строк в тестовой выборке: 0\n",
      "Число полных дубликатов строк в исходной выборке: 0\n"
     ]
    }
   ],
   "source": [
    "#1 Ищем полные дубликаты\n",
    "print(\"Число полных дубликатов строк в обучающей выборке:\",data_train.duplicated().sum())\n",
    "print(\"Число полных дубликатов строк в тестовой выборке:\",  data_test.duplicated().sum())\n",
    "print(\"Число полных дубликатов строк в исходной выборке:\",  data_full.duplicated().sum())"
   ]
  },
  {
   "cell_type": "markdown",
   "metadata": {},
   "source": [
    "<div class=\"alert alert-block alert-warning\">\n",
    "<b>Вывод:</b> полные дубликаты отсутствуют\n",
    "</div>"
   ]
  },
  {
   "cell_type": "markdown",
   "metadata": {},
   "source": [
    "### Преобразуем типы данных"
   ]
  },
  {
   "cell_type": "code",
   "execution_count": 7,
   "metadata": {},
   "outputs": [],
   "source": [
    "# Преобразуем дату из типа данных object в datetime\n",
    "data_train['date'] = pd.to_datetime(data_train['date'], format='%Y-%m-%d %H:%M:%S')\n",
    "data_test['date']  = pd.to_datetime(data_test['date'], format='%Y-%m-%d %H:%M:%S')\n",
    "data_full['date']  = pd.to_datetime(data_full['date'], format='%Y-%m-%d %H:%M:%S')"
   ]
  },
  {
   "cell_type": "markdown",
   "metadata": {},
   "source": [
    "### Проверим, каких признаков нет в тестовой выборке"
   ]
  },
  {
   "cell_type": "code",
   "execution_count": 8,
   "metadata": {},
   "outputs": [
    {
     "data": {
      "text/plain": [
       "['final.output.concentrate_ag',\n",
       " 'final.output.concentrate_pb',\n",
       " 'final.output.concentrate_sol',\n",
       " 'final.output.concentrate_au',\n",
       " 'final.output.recovery',\n",
       " 'final.output.tail_ag',\n",
       " 'final.output.tail_pb',\n",
       " 'final.output.tail_sol',\n",
       " 'final.output.tail_au',\n",
       " 'primary_cleaner.output.concentrate_ag',\n",
       " 'primary_cleaner.output.concentrate_pb',\n",
       " 'primary_cleaner.output.concentrate_sol',\n",
       " 'primary_cleaner.output.concentrate_au',\n",
       " 'primary_cleaner.output.tail_ag',\n",
       " 'primary_cleaner.output.tail_pb',\n",
       " 'primary_cleaner.output.tail_sol',\n",
       " 'primary_cleaner.output.tail_au',\n",
       " 'rougher.calculation.sulfate_to_au_concentrate',\n",
       " 'rougher.calculation.floatbank10_sulfate_to_au_feed',\n",
       " 'rougher.calculation.floatbank11_sulfate_to_au_feed',\n",
       " 'rougher.calculation.au_pb_ratio',\n",
       " 'rougher.output.concentrate_ag',\n",
       " 'rougher.output.concentrate_pb',\n",
       " 'rougher.output.concentrate_sol',\n",
       " 'rougher.output.concentrate_au',\n",
       " 'rougher.output.recovery',\n",
       " 'rougher.output.tail_ag',\n",
       " 'rougher.output.tail_pb',\n",
       " 'rougher.output.tail_sol',\n",
       " 'rougher.output.tail_au',\n",
       " 'secondary_cleaner.output.tail_ag',\n",
       " 'secondary_cleaner.output.tail_pb',\n",
       " 'secondary_cleaner.output.tail_sol',\n",
       " 'secondary_cleaner.output.tail_au']"
      ]
     },
     "metadata": {},
     "output_type": "display_data"
    }
   ],
   "source": [
    "columns_train = data_train.columns\n",
    "columns_test  = data_test.columns\n",
    "\n",
    "#генератор [expr(variable) for variable in iterable if condition(variable)]\n",
    "columns_not_in_test = [i for i in columns_train if i not in columns_test]\n",
    "display(columns_not_in_test)"
   ]
  },
  {
   "cell_type": "markdown",
   "metadata": {},
   "source": [
    "<div class=\"alert alert-block alert-warning\">\n",
    "<b>Вывод:</b> \n",
    "В тестовой выборке отстутствуют:\n",
    "    \n",
    "1. Параметры продукта по этапам обработки (rougher.output, secondary_cleaner.output, final.output), а именно данные по полученным на каждом этапе обработки концентрату (concentrate) и «отвальным хвостам» (tail). \n",
    "\n",
    "2. Некоторые расчетные характеристики этапов флотации, финального (rougher.calculation, final.output.recovery).\n",
    "</div>"
   ]
  },
  {
   "cell_type": "code",
   "execution_count": 9,
   "metadata": {},
   "outputs": [
    {
     "data": {
      "text/plain": [
       "Index(['date', 'final.output.concentrate_ag', 'final.output.concentrate_pb',\n",
       "       'final.output.concentrate_sol', 'final.output.concentrate_au',\n",
       "       'final.output.recovery', 'final.output.tail_ag', 'final.output.tail_pb',\n",
       "       'final.output.tail_sol', 'final.output.tail_au',\n",
       "       'primary_cleaner.input.sulfate', 'primary_cleaner.input.depressant',\n",
       "       'primary_cleaner.input.feed_size', 'primary_cleaner.input.xanthate',\n",
       "       'primary_cleaner.output.concentrate_ag',\n",
       "       'primary_cleaner.output.concentrate_pb',\n",
       "       'primary_cleaner.output.concentrate_sol',\n",
       "       'primary_cleaner.output.concentrate_au',\n",
       "       'primary_cleaner.output.tail_ag', 'primary_cleaner.output.tail_pb',\n",
       "       'primary_cleaner.output.tail_sol', 'primary_cleaner.output.tail_au',\n",
       "       'primary_cleaner.state.floatbank8_a_air',\n",
       "       'primary_cleaner.state.floatbank8_a_level',\n",
       "       'primary_cleaner.state.floatbank8_b_air',\n",
       "       'primary_cleaner.state.floatbank8_b_level',\n",
       "       'primary_cleaner.state.floatbank8_c_air',\n",
       "       'primary_cleaner.state.floatbank8_c_level',\n",
       "       'primary_cleaner.state.floatbank8_d_air',\n",
       "       'primary_cleaner.state.floatbank8_d_level',\n",
       "       'rougher.calculation.sulfate_to_au_concentrate',\n",
       "       'rougher.calculation.floatbank10_sulfate_to_au_feed',\n",
       "       'rougher.calculation.floatbank11_sulfate_to_au_feed',\n",
       "       'rougher.calculation.au_pb_ratio', 'rougher.input.feed_ag',\n",
       "       'rougher.input.feed_pb', 'rougher.input.feed_rate',\n",
       "       'rougher.input.feed_size', 'rougher.input.feed_sol',\n",
       "       'rougher.input.feed_au', 'rougher.input.floatbank10_sulfate',\n",
       "       'rougher.input.floatbank10_xanthate',\n",
       "       'rougher.input.floatbank11_sulfate',\n",
       "       'rougher.input.floatbank11_xanthate', 'rougher.output.concentrate_ag',\n",
       "       'rougher.output.concentrate_pb', 'rougher.output.concentrate_sol',\n",
       "       'rougher.output.concentrate_au', 'rougher.output.recovery',\n",
       "       'rougher.output.tail_ag', 'rougher.output.tail_pb',\n",
       "       'rougher.output.tail_sol', 'rougher.output.tail_au',\n",
       "       'rougher.state.floatbank10_a_air', 'rougher.state.floatbank10_a_level',\n",
       "       'rougher.state.floatbank10_b_air', 'rougher.state.floatbank10_b_level',\n",
       "       'rougher.state.floatbank10_c_air', 'rougher.state.floatbank10_c_level',\n",
       "       'rougher.state.floatbank10_d_air', 'rougher.state.floatbank10_d_level',\n",
       "       'rougher.state.floatbank10_e_air', 'rougher.state.floatbank10_e_level',\n",
       "       'rougher.state.floatbank10_f_air', 'rougher.state.floatbank10_f_level',\n",
       "       'secondary_cleaner.output.tail_ag', 'secondary_cleaner.output.tail_pb',\n",
       "       'secondary_cleaner.output.tail_sol', 'secondary_cleaner.output.tail_au',\n",
       "       'secondary_cleaner.state.floatbank2_a_air',\n",
       "       'secondary_cleaner.state.floatbank2_a_level',\n",
       "       'secondary_cleaner.state.floatbank2_b_air',\n",
       "       'secondary_cleaner.state.floatbank2_b_level',\n",
       "       'secondary_cleaner.state.floatbank3_a_air',\n",
       "       'secondary_cleaner.state.floatbank3_a_level',\n",
       "       'secondary_cleaner.state.floatbank3_b_air',\n",
       "       'secondary_cleaner.state.floatbank3_b_level',\n",
       "       'secondary_cleaner.state.floatbank4_a_air',\n",
       "       'secondary_cleaner.state.floatbank4_a_level',\n",
       "       'secondary_cleaner.state.floatbank4_b_air',\n",
       "       'secondary_cleaner.state.floatbank4_b_level',\n",
       "       'secondary_cleaner.state.floatbank5_a_air',\n",
       "       'secondary_cleaner.state.floatbank5_a_level',\n",
       "       'secondary_cleaner.state.floatbank5_b_air',\n",
       "       'secondary_cleaner.state.floatbank5_b_level',\n",
       "       'secondary_cleaner.state.floatbank6_a_air',\n",
       "       'secondary_cleaner.state.floatbank6_a_level'],\n",
       "      dtype='object')"
      ]
     },
     "metadata": {},
     "output_type": "display_data"
    }
   ],
   "source": [
    "#Все параметры обучающей выброки\n",
    "display(columns_train)"
   ]
  },
  {
   "cell_type": "markdown",
   "metadata": {},
   "source": [
    "### Проверим, что эффективность обогащения рассчитана правильно"
   ]
  },
  {
   "cell_type": "code",
   "execution_count": 10,
   "metadata": {},
   "outputs": [
    {
     "name": "stdout",
     "output_type": "stream",
     "text": [
      "MAE между расчётов и значением признака:  9.682896147825551e-15\n"
     ]
    }
   ],
   "source": [
    "#Вычислим эффективность на обучающей выборке для признака      rougher.output.recovery. \n",
    "#  Recovery = C*(F-T)/(F*(C-T))*100%,                   \n",
    "#  где:\n",
    "#  C — доля золота в концентрате после флотации/очистки;      rougher.output.concentrate_au\n",
    "#  F — доля золота в сырье/концентрате до флотации/очистки;   rougher.input.feed_au\n",
    "#  T — доля золота в отвальных хвостах после флотации/очистки. rougher.output.tail_au\n",
    "\n",
    "C = data_train['rougher.output.concentrate_au']\n",
    "F = data_train['rougher.input.feed_au']\n",
    "T = data_train['rougher.output.tail_au']\n",
    "recovery = data_train['rougher.output.recovery']\n",
    "\n",
    "recovery_calc = C*(F-T)/(F*(C-T))*100\n",
    "#Найдем MAE между моим расчётами и значением признака.\n",
    "print(\"MAE между расчётов и значением признака: \", \n",
    "      mean_absolute_error(recovery, recovery_calc))"
   ]
  },
  {
   "cell_type": "markdown",
   "metadata": {},
   "source": [
    "<div class=\"alert alert-block alert-warning\">\n",
    "<b>Вывод:</b> MAE близка к нулю, т.e. расчет recovery корректен.\n",
    "</div>"
   ]
  },
  {
   "cell_type": "markdown",
   "metadata": {},
   "source": [
    "## Анализ данных"
   ]
  },
  {
   "cell_type": "markdown",
   "metadata": {},
   "source": [
    "### Посмотрим, как меняется концентрация металлов (Au, Ag, Pb) на различных этапах очистки"
   ]
  },
  {
   "cell_type": "code",
   "execution_count": 16,
   "metadata": {},
   "outputs": [
    {
     "name": "stdout",
     "output_type": "stream",
     "text": [
      "----------\n",
      "1. Золото\n",
      "----------\n"
     ]
    },
    {
     "data": {
      "image/png": "[encoded data removed]",
      "text/plain": [
       "<Figure size 432x288 with 1 Axes>"
      ]
     },
     "metadata": {
      "needs_background": "light"
     },
     "output_type": "display_data"
    },
    {
     "name": "stdout",
     "output_type": "stream",
     "text": [
      "----------\n",
      "2. Серебро\n",
      "----------\n"
     ]
    },
    {
     "data": {
      "image/png": "[encoded data removed]",
      "text/plain": [
       "<Figure size 432x288 with 1 Axes>"
      ]
     },
     "metadata": {
      "needs_background": "light"
     },
     "output_type": "display_data"
    },
    {
     "name": "stdout",
     "output_type": "stream",
     "text": [
      "----------\n",
      "3. Свинец\n",
      "----------\n"
     ]
    },
    {
     "data": {
      "image/png": "[encoded data removed]",
      "text/plain": [
       "<Figure size 432x288 with 1 Axes>"
      ]
     },
     "metadata": {
      "needs_background": "light"
     },
     "output_type": "display_data"
    }
   ],
   "source": [
    "#   rougher.input.feed_au                                                       - смесь золотой руды\n",
    "#   rougher.output.concentrate_au           (rougher — флотация)                 - черновой концентрат                 \n",
    "#   primary_cleaner.output.concentrate_au   (primary_cleaner — первичная очистка)  - ?после первичной очистки  \n",
    "#   secondary_cleaner.output.concentrate_au (secondary_cleaner — вторичная очистка) - нет такого\n",
    "#   final.output.concentrate_au             (final — финальные характеристики)      - финальный концентрат\n",
    "\n",
    "def concentrate_au_hist(output, col, name):\n",
    "    plt.hist(output, bins=30, label = name, color= col, alpha = 0.5, density=True)\n",
    "    plt.ylabel(\"Доля проверок\")\n",
    "    plt.legend()\n",
    "#plt.show()\n",
    "\n",
    "print('----------')\n",
    "print('1. Золото')\n",
    "print('----------')\n",
    "concentrate_au_hist(data_train['rougher.output.concentrate_au'],'r', \"Черновой концентрат\")\n",
    "concentrate_au_hist(data_train['primary_cleaner.output.concentrate_au'],'g', \"Концентрат после первичной очистки\")\n",
    "concentrate_au_hist(data_train['final.output.concentrate_au'],'b', \"Финальный концентрат\")\n",
    "plt.show()\n",
    "print('----------')\n",
    "print('2. Серебро')\n",
    "print('----------')\n",
    "concentrate_au_hist(data_train['rougher.output.concentrate_ag'],'r', \"Черновой концентрат\")\n",
    "concentrate_au_hist(data_train['primary_cleaner.output.concentrate_ag'],'g', \"Концентрат после первичной очистки\")\n",
    "concentrate_au_hist(data_train['final.output.concentrate_ag'],'b', \"Финальный концентрат\")\n",
    "plt.show()\n",
    "print('----------')\n",
    "print('3. Свинец')\n",
    "print('----------')\n",
    "concentrate_au_hist(data_train['rougher.output.concentrate_pb'],'r', \"Черновой концентрат\")\n",
    "concentrate_au_hist(data_train['primary_cleaner.output.concentrate_pb'],'g', \"Концентрат после первичной очистки\")\n",
    "concentrate_au_hist(data_train['final.output.concentrate_pb'],'b', \"Финальный концентрат\")\n",
    "plt.show()"
   ]
  },
  {
   "cell_type": "markdown",
   "metadata": {},
   "source": [
    "<div class=\"alert alert-block alert-warning\">\n",
    "<b>Вывод:</b> \n",
    "\n",
    "1. Золото. Концентрация увеличивается с каждой стадией обработки в ходе технологического процесса.\n",
    "\n",
    "2. Серебро. Концентрация на каждой следующей стадии уменьшается.\n",
    "\n",
    "3. Свинец. Концентрация возрастает после этапа флотации, а после почти не меняется.\n",
    "</div>"
   ]
  },
  {
   "cell_type": "markdown",
   "metadata": {},
   "source": [
    "### Сравним распределения размеров гранул сырья на обучающей и тестовой выборках."
   ]
  },
  {
   "cell_type": "code",
   "execution_count": 17,
   "metadata": {},
   "outputs": [
    {
     "name": "stdout",
     "output_type": "stream",
     "text": [
      "----------------------------------\n",
      "1. На этапе подготовки сырья к флотации\n",
      "----------------------------------\n"
     ]
    },
    {
     "data": {
      "image/png": "[encoded data removed]",
      "text/plain": [
       "<Figure size 432x288 with 1 Axes>"
      ]
     },
     "metadata": {
      "needs_background": "light"
     },
     "output_type": "display_data"
    },
    {
     "name": "stdout",
     "output_type": "stream",
     "text": [
      "Средний размеров гранул сырья в обучающей выборке 60.23985599255732\n",
      "Средний размеров гранул сырья в тестовой выборке 55.95275402889513\n",
      "Стандартное отклонение в обучающей выборке: 23.005309604877922\n",
      "Стандартное отклонение в тестовой выборке: 19.08033409685571\n",
      "p-значение: 3.1343387768046124e-39\n",
      "Средний размер гранул обучающей и тестовой выборки различаются\n"
     ]
    }
   ],
   "source": [
    "#1) Построим графики распределения гранул сырья в обучающей и тестовой выборок.\n",
    "##----На этапе подготовки сырья к флотации (rougher.input.feed_size)\n",
    "print('----------------------------------')\n",
    "print('1. На этапе подготовки сырья к флотации')\n",
    "print('----------------------------------')\n",
    "\n",
    "concentrate_au_hist(data_train['rougher.input.feed_size'],'r', \"Гранул сырья в обучающей выборке\")\n",
    "concentrate_au_hist(data_test['rougher.input.feed_size'],'g', \"Гранул сырья в тестовой выборке\")\n",
    "plt.show()\n",
    "#2) Проверим гипотезу о равенстве средних размеров гранул в обучающей и тестовой выборках.\n",
    "print(\"Средний размеров гранул сырья в обучающей выборке\", data_train['rougher.input.feed_size'].describe()['mean'])\n",
    "print(\"Средний размеров гранул сырья в тестовой выборке\", data_test['rougher.input.feed_size'].describe()['mean'])\n",
    "print('Стандартное отклонение в обучающей выборке:', data_train['rougher.input.feed_size'].describe()['std'])\n",
    "print('Стандартное отклонение в тестовой выборке:', data_test['rougher.input.feed_size'].describe()['std'])\n",
    "\n",
    "#Пороговое значение alpha - 0.05\n",
    "alpha = 0.05 #если p-value окажется меньше него - отвергнем гипотезу\n",
    "\n",
    "results = st.ttest_ind(data_train['rougher.input.feed_size'], data_test['rougher.input.feed_size'], equal_var=False)\n",
    "print('p-значение:', results.pvalue)\n",
    "\n",
    "if (results.pvalue < alpha):\n",
    "    print(\"Средний размер гранул обучающей и тестовой выборки различаются\")\n",
    "else:\n",
    "    print(\"Средний размер гранул обучающей и тестовой выборки одинаковые\")"
   ]
  },
  {
   "cell_type": "code",
   "execution_count": 18,
   "metadata": {},
   "outputs": [
    {
     "name": "stdout",
     "output_type": "stream",
     "text": [
      "-----------------------------\n",
      "2. Перед первым этапом очистки\n",
      "-----------------------------\n"
     ]
    },
    {
     "data": {
      "image/png": "[encoded data removed]",
      "text/plain": [
       "<Figure size 432x288 with 1 Axes>"
      ]
     },
     "metadata": {
      "needs_background": "light"
     },
     "output_type": "display_data"
    },
    {
     "name": "stdout",
     "output_type": "stream",
     "text": [
      "Средний размеров гранул сырья в обучающей выборке 7.322309906901314\n",
      "Средний размеров гранул сырья в тестовой выборке 7.266339191270906\n",
      "Стандартное отклонение в обучающей выборке: 0.6140622641450755\n",
      "Стандартное отклонение в тестовой выборке: 0.6102187710155457\n",
      "p-значение: 1.3721938409942596e-08\n",
      "Средний размер гранул обучающей и тестовой выборки различаются.\n"
     ]
    }
   ],
   "source": [
    "##----На этапе подготовки сырья к флотации\n",
    "print('-----------------------------')\n",
    "print('2. Перед первым этапом очистки')\n",
    "print('-----------------------------')\n",
    "\n",
    "concentrate_au_hist(data_train['primary_cleaner.input.feed_size'],'r', \"Гранул сырья в обучающей выборке\")\n",
    "concentrate_au_hist(data_test['primary_cleaner.input.feed_size'],'g', \"Гранул сырья в тестовой выборке\")\n",
    "plt.show()\n",
    "#2) Проверим гипотезу о равенстве средних размеров гранул в обучающей и тестовой выборках.\n",
    "print(\"Средний размеров гранул сырья в обучающей выборке\", data_train['primary_cleaner.input.feed_size'].describe()['mean'])\n",
    "print(\"Средний размеров гранул сырья в тестовой выборке\", data_test['primary_cleaner.input.feed_size'].describe()['mean'])\n",
    "print('Стандартное отклонение в обучающей выборке:', data_train['primary_cleaner.input.feed_size'].describe()['std'])\n",
    "print('Стандартное отклонение в тестовой выборке:', data_test['primary_cleaner.input.feed_size'].describe()['std'])\n",
    "\n",
    "#Пороговое значение alpha - 0.05\n",
    "alpha = 0.05 #если p-value окажется меньше него - отвергнем гипотезу\n",
    "\n",
    "results = st.ttest_ind(data_train['primary_cleaner.input.feed_size'], data_test['primary_cleaner.input.feed_size'], equal_var=False)\n",
    "print('p-значение:', results.pvalue)\n",
    "\n",
    "if (results.pvalue < alpha):\n",
    "    print(\"Средний размер гранул обучающей и тестовой выборки различаются.\")\n",
    "else:\n",
    "    print(\"Средний размер гранул обучающей и тестовой выборки одинаковые.\")"
   ]
  },
  {
   "cell_type": "markdown",
   "metadata": {},
   "source": [
    "<div class=\"alert alert-block alert-warning\">\n",
    "<b>Вывод:</b> \n",
    "\n",
    "1. На этапе подготовки сырья к флотации cредний размер гранул обучающей и тестовой выборки различаются.\n",
    "2. Перед первым этапом очистки cредний размер гранул обучающей и тестовой выборки различаются.\n",
    "    \n",
    "Распределения с большой долейй вероятности не равны. Это может повлиять на результаты предсказания модели.\n",
    "</div>"
   ]
  },
  {
   "cell_type": "markdown",
   "metadata": {},
   "source": [
    "### Исследуем суммарную концентрацию всех веществ на разных стадиях: в сырье, в черновом и финальном концентратах."
   ]
  },
  {
   "cell_type": "code",
   "execution_count": 20,
   "metadata": {},
   "outputs": [
    {
     "data": {
      "image/png": "[encoded data removed]",
      "text/plain": [
       "<Figure size 432x288 with 1 Axes>"
      ]
     },
     "metadata": {
      "needs_background": "light"
     },
     "output_type": "display_data"
    }
   ],
   "source": [
    "steps  =  [ 'rougher.input.feed' ,  'rougher.output.concentrate' \n",
    "           ,  'primary_cleaner.output.concentrate',  ' final.output.concentrate ' ]\n",
    "metals = ['au', 'ag', 'pb']\n",
    "#-------------------------\n",
    "rougher_feed_train = data_train['rougher.input.feed_au'] + data_train['rougher.input.feed_ag'] + data_train['rougher.output.concentrate_pb']\n",
    "rougher_output_train = data_train['rougher.output.concentrate_au'] + data_train['rougher.output.concentrate_ag'] + data_train['rougher.output.concentrate_pb']\n",
    "primary_cleaner_train = data_train['primary_cleaner.output.concentrate_au'] + data_train['primary_cleaner.output.concentrate_ag'] + data_train['primary_cleaner.output.concentrate_pb'] \n",
    "final_train = data_train['final.output.concentrate_au'] + data_train['final.output.concentrate_ag'] + data_train['final.output.concentrate_pb']\n",
    "#-------------------------\n",
    "concentrate_au_hist(rougher_feed_train,'y', \"Металлов в сырье\")\n",
    "concentrate_au_hist(rougher_output_train,'r', \"Черновой концентрат мателлов\")\n",
    "concentrate_au_hist(primary_cleaner_train,'g', \"Концентрат мателлов первой очистки\")\n",
    "concentrate_au_hist(final_train,'b', \"Финальный концентрат металлов\")\n"
   ]
  },
  {
   "cell_type": "markdown",
   "metadata": {},
   "source": [
    "<div class=\"alert alert-block alert-warning\">\n",
    "<b>Вывод:</b> \n",
    "\n",
    "Суммарная концентрация металлов возрастает к финальной стадии.\n",
    "</div>"
   ]
  },
  {
   "cell_type": "markdown",
   "metadata": {},
   "source": [
    "## Модель"
   ]
  },
  {
   "cell_type": "code",
   "execution_count": 21,
   "metadata": {},
   "outputs": [
    {
     "data": {
      "text/plain": [
       "(13400, 87)"
      ]
     },
     "metadata": {},
     "output_type": "display_data"
    },
    {
     "data": {
      "text/plain": [
       "(18478, 87)"
      ]
     },
     "metadata": {},
     "output_type": "display_data"
    },
    {
     "data": {
      "text/plain": [
       "(5078, 55)"
      ]
     },
     "metadata": {},
     "output_type": "display_data"
    }
   ],
   "source": [
    "# Избавимся от выбросов\n",
    "# Удаляем строки с значением концентрацией металлов, близким к нулю (<3)\n",
    "# Черновой концентрат rougher.output.concentrate_\n",
    "data_train_n = data_train[(data_train['rougher.output.concentrate_au'] > 2) \n",
    "                          & (data_train['rougher.output.concentrate_ag'] > 2) \n",
    "                          & (data_train['rougher.output.concentrate_pb'] > 2)]\n",
    "\n",
    "data_full_n = data_full[(data_full['rougher.output.concentrate_au'] > 2) \n",
    "                        & (data_full['rougher.output.concentrate_ag'] > 2) \n",
    "                        & (data_full['rougher.output.concentrate_pb'] > 2)]\n",
    "\n",
    "    \n",
    "# Первый этап очистки primary_cleaner.output.concentrate_\n",
    "data_train_n = data_train_n[(data_train_n['primary_cleaner.output.concentrate_au'] > 2) \n",
    "                            & (data_train_n['primary_cleaner.output.concentrate_ag'] > 2) \n",
    "                            & (data_train_n['primary_cleaner.output.concentrate_pb'] > 2)]\n",
    "\n",
    "data_full_n = data_full_n[(data_full_n['primary_cleaner.output.concentrate_au'] > 2) \n",
    "                          & (data_full_n['primary_cleaner.output.concentrate_ag'] > 2) \n",
    "                          & (data_full_n['primary_cleaner.output.concentrate_pb'] > 2)]\n",
    "\n",
    "# Финальный концентрат final.output.concentrate_\n",
    "data_train_n = data_train_n[(data_train_n['final.output.concentrate_au'] > 2) \n",
    "                            & (data_train_n['final.output.concentrate_ag'] > 2) \n",
    "                            & (data_train_n['final.output.concentrate_pb'] > 2)]\n",
    "\n",
    "data_full_n = data_full_n[(data_full_n['final.output.concentrate_au'] > 2) \n",
    "                            & (data_full_n['final.output.concentrate_ag'] > 2) \n",
    "                            & (data_full_n['final.output.concentrate_pb'] > 2)]\n",
    "\n",
    "data_test_n = data_test.merge(data_full_n[['date']]\n",
    "                            ,how = 'inner', on = 'date')\n",
    "\n",
    "#Размер сырья rougher.input.feed_size\n",
    "data_train_n = data_train_n[data_train_n['rougher.input.feed_size'] < 200]\n",
    "data_full_n = data_full_n[data_full_n['rougher.input.feed_size'] < 200]\n",
    "\n",
    "data_test_n = data_test.merge(data_full_n[['date','rougher.output.recovery', 'final.output.recovery']]\n",
    "                            ,how = 'inner', on = 'date')\n",
    "\n",
    "display(data_train_n.shape)\n",
    "display(data_full_n.shape)\n",
    "display(data_test_n.shape)"
   ]
  },
  {
   "cell_type": "markdown",
   "metadata": {},
   "source": [
    "### Напишем функцию для вычисления итоговой sMAPE."
   ]
  },
  {
   "cell_type": "code",
   "execution_count": 22,
   "metadata": {},
   "outputs": [
    {
     "name": "stdout",
     "output_type": "stream",
     "text": [
      "Index(['date', 'primary_cleaner.input.sulfate',\n",
      "       'primary_cleaner.input.depressant', 'primary_cleaner.input.feed_size',\n",
      "       'primary_cleaner.input.xanthate',\n",
      "       'primary_cleaner.state.floatbank8_a_air',\n",
      "       'primary_cleaner.state.floatbank8_a_level',\n",
      "       'primary_cleaner.state.floatbank8_b_air',\n",
      "       'primary_cleaner.state.floatbank8_b_level',\n",
      "       'primary_cleaner.state.floatbank8_c_air',\n",
      "       'primary_cleaner.state.floatbank8_c_level',\n",
      "       'primary_cleaner.state.floatbank8_d_air',\n",
      "       'primary_cleaner.state.floatbank8_d_level', 'rougher.input.feed_ag',\n",
      "       'rougher.input.feed_pb', 'rougher.input.feed_rate',\n",
      "       'rougher.input.feed_size', 'rougher.input.feed_sol',\n",
      "       'rougher.input.feed_au', 'rougher.input.floatbank10_sulfate',\n",
      "       'rougher.input.floatbank10_xanthate',\n",
      "       'rougher.input.floatbank11_sulfate',\n",
      "       'rougher.input.floatbank11_xanthate', 'rougher.state.floatbank10_a_air',\n",
      "       'rougher.state.floatbank10_a_level', 'rougher.state.floatbank10_b_air',\n",
      "       'rougher.state.floatbank10_b_level', 'rougher.state.floatbank10_c_air',\n",
      "       'rougher.state.floatbank10_c_level', 'rougher.state.floatbank10_d_air',\n",
      "       'rougher.state.floatbank10_d_level', 'rougher.state.floatbank10_e_air',\n",
      "       'rougher.state.floatbank10_e_level', 'rougher.state.floatbank10_f_air',\n",
      "       'rougher.state.floatbank10_f_level',\n",
      "       'secondary_cleaner.state.floatbank2_a_air',\n",
      "       'secondary_cleaner.state.floatbank2_a_level',\n",
      "       'secondary_cleaner.state.floatbank2_b_air',\n",
      "       'secondary_cleaner.state.floatbank2_b_level',\n",
      "       'secondary_cleaner.state.floatbank3_a_air',\n",
      "       'secondary_cleaner.state.floatbank3_a_level',\n",
      "       'secondary_cleaner.state.floatbank3_b_air',\n",
      "       'secondary_cleaner.state.floatbank3_b_level',\n",
      "       'secondary_cleaner.state.floatbank4_a_air',\n",
      "       'secondary_cleaner.state.floatbank4_a_level',\n",
      "       'secondary_cleaner.state.floatbank4_b_air',\n",
      "       'secondary_cleaner.state.floatbank4_b_level',\n",
      "       'secondary_cleaner.state.floatbank5_a_air',\n",
      "       'secondary_cleaner.state.floatbank5_a_level',\n",
      "       'secondary_cleaner.state.floatbank5_b_air',\n",
      "       'secondary_cleaner.state.floatbank5_b_level',\n",
      "       'secondary_cleaner.state.floatbank6_a_air',\n",
      "       'secondary_cleaner.state.floatbank6_a_level', 'rougher.output.recovery',\n",
      "       'final.output.recovery'],\n",
      "      dtype='object')\n"
     ]
    }
   ],
   "source": [
    "print(data_test_n.columns)"
   ]
  },
  {
   "cell_type": "code",
   "execution_count": 23,
   "metadata": {},
   "outputs": [],
   "source": [
    "#sMAPE (англ. Symmetric Mean Absolute Percentage Error, «симметричное среднее абсолютное процентное отклонение»).\n",
    "# Функция для вычисления метрики качества sMAPE\n",
    "#    Она похожа на MAE, но выражается не в абсолютных величинах, а в относительных\n",
    "#    Параметр target - значение целевого признака \n",
    "#    Параметр predictions - значение предсказания \n",
    "def sMAPE(target, predictions):\n",
    "    return (100*abs(target-predictions)*2/(abs(target)+abs(predictions))).mean()\n",
    "\n",
    "def final_sMAPE (rougher, final):\n",
    "    return (0.25*rougher + 0.75*final) "
   ]
  },
  {
   "cell_type": "markdown",
   "metadata": {},
   "source": [
    "### Обучим разные модели и оценим их качество кросс-валидацией. Выберем лучшую модель и проверим её на тестовой выборке."
   ]
  },
  {
   "cell_type": "markdown",
   "metadata": {},
   "source": [
    "#### Подготовим данные"
   ]
  },
  {
   "cell_type": "code",
   "execution_count": 24,
   "metadata": {},
   "outputs": [],
   "source": [
    "#train, Эффективность обогащения - rougher.output.recovery и final.output.recovery\n",
    "features_train = data_train_n.drop(columns_not_in_test, axis=1) \n",
    "features_train_final = features_train.drop(['date'], axis=1) \n",
    "features_train_rougher = features_train_final.loc[:, 'rougher.input.feed_ag': 'rougher.state.floatbank10_f_level']\n",
    "\n",
    "features_test_final = data_test_n.drop(['date', 'rougher.output.recovery', 'final.output.recovery'], axis=1)\n",
    "features_test_rougher = features_test_final.loc[:, 'rougher.input.feed_ag': 'rougher.state.floatbank10_f_level']\n",
    "\n",
    "target_train_rougher = data_train_n['rougher.output.recovery']\n",
    "target_train_final = data_train_n['final.output.recovery']\n",
    "\n",
    "#target_recovery_test = data_test['rougher.output.recovery']\n",
    "#target_final_test = data_test['final.output.recovery']\n",
    "target_test_rougher = data_test_n['rougher.output.recovery']\n",
    "target_test_final = data_test_n['final.output.recovery']"
   ]
  },
  {
   "cell_type": "markdown",
   "metadata": {},
   "source": [
    "#### Удалим среднее и масштабируем дисперсию "
   ]
  },
  {
   "cell_type": "code",
   "execution_count": 25,
   "metadata": {},
   "outputs": [],
   "source": [
    "scaler = StandardScaler()\n",
    "\n",
    "scaler.fit(features_train_final)\n",
    "features_train_final_sc  = scaler.transform(features_train_final)\n",
    "features_test_final_sc = scaler.transform(features_test_final)\n",
    "\n",
    "scaler.fit(features_train_rougher)\n",
    "features_train_rougher_sc = scaler.transform(features_train_rougher)\n",
    "features_test_rougher_sc = scaler.transform(features_test_rougher)"
   ]
  },
  {
   "cell_type": "code",
   "execution_count": 26,
   "metadata": {},
   "outputs": [],
   "source": [
    "# Приведем признаки в формат датафрейма\n",
    "features_train_final_sc   = pd.DataFrame(features_train_final_sc, columns=features_train_final.columns)\n",
    "features_train_rougher_sc = pd.DataFrame(features_train_rougher_sc, columns=features_train_rougher.columns)\n",
    "features_test_final_sc    = pd.DataFrame(features_test_final_sc, columns=features_test_final.columns)\n",
    "features_test_rougher_sc  = pd.DataFrame(features_test_rougher_sc, columns=features_test_rougher.columns)"
   ]
  },
  {
   "cell_type": "markdown",
   "metadata": {},
   "source": [
    "#### Обучим модель линейной регресии"
   ]
  },
  {
   "cell_type": "code",
   "execution_count": 27,
   "metadata": {},
   "outputs": [
    {
     "name": "stdout",
     "output_type": "stream",
     "text": [
      "SMAPE у Линейной регрессии на этапе подготовки сырья к флотации 4.446672653823803\n",
      "SMAPE у Линейной регрессии финальной стадии 7.980864163333403\n",
      "Итоговый SMAPE у Линейной регрессии 7.10\n"
     ]
    }
   ],
   "source": [
    "#LinearRegression\n",
    "model_linear_rougher = LinearRegression()\n",
    "model_linear_final = LinearRegression()\n",
    "\n",
    "model_linear_rougher.fit(features_train_rougher_sc, target_train_rougher)\n",
    "linear_predict_rougher = model_linear_rougher.predict(features_test_rougher_sc)\n",
    "linear_rougher_smape = sMAPE(target_test_rougher, linear_predict_rougher)\n",
    "\n",
    "model_linear_final.fit(features_train_final_sc, target_train_final)\n",
    "linear_predict_final = model_linear_final.predict(features_test_final_sc)\n",
    "linear_final_smape = sMAPE(target_test_final, linear_predict_final)\n",
    "\n",
    "linear_sMAPE = final_sMAPE(linear_rougher_smape, linear_final_smape)\n",
    "\n",
    "print('SMAPE у Линейной регрессии на этапе подготовки сырья к флотации', linear_rougher_smape)\n",
    "print('SMAPE у Линейной регрессии финальной стадии', linear_final_smape)\n",
    "print('Итоговый SMAPE у Линейной регрессии {:.2f}'.format(linear_sMAPE))"
   ]
  },
  {
   "cell_type": "markdown",
   "metadata": {},
   "source": [
    "#### Обучим модель дерева решений"
   ]
  },
  {
   "cell_type": "code",
   "execution_count": 32,
   "metadata": {},
   "outputs": [
    {
     "name": "stdout",
     "output_type": "stream",
     "text": [
      "Подобраны гиперпараметры модели дерева решений на этапе подготовки сырья к флотации :\n",
      "{'max_depth': 5, 'max_features': 4, 'random_state': 12345}\n"
     ]
    }
   ],
   "source": [
    "#DecisionTree, этап подготовки сырья к флотации \n",
    "model_DecisionTree_rougher = DecisionTreeRegressor()\n",
    "\n",
    "tree_params = {'max_depth': range(1,13,2), 'max_features': range(4,15,2),'random_state': [12345]}\n",
    "# Тренируем модель дерева решений перебором вариантов\n",
    "scorer = make_scorer(sMAPE, greater_is_better = False) #NEW\n",
    "\n",
    "grid_search = GridSearchCV(model_DecisionTree_rougher, param_grid=tree_params, scoring=scorer, cv=5)\n",
    "# Подбираем гиперпараметры модели дерева решений\n",
    "grid_search.fit(features_train_rougher_sc, target_train_rougher)\n",
    "print(\"Подобраны гиперпараметры модели дерева решений на этапе подготовки сырья к флотации :\")\n",
    "print(grid_search.best_params_)"
   ]
  },
  {
   "cell_type": "code",
   "execution_count": 33,
   "metadata": {},
   "outputs": [
    {
     "name": "stdout",
     "output_type": "stream",
     "text": [
      "SMAPE у дерева решений на этапе подготовки сырья к флотации 4.396021091965732\n"
     ]
    }
   ],
   "source": [
    "# Тестируем модель дерева решений с найденными оптимальными гиперпараметрами\n",
    "model_DecisionTree_rougher = DecisionTreeRegressor(max_depth=5, max_features = 4, random_state = 12345)\n",
    "model_DecisionTree_rougher.fit(features_train_rougher_sc, target_train_rougher)\n",
    "tree_predict_rougher = model_DecisionTree_rougher.predict(features_test_rougher_sc)\n",
    "tree_rougher_smape = sMAPE(target_test_rougher, tree_predict_rougher)\n",
    "\n",
    "print('SMAPE у дерева решений на этапе подготовки сырья к флотации', tree_rougher_smape)"
   ]
  },
  {
   "cell_type": "code",
   "execution_count": 36,
   "metadata": {},
   "outputs": [
    {
     "name": "stdout",
     "output_type": "stream",
     "text": [
      "Подобраны гиперпараметры дерева решений на финальном этапе:\n",
      "{'max_depth': 1, 'max_features': 14, 'random_state': 12345}\n",
      "CPU times: user 14 s, sys: 7.43 ms, total: 14 s\n",
      "Wall time: 14.1 s\n"
     ]
    }
   ],
   "source": [
    "%%time\n",
    "#DecisionTree, финальный этап\n",
    "model_DecisionTree_final = DecisionTreeRegressor()\n",
    "\n",
    "tree_params = {'max_depth': range(1,13,2), 'max_features': range(4,15,2),'random_state': [12345]}\n",
    "# Тренируем модель дерева решений перебором вариантов\n",
    "scorer = make_scorer(sMAPE, greater_is_better = False) #NEW\n",
    "\n",
    "grid_search = GridSearchCV(model_DecisionTree_final, param_grid=tree_params, scoring=scorer, cv=5)\n",
    "# Подбираем гиперпараметры модели дерева решений\n",
    "grid_search.fit(features_train_final_sc, target_train_final)\n",
    "print(\"Подобраны гиперпараметры дерева решений на финальном этапе:\")\n",
    "print(grid_search.best_params_)"
   ]
  },
  {
   "cell_type": "code",
   "execution_count": 37,
   "metadata": {},
   "outputs": [
    {
     "name": "stdout",
     "output_type": "stream",
     "text": [
      "SMAPE у дерева решений на финальном этапе 7.364559040236079\n"
     ]
    }
   ],
   "source": [
    "# Тестируем модель дерева решений с найденными оптимальными гиперпараметрами\n",
    "model_DecisionTree_final = DecisionTreeRegressor(max_depth=1, max_features = 14, random_state = 12345)\n",
    "model_DecisionTree_final.fit(features_train_final_sc, target_train_final)\n",
    "tree_predict_final = model_DecisionTree_final.predict(features_test_final_sc)\n",
    "tree_final_smape = sMAPE(target_test_final, tree_predict_final)\n",
    "\n",
    "print('SMAPE у дерева решений на финальном этапе', tree_final_smape)"
   ]
  },
  {
   "cell_type": "code",
   "execution_count": 38,
   "metadata": {},
   "outputs": [
    {
     "name": "stdout",
     "output_type": "stream",
     "text": [
      "Итоговый SMAPE у дерева решений 6.62\n"
     ]
    }
   ],
   "source": [
    "tree_sMAPE = final_sMAPE(tree_rougher_smape, tree_final_smape)\n",
    "print('Итоговый SMAPE у дерева решений {:.2f}'.format(tree_sMAPE))"
   ]
  },
  {
   "cell_type": "markdown",
   "metadata": {},
   "source": [
    "#### Обучим модель случайного леса¶"
   ]
  },
  {
   "cell_type": "code",
   "execution_count": 39,
   "metadata": {},
   "outputs": [
    {
     "name": "stdout",
     "output_type": "stream",
     "text": [
      "Подобраны гиперпараметры модели случайного леса на этапе подготовки сырья к флотации:\n",
      "{'max_depth': 5, 'max_features': 8, 'n_estimators': 24, 'random_state': 12345}\n",
      "CPU times: user 1min 2s, sys: 90.8 ms, total: 1min 2s\n",
      "Wall time: 1min 4s\n"
     ]
    }
   ],
   "source": [
    "%%time\n",
    "#RandomForestRegressor, этап подготовки сырья к флотации \n",
    "model_RandomForest_rougher = RandomForestRegressor()\n",
    "\n",
    "forest_params = {'max_depth': range(1,13,4), 'max_features': range(4,15,4)\n",
    "                 , 'n_estimators': range (4, 34, 10),'random_state': [12345]}\n",
    "\n",
    "# Тренируем модель перебором вариантов\n",
    "scorer = make_scorer(sMAPE, greater_is_better = False) #NEW\n",
    "\n",
    "grid_search = GridSearchCV(model_RandomForest_rougher, param_grid=forest_params, scoring = scorer, cv=5)\n",
    "# Подбираем гиперпараметры\n",
    "grid_search.fit(features_train_rougher_sc, target_train_rougher)\n",
    "print(\"Подобраны гиперпараметры модели случайного леса на этапе подготовки сырья к флотации:\")\n",
    "print(grid_search.best_params_)"
   ]
  },
  {
   "cell_type": "code",
   "execution_count": 40,
   "metadata": {},
   "outputs": [
    {
     "name": "stdout",
     "output_type": "stream",
     "text": [
      "SMAPE у случайного леса на этапе подготовки сырья к флотации 3.8857193907762557\n"
     ]
    }
   ],
   "source": [
    "# Тестируем модель с найденными оптимальными гиперпараметрами\n",
    "model_RandomForest_rougher = RandomForestRegressor(max_depth=5, max_features = 8\n",
    "                                                   , n_estimators = 24, random_state = 12345)\n",
    "model_RandomForest_rougher.fit(features_train_rougher_sc, target_train_rougher)\n",
    "forest_predict_rougher = model_RandomForest_rougher.predict(features_test_rougher_sc)\n",
    "forest_rougher_smape = sMAPE(target_test_rougher, forest_predict_rougher)\n",
    "\n",
    "print('SMAPE у случайного леса на этапе подготовки сырья к флотации', forest_rougher_smape)"
   ]
  },
  {
   "cell_type": "code",
   "execution_count": 41,
   "metadata": {},
   "outputs": [
    {
     "name": "stdout",
     "output_type": "stream",
     "text": [
      "Подобраны гиперпараметры модели случайного леса на этапе подготовки сырья к флотации:\n",
      "{'max_depth': 5, 'max_features': 12, 'n_estimators': 24, 'random_state': 12345}\n",
      "CPU times: user 1min 2s, sys: 55.5 ms, total: 1min 2s\n",
      "Wall time: 1min 3s\n"
     ]
    }
   ],
   "source": [
    "%%time\n",
    "#RandomForestRegressor, финальный этап\n",
    "model_RandomForest_final = RandomForestRegressor()\n",
    "\n",
    "forest_params = {'max_depth': range(1,13,4), 'max_features': range(4,15,4)\n",
    "                 , 'n_estimators': range (4, 34, 10),'random_state': [12345]}\n",
    "\n",
    "# Тренируем модель перебором вариантов\n",
    "scorer = make_scorer(sMAPE, greater_is_better = False) #NEW\n",
    "\n",
    "grid_search = GridSearchCV(model_RandomForest_final, param_grid=forest_params, scoring = scorer, cv=5)\n",
    "# Подбираем гиперпараметры\n",
    "grid_search.fit(features_train_final_sc, target_train_final)\n",
    "print(\"Подобраны гиперпараметры модели случайного леса на этапе подготовки сырья к флотации:\")\n",
    "print(grid_search.best_params_)"
   ]
  },
  {
   "cell_type": "code",
   "execution_count": 42,
   "metadata": {},
   "outputs": [
    {
     "name": "stdout",
     "output_type": "stream",
     "text": [
      "SMAPE у случайного леса на фианльном этапе 7.261523273732761\n"
     ]
    }
   ],
   "source": [
    "# Тестируем модель с найденными оптимальными гиперпараметрами\n",
    "model_RandomForest_final = RandomForestRegressor(max_depth=5, max_features = 12\n",
    "                                                   , n_estimators = 24, random_state = 12345)\n",
    "model_RandomForest_final.fit(features_train_final_sc, target_train_final)\n",
    "forest_predict_final = model_RandomForest_final.predict(features_test_final_sc)\n",
    "forest_final_smape = sMAPE(target_test_final, forest_predict_final)\n",
    "\n",
    "print('SMAPE у случайного леса на фианльном этапе', forest_final_smape)"
   ]
  },
  {
   "cell_type": "code",
   "execution_count": 43,
   "metadata": {},
   "outputs": [
    {
     "name": "stdout",
     "output_type": "stream",
     "text": [
      "Итоговый SMAPE у случайного леса 6.42\n"
     ]
    }
   ],
   "source": [
    "forest_sMAPE = final_sMAPE(forest_rougher_smape, forest_final_smape)\n",
    "print('Итоговый SMAPE у случайного леса {:.2f}'.format(forest_sMAPE))"
   ]
  },
  {
   "cell_type": "markdown",
   "metadata": {},
   "source": [
    "#### \"Обучим\" константную модель (dummy)"
   ]
  },
  {
   "cell_type": "code",
   "execution_count": 44,
   "metadata": {},
   "outputs": [
    {
     "name": "stdout",
     "output_type": "stream",
     "text": [
      "SMAPE у константной модели на этапе подготовки сырья к флотации 4.596863432235303\n",
      "SMAPE у константной модели на фианльном этапе 8.119002307073263\n",
      "Итоговый SMAPE у константной модели 7.24\n"
     ]
    }
   ],
   "source": [
    "#DummyRegressor, этап подготовки сырья к флотации\n",
    "model_Dummy = DummyRegressor(strategy=\"median\")\n",
    "\n",
    "model_Dummy.fit(features_train_rougher_sc, target_train_rougher)\n",
    "dummy_predict_rougher = model_Dummy.predict(features_test_rougher_sc)\n",
    "dummy_rougher_smape = sMAPE(target_test_rougher, dummy_predict_rougher)\n",
    "\n",
    "print('SMAPE у константной модели на этапе подготовки сырья к флотации', dummy_rougher_smape)\n",
    "\n",
    "model_Dummy.fit(features_train_final_sc, target_train_final)\n",
    "dummy_predict_final = model_Dummy.predict(features_test_final_sc)\n",
    "dummy_final_smape = sMAPE(target_test_final, dummy_predict_final)\n",
    "\n",
    "print('SMAPE у константной модели на фианльном этапе', dummy_final_smape)\n",
    "\n",
    "dummy_sMAPE = final_sMAPE(dummy_rougher_smape, dummy_final_smape)\n",
    "print('Итоговый SMAPE у константной модели {:.2f}'.format(dummy_sMAPE))"
   ]
  },
  {
   "cell_type": "markdown",
   "metadata": {},
   "source": [
    "#### Сравним итоговые SMAPE всех моделей"
   ]
  },
  {
   "cell_type": "code",
   "execution_count": 45,
   "metadata": {},
   "outputs": [
    {
     "name": "stdout",
     "output_type": "stream",
     "text": [
      "Итоговый SMAPE у линейной модели 7.10\n",
      "Итоговый SMAPE у дерева поиска 6.62\n",
      "Итоговый SMAPE у случайного леса 6.42\n",
      "Итоговый SMAPE у константной модели 7.24\n"
     ]
    }
   ],
   "source": [
    "print('Итоговый SMAPE у линейной модели {:.2f}'.format(linear_sMAPE))\n",
    "print('Итоговый SMAPE у дерева поиска {:.2f}'.format(tree_sMAPE))\n",
    "print('Итоговый SMAPE у случайного леса {:.2f}'.format(forest_sMAPE))\n",
    "print('Итоговый SMAPE у константной модели {:.2f}'.format(dummy_sMAPE))"
   ]
  },
  {
   "cell_type": "markdown",
   "metadata": {},
   "source": []
  },
  {
   "cell_type": "markdown",
   "metadata": {},
   "source": [
    "<div class=\"alert alert-block alert-warning\">\n",
    "<b>Вывод:</b> \n",
    "\n",
    "Посчитав итоговую функцию SMAPE для моделей\n",
    "    \n",
    "- линейной регрессии,\n",
    "    \n",
    "- дерева решений,\n",
    "    \n",
    "- случайного леса,\n",
    "    \n",
    "- константной (dummy с strategy=\"median\")\n",
    "    \n",
    "могу сделать вывод, что лучшее значение получено для модели случайного леса с подобранными с помощью GridSearchCV гиперпараметрами.\n",
    "</div>"
   ]
  },
  {
   "cell_type": "markdown",
   "metadata": {},
   "source": [
    "## Чек-лист готовности проекта"
   ]
  },
  {
   "cell_type": "markdown",
   "metadata": {},
   "source": [
    "- [x]  Jupyter Notebook открыт\n",
    "- [x]  Весь код выполняется без ошибок\n",
    "- [x]  Ячейки с кодом расположены в порядке выполнения\n",
    "- [x]  Выполнен шаг 1: данные подготовлены\n",
    "    - [x]  Проверена формула вычисления эффективности обогащения\n",
    "    - [x]  Проанализированы признаки, недоступные в тестовой выборке\n",
    "    - [x]  Проведена предобработка данных\n",
    "- [x]  Выполнен шаг 2: данные проанализированы\n",
    "    - [x]  Исследовано изменение концентрации элементов на каждом этапе\n",
    "    - [x]  Проанализированы распределения размеров гранул на обучающей и тестовой выборках\n",
    "    - [x]  Исследованы суммарные концентрации\n",
    "- [x]  Выполнен шаг 3: построена модель прогнозирования\n",
    "    - [x]  Написана функция для вычисления итогового *sMAPE*\n",
    "    - [x]  Обучено и проверено несколько моделей\n",
    "    - [x]  Выбрана лучшая модель, её качество проверено на тестовой выборке"
   ]
  }
 ],
 "metadata": {
  "ExecuteTimeLog": [
   {
    "duration": 303,
    "start_time": "2021-12-30T12:28:35.523Z"
   },
   {
    "duration": 1222,
    "start_time": "2021-12-30T12:28:43.128Z"
   },
   {
    "duration": 2129,
    "start_time": "2021-12-30T12:28:44.352Z"
   },
   {
    "duration": -149,
    "start_time": "2021-12-30T12:28:46.631Z"
   },
   {
    "duration": 2372,
    "start_time": "2021-12-30T12:29:27.751Z"
   },
   {
    "duration": 50,
    "start_time": "2021-12-30T12:29:31.942Z"
   },
   {
    "duration": 576,
    "start_time": "2021-12-30T12:31:03.344Z"
   },
   {
    "duration": 602,
    "start_time": "2021-12-30T12:32:17.339Z"
   },
   {
    "duration": 184,
    "start_time": "2021-12-30T12:53:06.573Z"
   },
   {
    "duration": 7,
    "start_time": "2021-12-30T12:59:34.849Z"
   },
   {
    "duration": 11,
    "start_time": "2021-12-30T12:59:52.731Z"
   },
   {
    "duration": 94,
    "start_time": "2021-12-30T13:00:48.517Z"
   },
   {
    "duration": 105,
    "start_time": "2021-12-30T13:00:58.496Z"
   },
   {
    "duration": 103,
    "start_time": "2021-12-30T13:01:12.068Z"
   },
   {
    "duration": 119,
    "start_time": "2021-12-30T13:01:27.016Z"
   },
   {
    "duration": 103,
    "start_time": "2021-12-30T13:01:39.542Z"
   },
   {
    "duration": 13,
    "start_time": "2021-12-30T13:01:55.072Z"
   },
   {
    "duration": 11,
    "start_time": "2021-12-30T13:02:07.306Z"
   },
   {
    "duration": 18,
    "start_time": "2021-12-30T13:02:26.629Z"
   },
   {
    "duration": 23,
    "start_time": "2021-12-30T13:02:50.396Z"
   },
   {
    "duration": 23,
    "start_time": "2021-12-30T13:02:59.531Z"
   },
   {
    "duration": 103,
    "start_time": "2021-12-30T13:03:24.723Z"
   },
   {
    "duration": 23,
    "start_time": "2021-12-30T13:03:33.457Z"
   },
   {
    "duration": 24,
    "start_time": "2021-12-30T13:04:33.919Z"
   },
   {
    "duration": 25,
    "start_time": "2021-12-30T13:04:42.105Z"
   },
   {
    "duration": 23,
    "start_time": "2021-12-30T13:05:22.048Z"
   },
   {
    "duration": 23,
    "start_time": "2021-12-30T13:05:37.731Z"
   },
   {
    "duration": 40,
    "start_time": "2021-12-30T13:08:02.443Z"
   },
   {
    "duration": 67,
    "start_time": "2021-12-30T13:10:06.405Z"
   },
   {
    "duration": 63,
    "start_time": "2021-12-30T13:10:42.130Z"
   },
   {
    "duration": 65,
    "start_time": "2021-12-30T13:11:29.405Z"
   },
   {
    "duration": 21,
    "start_time": "2021-12-30T13:20:09.676Z"
   },
   {
    "duration": 66,
    "start_time": "2021-12-30T13:20:30.284Z"
   },
   {
    "duration": 74,
    "start_time": "2021-12-30T13:21:00.291Z"
   },
   {
    "duration": 22,
    "start_time": "2021-12-30T13:21:14.071Z"
   },
   {
    "duration": 21,
    "start_time": "2021-12-30T13:21:23.468Z"
   },
   {
    "duration": 140,
    "start_time": "2021-12-30T13:22:03.291Z"
   },
   {
    "duration": 124,
    "start_time": "2021-12-30T13:22:06.212Z"
   },
   {
    "duration": 138,
    "start_time": "2021-12-30T13:22:26.979Z"
   },
   {
    "duration": 3,
    "start_time": "2021-12-30T13:25:43.085Z"
   },
   {
    "duration": 1248,
    "start_time": "2021-12-30T13:25:44.340Z"
   },
   {
    "duration": 15,
    "start_time": "2021-12-30T13:27:07.942Z"
   },
   {
    "duration": 3,
    "start_time": "2021-12-30T13:49:40.288Z"
   },
   {
    "duration": 1330,
    "start_time": "2021-12-30T13:49:41.855Z"
   },
   {
    "duration": 63,
    "start_time": "2021-12-30T13:49:45.553Z"
   },
   {
    "duration": 20,
    "start_time": "2021-12-30T13:49:47.704Z"
   },
   {
    "duration": 24,
    "start_time": "2021-12-30T13:49:48.366Z"
   },
   {
    "duration": 139,
    "start_time": "2021-12-30T13:49:50.244Z"
   },
   {
    "duration": 16,
    "start_time": "2021-12-30T13:49:52.408Z"
   },
   {
    "duration": 117,
    "start_time": "2021-12-30T13:49:55.131Z"
   },
   {
    "duration": 371,
    "start_time": "2021-12-30T13:50:07.852Z"
   },
   {
    "duration": 493,
    "start_time": "2021-12-30T13:50:27.519Z"
   },
   {
    "duration": 368,
    "start_time": "2021-12-30T13:51:41.700Z"
   },
   {
    "duration": 114,
    "start_time": "2021-12-30T13:51:54.508Z"
   },
   {
    "duration": 274,
    "start_time": "2021-12-30T13:52:15.488Z"
   },
   {
    "duration": 3,
    "start_time": "2021-12-30T13:52:29.067Z"
   },
   {
    "duration": 4,
    "start_time": "2021-12-30T13:52:42.787Z"
   },
   {
    "duration": 4,
    "start_time": "2021-12-30T13:52:50.574Z"
   },
   {
    "duration": 4,
    "start_time": "2021-12-30T14:07:42.122Z"
   },
   {
    "duration": 330,
    "start_time": "2021-12-30T14:13:40.102Z"
   },
   {
    "duration": 3,
    "start_time": "2021-12-30T14:14:38.976Z"
   },
   {
    "duration": 298,
    "start_time": "2021-12-30T14:16:54.521Z"
   },
   {
    "duration": 2,
    "start_time": "2021-12-30T14:18:00.763Z"
   },
   {
    "duration": 1234,
    "start_time": "2021-12-30T14:18:02.036Z"
   },
   {
    "duration": 62,
    "start_time": "2021-12-30T14:18:05.793Z"
   },
   {
    "duration": 16,
    "start_time": "2021-12-30T14:18:07.490Z"
   },
   {
    "duration": 20,
    "start_time": "2021-12-30T14:18:08.246Z"
   },
   {
    "duration": 127,
    "start_time": "2021-12-30T14:18:10.172Z"
   },
   {
    "duration": 14,
    "start_time": "2021-12-30T14:18:12.042Z"
   },
   {
    "duration": 4,
    "start_time": "2021-12-30T14:18:13.241Z"
   },
   {
    "duration": 5,
    "start_time": "2021-12-30T14:18:14.083Z"
   },
   {
    "duration": 6,
    "start_time": "2021-12-30T14:18:15.737Z"
   },
   {
    "duration": 254,
    "start_time": "2021-12-30T14:41:51.202Z"
   },
   {
    "duration": 169,
    "start_time": "2021-12-30T14:47:27.924Z"
   },
   {
    "duration": 223,
    "start_time": "2021-12-30T14:48:30.511Z"
   },
   {
    "duration": 220,
    "start_time": "2021-12-30T14:48:48.484Z"
   },
   {
    "duration": 227,
    "start_time": "2021-12-30T14:49:18.542Z"
   },
   {
    "duration": 746,
    "start_time": "2021-12-30T14:50:03.043Z"
   },
   {
    "duration": 225,
    "start_time": "2021-12-30T14:51:01.699Z"
   },
   {
    "duration": 654,
    "start_time": "2021-12-30T14:52:16.706Z"
   },
   {
    "duration": 91,
    "start_time": "2021-12-30T14:57:58.457Z"
   },
   {
    "duration": 583,
    "start_time": "2021-12-30T14:58:06.057Z"
   },
   {
    "duration": 653,
    "start_time": "2021-12-30T14:59:21.551Z"
   },
   {
    "duration": 586,
    "start_time": "2021-12-30T15:00:22.141Z"
   },
   {
    "duration": 689,
    "start_time": "2021-12-30T15:00:35.575Z"
   },
   {
    "duration": 479,
    "start_time": "2021-12-30T15:02:33.890Z"
   },
   {
    "duration": 308,
    "start_time": "2021-12-30T15:02:58.929Z"
   },
   {
    "duration": 329,
    "start_time": "2021-12-30T15:04:33.584Z"
   },
   {
    "duration": 302,
    "start_time": "2021-12-30T15:05:01.059Z"
   },
   {
    "duration": 412,
    "start_time": "2021-12-30T15:05:26.510Z"
   },
   {
    "duration": 315,
    "start_time": "2021-12-30T15:05:38.146Z"
   },
   {
    "duration": 369,
    "start_time": "2021-12-30T15:06:33.415Z"
   },
   {
    "duration": 388,
    "start_time": "2021-12-30T15:06:45.711Z"
   },
   {
    "duration": 376,
    "start_time": "2021-12-30T15:07:01.094Z"
   },
   {
    "duration": 312,
    "start_time": "2021-12-30T15:07:14.368Z"
   },
   {
    "duration": 429,
    "start_time": "2021-12-30T15:07:27.626Z"
   },
   {
    "duration": 907,
    "start_time": "2021-12-30T15:09:21.136Z"
   },
   {
    "duration": 304,
    "start_time": "2021-12-30T15:11:05.004Z"
   },
   {
    "duration": 1037,
    "start_time": "2021-12-30T15:11:20.358Z"
   },
   {
    "duration": 173,
    "start_time": "2021-12-30T15:14:20.075Z"
   },
   {
    "duration": 413,
    "start_time": "2021-12-31T10:13:14.567Z"
   },
   {
    "duration": 1435,
    "start_time": "2021-12-31T10:13:31.939Z"
   },
   {
    "duration": 2022,
    "start_time": "2021-12-31T10:13:33.377Z"
   },
   {
    "duration": 137,
    "start_time": "2021-12-31T10:13:35.888Z"
   },
   {
    "duration": 28,
    "start_time": "2021-12-31T10:13:37.312Z"
   },
   {
    "duration": 31,
    "start_time": "2021-12-31T10:13:37.872Z"
   },
   {
    "duration": 239,
    "start_time": "2021-12-31T10:13:39.847Z"
   },
   {
    "duration": 25,
    "start_time": "2021-12-31T10:13:41.423Z"
   },
   {
    "duration": 7,
    "start_time": "2021-12-31T10:13:42.607Z"
   },
   {
    "duration": 7,
    "start_time": "2021-12-31T10:13:43.239Z"
   },
   {
    "duration": 14,
    "start_time": "2021-12-31T10:13:44.604Z"
   },
   {
    "duration": 1826,
    "start_time": "2021-12-31T10:13:47.167Z"
   },
   {
    "duration": 445,
    "start_time": "2021-12-31T10:13:49.480Z"
   },
   {
    "duration": 512,
    "start_time": "2021-12-31T10:14:43.068Z"
   },
   {
    "duration": 493,
    "start_time": "2021-12-31T10:14:50.388Z"
   },
   {
    "duration": 871,
    "start_time": "2021-12-31T10:17:35.458Z"
   },
   {
    "duration": 4,
    "start_time": "2021-12-31T10:18:25.729Z"
   },
   {
    "duration": 488,
    "start_time": "2021-12-31T10:18:32.000Z"
   },
   {
    "duration": 512,
    "start_time": "2021-12-31T10:28:37.797Z"
   },
   {
    "duration": 602,
    "start_time": "2021-12-31T10:30:19.474Z"
   },
   {
    "duration": 486,
    "start_time": "2021-12-31T10:31:52.616Z"
   },
   {
    "duration": 472,
    "start_time": "2021-12-31T10:33:18.908Z"
   },
   {
    "duration": 549,
    "start_time": "2021-12-31T10:33:30.627Z"
   },
   {
    "duration": 558,
    "start_time": "2021-12-31T10:33:47.904Z"
   },
   {
    "duration": 568,
    "start_time": "2021-12-31T10:37:20.374Z"
   },
   {
    "duration": 559,
    "start_time": "2021-12-31T10:37:36.188Z"
   },
   {
    "duration": 545,
    "start_time": "2021-12-31T10:40:16.485Z"
   },
   {
    "duration": 596,
    "start_time": "2021-12-31T10:41:59.463Z"
   },
   {
    "duration": 539,
    "start_time": "2021-12-31T10:45:52.395Z"
   },
   {
    "duration": 159,
    "start_time": "2021-12-31T12:07:38.135Z"
   },
   {
    "duration": 664,
    "start_time": "2021-12-31T12:08:36.496Z"
   },
   {
    "duration": 740,
    "start_time": "2021-12-31T12:08:45.194Z"
   },
   {
    "duration": 3,
    "start_time": "2021-12-31T12:10:40.184Z"
   },
   {
    "duration": 368,
    "start_time": "2022-01-01T22:50:10.995Z"
   },
   {
    "duration": 1442,
    "start_time": "2022-01-01T22:50:28.331Z"
   },
   {
    "duration": 1948,
    "start_time": "2022-01-01T22:50:29.776Z"
   },
   {
    "duration": 132,
    "start_time": "2022-01-01T22:50:31.726Z"
   },
   {
    "duration": 30,
    "start_time": "2022-01-01T22:50:32.632Z"
   },
   {
    "duration": 33,
    "start_time": "2022-01-01T22:50:33.346Z"
   },
   {
    "duration": 247,
    "start_time": "2022-01-01T22:50:35.838Z"
   },
   {
    "duration": 21,
    "start_time": "2022-01-01T22:50:40.749Z"
   },
   {
    "duration": 6,
    "start_time": "2022-01-01T22:50:44.194Z"
   },
   {
    "duration": 6,
    "start_time": "2022-01-01T22:50:46.750Z"
   },
   {
    "duration": 16,
    "start_time": "2022-01-01T22:50:48.882Z"
   },
   {
    "duration": 1810,
    "start_time": "2022-01-01T22:50:54.135Z"
   },
   {
    "duration": 586,
    "start_time": "2022-01-01T22:51:04.076Z"
   },
   {
    "duration": 522,
    "start_time": "2022-01-01T22:51:10.984Z"
   },
   {
    "duration": 701,
    "start_time": "2022-01-01T22:51:19.503Z"
   },
   {
    "duration": 5,
    "start_time": "2022-01-01T22:51:24.290Z"
   },
   {
    "duration": 397,
    "start_time": "2022-01-01T22:51:29.458Z"
   },
   {
    "duration": 326,
    "start_time": "2022-01-01T22:51:51.278Z"
   },
   {
    "duration": 354,
    "start_time": "2022-01-01T22:52:59.472Z"
   },
   {
    "duration": 99,
    "start_time": "2022-01-01T22:53:28.024Z"
   },
   {
    "duration": 329,
    "start_time": "2022-01-01T22:53:35.203Z"
   },
   {
    "duration": 14,
    "start_time": "2022-01-01T22:53:47.558Z"
   },
   {
    "duration": 12,
    "start_time": "2022-01-01T22:54:51.517Z"
   },
   {
    "duration": 8761,
    "start_time": "2022-01-01T22:58:11.052Z"
   },
   {
    "duration": 12,
    "start_time": "2022-01-01T22:58:41.418Z"
   },
   {
    "duration": 360,
    "start_time": "2022-01-02T22:43:08.506Z"
   },
   {
    "duration": 1497,
    "start_time": "2022-01-02T22:44:17.219Z"
   },
   {
    "duration": 412,
    "start_time": "2022-01-02T22:44:30.976Z"
   },
   {
    "duration": 1980,
    "start_time": "2022-01-02T22:44:48.427Z"
   },
   {
    "duration": 116,
    "start_time": "2022-01-02T22:44:53.017Z"
   },
   {
    "duration": 28,
    "start_time": "2022-01-02T22:44:54.795Z"
   },
   {
    "duration": 35,
    "start_time": "2022-01-02T22:44:55.517Z"
   },
   {
    "duration": 259,
    "start_time": "2022-01-02T22:44:58.030Z"
   },
   {
    "duration": 21,
    "start_time": "2022-01-02T22:44:59.974Z"
   },
   {
    "duration": 6,
    "start_time": "2022-01-02T22:45:01.201Z"
   },
   {
    "duration": 7,
    "start_time": "2022-01-02T22:45:02.883Z"
   },
   {
    "duration": 14,
    "start_time": "2022-01-02T22:45:04.573Z"
   },
   {
    "duration": 1956,
    "start_time": "2022-01-02T22:45:06.800Z"
   },
   {
    "duration": 600,
    "start_time": "2022-01-02T22:45:09.919Z"
   },
   {
    "duration": 561,
    "start_time": "2022-01-02T22:45:10.962Z"
   },
   {
    "duration": 748,
    "start_time": "2022-01-02T22:45:14.175Z"
   },
   {
    "duration": 5,
    "start_time": "2022-01-02T22:45:17.929Z"
   },
   {
    "duration": 14,
    "start_time": "2022-01-02T22:45:20.656Z"
   },
   {
    "duration": 36,
    "start_time": "2022-01-02T22:45:25.200Z"
   },
   {
    "duration": 14,
    "start_time": "2022-01-02T22:46:20.085Z"
   },
   {
    "duration": 31,
    "start_time": "2022-01-02T22:54:42.722Z"
   },
   {
    "duration": 436,
    "start_time": "2022-01-02T23:05:26.928Z"
   },
   {
    "duration": 422,
    "start_time": "2022-01-02T23:06:10.764Z"
   },
   {
    "duration": 474,
    "start_time": "2022-01-02T23:06:40.804Z"
   },
   {
    "duration": 13,
    "start_time": "2022-01-02T23:07:49.037Z"
   },
   {
    "duration": 28,
    "start_time": "2022-01-02T23:07:52.123Z"
   },
   {
    "duration": 949,
    "start_time": "2022-01-02T23:07:52.952Z"
   },
   {
    "duration": 6,
    "start_time": "2022-01-02T23:10:39.956Z"
   },
   {
    "duration": 13,
    "start_time": "2022-01-02T23:10:41.667Z"
   },
   {
    "duration": 29,
    "start_time": "2022-01-02T23:10:43.152Z"
   },
   {
    "duration": 831,
    "start_time": "2022-01-02T23:10:46.864Z"
   },
   {
    "duration": 5,
    "start_time": "2022-01-02T23:11:18.160Z"
   },
   {
    "duration": 881,
    "start_time": "2022-01-02T23:11:22.290Z"
   },
   {
    "duration": 5,
    "start_time": "2022-01-02T23:13:29.705Z"
   },
   {
    "duration": 739,
    "start_time": "2022-01-02T23:13:36.443Z"
   },
   {
    "duration": 5,
    "start_time": "2022-01-02T23:14:29.912Z"
   },
   {
    "duration": 33480,
    "start_time": "2022-01-02T23:14:36.155Z"
   },
   {
    "duration": 5,
    "start_time": "2022-01-02T23:17:49.455Z"
   },
   {
    "duration": 837,
    "start_time": "2022-01-02T23:17:55.562Z"
   },
   {
    "duration": 1011,
    "start_time": "2022-01-02T23:20:58.970Z"
   },
   {
    "duration": 410,
    "start_time": "2022-01-04T19:50:32.649Z"
   },
   {
    "duration": 1417,
    "start_time": "2022-01-04T19:50:42.172Z"
   },
   {
    "duration": 1868,
    "start_time": "2022-01-04T19:50:44.521Z"
   },
   {
    "duration": 148,
    "start_time": "2022-01-04T19:50:46.392Z"
   },
   {
    "duration": 28,
    "start_time": "2022-01-04T19:50:47.211Z"
   },
   {
    "duration": 34,
    "start_time": "2022-01-04T19:50:47.751Z"
   },
   {
    "duration": 232,
    "start_time": "2022-01-04T19:50:48.613Z"
   },
   {
    "duration": 20,
    "start_time": "2022-01-04T19:50:49.243Z"
   },
   {
    "duration": 6,
    "start_time": "2022-01-04T19:50:49.640Z"
   },
   {
    "duration": 6,
    "start_time": "2022-01-04T19:50:50.025Z"
   },
   {
    "duration": 14,
    "start_time": "2022-01-04T19:50:51.404Z"
   },
   {
    "duration": 1723,
    "start_time": "2022-01-04T19:50:53.204Z"
   },
   {
    "duration": 577,
    "start_time": "2022-01-04T19:50:54.930Z"
   },
   {
    "duration": 546,
    "start_time": "2022-01-04T19:50:55.510Z"
   },
   {
    "duration": 677,
    "start_time": "2022-01-04T19:50:56.058Z"
   },
   {
    "duration": 6,
    "start_time": "2022-01-04T19:50:56.738Z"
   },
   {
    "duration": 8289,
    "start_time": "2022-01-04T19:50:56.748Z"
   },
   {
    "duration": -30,
    "start_time": "2022-01-04T19:51:05.069Z"
   },
   {
    "duration": 369,
    "start_time": "2022-01-04T19:56:20.220Z"
   },
   {
    "duration": 11,
    "start_time": "2022-01-04T19:56:25.828Z"
   },
   {
    "duration": 7,
    "start_time": "2022-01-04T19:56:33.098Z"
   },
   {
    "duration": 7,
    "start_time": "2022-01-04T19:56:35.020Z"
   },
   {
    "duration": 9,
    "start_time": "2022-01-04T19:56:36.911Z"
   },
   {
    "duration": 1949,
    "start_time": "2022-01-04T19:56:39.997Z"
   },
   {
    "duration": 512,
    "start_time": "2022-01-04T19:56:43.352Z"
   },
   {
    "duration": 527,
    "start_time": "2022-01-04T19:56:43.901Z"
   },
   {
    "duration": 675,
    "start_time": "2022-01-04T19:56:45.041Z"
   },
   {
    "duration": 5,
    "start_time": "2022-01-04T19:56:48.233Z"
   },
   {
    "duration": 255,
    "start_time": "2022-01-05T12:51:48.827Z"
   },
   {
    "duration": 1192,
    "start_time": "2022-01-05T12:52:00.840Z"
   },
   {
    "duration": 1334,
    "start_time": "2022-01-05T12:52:03.636Z"
   },
   {
    "duration": 71,
    "start_time": "2022-01-05T12:52:05.887Z"
   },
   {
    "duration": 25,
    "start_time": "2022-01-05T12:52:07.421Z"
   },
   {
    "duration": 26,
    "start_time": "2022-01-05T12:52:08.017Z"
   },
   {
    "duration": 202,
    "start_time": "2022-01-05T12:52:09.690Z"
   },
   {
    "duration": 15,
    "start_time": "2022-01-05T12:52:11.397Z"
   },
   {
    "duration": 5,
    "start_time": "2022-01-05T12:52:13.298Z"
   },
   {
    "duration": 4,
    "start_time": "2022-01-05T12:52:14.864Z"
   },
   {
    "duration": 11,
    "start_time": "2022-01-05T12:52:17.385Z"
   },
   {
    "duration": 1082,
    "start_time": "2022-01-05T12:52:22.260Z"
   },
   {
    "duration": 363,
    "start_time": "2022-01-05T12:52:26.074Z"
   },
   {
    "duration": 320,
    "start_time": "2022-01-05T12:52:27.700Z"
   },
   {
    "duration": 421,
    "start_time": "2022-01-05T12:52:31.739Z"
   },
   {
    "duration": 3,
    "start_time": "2022-01-05T12:52:41.282Z"
   },
   {
    "duration": 5691,
    "start_time": "2022-01-05T12:52:44.278Z"
   },
   {
    "duration": 4,
    "start_time": "2022-01-05T12:53:20.566Z"
   },
   {
    "duration": 1338,
    "start_time": "2022-01-05T12:53:22.208Z"
   },
   {
    "duration": 75,
    "start_time": "2022-01-05T12:53:24.896Z"
   },
   {
    "duration": 19,
    "start_time": "2022-01-05T12:53:26.391Z"
   },
   {
    "duration": 24,
    "start_time": "2022-01-05T12:53:27.789Z"
   },
   {
    "duration": 308,
    "start_time": "2022-01-05T12:53:30.163Z"
   },
   {
    "duration": 16,
    "start_time": "2022-01-05T12:53:32.356Z"
   },
   {
    "duration": 5,
    "start_time": "2022-01-05T12:53:34.643Z"
   },
   {
    "duration": 4,
    "start_time": "2022-01-05T12:53:36.050Z"
   },
   {
    "duration": 6,
    "start_time": "2022-01-05T12:53:38.165Z"
   },
   {
    "duration": 1127,
    "start_time": "2022-01-05T12:53:44.266Z"
   },
   {
    "duration": 301,
    "start_time": "2022-01-05T12:54:02.301Z"
   },
   {
    "duration": 323,
    "start_time": "2022-01-05T12:54:03.761Z"
   },
   {
    "duration": 513,
    "start_time": "2022-01-05T12:54:06.393Z"
   },
   {
    "duration": 3,
    "start_time": "2022-01-05T12:54:10.119Z"
   },
   {
    "duration": 5404,
    "start_time": "2022-01-05T12:54:12.440Z"
   },
   {
    "duration": 5172,
    "start_time": "2022-01-05T12:54:28.832Z"
   },
   {
    "duration": 10,
    "start_time": "2022-01-05T12:54:39.573Z"
   },
   {
    "duration": 5633,
    "start_time": "2022-01-05T12:54:58.594Z"
   },
   {
    "duration": 4977,
    "start_time": "2022-01-05T12:55:25.018Z"
   },
   {
    "duration": 17,
    "start_time": "2022-01-05T12:56:35.461Z"
   },
   {
    "duration": 214,
    "start_time": "2022-01-05T12:57:03.637Z"
   },
   {
    "duration": 255,
    "start_time": "2022-01-05T12:57:21.556Z"
   },
   {
    "duration": 18,
    "start_time": "2022-01-05T12:57:34.320Z"
   },
   {
    "duration": 5126,
    "start_time": "2022-01-05T12:57:40.898Z"
   },
   {
    "duration": -88,
    "start_time": "2022-01-05T12:57:46.114Z"
   },
   {
    "duration": 320,
    "start_time": "2022-01-05T12:57:49.175Z"
   },
   {
    "duration": 6252,
    "start_time": "2022-01-05T12:58:05.224Z"
   },
   {
    "duration": 17,
    "start_time": "2022-01-05T12:58:33.843Z"
   },
   {
    "duration": 30,
    "start_time": "2022-01-05T12:58:39.091Z"
   },
   {
    "duration": 195,
    "start_time": "2022-01-05T12:58:40.767Z"
   },
   {
    "duration": 16,
    "start_time": "2022-01-05T13:00:37.180Z"
   },
   {
    "duration": 24,
    "start_time": "2022-01-05T13:00:39.616Z"
   },
   {
    "duration": 202,
    "start_time": "2022-01-05T13:00:40.160Z"
   },
   {
    "duration": 18,
    "start_time": "2022-01-05T13:11:00.082Z"
   },
   {
    "duration": 19,
    "start_time": "2022-01-05T13:11:37.503Z"
   },
   {
    "duration": 20,
    "start_time": "2022-01-05T13:24:36.023Z"
   },
   {
    "duration": 22,
    "start_time": "2022-01-05T13:25:40.224Z"
   },
   {
    "duration": 291,
    "start_time": "2022-01-05T13:26:43.136Z"
   },
   {
    "duration": 26,
    "start_time": "2022-01-05T13:27:10.127Z"
   },
   {
    "duration": 30,
    "start_time": "2022-01-05T13:28:47.567Z"
   },
   {
    "duration": 210,
    "start_time": "2022-01-05T14:16:54.160Z"
   },
   {
    "duration": 29,
    "start_time": "2022-01-05T14:17:58.829Z"
   },
   {
    "duration": 370,
    "start_time": "2022-01-05T14:20:00.920Z"
   },
   {
    "duration": 3,
    "start_time": "2022-01-05T14:20:15.373Z"
   },
   {
    "duration": 269,
    "start_time": "2022-01-05T14:20:18.910Z"
   },
   {
    "duration": 28,
    "start_time": "2022-01-05T15:55:16.821Z"
   },
   {
    "duration": 26,
    "start_time": "2022-01-05T15:55:20.408Z"
   },
   {
    "duration": 33,
    "start_time": "2022-01-05T15:55:23.848Z"
   },
   {
    "duration": 6,
    "start_time": "2022-01-05T15:55:26.665Z"
   },
   {
    "duration": 442,
    "start_time": "2022-01-05T15:56:43.204Z"
   },
   {
    "duration": 267,
    "start_time": "2022-01-05T15:56:54.696Z"
   },
   {
    "duration": 219,
    "start_time": "2022-01-05T15:58:49.356Z"
   },
   {
    "duration": 567,
    "start_time": "2022-01-05T15:59:17.499Z"
   },
   {
    "duration": 459,
    "start_time": "2022-01-05T16:01:53.302Z"
   },
   {
    "duration": 3,
    "start_time": "2022-01-05T16:03:23.141Z"
   },
   {
    "duration": 22,
    "start_time": "2022-01-05T16:03:25.872Z"
   },
   {
    "duration": 36,
    "start_time": "2022-01-05T16:03:27.417Z"
   },
   {
    "duration": 4,
    "start_time": "2022-01-05T16:03:28.064Z"
   },
   {
    "duration": 255,
    "start_time": "2022-01-05T16:03:29.107Z"
   },
   {
    "duration": 678,
    "start_time": "2022-01-05T16:04:06.319Z"
   },
   {
    "duration": 546,
    "start_time": "2022-01-05T16:04:31.821Z"
   },
   {
    "duration": 363,
    "start_time": "2022-01-05T16:06:49.513Z"
   },
   {
    "duration": 823,
    "start_time": "2022-01-05T16:08:58.000Z"
   },
   {
    "duration": 32,
    "start_time": "2022-01-05T16:08:58.792Z"
   },
   {
    "duration": 31,
    "start_time": "2022-01-05T16:09:15.282Z"
   },
   {
    "duration": 245,
    "start_time": "2022-01-05T16:09:26.535Z"
   },
   {
    "duration": 222,
    "start_time": "2022-01-05T16:09:33.801Z"
   },
   {
    "duration": 30,
    "start_time": "2022-01-05T16:09:40.370Z"
   },
   {
    "duration": 4,
    "start_time": "2022-01-05T16:09:42.371Z"
   },
   {
    "duration": 26,
    "start_time": "2022-01-05T16:10:04.316Z"
   },
   {
    "duration": 26,
    "start_time": "2022-01-05T16:10:08.162Z"
   },
   {
    "duration": 4,
    "start_time": "2022-01-05T16:10:08.853Z"
   },
   {
    "duration": 354,
    "start_time": "2022-01-05T16:10:10.114Z"
   },
   {
    "duration": 262,
    "start_time": "2022-01-05T16:27:27.096Z"
   },
   {
    "duration": 228,
    "start_time": "2022-01-05T16:28:45.067Z"
   },
   {
    "duration": 235,
    "start_time": "2022-01-05T16:29:30.303Z"
   },
   {
    "duration": 236,
    "start_time": "2022-01-05T16:30:36.987Z"
   },
   {
    "duration": 6,
    "start_time": "2022-01-05T16:32:20.679Z"
   },
   {
    "duration": 8,
    "start_time": "2022-01-05T16:32:33.431Z"
   },
   {
    "duration": 13,
    "start_time": "2022-01-05T16:32:43.405Z"
   },
   {
    "duration": 256,
    "start_time": "2022-01-05T16:33:08.888Z"
   },
   {
    "duration": 16,
    "start_time": "2022-01-05T16:33:46.068Z"
   },
   {
    "duration": 228,
    "start_time": "2022-01-05T16:34:03.508Z"
   },
   {
    "duration": 20,
    "start_time": "2022-01-05T16:34:58.326Z"
   },
   {
    "duration": 36,
    "start_time": "2022-01-05T16:36:09.034Z"
   },
   {
    "duration": 25,
    "start_time": "2022-01-05T16:36:15.354Z"
   },
   {
    "duration": 25,
    "start_time": "2022-01-05T16:36:36.520Z"
   },
   {
    "duration": 1207,
    "start_time": "2022-01-05T16:37:01.824Z"
   },
   {
    "duration": 68,
    "start_time": "2022-01-05T16:39:34.291Z"
   },
   {
    "duration": 116,
    "start_time": "2022-01-05T16:40:02.144Z"
   },
   {
    "duration": 71,
    "start_time": "2022-01-05T16:42:45.180Z"
   },
   {
    "duration": 165,
    "start_time": "2022-01-05T16:42:53.090Z"
   },
   {
    "duration": 72,
    "start_time": "2022-01-05T16:43:48.957Z"
   },
   {
    "duration": 67,
    "start_time": "2022-01-05T16:45:12.587Z"
   },
   {
    "duration": 5796,
    "start_time": "2022-01-05T16:45:20.933Z"
   },
   {
    "duration": 1235,
    "start_time": "2022-01-05T16:45:42.358Z"
   },
   {
    "duration": 1175,
    "start_time": "2022-01-05T16:46:29.051Z"
   },
   {
    "duration": 309,
    "start_time": "2022-01-05T16:46:33.125Z"
   },
   {
    "duration": 312,
    "start_time": "2022-01-05T16:46:34.538Z"
   },
   {
    "duration": 505,
    "start_time": "2022-01-05T16:46:36.645Z"
   },
   {
    "duration": 5328,
    "start_time": "2022-01-05T16:46:41.002Z"
   },
   {
    "duration": 66,
    "start_time": "2022-01-05T16:46:46.267Z"
   },
   {
    "duration": 65,
    "start_time": "2022-01-05T16:46:46.269Z"
   },
   {
    "duration": 25,
    "start_time": "2022-01-05T16:46:46.625Z"
   },
   {
    "duration": 5,
    "start_time": "2022-01-05T16:46:47.300Z"
   },
   {
    "duration": 296,
    "start_time": "2022-01-05T16:46:48.573Z"
   },
   {
    "duration": 34,
    "start_time": "2022-01-05T16:49:37.243Z"
   },
   {
    "duration": 3,
    "start_time": "2022-01-05T16:49:42.882Z"
   },
   {
    "duration": 43,
    "start_time": "2022-01-05T16:51:45.200Z"
   },
   {
    "duration": 28,
    "start_time": "2022-01-05T16:51:49.324Z"
   },
   {
    "duration": 5,
    "start_time": "2022-01-05T16:51:50.700Z"
   },
   {
    "duration": 208,
    "start_time": "2022-01-05T16:51:51.823Z"
   },
   {
    "duration": 48,
    "start_time": "2022-01-05T16:55:12.545Z"
   },
   {
    "duration": 17,
    "start_time": "2022-01-05T16:57:16.798Z"
   },
   {
    "duration": 27,
    "start_time": "2022-01-05T16:57:21.288Z"
   },
   {
    "duration": 4,
    "start_time": "2022-01-05T16:57:21.860Z"
   },
   {
    "duration": 213,
    "start_time": "2022-01-05T16:57:22.705Z"
   },
   {
    "duration": 29,
    "start_time": "2022-01-05T16:58:23.772Z"
   },
   {
    "duration": 61,
    "start_time": "2022-01-05T16:59:19.482Z"
   },
   {
    "duration": 306,
    "start_time": "2022-01-05T16:59:50.268Z"
   },
   {
    "duration": 49,
    "start_time": "2022-01-05T17:00:55.676Z"
   },
   {
    "duration": 4,
    "start_time": "2022-01-05T17:01:00.175Z"
   },
   {
    "duration": 237,
    "start_time": "2022-01-05T17:01:02.092Z"
   },
   {
    "duration": 272,
    "start_time": "2022-01-05T17:02:03.974Z"
   },
   {
    "duration": 347,
    "start_time": "2022-01-05T17:02:10.060Z"
   },
   {
    "duration": 301,
    "start_time": "2022-01-05T17:02:20.470Z"
   },
   {
    "duration": 47,
    "start_time": "2022-01-05T17:02:34.090Z"
   },
   {
    "duration": 6314,
    "start_time": "2022-01-05T17:02:41.521Z"
   },
   {
    "duration": 40,
    "start_time": "2022-01-05T17:03:04.702Z"
   },
   {
    "duration": 39,
    "start_time": "2022-01-05T17:04:27.170Z"
   },
   {
    "duration": 5503,
    "start_time": "2022-01-05T17:05:03.231Z"
   },
   {
    "duration": 45,
    "start_time": "2022-01-05T17:05:18.044Z"
   },
   {
    "duration": 5776,
    "start_time": "2022-01-05T17:05:36.002Z"
   },
   {
    "duration": -62,
    "start_time": "2022-01-05T17:05:50.847Z"
   },
   {
    "duration": 6566,
    "start_time": "2022-01-05T17:06:27.067Z"
   },
   {
    "duration": 38,
    "start_time": "2022-01-05T17:06:53.954Z"
   },
   {
    "duration": 5115,
    "start_time": "2022-01-05T17:07:06.179Z"
   },
   {
    "duration": 4,
    "start_time": "2022-01-05T17:07:20.914Z"
   },
   {
    "duration": 38,
    "start_time": "2022-01-05T17:07:53.757Z"
   },
   {
    "duration": 4,
    "start_time": "2022-01-05T17:07:56.077Z"
   },
   {
    "duration": 41,
    "start_time": "2022-01-05T17:08:04.678Z"
   },
   {
    "duration": 4,
    "start_time": "2022-01-05T17:08:10.917Z"
   },
   {
    "duration": 3,
    "start_time": "2022-01-05T17:08:28.693Z"
   },
   {
    "duration": 31,
    "start_time": "2022-01-05T17:08:31.141Z"
   },
   {
    "duration": 26,
    "start_time": "2022-01-05T17:08:35.193Z"
   },
   {
    "duration": 5,
    "start_time": "2022-01-05T17:08:35.999Z"
   },
   {
    "duration": 432,
    "start_time": "2022-01-05T17:08:37.131Z"
   },
   {
    "duration": 4,
    "start_time": "2022-01-05T18:27:26.796Z"
   },
   {
    "duration": 1378,
    "start_time": "2022-01-05T18:27:27.829Z"
   },
   {
    "duration": 1350,
    "start_time": "2022-01-05T18:57:06.143Z"
   },
   {
    "duration": 94,
    "start_time": "2022-01-05T18:57:07.497Z"
   },
   {
    "duration": 18,
    "start_time": "2022-01-05T18:57:07.593Z"
   },
   {
    "duration": 23,
    "start_time": "2022-01-05T18:57:07.737Z"
   },
   {
    "duration": 202,
    "start_time": "2022-01-05T18:57:09.150Z"
   },
   {
    "duration": 16,
    "start_time": "2022-01-05T18:57:09.857Z"
   },
   {
    "duration": 4,
    "start_time": "2022-01-05T18:57:10.658Z"
   },
   {
    "duration": 5,
    "start_time": "2022-01-05T18:57:11.740Z"
   },
   {
    "duration": 7,
    "start_time": "2022-01-05T18:57:13.078Z"
   },
   {
    "duration": 1065,
    "start_time": "2022-01-05T18:57:15.179Z"
   },
   {
    "duration": 374,
    "start_time": "2022-01-05T18:57:17.721Z"
   },
   {
    "duration": 323,
    "start_time": "2022-01-05T18:57:18.441Z"
   },
   {
    "duration": 427,
    "start_time": "2022-01-05T18:57:21.089Z"
   },
   {
    "duration": 240,
    "start_time": "2022-01-05T18:57:24.097Z"
   },
   {
    "duration": 60,
    "start_time": "2022-01-05T18:58:03.285Z"
   },
   {
    "duration": 64,
    "start_time": "2022-01-05T18:58:06.537Z"
   },
   {
    "duration": 68,
    "start_time": "2022-01-05T18:58:53.037Z"
   },
   {
    "duration": 66,
    "start_time": "2022-01-05T19:00:55.977Z"
   },
   {
    "duration": 4,
    "start_time": "2022-01-05T19:01:23.741Z"
   },
   {
    "duration": 4,
    "start_time": "2022-01-05T19:01:24.709Z"
   },
   {
    "duration": 219,
    "start_time": "2022-01-05T19:01:27.729Z"
   },
   {
    "duration": 58,
    "start_time": "2022-01-05T19:02:35.117Z"
   },
   {
    "duration": 4,
    "start_time": "2022-01-05T19:02:39.458Z"
   },
   {
    "duration": 55,
    "start_time": "2022-01-05T19:03:37.098Z"
   },
   {
    "duration": 4,
    "start_time": "2022-01-05T19:03:39.982Z"
   },
   {
    "duration": 4,
    "start_time": "2022-01-05T19:03:46.017Z"
   },
   {
    "duration": 34,
    "start_time": "2022-01-05T19:03:50.017Z"
   },
   {
    "duration": 11,
    "start_time": "2022-01-05T19:04:14.409Z"
   },
   {
    "duration": 11,
    "start_time": "2022-01-05T19:04:17.209Z"
   },
   {
    "duration": 25,
    "start_time": "2022-01-05T19:04:18.289Z"
   },
   {
    "duration": 4,
    "start_time": "2022-01-05T19:04:19.729Z"
   },
   {
    "duration": 446,
    "start_time": "2022-01-05T19:04:21.249Z"
   },
   {
    "duration": 2,
    "start_time": "2022-01-05T19:07:02.645Z"
   },
   {
    "duration": 23,
    "start_time": "2022-01-05T19:11:53.657Z"
   },
   {
    "duration": 1195,
    "start_time": "2022-01-06T19:39:21.942Z"
   },
   {
    "duration": 1385,
    "start_time": "2022-01-06T19:39:23.139Z"
   },
   {
    "duration": 69,
    "start_time": "2022-01-06T19:39:26.115Z"
   },
   {
    "duration": 25,
    "start_time": "2022-01-06T19:39:27.466Z"
   },
   {
    "duration": 26,
    "start_time": "2022-01-06T19:39:28.345Z"
   },
   {
    "duration": 212,
    "start_time": "2022-01-06T19:39:31.100Z"
   },
   {
    "duration": 16,
    "start_time": "2022-01-06T19:39:33.747Z"
   },
   {
    "duration": 5,
    "start_time": "2022-01-06T19:39:36.843Z"
   },
   {
    "duration": 4,
    "start_time": "2022-01-06T19:39:38.920Z"
   },
   {
    "duration": 10,
    "start_time": "2022-01-06T19:39:40.699Z"
   },
   {
    "duration": 1174,
    "start_time": "2022-01-06T19:39:45.763Z"
   },
   {
    "duration": 300,
    "start_time": "2022-01-06T19:39:49.305Z"
   },
   {
    "duration": 324,
    "start_time": "2022-01-06T19:39:50.875Z"
   },
   {
    "duration": 426,
    "start_time": "2022-01-06T19:39:53.993Z"
   },
   {
    "duration": 69,
    "start_time": "2022-01-06T19:39:56.885Z"
   },
   {
    "duration": 4,
    "start_time": "2022-01-06T19:39:59.881Z"
   },
   {
    "duration": 4,
    "start_time": "2022-01-06T19:40:00.686Z"
   },
   {
    "duration": 14,
    "start_time": "2022-01-06T19:40:02.781Z"
   },
   {
    "duration": 27,
    "start_time": "2022-01-06T19:40:04.176Z"
   },
   {
    "duration": 5,
    "start_time": "2022-01-06T19:40:05.156Z"
   },
   {
    "duration": 606,
    "start_time": "2022-01-06T19:40:11.757Z"
   },
   {
    "duration": 306,
    "start_time": "2022-01-06T19:40:13.395Z"
   },
   {
    "duration": 246,
    "start_time": "2022-01-06T19:46:05.829Z"
   },
   {
    "duration": 5,
    "start_time": "2022-01-06T19:47:21.750Z"
   },
   {
    "duration": 98990,
    "start_time": "2022-01-06T19:48:25.315Z"
   },
   {
    "duration": 70,
    "start_time": "2022-01-06T19:50:33.597Z"
   },
   {
    "duration": 219,
    "start_time": "2022-01-06T19:50:40.980Z"
   },
   {
    "duration": 48407,
    "start_time": "2022-01-06T19:50:49.046Z"
   },
   {
    "duration": 72,
    "start_time": "2022-01-06T19:53:51.988Z"
   },
   {
    "duration": 88,
    "start_time": "2022-01-06T19:54:03.383Z"
   },
   {
    "duration": 46975,
    "start_time": "2022-01-06T19:54:14.262Z"
   },
   {
    "duration": 222,
    "start_time": "2022-01-06T19:59:26.281Z"
   },
   {
    "duration": 25,
    "start_time": "2022-01-06T20:00:54.960Z"
   },
   {
    "duration": 47199,
    "start_time": "2022-01-06T20:03:32.377Z"
   },
   {
    "duration": 49953,
    "start_time": "2022-01-06T20:05:09.678Z"
   },
   {
    "duration": 233,
    "start_time": "2022-01-06T20:07:39.227Z"
   },
   {
    "duration": 25,
    "start_time": "2022-01-06T20:08:32.437Z"
   },
   {
    "duration": 24,
    "start_time": "2022-01-06T20:08:36.120Z"
   },
   {
    "duration": 25,
    "start_time": "2022-01-06T20:08:40.036Z"
   },
   {
    "duration": 25,
    "start_time": "2022-01-06T20:08:45.335Z"
   },
   {
    "duration": 25,
    "start_time": "2022-01-06T20:08:49.666Z"
   },
   {
    "duration": 49101,
    "start_time": "2022-01-06T20:09:43.489Z"
   },
   {
    "duration": -93,
    "start_time": "2022-01-06T20:10:32.935Z"
   },
   {
    "duration": 61,
    "start_time": "2022-01-06T20:11:04.991Z"
   },
   {
    "duration": 25,
    "start_time": "2022-01-06T20:11:15.066Z"
   },
   {
    "duration": 56,
    "start_time": "2022-01-06T20:11:21.218Z"
   },
   {
    "duration": 59,
    "start_time": "2022-01-06T20:12:26.408Z"
   },
   {
    "duration": 3,
    "start_time": "2022-01-06T20:12:27.399Z"
   },
   {
    "duration": 60,
    "start_time": "2022-01-06T20:12:29.946Z"
   },
   {
    "duration": 61,
    "start_time": "2022-01-06T20:12:33.760Z"
   },
   {
    "duration": 3,
    "start_time": "2022-01-06T20:13:07.328Z"
   },
   {
    "duration": 4,
    "start_time": "2022-01-06T20:14:16.115Z"
   },
   {
    "duration": 49309,
    "start_time": "2022-01-06T20:15:50.876Z"
   },
   {
    "duration": 44,
    "start_time": "2022-01-06T20:17:04.291Z"
   },
   {
    "duration": 3,
    "start_time": "2022-01-06T20:17:06.092Z"
   },
   {
    "duration": 48971,
    "start_time": "2022-01-06T20:18:42.562Z"
   },
   {
    "duration": 10754,
    "start_time": "2022-01-06T20:20:50.021Z"
   },
   {
    "duration": 26,
    "start_time": "2022-01-06T20:21:38.314Z"
   },
   {
    "duration": 3,
    "start_time": "2022-01-06T20:21:42.275Z"
   },
   {
    "duration": 10116,
    "start_time": "2022-01-06T20:23:06.687Z"
   },
   {
    "duration": 25,
    "start_time": "2022-01-06T20:23:25.292Z"
   },
   {
    "duration": 26,
    "start_time": "2022-01-06T20:23:31.048Z"
   },
   {
    "duration": -300,
    "start_time": "2022-01-06T20:30:09.825Z"
   },
   {
    "duration": 258121,
    "start_time": "2022-01-06T20:30:18.614Z"
   },
   {
    "duration": 48062,
    "start_time": "2022-01-06T20:35:14.376Z"
   },
   {
    "duration": 808,
    "start_time": "2022-01-06T20:36:24.902Z"
   },
   {
    "duration": 50431,
    "start_time": "2022-01-06T20:38:00.927Z"
   },
   {
    "duration": 1190,
    "start_time": "2022-01-06T20:39:46.409Z"
   },
   {
    "duration": 4,
    "start_time": "2022-01-06T20:40:49.296Z"
   },
   {
    "duration": 4,
    "start_time": "2022-01-06T20:42:53.536Z"
   },
   {
    "duration": 7,
    "start_time": "2022-01-06T20:54:41.988Z"
   },
   {
    "duration": 9,
    "start_time": "2022-01-06T20:57:01.510Z"
   },
   {
    "duration": 11,
    "start_time": "2022-01-06T20:57:07.069Z"
   },
   {
    "duration": 4,
    "start_time": "2022-01-06T21:01:29.964Z"
   },
   {
    "duration": 1418,
    "start_time": "2022-01-07T11:48:50.508Z"
   },
   {
    "duration": 1915,
    "start_time": "2022-01-07T11:48:55.503Z"
   },
   {
    "duration": 127,
    "start_time": "2022-01-07T11:48:57.440Z"
   },
   {
    "duration": 29,
    "start_time": "2022-01-07T11:48:58.749Z"
   },
   {
    "duration": 32,
    "start_time": "2022-01-07T11:48:59.524Z"
   },
   {
    "duration": 365,
    "start_time": "2022-01-07T11:49:02.044Z"
   },
   {
    "duration": 22,
    "start_time": "2022-01-07T11:49:03.714Z"
   },
   {
    "duration": 7,
    "start_time": "2022-01-07T11:49:05.106Z"
   },
   {
    "duration": 6,
    "start_time": "2022-01-07T11:49:06.934Z"
   },
   {
    "duration": 16,
    "start_time": "2022-01-07T11:49:08.339Z"
   },
   {
    "duration": 1942,
    "start_time": "2022-01-07T11:49:11.122Z"
   },
   {
    "duration": 113,
    "start_time": "2022-01-07T11:50:30.179Z"
   },
   {
    "duration": 659,
    "start_time": "2022-01-07T11:51:10.700Z"
   },
   {
    "duration": 574,
    "start_time": "2022-01-07T11:51:25.848Z"
   },
   {
    "duration": 2125,
    "start_time": "2022-01-07T11:52:47.863Z"
   },
   {
    "duration": 1951,
    "start_time": "2022-01-07T11:53:33.304Z"
   },
   {
    "duration": 521,
    "start_time": "2022-01-07T11:53:48.600Z"
   },
   {
    "duration": 580,
    "start_time": "2022-01-07T11:54:22.637Z"
   },
   {
    "duration": 113,
    "start_time": "2022-01-07T11:55:31.899Z"
   },
   {
    "duration": 773,
    "start_time": "2022-01-07T11:55:49.379Z"
   },
   {
    "duration": 94,
    "start_time": "2022-01-07T11:55:57.773Z"
   },
   {
    "duration": 4,
    "start_time": "2022-01-07T11:56:11.407Z"
   },
   {
    "duration": 5,
    "start_time": "2022-01-07T11:56:15.633Z"
   },
   {
    "duration": 17,
    "start_time": "2022-01-07T11:56:34.596Z"
   },
   {
    "duration": 31,
    "start_time": "2022-01-07T11:56:36.268Z"
   },
   {
    "duration": 6,
    "start_time": "2022-01-07T11:56:36.848Z"
   },
   {
    "duration": 312,
    "start_time": "2022-01-07T11:56:40.055Z"
   },
   {
    "duration": 12974,
    "start_time": "2022-01-07T11:56:41.757Z"
   },
   {
    "duration": 5,
    "start_time": "2022-01-07T12:00:51.008Z"
   },
   {
    "duration": 13418,
    "start_time": "2022-01-07T12:05:36.797Z"
   },
   {
    "duration": 13422,
    "start_time": "2022-01-07T12:09:02.159Z"
   },
   {
    "duration": 14251,
    "start_time": "2022-01-07T12:09:24.237Z"
   },
   {
    "duration": 45,
    "start_time": "2022-01-07T12:11:50.702Z"
   },
   {
    "duration": 14992,
    "start_time": "2022-01-07T12:12:50.867Z"
   },
   {
    "duration": 37,
    "start_time": "2022-01-07T12:13:32.209Z"
   },
   {
    "duration": 14145,
    "start_time": "2022-01-07T12:13:49.269Z"
   },
   {
    "duration": 37,
    "start_time": "2022-01-07T12:14:06.205Z"
   },
   {
    "duration": 5,
    "start_time": "2022-01-07T12:14:08.230Z"
   },
   {
    "duration": 64208,
    "start_time": "2022-01-07T12:14:20.453Z"
   },
   {
    "duration": 1019,
    "start_time": "2022-01-07T12:15:40.690Z"
   },
   {
    "duration": 63837,
    "start_time": "2022-01-07T12:15:52.748Z"
   },
   {
    "duration": 1495,
    "start_time": "2022-01-07T12:17:14.472Z"
   },
   {
    "duration": 4,
    "start_time": "2022-01-07T12:17:19.478Z"
   },
   {
    "duration": 13,
    "start_time": "2022-01-07T12:17:23.941Z"
   },
   {
    "duration": 6,
    "start_time": "2022-01-07T12:17:27.745Z"
   }
  ],
  "kernelspec": {
   "display_name": "Python 3",
   "language": "python",
   "name": "python3"
  },
  "language_info": {
   "codemirror_mode": {
    "name": "ipython",
    "version": 3
   },
   "file_extension": ".py",
   "mimetype": "text/x-python",
   "name": "python",
   "nbconvert_exporter": "python",
   "pygments_lexer": "ipython3",
   "version": "3.7.8"
  },
  "toc": {
   "base_numbering": 1,
   "nav_menu": {},
   "number_sections": true,
   "sideBar": true,
   "skip_h1_title": true,
   "title_cell": "Содержание",
   "title_sidebar": "Contents",
   "toc_cell": true,
   "toc_position": {},
   "toc_section_display": true,
   "toc_window_display": false
  }
 },
 "nbformat": 4,
 "nbformat_minor": 2
}

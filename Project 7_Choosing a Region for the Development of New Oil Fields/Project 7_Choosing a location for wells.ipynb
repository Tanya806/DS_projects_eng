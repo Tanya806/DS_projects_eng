{
 "cells": [
  {
   "cell_type": "markdown",
   "metadata": {},
   "source": [
    "# Выбор локации для скважины"
   ]
  },
  {
   "cell_type": "markdown",
   "metadata": {},
   "source": [
    "Допустим, вы работаете в добывающей компании «ГлавРосГосНефть». Нужно решить, где бурить новую скважину.\n",
    "\n",
    "Вам предоставлены пробы нефти в трёх регионах: в каждом 10 000 месторождений, где измерили качество нефти и объём её запасов. Постройте модель машинного обучения, которая поможет определить регион, где добыча принесёт наибольшую прибыль. Проанализируйте возможную прибыль и риски техникой *Bootstrap.*\n",
    "\n",
    "Шаги для выбора локации:\n",
    "\n",
    "- В избранном регионе ищут месторождения, для каждого определяют значения признаков;\n",
    "- Строят модель и оценивают объём запасов;\n",
    "- Выбирают месторождения с самым высокими оценками значений. Количество месторождений зависит от бюджета компании и стоимости разработки одной скважины;\n",
    "- Прибыль равна суммарной прибыли отобранных месторождений."
   ]
  },
  {
   "cell_type": "markdown",
   "metadata": {},
   "source": [
    "## Загрузка и подготовка данных"
   ]
  },
  {
   "cell_type": "code",
   "execution_count": 1,
   "metadata": {},
   "outputs": [],
   "source": [
    "import numpy as np\n",
    "import pandas as pd\n",
    "import matplotlib.pyplot as plt\n",
    "from sklearn.linear_model import LinearRegression\n",
    "from sklearn.model_selection import train_test_split\n",
    "from sklearn.metrics import mean_squared_error\n",
    "from sklearn.preprocessing import StandardScaler\n",
    "from sklearn.utils import shuffle\n",
    "from tqdm import tqdm\n",
    "\n",
    "from sklearn.metrics import mean_squared_error\n",
    "from math import sqrt"
   ]
  },
  {
   "cell_type": "code",
   "execution_count": 2,
   "metadata": {
    "scrolled": false
   },
   "outputs": [
    {
     "data": {
      "text/html": [
       "<div>\n",
       "<style scoped>\n",
       "    .dataframe tbody tr th:only-of-type {\n",
       "        vertical-align: middle;\n",
       "    }\n",
       "\n",
       "    .dataframe tbody tr th {\n",
       "        vertical-align: top;\n",
       "    }\n",
       "\n",
       "    .dataframe thead th {\n",
       "        text-align: right;\n",
       "    }\n",
       "</style>\n",
       "<table border=\"1\" class=\"dataframe\">\n",
       "  <thead>\n",
       "    <tr style=\"text-align: right;\">\n",
       "      <th></th>\n",
       "      <th>id</th>\n",
       "      <th>f0</th>\n",
       "      <th>f1</th>\n",
       "      <th>f2</th>\n",
       "      <th>product</th>\n",
       "    </tr>\n",
       "  </thead>\n",
       "  <tbody>\n",
       "    <tr>\n",
       "      <td>0</td>\n",
       "      <td>txEyH</td>\n",
       "      <td>0.705745</td>\n",
       "      <td>-0.497823</td>\n",
       "      <td>1.221170</td>\n",
       "      <td>105.280062</td>\n",
       "    </tr>\n",
       "    <tr>\n",
       "      <td>1</td>\n",
       "      <td>2acmU</td>\n",
       "      <td>1.334711</td>\n",
       "      <td>-0.340164</td>\n",
       "      <td>4.365080</td>\n",
       "      <td>73.037750</td>\n",
       "    </tr>\n",
       "    <tr>\n",
       "      <td>2</td>\n",
       "      <td>409Wp</td>\n",
       "      <td>1.022732</td>\n",
       "      <td>0.151990</td>\n",
       "      <td>1.419926</td>\n",
       "      <td>85.265647</td>\n",
       "    </tr>\n",
       "    <tr>\n",
       "      <td>3</td>\n",
       "      <td>iJLyR</td>\n",
       "      <td>-0.032172</td>\n",
       "      <td>0.139033</td>\n",
       "      <td>2.978566</td>\n",
       "      <td>168.620776</td>\n",
       "    </tr>\n",
       "    <tr>\n",
       "      <td>4</td>\n",
       "      <td>Xdl7t</td>\n",
       "      <td>1.988431</td>\n",
       "      <td>0.155413</td>\n",
       "      <td>4.751769</td>\n",
       "      <td>154.036647</td>\n",
       "    </tr>\n",
       "  </tbody>\n",
       "</table>\n",
       "</div>"
      ],
      "text/plain": [
       "      id        f0        f1        f2     product\n",
       "0  txEyH  0.705745 -0.497823  1.221170  105.280062\n",
       "1  2acmU  1.334711 -0.340164  4.365080   73.037750\n",
       "2  409Wp  1.022732  0.151990  1.419926   85.265647\n",
       "3  iJLyR -0.032172  0.139033  2.978566  168.620776\n",
       "4  Xdl7t  1.988431  0.155413  4.751769  154.036647"
      ]
     },
     "metadata": {},
     "output_type": "display_data"
    },
    {
     "data": {
      "text/html": [
       "<div>\n",
       "<style scoped>\n",
       "    .dataframe tbody tr th:only-of-type {\n",
       "        vertical-align: middle;\n",
       "    }\n",
       "\n",
       "    .dataframe tbody tr th {\n",
       "        vertical-align: top;\n",
       "    }\n",
       "\n",
       "    .dataframe thead th {\n",
       "        text-align: right;\n",
       "    }\n",
       "</style>\n",
       "<table border=\"1\" class=\"dataframe\">\n",
       "  <thead>\n",
       "    <tr style=\"text-align: right;\">\n",
       "      <th></th>\n",
       "      <th>id</th>\n",
       "      <th>f0</th>\n",
       "      <th>f1</th>\n",
       "      <th>f2</th>\n",
       "      <th>product</th>\n",
       "    </tr>\n",
       "  </thead>\n",
       "  <tbody>\n",
       "    <tr>\n",
       "      <td>0</td>\n",
       "      <td>kBEdx</td>\n",
       "      <td>-15.001348</td>\n",
       "      <td>-8.276000</td>\n",
       "      <td>-0.005876</td>\n",
       "      <td>3.179103</td>\n",
       "    </tr>\n",
       "    <tr>\n",
       "      <td>1</td>\n",
       "      <td>62mP7</td>\n",
       "      <td>14.272088</td>\n",
       "      <td>-3.475083</td>\n",
       "      <td>0.999183</td>\n",
       "      <td>26.953261</td>\n",
       "    </tr>\n",
       "    <tr>\n",
       "      <td>2</td>\n",
       "      <td>vyE1P</td>\n",
       "      <td>6.263187</td>\n",
       "      <td>-5.948386</td>\n",
       "      <td>5.001160</td>\n",
       "      <td>134.766305</td>\n",
       "    </tr>\n",
       "    <tr>\n",
       "      <td>3</td>\n",
       "      <td>KcrkZ</td>\n",
       "      <td>-13.081196</td>\n",
       "      <td>-11.506057</td>\n",
       "      <td>4.999415</td>\n",
       "      <td>137.945408</td>\n",
       "    </tr>\n",
       "    <tr>\n",
       "      <td>4</td>\n",
       "      <td>AHL4O</td>\n",
       "      <td>12.702195</td>\n",
       "      <td>-8.147433</td>\n",
       "      <td>5.004363</td>\n",
       "      <td>134.766305</td>\n",
       "    </tr>\n",
       "  </tbody>\n",
       "</table>\n",
       "</div>"
      ],
      "text/plain": [
       "      id         f0         f1        f2     product\n",
       "0  kBEdx -15.001348  -8.276000 -0.005876    3.179103\n",
       "1  62mP7  14.272088  -3.475083  0.999183   26.953261\n",
       "2  vyE1P   6.263187  -5.948386  5.001160  134.766305\n",
       "3  KcrkZ -13.081196 -11.506057  4.999415  137.945408\n",
       "4  AHL4O  12.702195  -8.147433  5.004363  134.766305"
      ]
     },
     "metadata": {},
     "output_type": "display_data"
    },
    {
     "data": {
      "text/html": [
       "<div>\n",
       "<style scoped>\n",
       "    .dataframe tbody tr th:only-of-type {\n",
       "        vertical-align: middle;\n",
       "    }\n",
       "\n",
       "    .dataframe tbody tr th {\n",
       "        vertical-align: top;\n",
       "    }\n",
       "\n",
       "    .dataframe thead th {\n",
       "        text-align: right;\n",
       "    }\n",
       "</style>\n",
       "<table border=\"1\" class=\"dataframe\">\n",
       "  <thead>\n",
       "    <tr style=\"text-align: right;\">\n",
       "      <th></th>\n",
       "      <th>id</th>\n",
       "      <th>f0</th>\n",
       "      <th>f1</th>\n",
       "      <th>f2</th>\n",
       "      <th>product</th>\n",
       "    </tr>\n",
       "  </thead>\n",
       "  <tbody>\n",
       "    <tr>\n",
       "      <td>0</td>\n",
       "      <td>fwXo0</td>\n",
       "      <td>-1.146987</td>\n",
       "      <td>0.963328</td>\n",
       "      <td>-0.828965</td>\n",
       "      <td>27.758673</td>\n",
       "    </tr>\n",
       "    <tr>\n",
       "      <td>1</td>\n",
       "      <td>WJtFt</td>\n",
       "      <td>0.262778</td>\n",
       "      <td>0.269839</td>\n",
       "      <td>-2.530187</td>\n",
       "      <td>56.069697</td>\n",
       "    </tr>\n",
       "    <tr>\n",
       "      <td>2</td>\n",
       "      <td>ovLUW</td>\n",
       "      <td>0.194587</td>\n",
       "      <td>0.289035</td>\n",
       "      <td>-5.586433</td>\n",
       "      <td>62.871910</td>\n",
       "    </tr>\n",
       "    <tr>\n",
       "      <td>3</td>\n",
       "      <td>q6cA6</td>\n",
       "      <td>2.236060</td>\n",
       "      <td>-0.553760</td>\n",
       "      <td>0.930038</td>\n",
       "      <td>114.572842</td>\n",
       "    </tr>\n",
       "    <tr>\n",
       "      <td>4</td>\n",
       "      <td>WPMUX</td>\n",
       "      <td>-0.515993</td>\n",
       "      <td>1.716266</td>\n",
       "      <td>5.899011</td>\n",
       "      <td>149.600746</td>\n",
       "    </tr>\n",
       "  </tbody>\n",
       "</table>\n",
       "</div>"
      ],
      "text/plain": [
       "      id        f0        f1        f2     product\n",
       "0  fwXo0 -1.146987  0.963328 -0.828965   27.758673\n",
       "1  WJtFt  0.262778  0.269839 -2.530187   56.069697\n",
       "2  ovLUW  0.194587  0.289035 -5.586433   62.871910\n",
       "3  q6cA6  2.236060 -0.553760  0.930038  114.572842\n",
       "4  WPMUX -0.515993  1.716266  5.899011  149.600746"
      ]
     },
     "metadata": {},
     "output_type": "display_data"
    },
    {
     "data": {
      "text/html": [
       "<div>\n",
       "<style scoped>\n",
       "    .dataframe tbody tr th:only-of-type {\n",
       "        vertical-align: middle;\n",
       "    }\n",
       "\n",
       "    .dataframe tbody tr th {\n",
       "        vertical-align: top;\n",
       "    }\n",
       "\n",
       "    .dataframe thead th {\n",
       "        text-align: right;\n",
       "    }\n",
       "</style>\n",
       "<table border=\"1\" class=\"dataframe\">\n",
       "  <thead>\n",
       "    <tr style=\"text-align: right;\">\n",
       "      <th></th>\n",
       "      <th>f0</th>\n",
       "      <th>f1</th>\n",
       "      <th>f2</th>\n",
       "      <th>product</th>\n",
       "    </tr>\n",
       "  </thead>\n",
       "  <tbody>\n",
       "    <tr>\n",
       "      <td>count</td>\n",
       "      <td>100000.000000</td>\n",
       "      <td>100000.000000</td>\n",
       "      <td>100000.000000</td>\n",
       "      <td>100000.000000</td>\n",
       "    </tr>\n",
       "    <tr>\n",
       "      <td>mean</td>\n",
       "      <td>0.500419</td>\n",
       "      <td>0.250143</td>\n",
       "      <td>2.502647</td>\n",
       "      <td>92.500000</td>\n",
       "    </tr>\n",
       "    <tr>\n",
       "      <td>std</td>\n",
       "      <td>0.871832</td>\n",
       "      <td>0.504433</td>\n",
       "      <td>3.248248</td>\n",
       "      <td>44.288691</td>\n",
       "    </tr>\n",
       "    <tr>\n",
       "      <td>min</td>\n",
       "      <td>-1.408605</td>\n",
       "      <td>-0.848218</td>\n",
       "      <td>-12.088328</td>\n",
       "      <td>0.000000</td>\n",
       "    </tr>\n",
       "    <tr>\n",
       "      <td>25%</td>\n",
       "      <td>-0.072580</td>\n",
       "      <td>-0.200881</td>\n",
       "      <td>0.287748</td>\n",
       "      <td>56.497507</td>\n",
       "    </tr>\n",
       "    <tr>\n",
       "      <td>50%</td>\n",
       "      <td>0.502360</td>\n",
       "      <td>0.250252</td>\n",
       "      <td>2.515969</td>\n",
       "      <td>91.849972</td>\n",
       "    </tr>\n",
       "    <tr>\n",
       "      <td>75%</td>\n",
       "      <td>1.073581</td>\n",
       "      <td>0.700646</td>\n",
       "      <td>4.715088</td>\n",
       "      <td>128.564089</td>\n",
       "    </tr>\n",
       "    <tr>\n",
       "      <td>max</td>\n",
       "      <td>2.362331</td>\n",
       "      <td>1.343769</td>\n",
       "      <td>16.003790</td>\n",
       "      <td>185.364347</td>\n",
       "    </tr>\n",
       "  </tbody>\n",
       "</table>\n",
       "</div>"
      ],
      "text/plain": [
       "                  f0             f1             f2        product\n",
       "count  100000.000000  100000.000000  100000.000000  100000.000000\n",
       "mean        0.500419       0.250143       2.502647      92.500000\n",
       "std         0.871832       0.504433       3.248248      44.288691\n",
       "min        -1.408605      -0.848218     -12.088328       0.000000\n",
       "25%        -0.072580      -0.200881       0.287748      56.497507\n",
       "50%         0.502360       0.250252       2.515969      91.849972\n",
       "75%         1.073581       0.700646       4.715088     128.564089\n",
       "max         2.362331       1.343769      16.003790     185.364347"
      ]
     },
     "metadata": {},
     "output_type": "display_data"
    },
    {
     "data": {
      "text/html": [
       "<div>\n",
       "<style scoped>\n",
       "    .dataframe tbody tr th:only-of-type {\n",
       "        vertical-align: middle;\n",
       "    }\n",
       "\n",
       "    .dataframe tbody tr th {\n",
       "        vertical-align: top;\n",
       "    }\n",
       "\n",
       "    .dataframe thead th {\n",
       "        text-align: right;\n",
       "    }\n",
       "</style>\n",
       "<table border=\"1\" class=\"dataframe\">\n",
       "  <thead>\n",
       "    <tr style=\"text-align: right;\">\n",
       "      <th></th>\n",
       "      <th>f0</th>\n",
       "      <th>f1</th>\n",
       "      <th>f2</th>\n",
       "      <th>product</th>\n",
       "    </tr>\n",
       "  </thead>\n",
       "  <tbody>\n",
       "    <tr>\n",
       "      <td>count</td>\n",
       "      <td>100000.000000</td>\n",
       "      <td>100000.000000</td>\n",
       "      <td>100000.000000</td>\n",
       "      <td>100000.000000</td>\n",
       "    </tr>\n",
       "    <tr>\n",
       "      <td>mean</td>\n",
       "      <td>1.141296</td>\n",
       "      <td>-4.796579</td>\n",
       "      <td>2.494541</td>\n",
       "      <td>68.825000</td>\n",
       "    </tr>\n",
       "    <tr>\n",
       "      <td>std</td>\n",
       "      <td>8.965932</td>\n",
       "      <td>5.119872</td>\n",
       "      <td>1.703572</td>\n",
       "      <td>45.944423</td>\n",
       "    </tr>\n",
       "    <tr>\n",
       "      <td>min</td>\n",
       "      <td>-31.609576</td>\n",
       "      <td>-26.358598</td>\n",
       "      <td>-0.018144</td>\n",
       "      <td>0.000000</td>\n",
       "    </tr>\n",
       "    <tr>\n",
       "      <td>25%</td>\n",
       "      <td>-6.298551</td>\n",
       "      <td>-8.267985</td>\n",
       "      <td>1.000021</td>\n",
       "      <td>26.953261</td>\n",
       "    </tr>\n",
       "    <tr>\n",
       "      <td>50%</td>\n",
       "      <td>1.153055</td>\n",
       "      <td>-4.813172</td>\n",
       "      <td>2.011479</td>\n",
       "      <td>57.085625</td>\n",
       "    </tr>\n",
       "    <tr>\n",
       "      <td>75%</td>\n",
       "      <td>8.621015</td>\n",
       "      <td>-1.332816</td>\n",
       "      <td>3.999904</td>\n",
       "      <td>107.813044</td>\n",
       "    </tr>\n",
       "    <tr>\n",
       "      <td>max</td>\n",
       "      <td>29.421755</td>\n",
       "      <td>18.734063</td>\n",
       "      <td>5.019721</td>\n",
       "      <td>137.945408</td>\n",
       "    </tr>\n",
       "  </tbody>\n",
       "</table>\n",
       "</div>"
      ],
      "text/plain": [
       "                  f0             f1             f2        product\n",
       "count  100000.000000  100000.000000  100000.000000  100000.000000\n",
       "mean        1.141296      -4.796579       2.494541      68.825000\n",
       "std         8.965932       5.119872       1.703572      45.944423\n",
       "min       -31.609576     -26.358598      -0.018144       0.000000\n",
       "25%        -6.298551      -8.267985       1.000021      26.953261\n",
       "50%         1.153055      -4.813172       2.011479      57.085625\n",
       "75%         8.621015      -1.332816       3.999904     107.813044\n",
       "max        29.421755      18.734063       5.019721     137.945408"
      ]
     },
     "metadata": {},
     "output_type": "display_data"
    },
    {
     "data": {
      "text/html": [
       "<div>\n",
       "<style scoped>\n",
       "    .dataframe tbody tr th:only-of-type {\n",
       "        vertical-align: middle;\n",
       "    }\n",
       "\n",
       "    .dataframe tbody tr th {\n",
       "        vertical-align: top;\n",
       "    }\n",
       "\n",
       "    .dataframe thead th {\n",
       "        text-align: right;\n",
       "    }\n",
       "</style>\n",
       "<table border=\"1\" class=\"dataframe\">\n",
       "  <thead>\n",
       "    <tr style=\"text-align: right;\">\n",
       "      <th></th>\n",
       "      <th>f0</th>\n",
       "      <th>f1</th>\n",
       "      <th>f2</th>\n",
       "      <th>product</th>\n",
       "    </tr>\n",
       "  </thead>\n",
       "  <tbody>\n",
       "    <tr>\n",
       "      <td>count</td>\n",
       "      <td>100000.000000</td>\n",
       "      <td>100000.000000</td>\n",
       "      <td>100000.000000</td>\n",
       "      <td>100000.000000</td>\n",
       "    </tr>\n",
       "    <tr>\n",
       "      <td>mean</td>\n",
       "      <td>0.002023</td>\n",
       "      <td>-0.002081</td>\n",
       "      <td>2.495128</td>\n",
       "      <td>95.000000</td>\n",
       "    </tr>\n",
       "    <tr>\n",
       "      <td>std</td>\n",
       "      <td>1.732045</td>\n",
       "      <td>1.730417</td>\n",
       "      <td>3.473445</td>\n",
       "      <td>44.749921</td>\n",
       "    </tr>\n",
       "    <tr>\n",
       "      <td>min</td>\n",
       "      <td>-8.760004</td>\n",
       "      <td>-7.084020</td>\n",
       "      <td>-11.970335</td>\n",
       "      <td>0.000000</td>\n",
       "    </tr>\n",
       "    <tr>\n",
       "      <td>25%</td>\n",
       "      <td>-1.162288</td>\n",
       "      <td>-1.174820</td>\n",
       "      <td>0.130359</td>\n",
       "      <td>59.450441</td>\n",
       "    </tr>\n",
       "    <tr>\n",
       "      <td>50%</td>\n",
       "      <td>0.009424</td>\n",
       "      <td>-0.009482</td>\n",
       "      <td>2.484236</td>\n",
       "      <td>94.925613</td>\n",
       "    </tr>\n",
       "    <tr>\n",
       "      <td>75%</td>\n",
       "      <td>1.158535</td>\n",
       "      <td>1.163678</td>\n",
       "      <td>4.858794</td>\n",
       "      <td>130.595027</td>\n",
       "    </tr>\n",
       "    <tr>\n",
       "      <td>max</td>\n",
       "      <td>7.238262</td>\n",
       "      <td>7.844801</td>\n",
       "      <td>16.739402</td>\n",
       "      <td>190.029838</td>\n",
       "    </tr>\n",
       "  </tbody>\n",
       "</table>\n",
       "</div>"
      ],
      "text/plain": [
       "                  f0             f1             f2        product\n",
       "count  100000.000000  100000.000000  100000.000000  100000.000000\n",
       "mean        0.002023      -0.002081       2.495128      95.000000\n",
       "std         1.732045       1.730417       3.473445      44.749921\n",
       "min        -8.760004      -7.084020     -11.970335       0.000000\n",
       "25%        -1.162288      -1.174820       0.130359      59.450441\n",
       "50%         0.009424      -0.009482       2.484236      94.925613\n",
       "75%         1.158535       1.163678       4.858794     130.595027\n",
       "max         7.238262       7.844801      16.739402     190.029838"
      ]
     },
     "metadata": {},
     "output_type": "display_data"
    },
    {
     "name": "stdout",
     "output_type": "stream",
     "text": [
      "<class 'pandas.core.frame.DataFrame'>\n",
      "RangeIndex: 100000 entries, 0 to 99999\n",
      "Data columns (total 5 columns):\n",
      "id         100000 non-null object\n",
      "f0         100000 non-null float64\n",
      "f1         100000 non-null float64\n",
      "f2         100000 non-null float64\n",
      "product    100000 non-null float64\n",
      "dtypes: float64(4), object(1)\n",
      "memory usage: 3.8+ MB\n",
      "<class 'pandas.core.frame.DataFrame'>\n",
      "RangeIndex: 100000 entries, 0 to 99999\n",
      "Data columns (total 5 columns):\n",
      "id         100000 non-null object\n",
      "f0         100000 non-null float64\n",
      "f1         100000 non-null float64\n",
      "f2         100000 non-null float64\n",
      "product    100000 non-null float64\n",
      "dtypes: float64(4), object(1)\n",
      "memory usage: 3.8+ MB\n",
      "<class 'pandas.core.frame.DataFrame'>\n",
      "RangeIndex: 100000 entries, 0 to 99999\n",
      "Data columns (total 5 columns):\n",
      "id         100000 non-null object\n",
      "f0         100000 non-null float64\n",
      "f1         100000 non-null float64\n",
      "f2         100000 non-null float64\n",
      "product    100000 non-null float64\n",
      "dtypes: float64(4), object(1)\n",
      "memory usage: 3.8+ MB\n"
     ]
    }
   ],
   "source": [
    "geo_data_0 = pd.read_csv('/datasets/geo_data_0.csv')\n",
    "geo_data_1 = pd.read_csv('/datasets/geo_data_1.csv')\n",
    "geo_data_2 = pd.read_csv('/datasets/geo_data_2.csv')\n",
    "\n",
    "display(geo_data_0.head(5))\n",
    "display(geo_data_1.head(5))\n",
    "display(geo_data_2.head(5))\n",
    "\n",
    "display(geo_data_0.describe())\n",
    "display(geo_data_1.describe())\n",
    "display(geo_data_2.describe())\n",
    "\n",
    "geo_data_0.info()\n",
    "geo_data_1.info()\n",
    "geo_data_2.info()"
   ]
  },
  {
   "cell_type": "code",
   "execution_count": 3,
   "metadata": {},
   "outputs": [
    {
     "name": "stdout",
     "output_type": "stream",
     "text": [
      "Найдено дубликатов в данных региона 0: 0\n",
      "Найдено дубликатов в данных региона 1: 0\n",
      "Найдено дубликатов в данных региона 2: 0\n"
     ]
    }
   ],
   "source": [
    "print(\"Найдено дубликатов в данных региона 0:\", geo_data_0.duplicated().sum())\n",
    "print(\"Найдено дубликатов в данных региона 1:\", geo_data_1.duplicated().sum())\n",
    "print(\"Найдено дубликатов в данных региона 2:\", geo_data_2.duplicated().sum())"
   ]
  },
  {
   "cell_type": "markdown",
   "metadata": {},
   "source": [
    "## Обучение и проверка модели"
   ]
  },
  {
   "cell_type": "markdown",
   "metadata": {},
   "source": [
    "Обучим и проверим модель для каждого региона:\n",
    "\n",
    "2.1. Разбейте данные на обучающую и валидационную выборки в соотношении 75:25.\n",
    "\n",
    "2.2. Обучите модель и сделайте предсказания на валидационной выборке.\n",
    "\n",
    "2.3. Сохраните предсказания и правильные ответы на валидационной выборке.\n",
    "\n",
    "2.4. Напечатайте на экране средний запас предсказанного сырья и RMSE модели.\n",
    "\n",
    "2.5. Проанализируйте результаты."
   ]
  },
  {
   "cell_type": "code",
   "execution_count": 4,
   "metadata": {},
   "outputs": [
    {
     "name": "stdout",
     "output_type": "stream",
     "text": [
      "Модель для региона 0:\n",
      "Средний запас предсказанного сырья равна  92.59256778438038\n",
      "RMSE модели на валидационной выборке: 37.5794217150813\n",
      "\n",
      "Модель для региона 1:\n",
      "Средний запас предсказанного сырья равна  68.728546895446\n",
      "RMSE модели на валидационной выборке: 0.8930992867756158\n",
      "\n",
      "Модель для региона 2:\n",
      "Средний запас предсказанного сырья равна  94.96504596800489\n",
      "RMSE модели на валидационной выборке: 40.02970873393434\n",
      "\n"
     ]
    }
   ],
   "source": [
    "def train_model(geo_data):\n",
    "    ###\n",
    "    #2.1 Выделим 75% данных для обучаюшей выборки, и 25% данных для проверки\n",
    "    features = geo_data.drop(['id','product'], axis=1) \n",
    "    target = geo_data['product']                               # Целевой признак\n",
    "    \n",
    "    #print(features, target)\n",
    "    # Разобъем данные на обучающую и валидационную выборки в соотношении 75:25\n",
    "    features_train, features_valid, target_train, target_valid = train_test_split(\n",
    "        features, target, test_size=0.25, random_state=12345)\n",
    "\n",
    "    pd.options.mode.chained_assignment = None # (!) игнорировать предупреждение\n",
    "    \n",
    "    #display(features_train)\n",
    "    # Создадим объект StandardScaler (мат. ожидание = 0, дисперси = 1) и настроим его на обучающих данных\n",
    "    numeric = ['f0', 'f1', 'f2']\n",
    "    scaler = StandardScaler()\n",
    "    scaler.fit(features_train[numeric]) \n",
    "\n",
    "    features_train[numeric] = scaler.transform(features_train[numeric])\n",
    "    features_valid[numeric] = scaler.transform(features_valid[numeric])\n",
    "\n",
    "    #display(features_train.head(10))\n",
    "    #2.2 Обучим модель на валидационной выборке\n",
    "    model = LinearRegression()\n",
    "    model.fit(features_train, target_train)\n",
    "    predictions_valid = model.predict(features_valid)\n",
    "    #2.4 Напечатаем на экране средний запа предсказанного сырья\n",
    "    print('Средний запас предсказанного сырья равна ', predictions_valid.mean())\n",
    "\n",
    "    rms = sqrt(mean_squared_error(target_valid, predictions_valid))\n",
    "    #2.4 Напечатаем на экране RMSE модели\n",
    "    print(\"RMSE модели на валидационной выборке:\", rms)\n",
    "    #2.3 Сохраним предсказания и правильные ответы на валидационной выборке\n",
    "    predictions_valid = pd.Series(predictions_valid)\n",
    "    target_valid = pd.Series(target_valid.reset_index(drop=True))\n",
    "    return predictions_valid, target_valid\n",
    "\n",
    "print(\"Модель для региона 0:\")\n",
    "predictions_0, target_0 = train_model(geo_data_0)\n",
    "print()\n",
    "print(\"Модель для региона 1:\")\n",
    "predictions_1, target_1 = train_model(geo_data_1)\n",
    "print()\n",
    "print(\"Модель для региона 2:\")\n",
    "predictions_2, target_2 = train_model(geo_data_2)\n",
    "print()"
   ]
  },
  {
   "cell_type": "code",
   "execution_count": 5,
   "metadata": {},
   "outputs": [
    {
     "name": "stdout",
     "output_type": "stream",
     "text": [
      "---------------\n",
      "    Регион 0    \n",
      "---------------\n"
     ]
    },
    {
     "data": {
      "image/png": "[encoded data removed]",
      "text/plain": [
       "<Figure size 432x288 with 1 Axes>"
      ]
     },
     "metadata": {
      "needs_background": "light"
     },
     "output_type": "display_data"
    },
    {
     "name": "stdout",
     "output_type": "stream",
     "text": [
      "---------------\n",
      "    Регион 1    \n",
      "---------------\n"
     ]
    },
    {
     "data": {
      "image/png": "[encoded data removed]",
      "text/plain": [
       "<Figure size 432x288 with 1 Axes>"
      ]
     },
     "metadata": {
      "needs_background": "light"
     },
     "output_type": "display_data"
    },
    {
     "name": "stdout",
     "output_type": "stream",
     "text": [
      "---------------\n",
      "    Регион 2    \n",
      "---------------\n"
     ]
    },
    {
     "data": {
      "image/png": "[encoded data removed]",
      "text/plain": [
       "<Figure size 432x288 with 1 Axes>"
      ]
     },
     "metadata": {
      "needs_background": "light"
     },
     "output_type": "display_data"
    }
   ],
   "source": [
    "def predictions_hist(predictions):\n",
    "    plt.hist(predictions, bins=30)\n",
    "    plt.title(\"Распределение скважин по прогнозируемым запасам\")\n",
    "    plt.xlabel(\"Объём запасов в скважине (тыс. баррелей)\")\n",
    "    plt.ylabel(\"Число скважин в регионе\")\n",
    "    plt.show()\n",
    "\n",
    "print('---------------')\n",
    "print('    Регион 0    ')\n",
    "print('---------------')\n",
    "predictions_hist(predictions_0)\n",
    "print('---------------')\n",
    "print('    Регион 1    ')\n",
    "print('---------------')\n",
    "predictions_hist(predictions_1)\n",
    "print('---------------')\n",
    "print('    Регион 2    ')\n",
    "print('---------------')\n",
    "predictions_hist(predictions_2)"
   ]
  },
  {
   "cell_type": "markdown",
   "metadata": {},
   "source": [
    "<div class=\"alert alert-info\">\n",
    "<b>Вывод: </b> \n",
    "\n",
    "Средний запас сырья во втором регионе меньше, чем в первом и третьем (69 тыс. баррелей vs >90 тыс. баррелей в первом и в третьем регионах), но модель на данных второго региона работает точнее (метрика качества RMSE минимальная:RMSE=0.893).\n",
    "    \n",
    "Регион 0 и регион 2 имеют нормальное распределение объемов запасов в скважине.\n",
    "</div>"
   ]
  },
  {
   "cell_type": "markdown",
   "metadata": {},
   "source": [
    "## Подготовка к расчёту прибыли"
   ]
  },
  {
   "cell_type": "markdown",
   "metadata": {},
   "source": [
    "Подготовимся к расчету прибыли:\n",
    "\n",
    "3.1. Все ключевые значения для расчётов сохраните в отдельных переменных.\n",
    "\n",
    "3.2. Рассчитайте достаточный объём сырья для безубыточной разработки новой скважины. Сравните полученный объём сырья со средним запасом в каждом регионе.\n",
    "\n",
    "3.3. Напишите выводы по этапу подготовки расчёта прибыли."
   ]
  },
  {
   "cell_type": "code",
   "execution_count": 6,
   "metadata": {},
   "outputs": [],
   "source": [
    "#3.1 Ключевые значения переменных\n",
    "#---При разведке региона исследуют 500 точек, из которых с помощью машинного обучения выбирают 200 лучших для разработки.\n",
    "#---Бюджет на разработку скважин в регионе — 10 млрд рублей.\n",
    "#---При нынешних ценах один баррель сырья приносит 450 рублей дохода. Доход с каждой единицы продукта составляет 450 тыс. рублей, \n",
    "#---поскольку объём указан в тысячах баррелей.\n",
    "#---После оценки рисков нужно оставить лишь те регионы, в которых вероятность убытков меньше 2.5%. \n",
    "#---Среди них выбирают регион с наибольшей средней прибылью.\n",
    "RESEARCH_POINTS = 500\n",
    "BEST_POINTS = 200\n",
    "BUDGET_FOR_DEVELOPMENT = 10**10\n",
    "PRICE_BARREL = 450\n",
    "REVENUE_PRODUCT = 450000 \n",
    "PROBABILITY_OF_LOSSES = 0.025"
   ]
  },
  {
   "cell_type": "code",
   "execution_count": 7,
   "metadata": {},
   "outputs": [
    {
     "name": "stdout",
     "output_type": "stream",
     "text": [
      "Достаточный объём сырья для безубыточной разработки новой скважины в тыс. баррелей: 111.1\n"
     ]
    }
   ],
   "source": [
    "#3.2 Расчет достаточного объема сырья для безубыточной разработки новой скважины\n",
    "break_even_point = BUDGET_FOR_DEVELOPMENT/ (REVENUE_PRODUCT * BEST_POINTS) #в тыс баррелей\n",
    "\n",
    "print(\"Достаточный объём сырья для безубыточной разработки новой скважины в тыс. баррелей:\", round(break_even_point,1))"
   ]
  },
  {
   "cell_type": "markdown",
   "metadata": {},
   "source": [
    "<div class=\"alert alert-info\">\n",
    "<b>Вывод: </b> \n",
    "Достаточный объём сырья для безубыточной разработки новой скважины 111 тыс. баррелей, что выше средний запаса предсказанного сырья в каждом из трех регионов.\n",
    "Но в каждом регионе можно найти некоторое количество скважин с прибыльной добычей.\n",
    "</div>"
   ]
  },
  {
   "cell_type": "markdown",
   "metadata": {},
   "source": [
    "## Расчёт прибыли и рисков "
   ]
  },
  {
   "cell_type": "markdown",
   "metadata": {},
   "source": [
    "Напишите функцию для расчёта прибыли по выбранным скважинам и предсказаниям модели:\n",
    "\n",
    "4.1. Выберите скважины с максимальными значениями предсказаний.\n",
    "\n",
    "4.2. Просуммируйте целевое значение объёма сырья, соответствующее этим предсказаниям.\n",
    "\n",
    "4.3. Рассчитайте прибыль для полученного объёма сырья."
   ]
  },
  {
   "cell_type": "code",
   "execution_count": 8,
   "metadata": {},
   "outputs": [],
   "source": [
    "#Напишите функцию для расчёта прибыли по выбранным скважинам и предсказаниям модели:\n",
    "def profit_by_region(predictions, target):\n",
    "    #4.1 Выберите скважины с максимальными значениями предсказаний.\n",
    "    sorted_predictions = predictions.sort_values(ascending=False)   \n",
    "    selected_target = target[sorted_predictions.index][:BEST_POINTS] #200 лучших\n",
    "    \n",
    "    #4.2. Просуммируйте целевое значение объёма сырья, соответствующее этим предсказаниям\n",
    "    product_volume = selected_target.sum() \n",
    "    \n",
    "    #4.3. Рассчитайте прибыль для полученного объёма сырья.\n",
    "    profit = REVENUE_PRODUCT * product_volume/1000 - (BUDGET_FOR_DEVELOPMENT/1000)\n",
    "    return profit"
   ]
  },
  {
   "cell_type": "code",
   "execution_count": 47,
   "metadata": {},
   "outputs": [],
   "source": [
    "#Посчитайте риски и прибыль для каждого региона:\n",
    "#5.1. Примените технику Bootstrap с 1000 выборок, чтобы найти распределение прибыли.\n",
    "def profit_risk_by_region(predictions, target):\n",
    "    state = np.random.RandomState(12345)\n",
    "    values = []\n",
    "    for i in range(1000):\n",
    "        subsample = target.sample(n=RESEARCH_POINTS, replace=True, random_state=state)\n",
    "        probs_subsample = predictions[subsample.index]\n",
    "        \n",
    "        prof = profit_by_region(probs_subsample, subsample)                           # функция расчёта прибыли \n",
    "        values.append(prof)  \n",
    "\n",
    "    #5.2. Найдите среднюю прибыль, 95%-й доверительный интервал и риск убытков. Убыток — это отрицательная прибыль.\n",
    "    values = pd.Series(values)\n",
    "    lower = values.quantile(PROBABILITY_OF_LOSSES)          # 2.5%-квантиль\n",
    "    higher = values.quantile(1 - PROBABILITY_OF_LOSSES)     # 97.5%-квантиль\n",
    "    mean = values.mean()                                    #средняя прибыль\n",
    "    prob_of_loss = (values < 0).mean() * 100    # риск убытков (отрицательная прибыль) в % #Updated 29.12.2021\n",
    "        \n",
    "    print('Средняя прибыль {:.0f} тыс.руб.,'.format(mean))\n",
    "    print('95% доверительный интервал среднего значения прибыли от {:.0f} до {:.0f} тыс.руб.'.format(lower, higher))\n",
    "    print('Риск убытков {:.1f} %'.format(prob_of_loss))\n",
    "    print()\n",
    "    return \n",
    "#5.3. Напишите выводы: предложите регион для разработки скважин и обоснуйте выбор."
   ]
  },
  {
   "cell_type": "code",
   "execution_count": 48,
   "metadata": {},
   "outputs": [
    {
     "name": "stdout",
     "output_type": "stream",
     "text": [
      "---------------\n",
      "    Регион 0    \n",
      "---------------\n",
      "Средняя прибыль 425939 тыс.руб.,\n",
      "95% доверительный интервал среднего значения прибыли от -102090 до 947976 тыс.руб.\n",
      "Риск убытков 6.0 %\n",
      "\n",
      "---------------\n",
      "    Регион 1    \n",
      "---------------\n",
      "Средняя прибыль 515223 тыс.руб.,\n",
      "95% доверительный интервал среднего значения прибыли от 68873 до 931548 тыс.руб.\n",
      "Риск убытков 1.0 %\n",
      "\n",
      "---------------\n",
      "    Регион 2    \n",
      "---------------\n",
      "Средняя прибыль 435008 тыс.руб.,\n",
      "95% доверительный интервал среднего значения прибыли от -128881 до 969707 тыс.руб.\n",
      "Риск убытков 6.4 %\n",
      "\n"
     ]
    }
   ],
   "source": [
    "#mean, lower, higher, prob_of_loss\n",
    "print('---------------')\n",
    "print('    Регион 0    ')\n",
    "print('---------------')\n",
    "profit_risk_by_region(predictions_0, target_0)\n",
    "print('---------------')\n",
    "print('    Регион 1    ')\n",
    "print('---------------')\n",
    "profit_risk_by_region(predictions_1, target_1)\n",
    "print('---------------')\n",
    "print('    Регион 2    ')\n",
    "print('---------------')\n",
    "profit_risk_by_region(predictions_2, target_2)"
   ]
  },
  {
   "cell_type": "markdown",
   "metadata": {},
   "source": [
    "<div class=\"alert alert-info\">\n",
    "<b>Вывод: </b> \n",
    "\n",
    "в качестве локации для скважины предлагаю выбрать Регион 1, поскольку\n",
    "\n",
    "1) средняя прибыль выше, чем в Регионе 0 и Регионе 2\n",
    "\n",
    "2) низкий риску убытков (1%)\n",
    "    \n",
    "3) в доверительный интервал 95% попали только прибыльные скважины\n",
    "\n",
    "</div>"
   ]
  },
  {
   "cell_type": "markdown",
   "metadata": {},
   "source": [
    "## Чек-лист готовности проекта"
   ]
  },
  {
   "cell_type": "markdown",
   "metadata": {},
   "source": [
    "Поставьте 'x' в выполненных пунктах. Далее нажмите Shift+Enter."
   ]
  },
  {
   "cell_type": "markdown",
   "metadata": {},
   "source": [
    "- [x]  Jupyter Notebook открыт\n",
    "- [x]  Весь код выполняется без ошибок\n",
    "- [x]  Ячейки с кодом расположены в порядке исполнения\n",
    "- [x]  Выполнен шаг 1: данные подготовлены\n",
    "- [x]  Выполнен шаг 2: модели обучены и проверены\n",
    "    - [x]  Данные корректно разбиты на обучающую и валидационную выборки\n",
    "    - [x]  Модели обучены, предсказания сделаны\n",
    "    - [x]  Предсказания и правильные ответы на валидационной выборке сохранены\n",
    "    - [x]  На экране напечатаны результаты\n",
    "    - [x]  Сделаны выводы\n",
    "- [x]  Выполнен шаг 3: проведена подготовка к расчёту прибыли\n",
    "    - [x]  Для всех ключевых значений созданы константы Python\n",
    "    - [x]  Посчитано минимальное среднее количество продукта в месторождениях региона, достаточное для разработки\n",
    "    - [x]  По предыдущему пункту сделаны выводы\n",
    "    - [x]  Написана функция расчёта прибыли\n",
    "- [x]  Выполнен шаг 4: посчитаны риски и прибыль\n",
    "    - [x]  Проведена процедура *Bootstrap*\n",
    "    - [x]  Все параметры бутстрепа соответствуют условию\n",
    "    - [x]  Найдены все нужные величины\n",
    "    - [x]  Предложен регион для разработки месторождения\n",
    "    - [x]  Выбор региона обоснован"
   ]
  },
  {
   "cell_type": "code",
   "execution_count": null,
   "metadata": {},
   "outputs": [],
   "source": []
  }
 ],
 "metadata": {
  "ExecuteTimeLog": [
   {
    "duration": 1155,
    "start_time": "2021-11-22T12:37:39.159Z"
   },
   {
    "duration": 177,
    "start_time": "2021-11-22T12:37:40.316Z"
   },
   {
    "duration": 584,
    "start_time": "2021-11-22T12:38:50.940Z"
   },
   {
    "duration": 330,
    "start_time": "2021-11-22T12:40:04.281Z"
   },
   {
    "duration": 30,
    "start_time": "2021-11-22T12:40:17.209Z"
   },
   {
    "duration": 85,
    "start_time": "2021-11-22T12:41:59.810Z"
   },
   {
    "duration": 78,
    "start_time": "2021-11-22T12:42:05.684Z"
   },
   {
    "duration": 104,
    "start_time": "2021-11-22T13:13:10.299Z"
   },
   {
    "duration": 79,
    "start_time": "2021-11-22T13:16:32.926Z"
   },
   {
    "duration": 82,
    "start_time": "2021-11-22T13:17:02.168Z"
   },
   {
    "duration": 10,
    "start_time": "2021-11-22T13:17:15.864Z"
   },
   {
    "duration": 293,
    "start_time": "2021-11-22T13:20:22.458Z"
   },
   {
    "duration": 278,
    "start_time": "2021-11-22T13:21:16.657Z"
   },
   {
    "duration": 11,
    "start_time": "2021-11-22T13:21:33.232Z"
   },
   {
    "duration": 21,
    "start_time": "2021-11-22T13:22:21.355Z"
   },
   {
    "duration": 4,
    "start_time": "2021-11-22T20:56:19.684Z"
   },
   {
    "duration": 528,
    "start_time": "2021-11-22T20:56:20.452Z"
   },
   {
    "duration": 102,
    "start_time": "2021-11-22T20:56:23.004Z"
   },
   {
    "duration": 248,
    "start_time": "2021-11-22T20:56:25.851Z"
   },
   {
    "duration": 3,
    "start_time": "2021-11-22T20:58:12.899Z"
   },
   {
    "duration": 547,
    "start_time": "2021-11-22T20:58:14.158Z"
   },
   {
    "duration": 101,
    "start_time": "2021-11-22T20:58:14.815Z"
   },
   {
    "duration": 29,
    "start_time": "2021-11-22T20:58:16.515Z"
   },
   {
    "duration": 23,
    "start_time": "2021-11-22T20:59:10.661Z"
   },
   {
    "duration": 34,
    "start_time": "2021-11-22T21:00:36.248Z"
   },
   {
    "duration": 27,
    "start_time": "2021-11-22T21:02:41.846Z"
   },
   {
    "duration": 26,
    "start_time": "2021-11-22T21:03:01.778Z"
   },
   {
    "duration": 29,
    "start_time": "2021-11-22T21:03:05.907Z"
   },
   {
    "duration": 30,
    "start_time": "2021-11-22T21:03:39.613Z"
   },
   {
    "duration": 27,
    "start_time": "2021-11-22T21:04:07.674Z"
   },
   {
    "duration": 31,
    "start_time": "2021-11-22T21:06:39.516Z"
   },
   {
    "duration": 34,
    "start_time": "2021-11-22T21:07:07.952Z"
   },
   {
    "duration": 34,
    "start_time": "2021-11-22T21:07:13.344Z"
   },
   {
    "duration": 290,
    "start_time": "2021-11-22T21:10:52.641Z"
   },
   {
    "duration": 45,
    "start_time": "2021-11-22T21:11:07.040Z"
   },
   {
    "duration": 17,
    "start_time": "2021-11-22T21:18:01.195Z"
   },
   {
    "duration": 14,
    "start_time": "2021-11-22T21:18:10.450Z"
   },
   {
    "duration": 4,
    "start_time": "2021-11-22T21:18:36.114Z"
   },
   {
    "duration": 553,
    "start_time": "2021-11-22T21:18:36.559Z"
   },
   {
    "duration": 125,
    "start_time": "2021-11-22T21:18:37.114Z"
   },
   {
    "duration": 43,
    "start_time": "2021-11-22T21:18:37.967Z"
   },
   {
    "duration": 20,
    "start_time": "2021-11-22T21:18:38.688Z"
   },
   {
    "duration": 362,
    "start_time": "2021-11-22T21:34:26.235Z"
   },
   {
    "duration": 457,
    "start_time": "2021-11-22T21:34:56.632Z"
   },
   {
    "duration": 397,
    "start_time": "2021-11-22T21:36:04.292Z"
   },
   {
    "duration": 453,
    "start_time": "2021-11-22T21:37:57.030Z"
   },
   {
    "duration": 385,
    "start_time": "2021-11-22T21:38:21.093Z"
   },
   {
    "duration": 416,
    "start_time": "2021-11-22T22:25:18.966Z"
   },
   {
    "duration": 432,
    "start_time": "2021-11-23T11:22:27.942Z"
   },
   {
    "duration": 1485,
    "start_time": "2021-11-23T11:24:19.990Z"
   },
   {
    "duration": 675,
    "start_time": "2021-11-23T11:24:21.478Z"
   },
   {
    "duration": 199,
    "start_time": "2021-11-23T11:24:22.156Z"
   },
   {
    "duration": 472,
    "start_time": "2021-11-23T11:24:23.761Z"
   },
   {
    "duration": 5,
    "start_time": "2021-11-23T11:24:27.233Z"
   },
   {
    "duration": 5,
    "start_time": "2021-11-23T11:24:28.680Z"
   },
   {
    "duration": 119,
    "start_time": "2021-11-23T11:50:41.218Z"
   },
   {
    "duration": 117,
    "start_time": "2021-11-23T11:59:07.327Z"
   },
   {
    "duration": 4,
    "start_time": "2021-11-23T11:59:18.555Z"
   },
   {
    "duration": 6,
    "start_time": "2021-11-23T11:59:30.049Z"
   },
   {
    "duration": 314,
    "start_time": "2021-12-07T12:23:44.210Z"
   },
   {
    "duration": 1086,
    "start_time": "2021-12-07T12:23:49.878Z"
   },
   {
    "duration": 496,
    "start_time": "2021-12-07T12:23:50.966Z"
   },
   {
    "duration": 111,
    "start_time": "2021-12-07T12:23:51.919Z"
   },
   {
    "duration": 462,
    "start_time": "2021-12-07T12:23:53.802Z"
   },
   {
    "duration": 308,
    "start_time": "2021-12-07T12:23:55.334Z"
   },
   {
    "duration": 259,
    "start_time": "2021-12-07T12:24:55.842Z"
   },
   {
    "duration": 292,
    "start_time": "2021-12-07T12:26:54.928Z"
   },
   {
    "duration": 3,
    "start_time": "2021-12-07T12:27:14.503Z"
   },
   {
    "duration": 1062,
    "start_time": "2021-12-07T12:28:30.016Z"
   },
   {
    "duration": 156,
    "start_time": "2021-12-07T12:30:03.120Z"
   },
   {
    "duration": 200,
    "start_time": "2021-12-07T12:30:55.486Z"
   },
   {
    "duration": 205,
    "start_time": "2021-12-07T12:31:11.231Z"
   },
   {
    "duration": 330,
    "start_time": "2021-12-07T12:31:36.014Z"
   },
   {
    "duration": 467,
    "start_time": "2021-12-07T12:31:47.437Z"
   },
   {
    "duration": 676,
    "start_time": "2021-12-07T12:32:11.261Z"
   },
   {
    "duration": 641,
    "start_time": "2021-12-07T12:32:44.606Z"
   },
   {
    "duration": 276,
    "start_time": "2021-12-07T20:43:41.268Z"
   },
   {
    "duration": 1027,
    "start_time": "2021-12-07T20:44:00.134Z"
   },
   {
    "duration": 460,
    "start_time": "2021-12-07T20:44:01.162Z"
   },
   {
    "duration": 98,
    "start_time": "2021-12-07T20:44:01.624Z"
   },
   {
    "duration": 467,
    "start_time": "2021-12-07T20:44:01.737Z"
   },
   {
    "duration": 650,
    "start_time": "2021-12-07T20:44:20.742Z"
   },
   {
    "duration": 601,
    "start_time": "2021-12-07T20:44:39.450Z"
   },
   {
    "duration": 234,
    "start_time": "2021-12-07T20:45:05.813Z"
   },
   {
    "duration": 598,
    "start_time": "2021-12-07T20:46:12.203Z"
   },
   {
    "duration": 652,
    "start_time": "2021-12-07T20:47:06.128Z"
   },
   {
    "duration": 594,
    "start_time": "2021-12-07T20:47:32.093Z"
   },
   {
    "duration": 612,
    "start_time": "2021-12-07T20:47:45.637Z"
   },
   {
    "duration": 234,
    "start_time": "2021-12-07T20:54:43.573Z"
   },
   {
    "duration": 4,
    "start_time": "2021-12-07T20:55:13.219Z"
   },
   {
    "duration": 271,
    "start_time": "2021-12-07T20:56:37.092Z"
   },
   {
    "duration": 230,
    "start_time": "2021-12-07T20:57:24.297Z"
   },
   {
    "duration": 232,
    "start_time": "2021-12-07T20:57:48.473Z"
   },
   {
    "duration": 240,
    "start_time": "2021-12-07T21:00:08.075Z"
   },
   {
    "duration": 233,
    "start_time": "2021-12-07T21:01:44.195Z"
   },
   {
    "duration": 253,
    "start_time": "2021-12-07T21:01:53.973Z"
   },
   {
    "duration": 238,
    "start_time": "2021-12-07T21:02:05.520Z"
   },
   {
    "duration": 225,
    "start_time": "2021-12-07T21:02:16.703Z"
   },
   {
    "duration": 229,
    "start_time": "2021-12-07T21:03:18.061Z"
   },
   {
    "duration": 1129,
    "start_time": "2021-12-28T18:17:00.475Z"
   },
   {
    "duration": 518,
    "start_time": "2021-12-28T18:17:01.606Z"
   },
   {
    "duration": 110,
    "start_time": "2021-12-28T18:17:05.392Z"
   },
   {
    "duration": 450,
    "start_time": "2021-12-28T18:17:07.451Z"
   },
   {
    "duration": 707,
    "start_time": "2021-12-28T18:17:08.878Z"
   },
   {
    "duration": 3,
    "start_time": "2021-12-28T18:17:12.101Z"
   },
   {
    "duration": 3,
    "start_time": "2021-12-28T18:17:13.019Z"
   },
   {
    "duration": 4,
    "start_time": "2021-12-28T18:17:16.207Z"
   },
   {
    "duration": 45,
    "start_time": "2021-12-28T18:17:17.169Z"
   },
   {
    "duration": 216,
    "start_time": "2021-12-28T18:17:18.072Z"
   },
   {
    "duration": 5,
    "start_time": "2021-12-28T18:17:23.830Z"
   },
   {
    "duration": 298,
    "start_time": "2021-12-28T18:17:26.153Z"
   },
   {
    "duration": 5,
    "start_time": "2021-12-28T18:18:41.432Z"
   },
   {
    "duration": 268,
    "start_time": "2021-12-28T18:18:42.144Z"
   },
   {
    "duration": 264,
    "start_time": "2021-12-28T18:27:06.499Z"
   },
   {
    "duration": 8,
    "start_time": "2021-12-28T18:27:38.244Z"
   },
   {
    "duration": 6,
    "start_time": "2021-12-28T18:27:57.655Z"
   },
   {
    "duration": 6,
    "start_time": "2021-12-28T18:28:23.582Z"
   },
   {
    "duration": 47,
    "start_time": "2021-12-28T18:28:32.232Z"
   },
   {
    "duration": 422,
    "start_time": "2021-12-28T18:30:34.190Z"
   },
   {
    "duration": 696,
    "start_time": "2021-12-28T18:30:36.358Z"
   },
   {
    "duration": 3,
    "start_time": "2021-12-28T18:30:38.995Z"
   },
   {
    "duration": 4,
    "start_time": "2021-12-28T18:30:39.699Z"
   },
   {
    "duration": 3,
    "start_time": "2021-12-28T18:30:41.757Z"
   },
   {
    "duration": 4,
    "start_time": "2021-12-28T18:30:42.051Z"
   },
   {
    "duration": 44,
    "start_time": "2021-12-28T18:30:50.260Z"
   },
   {
    "duration": 264,
    "start_time": "2021-12-28T18:30:59.066Z"
   },
   {
    "duration": 73,
    "start_time": "2021-12-28T18:36:34.297Z"
   },
   {
    "duration": 615,
    "start_time": "2021-12-28T18:36:34.895Z"
   },
   {
    "duration": 5,
    "start_time": "2021-12-28T18:39:18.465Z"
   },
   {
    "duration": 387,
    "start_time": "2021-12-28T18:39:19.372Z"
   },
   {
    "duration": 5,
    "start_time": "2021-12-28T18:39:35.067Z"
   },
   {
    "duration": 399,
    "start_time": "2021-12-28T18:39:35.934Z"
   },
   {
    "duration": 6,
    "start_time": "2021-12-28T18:40:24.306Z"
   },
   {
    "duration": 383,
    "start_time": "2021-12-28T18:40:24.938Z"
   },
   {
    "duration": 6,
    "start_time": "2021-12-28T19:29:20.112Z"
   },
   {
    "duration": 248,
    "start_time": "2021-12-28T19:30:23.885Z"
   },
   {
    "duration": 362,
    "start_time": "2021-12-28T19:32:00.074Z"
   },
   {
    "duration": 739,
    "start_time": "2021-12-28T19:32:44.973Z"
   },
   {
    "duration": 313,
    "start_time": "2021-12-28T19:32:52.818Z"
   },
   {
    "duration": 314,
    "start_time": "2021-12-28T19:34:04.099Z"
   },
   {
    "duration": 3,
    "start_time": "2021-12-28T19:34:08.955Z"
   },
   {
    "duration": 543,
    "start_time": "2021-12-28T19:34:09.693Z"
   },
   {
    "duration": 94,
    "start_time": "2021-12-28T19:34:11.676Z"
   },
   {
    "duration": 290,
    "start_time": "2021-12-28T19:34:12.822Z"
   },
   {
    "duration": 389,
    "start_time": "2021-12-28T19:36:50.705Z"
   },
   {
    "duration": 377,
    "start_time": "2021-12-28T19:37:02.733Z"
   },
   {
    "duration": 10466,
    "start_time": "2021-12-28T19:39:47.656Z"
   },
   {
    "duration": 697,
    "start_time": "2021-12-28T19:40:46.568Z"
   },
   {
    "duration": 3,
    "start_time": "2021-12-28T19:40:49.470Z"
   },
   {
    "duration": 4,
    "start_time": "2021-12-28T19:40:50.147Z"
   },
   {
    "duration": 4,
    "start_time": "2021-12-28T19:40:52.840Z"
   },
   {
    "duration": 6,
    "start_time": "2021-12-28T19:40:53.636Z"
   },
   {
    "duration": 508,
    "start_time": "2021-12-28T19:40:54.987Z"
   },
   {
    "duration": 58,
    "start_time": "2021-12-28T19:43:03.026Z"
   },
   {
    "duration": 53,
    "start_time": "2021-12-28T19:43:31.624Z"
   },
   {
    "duration": 21215,
    "start_time": "2021-12-28T19:43:40.839Z"
   },
   {
    "duration": 5,
    "start_time": "2021-12-28T19:45:38.737Z"
   },
   {
    "duration": 268,
    "start_time": "2021-12-28T19:45:49.603Z"
   },
   {
    "duration": 6,
    "start_time": "2021-12-28T19:46:09.306Z"
   },
   {
    "duration": 5,
    "start_time": "2021-12-28T19:46:32.735Z"
   },
   {
    "duration": 513,
    "start_time": "2021-12-28T19:46:33.536Z"
   },
   {
    "duration": 404,
    "start_time": "2021-12-28T19:52:37.105Z"
   },
   {
    "duration": 743,
    "start_time": "2021-12-28T19:52:48.244Z"
   },
   {
    "duration": 3,
    "start_time": "2021-12-28T19:52:54.186Z"
   },
   {
    "duration": 4,
    "start_time": "2021-12-28T19:52:54.796Z"
   },
   {
    "duration": 4,
    "start_time": "2021-12-28T19:52:57.417Z"
   },
   {
    "duration": 94,
    "start_time": "2021-12-28T19:52:58.231Z"
   },
   {
    "duration": 284,
    "start_time": "2021-12-28T19:53:03.879Z"
   },
   {
    "duration": 5,
    "start_time": "2021-12-28T19:53:22.631Z"
   },
   {
    "duration": 273,
    "start_time": "2021-12-28T19:53:27.444Z"
   },
   {
    "duration": 5,
    "start_time": "2021-12-28T19:53:45.413Z"
   },
   {
    "duration": 254,
    "start_time": "2021-12-28T19:53:46.743Z"
   },
   {
    "duration": 6,
    "start_time": "2021-12-28T19:54:03.226Z"
   },
   {
    "duration": 270,
    "start_time": "2021-12-28T19:54:05.149Z"
   },
   {
    "duration": 8,
    "start_time": "2021-12-28T19:56:58.793Z"
   },
   {
    "duration": 7025,
    "start_time": "2021-12-28T19:56:59.570Z"
   },
   {
    "duration": 5,
    "start_time": "2021-12-28T19:57:24.828Z"
   },
   {
    "duration": 3127,
    "start_time": "2021-12-28T19:57:25.566Z"
   },
   {
    "duration": 9379,
    "start_time": "2021-12-28T19:57:39.364Z"
   },
   {
    "duration": 10324,
    "start_time": "2021-12-28T19:58:35.726Z"
   },
   {
    "duration": 3,
    "start_time": "2021-12-28T20:26:29.278Z"
   },
   {
    "duration": 485,
    "start_time": "2021-12-28T20:26:30.391Z"
   },
   {
    "duration": 96,
    "start_time": "2021-12-28T20:26:32.585Z"
   },
   {
    "duration": 406,
    "start_time": "2021-12-28T20:26:34.605Z"
   },
   {
    "duration": 731,
    "start_time": "2021-12-28T20:26:35.795Z"
   },
   {
    "duration": 3,
    "start_time": "2021-12-28T20:26:39.146Z"
   },
   {
    "duration": 4,
    "start_time": "2021-12-28T20:26:39.928Z"
   },
   {
    "duration": 4,
    "start_time": "2021-12-28T20:26:43.451Z"
   },
   {
    "duration": 5,
    "start_time": "2021-12-28T20:26:46.465Z"
   },
   {
    "duration": 9468,
    "start_time": "2021-12-28T20:26:47.237Z"
   },
   {
    "duration": 10588,
    "start_time": "2021-12-28T20:26:56.706Z"
   },
   {
    "duration": 10370,
    "start_time": "2021-12-28T20:31:17.810Z"
   },
   {
    "duration": 9941,
    "start_time": "2021-12-28T20:31:55.138Z"
   },
   {
    "duration": 4,
    "start_time": "2021-12-28T20:36:43.307Z"
   },
   {
    "duration": 5,
    "start_time": "2021-12-28T20:36:44.071Z"
   },
   {
    "duration": 9499,
    "start_time": "2021-12-28T20:36:45.519Z"
   },
   {
    "duration": 1512,
    "start_time": "2021-12-29T09:12:16.402Z"
   },
   {
    "duration": 1050,
    "start_time": "2021-12-29T09:12:17.916Z"
   },
   {
    "duration": 221,
    "start_time": "2021-12-29T09:12:18.973Z"
   },
   {
    "duration": 493,
    "start_time": "2021-12-29T09:12:21.502Z"
   },
   {
    "duration": 1304,
    "start_time": "2021-12-29T09:12:22.774Z"
   },
   {
    "duration": 4,
    "start_time": "2021-12-29T09:12:25.548Z"
   },
   {
    "duration": 5,
    "start_time": "2021-12-29T09:12:26.863Z"
   },
   {
    "duration": 5,
    "start_time": "2021-12-29T09:12:30.283Z"
   },
   {
    "duration": 8,
    "start_time": "2021-12-29T09:12:31.588Z"
   },
   {
    "duration": 18952,
    "start_time": "2021-12-29T09:12:35.167Z"
   },
   {
    "duration": 16,
    "start_time": "2021-12-29T09:13:55.079Z"
   },
   {
    "duration": 6588,
    "start_time": "2021-12-29T09:20:11.578Z"
   },
   {
    "duration": 19029,
    "start_time": "2021-12-29T09:20:51.417Z"
   },
   {
    "duration": 20095,
    "start_time": "2021-12-29T09:21:22.796Z"
   },
   {
    "duration": 20459,
    "start_time": "2021-12-29T09:22:00.260Z"
   },
   {
    "duration": 8,
    "start_time": "2021-12-29T09:22:31.063Z"
   },
   {
    "duration": 19655,
    "start_time": "2021-12-29T09:22:55.110Z"
   },
   {
    "duration": 19660,
    "start_time": "2021-12-29T09:23:43.060Z"
   },
   {
    "duration": 17295,
    "start_time": "2021-12-29T09:24:22.331Z"
   },
   {
    "duration": 94,
    "start_time": "2021-12-29T09:26:42.091Z"
   },
   {
    "duration": 25322,
    "start_time": "2021-12-29T09:27:36.814Z"
   },
   {
    "duration": 16149,
    "start_time": "2021-12-29T09:30:43.311Z"
   },
   {
    "duration": 17303,
    "start_time": "2021-12-29T09:31:46.131Z"
   },
   {
    "duration": 33087,
    "start_time": "2021-12-29T09:37:08.295Z"
   },
   {
    "duration": 40357,
    "start_time": "2021-12-29T09:39:18.123Z"
   },
   {
    "duration": 42940,
    "start_time": "2021-12-29T09:41:06.269Z"
   },
   {
    "duration": 749,
    "start_time": "2021-12-29T09:53:15.995Z"
   },
   {
    "duration": 675,
    "start_time": "2021-12-29T09:53:39.603Z"
   },
   {
    "duration": 14,
    "start_time": "2021-12-29T09:54:28.382Z"
   },
   {
    "duration": 128,
    "start_time": "2021-12-29T09:54:33.522Z"
   },
   {
    "duration": 7088,
    "start_time": "2021-12-29T09:54:47.673Z"
   },
   {
    "duration": 12,
    "start_time": "2021-12-29T09:55:19.451Z"
   },
   {
    "duration": 12,
    "start_time": "2021-12-29T09:55:22.637Z"
   },
   {
    "duration": 7325,
    "start_time": "2021-12-29T09:55:26.482Z"
   },
   {
    "duration": 12,
    "start_time": "2021-12-29T09:56:33.910Z"
   },
   {
    "duration": 6391,
    "start_time": "2021-12-29T09:56:37.226Z"
   },
   {
    "duration": 10,
    "start_time": "2021-12-29T09:57:26.773Z"
   },
   {
    "duration": 17697,
    "start_time": "2021-12-29T09:57:30.518Z"
   },
   {
    "duration": 11,
    "start_time": "2021-12-29T10:04:04.342Z"
   },
   {
    "duration": 17542,
    "start_time": "2021-12-29T10:04:10.001Z"
   },
   {
    "duration": 23818,
    "start_time": "2021-12-29T10:16:58.686Z"
   },
   {
    "duration": 18406,
    "start_time": "2021-12-29T10:18:06.562Z"
   },
   {
    "duration": 22067,
    "start_time": "2021-12-29T10:18:38.579Z"
   },
   {
    "duration": 7240,
    "start_time": "2021-12-29T10:21:50.371Z"
   },
   {
    "duration": 8,
    "start_time": "2021-12-29T10:42:42.445Z"
   },
   {
    "duration": 18534,
    "start_time": "2021-12-29T10:42:46.084Z"
   }
  ],
  "kernelspec": {
   "display_name": "Python 3",
   "language": "python",
   "name": "python3"
  },
  "language_info": {
   "codemirror_mode": {
    "name": "ipython",
    "version": 3
   },
   "file_extension": ".py",
   "mimetype": "text/x-python",
   "name": "python",
   "nbconvert_exporter": "python",
   "pygments_lexer": "ipython3",
   "version": "3.7.8"
  },
  "toc": {
   "base_numbering": 1,
   "nav_menu": {},
   "number_sections": true,
   "sideBar": true,
   "skip_h1_title": true,
   "title_cell": "Table of Contents",
   "title_sidebar": "Contents",
   "toc_cell": false,
   "toc_position": {},
   "toc_section_display": true,
   "toc_window_display": false
  }
 },
 "nbformat": 4,
 "nbformat_minor": 2
}

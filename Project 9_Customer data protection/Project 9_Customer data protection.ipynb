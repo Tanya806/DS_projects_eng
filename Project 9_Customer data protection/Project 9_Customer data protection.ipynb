{
 "cells": [
  {
   "cell_type": "markdown",
   "metadata": {
    "toc": true
   },
   "source": [
    "<h1>Содержание<span class=\"tocSkip\"></span></h1>\n",
    "<div class=\"toc\"><ul class=\"toc-item\"><li><span><a href=\"#Загрузка-данных\" data-toc-modified-id=\"Загрузка-данных-1\"><span class=\"toc-item-num\">1&nbsp;&nbsp;</span>Загрузка данных</a></span></li><li><span><a href=\"#Умножение-матриц\" data-toc-modified-id=\"Умножение-матриц-2\"><span class=\"toc-item-num\">2&nbsp;&nbsp;</span>Умножение матриц</a></span></li><li><span><a href=\"#Алгоритм-преобразования\" data-toc-modified-id=\"Алгоритм-преобразования-3\"><span class=\"toc-item-num\">3&nbsp;&nbsp;</span>Алгоритм преобразования</a></span></li><li><span><a href=\"#Проверка-алгоритма\" data-toc-modified-id=\"Проверка-алгоритма-4\"><span class=\"toc-item-num\">4&nbsp;&nbsp;</span>Проверка алгоритма</a></span></li><li><span><a href=\"#Чек-лист-проверки\" data-toc-modified-id=\"Чек-лист-проверки-5\"><span class=\"toc-item-num\">5&nbsp;&nbsp;</span>Чек-лист проверки</a></span></li></ul></div>"
   ]
  },
  {
   "cell_type": "markdown",
   "metadata": {},
   "source": [
    "# Защита персональных данных клиентов"
   ]
  },
  {
   "cell_type": "markdown",
   "metadata": {},
   "source": [
    "Вам нужно защитить данные клиентов страховой компании «Хоть потоп». Разработайте такой метод преобразования данных, чтобы по ним было сложно восстановить персональную информацию. Обоснуйте корректность его работы.\n",
    "\n",
    "Нужно защитить данные, чтобы при преобразовании качество моделей машинного обучения не ухудшилось. Подбирать наилучшую модель не требуется."
   ]
  },
  {
   "cell_type": "markdown",
   "metadata": {},
   "source": [
    "## Загрузка данных"
   ]
  },
  {
   "cell_type": "code",
   "execution_count": 81,
   "metadata": {},
   "outputs": [
    {
     "data": {
      "text/html": [
       "<div>\n",
       "<style scoped>\n",
       "    .dataframe tbody tr th:only-of-type {\n",
       "        vertical-align: middle;\n",
       "    }\n",
       "\n",
       "    .dataframe tbody tr th {\n",
       "        vertical-align: top;\n",
       "    }\n",
       "\n",
       "    .dataframe thead th {\n",
       "        text-align: right;\n",
       "    }\n",
       "</style>\n",
       "<table border=\"1\" class=\"dataframe\">\n",
       "  <thead>\n",
       "    <tr style=\"text-align: right;\">\n",
       "      <th></th>\n",
       "      <th>Пол</th>\n",
       "      <th>Возраст</th>\n",
       "      <th>Зарплата</th>\n",
       "      <th>Члены семьи</th>\n",
       "      <th>Страховые выплаты</th>\n",
       "    </tr>\n",
       "  </thead>\n",
       "  <tbody>\n",
       "    <tr>\n",
       "      <td>0</td>\n",
       "      <td>1</td>\n",
       "      <td>41.0</td>\n",
       "      <td>49600.0</td>\n",
       "      <td>1</td>\n",
       "      <td>0</td>\n",
       "    </tr>\n",
       "    <tr>\n",
       "      <td>1</td>\n",
       "      <td>0</td>\n",
       "      <td>46.0</td>\n",
       "      <td>38000.0</td>\n",
       "      <td>1</td>\n",
       "      <td>1</td>\n",
       "    </tr>\n",
       "    <tr>\n",
       "      <td>2</td>\n",
       "      <td>0</td>\n",
       "      <td>29.0</td>\n",
       "      <td>21000.0</td>\n",
       "      <td>0</td>\n",
       "      <td>0</td>\n",
       "    </tr>\n",
       "    <tr>\n",
       "      <td>3</td>\n",
       "      <td>0</td>\n",
       "      <td>21.0</td>\n",
       "      <td>41700.0</td>\n",
       "      <td>2</td>\n",
       "      <td>0</td>\n",
       "    </tr>\n",
       "    <tr>\n",
       "      <td>4</td>\n",
       "      <td>1</td>\n",
       "      <td>28.0</td>\n",
       "      <td>26100.0</td>\n",
       "      <td>0</td>\n",
       "      <td>0</td>\n",
       "    </tr>\n",
       "  </tbody>\n",
       "</table>\n",
       "</div>"
      ],
      "text/plain": [
       "   Пол  Возраст  Зарплата  Члены семьи  Страховые выплаты\n",
       "0    1     41.0   49600.0            1                  0\n",
       "1    0     46.0   38000.0            1                  1\n",
       "2    0     29.0   21000.0            0                  0\n",
       "3    0     21.0   41700.0            2                  0\n",
       "4    1     28.0   26100.0            0                  0"
      ]
     },
     "metadata": {},
     "output_type": "display_data"
    },
    {
     "data": {
      "text/html": [
       "<div>\n",
       "<style scoped>\n",
       "    .dataframe tbody tr th:only-of-type {\n",
       "        vertical-align: middle;\n",
       "    }\n",
       "\n",
       "    .dataframe tbody tr th {\n",
       "        vertical-align: top;\n",
       "    }\n",
       "\n",
       "    .dataframe thead th {\n",
       "        text-align: right;\n",
       "    }\n",
       "</style>\n",
       "<table border=\"1\" class=\"dataframe\">\n",
       "  <thead>\n",
       "    <tr style=\"text-align: right;\">\n",
       "      <th></th>\n",
       "      <th>Пол</th>\n",
       "      <th>Возраст</th>\n",
       "      <th>Зарплата</th>\n",
       "      <th>Члены семьи</th>\n",
       "      <th>Страховые выплаты</th>\n",
       "    </tr>\n",
       "  </thead>\n",
       "  <tbody>\n",
       "    <tr>\n",
       "      <td>count</td>\n",
       "      <td>5000.000000</td>\n",
       "      <td>5000.000000</td>\n",
       "      <td>5000.000000</td>\n",
       "      <td>5000.000000</td>\n",
       "      <td>5000.000000</td>\n",
       "    </tr>\n",
       "    <tr>\n",
       "      <td>mean</td>\n",
       "      <td>0.499000</td>\n",
       "      <td>30.952800</td>\n",
       "      <td>39916.360000</td>\n",
       "      <td>1.194200</td>\n",
       "      <td>0.148000</td>\n",
       "    </tr>\n",
       "    <tr>\n",
       "      <td>std</td>\n",
       "      <td>0.500049</td>\n",
       "      <td>8.440807</td>\n",
       "      <td>9900.083569</td>\n",
       "      <td>1.091387</td>\n",
       "      <td>0.463183</td>\n",
       "    </tr>\n",
       "    <tr>\n",
       "      <td>min</td>\n",
       "      <td>0.000000</td>\n",
       "      <td>18.000000</td>\n",
       "      <td>5300.000000</td>\n",
       "      <td>0.000000</td>\n",
       "      <td>0.000000</td>\n",
       "    </tr>\n",
       "    <tr>\n",
       "      <td>25%</td>\n",
       "      <td>0.000000</td>\n",
       "      <td>24.000000</td>\n",
       "      <td>33300.000000</td>\n",
       "      <td>0.000000</td>\n",
       "      <td>0.000000</td>\n",
       "    </tr>\n",
       "    <tr>\n",
       "      <td>50%</td>\n",
       "      <td>0.000000</td>\n",
       "      <td>30.000000</td>\n",
       "      <td>40200.000000</td>\n",
       "      <td>1.000000</td>\n",
       "      <td>0.000000</td>\n",
       "    </tr>\n",
       "    <tr>\n",
       "      <td>75%</td>\n",
       "      <td>1.000000</td>\n",
       "      <td>37.000000</td>\n",
       "      <td>46600.000000</td>\n",
       "      <td>2.000000</td>\n",
       "      <td>0.000000</td>\n",
       "    </tr>\n",
       "    <tr>\n",
       "      <td>max</td>\n",
       "      <td>1.000000</td>\n",
       "      <td>65.000000</td>\n",
       "      <td>79000.000000</td>\n",
       "      <td>6.000000</td>\n",
       "      <td>5.000000</td>\n",
       "    </tr>\n",
       "  </tbody>\n",
       "</table>\n",
       "</div>"
      ],
      "text/plain": [
       "               Пол      Возраст      Зарплата  Члены семьи  Страховые выплаты\n",
       "count  5000.000000  5000.000000   5000.000000  5000.000000        5000.000000\n",
       "mean      0.499000    30.952800  39916.360000     1.194200           0.148000\n",
       "std       0.500049     8.440807   9900.083569     1.091387           0.463183\n",
       "min       0.000000    18.000000   5300.000000     0.000000           0.000000\n",
       "25%       0.000000    24.000000  33300.000000     0.000000           0.000000\n",
       "50%       0.000000    30.000000  40200.000000     1.000000           0.000000\n",
       "75%       1.000000    37.000000  46600.000000     2.000000           0.000000\n",
       "max       1.000000    65.000000  79000.000000     6.000000           5.000000"
      ]
     },
     "metadata": {},
     "output_type": "display_data"
    },
    {
     "name": "stdout",
     "output_type": "stream",
     "text": [
      "<class 'pandas.core.frame.DataFrame'>\n",
      "RangeIndex: 5000 entries, 0 to 4999\n",
      "Data columns (total 5 columns):\n",
      "Пол                  5000 non-null int64\n",
      "Возраст              5000 non-null float64\n",
      "Зарплата             5000 non-null float64\n",
      "Члены семьи          5000 non-null int64\n",
      "Страховые выплаты    5000 non-null int64\n",
      "dtypes: float64(2), int64(3)\n",
      "memory usage: 195.4 KB\n"
     ]
    }
   ],
   "source": [
    "import numpy as np\n",
    "import pandas as pd\n",
    "import matplotlib.pyplot as plt\n",
    "from IPython.display import display\n",
    "\n",
    "from sklearn.linear_model import LinearRegression\n",
    "from sklearn.model_selection import train_test_split\n",
    "from sklearn.metrics import r2_score\n",
    "\n",
    "df_data = pd.read_csv('/datasets/insurance.csv')\n",
    "display(df_data.head(5))\n",
    "display(df_data.describe())\n",
    "df_data.info()"
   ]
  },
  {
   "cell_type": "code",
   "execution_count": 82,
   "metadata": {
    "scrolled": false
   },
   "outputs": [
    {
     "data": {
      "text/plain": [
       "Пол                  0\n",
       "Возраст              0\n",
       "Зарплата             0\n",
       "Члены семьи          0\n",
       "Страховые выплаты    0\n",
       "dtype: int64"
      ]
     },
     "metadata": {},
     "output_type": "display_data"
    },
    {
     "name": "stdout",
     "output_type": "stream",
     "text": [
      "Число полных дубликатов:  153\n",
      "\n",
      "<class 'pandas.core.frame.DataFrame'>\n",
      "RangeIndex: 5000 entries, 0 to 4999\n",
      "Data columns (total 5 columns):\n",
      "Пол                  5000 non-null int64\n",
      "Возраст              5000 non-null Int64\n",
      "Зарплата             5000 non-null float64\n",
      "Члены семьи          5000 non-null int64\n",
      "Страховые выплаты    5000 non-null int64\n",
      "dtypes: Int64(1), float64(1), int64(3)\n",
      "memory usage: 200.3 KB\n",
      "\n"
     ]
    },
    {
     "data": {
      "image/png": "[encoded data removed]",
      "text/plain": [
       "<Figure size 432x288 with 1 Axes>"
      ]
     },
     "metadata": {
      "needs_background": "light"
     },
     "output_type": "display_data"
    },
    {
     "data": {
      "image/png": "[encoded data removed]",
      "text/plain": [
       "<Figure size 1080x432 with 1 Axes>"
      ]
     },
     "metadata": {
      "needs_background": "light"
     },
     "output_type": "display_data"
    },
    {
     "data": {
      "image/png": "[encoded data removed]",
      "text/plain": [
       "<Figure size 432x288 with 1 Axes>"
      ]
     },
     "metadata": {
      "needs_background": "light"
     },
     "output_type": "display_data"
    },
    {
     "data": {
      "image/png": "[encoded data removed]",
      "text/plain": [
       "<Figure size 432x288 with 1 Axes>"
      ]
     },
     "metadata": {
      "needs_background": "light"
     },
     "output_type": "display_data"
    },
    {
     "data": {
      "image/png": "[encoded data removed]",
      "text/plain": [
       "<Figure size 432x288 with 1 Axes>"
      ]
     },
     "metadata": {
      "needs_background": "light"
     },
     "output_type": "display_data"
    }
   ],
   "source": [
    "#Проверим, есть ли пропуски в данных\n",
    "display(df_data.isnull().sum())\n",
    "\n",
    "#Проверим наличие полных дубликатов\n",
    "print('Число полных дубликатов: ', df_data.duplicated().sum())\n",
    "##В данном датасете дубликаты - это не ошибка\n",
    "\n",
    "#Преобразуем тип возрастав в int из  float\n",
    "df_data['Возраст'] = df_data['Возраст'].astype('Int64')\n",
    "#df_data['Возраст'] = df_data['Возраст'].astype('Int64')\n",
    "print()\n",
    "df_data.info()\n",
    "print()\n",
    "#Посмотрим на распределение данных на графиках\n",
    "df_data['Пол'].value_counts().plot(kind='bar',label= 'Пол', color = '#FF8C00', alpha = 0.5)\n",
    "plt.title('Гистограмма пола')\n",
    "plt.show()\n",
    "\n",
    "df_data['Возраст'].value_counts().plot(figsize=(15,6),kind='bar',label= 'Возраст', color = 'g', alpha = 0.5)\n",
    "plt.title('Гистограмма возраста')\n",
    "plt.show()\n",
    "\n",
    "df_data['Зарплата'].hist(bins=15,range=(5000,80000), label= 'Зарплата', color = 'b', alpha = 0.5)\n",
    "plt.title('Гистограмма зарплаты')\n",
    "plt.show()\n",
    "\n",
    "df_data['Члены семьи'].value_counts().plot(kind='bar',label= 'Члены семьи', color = 'y', alpha = 0.5)\n",
    "plt.title('Гистограмма членов семьи')\n",
    "plt.show()\n",
    "\n",
    "df_data['Страховые выплаты'].value_counts().plot(kind='bar',label= 'Число страховых выплат', color = '#00BFFF', alpha = 0.5)\n",
    "plt.title('Гистограмма числа страховых выплат')\n",
    "plt.show()"
   ]
  },
  {
   "cell_type": "markdown",
   "metadata": {},
   "source": [
    "<div class=\"alert alert-block alert-success\">\n",
    "✔️ Проделан очень подробный предварительный анализ данных. Препятствий к выполнению задачи нет.\n",
    "</div>"
   ]
  },
  {
   "cell_type": "markdown",
   "metadata": {},
   "source": [
    "## Умножение матриц"
   ]
  },
  {
   "cell_type": "markdown",
   "metadata": {},
   "source": [
    "В этом задании вы можете записывать формулы в *Jupyter Notebook.*\n",
    "\n",
    "Чтобы записать формулу внутри текста, окружите её символами доллара \\\\$; если снаружи —  двойными символами \\\\$\\\\$. Эти формулы записываются на языке вёрстки *LaTeX.* \n",
    "\n",
    "Для примера мы записали формулы линейной регрессии. Можете их скопировать и отредактировать, чтобы решить задачу.\n",
    "\n",
    "Работать в *LaTeX* необязательно."
   ]
  },
  {
   "cell_type": "markdown",
   "metadata": {},
   "source": [
    "Обозначения:\n",
    "\n",
    "- $X$ — матрица признаков (нулевой столбец состоит из единиц)\n",
    "\n",
    "- $y$ — вектор целевого признака\n",
    "\n",
    "- $P$ — матрица, на которую умножаются признаки\n",
    "\n",
    "- $w$ — вектор весов линейной регрессии (нулевой элемент равен сдвигу)"
   ]
  },
  {
   "cell_type": "markdown",
   "metadata": {},
   "source": [
    "Предсказания:\n",
    "\n",
    "$$\n",
    "a = Xw\n",
    "$$\n",
    "\n",
    "Задача обучения:\n",
    "\n",
    "$$\n",
    "w = \\arg\\min_w MSE(Xw, y)\n",
    "$$\n",
    "\n",
    "Формула обучения:\n",
    "\n",
    "$$\n",
    "w = (X^T X)^{-1} X^T y\n",
    "$$"
   ]
  },
  {
   "cell_type": "markdown",
   "metadata": {},
   "source": [
    "**Ответ:** При умнажении признаков на обратимую матрицу качество линейной регрессии не изменится.\n",
    "\n",
    "**Обоснование:** для обоснования получим предсказания домноженных на обратимую матрицу признаков и сравним с исходными.\n",
    "\n",
    "1. Предсказания для домноженных на обратимую матрицу признаков:\n",
    "$$\n",
    "b = XPw'\n",
    "$$\n",
    "\n",
    "Формула обучения:\n",
    "$$\n",
    "w' = ((XP)^T XP)^{-1} (XP)^T y\n",
    "$$\n",
    "\n",
    "2. Рассмотрим следующие свойства обратимых и транспонированных матриц:\n",
    "\n",
    "$$(AB)^{-1}=B^{-1}A^{-1}\n",
    "$$\n",
    "$$(A^{T})^{-1}=(A^{-1})^{T}\n",
    "$$\n",
    "$$(AB)^{T}=B^{T}A^{T}\n",
    "$$\n",
    "$$(A^{T})^{-1}=(A^{-1})^{T}\n",
    "$$\n",
    "и свойство умножения матриц:\n",
    "$$A(BC)=(AB)C\n",
    "$$\n",
    "\n",
    "Тогда формула обучения:\n",
    "$$w' = (P^T X^T XP)^{-1} P^T X^T y\n",
    "$$\n",
    "$$w' = (P^T X^T XP)^{-1} P^T X^T y\n",
    "$$\n",
    "$$w' = (X^T XP)^{-1} (P^T)^{-1} P^T X^T y\n",
    "$$\n",
    "$$w' = P^{-1}(X^T X)^{-1} X^T y\n",
    "$$\n",
    "Так как $$b = XPw'$$ то  $$b = XP P^{-1}(X^T X)^{-1} X^T y\n",
    "$$\n",
    "$$b = X(X^T X)^{-1} X^T y\n",
    "$$\n",
    "$$b = Xw\n",
    "$$\n",
    "Значит,\n",
    "$$ b=a\n",
    "$$"
   ]
  },
  {
   "cell_type": "markdown",
   "metadata": {},
   "source": [
    "## Алгоритм преобразования"
   ]
  },
  {
   "cell_type": "markdown",
   "metadata": {},
   "source": [
    "**Алгоритм**\n",
    "1. Определим признаки для обучения модели и случайную обратимую матрицу P\n",
    "2. Умножим исходные признаки на обратимую матрицу и посчитаем метрику R2. "
   ]
  },
  {
   "cell_type": "markdown",
   "metadata": {},
   "source": [
    "**Обоснование**\n",
    "\n",
    "Как показано на Шаге 2, при таком преобразовании качество моделей линейной регрессии не ухудшится."
   ]
  },
  {
   "cell_type": "markdown",
   "metadata": {},
   "source": [
    "## Проверка алгоритма"
   ]
  },
  {
   "cell_type": "code",
   "execution_count": 85,
   "metadata": {},
   "outputs": [
    {
     "name": "stdout",
     "output_type": "stream",
     "text": [
      "Размеры признаков для обучающей выборки:  (5000, 4)\n",
      "Размеры целевого признака:  (5000,)\n",
      "Случайная матрица P: [[-0.15894088  0.86727081 -0.60030046  0.30563389]\n",
      " [-0.02418549 -0.07729853  2.8598873  -0.23709247]\n",
      " [ 0.55700655  0.03074217 -0.82232494  0.49543046]\n",
      " [ 0.81465278  0.82621986 -0.8652656   0.82469138]]\n"
     ]
    }
   ],
   "source": [
    "#1. Определим признаки для обучения модели и случайную обратимую матрицу P\n",
    "features = df_data.drop('Страховые выплаты', axis = 1)\n",
    "target = df_data['Страховые выплаты']\n",
    "print(\"Размеры признаков для обучающей выборки: \", features.shape)\n",
    "print(\"Размеры целевого признака: \", target.shape)\n",
    "P = np.random.normal(size = (features.shape[1],features.shape[1]))\n",
    "\n",
    "while np.linalg.det(P) == 0: #проверяем на обратимость\n",
    "    P = np.random.normal(size = (features.shape[1],features.shape[1]))\n",
    "print(\"Случайная матрица P:\", P)"
   ]
  },
  {
   "cell_type": "code",
   "execution_count": 86,
   "metadata": {},
   "outputs": [
    {
     "name": "stdout",
     "output_type": "stream",
     "text": [
      "Метрика исходной модели линейной регрессии R2 0.42494550286668\n"
     ]
    }
   ],
   "source": [
    "#Создадим модель линейной регрессии до преобразования и посчитаем метрику R2.\n",
    "model = LinearRegression()\n",
    "model.fit(features, target)\n",
    "predictions = model.predict(features)\n",
    "r2 = r2_score(target, predictions)\n",
    "print('Метрика исходной модели линейной регрессии R2', r2)"
   ]
  },
  {
   "cell_type": "code",
   "execution_count": 87,
   "metadata": {},
   "outputs": [
    {
     "name": "stdout",
     "output_type": "stream",
     "text": [
      "Метрика исходной модели линейной регрессии R2 0.42494550286672605\n"
     ]
    }
   ],
   "source": [
    "#2. Умножим исходные признаки на обратимую матрицу и посчитаем метрику R2.\n",
    "features_P = np.dot(features, P)\n",
    "model.fit(features_P, target)\n",
    "predictions_P = model.predict(features_P)\n",
    "r2_P = r2_score(target, predictions_P)\n",
    "print('Метрика исходной модели линейной регрессии R2', r2_P)"
   ]
  },
  {
   "cell_type": "markdown",
   "metadata": {},
   "source": [
    "**Вывод**\n",
    "\n",
    "Мы получили равные метрики R2 в обоих проверках (R2 = 0.425)\n",
    "\n",
    "Наш тест подтвердил, что выбранный алгоритм преобразования данных не меняет качество предсказания модели линейной регрессии."
   ]
  },
  {
   "cell_type": "markdown",
   "metadata": {},
   "source": [
    "## Чек-лист проверки"
   ]
  },
  {
   "cell_type": "markdown",
   "metadata": {},
   "source": [
    "Поставьте 'x' в выполненных пунктах. Далее нажмите Shift+Enter."
   ]
  },
  {
   "cell_type": "markdown",
   "metadata": {},
   "source": [
    "- [x]  Jupyter Notebook открыт\n",
    "- [x]  Весь код выполняется без ошибок\n",
    "- [x]  Ячейки с кодом расположены в порядке исполнения\n",
    "- [x]  Выполнен шаг 1: данные загружены\n",
    "- [x]  Выполнен шаг 2: получен ответ на вопрос об умножении матриц\n",
    "    - [x]  Указан правильный вариант ответа\n",
    "    - [x]  Вариант обоснован\n",
    "- [x]  Выполнен шаг 3: предложен алгоритм преобразования\n",
    "    - [x]  Алгоритм описан\n",
    "    - [x]  Алгоритм обоснован\n",
    "- [x]  Выполнен шаг 4: алгоритм проверен\n",
    "    - [x]  Алгоритм реализован\n",
    "    - [x]  Проведено сравнение качества моделей до и после преобразования"
   ]
  }
 ],
 "metadata": {
  "ExecuteTimeLog": [
   {
    "duration": 999,
    "start_time": "2022-01-11T09:02:20.422Z"
   },
   {
    "duration": 192,
    "start_time": "2022-01-11T09:03:05.500Z"
   },
   {
    "duration": 582,
    "start_time": "2022-01-11T09:03:26.806Z"
   },
   {
    "duration": 209,
    "start_time": "2022-01-11T09:04:03.480Z"
   },
   {
    "duration": 45,
    "start_time": "2022-01-11T09:04:33.803Z"
   },
   {
    "duration": 43,
    "start_time": "2022-01-11T09:04:42.530Z"
   },
   {
    "duration": 47,
    "start_time": "2022-01-11T09:04:49.711Z"
   },
   {
    "duration": 43,
    "start_time": "2022-01-11T09:04:59.733Z"
   },
   {
    "duration": 146,
    "start_time": "2022-01-11T09:18:55.684Z"
   },
   {
    "duration": 7,
    "start_time": "2022-01-11T09:19:03.497Z"
   },
   {
    "duration": 256,
    "start_time": "2022-01-11T09:24:17.858Z"
   },
   {
    "duration": 222,
    "start_time": "2022-01-11T09:24:47.104Z"
   },
   {
    "duration": 226,
    "start_time": "2022-01-11T09:24:56.349Z"
   },
   {
    "duration": 210,
    "start_time": "2022-01-11T09:25:04.898Z"
   },
   {
    "duration": 194,
    "start_time": "2022-01-11T09:25:26.184Z"
   },
   {
    "duration": 212,
    "start_time": "2022-01-11T09:25:42.496Z"
   },
   {
    "duration": 217,
    "start_time": "2022-01-11T09:26:10.717Z"
   },
   {
    "duration": 208,
    "start_time": "2022-01-11T09:26:21.739Z"
   },
   {
    "duration": 201,
    "start_time": "2022-01-11T09:26:29.296Z"
   },
   {
    "duration": 270,
    "start_time": "2022-01-11T09:26:59.736Z"
   },
   {
    "duration": 212,
    "start_time": "2022-01-11T09:27:07.316Z"
   },
   {
    "duration": 396,
    "start_time": "2022-01-11T09:29:19.788Z"
   },
   {
    "duration": 360,
    "start_time": "2022-01-11T09:29:32.136Z"
   },
   {
    "duration": 368,
    "start_time": "2022-01-11T09:29:40.884Z"
   },
   {
    "duration": 448,
    "start_time": "2022-01-11T09:32:19.328Z"
   },
   {
    "duration": 610,
    "start_time": "2022-01-11T09:32:31.802Z"
   },
   {
    "duration": 701,
    "start_time": "2022-01-11T09:33:25.568Z"
   },
   {
    "duration": 536,
    "start_time": "2022-01-11T09:33:35.184Z"
   },
   {
    "duration": 507,
    "start_time": "2022-01-11T09:33:57.002Z"
   },
   {
    "duration": 593,
    "start_time": "2022-01-11T09:34:09.136Z"
   },
   {
    "duration": 493,
    "start_time": "2022-01-11T09:34:37.516Z"
   },
   {
    "duration": 779,
    "start_time": "2022-01-11T09:37:13.256Z"
   },
   {
    "duration": 896,
    "start_time": "2022-01-11T09:37:38.930Z"
   },
   {
    "duration": 849,
    "start_time": "2022-01-11T09:38:03.516Z"
   },
   {
    "duration": 835,
    "start_time": "2022-01-11T09:39:17.869Z"
   },
   {
    "duration": 912,
    "start_time": "2022-01-11T09:39:51.955Z"
   },
   {
    "duration": 1062,
    "start_time": "2022-01-11T09:40:51.715Z"
   },
   {
    "duration": 1101,
    "start_time": "2022-01-11T09:41:07.176Z"
   },
   {
    "duration": 988,
    "start_time": "2022-01-11T09:41:24.749Z"
   },
   {
    "duration": 1226,
    "start_time": "2022-01-11T09:41:54.843Z"
   },
   {
    "duration": 1341,
    "start_time": "2022-01-11T09:43:15.016Z"
   },
   {
    "duration": 1360,
    "start_time": "2022-01-11T09:43:28.515Z"
   },
   {
    "duration": 1267,
    "start_time": "2022-01-11T09:43:45.104Z"
   },
   {
    "duration": 1329,
    "start_time": "2022-01-11T09:43:54.885Z"
   },
   {
    "duration": 1325,
    "start_time": "2022-01-11T09:44:37.135Z"
   },
   {
    "duration": 1354,
    "start_time": "2022-01-11T09:44:57.723Z"
   },
   {
    "duration": 1142,
    "start_time": "2022-01-11T09:45:59.211Z"
   },
   {
    "duration": 1246,
    "start_time": "2022-01-11T09:46:36.563Z"
   },
   {
    "duration": 1230,
    "start_time": "2022-01-11T09:46:55.463Z"
   },
   {
    "duration": 1200,
    "start_time": "2022-01-11T09:47:18.323Z"
   },
   {
    "duration": 1242,
    "start_time": "2022-01-11T09:49:24.314Z"
   },
   {
    "duration": 1176,
    "start_time": "2022-01-11T09:49:40.428Z"
   },
   {
    "duration": 52,
    "start_time": "2022-01-11T09:50:05.988Z"
   },
   {
    "duration": 1256,
    "start_time": "2022-01-11T09:50:15.864Z"
   },
   {
    "duration": 1275,
    "start_time": "2022-01-11T12:40:30.484Z"
   },
   {
    "duration": 172,
    "start_time": "2022-01-11T12:41:16.237Z"
   },
   {
    "duration": 1230,
    "start_time": "2022-01-11T12:41:24.134Z"
   },
   {
    "duration": 1143,
    "start_time": "2022-01-11T12:41:38.532Z"
   },
   {
    "duration": 135,
    "start_time": "2022-01-11T12:58:41.122Z"
   },
   {
    "duration": 6,
    "start_time": "2022-01-11T12:58:47.385Z"
   },
   {
    "duration": 7,
    "start_time": "2022-01-11T13:02:55.809Z"
   },
   {
    "duration": 6,
    "start_time": "2022-01-11T13:04:11.563Z"
   },
   {
    "duration": 6,
    "start_time": "2022-01-11T13:04:30.578Z"
   },
   {
    "duration": 46,
    "start_time": "2022-01-11T13:04:43.821Z"
   },
   {
    "duration": 43,
    "start_time": "2022-01-11T13:04:58.132Z"
   },
   {
    "duration": 6,
    "start_time": "2022-01-11T13:05:16.416Z"
   },
   {
    "duration": 9,
    "start_time": "2022-01-11T13:05:30.603Z"
   },
   {
    "duration": 151,
    "start_time": "2022-01-11T13:06:37.231Z"
   },
   {
    "duration": 6,
    "start_time": "2022-01-11T13:07:42.898Z"
   },
   {
    "duration": 8,
    "start_time": "2022-01-11T13:08:00.089Z"
   },
   {
    "duration": 6,
    "start_time": "2022-01-11T13:08:01.821Z"
   },
   {
    "duration": 7,
    "start_time": "2022-01-11T13:08:05.686Z"
   },
   {
    "duration": 8,
    "start_time": "2022-01-11T13:10:04.953Z"
   },
   {
    "duration": 8,
    "start_time": "2022-01-11T13:12:43.058Z"
   },
   {
    "duration": 138,
    "start_time": "2022-01-11T13:12:45.651Z"
   },
   {
    "duration": 182,
    "start_time": "2022-01-11T13:12:56.827Z"
   },
   {
    "duration": 18,
    "start_time": "2022-01-11T13:13:02.857Z"
   },
   {
    "duration": 8,
    "start_time": "2022-01-11T13:13:56.517Z"
   },
   {
    "duration": 7,
    "start_time": "2022-01-11T13:13:57.605Z"
   },
   {
    "duration": 12,
    "start_time": "2022-01-11T13:14:22.156Z"
   },
   {
    "duration": 44,
    "start_time": "2022-01-11T13:19:58.564Z"
   },
   {
    "duration": 1152,
    "start_time": "2022-01-11T13:19:59.323Z"
   },
   {
    "duration": 9,
    "start_time": "2022-01-11T13:20:20.557Z"
   },
   {
    "duration": 90,
    "start_time": "2022-01-11T13:20:21.703Z"
   },
   {
    "duration": 7,
    "start_time": "2022-01-11T13:21:01.647Z"
   },
   {
    "duration": 12,
    "start_time": "2022-01-11T13:21:06.747Z"
   },
   {
    "duration": 12,
    "start_time": "2022-01-11T13:21:08.254Z"
   }
  ],
  "kernelspec": {
   "display_name": "Python 3",
   "language": "python",
   "name": "python3"
  },
  "language_info": {
   "codemirror_mode": {
    "name": "ipython",
    "version": 3
   },
   "file_extension": ".py",
   "mimetype": "text/x-python",
   "name": "python",
   "nbconvert_exporter": "python",
   "pygments_lexer": "ipython3",
   "version": "3.7.8"
  },
  "toc": {
   "base_numbering": 1,
   "nav_menu": {},
   "number_sections": true,
   "sideBar": true,
   "skip_h1_title": true,
   "title_cell": "Содержание",
   "title_sidebar": "Contents",
   "toc_cell": true,
   "toc_position": {},
   "toc_section_display": true,
   "toc_window_display": true
  }
 },
 "nbformat": 4,
 "nbformat_minor": 2
}

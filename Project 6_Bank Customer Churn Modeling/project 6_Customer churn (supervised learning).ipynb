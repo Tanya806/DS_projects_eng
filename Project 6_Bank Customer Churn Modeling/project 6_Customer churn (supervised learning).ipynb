{
 "cells": [
  {
   "cell_type": "markdown",
   "metadata": {},
   "source": [
    "* Интересная статья про одну из метрик: <a href=\"https://dyakonov.org/2017/07/28/auc-roc-площадь-под-кривой-ошибок/\">ссылка</a>."
   ]
  },
  {
   "cell_type": "markdown",
   "metadata": {
    "toc": true
   },
   "source": [
    "<h1>Содержание<span class=\"tocSkip\"></span></h1>\n",
    "<div class=\"toc\"><ul class=\"toc-item\"><li><span><a href=\"#Подготовка-данных\" data-toc-modified-id=\"Подготовка-данных-1\"><span class=\"toc-item-num\">1&nbsp;&nbsp;</span>Подготовка данных</a></span></li><li><span><a href=\"#Исследование-задачи\" data-toc-modified-id=\"Исследование-задачи-2\"><span class=\"toc-item-num\">2&nbsp;&nbsp;</span>Исследование задачи</a></span></li><li><span><a href=\"#Борьба-с-дисбалансом\" data-toc-modified-id=\"Борьба-с-дисбалансом-3\"><span class=\"toc-item-num\">3&nbsp;&nbsp;</span>Борьба с дисбалансом</a></span></li><li><span><a href=\"#Тестирование-модели\" data-toc-modified-id=\"Тестирование-модели-4\"><span class=\"toc-item-num\">4&nbsp;&nbsp;</span>Тестирование модели</a></span></li><li><span><a href=\"#Чек-лист-готовности-проекта\" data-toc-modified-id=\"Чек-лист-готовности-проекта-5\"><span class=\"toc-item-num\">5&nbsp;&nbsp;</span>Чек-лист готовности проекта</a></span></li></ul></div>"
   ]
  },
  {
   "cell_type": "markdown",
   "metadata": {},
   "source": [
    "# Отток клиентов"
   ]
  },
  {
   "cell_type": "markdown",
   "metadata": {},
   "source": [
    "Из «Бета-Банка» стали уходить клиенты. Каждый месяц. Немного, но заметно. Банковские маркетологи посчитали: сохранять текущих клиентов дешевле, чем привлекать новых.\n",
    "\n",
    "Нужно спрогнозировать, уйдёт клиент из банка в ближайшее время или нет. Вам предоставлены исторические данные о поведении клиентов и расторжении договоров с банком. \n",
    "\n",
    "Постройте модель с предельно большим значением *F1*-меры. Чтобы сдать проект успешно, нужно довести метрику до 0.59. Проверьте *F1*-меру на тестовой выборке самостоятельно.\n",
    "\n",
    "Дополнительно измеряйте *AUC-ROC*, сравнивайте её значение с *F1*-мерой.\n",
    "\n",
    "Источник данных: [https://www.kaggle.com/barelydedicated/bank-customer-churn-modeling](https://www.kaggle.com/barelydedicated/bank-customer-churn-modeling)"
   ]
  },
  {
   "cell_type": "markdown",
   "metadata": {},
   "source": [
    "## Подготовка данных"
   ]
  },
  {
   "cell_type": "code",
   "execution_count": 15,
   "metadata": {},
   "outputs": [
    {
     "data": {
      "text/html": [
       "<div>\n",
       "<style scoped>\n",
       "    .dataframe tbody tr th:only-of-type {\n",
       "        vertical-align: middle;\n",
       "    }\n",
       "\n",
       "    .dataframe tbody tr th {\n",
       "        vertical-align: top;\n",
       "    }\n",
       "\n",
       "    .dataframe thead th {\n",
       "        text-align: right;\n",
       "    }\n",
       "</style>\n",
       "<table border=\"1\" class=\"dataframe\">\n",
       "  <thead>\n",
       "    <tr style=\"text-align: right;\">\n",
       "      <th></th>\n",
       "      <th>RowNumber</th>\n",
       "      <th>CustomerId</th>\n",
       "      <th>Surname</th>\n",
       "      <th>CreditScore</th>\n",
       "      <th>Geography</th>\n",
       "      <th>Gender</th>\n",
       "      <th>Age</th>\n",
       "      <th>Tenure</th>\n",
       "      <th>Balance</th>\n",
       "      <th>NumOfProducts</th>\n",
       "      <th>HasCrCard</th>\n",
       "      <th>IsActiveMember</th>\n",
       "      <th>EstimatedSalary</th>\n",
       "      <th>Exited</th>\n",
       "    </tr>\n",
       "  </thead>\n",
       "  <tbody>\n",
       "    <tr>\n",
       "      <td>0</td>\n",
       "      <td>1</td>\n",
       "      <td>15634602</td>\n",
       "      <td>Hargrave</td>\n",
       "      <td>619</td>\n",
       "      <td>France</td>\n",
       "      <td>Female</td>\n",
       "      <td>42</td>\n",
       "      <td>2.0</td>\n",
       "      <td>0.00</td>\n",
       "      <td>1</td>\n",
       "      <td>1</td>\n",
       "      <td>1</td>\n",
       "      <td>101348.88</td>\n",
       "      <td>1</td>\n",
       "    </tr>\n",
       "    <tr>\n",
       "      <td>1</td>\n",
       "      <td>2</td>\n",
       "      <td>15647311</td>\n",
       "      <td>Hill</td>\n",
       "      <td>608</td>\n",
       "      <td>Spain</td>\n",
       "      <td>Female</td>\n",
       "      <td>41</td>\n",
       "      <td>1.0</td>\n",
       "      <td>83807.86</td>\n",
       "      <td>1</td>\n",
       "      <td>0</td>\n",
       "      <td>1</td>\n",
       "      <td>112542.58</td>\n",
       "      <td>0</td>\n",
       "    </tr>\n",
       "    <tr>\n",
       "      <td>2</td>\n",
       "      <td>3</td>\n",
       "      <td>15619304</td>\n",
       "      <td>Onio</td>\n",
       "      <td>502</td>\n",
       "      <td>France</td>\n",
       "      <td>Female</td>\n",
       "      <td>42</td>\n",
       "      <td>8.0</td>\n",
       "      <td>159660.80</td>\n",
       "      <td>3</td>\n",
       "      <td>1</td>\n",
       "      <td>0</td>\n",
       "      <td>113931.57</td>\n",
       "      <td>1</td>\n",
       "    </tr>\n",
       "    <tr>\n",
       "      <td>3</td>\n",
       "      <td>4</td>\n",
       "      <td>15701354</td>\n",
       "      <td>Boni</td>\n",
       "      <td>699</td>\n",
       "      <td>France</td>\n",
       "      <td>Female</td>\n",
       "      <td>39</td>\n",
       "      <td>1.0</td>\n",
       "      <td>0.00</td>\n",
       "      <td>2</td>\n",
       "      <td>0</td>\n",
       "      <td>0</td>\n",
       "      <td>93826.63</td>\n",
       "      <td>0</td>\n",
       "    </tr>\n",
       "    <tr>\n",
       "      <td>4</td>\n",
       "      <td>5</td>\n",
       "      <td>15737888</td>\n",
       "      <td>Mitchell</td>\n",
       "      <td>850</td>\n",
       "      <td>Spain</td>\n",
       "      <td>Female</td>\n",
       "      <td>43</td>\n",
       "      <td>2.0</td>\n",
       "      <td>125510.82</td>\n",
       "      <td>1</td>\n",
       "      <td>1</td>\n",
       "      <td>1</td>\n",
       "      <td>79084.10</td>\n",
       "      <td>0</td>\n",
       "    </tr>\n",
       "  </tbody>\n",
       "</table>\n",
       "</div>"
      ],
      "text/plain": [
       "   RowNumber  CustomerId   Surname  CreditScore Geography  Gender  Age  \\\n",
       "0          1    15634602  Hargrave          619    France  Female   42   \n",
       "1          2    15647311      Hill          608     Spain  Female   41   \n",
       "2          3    15619304      Onio          502    France  Female   42   \n",
       "3          4    15701354      Boni          699    France  Female   39   \n",
       "4          5    15737888  Mitchell          850     Spain  Female   43   \n",
       "\n",
       "   Tenure    Balance  NumOfProducts  HasCrCard  IsActiveMember  \\\n",
       "0     2.0       0.00              1          1               1   \n",
       "1     1.0   83807.86              1          0               1   \n",
       "2     8.0  159660.80              3          1               0   \n",
       "3     1.0       0.00              2          0               0   \n",
       "4     2.0  125510.82              1          1               1   \n",
       "\n",
       "   EstimatedSalary  Exited  \n",
       "0        101348.88       1  \n",
       "1        112542.58       0  \n",
       "2        113931.57       1  \n",
       "3         93826.63       0  \n",
       "4         79084.10       0  "
      ]
     },
     "metadata": {},
     "output_type": "display_data"
    },
    {
     "data": {
      "text/html": [
       "<div>\n",
       "<style scoped>\n",
       "    .dataframe tbody tr th:only-of-type {\n",
       "        vertical-align: middle;\n",
       "    }\n",
       "\n",
       "    .dataframe tbody tr th {\n",
       "        vertical-align: top;\n",
       "    }\n",
       "\n",
       "    .dataframe thead th {\n",
       "        text-align: right;\n",
       "    }\n",
       "</style>\n",
       "<table border=\"1\" class=\"dataframe\">\n",
       "  <thead>\n",
       "    <tr style=\"text-align: right;\">\n",
       "      <th></th>\n",
       "      <th>RowNumber</th>\n",
       "      <th>CustomerId</th>\n",
       "      <th>CreditScore</th>\n",
       "      <th>Age</th>\n",
       "      <th>Tenure</th>\n",
       "      <th>Balance</th>\n",
       "      <th>NumOfProducts</th>\n",
       "      <th>HasCrCard</th>\n",
       "      <th>IsActiveMember</th>\n",
       "      <th>EstimatedSalary</th>\n",
       "      <th>Exited</th>\n",
       "    </tr>\n",
       "  </thead>\n",
       "  <tbody>\n",
       "    <tr>\n",
       "      <td>count</td>\n",
       "      <td>10000.00000</td>\n",
       "      <td>1.000000e+04</td>\n",
       "      <td>10000.000000</td>\n",
       "      <td>10000.000000</td>\n",
       "      <td>9091.000000</td>\n",
       "      <td>10000.000000</td>\n",
       "      <td>10000.000000</td>\n",
       "      <td>10000.00000</td>\n",
       "      <td>10000.000000</td>\n",
       "      <td>10000.000000</td>\n",
       "      <td>10000.000000</td>\n",
       "    </tr>\n",
       "    <tr>\n",
       "      <td>mean</td>\n",
       "      <td>5000.50000</td>\n",
       "      <td>1.569094e+07</td>\n",
       "      <td>650.528800</td>\n",
       "      <td>38.921800</td>\n",
       "      <td>4.997690</td>\n",
       "      <td>76485.889288</td>\n",
       "      <td>1.530200</td>\n",
       "      <td>0.70550</td>\n",
       "      <td>0.515100</td>\n",
       "      <td>100090.239881</td>\n",
       "      <td>0.203700</td>\n",
       "    </tr>\n",
       "    <tr>\n",
       "      <td>std</td>\n",
       "      <td>2886.89568</td>\n",
       "      <td>7.193619e+04</td>\n",
       "      <td>96.653299</td>\n",
       "      <td>10.487806</td>\n",
       "      <td>2.894723</td>\n",
       "      <td>62397.405202</td>\n",
       "      <td>0.581654</td>\n",
       "      <td>0.45584</td>\n",
       "      <td>0.499797</td>\n",
       "      <td>57510.492818</td>\n",
       "      <td>0.402769</td>\n",
       "    </tr>\n",
       "    <tr>\n",
       "      <td>min</td>\n",
       "      <td>1.00000</td>\n",
       "      <td>1.556570e+07</td>\n",
       "      <td>350.000000</td>\n",
       "      <td>18.000000</td>\n",
       "      <td>0.000000</td>\n",
       "      <td>0.000000</td>\n",
       "      <td>1.000000</td>\n",
       "      <td>0.00000</td>\n",
       "      <td>0.000000</td>\n",
       "      <td>11.580000</td>\n",
       "      <td>0.000000</td>\n",
       "    </tr>\n",
       "    <tr>\n",
       "      <td>25%</td>\n",
       "      <td>2500.75000</td>\n",
       "      <td>1.562853e+07</td>\n",
       "      <td>584.000000</td>\n",
       "      <td>32.000000</td>\n",
       "      <td>2.000000</td>\n",
       "      <td>0.000000</td>\n",
       "      <td>1.000000</td>\n",
       "      <td>0.00000</td>\n",
       "      <td>0.000000</td>\n",
       "      <td>51002.110000</td>\n",
       "      <td>0.000000</td>\n",
       "    </tr>\n",
       "    <tr>\n",
       "      <td>50%</td>\n",
       "      <td>5000.50000</td>\n",
       "      <td>1.569074e+07</td>\n",
       "      <td>652.000000</td>\n",
       "      <td>37.000000</td>\n",
       "      <td>5.000000</td>\n",
       "      <td>97198.540000</td>\n",
       "      <td>1.000000</td>\n",
       "      <td>1.00000</td>\n",
       "      <td>1.000000</td>\n",
       "      <td>100193.915000</td>\n",
       "      <td>0.000000</td>\n",
       "    </tr>\n",
       "    <tr>\n",
       "      <td>75%</td>\n",
       "      <td>7500.25000</td>\n",
       "      <td>1.575323e+07</td>\n",
       "      <td>718.000000</td>\n",
       "      <td>44.000000</td>\n",
       "      <td>7.000000</td>\n",
       "      <td>127644.240000</td>\n",
       "      <td>2.000000</td>\n",
       "      <td>1.00000</td>\n",
       "      <td>1.000000</td>\n",
       "      <td>149388.247500</td>\n",
       "      <td>0.000000</td>\n",
       "    </tr>\n",
       "    <tr>\n",
       "      <td>max</td>\n",
       "      <td>10000.00000</td>\n",
       "      <td>1.581569e+07</td>\n",
       "      <td>850.000000</td>\n",
       "      <td>92.000000</td>\n",
       "      <td>10.000000</td>\n",
       "      <td>250898.090000</td>\n",
       "      <td>4.000000</td>\n",
       "      <td>1.00000</td>\n",
       "      <td>1.000000</td>\n",
       "      <td>199992.480000</td>\n",
       "      <td>1.000000</td>\n",
       "    </tr>\n",
       "  </tbody>\n",
       "</table>\n",
       "</div>"
      ],
      "text/plain": [
       "         RowNumber    CustomerId   CreditScore           Age       Tenure  \\\n",
       "count  10000.00000  1.000000e+04  10000.000000  10000.000000  9091.000000   \n",
       "mean    5000.50000  1.569094e+07    650.528800     38.921800     4.997690   \n",
       "std     2886.89568  7.193619e+04     96.653299     10.487806     2.894723   \n",
       "min        1.00000  1.556570e+07    350.000000     18.000000     0.000000   \n",
       "25%     2500.75000  1.562853e+07    584.000000     32.000000     2.000000   \n",
       "50%     5000.50000  1.569074e+07    652.000000     37.000000     5.000000   \n",
       "75%     7500.25000  1.575323e+07    718.000000     44.000000     7.000000   \n",
       "max    10000.00000  1.581569e+07    850.000000     92.000000    10.000000   \n",
       "\n",
       "             Balance  NumOfProducts    HasCrCard  IsActiveMember  \\\n",
       "count   10000.000000   10000.000000  10000.00000    10000.000000   \n",
       "mean    76485.889288       1.530200      0.70550        0.515100   \n",
       "std     62397.405202       0.581654      0.45584        0.499797   \n",
       "min         0.000000       1.000000      0.00000        0.000000   \n",
       "25%         0.000000       1.000000      0.00000        0.000000   \n",
       "50%     97198.540000       1.000000      1.00000        1.000000   \n",
       "75%    127644.240000       2.000000      1.00000        1.000000   \n",
       "max    250898.090000       4.000000      1.00000        1.000000   \n",
       "\n",
       "       EstimatedSalary        Exited  \n",
       "count     10000.000000  10000.000000  \n",
       "mean     100090.239881      0.203700  \n",
       "std       57510.492818      0.402769  \n",
       "min          11.580000      0.000000  \n",
       "25%       51002.110000      0.000000  \n",
       "50%      100193.915000      0.000000  \n",
       "75%      149388.247500      0.000000  \n",
       "max      199992.480000      1.000000  "
      ]
     },
     "metadata": {},
     "output_type": "display_data"
    },
    {
     "name": "stdout",
     "output_type": "stream",
     "text": [
      "<class 'pandas.core.frame.DataFrame'>\n",
      "RangeIndex: 10000 entries, 0 to 9999\n",
      "Data columns (total 14 columns):\n",
      "RowNumber          10000 non-null int64\n",
      "CustomerId         10000 non-null int64\n",
      "Surname            10000 non-null object\n",
      "CreditScore        10000 non-null int64\n",
      "Geography          10000 non-null object\n",
      "Gender             10000 non-null object\n",
      "Age                10000 non-null int64\n",
      "Tenure             9091 non-null float64\n",
      "Balance            10000 non-null float64\n",
      "NumOfProducts      10000 non-null int64\n",
      "HasCrCard          10000 non-null int64\n",
      "IsActiveMember     10000 non-null int64\n",
      "EstimatedSalary    10000 non-null float64\n",
      "Exited             10000 non-null int64\n",
      "dtypes: float64(3), int64(8), object(3)\n",
      "memory usage: 1.1+ MB\n",
      "['France' 'Spain' 'Germany']\n",
      "['Female' 'Male']\n",
      "Уникальные значения столбца RowNumber\n",
      "[    1     2     3 ...  9998  9999 10000]\n",
      "Уникальные значения столбца CustomerId\n",
      "[15634602 15647311 15619304 ... 15584532 15682355 15628319]\n",
      "Уникальные значения столбца Surname\n",
      "['Hargrave' 'Hill' 'Onio' ... 'Kashiwagi' 'Aldridge' 'Burbidge']\n",
      "Уникальные значения столбца CreditScore\n",
      "[619 608 502 699 850 645 822 376 501 684 528 497 476 549 635 616 653 587\n",
      " 726 732 636 510 669 846 577 756 571 574 411 591 533 553 520 722 475 490\n",
      " 804 582 472 465 556 834 660 776 829 637 550 698 585 788 655 601 656 725\n",
      " 511 614 742 687 555 603 751 581 735 661 675 738 813 657 604 519 664 678\n",
      " 757 416 665 777 543 506 493 652 750 729 646 647 808 524 769 730 515 773\n",
      " 814 710 413 623 670 622 785 605 479 685 538 562 721 628 668 828 674 625\n",
      " 432 770 758 795 686 789 589 461 584 579 663 682 793 691 485 650 754 535\n",
      " 716 539 706 586 631 717 800 683 704 615 667 484 480 578 512 606 597 778\n",
      " 514 525 715 580 807 521 759 516 711 618 643 671 689 620 676 572 695 592\n",
      " 567 694 547 594 673 610 767 763 712 703 662 659 523 772 545 634 739 771\n",
      " 681 544 696 766 727 693 557 531 498 651 791 733 811 707 714 782 775 799\n",
      " 602 744 588 747 583 627 731 629 438 642 806 474 559 429 680 749 734 644\n",
      " 626 649 805 718 840 630 654 762 568 613 522 737 648 443 640 540 460 593\n",
      " 801 611 802 745 483 690 492 709 705 560 752 701 537 487 596 702 486 724\n",
      " 548 464 790 534 748 494 590 468 509 818 816 536 753 774 621 569 658 798\n",
      " 641 542 692 639 765 570 638 599 632 779 527 564 833 504 842 508 417 598\n",
      " 741 607 761 848 546 439 755 760 526 713 700 666 566 495 688 612 477 427\n",
      " 839 819 720 459 503 624 529 563 482 796 445 746 786 554 672 787 499 844\n",
      " 450 815 838 803 736 633 600 679 517 792 743 488 421 841 708 507 505 456\n",
      " 435 561 518 565 728 784 552 609 764 697 723 551 444 719 496 541 830 812\n",
      " 677 420 595 617 809 500 826 434 513 478 797 363 399 463 780 452 575 837\n",
      " 794 824 428 823 781 849 489 431 457 768 831 359 820 573 576 558 817 449\n",
      " 440 415 821 530 350 446 425 740 481 783 358 845 451 458 469 423 404 836\n",
      " 473 835 466 491 351 827 843 365 532 414 453 471 401 810 832 470 447 422\n",
      " 825 430 436 426 408 847 418 437 410 454 407 455 462 386 405 383 395 467\n",
      " 433 442 424 448 441 367 412 382 373 419]\n",
      "Уникальные значения столбца Geography\n",
      "['France' 'Spain' 'Germany']\n",
      "Уникальные значения столбца Gender\n",
      "['Female' 'Male']\n",
      "Уникальные значения столбца Age\n",
      "[42 41 39 43 44 50 29 27 31 24 34 25 35 45 58 32 38 46 36 33 40 51 61 49\n",
      " 37 19 66 56 26 21 55 75 22 30 28 65 48 52 57 73 47 54 72 20 67 79 62 53\n",
      " 80 59 68 23 60 70 63 64 18 82 69 74 71 76 77 88 85 84 78 81 92 83]\n",
      "Уникальные значения столбца Tenure\n",
      "[ 2.  1.  8.  7.  4.  6.  3. 10.  5.  9.  0. nan]\n",
      "Уникальные значения столбца Balance\n",
      "[     0.    83807.86 159660.8  ...  57369.61  75075.31 130142.79]\n",
      "Уникальные значения столбца NumOfProducts\n",
      "[1 3 2 4]\n",
      "Уникальные значения столбца HasCrCard\n",
      "[1 0]\n",
      "Уникальные значения столбца IsActiveMember\n",
      "[1 0]\n",
      "Уникальные значения столбца EstimatedSalary\n",
      "[101348.88 112542.58 113931.57 ...  42085.58  92888.52  38190.78]\n",
      "Уникальные значения столбца Exited\n",
      "[1 0]\n"
     ]
    }
   ],
   "source": [
    "import numpy as np\n",
    "import pandas as pd\n",
    "from matplotlib import pyplot as plt\n",
    "from sklearn.model_selection import train_test_split\n",
    "from sklearn.metrics import f1_score\n",
    "from sklearn.metrics import mean_absolute_error\n",
    "from sklearn.metrics import r2_score\n",
    "from sklearn.ensemble import RandomForestClassifier\n",
    "from sklearn.linear_model import LogisticRegression #updated 2021.11.16\n",
    "from sklearn.metrics import roc_auc_score\n",
    "from sklearn.metrics import accuracy_score\n",
    "from sklearn.metrics import precision_score\n",
    "from sklearn.metrics import recall_score\n",
    "from tqdm import tqdm\n",
    "\n",
    "data = pd.read_csv('/datasets/Churn.csv')\n",
    "display(data.head(5))\n",
    "display(data.describe())\n",
    "data.info()\n",
    "#display(data.isnull().sum())\n",
    "print(data['Geography'].unique())\n",
    "print(data['Gender'].unique())\n",
    "\n",
    "def check_columns(data):\n",
    "    for column in data.columns:\n",
    "        print('Уникальные значения столбца', column)\n",
    "        print(data[column].unique())\n",
    "check_columns(data)"
   ]
  },
  {
   "cell_type": "markdown",
   "metadata": {},
   "source": [
    "<div class=\"alert alert-info\">\n",
    "<b>Вывод: </b> \n",
    "\n",
    "\n",
    "1. Датасет содержит 10000 строк, явные пропуски обнаружены только в столбце Tenure - 9 пропущенных значений.\n",
    "2.\n",
    "\n",
    "    RowNumber — индекс строки в данных - незначим для аналитики, можем удалить,\n",
    "\n",
    "    CustomerId — уникальный идентификатор клиента - незначим для аналитики, можем удалить,\n",
    "\n",
    "    Surname — фамилия - незначим для аналитики, можем удалить,\n",
    "\n",
    "    CreditScore — кредитный рейтинг - значим, можем посмотреть на распределение, \n",
    "\n",
    "    Geography — страна проживания - принимает три значения'France', 'Spain', 'Germany'. Требуется выполнить преобразование One-Hot Encoding.\n",
    "\n",
    "    Gender — пол - принимаем два значения. Требуется выполнить преобразование One-Hot Encoding.\n",
    "\n",
    "    Age — возраст.\n",
    "\n",
    "    Tenure — количество недвижимости у клиента\n",
    "\n",
    "    Balance — баланс на счёте\n",
    "\n",
    "    NumOfProducts — количество продуктов банка, используемых клиентом\n",
    "    \n",
    "    HasCrCard — наличие кредитной карты\n",
    "    \n",
    "    IsActiveMember — активность клиента\n",
    "    \n",
    "    EstimatedSalary — предполагаемая зарплата\n",
    "    \n",
    "    Exited — Целевой признак, факт ухода клиента\n",
    "</div>"
   ]
  },
  {
   "cell_type": "code",
   "execution_count": 16,
   "metadata": {},
   "outputs": [],
   "source": [
    "#1.1 Удалим лишние столбцы\n",
    "data_new = data.drop([\"RowNumber\",\"CustomerId\",\"Surname\"], axis = 1)"
   ]
  },
  {
   "cell_type": "code",
   "execution_count": 17,
   "metadata": {},
   "outputs": [],
   "source": [
    "#1.2 Заполним пропуски. Предполагаю, что если поле не заполнено, то недвижимость отсутствует.\n",
    "data_new['Tenure']=data_new['Tenure'].fillna(0).astype('int64')"
   ]
  },
  {
   "cell_type": "code",
   "execution_count": 18,
   "metadata": {},
   "outputs": [
    {
     "name": "stdout",
     "output_type": "stream",
     "text": [
      "Число полных дубликатов строк в таблице: 0\n"
     ]
    }
   ],
   "source": [
    "#1.3 Ищем полные дубликаты\n",
    "print(\"Число полных дубликатов строк в таблице:\", data_new.duplicated().sum())\n",
    "#Полные дубликаты отсутствуют"
   ]
  },
  {
   "cell_type": "code",
   "execution_count": 19,
   "metadata": {},
   "outputs": [],
   "source": [
    "#1.4 Создадим датафрейм, созданный по методу прямого кодирования с защитой от дамми-ловушки.\n",
    "data_new = pd.get_dummies(data_new, drop_first=True)"
   ]
  },
  {
   "cell_type": "code",
   "execution_count": 20,
   "metadata": {},
   "outputs": [
    {
     "data": {
      "text/html": [
       "<div>\n",
       "<style scoped>\n",
       "    .dataframe tbody tr th:only-of-type {\n",
       "        vertical-align: middle;\n",
       "    }\n",
       "\n",
       "    .dataframe tbody tr th {\n",
       "        vertical-align: top;\n",
       "    }\n",
       "\n",
       "    .dataframe thead th {\n",
       "        text-align: right;\n",
       "    }\n",
       "</style>\n",
       "<table border=\"1\" class=\"dataframe\">\n",
       "  <thead>\n",
       "    <tr style=\"text-align: right;\">\n",
       "      <th></th>\n",
       "      <th>CreditScore</th>\n",
       "      <th>Age</th>\n",
       "      <th>Tenure</th>\n",
       "      <th>Balance</th>\n",
       "      <th>NumOfProducts</th>\n",
       "      <th>HasCrCard</th>\n",
       "      <th>IsActiveMember</th>\n",
       "      <th>EstimatedSalary</th>\n",
       "      <th>Exited</th>\n",
       "      <th>Geography_Germany</th>\n",
       "      <th>Geography_Spain</th>\n",
       "      <th>Gender_Male</th>\n",
       "    </tr>\n",
       "  </thead>\n",
       "  <tbody>\n",
       "    <tr>\n",
       "      <td>0</td>\n",
       "      <td>619</td>\n",
       "      <td>42</td>\n",
       "      <td>2</td>\n",
       "      <td>0.00</td>\n",
       "      <td>1</td>\n",
       "      <td>1</td>\n",
       "      <td>1</td>\n",
       "      <td>101348.88</td>\n",
       "      <td>1</td>\n",
       "      <td>0</td>\n",
       "      <td>0</td>\n",
       "      <td>0</td>\n",
       "    </tr>\n",
       "    <tr>\n",
       "      <td>1</td>\n",
       "      <td>608</td>\n",
       "      <td>41</td>\n",
       "      <td>1</td>\n",
       "      <td>83807.86</td>\n",
       "      <td>1</td>\n",
       "      <td>0</td>\n",
       "      <td>1</td>\n",
       "      <td>112542.58</td>\n",
       "      <td>0</td>\n",
       "      <td>0</td>\n",
       "      <td>1</td>\n",
       "      <td>0</td>\n",
       "    </tr>\n",
       "    <tr>\n",
       "      <td>2</td>\n",
       "      <td>502</td>\n",
       "      <td>42</td>\n",
       "      <td>8</td>\n",
       "      <td>159660.80</td>\n",
       "      <td>3</td>\n",
       "      <td>1</td>\n",
       "      <td>0</td>\n",
       "      <td>113931.57</td>\n",
       "      <td>1</td>\n",
       "      <td>0</td>\n",
       "      <td>0</td>\n",
       "      <td>0</td>\n",
       "    </tr>\n",
       "    <tr>\n",
       "      <td>3</td>\n",
       "      <td>699</td>\n",
       "      <td>39</td>\n",
       "      <td>1</td>\n",
       "      <td>0.00</td>\n",
       "      <td>2</td>\n",
       "      <td>0</td>\n",
       "      <td>0</td>\n",
       "      <td>93826.63</td>\n",
       "      <td>0</td>\n",
       "      <td>0</td>\n",
       "      <td>0</td>\n",
       "      <td>0</td>\n",
       "    </tr>\n",
       "    <tr>\n",
       "      <td>4</td>\n",
       "      <td>850</td>\n",
       "      <td>43</td>\n",
       "      <td>2</td>\n",
       "      <td>125510.82</td>\n",
       "      <td>1</td>\n",
       "      <td>1</td>\n",
       "      <td>1</td>\n",
       "      <td>79084.10</td>\n",
       "      <td>0</td>\n",
       "      <td>0</td>\n",
       "      <td>1</td>\n",
       "      <td>0</td>\n",
       "    </tr>\n",
       "    <tr>\n",
       "      <td>5</td>\n",
       "      <td>645</td>\n",
       "      <td>44</td>\n",
       "      <td>8</td>\n",
       "      <td>113755.78</td>\n",
       "      <td>2</td>\n",
       "      <td>1</td>\n",
       "      <td>0</td>\n",
       "      <td>149756.71</td>\n",
       "      <td>1</td>\n",
       "      <td>0</td>\n",
       "      <td>1</td>\n",
       "      <td>1</td>\n",
       "    </tr>\n",
       "    <tr>\n",
       "      <td>6</td>\n",
       "      <td>822</td>\n",
       "      <td>50</td>\n",
       "      <td>7</td>\n",
       "      <td>0.00</td>\n",
       "      <td>2</td>\n",
       "      <td>1</td>\n",
       "      <td>1</td>\n",
       "      <td>10062.80</td>\n",
       "      <td>0</td>\n",
       "      <td>0</td>\n",
       "      <td>0</td>\n",
       "      <td>1</td>\n",
       "    </tr>\n",
       "    <tr>\n",
       "      <td>7</td>\n",
       "      <td>376</td>\n",
       "      <td>29</td>\n",
       "      <td>4</td>\n",
       "      <td>115046.74</td>\n",
       "      <td>4</td>\n",
       "      <td>1</td>\n",
       "      <td>0</td>\n",
       "      <td>119346.88</td>\n",
       "      <td>1</td>\n",
       "      <td>1</td>\n",
       "      <td>0</td>\n",
       "      <td>0</td>\n",
       "    </tr>\n",
       "    <tr>\n",
       "      <td>8</td>\n",
       "      <td>501</td>\n",
       "      <td>44</td>\n",
       "      <td>4</td>\n",
       "      <td>142051.07</td>\n",
       "      <td>2</td>\n",
       "      <td>0</td>\n",
       "      <td>1</td>\n",
       "      <td>74940.50</td>\n",
       "      <td>0</td>\n",
       "      <td>0</td>\n",
       "      <td>0</td>\n",
       "      <td>1</td>\n",
       "    </tr>\n",
       "    <tr>\n",
       "      <td>9</td>\n",
       "      <td>684</td>\n",
       "      <td>27</td>\n",
       "      <td>2</td>\n",
       "      <td>134603.88</td>\n",
       "      <td>1</td>\n",
       "      <td>1</td>\n",
       "      <td>1</td>\n",
       "      <td>71725.73</td>\n",
       "      <td>0</td>\n",
       "      <td>0</td>\n",
       "      <td>0</td>\n",
       "      <td>1</td>\n",
       "    </tr>\n",
       "  </tbody>\n",
       "</table>\n",
       "</div>"
      ],
      "text/plain": [
       "   CreditScore  Age  Tenure    Balance  NumOfProducts  HasCrCard  \\\n",
       "0          619   42       2       0.00              1          1   \n",
       "1          608   41       1   83807.86              1          0   \n",
       "2          502   42       8  159660.80              3          1   \n",
       "3          699   39       1       0.00              2          0   \n",
       "4          850   43       2  125510.82              1          1   \n",
       "5          645   44       8  113755.78              2          1   \n",
       "6          822   50       7       0.00              2          1   \n",
       "7          376   29       4  115046.74              4          1   \n",
       "8          501   44       4  142051.07              2          0   \n",
       "9          684   27       2  134603.88              1          1   \n",
       "\n",
       "   IsActiveMember  EstimatedSalary  Exited  Geography_Germany  \\\n",
       "0               1        101348.88       1                  0   \n",
       "1               1        112542.58       0                  0   \n",
       "2               0        113931.57       1                  0   \n",
       "3               0         93826.63       0                  0   \n",
       "4               1         79084.10       0                  0   \n",
       "5               0        149756.71       1                  0   \n",
       "6               1         10062.80       0                  0   \n",
       "7               0        119346.88       1                  1   \n",
       "8               1         74940.50       0                  0   \n",
       "9               1         71725.73       0                  0   \n",
       "\n",
       "   Geography_Spain  Gender_Male  \n",
       "0                0            0  \n",
       "1                1            0  \n",
       "2                0            0  \n",
       "3                0            0  \n",
       "4                1            0  \n",
       "5                1            1  \n",
       "6                0            1  \n",
       "7                0            0  \n",
       "8                0            1  \n",
       "9                0            1  "
      ]
     },
     "metadata": {},
     "output_type": "display_data"
    },
    {
     "name": "stdout",
     "output_type": "stream",
     "text": [
      "<class 'pandas.core.frame.DataFrame'>\n",
      "RangeIndex: 10000 entries, 0 to 9999\n",
      "Data columns (total 12 columns):\n",
      "CreditScore          10000 non-null int64\n",
      "Age                  10000 non-null int64\n",
      "Tenure               10000 non-null int64\n",
      "Balance              10000 non-null float64\n",
      "NumOfProducts        10000 non-null int64\n",
      "HasCrCard            10000 non-null int64\n",
      "IsActiveMember       10000 non-null int64\n",
      "EstimatedSalary      10000 non-null float64\n",
      "Exited               10000 non-null int64\n",
      "Geography_Germany    10000 non-null uint8\n",
      "Geography_Spain      10000 non-null uint8\n",
      "Gender_Male          10000 non-null uint8\n",
      "dtypes: float64(2), int64(7), uint8(3)\n",
      "memory usage: 732.5 KB\n"
     ]
    }
   ],
   "source": [
    "display(data_new.head(10))\n",
    "data_new.info()"
   ]
  },
  {
   "cell_type": "markdown",
   "metadata": {},
   "source": [
    "<div class=\"alert alert-block alert-success\">\n",
    "В данном случае OHE – наиболее подходящий метод закодировать категориальные колонки.\n",
    "</div>"
   ]
  },
  {
   "cell_type": "markdown",
   "metadata": {},
   "source": [
    "## Исследование задачи"
   ]
  },
  {
   "cell_type": "code",
   "execution_count": 21,
   "metadata": {},
   "outputs": [
    {
     "data": {
      "text/plain": [
       "<matplotlib.axes._subplots.AxesSubplot at 0x7ff0e88a0090>"
      ]
     },
     "execution_count": 21,
     "metadata": {},
     "output_type": "execute_result"
    },
    {
     "data": {
      "image/png": "[encoded data removed]",
      "text/plain": [
       "<Figure size 720x432 with 1 Axes>"
      ]
     },
     "metadata": {
      "needs_background": "light"
     },
     "output_type": "display_data"
    }
   ],
   "source": [
    "#2 Проанализируем гстограммы значений \n",
    "#2.1 оттока и оставшихся клиентов\n",
    "data_new['Exited'].value_counts().plot(kind='bar',grid=True,\n",
    "                                       figsize=(10,6),title='Соотношение тех, кто остался и тех кто ушел')"
   ]
  },
  {
   "cell_type": "markdown",
   "metadata": {},
   "source": [
    "<div class=\"alert alert-info\">\n",
    "<b>Вывод: </b> \n",
    "    \n",
    "Обнаружили дисбаланс классов. Класс \"0\" встречается в выборке примерно в 4 раза чаще класса \"1\".\n",
    "</div>    "
   ]
  },
  {
   "cell_type": "code",
   "execution_count": 22,
   "metadata": {},
   "outputs": [
    {
     "data": {
      "image/png": "[encoded data removed]",
      "text/plain": [
       "<Figure size 1080x432 with 1 Axes>"
      ]
     },
     "metadata": {
      "needs_background": "light"
     },
     "output_type": "display_data"
    }
   ],
   "source": [
    "#2.2 По возрасту\n",
    "data_new.loc[data_new['Exited'] == 1].groupby('Age')['Exited'].count().plot(figsize=(15,6),kind='bar',\n",
    "                                                                            title='Гистограмма возраста и оттока')\n",
    "plt.show()"
   ]
  },
  {
   "cell_type": "code",
   "execution_count": 23,
   "metadata": {},
   "outputs": [
    {
     "data": {
      "image/png": "[encoded data removed]",
      "text/plain": [
       "<Figure size 1080x432 with 1 Axes>"
      ]
     },
     "metadata": {
      "needs_background": "light"
     },
     "output_type": "display_data"
    }
   ],
   "source": [
    "#2.2 По возрасту\n",
    "data_new.loc[data_new['Exited'] == 0].groupby('Age')['Exited'].count().plot(figsize=(15,6)\n",
    "                                                                            ,kind='bar',title='Гистограмма возраста без оттока')\n",
    "plt.show()"
   ]
  },
  {
   "cell_type": "code",
   "execution_count": 24,
   "metadata": {},
   "outputs": [
    {
     "data": {
      "image/png": "[encoded data removed]",
      "text/plain": [
       "<Figure size 1080x432 with 1 Axes>"
      ]
     },
     "metadata": {
      "needs_background": "light"
     },
     "output_type": "display_data"
    }
   ],
   "source": [
    "#2.3 Посмотрим как зависит наличие недвижимости без оттока клиентов \n",
    "data_new.groupby('Tenure')['Exited'].count().plot(figsize=(15,6),kind='bar',title='Гистограмма наличия недвижимости')\n",
    "plt.show()"
   ]
  },
  {
   "cell_type": "code",
   "execution_count": 25,
   "metadata": {},
   "outputs": [
    {
     "data": {
      "image/png": "[encoded data removed]",
      "text/plain": [
       "<Figure size 1080x432 with 1 Axes>"
      ]
     },
     "metadata": {
      "needs_background": "light"
     },
     "output_type": "display_data"
    }
   ],
   "source": [
    "#2.3 Посмотрим как зависит наличие недвижимости и отток клиентов \n",
    "data_new.groupby('Tenure')['Exited'].sum().plot(figsize=(15,6),kind='bar',title='Гистограмма наличия недвижимости и оттока')\n",
    "plt.show()"
   ]
  },
  {
   "cell_type": "code",
   "execution_count": 26,
   "metadata": {},
   "outputs": [
    {
     "name": "stderr",
     "output_type": "stream",
     "text": [
      "/opt/conda/lib/python3.7/site-packages/ipykernel_launcher.py:22: SettingWithCopyWarning: \n",
      "A value is trying to be set on a copy of a slice from a DataFrame.\n",
      "Try using .loc[row_indexer,col_indexer] = value instead\n",
      "\n",
      "See the caveats in the documentation: http://pandas.pydata.org/pandas-docs/stable/user_guide/indexing.html#returning-a-view-versus-a-copy\n",
      "/opt/conda/lib/python3.7/site-packages/pandas/core/indexing.py:494: SettingWithCopyWarning: \n",
      "A value is trying to be set on a copy of a slice from a DataFrame.\n",
      "Try using .loc[row_indexer,col_indexer] = value instead\n",
      "\n",
      "See the caveats in the documentation: http://pandas.pydata.org/pandas-docs/stable/user_guide/indexing.html#returning-a-view-versus-a-copy\n",
      "  self.obj[item] = s\n"
     ]
    },
    {
     "data": {
      "text/html": [
       "<div>\n",
       "<style scoped>\n",
       "    .dataframe tbody tr th:only-of-type {\n",
       "        vertical-align: middle;\n",
       "    }\n",
       "\n",
       "    .dataframe tbody tr th {\n",
       "        vertical-align: top;\n",
       "    }\n",
       "\n",
       "    .dataframe thead th {\n",
       "        text-align: right;\n",
       "    }\n",
       "</style>\n",
       "<table border=\"1\" class=\"dataframe\">\n",
       "  <thead>\n",
       "    <tr style=\"text-align: right;\">\n",
       "      <th></th>\n",
       "      <th>CreditScore</th>\n",
       "      <th>Age</th>\n",
       "      <th>Tenure</th>\n",
       "      <th>Balance</th>\n",
       "      <th>NumOfProducts</th>\n",
       "      <th>HasCrCard</th>\n",
       "      <th>IsActiveMember</th>\n",
       "      <th>EstimatedSalary</th>\n",
       "      <th>Geography_Germany</th>\n",
       "      <th>Geography_Spain</th>\n",
       "      <th>Gender_Male</th>\n",
       "    </tr>\n",
       "  </thead>\n",
       "  <tbody>\n",
       "    <tr>\n",
       "      <td>2837</td>\n",
       "      <td>-1.040434</td>\n",
       "      <td>0.953312</td>\n",
       "      <td>0.467449</td>\n",
       "      <td>0.774657</td>\n",
       "      <td>-0.914708</td>\n",
       "      <td>0</td>\n",
       "      <td>1</td>\n",
       "      <td>-0.119110</td>\n",
       "      <td>1</td>\n",
       "      <td>0</td>\n",
       "      <td>0</td>\n",
       "    </tr>\n",
       "    <tr>\n",
       "      <td>9925</td>\n",
       "      <td>0.454006</td>\n",
       "      <td>-0.095244</td>\n",
       "      <td>-1.461501</td>\n",
       "      <td>1.910540</td>\n",
       "      <td>-0.914708</td>\n",
       "      <td>1</td>\n",
       "      <td>1</td>\n",
       "      <td>-0.258658</td>\n",
       "      <td>0</td>\n",
       "      <td>0</td>\n",
       "      <td>0</td>\n",
       "    </tr>\n",
       "    <tr>\n",
       "      <td>8746</td>\n",
       "      <td>0.103585</td>\n",
       "      <td>-0.476537</td>\n",
       "      <td>1.110432</td>\n",
       "      <td>0.481608</td>\n",
       "      <td>0.820981</td>\n",
       "      <td>0</td>\n",
       "      <td>1</td>\n",
       "      <td>1.422836</td>\n",
       "      <td>0</td>\n",
       "      <td>0</td>\n",
       "      <td>1</td>\n",
       "    </tr>\n",
       "    <tr>\n",
       "      <td>660</td>\n",
       "      <td>-0.184996</td>\n",
       "      <td>0.190726</td>\n",
       "      <td>-1.461501</td>\n",
       "      <td>0.088439</td>\n",
       "      <td>-0.914708</td>\n",
       "      <td>1</td>\n",
       "      <td>1</td>\n",
       "      <td>-1.160427</td>\n",
       "      <td>1</td>\n",
       "      <td>0</td>\n",
       "      <td>0</td>\n",
       "    </tr>\n",
       "    <tr>\n",
       "      <td>3610</td>\n",
       "      <td>-0.720933</td>\n",
       "      <td>1.620574</td>\n",
       "      <td>-1.140009</td>\n",
       "      <td>0.879129</td>\n",
       "      <td>-0.914708</td>\n",
       "      <td>1</td>\n",
       "      <td>0</td>\n",
       "      <td>0.113236</td>\n",
       "      <td>0</td>\n",
       "      <td>0</td>\n",
       "      <td>0</td>\n",
       "    </tr>\n",
       "    <tr>\n",
       "      <td>2934</td>\n",
       "      <td>-0.195303</td>\n",
       "      <td>-0.571860</td>\n",
       "      <td>0.788940</td>\n",
       "      <td>-1.219673</td>\n",
       "      <td>-0.914708</td>\n",
       "      <td>1</td>\n",
       "      <td>1</td>\n",
       "      <td>-0.736302</td>\n",
       "      <td>0</td>\n",
       "      <td>0</td>\n",
       "      <td>1</td>\n",
       "    </tr>\n",
       "    <tr>\n",
       "      <td>688</td>\n",
       "      <td>-0.257141</td>\n",
       "      <td>1.143958</td>\n",
       "      <td>0.788940</td>\n",
       "      <td>0.957840</td>\n",
       "      <td>-0.914708</td>\n",
       "      <td>1</td>\n",
       "      <td>0</td>\n",
       "      <td>-1.069604</td>\n",
       "      <td>0</td>\n",
       "      <td>0</td>\n",
       "      <td>0</td>\n",
       "    </tr>\n",
       "    <tr>\n",
       "      <td>3640</td>\n",
       "      <td>-0.123157</td>\n",
       "      <td>0.000079</td>\n",
       "      <td>-1.461501</td>\n",
       "      <td>0.737465</td>\n",
       "      <td>0.820981</td>\n",
       "      <td>1</td>\n",
       "      <td>1</td>\n",
       "      <td>-0.093794</td>\n",
       "      <td>1</td>\n",
       "      <td>0</td>\n",
       "      <td>0</td>\n",
       "    </tr>\n",
       "    <tr>\n",
       "      <td>8443</td>\n",
       "      <td>-0.318980</td>\n",
       "      <td>-1.525092</td>\n",
       "      <td>0.145957</td>\n",
       "      <td>0.900806</td>\n",
       "      <td>-0.914708</td>\n",
       "      <td>1</td>\n",
       "      <td>1</td>\n",
       "      <td>0.756262</td>\n",
       "      <td>1</td>\n",
       "      <td>0</td>\n",
       "      <td>1</td>\n",
       "    </tr>\n",
       "    <tr>\n",
       "      <td>3020</td>\n",
       "      <td>-0.813691</td>\n",
       "      <td>-0.095244</td>\n",
       "      <td>0.467449</td>\n",
       "      <td>0.492906</td>\n",
       "      <td>0.820981</td>\n",
       "      <td>0</td>\n",
       "      <td>0</td>\n",
       "      <td>-1.067944</td>\n",
       "      <td>0</td>\n",
       "      <td>0</td>\n",
       "      <td>0</td>\n",
       "    </tr>\n",
       "  </tbody>\n",
       "</table>\n",
       "</div>"
      ],
      "text/plain": [
       "      CreditScore       Age    Tenure   Balance  NumOfProducts  HasCrCard  \\\n",
       "2837    -1.040434  0.953312  0.467449  0.774657      -0.914708          0   \n",
       "9925     0.454006 -0.095244 -1.461501  1.910540      -0.914708          1   \n",
       "8746     0.103585 -0.476537  1.110432  0.481608       0.820981          0   \n",
       "660     -0.184996  0.190726 -1.461501  0.088439      -0.914708          1   \n",
       "3610    -0.720933  1.620574 -1.140009  0.879129      -0.914708          1   \n",
       "2934    -0.195303 -0.571860  0.788940 -1.219673      -0.914708          1   \n",
       "688     -0.257141  1.143958  0.788940  0.957840      -0.914708          1   \n",
       "3640    -0.123157  0.000079 -1.461501  0.737465       0.820981          1   \n",
       "8443    -0.318980 -1.525092  0.145957  0.900806      -0.914708          1   \n",
       "3020    -0.813691 -0.095244  0.467449  0.492906       0.820981          0   \n",
       "\n",
       "      IsActiveMember  EstimatedSalary  Geography_Germany  Geography_Spain  \\\n",
       "2837               1        -0.119110                  1                0   \n",
       "9925               1        -0.258658                  0                0   \n",
       "8746               1         1.422836                  0                0   \n",
       "660                1        -1.160427                  1                0   \n",
       "3610               0         0.113236                  0                0   \n",
       "2934               1        -0.736302                  0                0   \n",
       "688                0        -1.069604                  0                0   \n",
       "3640               1        -0.093794                  1                0   \n",
       "8443               1         0.756262                  1                0   \n",
       "3020               0        -1.067944                  0                0   \n",
       "\n",
       "      Gender_Male  \n",
       "2837            0  \n",
       "9925            0  \n",
       "8746            1  \n",
       "660             0  \n",
       "3610            0  \n",
       "2934            1  \n",
       "688             0  \n",
       "3640            0  \n",
       "8443            1  \n",
       "3020            0  "
      ]
     },
     "metadata": {},
     "output_type": "display_data"
    },
    {
     "name": "stdout",
     "output_type": "stream",
     "text": [
      "<class 'pandas.core.frame.DataFrame'>\n",
      "Int64Index: 6000 entries, 2837 to 700\n",
      "Data columns (total 11 columns):\n",
      "CreditScore          6000 non-null float64\n",
      "Age                  6000 non-null float64\n",
      "Tenure               6000 non-null float64\n",
      "Balance              6000 non-null float64\n",
      "NumOfProducts        6000 non-null float64\n",
      "HasCrCard            6000 non-null int64\n",
      "IsActiveMember       6000 non-null int64\n",
      "EstimatedSalary      6000 non-null float64\n",
      "Geography_Germany    6000 non-null uint8\n",
      "Geography_Spain      6000 non-null uint8\n",
      "Gender_Male          6000 non-null uint8\n",
      "dtypes: float64(6), int64(2), uint8(3)\n",
      "memory usage: 439.5 KB\n"
     ]
    }
   ],
   "source": [
    "#2.4 Масшитебируем признаки\n",
    "from sklearn.model_selection import train_test_split\n",
    "from sklearn.preprocessing import StandardScaler\n",
    "\n",
    "\n",
    "target=data_new['Exited'] #Целевой признак\n",
    "features=data_new.drop(['Exited'],axis=1)\n",
    "\n",
    "# Выделим 60% данных для обучаюшей выборки, и 40% данных для проверки\n",
    "features_train, features_valid, target_train, target_valid = train_test_split(\n",
    "    features, target, test_size=0.4, random_state=12345, stratify=target)\n",
    "\n",
    "# Выделим 20% всех данных для тестовой выборки, и оставшиеся 20% данных для валидационной выборки \n",
    "features_valid, features_test, target_valid, target_test = train_test_split(\n",
    "    features_valid, target_valid, test_size=0.50, random_state=12345, stratify=target_valid)\n",
    "\n",
    "\n",
    "numeric=['CreditScore','Age','Balance','EstimatedSalary', 'Tenure', 'NumOfProducts']\n",
    "\n",
    "scaler = StandardScaler()\n",
    "scaler.fit(features_train[numeric])\n",
    "features_train[numeric] = scaler.transform(features_train[numeric])\n",
    "features_valid[numeric] = scaler.transform(features_valid[numeric])\n",
    "features_test[numeric] = scaler.transform(features_test[numeric])\n",
    "\n",
    "display(features_train.head(10))\n",
    "features_train.info()"
   ]
  },
  {
   "cell_type": "markdown",
   "metadata": {},
   "source": [
    "<div class=\"alert alert-block alert-success\">\n",
    "Scaler был обучен только на тренировочной части данных. Это уменьшает переобучение.\n",
    "</div>"
   ]
  },
  {
   "cell_type": "code",
   "execution_count": 28,
   "metadata": {},
   "outputs": [
    {
     "name": "stdout",
     "output_type": "stream",
     "text": [
      "Для модели Логистической регрессии:\n",
      "Precision 0.6086956521739131\n",
      "Recall 0.20588235294117646\n",
      "F1: 0.3076923076923077\n",
      "AUC-ROC: 0.787586831214898\n",
      "Точность попадания по классам 0.811\n"
     ]
    }
   ],
   "source": [
    "#2.5 Логистическая регрессия без балансировки классов\n",
    "model = LogisticRegression(random_state=12345, solver='liblinear')\n",
    "model.fit(features_train, target_train) #updated 2021.11.16\n",
    "predicted_valid = model.predict(features_valid)\n",
    "\n",
    "print(\"Для модели Логистической регрессии:\")  \n",
    "print('Precision', precision_score(target_valid, predicted_valid))\n",
    "print('Recall', recall_score(target_valid, predicted_valid))\n",
    "print(\"F1:\", f1_score(target_valid, predicted_valid))\n",
    "probabilities_valid = model.predict_proba(features_valid)\n",
    "probabilities_one_valid = probabilities_valid[:, 1]\n",
    "auc_roc = roc_auc_score(target_valid, probabilities_one_valid)            # На вход функция roc_auc_score() принимает не предсказания, а вероятности класса «1»      \n",
    "print(\"AUC-ROC:\",auc_roc)\n",
    "print('Точность попадания по классам', accuracy_score(target_valid, predicted_valid))\n"
   ]
  },
  {
   "cell_type": "code",
   "execution_count": 32,
   "metadata": {},
   "outputs": [
    {
     "name": "stderr",
     "output_type": "stream",
     "text": [
      "100%|██████████| 5/5 [00:10<00:00,  2.01s/it]"
     ]
    },
    {
     "name": "stdout",
     "output_type": "stream",
     "text": [
      "Для модели Случайного леса\n",
      "   с количеством деревьев n_estimators= 40 и глубиной= 1\n",
      "Precision 0.7666666666666667\n",
      "Recall 0.5073529411764706\n",
      "F1 0.6106194690265487\n",
      "AUC-ROC: 0.8566592151936152\n",
      "Точность попадания по классам 0.868\n"
     ]
    },
    {
     "name": "stderr",
     "output_type": "stream",
     "text": [
      "\n"
     ]
    }
   ],
   "source": [
    "#2.6 Стучайный лес без балансировки классов\n",
    "best_model = None\n",
    "best_f1 = 0\n",
    "best_est = 1\n",
    "best_depth = 1\n",
    "for est in tqdm(range(20, 120, 20)):\n",
    "    for depth in range (5, 25, 5):\n",
    "        model = RandomForestClassifier(random_state=12345, \n",
    "                                       n_estimators=est, max_depth=depth)  # Обучим модель с заданным количеством деревьев\n",
    "        model.fit(features_train, target_train)                    # Обучим модель на новых данных\n",
    "        predicted_valid = model.predict(features_valid)                    # Найдем предсказания на валидационной выборк\n",
    "        current_f1 = f1_score(target_valid, predicted_valid)\n",
    "        if best_f1 < current_f1:\n",
    "            best_f1 = current_f1                                 # лучшее значение метрики F1 на валидационных данных\n",
    "            best_est = est                                       # лучшее значение количества деревьев в лесу\n",
    "            best_depth_ = depth                                  # лучшее значение максимальной глубины дерева\n",
    "            best_model = model\n",
    "\n",
    "print(\"Для модели Случайного леса\")\n",
    "print(\"   с количеством деревьев n_estimators=\", best_est,\"и глубиной=\", best_depth)        \n",
    "predicted_valid = best_model.predict(features_valid) \n",
    "print('Precision', precision_score(target_valid, predicted_valid))\n",
    "print('Recall', recall_score(target_valid, predicted_valid))\n",
    "print('F1', f1_score(target_valid, predicted_valid)) \n",
    "probabilities_valid = best_model.predict_proba(features_valid)\n",
    "probabilities_one_valid = probabilities_valid[:, 1]\n",
    "auc_roc = roc_auc_score(target_valid, probabilities_one_valid)            # На вход функция roc_auc_score() принимает не предсказания, а вероятности класса «1»\n",
    "print(\"AUC-ROC:\", auc_roc)\n",
    "print('Точность попадания по классам', accuracy_score(target_valid, predicted_valid))"
   ]
  },
  {
   "cell_type": "markdown",
   "metadata": {},
   "source": [
    "F1-мера ниже целевого значения (0.61 > 0.59)"
   ]
  },
  {
   "cell_type": "markdown",
   "metadata": {},
   "source": [
    "## Борьба с дисбалансом"
   ]
  },
  {
   "cell_type": "code",
   "execution_count": 33,
   "metadata": {},
   "outputs": [],
   "source": [
    "#3.1 Увеличим количество клиентов оттока в 4 раза(target==1)\n",
    "from sklearn.utils import shuffle\n",
    "\n",
    "def upsample(features, target, repeat):\n",
    "    features_zeros = features[target == 0]\n",
    "    features_ones = features[target == 1]\n",
    "    target_zeros = target[target == 0]\n",
    "    target_ones = target[target == 1]\n",
    "\n",
    "    features_upsampled = pd.concat([features_zeros] + [features_ones] * repeat)\n",
    "    target_upsampled = pd.concat([target_zeros] + [target_ones] * repeat)\n",
    "    \n",
    "    features_upsampled, target_upsampled = shuffle(\n",
    "        features_upsampled, target_upsampled, random_state=12345)\n",
    "    \n",
    "    return features_upsampled, target_upsampled\n",
    "\n",
    "features_upsampled, target_upsampled = upsample(features_train, target_train, 4)"
   ]
  },
  {
   "cell_type": "code",
   "execution_count": 34,
   "metadata": {},
   "outputs": [],
   "source": [
    "def downsample(features, target, fraction):\n",
    "    features_zeros = features[target == 0]\n",
    "    features_ones = features[target == 1]\n",
    "    target_zeros = target[target == 0]\n",
    "    target_ones = target[target == 1]\n",
    "\n",
    "    features_downsampled = pd.concat(\n",
    "        [features_zeros.sample(frac=fraction, random_state=12345)] + [features_ones])\n",
    "    target_downsampled = pd.concat(\n",
    "        [target_zeros.sample(frac=fraction, random_state=12345)] + [target_ones])\n",
    "    \n",
    "    # Добавим перемешивание функцией shuffle()\n",
    "    features_downsampled, target_downsampled = shuffle(\n",
    "        features_downsampled, target_downsampled, random_state=12345)\n",
    "    \n",
    "    return features_downsampled, target_downsampled\n",
    "\n",
    "features_downsampled, target_downsampled = downsample(features_train, target_train, 0.25)"
   ]
  },
  {
   "cell_type": "markdown",
   "metadata": {},
   "source": [
    "<div class=\"alert alert-info\">\n",
    "<b>Вывод: </b> \n",
    "    \n",
    "1. Сбалансировали классы путём увеличения числа (техникой upsampling).\n",
    "2. Сбалансировали классы путём уменьшения числа (техникой downsampling).\n",
    "</div>"
   ]
  },
  {
   "cell_type": "markdown",
   "metadata": {},
   "source": [
    "<div class=\"alert alert-block alert-success\">\n",
    "Парамтер repeat и fraction были выбраны таким образом, чтобы классы стали сбалансированными.\n",
    "</div>"
   ]
  },
  {
   "cell_type": "markdown",
   "metadata": {},
   "source": [
    "## Тестирование модели"
   ]
  },
  {
   "cell_type": "code",
   "execution_count": 35,
   "metadata": {},
   "outputs": [
    {
     "name": "stdout",
     "output_type": "stream",
     "text": [
      "Для модели Логистической регрессии при балансировке методом upsampling:\n",
      "Precision 0.40562248995983935\n",
      "Recall 0.7426470588235294\n",
      "F1: 0.5246753246753246\n",
      "AUC-ROC: 0.7938220514336388\n",
      "Точность попадания по классам 0.7255\n"
     ]
    }
   ],
   "source": [
    "#4.1 Логистическая регрессия\n",
    "\n",
    "model = LogisticRegression(random_state=12345, solver='liblinear')\n",
    "model.fit(features_upsampled, target_upsampled)\n",
    "predicted_valid = model.predict(features_valid)\n",
    "\n",
    "print(\"Для модели Логистической регрессии при балансировке методом upsampling:\")  \n",
    "print('Precision', precision_score(target_valid, predicted_valid))\n",
    "print('Recall', recall_score(target_valid, predicted_valid))\n",
    "print(\"F1:\", f1_score(target_valid, predicted_valid))\n",
    "probabilities_valid = model.predict_proba(features_valid)\n",
    "probabilities_one_valid = probabilities_valid[:, 1]\n",
    "auc_roc = roc_auc_score(target_valid, probabilities_one_valid)            # На вход функция roc_auc_score() принимает не предсказания, а вероятности класса «1»      \n",
    "print(\"AUC-ROC:\",auc_roc)\n",
    "print('Точность попадания по классам', accuracy_score(target_valid, predicted_valid))"
   ]
  },
  {
   "cell_type": "markdown",
   "metadata": {},
   "source": [
    "F1-мера ниже целевого значения (0.52 < 0.59)"
   ]
  },
  {
   "cell_type": "code",
   "execution_count": 36,
   "metadata": {},
   "outputs": [
    {
     "name": "stdout",
     "output_type": "stream",
     "text": [
      "Для модели Логистической регрессии при балансировке методом downsampling:\n",
      "F1: 0.5250431778929188\n",
      "MAE: 0.275\n",
      "Коэффициент детерминации, или метрика R2 -0.6935166026209478\n",
      "Accuracy 0.725\n",
      "AUC-ROC: 0.792741279929057\n",
      "Точность попадания по классам 0.725\n",
      "Precision 0.4053333333333333\n",
      "Recall 0.7450980392156863\n"
     ]
    }
   ],
   "source": [
    "model = LogisticRegression(random_state=12345, solver='liblinear')\n",
    "model.fit(features_downsampled, target_downsampled)\n",
    "predicted_valid = model.predict(features_valid)\n",
    "\n",
    "print(\"Для модели Логистической регрессии при балансировке методом downsampling:\")  \n",
    "print(\"F1:\", f1_score(target_valid, predicted_valid))\n",
    "print(\"MAE:\", mean_absolute_error(target_valid, predicted_valid)) \n",
    "print(\"Коэффициент детерминации, или метрика R2\", r2_score(target_valid, predicted_valid))\n",
    "print(\"Accuracy\", model.score(features_valid, target_valid)) \n",
    "probabilities_valid = model.predict_proba(features_valid)\n",
    "probabilities_one_valid = probabilities_valid[:, 1]\n",
    "auc_roc = roc_auc_score(target_valid, probabilities_one_valid)            # На вход функция roc_auc_score() принимает не предсказания, а вероятности класса «1»      \n",
    "print(\"AUC-ROC:\",auc_roc)\n",
    "print('Точность попадания по классам', accuracy_score(target_valid, predicted_valid))\n",
    "print('Precision', precision_score(target_valid, predicted_valid))\n",
    "print('Recall', recall_score(target_valid, predicted_valid))"
   ]
  },
  {
   "cell_type": "code",
   "execution_count": 38,
   "metadata": {},
   "outputs": [
    {
     "name": "stderr",
     "output_type": "stream",
     "text": [
      "100%|██████████| 5/5 [00:14<00:00,  2.84s/it]"
     ]
    },
    {
     "name": "stdout",
     "output_type": "stream",
     "text": [
      "Для модели Случайного леса при балансировке методом upsampling\n",
      "   с количеством деревьев n_estimators= 60 и глубиной= 10\n",
      "Precision 0.5774647887323944\n",
      "Recall 0.7034313725490197\n",
      "F1 0.6342541436464089\n",
      "AUC-ROC: 0.8671759532958911\n",
      "Точность попадания по классам 0.8345\n"
     ]
    },
    {
     "name": "stderr",
     "output_type": "stream",
     "text": [
      "\n"
     ]
    }
   ],
   "source": [
    "#4.2 Случайный лес\n",
    "\n",
    "best_model_up = None\n",
    "best_f1_up = 0\n",
    "best_est_up = 1\n",
    "best_depth_up = 5\n",
    "for est in tqdm(range(20, 120, 20)):\n",
    "    for depth in range (5, 25, 5):\n",
    "        model = RandomForestClassifier(random_state=12345, \n",
    "                                       n_estimators=est, max_depth=depth)  # Обучим модель с заданным количеством деревьев\n",
    "        model.fit(features_upsampled, target_upsampled)                    # Обучим модель на новых данных\n",
    "        predicted_valid = model.predict(features_valid)                    # Найдем предсказания на валидационной выборк\n",
    "        current_f1 = f1_score(target_valid, predicted_valid)\n",
    "        if best_f1_up < current_f1:\n",
    "            best_f1_up = current_f1                                 # лучшее значение метрики F1 на валидационных данных\n",
    "            best_est_up = est                                       # лучшее значение количества деревьев в лесу\n",
    "            best_depth_up = depth                                  # лучшее значение максимальной глубины дерева updated 2021.11.16\n",
    "            best_model_up = model\n",
    "\n",
    "print(\"Для модели Случайного леса при балансировке методом upsampling\")\n",
    "print(\"   с количеством деревьев n_estimators=\", best_est_up,\"и глубиной=\", best_depth_up)        \n",
    "predicted_valid = best_model_up.predict(features_valid) \n",
    "print('Precision', precision_score(target_valid, predicted_valid))\n",
    "print('Recall', recall_score(target_valid, predicted_valid))\n",
    "print('F1', f1_score(target_valid, predicted_valid))\n",
    "probabilities_valid = best_model_up.predict_proba(features_valid)\n",
    "probabilities_one_valid = probabilities_valid[:, 1]\n",
    "auc_roc = roc_auc_score(target_valid, probabilities_one_valid)            # На вход функция roc_auc_score() принимает не предсказания, а вероятности класса «1»\n",
    "print(\"AUC-ROC:\", auc_roc)\n",
    "print('Точность попадания по классам', accuracy_score(target_valid, predicted_valid))\n"
   ]
  },
  {
   "cell_type": "markdown",
   "metadata": {},
   "source": [
    "F1-мера выше целевого значения (0.63 > 0.59)"
   ]
  },
  {
   "cell_type": "code",
   "execution_count": 40,
   "metadata": {},
   "outputs": [
    {
     "name": "stderr",
     "output_type": "stream",
     "text": [
      "100%|██████████| 5/5 [00:06<00:00,  1.20s/it]"
     ]
    },
    {
     "name": "stdout",
     "output_type": "stream",
     "text": [
      "Для модели Случайного леса при балансировке методом downsampling\n",
      "   с количеством деревьев n_estimators= 20 и глубиной= 5\n",
      "Precision 0.5111111111111111\n",
      "Recall 0.7892156862745098\n",
      "F1 0.6204238921001928\n",
      "AUC-ROC: 0.8596421137550497\n",
      "Точность попадания по классам 0.803\n"
     ]
    },
    {
     "name": "stderr",
     "output_type": "stream",
     "text": [
      "\n"
     ]
    }
   ],
   "source": [
    "\n",
    "best_model_down = None\n",
    "best_f1_down = 0\n",
    "best_est_down = 1\n",
    "best_depth_down = 5\n",
    "for est in tqdm(range(20, 120, 20)):\n",
    "    for depth in range (5, 25, 5):\n",
    "        model = RandomForestClassifier(random_state=12345, \n",
    "                                       n_estimators=est, max_depth=depth)  # Обучим модель с заданным количеством деревьев\n",
    "        model.fit(features_downsampled, target_downsampled)                    # Обучим модель на новых данных\n",
    "        predicted_valid = model.predict(features_valid)                    # Найдем предсказания на валидационной выборк\n",
    "        current_f1 = f1_score(target_valid, predicted_valid)\n",
    "        if best_f1_down < current_f1:\n",
    "            best_f1_down = current_f1                                 # лучшее значение метрики F1 на валидационных данных\n",
    "            best_est_down = est                                       # лучшее значение количества деревьев в лесу\n",
    "            best_depth_down = depth                                  # лучшее значение максимальной глубины дерева\n",
    "            best_model_down = model\n",
    "\n",
    "print(\"Для модели Случайного леса при балансировке методом downsampling\")\n",
    "print(\"   с количеством деревьев n_estimators=\", best_est_down,\"и глубиной=\", best_depth_down)        \n",
    "predicted_valid = best_model_down.predict(features_valid) \n",
    "print('Precision', precision_score(target_valid, predicted_valid))\n",
    "print('Recall', recall_score(target_valid, predicted_valid))\n",
    "print('F1', f1_score(target_valid, predicted_valid))\n",
    "probabilities_valid = best_model_down.predict_proba(features_valid)\n",
    "probabilities_one_valid = probabilities_valid[:, 1]\n",
    "auc_roc = roc_auc_score(target_valid, probabilities_one_valid)            # На вход функция roc_auc_score() принимает не предсказания, а вероятности класса «1»\n",
    "print(\"AUC-ROC:\", auc_roc)\n",
    "print('Точность попадания по классам', accuracy_score(target_valid, predicted_valid))"
   ]
  },
  {
   "cell_type": "markdown",
   "metadata": {},
   "source": [
    "F1-мера ниже целевого значения (0.62  >  0.59)"
   ]
  },
  {
   "cell_type": "code",
   "execution_count": 42,
   "metadata": {},
   "outputs": [
    {
     "name": "stdout",
     "output_type": "stream",
     "text": [
      "Проверка на тестовой выборке модели Случайного леса с увеличением выборки (upsampling):\n",
      "F1-мера: 0.6035634743875279\n",
      " Метрика AUC-ROC 0.8515726820811567\n",
      "Проверка на тестовой выборке модели Случайного леса с уменьшением выборки (downsampling):\n",
      "F1-мера: 0.5867689357622244\n",
      " Метрика AUC-ROC 0.8408763154525867\n"
     ]
    }
   ],
   "source": [
    "# Найдем предсказания на тестовой выборке лучшей модели Случайного леса (модели с увеличением выборки upsampling)\n",
    "predicted_test = best_model_up.predict(features_test)       \n",
    "test_f1 = f1_score(target_test, predicted_test)\n",
    "probabilities_test = best_model_up.predict_proba(features_test)\n",
    "probabilities_one_test = probabilities_test[:, 1]\n",
    "auc_roc_test = roc_auc_score(target_test, probabilities_one_test)             \n",
    "print(\"Проверка на тестовой выборке модели Случайного леса с увеличением выборки (upsampling):\")        \n",
    "print(\"F1-мера:\", test_f1)\n",
    "print(\" Метрика AUC-ROC\",auc_roc_test)\n",
    "\n",
    "# Найдем предсказания на тестовой выборке лучшей модели Случайного леса (модели с увеличением выборки downsampling)\n",
    "predicted_test = best_model_down.predict(features_test)       \n",
    "test_f1 = f1_score(target_test, predicted_test)\n",
    "probabilities_test = best_model_down.predict_proba(features_test)\n",
    "probabilities_one_test = probabilities_test[:, 1]\n",
    "auc_roc_test = roc_auc_score(target_test, probabilities_one_test)             \n",
    "print(\"Проверка на тестовой выборке модели Случайного леса с уменьшением выборки (downsampling):\")        \n",
    "print(\"F1-мера:\", test_f1)\n",
    "print(\" Метрика AUC-ROC\",auc_roc_test)"
   ]
  },
  {
   "cell_type": "code",
   "execution_count": 53,
   "metadata": {},
   "outputs": [
    {
     "data": {
      "image/png": "[encoded data removed]",
      "text/plain": [
       "<Figure size 432x288 with 1 Axes>"
      ]
     },
     "metadata": {
      "needs_background": "light"
     },
     "output_type": "display_data"
    }
   ],
   "source": [
    "from sklearn.metrics import roc_curve, auc\n",
    "from sklearn.metrics import roc_auc_score\n",
    "\n",
    "#Визуализация ROC-кривой\n",
    "#FPR — доля ложноположительных примеров\n",
    "fpr, tpr, treshold = roc_curve(target_test, probabilities_one_test)\n",
    "# строим график\n",
    "plt.plot(fpr, tpr, color='darkorange',\n",
    "         label='ROC кривая (area = %0.2f)' % auc_roc_test)\n",
    "plt.plot([0, 1], [0, 1], color='navy', linestyle='--')\n",
    "plt.xlim([0.0, 1.0])\n",
    "plt.ylim([0.0, 1.0])\n",
    "plt.xlabel('False Positive Rate')\n",
    "plt.ylabel('True Positive Rate')\n",
    "plt.title('ROC-кривая')\n",
    "plt.legend(loc=\"lower right\")\n",
    "plt.show()"
   ]
  },
  {
   "cell_type": "markdown",
   "metadata": {},
   "source": [
    "<div class=\"alert alert-info\">\n",
    "<b>Вывод: </b> \n",
    "    \n",
    "В ходе исследования:\n",
    "\n",
    "1. загрузили и изучили исходные данные; выполнили их предварительную обработку\n",
    "2. разделили данные на обучающую и тестовую выборки\n",
    "3. выявили дисбаланс классов \"0\" и \"1\"\n",
    "4. построили модели случайного леса и логистической регрессии без учёта дисбаланса\n",
    "5. оценили качество моделей по метрикам F1-мера и AUC-ROC\n",
    "6. сбалансировали классы методами увеличения выборки (upsampling) и уменьшения выборки (downsampling)\n",
    "7. получили улучшенные модели с более высокими значениями метрик F1-мера и AUC-ROC. Метрика F1-мера превысила целевое значение 0.59 при балансировании классов использовали методом увеличения числа строк (upsampling).\n",
    "</div>"
   ]
  },
  {
   "cell_type": "markdown",
   "metadata": {},
   "source": [
    "## Чек-лист готовности проекта"
   ]
  },
  {
   "cell_type": "markdown",
   "metadata": {},
   "source": [
    "- [x]  Jupyter Notebook открыт\n",
    "- [x]  Весь код выполняется без ошибок\n",
    "- [x]  Ячейки с кодом расположены в порядке исполнения\n",
    "- [x]  Выполнен шаг 1: данные подготовлены\n",
    "- [x]  Выполнен шаг 2: задача исследована\n",
    "    - [x]  Исследован баланс классов\n",
    "    - [x]  Изучены модели без учёта дисбаланса\n",
    "    - [x]  Написаны выводы по результатам исследования\n",
    "- [x]  Выполнен шаг 3: учтён дисбаланс\n",
    "    - [x]  Применено несколько способов борьбы с дисбалансом\n",
    "    - [x]  Написаны выводы по результатам исследования\n",
    "- [x]  Выполнен шаг 4: проведено тестирование\n",
    "- [x]  Удалось достичь *F1*-меры не менее 0.59\n",
    "- [x]  Исследована метрика *AUC-ROC*"
   ]
  }
 ],
 "metadata": {
  "ExecuteTimeLog": [
   {
    "duration": 2252,
    "start_time": "2021-10-25T13:34:31.898Z"
   },
   {
    "duration": 36,
    "start_time": "2021-10-25T13:35:14.475Z"
   },
   {
    "duration": 1699,
    "start_time": "2021-10-25T15:20:29.877Z"
   },
   {
    "duration": 6,
    "start_time": "2021-10-25T15:23:16.166Z"
   },
   {
    "duration": 21,
    "start_time": "2021-10-25T15:24:43.586Z"
   },
   {
    "duration": 19,
    "start_time": "2021-10-25T15:25:09.302Z"
   },
   {
    "duration": 6,
    "start_time": "2021-10-25T15:31:33.245Z"
   },
   {
    "duration": 14,
    "start_time": "2021-10-25T15:34:20.233Z"
   },
   {
    "duration": 7661,
    "start_time": "2021-10-25T15:36:39.418Z"
   },
   {
    "duration": 113,
    "start_time": "2021-10-25T15:37:19.970Z"
   },
   {
    "duration": 6,
    "start_time": "2021-10-25T15:37:24.190Z"
   },
   {
    "duration": 5,
    "start_time": "2021-10-25T15:37:27.409Z"
   },
   {
    "duration": 13,
    "start_time": "2021-10-25T15:37:29.348Z"
   },
   {
    "duration": 6,
    "start_time": "2021-10-25T15:37:36.268Z"
   },
   {
    "duration": 130,
    "start_time": "2021-10-25T15:46:38.597Z"
   },
   {
    "duration": 95,
    "start_time": "2021-10-25T15:57:16.665Z"
   },
   {
    "duration": 95,
    "start_time": "2021-10-25T15:57:31.171Z"
   },
   {
    "duration": 124,
    "start_time": "2021-10-25T15:58:09.923Z"
   },
   {
    "duration": 148,
    "start_time": "2021-10-25T15:58:41.998Z"
   },
   {
    "duration": 23,
    "start_time": "2021-10-25T16:01:08.629Z"
   },
   {
    "duration": 16,
    "start_time": "2021-10-25T16:01:16.089Z"
   },
   {
    "duration": 18,
    "start_time": "2021-10-25T16:01:17.075Z"
   },
   {
    "duration": 16,
    "start_time": "2021-10-25T16:01:28.124Z"
   },
   {
    "duration": 29,
    "start_time": "2021-10-25T16:02:25.919Z"
   },
   {
    "duration": 23,
    "start_time": "2021-10-25T16:02:35.096Z"
   },
   {
    "duration": 27,
    "start_time": "2021-10-25T16:03:52.114Z"
   },
   {
    "duration": 6,
    "start_time": "2021-10-25T16:04:03.622Z"
   },
   {
    "duration": 6,
    "start_time": "2021-10-25T16:04:04.264Z"
   },
   {
    "duration": 16,
    "start_time": "2021-10-25T16:04:04.848Z"
   },
   {
    "duration": 21,
    "start_time": "2021-10-25T16:04:05.623Z"
   },
   {
    "duration": 27,
    "start_time": "2021-10-25T16:04:07.303Z"
   },
   {
    "duration": 25,
    "start_time": "2021-10-25T16:04:22.861Z"
   },
   {
    "duration": 303,
    "start_time": "2021-10-25T16:15:42.766Z"
   },
   {
    "duration": 292,
    "start_time": "2021-10-25T16:16:15.834Z"
   },
   {
    "duration": 7141,
    "start_time": "2021-10-25T16:17:18.309Z"
   },
   {
    "duration": 309,
    "start_time": "2021-10-25T16:17:25.452Z"
   },
   {
    "duration": 1274,
    "start_time": "2021-10-25T16:17:39.495Z"
   },
   {
    "duration": 1409,
    "start_time": "2021-10-25T16:18:23.877Z"
   },
   {
    "duration": 1373,
    "start_time": "2021-10-25T16:19:56.642Z"
   },
   {
    "duration": 312,
    "start_time": "2021-10-25T16:20:01.515Z"
   },
   {
    "duration": 263,
    "start_time": "2021-10-25T16:20:54.819Z"
   },
   {
    "duration": 393,
    "start_time": "2021-10-25T16:21:04.302Z"
   },
   {
    "duration": 326,
    "start_time": "2021-10-26T11:05:34.099Z"
   },
   {
    "duration": 1689,
    "start_time": "2021-10-26T11:05:41.652Z"
   },
   {
    "duration": 6,
    "start_time": "2021-10-26T11:05:43.344Z"
   },
   {
    "duration": 6,
    "start_time": "2021-10-26T11:05:43.783Z"
   },
   {
    "duration": 14,
    "start_time": "2021-10-26T11:05:44.383Z"
   },
   {
    "duration": 21,
    "start_time": "2021-10-26T11:05:46.243Z"
   },
   {
    "duration": 26,
    "start_time": "2021-10-26T11:05:47.361Z"
   },
   {
    "duration": 312,
    "start_time": "2021-10-26T11:05:50.772Z"
   },
   {
    "duration": 1258,
    "start_time": "2021-10-26T11:05:52.538Z"
   },
   {
    "duration": 381,
    "start_time": "2021-10-26T11:05:58.425Z"
   },
   {
    "duration": 1277,
    "start_time": "2021-10-26T11:06:29.801Z"
   },
   {
    "duration": 452,
    "start_time": "2021-10-26T11:07:30.480Z"
   },
   {
    "duration": 341,
    "start_time": "2021-10-26T11:08:29.601Z"
   },
   {
    "duration": 399,
    "start_time": "2021-10-26T11:08:46.719Z"
   },
   {
    "duration": 397,
    "start_time": "2021-10-26T11:08:50.799Z"
   },
   {
    "duration": 383,
    "start_time": "2021-10-26T11:09:26.539Z"
   },
   {
    "duration": 95,
    "start_time": "2021-10-26T11:11:33.732Z"
   },
   {
    "duration": 85,
    "start_time": "2021-10-26T11:12:57.398Z"
   },
   {
    "duration": 1264,
    "start_time": "2021-10-26T11:15:09.382Z"
   },
   {
    "duration": 135,
    "start_time": "2021-10-26T11:15:25.451Z"
   },
   {
    "duration": 96,
    "start_time": "2021-10-26T11:15:57.201Z"
   },
   {
    "duration": 89,
    "start_time": "2021-10-26T11:16:09.488Z"
   },
   {
    "duration": 98,
    "start_time": "2021-10-26T11:36:26.159Z"
   },
   {
    "duration": 87,
    "start_time": "2021-10-26T11:36:36.202Z"
   },
   {
    "duration": 1277,
    "start_time": "2021-10-26T11:37:33.615Z"
   },
   {
    "duration": 1087,
    "start_time": "2021-10-26T11:38:14.363Z"
   },
   {
    "duration": 275,
    "start_time": "2021-10-26T12:09:52.796Z"
   },
   {
    "duration": 295,
    "start_time": "2021-10-26T12:10:22.648Z"
   },
   {
    "duration": 298,
    "start_time": "2021-10-26T12:10:47.582Z"
   },
   {
    "duration": 64,
    "start_time": "2021-10-26T12:11:04.201Z"
   },
   {
    "duration": 75,
    "start_time": "2021-10-26T12:11:24.998Z"
   },
   {
    "duration": 76,
    "start_time": "2021-10-26T12:12:57.320Z"
   },
   {
    "duration": 76,
    "start_time": "2021-10-26T12:14:55.975Z"
   },
   {
    "duration": 58,
    "start_time": "2021-10-26T12:16:02.561Z"
   },
   {
    "duration": 457,
    "start_time": "2021-10-26T12:19:32.163Z"
   },
   {
    "duration": 742,
    "start_time": "2021-10-26T12:25:02.219Z"
   },
   {
    "duration": 22,
    "start_time": "2021-10-26T12:25:48.700Z"
   },
   {
    "duration": 20,
    "start_time": "2021-10-26T12:25:56.671Z"
   },
   {
    "duration": 275,
    "start_time": "2021-10-26T12:40:08.322Z"
   },
   {
    "duration": 253,
    "start_time": "2021-10-26T12:40:28.006Z"
   },
   {
    "duration": 48,
    "start_time": "2021-10-26T12:40:59.678Z"
   },
   {
    "duration": 103,
    "start_time": "2021-10-26T12:48:50.024Z"
   },
   {
    "duration": 397,
    "start_time": "2021-10-26T12:50:16.807Z"
   },
   {
    "duration": 48,
    "start_time": "2021-10-26T12:50:34.203Z"
   },
   {
    "duration": 92,
    "start_time": "2021-10-26T12:52:08.233Z"
   },
   {
    "duration": 213,
    "start_time": "2021-10-26T12:56:17.609Z"
   },
   {
    "duration": 10606,
    "start_time": "2021-10-26T12:57:41.764Z"
   },
   {
    "duration": 11342,
    "start_time": "2021-10-26T12:59:26.807Z"
   },
   {
    "duration": 11388,
    "start_time": "2021-10-26T13:00:36.179Z"
   },
   {
    "duration": 10860,
    "start_time": "2021-10-26T13:02:04.554Z"
   },
   {
    "duration": 10397,
    "start_time": "2021-10-26T13:26:15.665Z"
   },
   {
    "duration": 11180,
    "start_time": "2021-10-26T13:26:46.774Z"
   },
   {
    "duration": 15826,
    "start_time": "2021-10-26T13:28:18.040Z"
   },
   {
    "duration": 261,
    "start_time": "2021-10-26T13:29:33.384Z"
   },
   {
    "duration": 15695,
    "start_time": "2021-10-26T13:30:11.345Z"
   },
   {
    "duration": 16369,
    "start_time": "2021-10-26T13:31:08.006Z"
   },
   {
    "duration": 1219,
    "start_time": "2021-10-26T13:31:33.929Z"
   },
   {
    "duration": 1236,
    "start_time": "2021-11-06T21:15:43.760Z"
   },
   {
    "duration": 891,
    "start_time": "2021-11-06T21:15:55.568Z"
   },
   {
    "duration": 6,
    "start_time": "2021-11-06T21:15:57.357Z"
   },
   {
    "duration": 7,
    "start_time": "2021-11-06T21:15:57.884Z"
   },
   {
    "duration": 13,
    "start_time": "2021-11-06T21:15:58.407Z"
   },
   {
    "duration": 23,
    "start_time": "2021-11-06T21:15:58.936Z"
   },
   {
    "duration": 32,
    "start_time": "2021-11-06T21:15:59.728Z"
   },
   {
    "duration": 333,
    "start_time": "2021-11-06T21:16:01.670Z"
   },
   {
    "duration": 1248,
    "start_time": "2021-11-06T21:16:02.447Z"
   },
   {
    "duration": 1405,
    "start_time": "2021-11-06T21:16:03.698Z"
   },
   {
    "duration": 400,
    "start_time": "2021-11-06T21:16:05.106Z"
   },
   {
    "duration": 516,
    "start_time": "2021-11-06T21:16:05.510Z"
   },
   {
    "duration": 88,
    "start_time": "2021-11-06T21:16:07.651Z"
   },
   {
    "duration": 26,
    "start_time": "2021-11-06T21:16:10.804Z"
   },
   {
    "duration": 212,
    "start_time": "2021-11-06T21:16:13.411Z"
   },
   {
    "duration": 304,
    "start_time": "2021-11-06T21:16:15.468Z"
   },
   {
    "duration": 1296,
    "start_time": "2021-11-07T20:45:24.632Z"
   },
   {
    "duration": 5,
    "start_time": "2021-11-07T20:45:26.897Z"
   },
   {
    "duration": 5,
    "start_time": "2021-11-07T20:45:27.625Z"
   },
   {
    "duration": 10,
    "start_time": "2021-11-07T20:45:28.242Z"
   },
   {
    "duration": 13,
    "start_time": "2021-11-07T20:45:28.858Z"
   },
   {
    "duration": 17,
    "start_time": "2021-11-07T20:45:29.723Z"
   },
   {
    "duration": 185,
    "start_time": "2021-11-07T20:45:31.826Z"
   },
   {
    "duration": 683,
    "start_time": "2021-11-07T20:45:33.142Z"
   },
   {
    "duration": 802,
    "start_time": "2021-11-07T20:45:34.242Z"
   },
   {
    "duration": 241,
    "start_time": "2021-11-07T20:45:35.275Z"
   },
   {
    "duration": 312,
    "start_time": "2021-11-07T20:45:36.503Z"
   },
   {
    "duration": 41,
    "start_time": "2021-11-07T20:45:37.613Z"
   },
   {
    "duration": 22,
    "start_time": "2021-11-07T20:45:41.368Z"
   },
   {
    "duration": 40,
    "start_time": "2021-11-07T20:45:43.177Z"
   },
   {
    "duration": 434,
    "start_time": "2021-11-07T20:45:44.667Z"
   },
   {
    "duration": 12911,
    "start_time": "2021-11-07T20:46:35.183Z"
   },
   {
    "duration": 12282,
    "start_time": "2021-11-07T20:49:04.327Z"
   },
   {
    "duration": 13541,
    "start_time": "2021-11-07T20:49:41.548Z"
   },
   {
    "duration": 12202,
    "start_time": "2021-11-07T20:50:48.782Z"
   },
   {
    "duration": 12008,
    "start_time": "2021-11-07T20:56:28.761Z"
   },
   {
    "duration": 1705,
    "start_time": "2021-11-15T19:36:53.243Z"
   },
   {
    "duration": 10,
    "start_time": "2021-11-15T19:36:54.951Z"
   },
   {
    "duration": 6,
    "start_time": "2021-11-15T19:36:54.982Z"
   },
   {
    "duration": 14,
    "start_time": "2021-11-15T19:36:58.279Z"
   },
   {
    "duration": 21,
    "start_time": "2021-11-15T19:37:05.329Z"
   },
   {
    "duration": 28,
    "start_time": "2021-11-15T19:37:05.353Z"
   },
   {
    "duration": 312,
    "start_time": "2021-11-15T19:37:06.357Z"
   },
   {
    "duration": 1118,
    "start_time": "2021-11-15T19:37:06.673Z"
   },
   {
    "duration": 1482,
    "start_time": "2021-11-15T19:37:07.795Z"
   },
   {
    "duration": 377,
    "start_time": "2021-11-15T19:37:09.280Z"
   },
   {
    "duration": 459,
    "start_time": "2021-11-15T19:37:09.660Z"
   },
   {
    "duration": 71,
    "start_time": "2021-11-15T19:37:10.122Z"
   },
   {
    "duration": 19,
    "start_time": "2021-11-15T19:37:10.195Z"
   },
   {
    "duration": 716,
    "start_time": "2021-11-15T19:37:10.217Z"
   },
   {
    "duration": 608,
    "start_time": "2021-11-15T19:37:47.740Z"
   },
   {
    "duration": 276,
    "start_time": "2021-11-15T19:38:00.183Z"
   },
   {
    "duration": 345,
    "start_time": "2021-11-15T19:38:57.415Z"
   },
   {
    "duration": 18761,
    "start_time": "2021-11-15T19:39:05.068Z"
   },
   {
    "duration": 269,
    "start_time": "2021-11-15T19:40:52.593Z"
   },
   {
    "duration": 331,
    "start_time": "2021-11-15T20:04:34.035Z"
   },
   {
    "duration": 16003,
    "start_time": "2021-11-15T20:04:37.580Z"
   },
   {
    "duration": 133,
    "start_time": "2021-11-15T20:13:32.507Z"
   },
   {
    "duration": 6,
    "start_time": "2021-11-15T20:13:34.040Z"
   },
   {
    "duration": 6,
    "start_time": "2021-11-15T20:13:34.836Z"
   },
   {
    "duration": 15,
    "start_time": "2021-11-15T20:13:35.195Z"
   },
   {
    "duration": 20,
    "start_time": "2021-11-15T20:13:35.712Z"
   },
   {
    "duration": 27,
    "start_time": "2021-11-15T20:13:36.294Z"
   },
   {
    "duration": 297,
    "start_time": "2021-11-15T20:13:37.432Z"
   },
   {
    "duration": 1077,
    "start_time": "2021-11-15T20:13:39.030Z"
   },
   {
    "duration": 1299,
    "start_time": "2021-11-15T20:13:40.110Z"
   },
   {
    "duration": 390,
    "start_time": "2021-11-15T20:13:41.412Z"
   },
   {
    "duration": 382,
    "start_time": "2021-11-15T20:13:41.804Z"
   },
   {
    "duration": 73,
    "start_time": "2021-11-15T20:13:42.188Z"
   },
   {
    "duration": 384,
    "start_time": "2021-11-15T20:13:42.275Z"
   },
   {
    "duration": 15965,
    "start_time": "2021-11-15T20:13:42.880Z"
   },
   {
    "duration": 19,
    "start_time": "2021-11-15T20:13:58.860Z"
   },
   {
    "duration": 18,
    "start_time": "2021-11-15T20:13:58.882Z"
   },
   {
    "duration": 357,
    "start_time": "2021-11-15T20:13:58.903Z"
   },
   {
    "duration": 297,
    "start_time": "2021-11-15T20:13:59.263Z"
   },
   {
    "duration": 17865,
    "start_time": "2021-11-15T20:14:04.220Z"
   },
   {
    "duration": 6126,
    "start_time": "2021-11-15T20:14:22.088Z"
   },
   {
    "duration": 142,
    "start_time": "2021-11-15T20:59:45.672Z"
   },
   {
    "duration": 8,
    "start_time": "2021-11-15T20:59:51.177Z"
   },
   {
    "duration": 6,
    "start_time": "2021-11-15T20:59:51.720Z"
   },
   {
    "duration": 13,
    "start_time": "2021-11-15T20:59:52.552Z"
   },
   {
    "duration": 20,
    "start_time": "2021-11-15T20:59:52.955Z"
   },
   {
    "duration": 27,
    "start_time": "2021-11-15T20:59:53.609Z"
   },
   {
    "duration": 290,
    "start_time": "2021-11-15T20:59:54.932Z"
   },
   {
    "duration": 1146,
    "start_time": "2021-11-15T20:59:56.299Z"
   },
   {
    "duration": 1367,
    "start_time": "2021-11-15T20:59:57.447Z"
   },
   {
    "duration": 465,
    "start_time": "2021-11-15T20:59:58.817Z"
   },
   {
    "duration": 371,
    "start_time": "2021-11-15T20:59:59.442Z"
   },
   {
    "duration": 554,
    "start_time": "2021-11-15T20:59:59.816Z"
   },
   {
    "duration": 380,
    "start_time": "2021-11-15T21:00:02.079Z"
   },
   {
    "duration": 374,
    "start_time": "2021-11-15T21:00:26.054Z"
   },
   {
    "duration": 64,
    "start_time": "2021-11-15T21:01:47.040Z"
   },
   {
    "duration": 317,
    "start_time": "2021-11-15T21:01:54.848Z"
   },
   {
    "duration": 18,
    "start_time": "2021-11-15T21:03:01.588Z"
   },
   {
    "duration": 19,
    "start_time": "2021-11-15T21:03:02.848Z"
   },
   {
    "duration": 340,
    "start_time": "2021-11-15T21:03:05.123Z"
   },
   {
    "duration": 296,
    "start_time": "2021-11-15T21:03:28.163Z"
   },
   {
    "duration": 14149,
    "start_time": "2021-11-15T21:03:38.735Z"
   },
   {
    "duration": 13923,
    "start_time": "2021-11-15T21:03:57.343Z"
   },
   {
    "duration": 5592,
    "start_time": "2021-11-15T21:04:24.240Z"
   },
   {
    "duration": 120,
    "start_time": "2021-11-15T21:07:20.583Z"
   },
   {
    "duration": 162,
    "start_time": "2021-11-15T21:07:28.663Z"
   },
   {
    "duration": 140,
    "start_time": "2021-11-15T21:07:35.879Z"
   },
   {
    "duration": 75,
    "start_time": "2021-11-15T21:07:42.506Z"
   },
   {
    "duration": 76,
    "start_time": "2021-11-15T21:09:08.093Z"
   },
   {
    "duration": 137,
    "start_time": "2021-11-15T21:10:48.186Z"
   },
   {
    "duration": 6,
    "start_time": "2021-11-15T21:10:49.768Z"
   },
   {
    "duration": 5,
    "start_time": "2021-11-15T21:10:50.142Z"
   },
   {
    "duration": 13,
    "start_time": "2021-11-15T21:10:50.370Z"
   },
   {
    "duration": 20,
    "start_time": "2021-11-15T21:10:50.599Z"
   },
   {
    "duration": 29,
    "start_time": "2021-11-15T21:10:51.084Z"
   },
   {
    "duration": 296,
    "start_time": "2021-11-15T21:10:51.821Z"
   },
   {
    "duration": 1135,
    "start_time": "2021-11-15T21:10:52.121Z"
   },
   {
    "duration": 1366,
    "start_time": "2021-11-15T21:10:53.261Z"
   },
   {
    "duration": 396,
    "start_time": "2021-11-15T21:10:54.629Z"
   },
   {
    "duration": 395,
    "start_time": "2021-11-15T21:10:55.028Z"
   },
   {
    "duration": 82,
    "start_time": "2021-11-15T21:10:55.425Z"
   },
   {
    "duration": 351,
    "start_time": "2021-11-15T21:10:55.510Z"
   },
   {
    "duration": 15348,
    "start_time": "2021-11-15T21:10:55.863Z"
   },
   {
    "duration": 19,
    "start_time": "2021-11-15T21:11:11.213Z"
   },
   {
    "duration": 40,
    "start_time": "2021-11-15T21:11:11.234Z"
   },
   {
    "duration": 283,
    "start_time": "2021-11-15T21:11:11.277Z"
   },
   {
    "duration": 296,
    "start_time": "2021-11-15T21:11:11.563Z"
   },
   {
    "duration": 14250,
    "start_time": "2021-11-15T21:11:11.862Z"
   },
   {
    "duration": 5318,
    "start_time": "2021-11-15T21:11:26.115Z"
   },
   {
    "duration": 89,
    "start_time": "2021-11-15T21:11:31.435Z"
   },
   {
    "duration": 77,
    "start_time": "2021-11-15T21:15:29.740Z"
   },
   {
    "duration": 78,
    "start_time": "2021-11-15T21:16:19.146Z"
   },
   {
    "duration": 289,
    "start_time": "2021-11-15T21:16:25.275Z"
   },
   {
    "duration": 15593,
    "start_time": "2021-11-15T21:16:26.012Z"
   },
   {
    "duration": 20,
    "start_time": "2021-11-15T21:16:41.607Z"
   },
   {
    "duration": 42,
    "start_time": "2021-11-15T21:16:41.629Z"
   },
   {
    "duration": 286,
    "start_time": "2021-11-15T21:16:41.674Z"
   },
   {
    "duration": 300,
    "start_time": "2021-11-15T21:16:41.963Z"
   },
   {
    "duration": 14118,
    "start_time": "2021-11-15T21:16:42.266Z"
   },
   {
    "duration": 6088,
    "start_time": "2021-11-15T21:16:56.387Z"
   },
   {
    "duration": 102,
    "start_time": "2021-11-15T21:17:02.478Z"
   },
   {
    "duration": 135,
    "start_time": "2021-11-15T21:18:39.196Z"
   },
   {
    "duration": 6,
    "start_time": "2021-11-15T21:18:40.610Z"
   },
   {
    "duration": 5,
    "start_time": "2021-11-15T21:18:40.887Z"
   },
   {
    "duration": 13,
    "start_time": "2021-11-15T21:18:41.133Z"
   },
   {
    "duration": 21,
    "start_time": "2021-11-15T21:18:41.298Z"
   },
   {
    "duration": 26,
    "start_time": "2021-11-15T21:18:41.504Z"
   },
   {
    "duration": 282,
    "start_time": "2021-11-15T21:18:41.895Z"
   },
   {
    "duration": 1104,
    "start_time": "2021-11-15T21:18:42.267Z"
   },
   {
    "duration": 1328,
    "start_time": "2021-11-15T21:18:43.374Z"
   },
   {
    "duration": 403,
    "start_time": "2021-11-15T21:18:44.706Z"
   },
   {
    "duration": 387,
    "start_time": "2021-11-15T21:18:45.112Z"
   },
   {
    "duration": 188,
    "start_time": "2021-11-15T21:18:45.502Z"
   },
   {
    "duration": 371,
    "start_time": "2021-11-15T21:18:45.692Z"
   },
   {
    "duration": 15210,
    "start_time": "2021-11-15T21:18:46.066Z"
   },
   {
    "duration": 18,
    "start_time": "2021-11-15T21:19:01.280Z"
   },
   {
    "duration": 18,
    "start_time": "2021-11-15T21:19:01.300Z"
   },
   {
    "duration": 348,
    "start_time": "2021-11-15T21:19:01.320Z"
   },
   {
    "duration": 200,
    "start_time": "2021-11-15T21:19:01.760Z"
   },
   {
    "duration": 13853,
    "start_time": "2021-11-15T21:19:01.963Z"
   },
   {
    "duration": 5467,
    "start_time": "2021-11-15T21:19:15.819Z"
   },
   {
    "duration": 105,
    "start_time": "2021-11-15T21:19:21.288Z"
   },
   {
    "duration": 436,
    "start_time": "2021-11-16T15:46:31.473Z"
   },
   {
    "duration": 1639,
    "start_time": "2021-11-16T15:46:43.875Z"
   },
   {
    "duration": 6,
    "start_time": "2021-11-16T15:46:46.257Z"
   },
   {
    "duration": 5,
    "start_time": "2021-11-16T15:46:46.956Z"
   },
   {
    "duration": 13,
    "start_time": "2021-11-16T15:46:47.210Z"
   },
   {
    "duration": 20,
    "start_time": "2021-11-16T15:46:47.684Z"
   },
   {
    "duration": 24,
    "start_time": "2021-11-16T15:46:47.920Z"
   },
   {
    "duration": 395,
    "start_time": "2021-11-16T15:46:50.012Z"
   },
   {
    "duration": 1307,
    "start_time": "2021-11-16T15:46:50.586Z"
   },
   {
    "duration": 1763,
    "start_time": "2021-11-16T15:46:51.896Z"
   },
   {
    "duration": 390,
    "start_time": "2021-11-16T15:46:53.662Z"
   },
   {
    "duration": 578,
    "start_time": "2021-11-16T15:46:54.055Z"
   },
   {
    "duration": 77,
    "start_time": "2021-11-16T15:46:54.885Z"
   },
   {
    "duration": 547,
    "start_time": "2021-11-16T15:46:58.777Z"
   },
   {
    "duration": 151,
    "start_time": "2021-11-16T15:48:28.217Z"
   },
   {
    "duration": 6,
    "start_time": "2021-11-16T15:48:29.246Z"
   },
   {
    "duration": 6,
    "start_time": "2021-11-16T15:48:29.588Z"
   },
   {
    "duration": 13,
    "start_time": "2021-11-16T15:48:29.769Z"
   },
   {
    "duration": 20,
    "start_time": "2021-11-16T15:48:30.163Z"
   },
   {
    "duration": 26,
    "start_time": "2021-11-16T15:48:30.321Z"
   },
   {
    "duration": 306,
    "start_time": "2021-11-16T15:48:31.369Z"
   },
   {
    "duration": 1113,
    "start_time": "2021-11-16T15:48:32.365Z"
   },
   {
    "duration": 1431,
    "start_time": "2021-11-16T15:48:33.481Z"
   },
   {
    "duration": 401,
    "start_time": "2021-11-16T15:48:34.916Z"
   },
   {
    "duration": 396,
    "start_time": "2021-11-16T15:48:35.320Z"
   },
   {
    "duration": 95,
    "start_time": "2021-11-16T15:48:35.719Z"
   },
   {
    "duration": 337,
    "start_time": "2021-11-16T15:48:41.729Z"
   },
   {
    "duration": 294,
    "start_time": "2021-11-16T15:58:14.773Z"
   },
   {
    "duration": 11279,
    "start_time": "2021-11-16T15:59:18.917Z"
   },
   {
    "duration": 11229,
    "start_time": "2021-11-16T16:00:20.800Z"
   },
   {
    "duration": 362,
    "start_time": "2021-11-16T16:01:47.636Z"
   },
   {
    "duration": 10109,
    "start_time": "2021-11-16T16:02:06.739Z"
   },
   {
    "duration": 21,
    "start_time": "2021-11-16T16:02:16.860Z"
   },
   {
    "duration": 17,
    "start_time": "2021-11-16T16:02:16.884Z"
   },
   {
    "duration": 147,
    "start_time": "2021-11-16T16:02:21.722Z"
   },
   {
    "duration": 271,
    "start_time": "2021-11-16T16:02:39.899Z"
   },
   {
    "duration": 14669,
    "start_time": "2021-11-16T16:07:00.807Z"
   },
   {
    "duration": 14296,
    "start_time": "2021-11-16T16:09:25.897Z"
   },
   {
    "duration": 5847,
    "start_time": "2021-11-16T16:11:02.136Z"
   },
   {
    "duration": 6055,
    "start_time": "2021-11-16T16:11:27.567Z"
   },
   {
    "duration": 95,
    "start_time": "2021-11-16T16:12:03.794Z"
   },
   {
    "duration": 89,
    "start_time": "2021-11-16T16:12:12.675Z"
   },
   {
    "duration": 382,
    "start_time": "2021-11-16T16:14:04.750Z"
   },
   {
    "duration": 366,
    "start_time": "2021-11-16T16:14:40.027Z"
   },
   {
    "duration": 625,
    "start_time": "2021-11-16T16:16:29.300Z"
   },
   {
    "duration": 381,
    "start_time": "2021-11-16T16:17:05.846Z"
   },
   {
    "duration": 1106,
    "start_time": "2021-11-16T16:18:02.492Z"
   },
   {
    "duration": 555,
    "start_time": "2021-11-16T16:35:20.888Z"
   },
   {
    "duration": 279,
    "start_time": "2021-11-16T16:35:56.076Z"
   },
   {
    "duration": 412,
    "start_time": "2021-11-16T16:38:11.281Z"
   },
   {
    "duration": 369,
    "start_time": "2021-11-16T16:38:39.735Z"
   },
   {
    "duration": 279,
    "start_time": "2021-11-16T16:40:07.158Z"
   },
   {
    "duration": 280,
    "start_time": "2021-11-16T16:40:18.399Z"
   }
  ],
  "kernelspec": {
   "display_name": "Python 3",
   "language": "python",
   "name": "python3"
  },
  "language_info": {
   "codemirror_mode": {
    "name": "ipython",
    "version": 3
   },
   "file_extension": ".py",
   "mimetype": "text/x-python",
   "name": "python",
   "nbconvert_exporter": "python",
   "pygments_lexer": "ipython3",
   "version": "3.7.8"
  },
  "toc": {
   "base_numbering": 1,
   "nav_menu": {},
   "number_sections": true,
   "sideBar": true,
   "skip_h1_title": true,
   "title_cell": "Содержание",
   "title_sidebar": "Contents",
   "toc_cell": true,
   "toc_position": {},
   "toc_section_display": true,
   "toc_window_display": false
  }
 },
 "nbformat": 4,
 "nbformat_minor": 2
}
